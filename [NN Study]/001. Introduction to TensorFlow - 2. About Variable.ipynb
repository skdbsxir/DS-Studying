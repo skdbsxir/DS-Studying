{
 "cells": [
  {
   "cell_type": "markdown",
   "metadata": {},
   "source": [
    "## Variable\n",
    "\n",
    "<br>\n",
    "\n",
    "- 우리가 아는 그 변수.\n",
    "- 보통 int a, char b 이런식으로 선언했지만, TensorFlow에선 tf.Variable()을 통해 선언해야 함.\n",
    "- 기존 언어의 자료형과 마찬가지로 Bool-Type, Complex-Type을 가질 수 있음."
   ]
  },
  {
   "cell_type": "code",
   "execution_count": 1,
   "metadata": {},
   "outputs": [],
   "source": [
    "import tensorflow as tf"
   ]
  },
  {
   "cell_type": "code",
   "execution_count": 3,
   "metadata": {},
   "outputs": [
    {
     "name": "stdout",
     "output_type": "stream",
     "text": [
      "변수의 형태 :  (2, 2)\n",
      "자료형 :  <dtype: 'float32'>\n",
      "넘파이로 변환?  <bound method BaseResourceVariable.numpy of <tf.Variable 'Variable:0' shape=(2, 2) dtype=float32, numpy=\n",
      "array([[1., 2.],\n",
      "       [3., 4.]], dtype=float32)>>\n"
     ]
    }
   ],
   "source": [
    "myTensor = tf.constant([[1.0, 2.0], [3.0, 4.0]]) # constant 선언\n",
    "myVariable = tf.Variable(myTensor) # Variable 선언\n",
    "\n",
    "print('변수의 형태 : ', myVariable.shape)\n",
    "print('자료형 : ', myVariable.dtype)\n",
    "print('넘파이로 변환? ', myVariable.numpy)"
   ]
  },
  {
   "cell_type": "code",
   "execution_count": 4,
   "metadata": {},
   "outputs": [
    {
     "name": "stdout",
     "output_type": "stream",
     "text": [
      "<tf.Variable 'Variable:0' shape=(2, 2) dtype=float32, numpy=\n",
      "array([[1., 2.],\n",
      "       [3., 4.]], dtype=float32)>\n",
      "\n",
      "텐서로 변환 :  tf.Tensor(\n",
      "[[1. 2.]\n",
      " [3. 4.]], shape=(2, 2), dtype=float32)\n",
      "\n",
      "복사 후 reshaping :  tf.Tensor([[1. 2. 3. 4.]], shape=(1, 4), dtype=float32)\n"
     ]
    }
   ],
   "source": [
    "# 변수 재 구성은 할 수 없지만, 대부분의 텐서 연산도 변수에 대해 작동함.\n",
    "print(myVariable)\n",
    "print('\\n텐서로 변환 : ', tf.convert_to_tensor(myVariable))\n",
    "print('\\n복사 후 reshaping : ', tf.reshape(myVariable, ([1,4]))) # 새 텐서를 만듬. 기존 텐서 변형 X."
   ]
  },
  {
   "cell_type": "code",
   "execution_count": 6,
   "metadata": {},
   "outputs": [
    {
     "name": "stdout",
     "output_type": "stream",
     "text": [
      "<tf.Variable 'Variable:0' shape=(2,) dtype=float32, numpy=array([1., 2.], dtype=float32)> \n",
      "\n",
      "ValueError : Shapes (2,) and (3,) are incompatible\n"
     ]
    }
   ],
   "source": [
    "# assign 을 이용해 텐서를 재 할당 할 수 있음. \n",
    "# 새 텐서가 할당되는 것이 아님. 기존 텐서의 메모리가 재사용 됨.\n",
    "a = tf.Variable([2.0, 3.0])\n",
    "a.assign([1, 2]) # 2.0 3.0 --> 1.0 2.0 으로 재 할당 됨. \n",
    "print(a, '\\n')\n",
    "\n",
    "# 크기 변형은 안된다.\n",
    "try:\n",
    "    a.assign([1.0, 2.0, 3.0])\n",
    "except Exception as e:\n",
    "    print(f'{type(e).__name__} : {e}')"
   ]
  },
  {
   "cell_type": "code",
   "execution_count": 8,
   "metadata": {},
   "outputs": [
    {
     "name": "stdout",
     "output_type": "stream",
     "text": [
      "[5. 6.]\n",
      "[2. 3.]\n",
      "[7. 9.]\n",
      "[ 9. 12.]\n"
     ]
    }
   ],
   "source": [
    "a = tf.Variable([2.0, 3.0])\n",
    "b = tf.Variable(a) # a 값을 기준으로 하는 새 변수 생성.\n",
    "a.assign([5, 6]) # b 선언 후 a 값을 재할당?\n",
    "\n",
    "# a만 바뀌었음. 흐름상으로 보면 당연한 이야기.\n",
    "# 좀 더 고급스럽게 얘기하면, 두 변수는 같은 메모리 공간을 공유하지 않음.\n",
    "# 먼저 선언된 a를 복제해서 b를 만든 것.\n",
    "print(a.numpy())\n",
    "print(b.numpy()) \n",
    "\n",
    "# 연산을 바로 적용시켜 할당할 수도 있음.\n",
    "a.assign_add([2,3])\n",
    "b.assign_add([7,9])\n",
    "print(a.numpy())\n",
    "print(b.numpy())"
   ]
  },
  {
   "cell_type": "markdown",
   "metadata": {},
   "source": [
    "**수명주기**  <br>\n",
    "- 일반적으로 Python 객체와 같은 수명주기를 가짐.\n",
    "- 변수에 대한 참조가 없으면 자동으로 할당 해제.\n",
    "- **변수에 이름을 지정**해 디버깅 하는데 도움을 받을 수도 있음. \n",
    "    - 이때 이름은 중복될 수도 있다."
   ]
  },
  {
   "cell_type": "code",
   "execution_count": 9,
   "metadata": {},
   "outputs": [
    {
     "name": "stdout",
     "output_type": "stream",
     "text": [
      "tf.Tensor(\n",
      "[[False False]\n",
      " [False False]], shape=(2, 2), dtype=bool)\n"
     ]
    }
   ],
   "source": [
    "a = tf.Variable(myTensor, name='Kim')\n",
    "b = tf.Variable(myTensor+1, name='Kim')\n",
    "\n",
    "print(a == b) # elementwise unequal 하므로 모두 False가 나옴."
   ]
  },
  {
   "cell_type": "markdown",
   "metadata": {},
   "source": [
    "**변수 및 텐서 배치**  <br>\n",
    "- 텐서를 CPU, GPU에 배치해서 빠른 연산이 가능함."
   ]
  },
  {
   "cell_type": "code",
   "execution_count": 12,
   "metadata": {},
   "outputs": [
    {
     "name": "stdout",
     "output_type": "stream",
     "text": [
      "tf.Tensor(\n",
      "[[22 28]\n",
      " [49 64]], shape=(2, 2), dtype=int32)\n",
      "tf.Tensor(\n",
      "[[ 1  4  9]\n",
      " [ 4 10 18]], shape=(2, 3), dtype=int32)\n"
     ]
    }
   ],
   "source": [
    "with tf.device('CPU:0'):\n",
    "    # 임의이 텐서 생성\n",
    "    a = tf.Variable([[1,2,3], [4,5,6]])\n",
    "    b = tf.constant([[1,2], [3,4], [5,6]])\n",
    "    x = tf.Variable([[1,2,3], [4,5,6]])\n",
    "    y = tf.Variable([[1,2,3]])\n",
    "    c = tf.matmul(a, b)\n",
    "print(c)  \n",
    "\n",
    "# 연산할 변수를 다른 기기에 등록해 수행할 수도 있음.\n",
    "with tf.device('GPU:0'):\n",
    "    k = x * y\n",
    "print(k)"
   ]
  },
  {
   "cell_type": "code",
   "execution_count": null,
   "metadata": {},
   "outputs": [],
   "source": []
  }
 ],
 "metadata": {
  "kernelspec": {
   "display_name": "Python 3",
   "language": "python",
   "name": "python3"
  },
  "language_info": {
   "codemirror_mode": {
    "name": "ipython",
    "version": 3
   },
   "file_extension": ".py",
   "mimetype": "text/x-python",
   "name": "python",
   "nbconvert_exporter": "python",
   "pygments_lexer": "ipython3",
   "version": "3.7.1"
  }
 },
 "nbformat": 4,
 "nbformat_minor": 2
}

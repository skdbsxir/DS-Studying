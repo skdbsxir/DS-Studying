{
 "cells": [
  {
   "cell_type": "markdown",
   "id": "4029522d",
   "metadata": {},
   "source": [
    "# FastText\n",
    "\n",
    "<br>\n",
    "\n",
    "- **Word2Vec의 확장**으로 볼 수 있음.\n",
    "- 차이점? Word2Vec은 단어를 쪼개질 수 없는 단위로 생각하는 반면, **FastText는 하나의 단어 안에도 여러 단어들이 존재하는 것으로 간주.**\n",
    "    - **내부 단어 (subword)를 고려**해 학습."
   ]
  },
  {
   "cell_type": "markdown",
   "id": "7ef34ff3",
   "metadata": {},
   "source": [
    "## 내부 단어(subword)의 학습\n",
    "\n",
    "<br>\n",
    "\n",
    "- FastText에선 **각 단어를 글자 단위 n-gram의 구성으로 취급.**\n",
    "    - n을 몇으로 결정하는지에 따라 단어들이 얼마나 분리되는지 결정됨.\n",
    "    - ***시작과 끝을 의미하는 <, > 를 도입.*** 예시를 보자.\n",
    "\n",
    "```{.python}\n",
    "# apple에 대해 n = 3인 경우, 단어 분리 후 벡터 생성\n",
    "<ap, app, ppl, ple, le>\n",
    "```\n",
    "- 추가적으로 **기존 단어에 <, >를 붙인 토큰을 하나 더 벡터화** 함. **특별 토큰**.\n",
    "```{.python}\n",
    "# 특별토큰\n",
    "<apple>\n",
    "```\n",
    "- 즉, n=3인 경우 FastText는 *단어 apple에 대해 5개의 일반 토큰과 1개의 특별 토큰을 벡터화* 한다.\n",
    "```{.python}\n",
    "<ap, app, ppl, ple, le>, <apple>\n",
    "```\n",
    "\n",
    "<br>\n",
    "\n",
    "- 실 사용시엔 n의 최소값과 최대값으로 범위를 설정할 수 있음. default는 3,6.\n",
    "    - 최소값 = 3, 최대값 = 6인 경우, apple에 대해 FastText는 다음과 같은 단어들을 벡터화 한다.\n",
    "    ```{.python}\n",
    "    # n = 3 ~ 6 인 경우\n",
    "    <ap, app, ppl, ppl, le>, <app, appl, pple, ple>, <appl, pple>, ... , <apple>\n",
    "    ```\n",
    "    - **내부 단어를 벡터화 한다는 의미는 이 단어들에 대해 Word2Vec을 수행한다**는 의미.\n",
    "    - 내부 단어들의 벡터값을 얻었다면, apple의 벡터값은 위의 **벡터값들의 총 합**으로 구성.\n",
    "    ```{.python}\n",
    "    apple = <ap + app + ppl + ppl + le> + <app + appl + , ..., +<apple> \n",
    "    ```\n",
    "- 이런 방법은 Word2Vec에선 가질 수 없었던 강점을 가지게 됨."
   ]
  },
  {
   "cell_type": "markdown",
   "id": "73fcc628",
   "metadata": {},
   "source": [
    "## 모르는 단어(Out Of Vocabulary, OOV)에 대한 대응\n",
    "\n",
    "<br>\n",
    "\n",
    "- FastText의 신경망을 학습한 후엔, 데이터 셋의 모든 단어의 각 n-gram에 대해 워드 임베딩이 진행됨.\n",
    "- Word2Vec(and GloVe)에 비해 생기는 강점이 뭘까?\n",
    "    - 데이터 셋만 충분하다면, **내부단어를 통해 모르는 단어에 대해서도 다른 단어와의 유사도 계산이 가능.**\n",
    "    - birthplace라는 단어를 학습하지 않은 상태라고 해보자.\n",
    "    - 다른 단어에서 ***birth와 place라는 내부 단어***가 있다면,\n",
    "    - FastText는 **birthplace의 벡터를 얻을 수 있다.**"
   ]
  },
  {
   "cell_type": "markdown",
   "id": "b40ec5e2",
   "metadata": {},
   "source": [
    "## 단어 집합 내 빈도수가 적었던 단어(Rare Word)에 대한 대응\n",
    "\n",
    "<br>\n",
    "\n",
    "- Word2Vec은 등장 빈도수가 적은 단어에 대해서 임베딩 정확도가 높지 않았었음.\n",
    "    - **참고할 수 있는 경우의 수가 적다보니 정확하게 임베딩이 되지 않았던 것.**\n",
    "- FastText는 **단어가 희귀 단어라도, 그 단어의 n-gram이 다른 단어의 n-gram과 겹치는 경우**라면\n",
    "- Word2Vec과 비교했을 때 **비교적 높은 임베딩 벡터 값을 얻을 수 있음.**\n",
    "\n",
    "<br>\n",
    "\n",
    "- 이런 점 때문에 FastText는 **노이즈가 많은 말뭉치에서 강점**을 갖게 됨.\n",
    "- 실제 많은 비정형 데이터엔 오타나 맞춤법이 틀린 단어가 많이 섞여있음.\n",
    "    - ***이런 단어들은 당연히 등장 빈도수가 매우 적음.*** 일종의 희귀 단어.\n",
    "    - Word2Vec에서 이런 단어는 임베딩이 제대로 안됐지만, FastText는 일정 수준의 성능을 보여줌."
   ]
  },
  {
   "cell_type": "markdown",
   "id": "4e8fdf4b",
   "metadata": {},
   "source": [
    "## Word2Vec vs. FastText 간단 비교\n",
    "\n",
    "<br>\n",
    "\n",
    "- 이전에 썼던 ted xml파일 그대로 사용. 다시 코드 쓰자 ㅠ"
   ]
  },
  {
   "cell_type": "code",
   "execution_count": 1,
   "id": "7ff886be",
   "metadata": {
    "ExecuteTime": {
     "end_time": "2021-08-18T01:38:58.260407Z",
     "start_time": "2021-08-18T01:38:56.542000Z"
    }
   },
   "outputs": [
    {
     "name": "stderr",
     "output_type": "stream",
     "text": [
      "[nltk_data] Downloading package punkt to C:\\Users\\Cheol Hee\n",
      "[nltk_data]     Kim\\AppData\\Roaming\\nltk_data...\n",
      "[nltk_data]   Package punkt is already up-to-date!\n"
     ]
    },
    {
     "data": {
      "text/plain": [
       "True"
      ]
     },
     "execution_count": 1,
     "metadata": {},
     "output_type": "execute_result"
    }
   ],
   "source": [
    "import re\n",
    "import nltk\n",
    "from nltk.tokenize import word_tokenize, sent_tokenize\n",
    "from lxml import etree\n",
    "import warnings\n",
    "\n",
    "warnings.filterwarnings(action='ignore')\n",
    "nltk.download('punkt')"
   ]
  },
  {
   "cell_type": "code",
   "execution_count": 3,
   "id": "29fd4ea5",
   "metadata": {
    "ExecuteTime": {
     "end_time": "2021-08-18T01:40:56.848832Z",
     "start_time": "2021-08-18T01:39:58.119154Z"
    }
   },
   "outputs": [
    {
     "name": "stdout",
     "output_type": "stream",
     "text": [
      "총 샘플 수 : 273424\n"
     ]
    }
   ],
   "source": [
    "targetXML = open('ted_en-20160408.xml', 'r', encoding='UTF8')\n",
    "targetText = etree.parse(targetXML)\n",
    "\n",
    "# context block 내용만 추출,\n",
    "# regex써서 괄호 배경음 부분 제거.\n",
    "parseText = '\\n'.join(targetText.xpath('//content/text()'))\n",
    "contentText = re.sub(r'\\([^)]*\\)', '', parseText)\n",
    "\n",
    "# 입력 corpus에 대해 NLTK를 통해 문장 토큰화 진행 (불용어 제거)\n",
    "sentText = sent_tokenize(contentText)\n",
    "\n",
    "# 구두점 제거, 대문자->소문자 변환.\n",
    "normalizedText = []\n",
    "for text in sentText:\n",
    "    tokens = re.sub(r\"^a-z0-9\", \" \", text.lower())\n",
    "    normalizedText.append(tokens)\n",
    "    \n",
    "# 각 문장 토큰화 진행\n",
    "result = [word_tokenize(sentence) for sentence in normalizedText]\n",
    "\n",
    "print('총 샘플 수 : {}'.format(len(result)))"
   ]
  },
  {
   "cell_type": "markdown",
   "id": "533bb011",
   "metadata": {},
   "source": [
    "### Word2Vec Model"
   ]
  },
  {
   "cell_type": "code",
   "execution_count": 4,
   "id": "e8bb99d1",
   "metadata": {
    "ExecuteTime": {
     "end_time": "2021-08-18T01:42:55.840686Z",
     "start_time": "2021-08-18T01:42:38.499043Z"
    }
   },
   "outputs": [],
   "source": [
    "from gensim.models import Word2Vec\n",
    "\n",
    "model = Word2Vec(\n",
    "    sentences = result,\n",
    "    vector_size = 100,\n",
    "    window = 5,\n",
    "    min_count = 5,\n",
    "    workers = 4,\n",
    "    sg = 0\n",
    ")"
   ]
  },
  {
   "cell_type": "code",
   "execution_count": 5,
   "id": "8bc68d48",
   "metadata": {
    "ExecuteTime": {
     "end_time": "2021-08-18T01:43:49.970323Z",
     "start_time": "2021-08-18T01:43:49.455597Z"
    }
   },
   "outputs": [
    {
     "ename": "KeyError",
     "evalue": "\"Key 'electrofishing' not present\"",
     "output_type": "error",
     "traceback": [
      "\u001b[1;31m---------------------------------------------------------------------------\u001b[0m",
      "\u001b[1;31mKeyError\u001b[0m                                  Traceback (most recent call last)",
      "\u001b[1;32mC:\\Users\\CHEOLH~1\\AppData\\Local\\Temp/ipykernel_11992/1450797880.py\u001b[0m in \u001b[0;36m<module>\u001b[1;34m\u001b[0m\n\u001b[1;32m----> 1\u001b[1;33m \u001b[0mmodel\u001b[0m\u001b[1;33m.\u001b[0m\u001b[0mwv\u001b[0m\u001b[1;33m.\u001b[0m\u001b[0mmost_similar\u001b[0m\u001b[1;33m(\u001b[0m\u001b[1;34m'electrofishing'\u001b[0m\u001b[1;33m)\u001b[0m\u001b[1;33m\u001b[0m\u001b[1;33m\u001b[0m\u001b[0m\n\u001b[0m",
      "\u001b[1;32mC:\\ProgramData\\Anaconda3\\envs\\WorkBase\\lib\\site-packages\\gensim\\models\\keyedvectors.py\u001b[0m in \u001b[0;36mmost_similar\u001b[1;34m(self, positive, negative, topn, clip_start, clip_end, restrict_vocab, indexer)\u001b[0m\n\u001b[0;32m    760\u001b[0m                 \u001b[0mmean\u001b[0m\u001b[1;33m.\u001b[0m\u001b[0mappend\u001b[0m\u001b[1;33m(\u001b[0m\u001b[0mweight\u001b[0m \u001b[1;33m*\u001b[0m \u001b[0mkey\u001b[0m\u001b[1;33m)\u001b[0m\u001b[1;33m\u001b[0m\u001b[1;33m\u001b[0m\u001b[0m\n\u001b[0;32m    761\u001b[0m             \u001b[1;32melse\u001b[0m\u001b[1;33m:\u001b[0m\u001b[1;33m\u001b[0m\u001b[1;33m\u001b[0m\u001b[0m\n\u001b[1;32m--> 762\u001b[1;33m                 \u001b[0mmean\u001b[0m\u001b[1;33m.\u001b[0m\u001b[0mappend\u001b[0m\u001b[1;33m(\u001b[0m\u001b[0mweight\u001b[0m \u001b[1;33m*\u001b[0m \u001b[0mself\u001b[0m\u001b[1;33m.\u001b[0m\u001b[0mget_vector\u001b[0m\u001b[1;33m(\u001b[0m\u001b[0mkey\u001b[0m\u001b[1;33m,\u001b[0m \u001b[0mnorm\u001b[0m\u001b[1;33m=\u001b[0m\u001b[1;32mTrue\u001b[0m\u001b[1;33m)\u001b[0m\u001b[1;33m)\u001b[0m\u001b[1;33m\u001b[0m\u001b[1;33m\u001b[0m\u001b[0m\n\u001b[0m\u001b[0;32m    763\u001b[0m                 \u001b[1;32mif\u001b[0m \u001b[0mself\u001b[0m\u001b[1;33m.\u001b[0m\u001b[0mhas_index_for\u001b[0m\u001b[1;33m(\u001b[0m\u001b[0mkey\u001b[0m\u001b[1;33m)\u001b[0m\u001b[1;33m:\u001b[0m\u001b[1;33m\u001b[0m\u001b[1;33m\u001b[0m\u001b[0m\n\u001b[0;32m    764\u001b[0m                     \u001b[0mall_keys\u001b[0m\u001b[1;33m.\u001b[0m\u001b[0madd\u001b[0m\u001b[1;33m(\u001b[0m\u001b[0mself\u001b[0m\u001b[1;33m.\u001b[0m\u001b[0mget_index\u001b[0m\u001b[1;33m(\u001b[0m\u001b[0mkey\u001b[0m\u001b[1;33m)\u001b[0m\u001b[1;33m)\u001b[0m\u001b[1;33m\u001b[0m\u001b[1;33m\u001b[0m\u001b[0m\n",
      "\u001b[1;32mC:\\ProgramData\\Anaconda3\\envs\\WorkBase\\lib\\site-packages\\gensim\\models\\keyedvectors.py\u001b[0m in \u001b[0;36mget_vector\u001b[1;34m(self, key, norm)\u001b[0m\n\u001b[0;32m    420\u001b[0m \u001b[1;33m\u001b[0m\u001b[0m\n\u001b[0;32m    421\u001b[0m         \"\"\"\n\u001b[1;32m--> 422\u001b[1;33m         \u001b[0mindex\u001b[0m \u001b[1;33m=\u001b[0m \u001b[0mself\u001b[0m\u001b[1;33m.\u001b[0m\u001b[0mget_index\u001b[0m\u001b[1;33m(\u001b[0m\u001b[0mkey\u001b[0m\u001b[1;33m)\u001b[0m\u001b[1;33m\u001b[0m\u001b[1;33m\u001b[0m\u001b[0m\n\u001b[0m\u001b[0;32m    423\u001b[0m         \u001b[1;32mif\u001b[0m \u001b[0mnorm\u001b[0m\u001b[1;33m:\u001b[0m\u001b[1;33m\u001b[0m\u001b[1;33m\u001b[0m\u001b[0m\n\u001b[0;32m    424\u001b[0m             \u001b[0mself\u001b[0m\u001b[1;33m.\u001b[0m\u001b[0mfill_norms\u001b[0m\u001b[1;33m(\u001b[0m\u001b[1;33m)\u001b[0m\u001b[1;33m\u001b[0m\u001b[1;33m\u001b[0m\u001b[0m\n",
      "\u001b[1;32mC:\\ProgramData\\Anaconda3\\envs\\WorkBase\\lib\\site-packages\\gensim\\models\\keyedvectors.py\u001b[0m in \u001b[0;36mget_index\u001b[1;34m(self, key, default)\u001b[0m\n\u001b[0;32m    394\u001b[0m             \u001b[1;32mreturn\u001b[0m \u001b[0mdefault\u001b[0m\u001b[1;33m\u001b[0m\u001b[1;33m\u001b[0m\u001b[0m\n\u001b[0;32m    395\u001b[0m         \u001b[1;32melse\u001b[0m\u001b[1;33m:\u001b[0m\u001b[1;33m\u001b[0m\u001b[1;33m\u001b[0m\u001b[0m\n\u001b[1;32m--> 396\u001b[1;33m             \u001b[1;32mraise\u001b[0m \u001b[0mKeyError\u001b[0m\u001b[1;33m(\u001b[0m\u001b[1;34mf\"Key '{key}' not present\"\u001b[0m\u001b[1;33m)\u001b[0m\u001b[1;33m\u001b[0m\u001b[1;33m\u001b[0m\u001b[0m\n\u001b[0m\u001b[0;32m    397\u001b[0m \u001b[1;33m\u001b[0m\u001b[0m\n\u001b[0;32m    398\u001b[0m     \u001b[1;32mdef\u001b[0m \u001b[0mget_vector\u001b[0m\u001b[1;33m(\u001b[0m\u001b[0mself\u001b[0m\u001b[1;33m,\u001b[0m \u001b[0mkey\u001b[0m\u001b[1;33m,\u001b[0m \u001b[0mnorm\u001b[0m\u001b[1;33m=\u001b[0m\u001b[1;32mFalse\u001b[0m\u001b[1;33m)\u001b[0m\u001b[1;33m:\u001b[0m\u001b[1;33m\u001b[0m\u001b[1;33m\u001b[0m\u001b[0m\n",
      "\u001b[1;31mKeyError\u001b[0m: \"Key 'electrofishing' not present\""
     ]
    }
   ],
   "source": [
    "model.wv.most_similar('electrofishing')"
   ]
  },
  {
   "cell_type": "markdown",
   "id": "3452e4db",
   "metadata": {},
   "source": [
    "    단어 집합에 electrofishing이 없다고 함.\n",
    "    Word2Vec은 학습 데이터에 존재하지 않는 단어(모르는 단어)에 대해선\n",
    "    임베딩 벡터가 존재하지 않으므로 유사도 계산이 안됨."
   ]
  },
  {
   "cell_type": "markdown",
   "id": "70bf3ee1",
   "metadata": {},
   "source": [
    "### FastText\n",
    "\n",
    "<br>\n",
    "\n",
    "- Word2Vec 학습 코드만 FastText로 변경해 실행해보자."
   ]
  },
  {
   "cell_type": "code",
   "execution_count": 6,
   "id": "68921fa3",
   "metadata": {
    "ExecuteTime": {
     "end_time": "2021-08-18T01:47:25.686918Z",
     "start_time": "2021-08-18T01:46:02.253501Z"
    }
   },
   "outputs": [],
   "source": [
    "from gensim.models import FastText\n",
    "\n",
    "model = FastText(\n",
    "    result,\n",
    "    vector_size = 100,\n",
    "    window = 5,\n",
    "    min_count = 5,\n",
    "    workers = 4,\n",
    "    sg = 1\n",
    ")"
   ]
  },
  {
   "cell_type": "code",
   "execution_count": 7,
   "id": "bfb347c4",
   "metadata": {
    "ExecuteTime": {
     "end_time": "2021-08-18T01:48:22.423188Z",
     "start_time": "2021-08-18T01:48:22.391306Z"
    }
   },
   "outputs": [
    {
     "data": {
      "text/plain": [
       "[('electrolux', 0.8584972023963928),\n",
       " ('electrolyte', 0.8558030724525452),\n",
       " ('electroshock', 0.8482690453529358),\n",
       " ('electroencephalogram', 0.8378998637199402),\n",
       " ('airbag', 0.8358634114265442),\n",
       " ('electric', 0.8316196799278259),\n",
       " ('airbus', 0.8284210562705994),\n",
       " ('electrogram', 0.8203827738761902),\n",
       " ('electron', 0.8109163641929626),\n",
       " ('electrode', 0.8094940185546875)]"
      ]
     },
     "execution_count": 7,
     "metadata": {},
     "output_type": "execute_result"
    }
   ],
   "source": [
    "model.wv.most_similar('electrofishing')"
   ]
  },
  {
   "cell_type": "markdown",
   "id": "3b17bb3a",
   "metadata": {},
   "source": [
    "    Word2Vec과는 다르게\n",
    "    학습하지 않은 단어에 대해 유사한 단어를 계산해 출력하고 있음."
   ]
  },
  {
   "attachments": {
    "image.png": {
     "image/png": "[encoded data removed]"
    }
   },
   "cell_type": "markdown",
   "id": "25f18841",
   "metadata": {},
   "source": [
    "## FastText in Korean\n",
    "\n",
    "<br>\n",
    "\n",
    "- 한국어에서도 마찬가지로 OOV 문제를 해결하기 위해 FastText를 적용하고자 했었음.\n",
    "\n",
    "<br>\n",
    "\n",
    "1. 음절 단위\n",
    "    - 음절 단위 임베딩은 영단어와 거의 똑같음.\n",
    "2. 자모 단위\n",
    "    - 자모 단위(초성, 중성, 종성 단위)로 임베딩.\n",
    "    - 오타나 노이즈 측면에서 더 강한 임베딩을 기대해 볼 수 있음.\n",
    "    - '자연어처리' 를 다음과 같이 분리할 수 있음.\n",
    "\n",
    "![image.png](attachment:image.png)\n",
    "\n",
    "<br>\n",
    "\n",
    "- 한국어의 경우 Word2Vec 모델의 효과가 더 좋다는 사례가 많음.\n",
    "- 적절히 사용해보고 Word2Vec, GloVe, FastText 중에서 골라보는게 좋을 것."
   ]
  },
  {
   "cell_type": "markdown",
   "id": "bc8f2950",
   "metadata": {},
   "source": [
    "### Example\n",
    "\n",
    "<br>\n",
    "\n",
    "- 네이버 신문기사 - 탈레반 (2021-08-18) 관련 기사 가져왔음."
   ]
  },
  {
   "cell_type": "markdown",
   "id": "bda9688b",
   "metadata": {},
   "source": [
    "#### 문장 단위 Split"
   ]
  },
  {
   "cell_type": "code",
   "execution_count": 2,
   "id": "3a019b10",
   "metadata": {
    "ExecuteTime": {
     "end_time": "2021-08-18T02:21:48.491877Z",
     "start_time": "2021-08-18T02:21:48.462954Z"
    }
   },
   "outputs": [
    {
     "name": "stdout",
     "output_type": "stream",
     "text": [
      "탈레반은 누구인가\n",
      "\"1994년 아프간 남부 칸다하르에서 물라 무함마드 오마르에 의해 창설됐다\n",
      "1989년 소련의 아프간 철수 이후 군벌 간 내전이 격화되자 오마르는 이슬람 전통 교육기관(마드라사) 출신 학생들을 주축으로 설립돼, 명칭(탈레반)도 파슈토어 '학생'에서 따왔다\n",
      "1996년 아프간 정권을 장악한 탈레반은 '이슬람 이상 국가 건설'이 목표다\n",
      "이슬람법인 샤리아에 따라 국가를 통치하는데 여성 인권을 탄압하는 것으로 악명이 높다\n",
      "전광석화로 아프간 전역 장악한 탈레반, 지지자가 많나\n",
      "\"그렇지는 않다\n",
      "탈레반이 수도 카불까지 사실상 무혈입성할 수 있었던 배경에는 오히려 아프간 정부의 부정부패와 무능이 자리한다\n",
      "부패한 정부에서 월급도 제대로 못받는데다가 비전도 없는 정부를 위해 목숨 걸고 싸울 경찰과 군인은 없다\n",
      "아슈라프 가니 아프간 대통령을 포함해 정부 고위 인사들이 탈레반에 맞서 싸우기보다 누구보다 빠르게 국외로 도피한 현실이 그들의 부족한 통치 능력과 의지를 보여준다\n",
      "이런 아프간 정부의 무능·부패를 미국은 몰랐나\n",
      "\"알고 있었지만 그래도 이렇게 빠르게 무너질 것으로 예상하지 못했다\n",
      "미국의 아프간 주두군 철수는 사실 시간의 문제였다\n",
      "도널드 트럼프 전 행정부 시절부터 추진했고 더는 막대한 예산과 병력을 투입해도 상황이 개선되지 않을 거라는 판단을 이미 내렸다\n",
      "20년 동안 2조2,600억 달러(2,600조 원)를 쏟아부었고 2,400명이 넘는 자국군이 목숨을 잃었기 때문이다\n",
      "다만 동맹인 북대서양조약기구(NATO·나토)와 함께 아프간 정부군을 훈련시켰기 때문에 몇 개월은 버틸 것이라고 기대했던 게 오판이 됐다\n",
      "불신이 팽배한 사회에서 여론을 정확히 파악하는 것은 사실상 불가능했고 일종의 '티핑포인트(급변점)'가 지나면서 폭발적인 속도로 정부가 무너져 내렸다\n",
      "탈레반에 대한 아프간 내 저항은 이제 끝인가\n",
      "\"당장은 빠르게 투항한 세력들이 조만간 저항할 가능성이 충분히 있다\n",
      "특히 미국이 아프간에 왔을 때 군사적 지원을 하고 아프간 정부의 요직들도 차지했던 북부동맹이 전투에 나설 수 있다\n",
      "이들도 전력이 만만치 않아서 결국 내전으로 번질 우려가 크다\n",
      "'변화' 얘기하는 탈레반이지만, \"조직의 생명력이 '극단주의'\"\n",
      "20년 전과 다르다고 변화 예고한 탈레반, 정말일까\n",
      "\"단언할 수 없는 부분이다\n",
      "국제사회에서 고립되지 않고 장기 집권하려면 변해야 한다는 걸 탈레반도 잘 안다\n",
      "하지만 탈레반의 존재 이유가 '이슬람 급진주의 확산'이라는 태생적 한계가 분명하다\n",
      "지도부가 전보다 유화적 태도를 취했을 때 지지자들이나 하위 단체 등이 따르지 않을 가능성도 있다\n",
      "탈레반은 단일화된 조직이 아니라 지방에서는 프랜차이즈 방식으로 운영되기 때문이다\n",
      "여성의 학업·일자리 허용 발언은 지킬까\n",
      "\"앞의 설명과 마찬가지다\n",
      "7세기 이슬람으로 돌아가자는 탈레반의 기본 생각이 얼마나 변할지 장담할 수 없다\n",
      "다만 국제사회가 지켜보고 있고 아프간 여성들도 각성한 상황에서 무조건적인 여성정책의 회귀는 어렵다는 걸 탈레반도 깨달은 상황이다\n",
      "탈레반이 재집권 후 극단주의 테러 우려는\n",
      "\"아프간이 이슬람국가(IS)나 알카에다의 잔당이 세력을 키우는 터전이 될 가능성이 크다\n",
      "지방 탈레반 세력과 테러 조직이 뒤섞일 수 있다\n",
      "미국이나 유럽 외에도 직접적 위협을 느끼는 국가로는 중국이 있다\n",
      "이슬람 극단주의 세력 확대가 신장위구르 지역의 분리주의 테러와 결탁할 가능성 탓이다\n",
      "0\n"
     ]
    }
   ],
   "source": [
    "def make_corpus(input_file, output_file):\n",
    "    txt_file = open(output_file, 'w', encoding='UTF-8')\n",
    "    \n",
    "    with open(input_file, 'r', encoding='UTF-8') as f:\n",
    "        text = f.readlines()\n",
    "        num = 0\n",
    "        \n",
    "        for i in range(0, len(text)):\n",
    "            sentence_list = text[i].strip()\n",
    "            sentence = sentence_list.split('.')\n",
    "            \n",
    "            for j in range(0, len(sentence)):\n",
    "                if len(sentence[j].strip()) > 3:\n",
    "                    last_sentence = sentence[j].strip()\n",
    "                    print(last_sentence)\n",
    "                    txt_file.write(last_sentence + '\\n')\n",
    "                    num ++ 1\n",
    "        print(num)\n",
    "make_corpus('han.txt', 'corpus.txt')"
   ]
  },
  {
   "cell_type": "code",
   "execution_count": 11,
   "id": "73d94875",
   "metadata": {
    "ExecuteTime": {
     "end_time": "2021-08-18T02:30:47.104977Z",
     "start_time": "2021-08-18T02:30:47.084035Z"
    }
   },
   "outputs": [
    {
     "data": {
      "text/plain": [
       "['탈레반은 누구인가\\n',\n",
       " '\"1994년 아프간 남부 칸다하르에서 물라 무함마드 오마르에 의해 창설됐다\\n',\n",
       " \"1989년 소련의 아프간 철수 이후 군벌 간 내전이 격화되자 오마르는 이슬람 전통 교육기관(마드라사) 출신 학생들을 주축으로 설립돼, 명칭(탈레반)도 파슈토어 '학생'에서 따왔다\\n\"]"
      ]
     },
     "execution_count": 11,
     "metadata": {},
     "output_type": "execute_result"
    }
   ],
   "source": [
    "myFile = open('corpus.txt', 'r', encoding='UTF-8')\n",
    "myFile = myFile.readlines()\n",
    "myFile[:3]"
   ]
  },
  {
   "cell_type": "code",
   "execution_count": 12,
   "id": "d7ed2eea",
   "metadata": {
    "ExecuteTime": {
     "end_time": "2021-08-18T02:34:05.142694Z",
     "start_time": "2021-08-18T02:34:05.122714Z"
    }
   },
   "outputs": [
    {
     "data": {
      "text/plain": [
       "'\\n# \\'\\' 랑 \\n, \"\"를 지우자.\\nimport re\\n\\ndef clean_text(texts): \\n    corpus = [] \\n    for i in range(0, len(texts)): \\n        review = re.sub(r\\'[@%\\\\*=()/~#&\\\\+á?Ã¡\\\\-\\\\|\\\\.\\\\:\\\\;\\\\!\\\\-\\\\,\\\\_\\\\~\\\\$\\'\"]\\', \\'\\',str(texts[i])) #remove punctuation \\n        review = re.sub(r\\'\\\\d+\\',\\'\\', str(texts[i]))# remove number \\n        review = review.lower() #lower case \\n        review = re.sub(r\\'\\\\s+\\', \\' \\', review) #remove extra space \\n        review = re.sub(r\\'<[^>]+>\\',\\'\\',review) #remove Html tags \\n        review = re.sub(r\\'\\\\s+\\', \\' \\', review) #remove spaces \\n        review = re.sub(r\"^\\\\s+\", \\'\\', review) #remove space from start \\n        review = re.sub(r\\'\\\\s+$\\', \\'\\', review) #remove space from the end \\n        corpus.append(review) \\n    return corpus\\n'"
      ]
     },
     "execution_count": 12,
     "metadata": {},
     "output_type": "execute_result"
    }
   ],
   "source": [
    "\"\"\"\n",
    "# '' 랑 \\n, \"\"를 지우자.\n",
    "import re\n",
    "\n",
    "def clean_text(texts): \n",
    "    corpus = [] \n",
    "    for i in range(0, len(texts)): \n",
    "        review = re.sub(r'[@%\\\\*=()/~#&\\+á?\\xc3\\xa1\\-\\|\\.\\:\\;\\!\\-\\,\\_\\~\\$\\'\\\"]', '',str(texts[i])) #remove punctuation \n",
    "        review = re.sub(r'\\d+','', str(texts[i]))# remove number \n",
    "        review = review.lower() #lower case \n",
    "        review = re.sub(r'\\s+', ' ', review) #remove extra space \n",
    "        review = re.sub(r'<[^>]+>','',review) #remove Html tags \n",
    "        review = re.sub(r'\\s+', ' ', review) #remove spaces \n",
    "        review = re.sub(r\"^\\s+\", '', review) #remove space from start \n",
    "        review = re.sub(r'\\s+$', '', review) #remove space from the end \n",
    "        corpus.append(review) \n",
    "    return corpus\n",
    "\"\"\"\n",
    "# 상관 없나?"
   ]
  },
  {
   "cell_type": "markdown",
   "id": "aae56a84",
   "metadata": {},
   "source": [
    "#### 토큰 단위 분리"
   ]
  },
  {
   "cell_type": "code",
   "execution_count": 15,
   "id": "a1bc803b",
   "metadata": {
    "ExecuteTime": {
     "end_time": "2021-08-18T02:39:54.739861Z",
     "start_time": "2021-08-18T02:39:54.322866Z"
    }
   },
   "outputs": [
    {
     "name": "stdout",
     "output_type": "stream",
     "text": [
      "['탈레반', '은', '누구', '인가']\n",
      "['\"', '1994년', '아프간', '남부', '칸다하르', '에서', '물라', '무함마드', '오마르', '에', '의해', '창설', '됐다']\n",
      "['1989년', '소련', '의', '아프간', '철수', '이후', '군벌', '간', '내전', '이', '격', '화', '되자', '오마르', '는', '이슬람', '전통', '교육', '기관', '(', '마드라사', ')', '출신', '학생', '들', '을', '주축', '으로', '설립', '돼', ',', '명칭', '(', '탈레반', ')', '도', '파슈토어', \"'\", '학생', \"'\", '에서', '따왔다']\n",
      "['1996년', '아프간', '정권', '을', '장악', '한', '탈레반', '은', \"'\", '이슬람', '이상', '국가', '건설', \"'\", '이', '목표', '다']\n",
      "['이슬람', '법인', '샤리아', '에', '따라', '국가', '를', '통치', '하는데', '여성', '인권', '을', '탄압', '하는', '것', '으로', '악명', '이', '높다']\n",
      "['전', '광석', '화', '로', '아프간', '전역', '장악', '한', '탈레반', ',', '지지자', '가', '많나']\n",
      "['\"', '그렇지는', '않다']\n",
      "['탈레반', '이', '수도', '카불', '까지', '사실', '상', '무혈', '입성', '할', '수', '있었던', '배경', '에는', '오히려', '아프간', '정부', '의', '부정부패', '와', '무능', '이', '자리', '한다']\n",
      "['부패한', '정부', '에서', '월급', '도', '제대로', '못', '받는데다가', '비', '전도', '없는', '정부', '를', '위해', '목숨', '걸고', '싸울', '경찰', '과', '군인', '은', '없다']\n",
      "['아슈라프', '가니', '아프간', '대통령', '을', '포함', '해', '정부', '고위', '인사', '들', '이', '탈레반', '에', '맞서', '싸우기보다', '누구', '보다', '빠르게', '국외', '로', '도피', '한', '현실', '이', '그', '들', '의', '부족한', '통치', '능력', '과', '의지', '를', '보여준다']\n",
      "['이런', '아프간', '정부', '의', '무능', '·', '부패', '를', '미국', '은', '몰랐나']\n",
      "['\"', '알', '고', '있었지만', '그래도', '이렇게', '빠르게', '무너질', '것', '으로', '예상', '하지', '못', '했다']\n",
      "['미국', '의', '아프간', '주두', '군', '철수', '는', '사실', '시간', '의', '문제', '였다']\n",
      "['도널드', '트럼프', '전', '행정부', '시절', '부터', '추진', '했고', '더', '는', '막대', '한', '예산', '과', '병력', '을', '투입', '해도', '상황', '이', '개선', '되지', '않을', '거', '라는', '판단', '을', '이미', '내렸다']\n",
      "['20년', '동안', '2조', '2,600억', '달러', '(', '2,600조', '원', ')', '를', '쏟아', '부었고', '2,400', '명', '이', '넘는', '자국', '군', '이', '목숨', '을', '잃었기', '때문', '이다']\n",
      "['다만', '동맹', '인', '북대서양', '조', '약', '기구', '(', 'NATO', '·', '나토', ')', '와', '함께', '아프간', '정부', '군', '을', '훈련', '시켰기', '때문', '에', '몇', '개월', '은', '버틸', '것', '이라고', '기대했던', '게', '오', '판이', '됐다']\n",
      "['불신', '이', '팽배', '한', '사회', '에서', '여론', '을', '정확히', '파악', '하는', '것', '은', '사실', '상', '불가능했고', '일종', '의', \"'\", '티핑', '포인트', '(', '급변', '점', \")'\", '가', '지나면서', '폭발', '적', '인', '속도', '로', '정부', '가', '무너져', '내렸다']\n",
      "['탈레반', '에', '대한', '아프간', '내', '저항', '은', '이제', '끝', '인가']\n",
      "['\"', '당장', '은', '빠르게', '투항', '한', '세력', '들', '이', '조만간', '저항', '할', '가능성', '이', '충분히', '있다']\n",
      "['특히', '미국', '이', '아프간', '에', '왔을', '때', '군사', '적', '지원', '을', '하고', '아프간', '정부', '의', '요', '직', '들', '도', '차지', '했던', '북부', '동맹', '이', '전투', '에', '나설', '수', '있다']\n",
      "['이', '들', '도', '전력', '이', '만', '만치', '않아서', '결국', '내전', '으로', '번질', '우려', '가', '크다']\n",
      "[\"'\", '변화', \"'\", '얘기', '하는', '탈레반', '이지만', ',', '\"', '조직', '의', '생명력', '이', \"'\", '극단', '주의', '\\'\"']\n",
      "['20년', '전과', '다르다고', '변화', '예고', '한', '탈레반', ',', '정말', '일까']\n",
      "['\"', '단언', '할', '수', '없는', '부분', '이다']\n",
      "['국제사회', '에서', '고립', '되지', '않고', '장기', '집권', '하려면', '변해야', '한다는', '걸', '탈레반', '도', '잘', '안다']\n",
      "['하지만', '탈레반', '의', '존재', '이유', '가', \"'\", '이슬람', '급', '진주', '의', '확산', \"'\", '이라는', '태생', '적', '한계', '가', '분명하다']\n",
      "['지도', '부가', '전보', '다', '유화', '적', '태도', '를', '취했', '을', '때', '지지자', '들', '이나', '하위', '단체', '등', '이', '따르지', '않을', '가능성', '도', '있다']\n",
      "['탈레반', '은', '단', '일화', '된', '조직', '이', '아니라', '지방', '에서는', '프랜차이즈', '방식', '으로', '운영', '되기', '때문', '이다']\n",
      "['여성', '의', '학업', '·', '일자리', '허용', '발언', '은', '지킬까']\n",
      "['\"', '앞', '의', '설명', '과', '마찬가지', '다']\n",
      "['7', '세기', '이슬람', '으로', '돌아가자는', '탈레반', '의', '기본', '생각', '이', '얼마나', '변할지', '장담', '할', '수', '없다']\n",
      "['다만', '국제사회', '가', '지켜보고', '있고', '아프간', '여성', '들', '도', '각성', '한', '상황', '에서', '무조건', '적', '인', '여', '성', '정책', '의', '회귀', '는', '어렵다는', '걸', '탈레반', '도', '깨달', '은', '상황', '이다']\n",
      "['탈레반', '이', '재', '집권', '후', '극단', '주의', '테러', '우려', '는']\n",
      "['\"', '아프간', '이', '이슬람국', '가', '(', 'IS', ')', '나', '알카에다', '의', '잔당', '이', '세력', '을', '키우는', '터전', '이', '될', '가능성', '이', '크다']\n",
      "['지방', '탈레반', '세력', '과', '테러', '조직', '이', '뒤', '섞일', '수', '있다']\n",
      "['미국', '이나', '유럽', '외', '에도', '직접', '적', '위협', '을', '느끼는', '국가', '로는', '중국', '이', '있다']\n",
      "['이슬람', '극단', '주의', '세력', '확대', '가', '신장', '위구르', '지역', '의', '분리', '주의', '테러', '와', '결탁', '할', '가능성', '탓', '이다']\n",
      "0\n"
     ]
    }
   ],
   "source": [
    "import json\n",
    "from konlpy.tag import Okt\n",
    "\n",
    "def make_token(input_file, output_file):\n",
    "    okt = Okt()\n",
    "    token_text_file = open(output_file, 'w', encoding='UTF-8')\n",
    "    myList = []\n",
    "    \n",
    "    with open(input_file, 'r', encoding='UTF-8') as f:\n",
    "        text = f.readlines()\n",
    "        num = 0\n",
    "        \n",
    "        for i in range(0, len(text)):\n",
    "            sentence = text[i].strip()\n",
    "            morphs = okt.morphs(sentence)\n",
    "            print(morphs)\n",
    "            myList.append(morphs)\n",
    "        print(num)\n",
    "        \n",
    "        jsonString = json.dumps(myList, ensure_ascii=False)\n",
    "        token_text_file.write(jsonString)\n",
    "\n",
    "make_token('corpus.txt', 'corpus_token.txt')"
   ]
  },
  {
   "cell_type": "markdown",
   "id": "d72b7bb9",
   "metadata": {},
   "source": [
    "    특수문자 제거하고 그러는걸 좀 익혀야 할듯."
   ]
  },
  {
   "cell_type": "markdown",
   "id": "fa66a0c0",
   "metadata": {},
   "source": [
    "#### Train"
   ]
  },
  {
   "cell_type": "code",
   "execution_count": 18,
   "id": "a1ce6ffe",
   "metadata": {
    "ExecuteTime": {
     "end_time": "2021-08-18T02:45:47.795622Z",
     "start_time": "2021-08-18T02:45:46.612297Z"
    }
   },
   "outputs": [
    {
     "data": {
      "text/plain": [
       "[('한', 0.1007915511727333),\n",
       " ('적', 0.08942936360836029),\n",
       " ('은', 0.071759432554245),\n",
       " ('는', 0.06902580708265305),\n",
       " ('가', 0.04751143977046013),\n",
       " ('할', 0.03716158866882324),\n",
       " (\"'\", 0.022729597985744476),\n",
       " ('아프간', 0.019850635901093483),\n",
       " ('의', 0.016217384487390518),\n",
       " ('으로', 0.004807024262845516)]"
      ]
     },
     "execution_count": 18,
     "metadata": {},
     "output_type": "execute_result"
    }
   ],
   "source": [
    "from gensim.models import FastText\n",
    "\n",
    "with open('corpus_token.txt', 'r', encoding='UTF-8') as f:\n",
    "    text = f.readlines()\n",
    "    data = json.loads(text[0])\n",
    "\n",
    "model = FastText(\n",
    "    data,\n",
    "    vector_size = 100,\n",
    "    window = 5,\n",
    "    min_count = 5,\n",
    "    sg = 1\n",
    ")\n",
    "\n",
    "model.wv.most_similar('서울')"
   ]
  },
  {
   "cell_type": "markdown",
   "id": "15138360",
   "metadata": {},
   "source": [
    "    전처리를 말끔하게 하지 않아 한 적 은 는 가 할 이런게 뽑힌다.\n",
    "    간단한 텍스트 전처리 과정은 꼭 숙지하고 오자."
   ]
  }
 ],
 "metadata": {
  "kernelspec": {
   "display_name": "'[WorkBase]'",
   "language": "python",
   "name": "workbase"
  },
  "language_info": {
   "codemirror_mode": {
    "name": "ipython",
    "version": 3
   },
   "file_extension": ".py",
   "mimetype": "text/x-python",
   "name": "python",
   "nbconvert_exporter": "python",
   "pygments_lexer": "ipython3",
   "version": "3.8.11"
  },
  "toc": {
   "base_numbering": 1,
   "nav_menu": {},
   "number_sections": true,
   "sideBar": true,
   "skip_h1_title": false,
   "title_cell": "Table of Contents",
   "title_sidebar": "Contents",
   "toc_cell": false,
   "toc_position": {},
   "toc_section_display": true,
   "toc_window_display": true
  },
  "varInspector": {
   "cols": {
    "lenName": 16,
    "lenType": 16,
    "lenVar": 40
   },
   "kernels_config": {
    "python": {
     "delete_cmd_postfix": "",
     "delete_cmd_prefix": "del ",
     "library": "var_list.py",
     "varRefreshCmd": "print(var_dic_list())"
    },
    "r": {
     "delete_cmd_postfix": ") ",
     "delete_cmd_prefix": "rm(",
     "library": "var_list.r",
     "varRefreshCmd": "cat(var_dic_list()) "
    }
   },
   "types_to_exclude": [
    "module",
    "function",
    "builtin_function_or_method",
    "instance",
    "_Feature"
   ],
   "window_display": false
  }
 },
 "nbformat": 4,
 "nbformat_minor": 5
}

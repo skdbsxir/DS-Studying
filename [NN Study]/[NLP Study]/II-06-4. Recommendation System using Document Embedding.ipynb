{
 "cells": [
  {
   "cell_type": "markdown",
   "id": "83ef439c",
   "metadata": {},
   "source": [
    "- 각 문서를 고정된 길이의 벡터로 변환한다면 벡터간 비교를 통해 문서를 서로 비교할 수 있을 것.\n",
    "- 문서를 문서벡터로 어떻게 변환?\n",
    "    - 이미 구현된 패키지인 Doc2Vec이나 Sent2Vec을 쓸 수도 있음.\n",
    "    - 가장 간단한 방법은 **문서 내에 존재하는 단어 벡터들의 평균**을 구하는 것.\n",
    "- **문서 내 각 단어들을 Word2Vec을 통해 단어 벡터로 변환**하고, **평균으로 문서 벡터를 구해** 선호하는 도서와 유사한 도서를 찾아주는 간단한 추천 시스템을 만들어보자."
   ]
  },
  {
   "cell_type": "markdown",
   "id": "025ec47e",
   "metadata": {},
   "source": [
    "# Data Loading"
   ]
  },
  {
   "cell_type": "code",
   "execution_count": 1,
   "id": "7b6d214c",
   "metadata": {
    "ExecuteTime": {
     "end_time": "2021-08-19T00:15:17.263537Z",
     "start_time": "2021-08-19T00:15:14.398899Z"
    }
   },
   "outputs": [],
   "source": [
    "import urllib.request\n",
    "import pandas as pd\n",
    "import numpy as np\n",
    "import matplotlib.pyplot as plt\n",
    "import requests\n",
    "import re\n",
    "import nltk\n",
    "from nltk.tokenize import RegexpTokenizer\n",
    "from nltk.corpus import stopwords\n",
    "from gensim.models import Word2Vec\n",
    "from gensim.models import KeyedVectors\n",
    "from sklearn.metrics.pairwise import cosine_similarity\n",
    "\n",
    "# 아래 모듈은 뭐하는걸까?\n",
    "from PIL import Image\n",
    "from io import BytesIO"
   ]
  },
  {
   "cell_type": "code",
   "execution_count": 4,
   "id": "032b93f8",
   "metadata": {
    "ExecuteTime": {
     "end_time": "2021-08-19T00:17:53.185756Z",
     "start_time": "2021-08-19T00:17:53.092045Z"
    }
   },
   "outputs": [
    {
     "name": "stdout",
     "output_type": "stream",
     "text": [
      "전체 문서 수 :  2382\n"
     ]
    },
    {
     "data": {
      "text/html": [
       "<div>\n",
       "<style scoped>\n",
       "    .dataframe tbody tr th:only-of-type {\n",
       "        vertical-align: middle;\n",
       "    }\n",
       "\n",
       "    .dataframe tbody tr th {\n",
       "        vertical-align: top;\n",
       "    }\n",
       "\n",
       "    .dataframe thead th {\n",
       "        text-align: right;\n",
       "    }\n",
       "</style>\n",
       "<table border=\"1\" class=\"dataframe\">\n",
       "  <thead>\n",
       "    <tr style=\"text-align: right;\">\n",
       "      <th></th>\n",
       "      <th>Unnamed: 0</th>\n",
       "      <th>Desc</th>\n",
       "      <th>Unnamed: 0.1</th>\n",
       "      <th>author</th>\n",
       "      <th>genre</th>\n",
       "      <th>image_link</th>\n",
       "      <th>rating</th>\n",
       "      <th>title</th>\n",
       "    </tr>\n",
       "  </thead>\n",
       "  <tbody>\n",
       "    <tr>\n",
       "      <th>0</th>\n",
       "      <td>0</td>\n",
       "      <td>We know that power is shifting: From West to E...</td>\n",
       "      <td>0.0</td>\n",
       "      <td>Moisés Naím</td>\n",
       "      <td>Business</td>\n",
       "      <td>https://i.gr-assets.com/images/S/compressed.ph...</td>\n",
       "      <td>3.63</td>\n",
       "      <td>The End of Power: From Boardrooms to Battlefie...</td>\n",
       "    </tr>\n",
       "    <tr>\n",
       "      <th>1</th>\n",
       "      <td>1</td>\n",
       "      <td>Following the success of The Accidental Billio...</td>\n",
       "      <td>1.0</td>\n",
       "      <td>Blake J. Harris</td>\n",
       "      <td>Business</td>\n",
       "      <td>https://i.gr-assets.com/images/S/compressed.ph...</td>\n",
       "      <td>3.94</td>\n",
       "      <td>Console Wars: Sega, Nintendo, and the Battle t...</td>\n",
       "    </tr>\n",
       "    <tr>\n",
       "      <th>2</th>\n",
       "      <td>2</td>\n",
       "      <td>How to tap the power of social software and ne...</td>\n",
       "      <td>2.0</td>\n",
       "      <td>Chris Brogan</td>\n",
       "      <td>Business</td>\n",
       "      <td>https://i.gr-assets.com/images/S/compressed.ph...</td>\n",
       "      <td>3.78</td>\n",
       "      <td>Trust Agents: Using the Web to Build Influence...</td>\n",
       "    </tr>\n",
       "    <tr>\n",
       "      <th>3</th>\n",
       "      <td>3</td>\n",
       "      <td>William J. Bernstein is an American financial ...</td>\n",
       "      <td>3.0</td>\n",
       "      <td>William J. Bernstein</td>\n",
       "      <td>Business</td>\n",
       "      <td>https://i.gr-assets.com/images/S/compressed.ph...</td>\n",
       "      <td>4.20</td>\n",
       "      <td>The Four Pillars of Investing</td>\n",
       "    </tr>\n",
       "    <tr>\n",
       "      <th>4</th>\n",
       "      <td>4</td>\n",
       "      <td>Amazing book. And I joined Steve Jobs and many...</td>\n",
       "      <td>4.0</td>\n",
       "      <td>Akio Morita</td>\n",
       "      <td>Business</td>\n",
       "      <td>https://i.gr-assets.com/images/S/compressed.ph...</td>\n",
       "      <td>4.05</td>\n",
       "      <td>Made in Japan: Akio Morita and Sony</td>\n",
       "    </tr>\n",
       "  </tbody>\n",
       "</table>\n",
       "</div>"
      ],
      "text/plain": [
       "   Unnamed: 0                                               Desc  \\\n",
       "0           0  We know that power is shifting: From West to E...   \n",
       "1           1  Following the success of The Accidental Billio...   \n",
       "2           2  How to tap the power of social software and ne...   \n",
       "3           3  William J. Bernstein is an American financial ...   \n",
       "4           4  Amazing book. And I joined Steve Jobs and many...   \n",
       "\n",
       "   Unnamed: 0.1                author     genre  \\\n",
       "0           0.0           Moisés Naím  Business   \n",
       "1           1.0       Blake J. Harris  Business   \n",
       "2           2.0          Chris Brogan  Business   \n",
       "3           3.0  William J. Bernstein  Business   \n",
       "4           4.0           Akio Morita  Business   \n",
       "\n",
       "                                          image_link  rating  \\\n",
       "0  https://i.gr-assets.com/images/S/compressed.ph...    3.63   \n",
       "1  https://i.gr-assets.com/images/S/compressed.ph...    3.94   \n",
       "2  https://i.gr-assets.com/images/S/compressed.ph...    3.78   \n",
       "3  https://i.gr-assets.com/images/S/compressed.ph...    4.20   \n",
       "4  https://i.gr-assets.com/images/S/compressed.ph...    4.05   \n",
       "\n",
       "                                               title  \n",
       "0  The End of Power: From Boardrooms to Battlefie...  \n",
       "1  Console Wars: Sega, Nintendo, and the Battle t...  \n",
       "2  Trust Agents: Using the Web to Build Influence...  \n",
       "3                      The Four Pillars of Investing  \n",
       "4                Made in Japan: Akio Morita and Sony  "
      ]
     },
     "execution_count": 4,
     "metadata": {},
     "output_type": "execute_result"
    }
   ],
   "source": [
    "df = pd.read_csv('book_data.csv')\n",
    "print('전체 문서 수 : ', len(df))\n",
    "df.head()"
   ]
  },
  {
   "cell_type": "markdown",
   "id": "eec9a3e2",
   "metadata": {},
   "source": [
    "    Unnamed: 0, Unnamed: 0.1 이라는 불필요한 컬럼이 있음.\n",
    "    \n",
    "    줄거리에 해당하는 Desc열이 중요.\n",
    "    전처리 & 토큰화 과정이 필요하므로 함수로 만들어서 해결하자. (좋은 접근방법인듯)"
   ]
  },
  {
   "cell_type": "code",
   "execution_count": 7,
   "id": "14b7265d",
   "metadata": {
    "ExecuteTime": {
     "end_time": "2021-08-19T00:31:55.815304Z",
     "start_time": "2021-08-19T00:31:55.784537Z"
    }
   },
   "outputs": [],
   "source": [
    "# 유니코드 상으로 ASCII코드 문자가 아닌 것들 제거.\n",
    "def removeNonAscii(s):\n",
    "    return ''.join(i for i in s if ord(i)<128)\n",
    "\n",
    "# 대문자->소문자 변환\n",
    "def makeLower(text):\n",
    "    return text.lower()\n",
    "\n",
    "# 불용어 제거\n",
    "def removeStopWords(text):\n",
    "    text = text.split() # 공백기준 분할 후\n",
    "    stops = set(stopwords.words('english')) # 불용어 사전을 불러와\n",
    "    text = [w for w in text if not w in stops] # 불용어 사전에 없는것들만 다시 text에 할당. (불용어 제거)\n",
    "    text = ' '.join(text) # 기존엔 문장이었으니 단어들을 공백기준으로 다시 배치.\n",
    "    return text\n",
    "\n",
    "# html양식 (block) 제거\n",
    "def removeHTML(text):\n",
    "    htmlPattern = re.compile('<.*?>') # 괄호로 둘러쌓인 영역은 HTML양식.\n",
    "    return htmlPattern.sub(r'', text)\n",
    "\n",
    "# 특수문자(punctuation) 제거\n",
    "def removePunct(text):\n",
    "    # 영어 대소문자만 필터링\n",
    "    tokenizer = RegexpTokenizer(r'[a-zA-Z]+')\n",
    "    text = tokenizer.tokenize(text)\n",
    "    text = ' '.join(text) # 공백 기준으로 재배치\n",
    "    return text"
   ]
  },
  {
   "cell_type": "code",
   "execution_count": 8,
   "id": "5d6cbd02",
   "metadata": {
    "ExecuteTime": {
     "end_time": "2021-08-19T00:31:59.465632Z",
     "start_time": "2021-08-19T00:31:58.177154Z"
    }
   },
   "outputs": [],
   "source": [
    "# cleaned라는 열에 전처리 된 문장 추가.\n",
    "df['cleaned'] = df['Desc'].apply(removeNonAscii)\n",
    "df['cleaned'] = df['cleaned'].apply(makeLower)\n",
    "df['cleaned'] = df['cleaned'].apply(removeStopWords)\n",
    "df['cleaned'] = df['cleaned'].apply(removePunct)\n",
    "df['cleaned'] = df['cleaned'].apply(removeHTML)"
   ]
  },
  {
   "cell_type": "code",
   "execution_count": 9,
   "id": "503a4649",
   "metadata": {
    "ExecuteTime": {
     "end_time": "2021-08-19T00:32:31.618248Z",
     "start_time": "2021-08-19T00:32:31.600518Z"
    }
   },
   "outputs": [
    {
     "data": {
      "text/html": [
       "<div>\n",
       "<style scoped>\n",
       "    .dataframe tbody tr th:only-of-type {\n",
       "        vertical-align: middle;\n",
       "    }\n",
       "\n",
       "    .dataframe tbody tr th {\n",
       "        vertical-align: top;\n",
       "    }\n",
       "\n",
       "    .dataframe thead th {\n",
       "        text-align: right;\n",
       "    }\n",
       "</style>\n",
       "<table border=\"1\" class=\"dataframe\">\n",
       "  <thead>\n",
       "    <tr style=\"text-align: right;\">\n",
       "      <th></th>\n",
       "      <th>Unnamed: 0</th>\n",
       "      <th>Desc</th>\n",
       "      <th>Unnamed: 0.1</th>\n",
       "      <th>author</th>\n",
       "      <th>genre</th>\n",
       "      <th>image_link</th>\n",
       "      <th>rating</th>\n",
       "      <th>title</th>\n",
       "      <th>cleaned</th>\n",
       "    </tr>\n",
       "  </thead>\n",
       "  <tbody>\n",
       "    <tr>\n",
       "      <th>0</th>\n",
       "      <td>0</td>\n",
       "      <td>We know that power is shifting: From West to E...</td>\n",
       "      <td>0.0</td>\n",
       "      <td>Moisés Naím</td>\n",
       "      <td>Business</td>\n",
       "      <td>https://i.gr-assets.com/images/S/compressed.ph...</td>\n",
       "      <td>3.63</td>\n",
       "      <td>The End of Power: From Boardrooms to Battlefie...</td>\n",
       "      <td>know power shifting west east north south pres...</td>\n",
       "    </tr>\n",
       "    <tr>\n",
       "      <th>1</th>\n",
       "      <td>1</td>\n",
       "      <td>Following the success of The Accidental Billio...</td>\n",
       "      <td>1.0</td>\n",
       "      <td>Blake J. Harris</td>\n",
       "      <td>Business</td>\n",
       "      <td>https://i.gr-assets.com/images/S/compressed.ph...</td>\n",
       "      <td>3.94</td>\n",
       "      <td>Console Wars: Sega, Nintendo, and the Battle t...</td>\n",
       "      <td>following success accidental billionaires mone...</td>\n",
       "    </tr>\n",
       "    <tr>\n",
       "      <th>2</th>\n",
       "      <td>2</td>\n",
       "      <td>How to tap the power of social software and ne...</td>\n",
       "      <td>2.0</td>\n",
       "      <td>Chris Brogan</td>\n",
       "      <td>Business</td>\n",
       "      <td>https://i.gr-assets.com/images/S/compressed.ph...</td>\n",
       "      <td>3.78</td>\n",
       "      <td>Trust Agents: Using the Web to Build Influence...</td>\n",
       "      <td>tap power social software networks build busin...</td>\n",
       "    </tr>\n",
       "    <tr>\n",
       "      <th>3</th>\n",
       "      <td>3</td>\n",
       "      <td>William J. Bernstein is an American financial ...</td>\n",
       "      <td>3.0</td>\n",
       "      <td>William J. Bernstein</td>\n",
       "      <td>Business</td>\n",
       "      <td>https://i.gr-assets.com/images/S/compressed.ph...</td>\n",
       "      <td>4.20</td>\n",
       "      <td>The Four Pillars of Investing</td>\n",
       "      <td>william j bernstein american financial theoris...</td>\n",
       "    </tr>\n",
       "    <tr>\n",
       "      <th>4</th>\n",
       "      <td>4</td>\n",
       "      <td>Amazing book. And I joined Steve Jobs and many...</td>\n",
       "      <td>4.0</td>\n",
       "      <td>Akio Morita</td>\n",
       "      <td>Business</td>\n",
       "      <td>https://i.gr-assets.com/images/S/compressed.ph...</td>\n",
       "      <td>4.05</td>\n",
       "      <td>Made in Japan: Akio Morita and Sony</td>\n",
       "      <td>amazing book joined steve jobs many akio morit...</td>\n",
       "    </tr>\n",
       "  </tbody>\n",
       "</table>\n",
       "</div>"
      ],
      "text/plain": [
       "   Unnamed: 0                                               Desc  \\\n",
       "0           0  We know that power is shifting: From West to E...   \n",
       "1           1  Following the success of The Accidental Billio...   \n",
       "2           2  How to tap the power of social software and ne...   \n",
       "3           3  William J. Bernstein is an American financial ...   \n",
       "4           4  Amazing book. And I joined Steve Jobs and many...   \n",
       "\n",
       "   Unnamed: 0.1                author     genre  \\\n",
       "0           0.0           Moisés Naím  Business   \n",
       "1           1.0       Blake J. Harris  Business   \n",
       "2           2.0          Chris Brogan  Business   \n",
       "3           3.0  William J. Bernstein  Business   \n",
       "4           4.0           Akio Morita  Business   \n",
       "\n",
       "                                          image_link  rating  \\\n",
       "0  https://i.gr-assets.com/images/S/compressed.ph...    3.63   \n",
       "1  https://i.gr-assets.com/images/S/compressed.ph...    3.94   \n",
       "2  https://i.gr-assets.com/images/S/compressed.ph...    3.78   \n",
       "3  https://i.gr-assets.com/images/S/compressed.ph...    4.20   \n",
       "4  https://i.gr-assets.com/images/S/compressed.ph...    4.05   \n",
       "\n",
       "                                               title  \\\n",
       "0  The End of Power: From Boardrooms to Battlefie...   \n",
       "1  Console Wars: Sega, Nintendo, and the Battle t...   \n",
       "2  Trust Agents: Using the Web to Build Influence...   \n",
       "3                      The Four Pillars of Investing   \n",
       "4                Made in Japan: Akio Morita and Sony   \n",
       "\n",
       "                                             cleaned  \n",
       "0  know power shifting west east north south pres...  \n",
       "1  following success accidental billionaires mone...  \n",
       "2  tap power social software networks build busin...  \n",
       "3  william j bernstein american financial theoris...  \n",
       "4  amazing book joined steve jobs many akio morit...  "
      ]
     },
     "execution_count": 9,
     "metadata": {},
     "output_type": "execute_result"
    }
   ],
   "source": [
    "df.head()"
   ]
  },
  {
   "cell_type": "code",
   "execution_count": 10,
   "id": "3efdda93",
   "metadata": {
    "ExecuteTime": {
     "end_time": "2021-08-19T00:33:00.524647Z",
     "start_time": "2021-08-19T00:33:00.504668Z"
    }
   },
   "outputs": [
    {
     "data": {
      "text/plain": [
       "0    know power shifting west east north south pres...\n",
       "1    following success accidental billionaires mone...\n",
       "2    tap power social software networks build busin...\n",
       "3    william j bernstein american financial theoris...\n",
       "4    amazing book joined steve jobs many akio morit...\n",
       "Name: cleaned, dtype: object"
      ]
     },
     "execution_count": 10,
     "metadata": {},
     "output_type": "execute_result"
    }
   ],
   "source": [
    "df['cleaned'].head()"
   ]
  },
  {
   "cell_type": "code",
   "execution_count": 11,
   "id": "2894e1b6",
   "metadata": {
    "ExecuteTime": {
     "end_time": "2021-08-19T00:33:19.670439Z",
     "start_time": "2021-08-19T00:33:19.656477Z"
    }
   },
   "outputs": [
    {
     "data": {
      "text/plain": [
       "'know power shifting west east north south presidential palaces public squares formidable corporate behemoths nimble startups and slowly surely men women power merely shifting dispersing also decaying power today constrained risk losing ever before end power award winning columnist former foreign policy editor moiss nam illuminates struggle once dominant megaplayers new micropowers challenging every field human endeavor drawing provocative original research nam shows antiestablishment drive micropowers topple tyrants dislodge monopolies open remarkable new opportunities also lead chaos paralysis nam deftly covers seismic changes underway business religion education within families matters war peace examples abound walks life eighty nine countries ruled autocrats today half world s population lives democracies ceo s constrained shorter tenures predecessors modern tools war cheaper accessible make possible groups like hezbollah afford drones second half top ten hedge funds earned world s largest six banks combined power retain erecting powerful barriers keep challengers bay today insurgent forces dismantle barriers quickly easily ever find become vulnerable process accessible captivating nam offers revolutionary look inevitable end powerand change world'"
      ]
     },
     "execution_count": 11,
     "metadata": {},
     "output_type": "execute_result"
    }
   ],
   "source": [
    "df['cleaned'][0]"
   ]
  },
  {
   "cell_type": "code",
   "execution_count": 13,
   "id": "cece0396",
   "metadata": {
    "ExecuteTime": {
     "end_time": "2021-08-19T00:45:15.472322Z",
     "start_time": "2021-08-19T00:45:15.445635Z"
    }
   },
   "outputs": [
    {
     "data": {
      "text/plain": [
       "0"
      ]
     },
     "execution_count": 13,
     "metadata": {},
     "output_type": "execute_result"
    }
   ],
   "source": [
    "# 빈 값이 있는 행이 있는지 확인\n",
    "df['cleaned'].isna().sum()"
   ]
  },
  {
   "cell_type": "markdown",
   "id": "f1614163",
   "metadata": {},
   "source": [
    "빈값 NA가 다른거였나"
   ]
  },
  {
   "cell_type": "code",
   "execution_count": 14,
   "id": "a990d3cd",
   "metadata": {
    "ExecuteTime": {
     "end_time": "2021-08-19T00:46:14.076749Z",
     "start_time": "2021-08-19T00:46:14.052825Z"
    }
   },
   "outputs": [
    {
     "name": "stdout",
     "output_type": "stream",
     "text": [
      "전체 문서 수 :  2381\n"
     ]
    }
   ],
   "source": [
    "df['cleaned'].replace('', np.nan, inplace=True)\n",
    "df = df[df['cleaned'].notna()]\n",
    "print('전체 문서 수 : ', len(df))"
   ]
  },
  {
   "cell_type": "markdown",
   "id": "637dec7d",
   "metadata": {},
   "source": [
    "빈 값이 있던 행이 1개 있었는듯. 1개 줄음."
   ]
  },
  {
   "cell_type": "markdown",
   "id": "0c7e5535",
   "metadata": {},
   "source": [
    "Tokenize를 통해 corpus라는 리스트에 토큰 저장.  <br>\n",
    "이 corpus 리스트를 통해 Word2Vec을 train할 것."
   ]
  },
  {
   "cell_type": "code",
   "execution_count": 15,
   "id": "5270367b",
   "metadata": {
    "ExecuteTime": {
     "end_time": "2021-08-19T00:47:17.422306Z",
     "start_time": "2021-08-19T00:47:17.375411Z"
    }
   },
   "outputs": [],
   "source": [
    "corpus = []\n",
    "for words in df['cleaned']:\n",
    "    corpus.append(words.split())"
   ]
  },
  {
   "cell_type": "markdown",
   "id": "541e8ce8",
   "metadata": {},
   "source": [
    "# Pre-trained word embedding\n",
    "\n",
    "<br>\n",
    "\n",
    "- Word2Vec을 처음부터 학습할 수도 있지만, 데이터가 충분하지 않은 상황에서\n",
    "- pre-trained 워드 임베딩을 단어 벡터의 초기값으로 사용해 성능을 높일 수 있음.\n",
    "- 사전 훈련된 Word2Vec을 써서 초기 단어 벡터값을 만들자."
   ]
  },
  {
   "cell_type": "code",
   "execution_count": 25,
   "id": "fca20911",
   "metadata": {
    "ExecuteTime": {
     "end_time": "2021-08-19T01:08:50.021509Z",
     "start_time": "2021-08-19T01:07:22.851626Z"
    }
   },
   "outputs": [
    {
     "ename": "KeyboardInterrupt",
     "evalue": "",
     "output_type": "error",
     "traceback": [
      "\u001b[1;31m---------------------------------------------------------------------------\u001b[0m",
      "\u001b[1;31mKeyboardInterrupt\u001b[0m                         Traceback (most recent call last)",
      "\u001b[1;32mC:\\Users\\CHEOLH~1\\AppData\\Local\\Temp/ipykernel_17600/3685047740.py\u001b[0m in \u001b[0;36m<module>\u001b[1;34m\u001b[0m\n\u001b[1;32m----> 1\u001b[1;33m urllib.request.urlretrieve(\"https://s3.amazonaws.com/dl4j-distribution/GoogleNews-vectors-negative300.bin.gz\",\n\u001b[0m\u001b[0;32m      2\u001b[0m                            filename='GoogleNews-vectors-negative300.bin.gz')\n",
      "\u001b[1;32mC:\\ProgramData\\Anaconda3\\envs\\WorkBase\\lib\\urllib\\request.py\u001b[0m in \u001b[0;36murlretrieve\u001b[1;34m(url, filename, reporthook, data)\u001b[0m\n\u001b[0;32m    274\u001b[0m \u001b[1;33m\u001b[0m\u001b[0m\n\u001b[0;32m    275\u001b[0m             \u001b[1;32mwhile\u001b[0m \u001b[1;32mTrue\u001b[0m\u001b[1;33m:\u001b[0m\u001b[1;33m\u001b[0m\u001b[1;33m\u001b[0m\u001b[0m\n\u001b[1;32m--> 276\u001b[1;33m                 \u001b[0mblock\u001b[0m \u001b[1;33m=\u001b[0m \u001b[0mfp\u001b[0m\u001b[1;33m.\u001b[0m\u001b[0mread\u001b[0m\u001b[1;33m(\u001b[0m\u001b[0mbs\u001b[0m\u001b[1;33m)\u001b[0m\u001b[1;33m\u001b[0m\u001b[1;33m\u001b[0m\u001b[0m\n\u001b[0m\u001b[0;32m    277\u001b[0m                 \u001b[1;32mif\u001b[0m \u001b[1;32mnot\u001b[0m \u001b[0mblock\u001b[0m\u001b[1;33m:\u001b[0m\u001b[1;33m\u001b[0m\u001b[1;33m\u001b[0m\u001b[0m\n\u001b[0;32m    278\u001b[0m                     \u001b[1;32mbreak\u001b[0m\u001b[1;33m\u001b[0m\u001b[1;33m\u001b[0m\u001b[0m\n",
      "\u001b[1;32mC:\\ProgramData\\Anaconda3\\envs\\WorkBase\\lib\\http\\client.py\u001b[0m in \u001b[0;36mread\u001b[1;34m(self, amt)\u001b[0m\n\u001b[0;32m    457\u001b[0m             \u001b[1;31m# Amount is given, implement using readinto\u001b[0m\u001b[1;33m\u001b[0m\u001b[1;33m\u001b[0m\u001b[1;33m\u001b[0m\u001b[0m\n\u001b[0;32m    458\u001b[0m             \u001b[0mb\u001b[0m \u001b[1;33m=\u001b[0m \u001b[0mbytearray\u001b[0m\u001b[1;33m(\u001b[0m\u001b[0mamt\u001b[0m\u001b[1;33m)\u001b[0m\u001b[1;33m\u001b[0m\u001b[1;33m\u001b[0m\u001b[0m\n\u001b[1;32m--> 459\u001b[1;33m             \u001b[0mn\u001b[0m \u001b[1;33m=\u001b[0m \u001b[0mself\u001b[0m\u001b[1;33m.\u001b[0m\u001b[0mreadinto\u001b[0m\u001b[1;33m(\u001b[0m\u001b[0mb\u001b[0m\u001b[1;33m)\u001b[0m\u001b[1;33m\u001b[0m\u001b[1;33m\u001b[0m\u001b[0m\n\u001b[0m\u001b[0;32m    460\u001b[0m             \u001b[1;32mreturn\u001b[0m \u001b[0mmemoryview\u001b[0m\u001b[1;33m(\u001b[0m\u001b[0mb\u001b[0m\u001b[1;33m)\u001b[0m\u001b[1;33m[\u001b[0m\u001b[1;33m:\u001b[0m\u001b[0mn\u001b[0m\u001b[1;33m]\u001b[0m\u001b[1;33m.\u001b[0m\u001b[0mtobytes\u001b[0m\u001b[1;33m(\u001b[0m\u001b[1;33m)\u001b[0m\u001b[1;33m\u001b[0m\u001b[1;33m\u001b[0m\u001b[0m\n\u001b[0;32m    461\u001b[0m         \u001b[1;32melse\u001b[0m\u001b[1;33m:\u001b[0m\u001b[1;33m\u001b[0m\u001b[1;33m\u001b[0m\u001b[0m\n",
      "\u001b[1;32mC:\\ProgramData\\Anaconda3\\envs\\WorkBase\\lib\\http\\client.py\u001b[0m in \u001b[0;36mreadinto\u001b[1;34m(self, b)\u001b[0m\n\u001b[0;32m    501\u001b[0m         \u001b[1;31m# connection, and the user is reading more bytes than will be provided\u001b[0m\u001b[1;33m\u001b[0m\u001b[1;33m\u001b[0m\u001b[1;33m\u001b[0m\u001b[0m\n\u001b[0;32m    502\u001b[0m         \u001b[1;31m# (for example, reading in 1k chunks)\u001b[0m\u001b[1;33m\u001b[0m\u001b[1;33m\u001b[0m\u001b[1;33m\u001b[0m\u001b[0m\n\u001b[1;32m--> 503\u001b[1;33m         \u001b[0mn\u001b[0m \u001b[1;33m=\u001b[0m \u001b[0mself\u001b[0m\u001b[1;33m.\u001b[0m\u001b[0mfp\u001b[0m\u001b[1;33m.\u001b[0m\u001b[0mreadinto\u001b[0m\u001b[1;33m(\u001b[0m\u001b[0mb\u001b[0m\u001b[1;33m)\u001b[0m\u001b[1;33m\u001b[0m\u001b[1;33m\u001b[0m\u001b[0m\n\u001b[0m\u001b[0;32m    504\u001b[0m         \u001b[1;32mif\u001b[0m \u001b[1;32mnot\u001b[0m \u001b[0mn\u001b[0m \u001b[1;32mand\u001b[0m \u001b[0mb\u001b[0m\u001b[1;33m:\u001b[0m\u001b[1;33m\u001b[0m\u001b[1;33m\u001b[0m\u001b[0m\n\u001b[0;32m    505\u001b[0m             \u001b[1;31m# Ideally, we would raise IncompleteRead if the content-length\u001b[0m\u001b[1;33m\u001b[0m\u001b[1;33m\u001b[0m\u001b[1;33m\u001b[0m\u001b[0m\n",
      "\u001b[1;32mC:\\ProgramData\\Anaconda3\\envs\\WorkBase\\lib\\socket.py\u001b[0m in \u001b[0;36mreadinto\u001b[1;34m(self, b)\u001b[0m\n\u001b[0;32m    667\u001b[0m         \u001b[1;32mwhile\u001b[0m \u001b[1;32mTrue\u001b[0m\u001b[1;33m:\u001b[0m\u001b[1;33m\u001b[0m\u001b[1;33m\u001b[0m\u001b[0m\n\u001b[0;32m    668\u001b[0m             \u001b[1;32mtry\u001b[0m\u001b[1;33m:\u001b[0m\u001b[1;33m\u001b[0m\u001b[1;33m\u001b[0m\u001b[0m\n\u001b[1;32m--> 669\u001b[1;33m                 \u001b[1;32mreturn\u001b[0m \u001b[0mself\u001b[0m\u001b[1;33m.\u001b[0m\u001b[0m_sock\u001b[0m\u001b[1;33m.\u001b[0m\u001b[0mrecv_into\u001b[0m\u001b[1;33m(\u001b[0m\u001b[0mb\u001b[0m\u001b[1;33m)\u001b[0m\u001b[1;33m\u001b[0m\u001b[1;33m\u001b[0m\u001b[0m\n\u001b[0m\u001b[0;32m    670\u001b[0m             \u001b[1;32mexcept\u001b[0m \u001b[0mtimeout\u001b[0m\u001b[1;33m:\u001b[0m\u001b[1;33m\u001b[0m\u001b[1;33m\u001b[0m\u001b[0m\n\u001b[0;32m    671\u001b[0m                 \u001b[0mself\u001b[0m\u001b[1;33m.\u001b[0m\u001b[0m_timeout_occurred\u001b[0m \u001b[1;33m=\u001b[0m \u001b[1;32mTrue\u001b[0m\u001b[1;33m\u001b[0m\u001b[1;33m\u001b[0m\u001b[0m\n",
      "\u001b[1;32mC:\\ProgramData\\Anaconda3\\envs\\WorkBase\\lib\\ssl.py\u001b[0m in \u001b[0;36mrecv_into\u001b[1;34m(self, buffer, nbytes, flags)\u001b[0m\n\u001b[0;32m   1239\u001b[0m                   \u001b[1;34m\"non-zero flags not allowed in calls to recv_into() on %s\"\u001b[0m \u001b[1;33m%\u001b[0m\u001b[1;33m\u001b[0m\u001b[1;33m\u001b[0m\u001b[0m\n\u001b[0;32m   1240\u001b[0m                   self.__class__)\n\u001b[1;32m-> 1241\u001b[1;33m             \u001b[1;32mreturn\u001b[0m \u001b[0mself\u001b[0m\u001b[1;33m.\u001b[0m\u001b[0mread\u001b[0m\u001b[1;33m(\u001b[0m\u001b[0mnbytes\u001b[0m\u001b[1;33m,\u001b[0m \u001b[0mbuffer\u001b[0m\u001b[1;33m)\u001b[0m\u001b[1;33m\u001b[0m\u001b[1;33m\u001b[0m\u001b[0m\n\u001b[0m\u001b[0;32m   1242\u001b[0m         \u001b[1;32melse\u001b[0m\u001b[1;33m:\u001b[0m\u001b[1;33m\u001b[0m\u001b[1;33m\u001b[0m\u001b[0m\n\u001b[0;32m   1243\u001b[0m             \u001b[1;32mreturn\u001b[0m \u001b[0msuper\u001b[0m\u001b[1;33m(\u001b[0m\u001b[1;33m)\u001b[0m\u001b[1;33m.\u001b[0m\u001b[0mrecv_into\u001b[0m\u001b[1;33m(\u001b[0m\u001b[0mbuffer\u001b[0m\u001b[1;33m,\u001b[0m \u001b[0mnbytes\u001b[0m\u001b[1;33m,\u001b[0m \u001b[0mflags\u001b[0m\u001b[1;33m)\u001b[0m\u001b[1;33m\u001b[0m\u001b[1;33m\u001b[0m\u001b[0m\n",
      "\u001b[1;32mC:\\ProgramData\\Anaconda3\\envs\\WorkBase\\lib\\ssl.py\u001b[0m in \u001b[0;36mread\u001b[1;34m(self, len, buffer)\u001b[0m\n\u001b[0;32m   1097\u001b[0m         \u001b[1;32mtry\u001b[0m\u001b[1;33m:\u001b[0m\u001b[1;33m\u001b[0m\u001b[1;33m\u001b[0m\u001b[0m\n\u001b[0;32m   1098\u001b[0m             \u001b[1;32mif\u001b[0m \u001b[0mbuffer\u001b[0m \u001b[1;32mis\u001b[0m \u001b[1;32mnot\u001b[0m \u001b[1;32mNone\u001b[0m\u001b[1;33m:\u001b[0m\u001b[1;33m\u001b[0m\u001b[1;33m\u001b[0m\u001b[0m\n\u001b[1;32m-> 1099\u001b[1;33m                 \u001b[1;32mreturn\u001b[0m \u001b[0mself\u001b[0m\u001b[1;33m.\u001b[0m\u001b[0m_sslobj\u001b[0m\u001b[1;33m.\u001b[0m\u001b[0mread\u001b[0m\u001b[1;33m(\u001b[0m\u001b[0mlen\u001b[0m\u001b[1;33m,\u001b[0m \u001b[0mbuffer\u001b[0m\u001b[1;33m)\u001b[0m\u001b[1;33m\u001b[0m\u001b[1;33m\u001b[0m\u001b[0m\n\u001b[0m\u001b[0;32m   1100\u001b[0m             \u001b[1;32melse\u001b[0m\u001b[1;33m:\u001b[0m\u001b[1;33m\u001b[0m\u001b[1;33m\u001b[0m\u001b[0m\n\u001b[0;32m   1101\u001b[0m                 \u001b[1;32mreturn\u001b[0m \u001b[0mself\u001b[0m\u001b[1;33m.\u001b[0m\u001b[0m_sslobj\u001b[0m\u001b[1;33m.\u001b[0m\u001b[0mread\u001b[0m\u001b[1;33m(\u001b[0m\u001b[0mlen\u001b[0m\u001b[1;33m)\u001b[0m\u001b[1;33m\u001b[0m\u001b[1;33m\u001b[0m\u001b[0m\n",
      "\u001b[1;31mKeyboardInterrupt\u001b[0m: "
     ]
    }
   ],
   "source": [
    "urllib.request.urlretrieve(\"https://s3.amazonaws.com/dl4j-distribution/GoogleNews-vectors-negative300.bin.gz\",\n",
    "                           filename='GoogleNews-vectors-negative300.bin.gz')"
   ]
  },
  {
   "cell_type": "markdown",
   "id": "d80b74e5",
   "metadata": {},
   "source": [
    "    1.5GB ㅋㅋㅋ"
   ]
  },
  {
   "cell_type": "markdown",
   "id": "eb93ac58",
   "metadata": {},
   "source": [
    "그냥 Word2Vec 훈련시켜서 돌려보자."
   ]
  },
  {
   "cell_type": "code",
   "execution_count": 26,
   "id": "da8d492c",
   "metadata": {
    "ExecuteTime": {
     "end_time": "2021-08-19T01:08:57.179248Z",
     "start_time": "2021-08-19T01:08:56.626870Z"
    }
   },
   "outputs": [
    {
     "data": {
      "text/plain": [
       "(0, 0)"
      ]
     },
     "execution_count": 26,
     "metadata": {},
     "output_type": "execute_result"
    }
   ],
   "source": [
    "word2vec_model = Word2Vec(\n",
    "    vector_size = 300,\n",
    "    window = 5,\n",
    "    min_count = 2,\n",
    "    workers = -1\n",
    ")\n",
    "# Build vocabulary from a sequence of sentences (can be a once-only generator stream)\n",
    "word2vec_model.build_vocab(corpus)\n",
    "word2vec_model.train(corpus, total_examples = word2vec_model.corpus_count, epochs = 20)"
   ]
  },
  {
   "cell_type": "code",
   "execution_count": 28,
   "id": "b87fce11",
   "metadata": {
    "ExecuteTime": {
     "end_time": "2021-08-19T01:09:19.352863Z",
     "start_time": "2021-08-19T01:09:19.321088Z"
    }
   },
   "outputs": [
    {
     "data": {
      "text/plain": [
       "[('geopolitical', 0.2552624046802521),\n",
       " ('troubles', 0.21435749530792236),\n",
       " ('function', 0.19762557744979858),\n",
       " ('infancy', 0.19695225358009338),\n",
       " ('educators', 0.19205407798290253),\n",
       " ('sea', 0.191654771566391),\n",
       " ('victim', 0.19070063531398773),\n",
       " ('indicating', 0.1876041293144226),\n",
       " ('despite', 0.18610814213752747),\n",
       " ('discrimination', 0.1846054196357727)]"
      ]
     },
     "execution_count": 28,
     "metadata": {},
     "output_type": "execute_result"
    }
   ],
   "source": [
    "word2vec_model.wv.most_similar('behemoths')"
   ]
  },
  {
   "cell_type": "markdown",
   "id": "3140825d",
   "metadata": {},
   "source": [
    "    이건 사전훈련 파일 받아두고 하는게 맞겠다. 시간이 너무 오래걸린다."
   ]
  }
 ],
 "metadata": {
  "kernelspec": {
   "display_name": "'[WorkBase]'",
   "language": "python",
   "name": "workbase"
  },
  "language_info": {
   "codemirror_mode": {
    "name": "ipython",
    "version": 3
   },
   "file_extension": ".py",
   "mimetype": "text/x-python",
   "name": "python",
   "nbconvert_exporter": "python",
   "pygments_lexer": "ipython3",
   "version": "3.8.11"
  },
  "toc": {
   "base_numbering": 1,
   "nav_menu": {},
   "number_sections": true,
   "sideBar": true,
   "skip_h1_title": false,
   "title_cell": "Table of Contents",
   "title_sidebar": "Contents",
   "toc_cell": false,
   "toc_position": {},
   "toc_section_display": true,
   "toc_window_display": false
  },
  "varInspector": {
   "cols": {
    "lenName": 16,
    "lenType": 16,
    "lenVar": 40
   },
   "kernels_config": {
    "python": {
     "delete_cmd_postfix": "",
     "delete_cmd_prefix": "del ",
     "library": "var_list.py",
     "varRefreshCmd": "print(var_dic_list())"
    },
    "r": {
     "delete_cmd_postfix": ") ",
     "delete_cmd_prefix": "rm(",
     "library": "var_list.r",
     "varRefreshCmd": "cat(var_dic_list()) "
    }
   },
   "position": {
    "height": "497px",
    "left": "160px",
    "right": "20px",
    "top": "187px",
    "width": "800px"
   },
   "types_to_exclude": [
    "module",
    "function",
    "builtin_function_or_method",
    "instance",
    "_Feature"
   ],
   "window_display": false
  }
 },
 "nbformat": 4,
 "nbformat_minor": 5
}

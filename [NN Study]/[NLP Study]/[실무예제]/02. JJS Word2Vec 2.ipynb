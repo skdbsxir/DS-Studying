{
 "cells": [
  {
   "cell_type": "code",
   "execution_count": 1,
   "id": "f36d9d37",
   "metadata": {
    "ExecuteTime": {
     "end_time": "2021-09-09T05:27:34.168777Z",
     "start_time": "2021-09-09T05:27:33.046966Z"
    }
   },
   "outputs": [],
   "source": [
    "import os, warnings\n",
    "import pandas as pd\n",
    "from konlpy.tag import Okt\n",
    "\n",
    "warnings.filterwarnings('ignore')"
   ]
  },
  {
   "cell_type": "code",
   "execution_count": 72,
   "id": "7db4ed9e",
   "metadata": {
    "ExecuteTime": {
     "end_time": "2021-09-09T06:47:23.114419Z",
     "start_time": "2021-09-09T06:47:23.100458Z"
    }
   },
   "outputs": [
    {
     "data": {
      "text/plain": [
       "['네이버쇼핑_(단호박_다이어트식품)_cleaned.csv',\n",
       " '네이버쇼핑_(단호박_샐러드)_cleaned.csv',\n",
       " '네이버쇼핑_(단호박칩_반려동물)_cleaned.csv',\n",
       " '스마트스토어_(구운_단호박)_cleaned.csv',\n",
       " '스마트스토어_(다이어트_스낵)_cleaned.csv',\n",
       " '스마트스토어_(호박_스낵)_cleaned.csv']"
      ]
     },
     "execution_count": 72,
     "metadata": {},
     "output_type": "execute_result"
    }
   ],
   "source": [
    "url = 'UseData/Voucher/Cleaned/'\n",
    "os.listdir(url)"
   ]
  },
  {
   "cell_type": "code",
   "execution_count": 103,
   "id": "638c78eb",
   "metadata": {
    "ExecuteTime": {
     "end_time": "2021-09-09T07:47:22.141940Z",
     "start_time": "2021-09-09T07:47:22.085091Z"
    }
   },
   "outputs": [
    {
     "data": {
      "text/html": [
       "<div>\n",
       "<style scoped>\n",
       "    .dataframe tbody tr th:only-of-type {\n",
       "        vertical-align: middle;\n",
       "    }\n",
       "\n",
       "    .dataframe tbody tr th {\n",
       "        vertical-align: top;\n",
       "    }\n",
       "\n",
       "    .dataframe thead th {\n",
       "        text-align: right;\n",
       "    }\n",
       "</style>\n",
       "<table border=\"1\" class=\"dataframe\">\n",
       "  <thead>\n",
       "    <tr style=\"text-align: right;\">\n",
       "      <th></th>\n",
       "      <th>제목</th>\n",
       "      <th>별점</th>\n",
       "      <th>Contents</th>\n",
       "      <th>긍부정</th>\n",
       "    </tr>\n",
       "  </thead>\n",
       "  <tbody>\n",
       "    <tr>\n",
       "      <th>0</th>\n",
       "      <td>한성기업 한성마트 곤약죽 단호박 130g 7개입</td>\n",
       "      <td>5</td>\n",
       "      <td>칼로리도 낮고 맛있어요 간식으로 최고</td>\n",
       "      <td>1</td>\n",
       "    </tr>\n",
       "    <tr>\n",
       "      <th>1</th>\n",
       "      <td>한성기업 한성마트 곤약죽 단호박 130g 7개입</td>\n",
       "      <td>5</td>\n",
       "      <td>단호박죽 너무 맛있어요  실온보관이라 편리하고 들고다니기도 좋네요 추천합니다</td>\n",
       "      <td>1</td>\n",
       "    </tr>\n",
       "    <tr>\n",
       "      <th>2</th>\n",
       "      <td>한성기업 한성마트 곤약죽 단호박 130g 7개입</td>\n",
       "      <td>5</td>\n",
       "      <td>칼로리도 낮고 단호박도 달고 맛있네요   간편포장이라서 편리합니다</td>\n",
       "      <td>1</td>\n",
       "    </tr>\n",
       "    <tr>\n",
       "      <th>3</th>\n",
       "      <td>한성기업 한성마트 곤약죽 단호박 130g 7개입</td>\n",
       "      <td>5</td>\n",
       "      <td>단호박 달고 맛있어요 칼로리도 낮아서 부담없이 참 좋습니다   차게 먹으니 더 ...</td>\n",
       "      <td>1</td>\n",
       "    </tr>\n",
       "    <tr>\n",
       "      <th>4</th>\n",
       "      <td>셀렉스 슬림 25 무지방 단백질쉐이크 체중조절 단호박</td>\n",
       "      <td>5</td>\n",
       "      <td>맛도먹을만하구 재구매의사있습니다</td>\n",
       "      <td>1</td>\n",
       "    </tr>\n",
       "  </tbody>\n",
       "</table>\n",
       "</div>"
      ],
      "text/plain": [
       "                              제목  별점  \\\n",
       "0     한성기업 한성마트 곤약죽 단호박 130g 7개입   5   \n",
       "1     한성기업 한성마트 곤약죽 단호박 130g 7개입   5   \n",
       "2     한성기업 한성마트 곤약죽 단호박 130g 7개입   5   \n",
       "3     한성기업 한성마트 곤약죽 단호박 130g 7개입   5   \n",
       "4  셀렉스 슬림 25 무지방 단백질쉐이크 체중조절 단호박   5   \n",
       "\n",
       "                                            Contents  긍부정  \n",
       "0                               칼로리도 낮고 맛있어요 간식으로 최고    1  \n",
       "1         단호박죽 너무 맛있어요  실온보관이라 편리하고 들고다니기도 좋네요 추천합니다    1  \n",
       "2               칼로리도 낮고 단호박도 달고 맛있네요   간편포장이라서 편리합니다    1  \n",
       "3    단호박 달고 맛있어요 칼로리도 낮아서 부담없이 참 좋습니다   차게 먹으니 더 ...    1  \n",
       "4                                 맛도먹을만하구 재구매의사있습니다     1  "
      ]
     },
     "execution_count": 103,
     "metadata": {},
     "output_type": "execute_result"
    }
   ],
   "source": [
    "df = pd.read_csv(url + os.listdir(url)[0], index_col=0)\n",
    "df.head()"
   ]
  },
  {
   "cell_type": "code",
   "execution_count": 104,
   "id": "5a7b88e4",
   "metadata": {
    "ExecuteTime": {
     "end_time": "2021-09-09T07:47:23.659087Z",
     "start_time": "2021-09-09T07:47:23.636148Z"
    }
   },
   "outputs": [
    {
     "data": {
      "text/html": [
       "<div>\n",
       "<style scoped>\n",
       "    .dataframe tbody tr th:only-of-type {\n",
       "        vertical-align: middle;\n",
       "    }\n",
       "\n",
       "    .dataframe tbody tr th {\n",
       "        vertical-align: top;\n",
       "    }\n",
       "\n",
       "    .dataframe thead th {\n",
       "        text-align: right;\n",
       "    }\n",
       "</style>\n",
       "<table border=\"1\" class=\"dataframe\">\n",
       "  <thead>\n",
       "    <tr style=\"text-align: right;\">\n",
       "      <th></th>\n",
       "      <th>Contents</th>\n",
       "    </tr>\n",
       "  </thead>\n",
       "  <tbody>\n",
       "    <tr>\n",
       "      <th>0</th>\n",
       "      <td>칼로리도 낮고 맛있어요 간식으로 최고</td>\n",
       "    </tr>\n",
       "    <tr>\n",
       "      <th>1</th>\n",
       "      <td>단호박죽 너무 맛있어요  실온보관이라 편리하고 들고다니기도 좋네요 추천합니다</td>\n",
       "    </tr>\n",
       "    <tr>\n",
       "      <th>2</th>\n",
       "      <td>칼로리도 낮고 단호박도 달고 맛있네요   간편포장이라서 편리합니다</td>\n",
       "    </tr>\n",
       "    <tr>\n",
       "      <th>3</th>\n",
       "      <td>단호박 달고 맛있어요 칼로리도 낮아서 부담없이 참 좋습니다   차게 먹으니 더 ...</td>\n",
       "    </tr>\n",
       "    <tr>\n",
       "      <th>4</th>\n",
       "      <td>맛도먹을만하구 재구매의사있습니다</td>\n",
       "    </tr>\n",
       "  </tbody>\n",
       "</table>\n",
       "</div>"
      ],
      "text/plain": [
       "                                            Contents\n",
       "0                               칼로리도 낮고 맛있어요 간식으로 최고\n",
       "1         단호박죽 너무 맛있어요  실온보관이라 편리하고 들고다니기도 좋네요 추천합니다\n",
       "2               칼로리도 낮고 단호박도 달고 맛있네요   간편포장이라서 편리합니다\n",
       "3    단호박 달고 맛있어요 칼로리도 낮아서 부담없이 참 좋습니다   차게 먹으니 더 ...\n",
       "4                                 맛도먹을만하구 재구매의사있습니다 "
      ]
     },
     "execution_count": 104,
     "metadata": {},
     "output_type": "execute_result"
    }
   ],
   "source": [
    "df.drop(['제목', '긍부정', '별점'], axis=1, inplace=True)\n",
    "df.head()"
   ]
  },
  {
   "cell_type": "code",
   "execution_count": 105,
   "id": "0b19e96e",
   "metadata": {
    "ExecuteTime": {
     "end_time": "2021-09-09T07:47:30.262289Z",
     "start_time": "2021-09-09T07:47:25.444838Z"
    }
   },
   "outputs": [
    {
     "data": {
      "text/plain": [
       "0    [(칼로리, Noun), (도, Josa), (낮다, Adjective), (맛있다...\n",
       "1    [(단, Modifier), (호박죽, Noun), (너무, Adverb), (맛있...\n",
       "2    [(칼로리, Noun), (도, Josa), (낮다, Adjective), (단호박...\n",
       "3    [(단호박, Noun), (달, Noun), (고, Josa), (맛있다, Adje...\n",
       "4    [(맛, Noun), (도, Josa), (먹다, Verb), (하다, Verb),...\n",
       "Name: Contents_input, dtype: object"
      ]
     },
     "execution_count": 105,
     "metadata": {},
     "output_type": "execute_result"
    }
   ],
   "source": [
    "okt = Okt()\n",
    "df['Contents_input'] = df['Contents'].apply(lambda x: okt.pos(x, norm=True, stem=True))\n",
    "df['Contents_input'].head()"
   ]
  },
  {
   "cell_type": "code",
   "execution_count": 12,
   "id": "7164c784",
   "metadata": {
    "ExecuteTime": {
     "end_time": "2021-09-09T05:32:05.531865Z",
     "start_time": "2021-09-09T05:32:05.505935Z"
    }
   },
   "outputs": [
    {
     "data": {
      "text/plain": [
       "\"\\n# 이거 안씀. 다시만들자.\\ndef wordSelector(series):\\n    wordList = []\\n    for index in range(len(series)):\\n        for word, pos in series[index]:\\n            if (pos == 'Noun') or (pos == 'Adjective'):\\n            # if (pos == 'Noun') or (pos == 'Adjective') or (pos == 'Verb'):\\n                wordList.append(word)\\n    return wordList\\n\""
      ]
     },
     "execution_count": 12,
     "metadata": {},
     "output_type": "execute_result"
    }
   ],
   "source": [
    "\"\"\"\n",
    "# 이거 안씀. 다시만들자.\n",
    "def wordSelector(series):\n",
    "    wordList = []\n",
    "    for index in range(len(series)):\n",
    "        for word, pos in series[index]:\n",
    "            if (pos == 'Noun') or (pos == 'Adjective'):\n",
    "            # if (pos == 'Noun') or (pos == 'Adjective') or (pos == 'Verb'):\n",
    "                wordList.append(word)\n",
    "    return wordList\n",
    "\"\"\""
   ]
  },
  {
   "cell_type": "code",
   "execution_count": 40,
   "id": "486b5290",
   "metadata": {
    "ExecuteTime": {
     "end_time": "2021-09-09T05:59:04.683956Z",
     "start_time": "2021-09-09T05:59:04.656076Z"
    }
   },
   "outputs": [
    {
     "data": {
      "text/plain": [
       "([('칼로리', 'Noun'),\n",
       "  ('도', 'Josa'),\n",
       "  ('낮다', 'Adjective'),\n",
       "  ('맛있다', 'Adjective'),\n",
       "  ('간식', 'Noun'),\n",
       "  ('으로', 'Josa'),\n",
       "  ('최고', 'Noun')],\n",
       " ('도', 'Josa'))"
      ]
     },
     "execution_count": 40,
     "metadata": {},
     "output_type": "execute_result"
    }
   ],
   "source": [
    "len(df['Contents_input'])\n",
    "df['Contents_input'][0], df['Contents_input'][0][1]"
   ]
  },
  {
   "cell_type": "markdown",
   "id": "b1945bb2",
   "metadata": {},
   "source": [
    "    이거 인덱스 문젠데\n",
    "    시리즈 통째로 받아서 그 안 리스트돌면서 단어들만 쭉 빼는게 지금 함수.\n",
    "    시리즈의 각 row마다 단어만 뽑은걸 list로 다시 그 row에 저장하기 <-- 이게 할거.\n",
    "    인덱스 접근을어떻게 해야할까."
   ]
  },
  {
   "cell_type": "code",
   "execution_count": 7,
   "id": "cfd3904d",
   "metadata": {
    "ExecuteTime": {
     "end_time": "2021-09-09T05:28:14.905495Z",
     "start_time": "2021-09-09T05:28:14.865576Z"
    }
   },
   "outputs": [
    {
     "data": {
      "text/plain": [
       "0       [(칼로리, Noun), (도, Josa), (낮다, Adjective), (맛있다...\n",
       "1       [(단, Modifier), (호박죽, Noun), (너무, Adverb), (맛있...\n",
       "2       [(칼로리, Noun), (도, Josa), (낮다, Adjective), (단호박...\n",
       "3       [(단호박, Noun), (달, Noun), (고, Josa), (맛있다, Adje...\n",
       "4       [(맛, Noun), (도, Josa), (먹다, Verb), (하다, Verb),...\n",
       "                              ...                        \n",
       "1429    [(다이어트, Noun), (하다, Verb), (간식, Noun), (으로, Jo...\n",
       "1430    [(맛있다, Adjective), (아침, Noun), (식사, Noun), (대용...\n",
       "1431    [(적당하다, Adjective), (달, Noun), (고, Josa), (맛있다...\n",
       "1432     [(계속, Noun), (재다, Verb), (하다, Verb), (먹다, Verb)]\n",
       "1433    [(계속, Noun), (재다, Verb), (하다, Verb), (먹다, Verb...\n",
       "Name: Contents_input, Length: 1434, dtype: object"
      ]
     },
     "execution_count": 7,
     "metadata": {},
     "output_type": "execute_result"
    }
   ],
   "source": [
    "df['Contents_input']"
   ]
  },
  {
   "cell_type": "markdown",
   "id": "c04243ef",
   "metadata": {},
   "source": [
    "    df[~~][i] 로 loop 돌아서 : i의 loop 범위는 len(df[~~])\n",
    "    df[~~][i][j][1] 로 loop 돌면서 : j의 loop 범위는 len(df[~~][i])\n",
    "    이렇게 하고 루프 돌리면 되지 않을까."
   ]
  },
  {
   "cell_type": "code",
   "execution_count": 10,
   "id": "4a52104b",
   "metadata": {
    "ExecuteTime": {
     "end_time": "2021-09-09T05:31:40.566094Z",
     "start_time": "2021-09-09T05:31:40.539130Z"
    }
   },
   "outputs": [
    {
     "data": {
      "text/plain": [
       "(7, list)"
      ]
     },
     "execution_count": 10,
     "metadata": {},
     "output_type": "execute_result"
    }
   ],
   "source": [
    "len(df['Contents_input'][0]), type(df['Contents_input'][0])"
   ]
  },
  {
   "cell_type": "code",
   "execution_count": 106,
   "id": "413ff3d7",
   "metadata": {
    "ExecuteTime": {
     "end_time": "2021-09-09T07:47:38.321690Z",
     "start_time": "2021-09-09T07:47:38.307689Z"
    }
   },
   "outputs": [],
   "source": [
    "def wordSelector(series):\n",
    "    # wordList = [] # 이걸 여기서 선언할게 아니지 시발\n",
    "    for i in range(len(series)):\n",
    "        wordList = []\n",
    "        for j in range(len(series[i])):\n",
    "            if series[i][j][1] == 'Noun' or series[i][j][1] == 'Adjective':\n",
    "                wordList.append(series[i][j][0])         \n",
    "        series[i] = wordList\n",
    "    # 각 row마다 list로 리턴해주면 되는데 이걸 어떻게 하지\n",
    "    # return wordList\n",
    "    return series"
   ]
  },
  {
   "cell_type": "code",
   "execution_count": 107,
   "id": "3f6db37f",
   "metadata": {
    "ExecuteTime": {
     "end_time": "2021-09-09T07:47:40.023830Z",
     "start_time": "2021-09-09T07:47:39.515315Z"
    }
   },
   "outputs": [
    {
     "data": {
      "text/plain": [
       "0                                  [칼로리, 낮다, 맛있다, 간식, 최고]\n",
       "1                    [호박죽, 맛있다, 실온, 보관, 편리하다, 기도, 좋다, 추천]\n",
       "2                    [칼로리, 낮다, 단호박, 달, 맛있다, 간편, 포장, 편리하다]\n",
       "3                  [단호박, 달, 맛있다, 칼로리, 낮다, 부담, 좋다, 더, 맛있다]\n",
       "4                                             [맛, 의사, 있다]\n",
       "                              ...                        \n",
       "1429    [다이어트, 간식, 입맛, 카카오, 검다, 콩, 단백질, 함량, 맛, 높다, 좋다,...\n",
       "1430                                [맛있다, 아침, 식사, 대용, 굿굿]\n",
       "1431                                    [적당하다, 달, 맛있다, 더]\n",
       "1432                                                 [계속]\n",
       "1433                                          [계속, 있다, 요]\n",
       "Name: Contents_input, Length: 1434, dtype: object"
      ]
     },
     "execution_count": 107,
     "metadata": {},
     "output_type": "execute_result"
    }
   ],
   "source": [
    "wordSelector(df['Contents_input'])"
   ]
  },
  {
   "cell_type": "code",
   "execution_count": 78,
   "id": "b8923b90",
   "metadata": {
    "ExecuteTime": {
     "end_time": "2021-09-09T06:47:48.417994Z",
     "start_time": "2021-09-09T06:47:48.384710Z"
    }
   },
   "outputs": [
    {
     "data": {
      "text/html": [
       "<div>\n",
       "<style scoped>\n",
       "    .dataframe tbody tr th:only-of-type {\n",
       "        vertical-align: middle;\n",
       "    }\n",
       "\n",
       "    .dataframe tbody tr th {\n",
       "        vertical-align: top;\n",
       "    }\n",
       "\n",
       "    .dataframe thead th {\n",
       "        text-align: right;\n",
       "    }\n",
       "</style>\n",
       "<table border=\"1\" class=\"dataframe\">\n",
       "  <thead>\n",
       "    <tr style=\"text-align: right;\">\n",
       "      <th></th>\n",
       "      <th>Contents</th>\n",
       "      <th>Contents_input</th>\n",
       "    </tr>\n",
       "  </thead>\n",
       "  <tbody>\n",
       "    <tr>\n",
       "      <th>0</th>\n",
       "      <td>칼로리도 낮고 맛있어요 간식으로 최고</td>\n",
       "      <td>[칼로리, 낮다, 맛있다, 간식, 최고]</td>\n",
       "    </tr>\n",
       "    <tr>\n",
       "      <th>1</th>\n",
       "      <td>단호박죽 너무 맛있어요  실온보관이라 편리하고 들고다니기도 좋네요 추천합니다</td>\n",
       "      <td>[호박죽, 맛있다, 실온, 보관, 편리하다, 기도, 좋다, 추천]</td>\n",
       "    </tr>\n",
       "    <tr>\n",
       "      <th>2</th>\n",
       "      <td>칼로리도 낮고 단호박도 달고 맛있네요   간편포장이라서 편리합니다</td>\n",
       "      <td>[칼로리, 낮다, 단호박, 달, 맛있다, 간편, 포장, 편리하다]</td>\n",
       "    </tr>\n",
       "    <tr>\n",
       "      <th>3</th>\n",
       "      <td>단호박 달고 맛있어요 칼로리도 낮아서 부담없이 참 좋습니다   차게 먹으니 더 ...</td>\n",
       "      <td>[단호박, 달, 맛있다, 칼로리, 낮다, 부담, 좋다, 더, 맛있다]</td>\n",
       "    </tr>\n",
       "    <tr>\n",
       "      <th>4</th>\n",
       "      <td>맛도먹을만하구 재구매의사있습니다</td>\n",
       "      <td>[맛, 의사, 있다]</td>\n",
       "    </tr>\n",
       "  </tbody>\n",
       "</table>\n",
       "</div>"
      ],
      "text/plain": [
       "                                            Contents  \\\n",
       "0                               칼로리도 낮고 맛있어요 간식으로 최고   \n",
       "1         단호박죽 너무 맛있어요  실온보관이라 편리하고 들고다니기도 좋네요 추천합니다   \n",
       "2               칼로리도 낮고 단호박도 달고 맛있네요   간편포장이라서 편리합니다   \n",
       "3    단호박 달고 맛있어요 칼로리도 낮아서 부담없이 참 좋습니다   차게 먹으니 더 ...   \n",
       "4                                 맛도먹을만하구 재구매의사있습니다    \n",
       "\n",
       "                           Contents_input  \n",
       "0                  [칼로리, 낮다, 맛있다, 간식, 최고]  \n",
       "1    [호박죽, 맛있다, 실온, 보관, 편리하다, 기도, 좋다, 추천]  \n",
       "2    [칼로리, 낮다, 단호박, 달, 맛있다, 간편, 포장, 편리하다]  \n",
       "3  [단호박, 달, 맛있다, 칼로리, 낮다, 부담, 좋다, 더, 맛있다]  \n",
       "4                             [맛, 의사, 있다]  "
      ]
     },
     "execution_count": 78,
     "metadata": {},
     "output_type": "execute_result"
    }
   ],
   "source": [
    "df.head()"
   ]
  },
  {
   "cell_type": "markdown",
   "id": "2edbf9e4",
   "metadata": {
    "ExecuteTime": {
     "end_time": "2021-09-09T05:57:27.329901Z",
     "start_time": "2021-09-09T05:57:27.311953Z"
    }
   },
   "source": [
    "    됐다 ㅆㅂ 병신인가봐"
   ]
  },
  {
   "cell_type": "markdown",
   "id": "98fb9b7b",
   "metadata": {},
   "source": [
    "    불용어 사전 불러와서\n",
    "    Contents_input에서 불용어들 없애자."
   ]
  },
  {
   "cell_type": "code",
   "execution_count": 108,
   "id": "42931b71",
   "metadata": {
    "ExecuteTime": {
     "end_time": "2021-09-09T07:47:49.191045Z",
     "start_time": "2021-09-09T07:47:49.108094Z"
    },
    "scrolled": true
   },
   "outputs": [
    {
     "data": {
      "text/html": [
       "<div>\n",
       "<style scoped>\n",
       "    .dataframe tbody tr th:only-of-type {\n",
       "        vertical-align: middle;\n",
       "    }\n",
       "\n",
       "    .dataframe tbody tr th {\n",
       "        vertical-align: top;\n",
       "    }\n",
       "\n",
       "    .dataframe thead th {\n",
       "        text-align: right;\n",
       "    }\n",
       "</style>\n",
       "<table border=\"1\" class=\"dataframe\">\n",
       "  <thead>\n",
       "    <tr style=\"text-align: right;\">\n",
       "      <th></th>\n",
       "      <th>Contents</th>\n",
       "      <th>Contents_input</th>\n",
       "    </tr>\n",
       "  </thead>\n",
       "  <tbody>\n",
       "    <tr>\n",
       "      <th>0</th>\n",
       "      <td>칼로리도 낮고 맛있어요 간식으로 최고</td>\n",
       "      <td>[칼로리, 낮다, 간식, 최고]</td>\n",
       "    </tr>\n",
       "    <tr>\n",
       "      <th>1</th>\n",
       "      <td>단호박죽 너무 맛있어요  실온보관이라 편리하고 들고다니기도 좋네요 추천합니다</td>\n",
       "      <td>[호박죽, 실온, 보관, 편리하다, 기도, 추천]</td>\n",
       "    </tr>\n",
       "    <tr>\n",
       "      <th>2</th>\n",
       "      <td>칼로리도 낮고 단호박도 달고 맛있네요   간편포장이라서 편리합니다</td>\n",
       "      <td>[칼로리, 낮다, 달, 간편, 포장, 편리하다]</td>\n",
       "    </tr>\n",
       "    <tr>\n",
       "      <th>3</th>\n",
       "      <td>단호박 달고 맛있어요 칼로리도 낮아서 부담없이 참 좋습니다   차게 먹으니 더 ...</td>\n",
       "      <td>[달, 칼로리, 낮다, 부담, 더]</td>\n",
       "    </tr>\n",
       "    <tr>\n",
       "      <th>4</th>\n",
       "      <td>맛도먹을만하구 재구매의사있습니다</td>\n",
       "      <td>[맛, 의사]</td>\n",
       "    </tr>\n",
       "  </tbody>\n",
       "</table>\n",
       "</div>"
      ],
      "text/plain": [
       "                                            Contents  \\\n",
       "0                               칼로리도 낮고 맛있어요 간식으로 최고   \n",
       "1         단호박죽 너무 맛있어요  실온보관이라 편리하고 들고다니기도 좋네요 추천합니다   \n",
       "2               칼로리도 낮고 단호박도 달고 맛있네요   간편포장이라서 편리합니다   \n",
       "3    단호박 달고 맛있어요 칼로리도 낮아서 부담없이 참 좋습니다   차게 먹으니 더 ...   \n",
       "4                                 맛도먹을만하구 재구매의사있습니다    \n",
       "\n",
       "                Contents_input  \n",
       "0            [칼로리, 낮다, 간식, 최고]  \n",
       "1  [호박죽, 실온, 보관, 편리하다, 기도, 추천]  \n",
       "2   [칼로리, 낮다, 달, 간편, 포장, 편리하다]  \n",
       "3          [달, 칼로리, 낮다, 부담, 더]  \n",
       "4                      [맛, 의사]  "
      ]
     },
     "execution_count": 108,
     "metadata": {},
     "output_type": "execute_result"
    }
   ],
   "source": [
    "stop_url = 'UseData/Voucher/stoplist_neg.txt'\n",
    "\n",
    "with open(stop_url, 'r', encoding='utf8') as f:\n",
    "    stopwords = []\n",
    "    lines = f.readlines()\n",
    "    for line in lines:\n",
    "        line = line.strip()\n",
    "        stopwords.append(line)\n",
    "# stopwords\n",
    "for i in range(len(df['Contents_input'])):\n",
    "    for word in df['Contents_input'][i]:\n",
    "        # df['Input'] = [x for x in df['Contents_input'][i] if x not in stopwords]\n",
    "        if word in stopwords:\n",
    "            df['Contents_input'][i].remove(word) # 그냥 없애는건 안되나\n",
    "\n",
    "df.head()"
   ]
  },
  {
   "cell_type": "code",
   "execution_count": 101,
   "id": "2e2273b0",
   "metadata": {
    "ExecuteTime": {
     "end_time": "2021-09-09T07:35:06.453246Z",
     "start_time": "2021-09-09T07:35:06.438286Z"
    }
   },
   "outputs": [],
   "source": [
    "#df['TF'] = df['Contents_input'].apply(lambda x: len(x) > 1)\n",
    "#df.head()\n",
    "#df.drop(df[df['TF'] == False].index, inplace=True)\n",
    "#df = df.reset_index(drop=True)\n",
    "#df.drop('TF', axis=1, inplace=True)\n",
    "#df.head()\n",
    "    \n",
    "# 람다식으로 인덱스 접근이 되나\n",
    "# 모르겟네 enumerate?\n",
    "# df['TF'] = df['Contents_input'].apply(lambda x: x for index, word in enumerate(x) : if len(word)==1 x.remove(word))\n",
    "# df['TF'] = df['Contents_input'].apply(lambda x: x.remove(word) if len(word)==1 for index, word in enumerate(x))\n",
    "# df['TF']"
   ]
  },
  {
   "cell_type": "code",
   "execution_count": 111,
   "id": "efa29796",
   "metadata": {
    "ExecuteTime": {
     "end_time": "2021-09-09T07:50:05.526870Z",
     "start_time": "2021-09-09T07:50:05.508884Z"
    }
   },
   "outputs": [
    {
     "data": {
      "text/plain": [
       "(4, 3)"
      ]
     },
     "execution_count": 111,
     "metadata": {},
     "output_type": "execute_result"
    }
   ],
   "source": [
    "len(df['Contents_input'][0]), len(df['Contents_input'][0][0])"
   ]
  },
  {
   "cell_type": "code",
   "execution_count": 114,
   "id": "f618faab",
   "metadata": {
    "ExecuteTime": {
     "end_time": "2021-09-09T07:59:43.496146Z",
     "start_time": "2021-09-09T07:59:43.450748Z"
    }
   },
   "outputs": [
    {
     "data": {
      "text/html": [
       "<div>\n",
       "<style scoped>\n",
       "    .dataframe tbody tr th:only-of-type {\n",
       "        vertical-align: middle;\n",
       "    }\n",
       "\n",
       "    .dataframe tbody tr th {\n",
       "        vertical-align: top;\n",
       "    }\n",
       "\n",
       "    .dataframe thead th {\n",
       "        text-align: right;\n",
       "    }\n",
       "</style>\n",
       "<table border=\"1\" class=\"dataframe\">\n",
       "  <thead>\n",
       "    <tr style=\"text-align: right;\">\n",
       "      <th></th>\n",
       "      <th>Contents</th>\n",
       "      <th>Contents_input</th>\n",
       "    </tr>\n",
       "  </thead>\n",
       "  <tbody>\n",
       "    <tr>\n",
       "      <th>0</th>\n",
       "      <td>칼로리도 낮고 맛있어요 간식으로 최고</td>\n",
       "      <td>[칼로리, 낮다, 간식, 최고]</td>\n",
       "    </tr>\n",
       "    <tr>\n",
       "      <th>1</th>\n",
       "      <td>단호박죽 너무 맛있어요  실온보관이라 편리하고 들고다니기도 좋네요 추천합니다</td>\n",
       "      <td>[호박죽, 실온, 보관, 편리하다, 기도, 추천]</td>\n",
       "    </tr>\n",
       "    <tr>\n",
       "      <th>2</th>\n",
       "      <td>칼로리도 낮고 단호박도 달고 맛있네요   간편포장이라서 편리합니다</td>\n",
       "      <td>[칼로리, 낮다, 간편, 포장, 편리하다]</td>\n",
       "    </tr>\n",
       "    <tr>\n",
       "      <th>3</th>\n",
       "      <td>단호박 달고 맛있어요 칼로리도 낮아서 부담없이 참 좋습니다   차게 먹으니 더 ...</td>\n",
       "      <td>[칼로리, 낮다, 부담]</td>\n",
       "    </tr>\n",
       "    <tr>\n",
       "      <th>4</th>\n",
       "      <td>맛도먹을만하구 재구매의사있습니다</td>\n",
       "      <td>[의사]</td>\n",
       "    </tr>\n",
       "  </tbody>\n",
       "</table>\n",
       "</div>"
      ],
      "text/plain": [
       "                                            Contents  \\\n",
       "0                               칼로리도 낮고 맛있어요 간식으로 최고   \n",
       "1         단호박죽 너무 맛있어요  실온보관이라 편리하고 들고다니기도 좋네요 추천합니다   \n",
       "2               칼로리도 낮고 단호박도 달고 맛있네요   간편포장이라서 편리합니다   \n",
       "3    단호박 달고 맛있어요 칼로리도 낮아서 부담없이 참 좋습니다   차게 먹으니 더 ...   \n",
       "4                                 맛도먹을만하구 재구매의사있습니다    \n",
       "\n",
       "                Contents_input  \n",
       "0            [칼로리, 낮다, 간식, 최고]  \n",
       "1  [호박죽, 실온, 보관, 편리하다, 기도, 추천]  \n",
       "2      [칼로리, 낮다, 간편, 포장, 편리하다]  \n",
       "3                [칼로리, 낮다, 부담]  \n",
       "4                         [의사]  "
      ]
     },
     "execution_count": 114,
     "metadata": {},
     "output_type": "execute_result"
    }
   ],
   "source": [
    "# for문 돌립시다.\n",
    "\"\"\"\n",
    "for i in range(len(df['Contents_input'])):\n",
    "    if len(df['Contents_input'][i]) == 0:\n",
    "        continue\n",
    "    for j in range(len(df['Contents_input'][i])):\n",
    "        if len(df['Contents_input'][i][j]) == 1:\n",
    "            df['Contents_input'][i].remove(df['Contents_input'][i][j])\n",
    "df['Contents_input'].head()\n",
    "\"\"\"\n",
    "for index, wordList in enumerate(df['Contents_input']):\n",
    "    if len(df['Contents_input'][index]) == 0:\n",
    "        continue\n",
    "    for word in wordList:\n",
    "        if len(word) == 1:\n",
    "            df['Contents_input'][index].remove(word)\n",
    "df['Contents_input'].head()\n",
    "df.head()"
   ]
  },
  {
   "cell_type": "markdown",
   "id": "58cd50b8",
   "metadata": {},
   "source": [
    "    됐다.\n",
    "    함수화 하자."
   ]
  },
  {
   "cell_type": "markdown",
   "id": "0748837b",
   "metadata": {},
   "source": [
    "------------------"
   ]
  },
  {
   "cell_type": "code",
   "execution_count": 127,
   "id": "fda78230",
   "metadata": {
    "ExecuteTime": {
     "end_time": "2021-09-09T08:03:35.718555Z",
     "start_time": "2021-09-09T08:03:35.697611Z"
    },
    "scrolled": true
   },
   "outputs": [
    {
     "data": {
      "text/plain": [
       "['맛있다', '좋아하다', '제품', '개인', '성분', '하나', '많다', '있다', '같다', '좋다']"
      ]
     },
     "execution_count": 127,
     "metadata": {},
     "output_type": "execute_result"
    }
   ],
   "source": [
    "url = 'UseData/Voucher/Cleaned/'\n",
    "saveURL = 'UseData/Voucher/InputWords/'\n",
    "\n",
    "# 사전 로딩\n",
    "stop_neg = 'UseData/Voucher/stoplist_neg.txt'\n",
    "stop_pos = 'UseData/Voucher/stoplist_pos.txt'\n",
    "\n",
    "# 긍정사전 로딩\n",
    "with open (stop_pos, 'r', encoding='utf8') as f:\n",
    "    stopwords_pos = []\n",
    "    lines = f.readlines()\n",
    "    for line in lines:\n",
    "        line = line.strip()\n",
    "        stopwords_pos.append(line)\n",
    "        \n",
    "# 부정사전 로딩\n",
    "with open(stop_neg, 'r', encoding='utf8') as f2:\n",
    "    stopwords_neg = []\n",
    "    lines2 = f2.readlines()\n",
    "    for line in lines2:\n",
    "        line = line.strip()\n",
    "        stopwords_neg.append(line)\n",
    "\n",
    "# 이 사전을 같이 합친다? set 연산.\n",
    "temp = list((set(stopwords_pos)).difference(set(stopwords_neg))) # 차집합을 리스트로 구하고\n",
    "stopwords = stopwords_neg + temp # 빈 부분(교집합 부분)을 더하기.\n",
    "\n",
    "stopwords[:10]"
   ]
  },
  {
   "cell_type": "code",
   "execution_count": 116,
   "id": "f7ab8c75",
   "metadata": {
    "ExecuteTime": {
     "end_time": "2021-09-09T08:00:19.355519Z",
     "start_time": "2021-09-09T08:00:19.330589Z"
    }
   },
   "outputs": [
    {
     "data": {
      "text/html": [
       "<div>\n",
       "<style scoped>\n",
       "    .dataframe tbody tr th:only-of-type {\n",
       "        vertical-align: middle;\n",
       "    }\n",
       "\n",
       "    .dataframe tbody tr th {\n",
       "        vertical-align: top;\n",
       "    }\n",
       "\n",
       "    .dataframe thead th {\n",
       "        text-align: right;\n",
       "    }\n",
       "</style>\n",
       "<table border=\"1\" class=\"dataframe\">\n",
       "  <thead>\n",
       "    <tr style=\"text-align: right;\">\n",
       "      <th></th>\n",
       "      <th>File</th>\n",
       "    </tr>\n",
       "  </thead>\n",
       "  <tbody>\n",
       "    <tr>\n",
       "      <th>0</th>\n",
       "      <td>네이버쇼핑_(단호박_다이어트식품)_cleaned.csv</td>\n",
       "    </tr>\n",
       "    <tr>\n",
       "      <th>1</th>\n",
       "      <td>네이버쇼핑_(단호박_샐러드)_cleaned.csv</td>\n",
       "    </tr>\n",
       "    <tr>\n",
       "      <th>2</th>\n",
       "      <td>네이버쇼핑_(단호박칩_반려동물)_cleaned.csv</td>\n",
       "    </tr>\n",
       "    <tr>\n",
       "      <th>3</th>\n",
       "      <td>스마트스토어_(구운_단호박)_cleaned.csv</td>\n",
       "    </tr>\n",
       "    <tr>\n",
       "      <th>4</th>\n",
       "      <td>스마트스토어_(다이어트_스낵)_cleaned.csv</td>\n",
       "    </tr>\n",
       "    <tr>\n",
       "      <th>5</th>\n",
       "      <td>스마트스토어_(호박_스낵)_cleaned.csv</td>\n",
       "    </tr>\n",
       "  </tbody>\n",
       "</table>\n",
       "</div>"
      ],
      "text/plain": [
       "                             File\n",
       "0  네이버쇼핑_(단호박_다이어트식품)_cleaned.csv\n",
       "1     네이버쇼핑_(단호박_샐러드)_cleaned.csv\n",
       "2   네이버쇼핑_(단호박칩_반려동물)_cleaned.csv\n",
       "3     스마트스토어_(구운_단호박)_cleaned.csv\n",
       "4    스마트스토어_(다이어트_스낵)_cleaned.csv\n",
       "5      스마트스토어_(호박_스낵)_cleaned.csv"
      ]
     },
     "execution_count": 116,
     "metadata": {},
     "output_type": "execute_result"
    }
   ],
   "source": [
    "filesDF = pd.DataFrame({'File' : os.listdir(url)})\n",
    "filesDF"
   ]
  },
  {
   "cell_type": "code",
   "execution_count": 117,
   "id": "5808d67b",
   "metadata": {
    "ExecuteTime": {
     "end_time": "2021-09-09T08:00:21.340681Z",
     "start_time": "2021-09-09T08:00:21.330470Z"
    }
   },
   "outputs": [],
   "source": [
    "def wordSelector(series):\n",
    "    for i in range(len(series)):\n",
    "        wordList = []\n",
    "        for j in range(len(series[i])):\n",
    "            if series[i][j][1] == 'Noun' or series[i][j][1] == 'Adjective':\n",
    "                wordList.append(series[i][j][0])         \n",
    "        series[i] = wordList\n",
    "    return series"
   ]
  },
  {
   "cell_type": "code",
   "execution_count": 118,
   "id": "c31c9956",
   "metadata": {
    "ExecuteTime": {
     "end_time": "2021-09-09T08:00:22.380782Z",
     "start_time": "2021-09-09T08:00:22.370090Z"
    }
   },
   "outputs": [],
   "source": [
    "def StopwordsEliminator(series):\n",
    "    for i in range(len(series)):\n",
    "        for word in series[i]:\n",
    "            if word in stopwords:\n",
    "                series[i].remove(word)\n",
    "    return series"
   ]
  },
  {
   "cell_type": "code",
   "execution_count": 119,
   "id": "bf0ef395",
   "metadata": {
    "ExecuteTime": {
     "end_time": "2021-09-09T08:00:24.499531Z",
     "start_time": "2021-09-09T08:00:24.482524Z"
    }
   },
   "outputs": [],
   "source": [
    "okt = Okt()"
   ]
  },
  {
   "cell_type": "code",
   "execution_count": 125,
   "id": "062e66b5",
   "metadata": {
    "ExecuteTime": {
     "end_time": "2021-09-09T08:02:07.840989Z",
     "start_time": "2021-09-09T08:02:07.826784Z"
    }
   },
   "outputs": [],
   "source": [
    "def InputMaker(url, file):\n",
    "    df = pd.read_csv(url + file, index_col=0)\n",
    "    df.drop(['제목', '긍부정', '별점'], axis=1, inplace=True)\n",
    "    df['Contents_input'] = df['Contents'].apply(lambda x: okt.pos(x, norm=True, stem=True))\n",
    "    \n",
    "    wordSelector(df['Contents_input'])\n",
    "    StopwordsEliminator(df['Contents_input'])\n",
    "        \n",
    "    for index, wordList in enumerate(df['Contents_input']):\n",
    "        if len(df['Contents_input'][index]) == 0:\n",
    "            continue\n",
    "        for word in wordList:\n",
    "            if len(word) == 1:\n",
    "                df['Contents_input'][index].remove(word)\n",
    "    \n",
    "    df.to_csv(saveURL + file[:-4] + '_word2vec_input.csv', index=True, header=True, encoding='utf-8-sig')"
   ]
  },
  {
   "cell_type": "code",
   "execution_count": 126,
   "id": "248be775",
   "metadata": {
    "ExecuteTime": {
     "end_time": "2021-09-09T08:02:13.980387Z",
     "start_time": "2021-09-09T08:02:09.290676Z"
    }
   },
   "outputs": [],
   "source": [
    "InputMaker(url, filesDF['File'][0])"
   ]
  },
  {
   "cell_type": "code",
   "execution_count": null,
   "id": "d7605f87",
   "metadata": {},
   "outputs": [],
   "source": []
  }
 ],
 "metadata": {
  "kernelspec": {
   "display_name": "'[WorkBase]'",
   "language": "python",
   "name": "workbase"
  },
  "language_info": {
   "codemirror_mode": {
    "name": "ipython",
    "version": 3
   },
   "file_extension": ".py",
   "mimetype": "text/x-python",
   "name": "python",
   "nbconvert_exporter": "python",
   "pygments_lexer": "ipython3",
   "version": "3.8.11"
  },
  "toc": {
   "base_numbering": 1,
   "nav_menu": {},
   "number_sections": true,
   "sideBar": true,
   "skip_h1_title": false,
   "title_cell": "Table of Contents",
   "title_sidebar": "Contents",
   "toc_cell": false,
   "toc_position": {},
   "toc_section_display": true,
   "toc_window_display": false
  },
  "varInspector": {
   "cols": {
    "lenName": 16,
    "lenType": 16,
    "lenVar": 40
   },
   "kernels_config": {
    "python": {
     "delete_cmd_postfix": "",
     "delete_cmd_prefix": "del ",
     "library": "var_list.py",
     "varRefreshCmd": "print(var_dic_list())"
    },
    "r": {
     "delete_cmd_postfix": ") ",
     "delete_cmd_prefix": "rm(",
     "library": "var_list.r",
     "varRefreshCmd": "cat(var_dic_list()) "
    }
   },
   "types_to_exclude": [
    "module",
    "function",
    "builtin_function_or_method",
    "instance",
    "_Feature"
   ],
   "window_display": false
  }
 },
 "nbformat": 4,
 "nbformat_minor": 5
}

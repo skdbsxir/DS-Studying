{
 "cells": [
  {
   "cell_type": "markdown",
   "metadata": {},
   "source": [
    "    먼저 Contents에서 한글/영어 제외한 특수문자들 싹 제거부터.\n",
    "    \n",
    "    1. 긍/부정 수 Count 해보고\n",
    "    2. 파일별로 Count된거 그려보고\n",
    "    ------------------------------- 여기까진 Tokenizing 3에서 진행.\n",
    "    3. 그 뒤에 형태소 분석 나누고 (Okt.pos)\n",
    "    4. 긍/부정에 따른 언급량 많은 키워드만 뽑자."
   ]
  },
  {
   "cell_type": "code",
   "execution_count": 28,
   "metadata": {
    "ExecuteTime": {
     "end_time": "2021-09-02T09:18:53.627529Z",
     "start_time": "2021-09-02T09:18:53.607541Z"
    }
   },
   "outputs": [],
   "source": [
    "import os, warnings\n",
    "import pandas as pd\n",
    "from konlpy.tag import Okt\n",
    "\n",
    "warnings.filterwarnings('ignore')"
   ]
  },
  {
   "cell_type": "code",
   "execution_count": 32,
   "metadata": {
    "ExecuteTime": {
     "end_time": "2021-09-02T09:21:20.568313Z",
     "start_time": "2021-09-02T09:21:20.539343Z"
    }
   },
   "outputs": [
    {
     "data": {
      "text/html": [
       "<div>\n",
       "<style scoped>\n",
       "    .dataframe tbody tr th:only-of-type {\n",
       "        vertical-align: middle;\n",
       "    }\n",
       "\n",
       "    .dataframe tbody tr th {\n",
       "        vertical-align: top;\n",
       "    }\n",
       "\n",
       "    .dataframe thead th {\n",
       "        text-align: right;\n",
       "    }\n",
       "</style>\n",
       "<table border=\"1\" class=\"dataframe\">\n",
       "  <thead>\n",
       "    <tr style=\"text-align: right;\">\n",
       "      <th></th>\n",
       "      <th>별점</th>\n",
       "      <th>Contents</th>\n",
       "      <th>긍부정</th>\n",
       "    </tr>\n",
       "  </thead>\n",
       "  <tbody>\n",
       "    <tr>\n",
       "      <th>0</th>\n",
       "      <td>5</td>\n",
       "      <td>칼로리도 낮고 맛있어요 간식으로 최고</td>\n",
       "      <td>1</td>\n",
       "    </tr>\n",
       "    <tr>\n",
       "      <th>1</th>\n",
       "      <td>5</td>\n",
       "      <td>단호박죽 너무 맛있어요  실온보관이라 편리하고 들고다니기도 좋네요 추천합니다</td>\n",
       "      <td>1</td>\n",
       "    </tr>\n",
       "    <tr>\n",
       "      <th>2</th>\n",
       "      <td>5</td>\n",
       "      <td>칼로리도 낮고 단호박도 달고 맛있네요   간편포장이라서 편리합니다</td>\n",
       "      <td>1</td>\n",
       "    </tr>\n",
       "    <tr>\n",
       "      <th>3</th>\n",
       "      <td>5</td>\n",
       "      <td>단호박 달고 맛있어요 칼로리도 낮아서 부담없이 참 좋습니다   차게 먹으니 더 ...</td>\n",
       "      <td>1</td>\n",
       "    </tr>\n",
       "    <tr>\n",
       "      <th>4</th>\n",
       "      <td>5</td>\n",
       "      <td>맛도먹을만하구 재구매의사있습니다</td>\n",
       "      <td>1</td>\n",
       "    </tr>\n",
       "    <tr>\n",
       "      <th>...</th>\n",
       "      <td>...</td>\n",
       "      <td>...</td>\n",
       "      <td>...</td>\n",
       "    </tr>\n",
       "    <tr>\n",
       "      <th>1429</th>\n",
       "      <td>5</td>\n",
       "      <td>다이어트하는데 간식으로먹으려고샀어요  제입맛에는 카카오보단 검은콩  단백질함량도...</td>\n",
       "      <td>1</td>\n",
       "    </tr>\n",
       "    <tr>\n",
       "      <th>1430</th>\n",
       "      <td>5</td>\n",
       "      <td>맛있어용   아침 식사 대용으로 굿굿</td>\n",
       "      <td>1</td>\n",
       "    </tr>\n",
       "    <tr>\n",
       "      <th>1431</th>\n",
       "      <td>5</td>\n",
       "      <td>적당히 달고 맛있어요   더 사려구요</td>\n",
       "      <td>1</td>\n",
       "    </tr>\n",
       "    <tr>\n",
       "      <th>1432</th>\n",
       "      <td>5</td>\n",
       "      <td>계속 재구매해서 먹어요</td>\n",
       "      <td>1</td>\n",
       "    </tr>\n",
       "    <tr>\n",
       "      <th>1433</th>\n",
       "      <td>5</td>\n",
       "      <td>계속 재구매해서 먹고 있  요</td>\n",
       "      <td>1</td>\n",
       "    </tr>\n",
       "  </tbody>\n",
       "</table>\n",
       "<p>1434 rows × 3 columns</p>\n",
       "</div>"
      ],
      "text/plain": [
       "      별점                                           Contents  긍부정\n",
       "0      5                               칼로리도 낮고 맛있어요 간식으로 최고    1\n",
       "1      5         단호박죽 너무 맛있어요  실온보관이라 편리하고 들고다니기도 좋네요 추천합니다    1\n",
       "2      5               칼로리도 낮고 단호박도 달고 맛있네요   간편포장이라서 편리합니다    1\n",
       "3      5    단호박 달고 맛있어요 칼로리도 낮아서 부담없이 참 좋습니다   차게 먹으니 더 ...    1\n",
       "4      5                                 맛도먹을만하구 재구매의사있습니다     1\n",
       "...   ..                                                ...  ...\n",
       "1429   5    다이어트하는데 간식으로먹으려고샀어요  제입맛에는 카카오보단 검은콩  단백질함량도...    1\n",
       "1430   5                              맛있어용   아침 식사 대용으로 굿굿     1\n",
       "1431   5                               적당히 달고 맛있어요   더 사려구요    1\n",
       "1432   5                                      계속 재구매해서 먹어요     1\n",
       "1433   5                                   계속 재구매해서 먹고 있  요    1\n",
       "\n",
       "[1434 rows x 3 columns]"
      ]
     },
     "execution_count": 32,
     "metadata": {},
     "output_type": "execute_result"
    }
   ],
   "source": [
    "url = 'UseData/Voucher/Cleaned/'\n",
    "df = pd.read_csv(url + os.listdir(url)[0], index_col=0)\n",
    "df.drop('제목', axis=1, inplace=True)\n",
    "df"
   ]
  },
  {
   "cell_type": "code",
   "execution_count": 33,
   "metadata": {
    "ExecuteTime": {
     "end_time": "2021-09-02T09:21:45.964130Z",
     "start_time": "2021-09-02T09:21:45.957134Z"
    }
   },
   "outputs": [
    {
     "data": {
      "text/plain": [
       "'\\nimport re\\n # 이거 나중에 preprocessor 함수에 넣고 csv 재저장 하자.\\ndf[\\'Contents\\'] = df[\\'Contents\\'].apply(lambda x: re.sub(\"[^가-힣]\", \" \", x))\\ndf\\n'"
      ]
     },
     "execution_count": 33,
     "metadata": {},
     "output_type": "execute_result"
    }
   ],
   "source": [
    "\"\"\"\n",
    "import re\n",
    " # 이거 나중에 preprocessor 함수에 넣고 csv 재저장 하자.\n",
    "df['Contents'] = df['Contents'].apply(lambda x: re.sub(\"[^가-힣]\", \" \", x))\n",
    "df\n",
    "\"\"\"\n",
    "# 진행했음."
   ]
  },
  {
   "cell_type": "code",
   "execution_count": 34,
   "metadata": {
    "ExecuteTime": {
     "end_time": "2021-09-02T09:22:44.028795Z",
     "start_time": "2021-09-02T09:22:39.065510Z"
    }
   },
   "outputs": [
    {
     "data": {
      "text/html": [
       "<div>\n",
       "<style scoped>\n",
       "    .dataframe tbody tr th:only-of-type {\n",
       "        vertical-align: middle;\n",
       "    }\n",
       "\n",
       "    .dataframe tbody tr th {\n",
       "        vertical-align: top;\n",
       "    }\n",
       "\n",
       "    .dataframe thead th {\n",
       "        text-align: right;\n",
       "    }\n",
       "</style>\n",
       "<table border=\"1\" class=\"dataframe\">\n",
       "  <thead>\n",
       "    <tr style=\"text-align: right;\">\n",
       "      <th></th>\n",
       "      <th>별점</th>\n",
       "      <th>Contents</th>\n",
       "      <th>긍부정</th>\n",
       "      <th>Contents_tagged</th>\n",
       "    </tr>\n",
       "  </thead>\n",
       "  <tbody>\n",
       "    <tr>\n",
       "      <th>0</th>\n",
       "      <td>5</td>\n",
       "      <td>칼로리도 낮고 맛있어요 간식으로 최고</td>\n",
       "      <td>1</td>\n",
       "      <td>[(칼로리, Noun), (도, Josa), (낮다, Adjective), (맛있다...</td>\n",
       "    </tr>\n",
       "    <tr>\n",
       "      <th>1</th>\n",
       "      <td>5</td>\n",
       "      <td>단호박죽 너무 맛있어요  실온보관이라 편리하고 들고다니기도 좋네요 추천합니다</td>\n",
       "      <td>1</td>\n",
       "      <td>[(단, Modifier), (호박죽, Noun), (너무, Adverb), (맛있...</td>\n",
       "    </tr>\n",
       "    <tr>\n",
       "      <th>2</th>\n",
       "      <td>5</td>\n",
       "      <td>칼로리도 낮고 단호박도 달고 맛있네요   간편포장이라서 편리합니다</td>\n",
       "      <td>1</td>\n",
       "      <td>[(칼로리, Noun), (도, Josa), (낮다, Adjective), (단호박...</td>\n",
       "    </tr>\n",
       "    <tr>\n",
       "      <th>3</th>\n",
       "      <td>5</td>\n",
       "      <td>단호박 달고 맛있어요 칼로리도 낮아서 부담없이 참 좋습니다   차게 먹으니 더 ...</td>\n",
       "      <td>1</td>\n",
       "      <td>[(단호박, Noun), (달, Noun), (고, Josa), (맛있다, Adje...</td>\n",
       "    </tr>\n",
       "    <tr>\n",
       "      <th>4</th>\n",
       "      <td>5</td>\n",
       "      <td>맛도먹을만하구 재구매의사있습니다</td>\n",
       "      <td>1</td>\n",
       "      <td>[(맛, Noun), (도, Josa), (먹다, Verb), (하다, Verb),...</td>\n",
       "    </tr>\n",
       "    <tr>\n",
       "      <th>...</th>\n",
       "      <td>...</td>\n",
       "      <td>...</td>\n",
       "      <td>...</td>\n",
       "      <td>...</td>\n",
       "    </tr>\n",
       "    <tr>\n",
       "      <th>1429</th>\n",
       "      <td>5</td>\n",
       "      <td>다이어트하는데 간식으로먹으려고샀어요  제입맛에는 카카오보단 검은콩  단백질함량도...</td>\n",
       "      <td>1</td>\n",
       "      <td>[(다이어트, Noun), (하다, Verb), (간식, Noun), (으로, Jo...</td>\n",
       "    </tr>\n",
       "    <tr>\n",
       "      <th>1430</th>\n",
       "      <td>5</td>\n",
       "      <td>맛있어용   아침 식사 대용으로 굿굿</td>\n",
       "      <td>1</td>\n",
       "      <td>[(맛있다, Adjective), (아침, Noun), (식사, Noun), (대용...</td>\n",
       "    </tr>\n",
       "    <tr>\n",
       "      <th>1431</th>\n",
       "      <td>5</td>\n",
       "      <td>적당히 달고 맛있어요   더 사려구요</td>\n",
       "      <td>1</td>\n",
       "      <td>[(적당하다, Adjective), (달, Noun), (고, Josa), (맛있다...</td>\n",
       "    </tr>\n",
       "    <tr>\n",
       "      <th>1432</th>\n",
       "      <td>5</td>\n",
       "      <td>계속 재구매해서 먹어요</td>\n",
       "      <td>1</td>\n",
       "      <td>[(계속, Noun), (재다, Verb), (하다, Verb), (먹다, Verb)]</td>\n",
       "    </tr>\n",
       "    <tr>\n",
       "      <th>1433</th>\n",
       "      <td>5</td>\n",
       "      <td>계속 재구매해서 먹고 있  요</td>\n",
       "      <td>1</td>\n",
       "      <td>[(계속, Noun), (재다, Verb), (하다, Verb), (먹다, Verb...</td>\n",
       "    </tr>\n",
       "  </tbody>\n",
       "</table>\n",
       "<p>1434 rows × 4 columns</p>\n",
       "</div>"
      ],
      "text/plain": [
       "      별점                                           Contents  긍부정  \\\n",
       "0      5                               칼로리도 낮고 맛있어요 간식으로 최고    1   \n",
       "1      5         단호박죽 너무 맛있어요  실온보관이라 편리하고 들고다니기도 좋네요 추천합니다    1   \n",
       "2      5               칼로리도 낮고 단호박도 달고 맛있네요   간편포장이라서 편리합니다    1   \n",
       "3      5    단호박 달고 맛있어요 칼로리도 낮아서 부담없이 참 좋습니다   차게 먹으니 더 ...    1   \n",
       "4      5                                 맛도먹을만하구 재구매의사있습니다     1   \n",
       "...   ..                                                ...  ...   \n",
       "1429   5    다이어트하는데 간식으로먹으려고샀어요  제입맛에는 카카오보단 검은콩  단백질함량도...    1   \n",
       "1430   5                              맛있어용   아침 식사 대용으로 굿굿     1   \n",
       "1431   5                               적당히 달고 맛있어요   더 사려구요    1   \n",
       "1432   5                                      계속 재구매해서 먹어요     1   \n",
       "1433   5                                   계속 재구매해서 먹고 있  요    1   \n",
       "\n",
       "                                        Contents_tagged  \n",
       "0     [(칼로리, Noun), (도, Josa), (낮다, Adjective), (맛있다...  \n",
       "1     [(단, Modifier), (호박죽, Noun), (너무, Adverb), (맛있...  \n",
       "2     [(칼로리, Noun), (도, Josa), (낮다, Adjective), (단호박...  \n",
       "3     [(단호박, Noun), (달, Noun), (고, Josa), (맛있다, Adje...  \n",
       "4     [(맛, Noun), (도, Josa), (먹다, Verb), (하다, Verb),...  \n",
       "...                                                 ...  \n",
       "1429  [(다이어트, Noun), (하다, Verb), (간식, Noun), (으로, Jo...  \n",
       "1430  [(맛있다, Adjective), (아침, Noun), (식사, Noun), (대용...  \n",
       "1431  [(적당하다, Adjective), (달, Noun), (고, Josa), (맛있다...  \n",
       "1432   [(계속, Noun), (재다, Verb), (하다, Verb), (먹다, Verb)]  \n",
       "1433  [(계속, Noun), (재다, Verb), (하다, Verb), (먹다, Verb...  \n",
       "\n",
       "[1434 rows x 4 columns]"
      ]
     },
     "execution_count": 34,
     "metadata": {},
     "output_type": "execute_result"
    }
   ],
   "source": [
    "okt = Okt()\n",
    "# df['Contents_morphs'] = df['Contents'].apply(lambda x: okt.pos(x, norm=True, stem=True, join=True))\n",
    "df['Contents_tagged'] = df['Contents'].apply(lambda x: okt.pos(x, norm=True, stem=True))\n",
    "df"
   ]
  },
  {
   "cell_type": "code",
   "execution_count": 35,
   "metadata": {
    "ExecuteTime": {
     "end_time": "2021-09-02T09:23:38.269315Z",
     "start_time": "2021-09-02T09:23:38.266330Z"
    }
   },
   "outputs": [],
   "source": [
    "# df_neg = df.loc[df['긍부정']==0]\n",
    "# df_neg"
   ]
  },
  {
   "cell_type": "code",
   "execution_count": 21,
   "metadata": {
    "ExecuteTime": {
     "end_time": "2021-09-02T05:25:34.856518Z",
     "start_time": "2021-09-02T05:25:34.838528Z"
    }
   },
   "outputs": [
    {
     "data": {
      "text/html": [
       "<div>\n",
       "<style scoped>\n",
       "    .dataframe tbody tr th:only-of-type {\n",
       "        vertical-align: middle;\n",
       "    }\n",
       "\n",
       "    .dataframe tbody tr th {\n",
       "        vertical-align: top;\n",
       "    }\n",
       "\n",
       "    .dataframe thead th {\n",
       "        text-align: right;\n",
       "    }\n",
       "</style>\n",
       "<table border=\"1\" class=\"dataframe\">\n",
       "  <thead>\n",
       "    <tr style=\"text-align: right;\">\n",
       "      <th></th>\n",
       "      <th>word</th>\n",
       "      <th>frequency</th>\n",
       "    </tr>\n",
       "  </thead>\n",
       "  <tbody>\n",
       "    <tr>\n",
       "      <th>0</th>\n",
       "      <td>가/Josa</td>\n",
       "      <td>127</td>\n",
       "    </tr>\n",
       "    <tr>\n",
       "      <th>1</th>\n",
       "      <td>가격/Noun</td>\n",
       "      <td>37</td>\n",
       "    </tr>\n",
       "    <tr>\n",
       "      <th>2</th>\n",
       "      <td>가깝다/Adjective</td>\n",
       "      <td>1</td>\n",
       "    </tr>\n",
       "    <tr>\n",
       "      <th>3</th>\n",
       "      <td>가끔/Noun</td>\n",
       "      <td>4</td>\n",
       "    </tr>\n",
       "    <tr>\n",
       "      <th>4</th>\n",
       "      <td>가능하다/Adjective</td>\n",
       "      <td>3</td>\n",
       "    </tr>\n",
       "    <tr>\n",
       "      <th>...</th>\n",
       "      <td>...</td>\n",
       "      <td>...</td>\n",
       "    </tr>\n",
       "    <tr>\n",
       "      <th>1977</th>\n",
       "      <td>히/Adverb</td>\n",
       "      <td>2</td>\n",
       "    </tr>\n",
       "    <tr>\n",
       "      <th>1978</th>\n",
       "      <td>히킬게/Noun</td>\n",
       "      <td>1</td>\n",
       "    </tr>\n",
       "    <tr>\n",
       "      <th>1979</th>\n",
       "      <td>힘내다/Verb</td>\n",
       "      <td>1</td>\n",
       "    </tr>\n",
       "    <tr>\n",
       "      <th>1980</th>\n",
       "      <td>힘드다/Adjective</td>\n",
       "      <td>3</td>\n",
       "    </tr>\n",
       "    <tr>\n",
       "      <th>1981</th>\n",
       "      <td>힘들다/Adjective</td>\n",
       "      <td>9</td>\n",
       "    </tr>\n",
       "  </tbody>\n",
       "</table>\n",
       "<p>1982 rows × 2 columns</p>\n",
       "</div>"
      ],
      "text/plain": [
       "                word  frequency\n",
       "0             가/Josa        127\n",
       "1            가격/Noun         37\n",
       "2      가깝다/Adjective          1\n",
       "3            가끔/Noun          4\n",
       "4     가능하다/Adjective          3\n",
       "...              ...        ...\n",
       "1977        히/Adverb          2\n",
       "1978        히킬게/Noun          1\n",
       "1979        힘내다/Verb          1\n",
       "1980   힘드다/Adjective          3\n",
       "1981   힘들다/Adjective          9\n",
       "\n",
       "[1982 rows x 2 columns]"
      ]
     },
     "execution_count": 21,
     "metadata": {},
     "output_type": "execute_result"
    }
   ],
   "source": [
    "from collections import Counter\n",
    "from itertools import chain\n",
    "\n",
    "a = pd.Series(Counter(chain(*df['Contents_morphs']))).sort_index().rename_axis('word').reset_index(name='frequency')\n",
    "a"
   ]
  },
  {
   "cell_type": "code",
   "execution_count": 36,
   "metadata": {
    "ExecuteTime": {
     "end_time": "2021-09-02T09:23:45.342441Z",
     "start_time": "2021-09-02T09:23:45.335445Z"
    }
   },
   "outputs": [],
   "source": [
    "# a에서 Noun, Adjective, Verb 빼고 다 걸러낼 수 있지않을까\n",
    "# aword = a['word'].tolist()\n",
    "#aword"
   ]
  },
  {
   "cell_type": "code",
   "execution_count": 38,
   "metadata": {
    "ExecuteTime": {
     "end_time": "2021-09-02T09:24:06.704891Z",
     "start_time": "2021-09-02T09:24:06.690759Z"
    }
   },
   "outputs": [],
   "source": [
    "#for words in aword:\n",
    "#    if re.match(\"(/Noun)|(/Adjective)|(/Verb)\", words):\n",
    "#        print('돌긴도나?')"
   ]
  },
  {
   "cell_type": "markdown",
   "metadata": {},
   "source": [
    "    아으으으ㅡㅡㅡㅡㅡㅡㅡㅡㅡㅡ씨ㅣㅣㅣㅣㅣㅣㅣㅣㅣㅣ발 "
   ]
  },
  {
   "cell_type": "markdown",
   "metadata": {},
   "source": [
    "    다시 만들자..차근차근.."
   ]
  },
  {
   "cell_type": "code",
   "execution_count": 50,
   "metadata": {
    "ExecuteTime": {
     "end_time": "2021-09-02T09:27:32.963635Z",
     "start_time": "2021-09-02T09:27:32.947645Z"
    }
   },
   "outputs": [
    {
     "data": {
      "text/plain": [
       "('도', 'Josa')"
      ]
     },
     "execution_count": 50,
     "metadata": {},
     "output_type": "execute_result"
    }
   ],
   "source": [
    "df['Contents_tagged'][0] # list 타입 [(칼로리, Noun) (도, Verb) (낮다, Adjective)...]\n",
    "df['Contents_tagged'][0][1] # (칼로리, Noun)\n",
    "df['Contents_tagged'][0][1][1] # Noun"
   ]
  },
  {
   "cell_type": "markdown",
   "metadata": {},
   "source": [
    "    Series에 대해 Loop을 돌며\n",
    "    비교참조할 index는 [i][j][k] 에서 세번째\n",
    "    \n",
    "    i는 각 row를 참조하고\n",
    "    j는 해당 내용 안에 있는 단어-형태소종류 쌍을 참조하고\n",
    "    k는 1로 둬서 형태소종류 만을 참조.\n",
    "    \n",
    "    그럼 2중for문을 돌게되나?\n",
    "        -> 람다식 쓰면 각 row마다 참조를 하니, for문을 1개만 돌리면 되지않을까\n",
    "        -> 람다식 익숙치가 않다. 2중for문 돌려보자.\n",
    "        \n",
    "    남기고자 하는것은 Noun, Adjective, Verb.\n",
    "        -> Verb 하면 너무 가비지가 많이 걸리는 것 같음."
   ]
  },
  {
   "cell_type": "code",
   "execution_count": 51,
   "metadata": {
    "ExecuteTime": {
     "end_time": "2021-09-02T09:41:16.946450Z",
     "start_time": "2021-09-02T09:41:16.939454Z"
    }
   },
   "outputs": [
    {
     "ename": "SyntaxError",
     "evalue": "invalid syntax (<ipython-input-51-2f0b402e64cd>, line 2)",
     "output_type": "error",
     "traceback": [
      "\u001b[1;36m  File \u001b[1;32m\"<ipython-input-51-2f0b402e64cd>\"\u001b[1;36m, line \u001b[1;32m2\u001b[0m\n\u001b[1;33m    for i in range(len(x)):\u001b[0m\n\u001b[1;37m      ^\u001b[0m\n\u001b[1;31mSyntaxError\u001b[0m\u001b[1;31m:\u001b[0m invalid syntax\n"
     ]
    }
   ],
   "source": [
    "\"\"\"\n",
    "df['Contents_word'] = df['Contents_tagged'].apply(lambda x: \n",
    "                                                     for i in range(len(x)):\n",
    "                                                        if x[i][1] == 'Noun' or x[i][1] == 'Adjective' or x[i][1] == 'Verb':\n",
    "                                                              return x[i][0]\n",
    "                                                 )\n",
    "# zzzz ^^^^^^ㅣ발\n",
    "\"\"\"\n",
    "df['Contents_word'] = df['Contents_tagged'].apply(list(map(lambda x : ))) \n",
    "\n",
    "# 아 그냥 함수만들어서 쓰자 람다식은 좀 에바같음"
   ]
  },
  {
   "cell_type": "code",
   "execution_count": 56,
   "metadata": {
    "ExecuteTime": {
     "end_time": "2021-09-02T09:54:31.758989Z",
     "start_time": "2021-09-02T09:54:31.747995Z"
    }
   },
   "outputs": [
    {
     "data": {
      "text/plain": [
       "\"\\nfor i in range(len(df['Contents_tagged'])):\\n    for j in range(len(df['Contents_tagged'])-1):\\n        if df['Contents_tagged'][i][j][1] == ('Noun' or 'Adjective' or 'Verb'):\\n            sampList.append(df['Contents_tagged'][i][j][0])\\n\""
      ]
     },
     "execution_count": 56,
     "metadata": {},
     "output_type": "execute_result"
    }
   ],
   "source": [
    "\n",
    "\"\"\"\n",
    "for index, word, tags in df['Contents_tagged']:\n",
    "    if tags == 'Noun' or tags == 'Adjective' or tags == 'Verb':\n",
    "        sampList.append(word)\n",
    "\"\"\"\n",
    "\"\"\"\n",
    "for i in range(len(df['Contents_tagged'])):\n",
    "    for j in range(len(df['Contents_tagged'])-1):\n",
    "        if df['Contents_tagged'][i][j][1] == ('Noun' or 'Adjective' or 'Verb'):\n",
    "            sampList.append(df['Contents_tagged'][i][j][0])\n",
    "\"\"\"\n",
    "\n",
    "# 이건 좀 나중에"
   ]
  },
  {
   "cell_type": "code",
   "execution_count": 83,
   "metadata": {
    "ExecuteTime": {
     "end_time": "2021-09-02T10:19:32.001598Z",
     "start_time": "2021-09-02T10:19:31.984607Z"
    }
   },
   "outputs": [],
   "source": [
    "def wordSelector(series):\n",
    "    wordList = []\n",
    "    for index in range(len(series)):\n",
    "        for word, pos in series[index]:\n",
    "            if (pos == 'Noun') or (pos == 'Adjective'):\n",
    "            # if (pos == 'Noun') or (pos == 'Adjective') or (pos == 'Verb'):\n",
    "                wordList.append(word)\n",
    "    return wordList"
   ]
  },
  {
   "cell_type": "markdown",
   "metadata": {},
   "source": [
    "    함수 내에서 추출된 단어들만을 해당 행에 넣어줄 수 없나"
   ]
  },
  {
   "cell_type": "code",
   "execution_count": 71,
   "metadata": {
    "ExecuteTime": {
     "end_time": "2021-09-02T10:12:12.736445Z",
     "start_time": "2021-09-02T10:12:12.709540Z"
    },
    "scrolled": true
   },
   "outputs": [
    {
     "data": {
      "text/plain": [
       "['칼로리', '낮다', '맛있다', '간식', '최고', '호박죽', '맛있다', '실온', '보관', '편리하다']"
      ]
     },
     "execution_count": 71,
     "metadata": {},
     "output_type": "execute_result"
    }
   ],
   "source": [
    "# df['Contents_tagged'][1]\n",
    "\n",
    "# 이렇게 하면 단어마다 쭈르륵 넣어버려서 에러나는거 같음. \n",
    "# ValueError: Length of values (12179) does not match length of index (1434)\n",
    "# df['Contents_word'] = wordSelector(df['Contents_tagged']) \n",
    "# df['Contents_word']\n",
    "# wordSelector(df['Contents_tagged'])\n",
    "wordSelector(df['Contents_tagged'])[:10] # 첫 프레임에 대한 단어리스트들 이 아니라 단어 1개가..."
   ]
  },
  {
   "cell_type": "code",
   "execution_count": 87,
   "metadata": {
    "ExecuteTime": {
     "end_time": "2021-09-02T10:20:35.931713Z",
     "start_time": "2021-09-02T10:20:35.901730Z"
    }
   },
   "outputs": [
    {
     "data": {
      "text/plain": [
       "[('좋다', 557),\n",
       " ('맛있다', 545),\n",
       " ('맛', 445),\n",
       " ('있다', 194),\n",
       " ('단호박', 186),\n",
       " ('배송', 162),\n",
       " ('대용', 131),\n",
       " ('같다', 126),\n",
       " ('구매', 110),\n",
       " ('빠르다', 107),\n",
       " ('먹기', 101),\n",
       " ('때', 96),\n",
       " ('주문', 86),\n",
       " ('간식', 85),\n",
       " ('아침', 85),\n",
       " ('식사', 78),\n",
       " ('단백질', 70),\n",
       " ('것', 65),\n",
       " ('저렴하다', 64),\n",
       " ('다이어트', 61),\n",
       " ('제품', 60),\n",
       " ('거', 59),\n",
       " ('좋아하다', 59),\n",
       " ('이다', 57),\n",
       " ('더', 54),\n",
       " ('달', 53),\n",
       " ('괜찮다', 53),\n",
       " ('요', 49),\n",
       " ('든든하다', 48),\n",
       " ('또', 48),\n",
       " ('좀', 44),\n",
       " ('만족하다', 43),\n",
       " ('생각', 42),\n",
       " ('구입', 41),\n",
       " ('프로', 41),\n",
       " ('하나', 40),\n",
       " ('우유', 40),\n",
       " ('진짜', 39),\n",
       " ('없다', 38),\n",
       " ('가격', 37),\n",
       " ('보고', 37),\n",
       " ('유통', 36),\n",
       " ('편하다', 35),\n",
       " ('바', 35),\n",
       " ('포만', 35),\n",
       " ('제일', 34),\n",
       " ('기한', 34),\n",
       " ('조금', 33),\n",
       " ('포장', 32),\n",
       " ('쉐이크', 32),\n",
       " ('노프', 32),\n",
       " ('베', 31),\n",
       " ('최고', 29),\n",
       " ('출출하다', 29),\n",
       " ('아주', 29),\n",
       " ('카카오', 29),\n",
       " ('용', 28),\n",
       " ('저', 28),\n",
       " ('끼', 28),\n",
       " ('개', 28),\n",
       " ('별로', 28),\n",
       " ('느낌', 28),\n",
       " ('제', 28),\n",
       " ('고소하다', 27),\n",
       " ('정말', 26),\n",
       " ('운동', 25),\n",
       " ('상품', 24),\n",
       " ('늘', 24),\n",
       " ('달달', 24),\n",
       " ('간편하다', 24),\n",
       " ('항상', 23),\n",
       " ('초코', 23),\n",
       " ('적당하다', 23),\n",
       " ('다른', 22),\n",
       " ('타', 22),\n",
       " ('저녁', 22),\n",
       " ('안', 22),\n",
       " ('입맛', 22),\n",
       " ('틴바', 22),\n",
       " ('추천', 21),\n",
       " ('건강하다', 21),\n",
       " ('다음', 21),\n",
       " ('박스', 21),\n",
       " ('아니다', 21),\n",
       " ('칼로리', 20),\n",
       " ('이', 20),\n",
       " ('딱딱하다', 19),\n",
       " ('성분', 18),\n",
       " ('넉넉하다', 18),\n",
       " ('그렇다', 18),\n",
       " ('굿', 18),\n",
       " ('많다', 18),\n",
       " ('감', 18),\n",
       " ('틴', 18),\n",
       " ('그냥', 18),\n",
       " ('아침식사', 17),\n",
       " ('수', 17),\n",
       " ('최애', 17),\n",
       " ('계속', 17),\n",
       " ('중', 16),\n",
       " ('배고프다', 16),\n",
       " ('덜', 16),\n",
       " ('높다', 16),\n",
       " ('빨르다', 16),\n",
       " ('자주', 15),\n",
       " ('무화과', 15),\n",
       " ('일', 15),\n",
       " ('가지', 14),\n",
       " ('밥', 14),\n",
       " ('남편', 14),\n",
       " ('정도', 14),\n",
       " ('개인', 14),\n",
       " ('젤', 14),\n",
       " ('식감', 14),\n",
       " ('함량', 14),\n",
       " ('사서', 13),\n",
       " ('회사', 13),\n",
       " ('아이', 13),\n",
       " ('통', 13),\n",
       " ('분', 13),\n",
       " ('간단하다', 13),\n",
       " ('다시', 13),\n",
       " ('호박', 13),\n",
       " ('에너지', 12),\n",
       " ('여기', 12),\n",
       " ('딱이다', 12),\n",
       " ('약간', 12),\n",
       " ('처음', 12),\n",
       " ('대신', 12),\n",
       " ('할인', 12),\n",
       " ('검다', 12),\n",
       " ('의사', 11),\n",
       " ('편의점', 11),\n",
       " ('오', 11),\n",
       " ('완전', 11),\n",
       " ('이번', 11),\n",
       " ('가성', 11),\n",
       " ('영양', 11),\n",
       " ('하루', 11),\n",
       " ('아쉽다', 11),\n",
       " ('한번', 11),\n",
       " ('식', 11),\n",
       " ('재', 11),\n",
       " ('분유', 11),\n",
       " ('가장', 11),\n",
       " ('인절미', 11),\n",
       " ('콩', 11),\n",
       " ('과자', 10),\n",
       " ('굿굿', 10),\n",
       " ('일단', 10),\n",
       " ('바로', 10),\n",
       " ('원래', 10),\n",
       " ('전', 10),\n",
       " ('아몬드', 10),\n",
       " ('가루', 10),\n",
       " ('듯', 10),\n",
       " ('종류', 10),\n",
       " ('역시', 10),\n",
       " ('낮다', 9),\n",
       " ('양', 9),\n",
       " ('궁금하다', 9),\n",
       " ('힘들다', 9),\n",
       " ('해', 9),\n",
       " ('비', 9),\n",
       " ('엄마', 9),\n",
       " ('기분', 9),\n",
       " ('부모님', 9),\n",
       " ('자꾸', 9),\n",
       " ('번', 9),\n",
       " ('후', 9),\n",
       " ('말', 9),\n",
       " ('물', 9),\n",
       " ('꾸준하다', 9),\n",
       " ('때문', 9),\n",
       " ('두유', 9),\n",
       " ('단맛', 9),\n",
       " ('만족', 9),\n",
       " ('모두', 9),\n",
       " ('구', 9),\n",
       " ('흑임자', 9),\n",
       " ('호박죽', 8),\n",
       " ('배', 8),\n",
       " ('살', 8),\n",
       " ('가볍다', 8),\n",
       " ('짱', 8),\n",
       " ('오곡', 8),\n",
       " ('만족스럽다', 8),\n",
       " ('꽤', 8),\n",
       " ('후기', 8),\n",
       " ('담', 8),\n",
       " ('감사', 8),\n",
       " ('중간', 8),\n",
       " ('편이', 8),\n",
       " ('날', 8),\n",
       " ('맘', 8),\n",
       " ('체중', 8),\n",
       " ('대량', 8),\n",
       " ('향', 8),\n",
       " ('건강', 8),\n",
       " ('편리하다', 7),\n",
       " ('사', 7),\n",
       " ('매번', 7),\n",
       " ('걱정', 7),\n",
       " ('다양하다', 7),\n",
       " ('도움', 7),\n",
       " ('바쁘다', 7),\n",
       " ('출근', 7),\n",
       " ('굳다', 7),\n",
       " ('존맛', 7),\n",
       " ('부드럽다', 7),\n",
       " ('요즘', 7),\n",
       " ('살짝', 7),\n",
       " ('라떼', 7),\n",
       " ('차', 7),\n",
       " ('꼭', 7),\n",
       " ('무', 7),\n",
       " ('게', 7),\n",
       " ('년', 7),\n",
       " ('질리', 7),\n",
       " ('귀찮다', 7),\n",
       " ('저번', 7),\n",
       " ('놀', 7),\n",
       " ('라바', 7),\n",
       " ('보관', 6),\n",
       " ('만', 6),\n",
       " ('비싸다', 6),\n",
       " ('깔끔하다', 6),\n",
       " ('여러가지', 6),\n",
       " ('담백하다', 6),\n",
       " ('이렇다', 6),\n",
       " ('나쁘다', 6),\n",
       " ('곳', 6),\n",
       " ('팩', 6),\n",
       " ('알갱이', 6),\n",
       " ('파우더', 6),\n",
       " ('사람', 6),\n",
       " ('대비', 6),\n",
       " ('덕분', 6),\n",
       " ('호불호', 6),\n",
       " ('사무실', 6),\n",
       " ('쟁', 6),\n",
       " ('선물', 6),\n",
       " ('두번째', 6),\n",
       " ('평소', 6),\n",
       " ('어떻다', 6),\n",
       " ('바보', 6),\n",
       " ('덜달', 6),\n",
       " ('냉장고', 6),\n",
       " ('베리', 6),\n",
       " ('간편', 5),\n",
       " ('부담', 5),\n",
       " ('입', 5),\n",
       " ('냄새', 5),\n",
       " ('선택', 5),\n",
       " ('강', 5),\n",
       " ('데', 5),\n",
       " ('확실하다', 5),\n",
       " ('월', 5),\n",
       " ('상태', 5),\n",
       " ('기대', 5),\n",
       " ('이상', 5),\n",
       " ('앞', 5),\n",
       " ('최저', 5),\n",
       " ('왜', 5),\n",
       " ('살이', 5),\n",
       " ('효과', 5),\n",
       " ('목', 5),\n",
       " ('충분하다', 5),\n",
       " ('점', 5),\n",
       " ('집', 5),\n",
       " ('보충', 5),\n",
       " ('전용', 5),\n",
       " ('달콤하다', 5),\n",
       " ('브', 5),\n",
       " ('리즈', 5),\n",
       " ('손', 5),\n",
       " ('쌀', 5),\n",
       " ('기전', 5),\n",
       " ('애', 5),\n",
       " ('불편하다', 5),\n",
       " ('고', 5),\n",
       " ('양도', 5),\n",
       " ('도', 5),\n",
       " ('마음', 5),\n",
       " ('그거', 5),\n",
       " ('빨', 5),\n",
       " ('취향', 5),\n",
       " ('조절', 5),\n",
       " ('설탕', 5),\n",
       " ('걸', 5),\n",
       " ('함유량', 5),\n",
       " ('영양가', 5),\n",
       " ('아침밥', 5),\n",
       " ('이벤트', 5),\n",
       " ('포', 5),\n",
       " ('끈', 5),\n",
       " ('무엇', 5),\n",
       " ('레인', 5),\n",
       " ('재주', 5),\n",
       " ('배부르다', 5)]"
      ]
     },
     "execution_count": 87,
     "metadata": {},
     "output_type": "execute_result"
    }
   ],
   "source": [
    "# 아니 세는게 아니라 그냥 저거에서 세면 되지 않나??????\n",
    "from collections import Counter\n",
    "\n",
    "Counter(wordSelector(df['Contents_tagged'])).most_common(300)\n",
    "# 셋고, 이걸 이제 dataframe으로 변환해서 csv 저장하면 편하지 않을까??"
   ]
  },
  {
   "cell_type": "code",
   "execution_count": 102,
   "metadata": {
    "ExecuteTime": {
     "end_time": "2021-09-02T10:28:48.252868Z",
     "start_time": "2021-09-02T10:28:48.222886Z"
    }
   },
   "outputs": [
    {
     "data": {
      "text/html": [
       "<div>\n",
       "<style scoped>\n",
       "    .dataframe tbody tr th:only-of-type {\n",
       "        vertical-align: middle;\n",
       "    }\n",
       "\n",
       "    .dataframe tbody tr th {\n",
       "        vertical-align: top;\n",
       "    }\n",
       "\n",
       "    .dataframe thead th {\n",
       "        text-align: right;\n",
       "    }\n",
       "</style>\n",
       "<table border=\"1\" class=\"dataframe\">\n",
       "  <thead>\n",
       "    <tr style=\"text-align: right;\">\n",
       "      <th></th>\n",
       "      <th>word</th>\n",
       "      <th>freq</th>\n",
       "    </tr>\n",
       "  </thead>\n",
       "  <tbody>\n",
       "    <tr>\n",
       "      <th>0</th>\n",
       "      <td>좋다</td>\n",
       "      <td>557</td>\n",
       "    </tr>\n",
       "    <tr>\n",
       "      <th>1</th>\n",
       "      <td>맛있다</td>\n",
       "      <td>545</td>\n",
       "    </tr>\n",
       "    <tr>\n",
       "      <th>2</th>\n",
       "      <td>맛</td>\n",
       "      <td>445</td>\n",
       "    </tr>\n",
       "    <tr>\n",
       "      <th>3</th>\n",
       "      <td>있다</td>\n",
       "      <td>194</td>\n",
       "    </tr>\n",
       "    <tr>\n",
       "      <th>4</th>\n",
       "      <td>단호박</td>\n",
       "      <td>186</td>\n",
       "    </tr>\n",
       "    <tr>\n",
       "      <th>...</th>\n",
       "      <td>...</td>\n",
       "      <td>...</td>\n",
       "    </tr>\n",
       "    <tr>\n",
       "      <th>295</th>\n",
       "      <td>끈</td>\n",
       "      <td>5</td>\n",
       "    </tr>\n",
       "    <tr>\n",
       "      <th>296</th>\n",
       "      <td>무엇</td>\n",
       "      <td>5</td>\n",
       "    </tr>\n",
       "    <tr>\n",
       "      <th>297</th>\n",
       "      <td>레인</td>\n",
       "      <td>5</td>\n",
       "    </tr>\n",
       "    <tr>\n",
       "      <th>298</th>\n",
       "      <td>재주</td>\n",
       "      <td>5</td>\n",
       "    </tr>\n",
       "    <tr>\n",
       "      <th>299</th>\n",
       "      <td>배부르다</td>\n",
       "      <td>5</td>\n",
       "    </tr>\n",
       "  </tbody>\n",
       "</table>\n",
       "<p>300 rows × 2 columns</p>\n",
       "</div>"
      ],
      "text/plain": [
       "     word  freq\n",
       "0      좋다   557\n",
       "1     맛있다   545\n",
       "2       맛   445\n",
       "3      있다   194\n",
       "4     단호박   186\n",
       "..    ...   ...\n",
       "295     끈     5\n",
       "296    무엇     5\n",
       "297    레인     5\n",
       "298    재주     5\n",
       "299  배부르다     5\n",
       "\n",
       "[300 rows x 2 columns]"
      ]
     },
     "execution_count": 102,
     "metadata": {},
     "output_type": "execute_result"
    }
   ],
   "source": [
    "ddd = Counter(wordSelector(df['Contents_tagged'])).most_common(300)\n",
    "# dff = pd.DataFrame.from_dict(ddd, orient='index').reset_index()\n",
    "dff = pd.DataFrame(ddd)\n",
    "dff.columns = dff.columns.astype(str)\n",
    "dff.columns\n",
    "dff = dff.rename(columns={'0':'word', '1':'freq'})\n",
    "dff"
   ]
  },
  {
   "cell_type": "markdown",
   "metadata": {},
   "source": [
    "    됐다.\n",
    "    함수화 해서 모든 파일마다 csv파일 만들자..."
   ]
  }
 ],
 "metadata": {
  "kernelspec": {
   "display_name": "Python 3",
   "language": "python",
   "name": "python3"
  },
  "language_info": {
   "codemirror_mode": {
    "name": "ipython",
    "version": 3
   },
   "file_extension": ".py",
   "mimetype": "text/x-python",
   "name": "python",
   "nbconvert_exporter": "python",
   "pygments_lexer": "ipython3",
   "version": "3.7.1"
  },
  "toc": {
   "base_numbering": 1,
   "nav_menu": {},
   "number_sections": true,
   "sideBar": true,
   "skip_h1_title": false,
   "title_cell": "Table of Contents",
   "title_sidebar": "Contents",
   "toc_cell": false,
   "toc_position": {},
   "toc_section_display": true,
   "toc_window_display": false
  },
  "varInspector": {
   "cols": {
    "lenName": 16,
    "lenType": 16,
    "lenVar": 40
   },
   "kernels_config": {
    "python": {
     "delete_cmd_postfix": "",
     "delete_cmd_prefix": "del ",
     "library": "var_list.py",
     "varRefreshCmd": "print(var_dic_list())"
    },
    "r": {
     "delete_cmd_postfix": ") ",
     "delete_cmd_prefix": "rm(",
     "library": "var_list.r",
     "varRefreshCmd": "cat(var_dic_list()) "
    }
   },
   "types_to_exclude": [
    "module",
    "function",
    "builtin_function_or_method",
    "instance",
    "_Feature"
   ],
   "window_display": false
  }
 },
 "nbformat": 4,
 "nbformat_minor": 2
}

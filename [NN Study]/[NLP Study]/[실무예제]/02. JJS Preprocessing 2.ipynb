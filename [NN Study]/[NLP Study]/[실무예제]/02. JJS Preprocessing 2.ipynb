{
 "cells": [
  {
   "cell_type": "code",
   "execution_count": 3,
   "metadata": {
    "ExecuteTime": {
     "end_time": "2021-09-02T05:40:54.332095Z",
     "start_time": "2021-09-02T05:40:53.681651Z"
    }
   },
   "outputs": [],
   "source": [
    "import pandas as pd\n",
    "import os, warnings, re\n",
    "from konlpy.tag import Okt\n",
    "\n",
    "warnings.filterwarnings(action='ignore')"
   ]
  },
  {
   "cell_type": "code",
   "execution_count": 4,
   "metadata": {
    "ExecuteTime": {
     "end_time": "2021-09-02T05:40:55.369680Z",
     "start_time": "2021-09-02T05:40:55.348686Z"
    }
   },
   "outputs": [
    {
     "data": {
      "text/plain": [
       "['네이버쇼핑_(단호박_다이어트식품).xlsx',\n",
       " '네이버쇼핑_(단호박_샐러드).xlsx',\n",
       " '네이버쇼핑_(단호박칩_반려동물).xlsx',\n",
       " '스마트스토어_(구운_단호박).xlsx',\n",
       " '스마트스토어_(다이어트_스낵).xlsx',\n",
       " '스마트스토어_(호박_스낵).xlsx']"
      ]
     },
     "execution_count": 4,
     "metadata": {},
     "output_type": "execute_result"
    }
   ],
   "source": [
    "url = 'UseData/Voucher/'\n",
    "filenames = os.listdir(url)\n",
    "del filenames[0] # 폴더 지우고\n",
    "del filenames[0] # 블로그 지우고\n",
    "filenames"
   ]
  },
  {
   "cell_type": "code",
   "execution_count": 5,
   "metadata": {
    "ExecuteTime": {
     "end_time": "2021-09-02T05:40:56.972288Z",
     "start_time": "2021-09-02T05:40:56.946302Z"
    }
   },
   "outputs": [
    {
     "data": {
      "text/html": [
       "<div>\n",
       "<style scoped>\n",
       "    .dataframe tbody tr th:only-of-type {\n",
       "        vertical-align: middle;\n",
       "    }\n",
       "\n",
       "    .dataframe tbody tr th {\n",
       "        vertical-align: top;\n",
       "    }\n",
       "\n",
       "    .dataframe thead th {\n",
       "        text-align: right;\n",
       "    }\n",
       "</style>\n",
       "<table border=\"1\" class=\"dataframe\">\n",
       "  <thead>\n",
       "    <tr style=\"text-align: right;\">\n",
       "      <th></th>\n",
       "      <th>File</th>\n",
       "      <th>Type</th>\n",
       "    </tr>\n",
       "  </thead>\n",
       "  <tbody>\n",
       "    <tr>\n",
       "      <th>0</th>\n",
       "      <td>네이버쇼핑_(단호박_다이어트식품).xlsx</td>\n",
       "      <td>ns</td>\n",
       "    </tr>\n",
       "    <tr>\n",
       "      <th>1</th>\n",
       "      <td>네이버쇼핑_(단호박_샐러드).xlsx</td>\n",
       "      <td>ns</td>\n",
       "    </tr>\n",
       "    <tr>\n",
       "      <th>2</th>\n",
       "      <td>네이버쇼핑_(단호박칩_반려동물).xlsx</td>\n",
       "      <td>ns</td>\n",
       "    </tr>\n",
       "    <tr>\n",
       "      <th>3</th>\n",
       "      <td>스마트스토어_(구운_단호박).xlsx</td>\n",
       "      <td>nsst</td>\n",
       "    </tr>\n",
       "    <tr>\n",
       "      <th>4</th>\n",
       "      <td>스마트스토어_(다이어트_스낵).xlsx</td>\n",
       "      <td>nsst</td>\n",
       "    </tr>\n",
       "    <tr>\n",
       "      <th>5</th>\n",
       "      <td>스마트스토어_(호박_스낵).xlsx</td>\n",
       "      <td>nsst</td>\n",
       "    </tr>\n",
       "  </tbody>\n",
       "</table>\n",
       "</div>"
      ],
      "text/plain": [
       "                      File  Type\n",
       "0  네이버쇼핑_(단호박_다이어트식품).xlsx    ns\n",
       "1     네이버쇼핑_(단호박_샐러드).xlsx    ns\n",
       "2   네이버쇼핑_(단호박칩_반려동물).xlsx    ns\n",
       "3     스마트스토어_(구운_단호박).xlsx  nsst\n",
       "4    스마트스토어_(다이어트_스낵).xlsx  nsst\n",
       "5      스마트스토어_(호박_스낵).xlsx  nsst"
      ]
     },
     "execution_count": 5,
     "metadata": {},
     "output_type": "execute_result"
    }
   ],
   "source": [
    "filesDataFrame = pd.DataFrame({'File' : filenames, 'Type' : ['ns', 'ns', 'ns', 'nsst', 'nsst', 'nsst']})\n",
    "filesDataFrame"
   ]
  },
  {
   "cell_type": "code",
   "execution_count": 6,
   "metadata": {
    "ExecuteTime": {
     "end_time": "2021-09-02T05:41:04.834308Z",
     "start_time": "2021-09-02T05:41:04.814317Z"
    }
   },
   "outputs": [],
   "source": [
    "def ContentsPreprocessor(url, Type, file):\n",
    "    colList = ['제목', '별점', 'Contents'] # 사용할 컬럼만.\n",
    "    df = pd.read_excel(url + file, sheet_name = 'Sheet1', usecols = colList)\n",
    "    \n",
    "    if Type == 'ns':\n",
    "        df['Contents'] = df['Contents'].apply(lambda x: x.split('_x000D_\\n_x000D_\\n')) # 구분자 제거\n",
    "        df['Contents'] = df['Contents'].apply(lambda x: ' '.join(x)) # 다시 문자열로\n",
    "        df['Contents'] = df['Contents'].apply(lambda x: re.sub('[▶+]', '', x)) # 세모 제거\n",
    "        df['Contents'] = df['Contents'].apply(lambda x: re.sub('(단호박 다이어트식품)|(단호박 샐러드)|(단호박칩 반려동물)', '', x)) # 맨앞 키워드 제거\n",
    "        df['Contents'] = df['Contents'].apply(lambda x: re.sub(\"[^가-힣]\", \" \", x)) # 특수문자들 제거\n",
    "    \n",
    "    elif Type == 'nsst':\n",
    "        df['Contents'] = df['Contents'].apply(lambda x: x.split('_x000D_\\n_x000D_\\n')) # 구분자 제거\n",
    "        df['Contents'] = df['Contents'].apply(lambda x: x.pop()) # 본문만 나누기\n",
    "        df['Contents'] = df['Contents'].apply(lambda x: re.sub(\"[^가-힣]\", \" \", x)) # 특수문자들 제거\n",
    "    \n",
    "    df.to_csv(url + file[:-5] + '_cleaned.csv', index=True, header=True, encoding='utf-8-sig') # 그냥 UTF하면 한글이 깨진다."
   ]
  },
  {
   "cell_type": "code",
   "execution_count": 7,
   "metadata": {
    "ExecuteTime": {
     "end_time": "2021-09-02T05:41:09.723732Z",
     "start_time": "2021-09-02T05:41:07.253697Z"
    }
   },
   "outputs": [],
   "source": [
    "for index in range(len(filesDataFrame)):\n",
    "    file = filesDataFrame['File'][index]\n",
    "    Type = filesDataFrame['Type'][index]\n",
    "    ContentsPreprocessor(url, Type, file)"
   ]
  },
  {
   "cell_type": "markdown",
   "metadata": {},
   "source": [
    "    리뷰 내용만 뽑아서 내놨으니\n",
    "    Cleaned 가지고 하자.\n",
    "    \n",
    "    아니 스마트스토어는 다르게 해야되네 ㅅㅂ"
   ]
  }
 ],
 "metadata": {
  "kernelspec": {
   "display_name": "Python 3",
   "language": "python",
   "name": "python3"
  },
  "language_info": {
   "codemirror_mode": {
    "name": "ipython",
    "version": 3
   },
   "file_extension": ".py",
   "mimetype": "text/x-python",
   "name": "python",
   "nbconvert_exporter": "python",
   "pygments_lexer": "ipython3",
   "version": "3.7.1"
  },
  "toc": {
   "base_numbering": 1,
   "nav_menu": {},
   "number_sections": true,
   "sideBar": true,
   "skip_h1_title": false,
   "title_cell": "Table of Contents",
   "title_sidebar": "Contents",
   "toc_cell": false,
   "toc_position": {},
   "toc_section_display": true,
   "toc_window_display": false
  },
  "varInspector": {
   "cols": {
    "lenName": 16,
    "lenType": 16,
    "lenVar": 40
   },
   "kernels_config": {
    "python": {
     "delete_cmd_postfix": "",
     "delete_cmd_prefix": "del ",
     "library": "var_list.py",
     "varRefreshCmd": "print(var_dic_list())"
    },
    "r": {
     "delete_cmd_postfix": ") ",
     "delete_cmd_prefix": "rm(",
     "library": "var_list.r",
     "varRefreshCmd": "cat(var_dic_list()) "
    }
   },
   "position": {
    "height": "320px",
    "left": "692px",
    "right": "20px",
    "top": "141px",
    "width": "350px"
   },
   "types_to_exclude": [
    "module",
    "function",
    "builtin_function_or_method",
    "instance",
    "_Feature"
   ],
   "window_display": false
  }
 },
 "nbformat": 4,
 "nbformat_minor": 2
}

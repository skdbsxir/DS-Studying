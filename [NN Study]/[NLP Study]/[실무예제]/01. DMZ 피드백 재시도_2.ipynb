{
 "cells": [
  {
   "cell_type": "code",
   "execution_count": 1,
   "metadata": {
    "ExecuteTime": {
     "end_time": "2021-08-27T00:52:46.309276Z",
     "start_time": "2021-08-27T00:52:43.664458Z"
    }
   },
   "outputs": [],
   "source": [
    "import pandas as pd\n",
    "import nltk\n",
    "import os"
   ]
  },
  {
   "cell_type": "code",
   "execution_count": 2,
   "metadata": {
    "ExecuteTime": {
     "end_time": "2021-08-27T00:52:48.177452Z",
     "start_time": "2021-08-27T00:52:48.152468Z"
    }
   },
   "outputs": [
    {
     "data": {
      "text/plain": [
       "['.gitignore',\n",
       " '.ipynb_checkpoints',\n",
       " '01. DMZ 피드백 재시도.ipynb',\n",
       " '01. DMZ 피드백 재시도_2.ipynb',\n",
       " 'UseData',\n",
       " '네트워크_dmz_feedback.ipynb']"
      ]
     },
     "execution_count": 2,
     "metadata": {},
     "output_type": "execute_result"
    }
   ],
   "source": [
    "os.listdir()"
   ]
  },
  {
   "cell_type": "code",
   "execution_count": 3,
   "metadata": {
    "ExecuteTime": {
     "end_time": "2021-08-27T00:52:49.732018Z",
     "start_time": "2021-08-27T00:52:49.491470Z"
    }
   },
   "outputs": [
    {
     "data": {
      "text/plain": [
       "['(학술자료_해외) animal.xlsx',\n",
       " '(학술자료_해외) Biodiversity.xlsx',\n",
       " '(학술자료_해외) plant.xlsx',\n",
       " '(학술자료_해외) preservation or conservation.xlsx',\n",
       " '(학술자료_해외) south korea.xlsx']"
      ]
     },
     "execution_count": 3,
     "metadata": {},
     "output_type": "execute_result"
    }
   ],
   "source": [
    "url = 'UseData/'\n",
    "os.listdir(url)"
   ]
  },
  {
   "cell_type": "code",
   "execution_count": 4,
   "metadata": {
    "ExecuteTime": {
     "end_time": "2021-08-27T00:52:51.080725Z",
     "start_time": "2021-08-27T00:52:51.047472Z"
    }
   },
   "outputs": [
    {
     "data": {
      "text/html": [
       "<div>\n",
       "<style scoped>\n",
       "    .dataframe tbody tr th:only-of-type {\n",
       "        vertical-align: middle;\n",
       "    }\n",
       "\n",
       "    .dataframe tbody tr th {\n",
       "        vertical-align: top;\n",
       "    }\n",
       "\n",
       "    .dataframe thead th {\n",
       "        text-align: right;\n",
       "    }\n",
       "</style>\n",
       "<table border=\"1\" class=\"dataframe\">\n",
       "  <thead>\n",
       "    <tr style=\"text-align: right;\">\n",
       "      <th></th>\n",
       "      <th>FileName</th>\n",
       "      <th>Lang</th>\n",
       "    </tr>\n",
       "  </thead>\n",
       "  <tbody>\n",
       "    <tr>\n",
       "      <th>0</th>\n",
       "      <td>(학술자료_해외) animal.xlsx</td>\n",
       "      <td>en</td>\n",
       "    </tr>\n",
       "    <tr>\n",
       "      <th>1</th>\n",
       "      <td>(학술자료_해외) Biodiversity.xlsx</td>\n",
       "      <td>en</td>\n",
       "    </tr>\n",
       "    <tr>\n",
       "      <th>2</th>\n",
       "      <td>(학술자료_해외) plant.xlsx</td>\n",
       "      <td>en</td>\n",
       "    </tr>\n",
       "    <tr>\n",
       "      <th>3</th>\n",
       "      <td>(학술자료_해외) preservation or conservation.xlsx</td>\n",
       "      <td>en</td>\n",
       "    </tr>\n",
       "    <tr>\n",
       "      <th>4</th>\n",
       "      <td>(학술자료_해외) south korea.xlsx</td>\n",
       "      <td>en</td>\n",
       "    </tr>\n",
       "  </tbody>\n",
       "</table>\n",
       "</div>"
      ],
      "text/plain": [
       "                                      FileName Lang\n",
       "0                        (학술자료_해외) animal.xlsx   en\n",
       "1                  (학술자료_해외) Biodiversity.xlsx   en\n",
       "2                         (학술자료_해외) plant.xlsx   en\n",
       "3  (학술자료_해외) preservation or conservation.xlsx   en\n",
       "4                   (학술자료_해외) south korea.xlsx   en"
      ]
     },
     "execution_count": 4,
     "metadata": {},
     "output_type": "execute_result"
    }
   ],
   "source": [
    "files = pd.DataFrame({\n",
    "    'FileName' : os.listdir(url),\n",
    "    'Lang' : ['en', 'en', 'en', 'en', 'en']\n",
    "})\n",
    "files"
   ]
  },
  {
   "cell_type": "code",
   "execution_count": 15,
   "metadata": {
    "ExecuteTime": {
     "end_time": "2021-08-27T02:12:57.854848Z",
     "start_time": "2021-08-27T02:12:57.830861Z"
    }
   },
   "outputs": [],
   "source": [
    "# 함수 정의\n",
    "# 파일을 읽고, 어간 별 분리를 한 후 갯수를 count, gephi에 넣을 수 있게 가공.\n",
    "def Processor(url, filename, lang):\n",
    "    df = pd.read_excel(url + filename, sheet_name = 'Sheet1', usecols=['Contents'])\n",
    "    \n",
    "    resultList = []\n",
    "    wordDict = {}\n",
    "    \n",
    "    # 숫자 제거, 길이가 3 이하인 단어만 제거 및 lower 전처리\n",
    "    df['Contents'] = df['Contents'].str.replace('[^a-zA-Z]+', ' ')\n",
    "    df['Contents'] = df['Contents'].apply(lambda x: ' '.join([w for w in x.split() if len(w) > 3]))\n",
    "    df['Contents'] = df['Contents'].apply(lambda x: x.lower())\n",
    "    \n",
    "    # 전처리된 문장들에 대해 Loop\n",
    "    # 띄어쓰기 기준으로 토큰화 및 태깅작업 진행\n",
    "    for sentence in df['Contents']:\n",
    "        words = nltk.tokenize.word_tokenize(sentence) # 띄어쓰기 기준 단어 토큰화\n",
    "        word_with_tag = nltk.tag.pos_tag(words) # 단어들에 대한 태깅 작업\n",
    "        wordList = [word for word, tag in word_with_tag if ('NN' in tag)] # 명사 만 추출 \n",
    "        \n",
    "        # 추출 된 단어 Counting\n",
    "        for word in wordList:\n",
    "            if word in wordDict.keys():\n",
    "                wordDict[word] += 1\n",
    "            else:\n",
    "                wordDict[word] = 1\n",
    "        resultList.append(wordList)\n",
    "        # print(resultList[:2]) # 확인용\n",
    "    \n",
    "    # 상위 100개 단어만 추출\n",
    "    stop = [x[0] for x in sorted(wordDict.items(), key = (lambda x: x[1]), reverse = True)[:100]]\n",
    "    \n",
    "    # Gephi에서 받을 수 있는 형태로 저장\n",
    "    results = []\n",
    "    for r in resultList:\n",
    "        imsi = []\n",
    "        for _r in r:\n",
    "            if _r in stop:\n",
    "                imsi.append(_r)\n",
    "        if len(imsi) != 0 :\n",
    "            results.append(imsi)\n",
    "    pd.DataFrame(results).to_csv('./Outputs/' + file[:-5] + '.csv', index = False, header = False)"
   ]
  },
  {
   "cell_type": "code",
   "execution_count": 16,
   "metadata": {
    "ExecuteTime": {
     "end_time": "2021-08-27T02:13:07.736951Z",
     "start_time": "2021-08-27T02:13:00.028332Z"
    }
   },
   "outputs": [
    {
     "name": "stderr",
     "output_type": "stream",
     "text": [
      "C:\\Users\\skdbs\\Anaconda3\\lib\\site-packages\\ipykernel_launcher.py:10: FutureWarning: The default value of regex will change from True to False in a future version.\n",
      "  # Remove the CWD from sys.path while we load stuff.\n"
     ]
    }
   ],
   "source": [
    "# 파일 목록(DataFrame)에 있는 파일에 대해 작업 수행\n",
    "for index in range(len(files)):\n",
    "    file = files['FileName'][index]\n",
    "    lang = files['Lang'][index]\n",
    "    Processor(url, file, lang)"
   ]
  },
  {
   "cell_type": "markdown",
   "metadata": {},
   "source": [
    "    1. Gephi 형태로 저장 --> ?\n",
    "    일단 Gephi 넣어보자."
   ]
  },
  {
   "cell_type": "markdown",
   "metadata": {},
   "source": [
    "    그래프는 생성 됨.\n",
    "    Gephi Preview가 근데 안나와서 재설치 해야 할 듯."
   ]
  }
 ],
 "metadata": {
  "kernelspec": {
   "display_name": "Python 3",
   "language": "python",
   "name": "python3"
  },
  "language_info": {
   "codemirror_mode": {
    "name": "ipython",
    "version": 3
   },
   "file_extension": ".py",
   "mimetype": "text/x-python",
   "name": "python",
   "nbconvert_exporter": "python",
   "pygments_lexer": "ipython3",
   "version": "3.7.1"
  },
  "toc": {
   "base_numbering": 1,
   "nav_menu": {},
   "number_sections": true,
   "sideBar": true,
   "skip_h1_title": false,
   "title_cell": "Table of Contents",
   "title_sidebar": "Contents",
   "toc_cell": false,
   "toc_position": {},
   "toc_section_display": true,
   "toc_window_display": false
  },
  "varInspector": {
   "cols": {
    "lenName": 16,
    "lenType": 16,
    "lenVar": 40
   },
   "kernels_config": {
    "python": {
     "delete_cmd_postfix": "",
     "delete_cmd_prefix": "del ",
     "library": "var_list.py",
     "varRefreshCmd": "print(var_dic_list())"
    },
    "r": {
     "delete_cmd_postfix": ") ",
     "delete_cmd_prefix": "rm(",
     "library": "var_list.r",
     "varRefreshCmd": "cat(var_dic_list()) "
    }
   },
   "types_to_exclude": [
    "module",
    "function",
    "builtin_function_or_method",
    "instance",
    "_Feature"
   ],
   "window_display": false
  }
 },
 "nbformat": 4,
 "nbformat_minor": 2
}

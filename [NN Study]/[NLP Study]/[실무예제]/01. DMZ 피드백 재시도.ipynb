{
 "cells": [
  {
   "cell_type": "code",
   "execution_count": 1,
   "metadata": {
    "ExecuteTime": {
     "end_time": "2021-08-25T07:15:38.572817Z",
     "start_time": "2021-08-25T07:15:36.771770Z"
    }
   },
   "outputs": [],
   "source": [
    "import pandas as pd\n",
    "import nltk\n",
    "import os"
   ]
  },
  {
   "cell_type": "code",
   "execution_count": 2,
   "metadata": {
    "ExecuteTime": {
     "end_time": "2021-08-25T07:15:40.746261Z",
     "start_time": "2021-08-25T07:15:40.732255Z"
    }
   },
   "outputs": [
    {
     "data": {
      "text/plain": [
       "['(학술자료_해외) animal.ipynb',\n",
       " '(학술자료_해외) animal_2.ipynb',\n",
       " '(학술자료_해외) Biodiversity.ipynb',\n",
       " '.ipynb_checkpoints',\n",
       " 'DMZ Data']"
      ]
     },
     "execution_count": 2,
     "metadata": {},
     "output_type": "execute_result"
    }
   ],
   "source": [
    "os.listdir()"
   ]
  },
  {
   "cell_type": "code",
   "execution_count": 9,
   "metadata": {
    "ExecuteTime": {
     "end_time": "2021-08-25T07:24:58.605490Z",
     "start_time": "2021-08-25T07:24:58.592481Z"
    }
   },
   "outputs": [
    {
     "data": {
      "text/plain": [
       "['(학술논문)자연과학 전체(해외).xlsx',\n",
       " '(학술논문)자연과학 전체.xlsx',\n",
       " '(학술논문_국내) 동물.xlsx',\n",
       " '(학술논문_국내) 보전.xlsx',\n",
       " '(학술논문_국내) 북한.xlsx',\n",
       " '(학술논문_국내) 생물다양성.xlsx',\n",
       " '(학술논문_국내) 식물.xlsx',\n",
       " '(학술자료_해외) animal.xlsx',\n",
       " '(학술자료_해외) Biodiversity.xlsx',\n",
       " '(학술자료_해외) plant.xlsx',\n",
       " '(학술자료_해외) preservation or conservation.xlsx',\n",
       " '(학술자료_해외) south korea.xlsx']"
      ]
     },
     "execution_count": 9,
     "metadata": {},
     "output_type": "execute_result"
    }
   ],
   "source": [
    "url = 'E:/[학교폴더]/[개별공부]/[GP]/DMZ Data'\n",
    "os.listdir(url)"
   ]
  },
  {
   "cell_type": "markdown",
   "metadata": {},
   "source": [
    "    이런식으로 파일 url 지정해서 한번에 불러올 수 있겠구나."
   ]
  },
  {
   "cell_type": "code",
   "execution_count": 10,
   "metadata": {
    "ExecuteTime": {
     "end_time": "2021-08-25T07:25:05.817066Z",
     "start_time": "2021-08-25T07:25:04.887501Z"
    }
   },
   "outputs": [
    {
     "name": "stdout",
     "output_type": "stream",
     "text": [
      "(학술논문)자연과학 전체(해외).xlsx\n",
      "0     0285 Agronomy  0481 Soil sciences  0768 Envir...\n",
      "1     0337 American history  0768 Environmental sci...\n",
      "Name: Contents, dtype: object \n",
      "\n",
      "(학술논문)자연과학 전체.xlsx\n",
      "0              원격탐사 자료를 활용한 임진강 접경지역 홍수예측\n",
      "1    디지털 자연보전 AI를 이용한 DMZ 야생동물 종 및 개체수 분석\n",
      "Name: Contents, dtype: object \n",
      "\n",
      "(학술논문_국내) 동물.xlsx\n",
      "0    디지털 자연보전 AI를 이용한 DMZ 야생동물 종 및 개체수 분석\n",
      "1    민통선이북지역DMZ 백두대간보호지역의 저서성 대형무척추동물상 분석\n",
      "Name: Contents, dtype: object \n",
      "\n",
      "(학술논문_국내) 보전.xlsx\n",
      "0    보전지역과 개발가능지의 설정에 관한 연구 경기도 접경지역의 사례를 중심으로\n",
      "1                             접경지역의 보전 및 관리방안 \n",
      "Name: Contents, dtype: object \n",
      "\n",
      "(학술논문_국내) 북한.xlsx\n",
      "0    주제발표 1 중·북·러 접경지역 경제·물류네트워크의 지정학적 중요성에 대한 역사적 통찰\n",
      "1                         통일후 북한의 대량난민문제에 대비한 접경지역 개발\n",
      "Name: Contents, dtype: object \n",
      "\n",
      "(학술논문_국내) 생물다양성.xlsx\n",
      "0                      한반도 비무장지대DMZ 저서성 대형무척추동물의 생물다양성\n",
      "1    DMZ는 1953년 정전협정 이후 설정된 군사분계선의 남북으로 설정된 완충지대이다 ...\n",
      "Name: Contents, dtype: object \n",
      "\n",
      "(학술논문_국내) 식물.xlsx\n",
      "0    DMZ 불모지의 지속가능한 관리를 위한 자생식물 선정\n",
      "1     강원도 고성군 비무장지대DMZ 인접지역의 식물자원 \n",
      "Name: Contents, dtype: object \n",
      "\n",
      "(학술자료_해외) animal.xlsx\n",
      "0     0284 Wildlife Conservation  0377 Art history ...\n",
      "1     0800 Artificial intelligence In a multiagent ...\n",
      "Name: Contents, dtype: object \n",
      "\n",
      "(학술자료_해외) Biodiversity.xlsx\n",
      "0     0329 Ecology  0729 Architecture The purpose o...\n",
      "1     0626 Sociology  0478 Forestry This dissertati...\n",
      "Name: Contents, dtype: object \n",
      "\n",
      "(학술자료_해외) plant.xlsx\n",
      "0     0544 Electrical engineering Ultrasonic inspec...\n",
      "1     0538 Aerospace engineering  0544 Electrical e...\n",
      "Name: Contents, dtype: object \n",
      "\n",
      "(학술자료_해외) preservation or conservation.xlsx\n",
      "0     0284 Wildlife Conservation  0377 Art history ...\n",
      "1     0373 Geophysics  0725 Atmospheric sciences Th...\n",
      "Name: Contents, dtype: object \n",
      "\n",
      "(학술자료_해외) south korea.xlsx\n",
      "0     0323 American studies  0337 American history ...\n",
      "1     0323 American studies  0337 American history ...\n",
      "Name: Contents, dtype: object \n",
      "\n"
     ]
    }
   ],
   "source": [
    "# 경로 안 파일목록 list에 대해 loop\n",
    "for filename in os.listdir(url):\n",
    "    # 엑셀파일 하나씩 읽어오기\n",
    "    df = pd.read_excel(url + '/' + filename, sheet_name = 'Sheet1')\n",
    "    \n",
    "    # 제대로 읽혀왔는지 Check.\n",
    "    print(filename)\n",
    "    print(df.loc[[0,1], 'Contents'], '\\n')"
   ]
  },
  {
   "cell_type": "code",
   "execution_count": 11,
   "metadata": {
    "ExecuteTime": {
     "end_time": "2021-08-25T07:32:00.134024Z",
     "start_time": "2021-08-25T07:32:00.119020Z"
    }
   },
   "outputs": [
    {
     "data": {
      "text/html": [
       "<div>\n",
       "<style scoped>\n",
       "    .dataframe tbody tr th:only-of-type {\n",
       "        vertical-align: middle;\n",
       "    }\n",
       "\n",
       "    .dataframe tbody tr th {\n",
       "        vertical-align: top;\n",
       "    }\n",
       "\n",
       "    .dataframe thead th {\n",
       "        text-align: right;\n",
       "    }\n",
       "</style>\n",
       "<table border=\"1\" class=\"dataframe\">\n",
       "  <thead>\n",
       "    <tr style=\"text-align: right;\">\n",
       "      <th></th>\n",
       "      <th>FileName</th>\n",
       "      <th>Lang</th>\n",
       "    </tr>\n",
       "  </thead>\n",
       "  <tbody>\n",
       "    <tr>\n",
       "      <th>0</th>\n",
       "      <td>(학술논문)자연과학 전체(해외).xlsx</td>\n",
       "      <td>en</td>\n",
       "    </tr>\n",
       "    <tr>\n",
       "      <th>1</th>\n",
       "      <td>(학술논문)자연과학 전체.xlsx</td>\n",
       "      <td>kr</td>\n",
       "    </tr>\n",
       "    <tr>\n",
       "      <th>2</th>\n",
       "      <td>(학술논문_국내) 동물.xlsx</td>\n",
       "      <td>kr</td>\n",
       "    </tr>\n",
       "    <tr>\n",
       "      <th>3</th>\n",
       "      <td>(학술논문_국내) 보전.xlsx</td>\n",
       "      <td>kr</td>\n",
       "    </tr>\n",
       "    <tr>\n",
       "      <th>4</th>\n",
       "      <td>(학술논문_국내) 북한.xlsx</td>\n",
       "      <td>kr</td>\n",
       "    </tr>\n",
       "    <tr>\n",
       "      <th>5</th>\n",
       "      <td>(학술논문_국내) 생물다양성.xlsx</td>\n",
       "      <td>kr</td>\n",
       "    </tr>\n",
       "    <tr>\n",
       "      <th>6</th>\n",
       "      <td>(학술논문_국내) 식물.xlsx</td>\n",
       "      <td>kr</td>\n",
       "    </tr>\n",
       "    <tr>\n",
       "      <th>7</th>\n",
       "      <td>(학술자료_해외) animal.xlsx</td>\n",
       "      <td>en</td>\n",
       "    </tr>\n",
       "    <tr>\n",
       "      <th>8</th>\n",
       "      <td>(학술자료_해외) Biodiversity.xlsx</td>\n",
       "      <td>en</td>\n",
       "    </tr>\n",
       "    <tr>\n",
       "      <th>9</th>\n",
       "      <td>(학술자료_해외) plant.xlsx</td>\n",
       "      <td>en</td>\n",
       "    </tr>\n",
       "    <tr>\n",
       "      <th>10</th>\n",
       "      <td>(학술자료_해외) preservation or conservation.xlsx</td>\n",
       "      <td>en</td>\n",
       "    </tr>\n",
       "    <tr>\n",
       "      <th>11</th>\n",
       "      <td>(학술자료_해외) south korea.xlsx</td>\n",
       "      <td>en</td>\n",
       "    </tr>\n",
       "  </tbody>\n",
       "</table>\n",
       "</div>"
      ],
      "text/plain": [
       "                                       FileName Lang\n",
       "0                        (학술논문)자연과학 전체(해외).xlsx   en\n",
       "1                            (학술논문)자연과학 전체.xlsx   kr\n",
       "2                             (학술논문_국내) 동물.xlsx   kr\n",
       "3                             (학술논문_국내) 보전.xlsx   kr\n",
       "4                             (학술논문_국내) 북한.xlsx   kr\n",
       "5                          (학술논문_국내) 생물다양성.xlsx   kr\n",
       "6                             (학술논문_국내) 식물.xlsx   kr\n",
       "7                         (학술자료_해외) animal.xlsx   en\n",
       "8                   (학술자료_해외) Biodiversity.xlsx   en\n",
       "9                          (학술자료_해외) plant.xlsx   en\n",
       "10  (학술자료_해외) preservation or conservation.xlsx   en\n",
       "11                   (학술자료_해외) south korea.xlsx   en"
      ]
     },
     "execution_count": 11,
     "metadata": {},
     "output_type": "execute_result"
    }
   ],
   "source": [
    "# 파일 이름 기준으로 영문 컨텐츠인지, 한글 컨텐츠인지 구분\n",
    "files = pd.DataFrame({\n",
    "    'FileName' : os.listdir(url),\n",
    "    'Lang' : ['en', 'kr', 'kr', 'kr', 'kr', 'kr', 'kr', 'en', 'en', 'en', 'en', 'en']\n",
    "})\n",
    "files"
   ]
  },
  {
   "cell_type": "markdown",
   "metadata": {},
   "source": [
    "    이런식으로 파일 정리해서 for loop을 통해 하나씩 읽어올 수 있을것.\n",
    "    와우...\n",
    "    \n",
    "    한개 읽어와서 저걸 해보자"
   ]
  },
  {
   "cell_type": "code",
   "execution_count": 12,
   "metadata": {
    "ExecuteTime": {
     "end_time": "2021-08-25T07:33:23.708640Z",
     "start_time": "2021-08-25T07:33:23.701644Z"
    }
   },
   "outputs": [
    {
     "data": {
      "text/plain": [
       "'(학술논문)자연과학 전체(해외).xlsx'"
      ]
     },
     "execution_count": 12,
     "metadata": {},
     "output_type": "execute_result"
    }
   ],
   "source": [
    "files['FileName'][0]"
   ]
  },
  {
   "cell_type": "markdown",
   "metadata": {},
   "source": [
    "## 영어 컨텐츠 "
   ]
  },
  {
   "cell_type": "code",
   "execution_count": 14,
   "metadata": {
    "ExecuteTime": {
     "end_time": "2021-08-25T07:36:02.021389Z",
     "start_time": "2021-08-25T07:36:01.955648Z"
    }
   },
   "outputs": [
    {
     "data": {
      "text/html": [
       "<div>\n",
       "<style scoped>\n",
       "    .dataframe tbody tr th:only-of-type {\n",
       "        vertical-align: middle;\n",
       "    }\n",
       "\n",
       "    .dataframe tbody tr th {\n",
       "        vertical-align: top;\n",
       "    }\n",
       "\n",
       "    .dataframe thead th {\n",
       "        text-align: right;\n",
       "    }\n",
       "</style>\n",
       "<table border=\"1\" class=\"dataframe\">\n",
       "  <thead>\n",
       "    <tr style=\"text-align: right;\">\n",
       "      <th></th>\n",
       "      <th>Contents</th>\n",
       "    </tr>\n",
       "  </thead>\n",
       "  <tbody>\n",
       "    <tr>\n",
       "      <th>0</th>\n",
       "      <td>0285 Agronomy  0481 Soil sciences  0768 Envir...</td>\n",
       "    </tr>\n",
       "    <tr>\n",
       "      <th>1</th>\n",
       "      <td>0337 American history  0768 Environmental sci...</td>\n",
       "    </tr>\n",
       "    <tr>\n",
       "      <th>2</th>\n",
       "      <td>0286 Wildlife Management  0329 Ecology  0408 ...</td>\n",
       "    </tr>\n",
       "    <tr>\n",
       "      <th>3</th>\n",
       "      <td>0388 Hydrology  0372 Geology  0768 Environmen...</td>\n",
       "    </tr>\n",
       "    <tr>\n",
       "      <th>4</th>\n",
       "      <td>0324 Archaeology  0337 American history  0582...</td>\n",
       "    </tr>\n",
       "  </tbody>\n",
       "</table>\n",
       "</div>"
      ],
      "text/plain": [
       "                                            Contents\n",
       "0   0285 Agronomy  0481 Soil sciences  0768 Envir...\n",
       "1   0337 American history  0768 Environmental sci...\n",
       "2   0286 Wildlife Management  0329 Ecology  0408 ...\n",
       "3   0388 Hydrology  0372 Geology  0768 Environmen...\n",
       "4   0324 Archaeology  0337 American history  0582..."
      ]
     },
     "execution_count": 14,
     "metadata": {},
     "output_type": "execute_result"
    }
   ],
   "source": [
    "# 다 읽어올 필요 없이, Contents만 읽어오는게 더 편하지 않을까?\n",
    "df = pd.read_excel(url + '/' + files['FileName'][0], sheet_name = 'Sheet1', usecols=['Contents'])\n",
    "df.head()"
   ]
  },
  {
   "cell_type": "code",
   "execution_count": 17,
   "metadata": {
    "ExecuteTime": {
     "end_time": "2021-08-25T07:38:51.746140Z",
     "start_time": "2021-08-25T07:38:51.078533Z"
    }
   },
   "outputs": [
    {
     "data": {
      "text/plain": [
       "(['0337', 'American', 'history', '0332', 'History'],\n",
       " [('0337', 'CD'),\n",
       "  ('American', 'JJ'),\n",
       "  ('history', 'NN'),\n",
       "  ('0332', 'CD'),\n",
       "  ('History', 'NN')])"
      ]
     },
     "execution_count": 17,
     "metadata": {},
     "output_type": "execute_result"
    }
   ],
   "source": [
    "# 문장들을 돌면서 Loop\n",
    "# 띄어쓰기 기준으로 토큰화 진행하고 태깅을 한번에 같이한다.\n",
    "\n",
    "for sentence in df['Contents']:\n",
    "    words = nltk.tokenize.word_tokenize(sentence) # 각 문장 띄어쓰기 기준으로 토큰화\n",
    "    tags = nltk.tag.pos_tag(words) # 단어별로 태깅작업\n",
    "\n",
    "words[:5], tags[:5]"
   ]
  },
  {
   "cell_type": "markdown",
   "metadata": {},
   "source": [
    "    https://www.guru99.com/pos-tagging-chunking-nltk.html\n",
    "    POS tag list.\n",
    "    명사만 뽑아야 하니 NN?"
   ]
  },
  {
   "cell_type": "code",
   "execution_count": 18,
   "metadata": {
    "ExecuteTime": {
     "end_time": "2021-08-25T07:43:45.675497Z",
     "start_time": "2021-08-25T07:43:44.996884Z"
    }
   },
   "outputs": [
    {
     "name": "stdout",
     "output_type": "stream",
     "text": [
      "['history', 'History', 'Environmental', 'science', 'dissertation']\n"
     ]
    }
   ],
   "source": [
    "# 번거롭지만 다시 쓰자.\n",
    "\n",
    "# 문장들을 돌면서 Loop\n",
    "# 띄어쓰기 기준으로 토큰화 진행하고 태깅을 한번에 같이한다.\n",
    "\n",
    "for sentence in df['Contents']:\n",
    "    words = nltk.tokenize.word_tokenize(sentence) # 각 문장 띄어쓰기 기준으로 토큰화\n",
    "    tags = nltk.tag.pos_tag(words) # 단어별로 태깅작업\n",
    "    \n",
    "    # ('NN' in tage) --> NN이 붙은건 명사들. 명사만 뽑고\n",
    "    # len(word) != 1 --> 길이가 1인 것들은 I, a 이런거. 불필요.\n",
    "    # 이 조건들을 만족하는 단어(word)를 tags에 있는 (word, tag) 쌍에서 가져온다.\n",
    "    # 그런데 이렇게하면 history / History || science / sciences 이런건?\n",
    "    wordList = [word for word, tag in tags if ('NN' in tag) & (len(word) != 1)]\n",
    "\n",
    "print(wordList[:5])"
   ]
  },
  {
   "cell_type": "markdown",
   "metadata": {},
   "source": [
    "    이쪽 부분은 내가 진행했던거로 하면 좀더 낫지 않을까 싶은데 한번 해보자."
   ]
  },
  {
   "cell_type": "code",
   "execution_count": 20,
   "metadata": {
    "ExecuteTime": {
     "end_time": "2021-08-25T08:16:15.236318Z",
     "start_time": "2021-08-25T08:16:15.200325Z"
    }
   },
   "outputs": [
    {
     "name": "stderr",
     "output_type": "stream",
     "text": [
      "C:\\Users\\skdbs\\Anaconda3\\lib\\site-packages\\ipykernel_launcher.py:2: FutureWarning: The default value of regex will change from True to False in a future version.\n",
      "  \n"
     ]
    },
    {
     "data": {
      "text/html": [
       "<div>\n",
       "<style scoped>\n",
       "    .dataframe tbody tr th:only-of-type {\n",
       "        vertical-align: middle;\n",
       "    }\n",
       "\n",
       "    .dataframe tbody tr th {\n",
       "        vertical-align: top;\n",
       "    }\n",
       "\n",
       "    .dataframe thead th {\n",
       "        text-align: right;\n",
       "    }\n",
       "</style>\n",
       "<table border=\"1\" class=\"dataframe\">\n",
       "  <thead>\n",
       "    <tr style=\"text-align: right;\">\n",
       "      <th></th>\n",
       "      <th>Contents</th>\n",
       "      <th>Contents_clean</th>\n",
       "    </tr>\n",
       "  </thead>\n",
       "  <tbody>\n",
       "    <tr>\n",
       "      <th>0</th>\n",
       "      <td>0285 Agronomy  0481 Soil sciences  0768 Envir...</td>\n",
       "      <td>agronomy soil sciences environmental science p...</td>\n",
       "    </tr>\n",
       "    <tr>\n",
       "      <th>1</th>\n",
       "      <td>0337 American history  0768 Environmental sci...</td>\n",
       "      <td>american history environmental science native ...</td>\n",
       "    </tr>\n",
       "    <tr>\n",
       "      <th>2</th>\n",
       "      <td>0286 Wildlife Management  0329 Ecology  0408 ...</td>\n",
       "      <td>wildlife management ecology conservation zoolo...</td>\n",
       "    </tr>\n",
       "    <tr>\n",
       "      <th>3</th>\n",
       "      <td>0388 Hydrology  0372 Geology  0768 Environmen...</td>\n",
       "      <td>hydrology geology environmental science monte ...</td>\n",
       "    </tr>\n",
       "    <tr>\n",
       "      <th>4</th>\n",
       "      <td>0324 Archaeology  0337 American history  0582...</td>\n",
       "      <td>archaeology american history modern history en...</td>\n",
       "    </tr>\n",
       "  </tbody>\n",
       "</table>\n",
       "</div>"
      ],
      "text/plain": [
       "                                            Contents  \\\n",
       "0   0285 Agronomy  0481 Soil sciences  0768 Envir...   \n",
       "1   0337 American history  0768 Environmental sci...   \n",
       "2   0286 Wildlife Management  0329 Ecology  0408 ...   \n",
       "3   0388 Hydrology  0372 Geology  0768 Environmen...   \n",
       "4   0324 Archaeology  0337 American history  0582...   \n",
       "\n",
       "                                      Contents_clean  \n",
       "0  agronomy soil sciences environmental science p...  \n",
       "1  american history environmental science native ...  \n",
       "2  wildlife management ecology conservation zoolo...  \n",
       "3  hydrology geology environmental science monte ...  \n",
       "4  archaeology american history modern history en...  "
      ]
     },
     "execution_count": 20,
     "metadata": {},
     "output_type": "execute_result"
    }
   ],
   "source": [
    "# 숫자 제거\n",
    "df['Contents_clean'] = df['Contents'].str.replace(\"[^a-zA-Z]+\", \" \")\n",
    "\n",
    "# 길이가 3 이하인 단어 제거\n",
    "df['Contents_clean'] = df['Contents_clean'].apply(lambda x: ' '.join([w for w in x.split() if len(w) > 3]))\n",
    "\n",
    "# 전채 소문자 화\n",
    "df['Contents_clean'] = df['Contents_clean'].apply(lambda x: x.lower())\n",
    "\n",
    "df.head()"
   ]
  },
  {
   "cell_type": "code",
   "execution_count": 50,
   "metadata": {
    "ExecuteTime": {
     "end_time": "2021-08-25T08:42:25.774499Z",
     "start_time": "2021-08-25T08:42:25.215814Z"
    }
   },
   "outputs": [
    {
     "data": {
      "text/plain": [
       "(['american',\n",
       "  'history',\n",
       "  'history',\n",
       "  'environmental',\n",
       "  'science',\n",
       "  'this',\n",
       "  'dissertation',\n",
       "  'offers',\n",
       "  'environmental',\n",
       "  'perspective'],\n",
       " [('american', 'JJ'),\n",
       "  ('history', 'NN'),\n",
       "  ('history', 'NN'),\n",
       "  ('environmental', 'JJ'),\n",
       "  ('science', 'NN'),\n",
       "  ('this', 'DT'),\n",
       "  ('dissertation', 'NN'),\n",
       "  ('offers', 'VBZ'),\n",
       "  ('environmental', 'JJ'),\n",
       "  ('perspective', 'NN')],\n",
       " ['history',\n",
       "  'history',\n",
       "  'science',\n",
       "  'dissertation',\n",
       "  'perspective',\n",
       "  'vietnam',\n",
       "  'examination',\n",
       "  'herbicides',\n",
       "  'purposes',\n",
       "  'jungles'])"
      ]
     },
     "execution_count": 50,
     "metadata": {},
     "output_type": "execute_result"
    }
   ],
   "source": [
    "# 문장들(Contents_clean)을 돌면서 loop\n",
    "# 띄어쓰기 기준으로 토큰화 진행하면서 태깅작업도 같이.\n",
    "\n",
    "for sentence in df['Contents_clean']:\n",
    "    # lower로 대소문자 변환,\n",
    "    # set 으로 중복단어 제거 후,\n",
    "    # pos_tag써서 태깅작업.\n",
    "    # words = list(set(nltk.tokenize.word_tokenize(sentence)))\n",
    "    \n",
    "    # 단어가 몇번 나왔는지를 알아야 하니 지우면 안되겠구나 ㅋㅋㅋㅋㅋㅋㅋㅋㅋㅋ\n",
    "    # words = list(set(nltk.tokenize.word_tokenize(sentence)))\n",
    "    words = nltk.tokenize.word_tokenize(sentence)\n",
    "    \n",
    "    # 대->소 변환 후 set 하는게 나을듯 이미햇잖아 ㅅㅂ \n",
    "    # lower_word = list(map(lambda x: x.lower, words)) # 단순히 이렇게하면 function str.lower()가 됨.\n",
    "    # lower_word = [x.lower() for x in words]\n",
    "    word_with_tag = nltk.tag.pos_tag(words)\n",
    "    \n",
    "    # ('NN' in tage) --> NN이 붙은건 명사들. 명사만 뽑고\n",
    "    # len(word) != 1 --> 길이가 1인 것들은 I, a 이런거. 불필요.\n",
    "    # 이 조건들을 만족하는 단어(word)를 tags에 있는 (word, tag) 쌍에서 가져온다.\n",
    "    # 그런데 이렇게하면 history / History || science / sciences 이런건?\n",
    "    # wordList = [word for word, tag in tags if ('NN' in tag) & (len(word) != 1)]\n",
    "    wordList = [word for word, tag in word_with_tag if ('NN' in tag) & (len(word) != 1)]\n",
    "\n",
    "words[:10], word_with_tag[:10], wordList[:10]"
   ]
  },
  {
   "cell_type": "code",
   "execution_count": 47,
   "metadata": {
    "ExecuteTime": {
     "end_time": "2021-08-25T08:34:23.194695Z",
     "start_time": "2021-08-25T08:34:23.188685Z"
    }
   },
   "outputs": [
    {
     "data": {
      "text/plain": [
       "(51, 30)"
      ]
     },
     "execution_count": 47,
     "metadata": {},
     "output_type": "execute_result"
    }
   ],
   "source": [
    "len(df['Contents']), len(wordList)"
   ]
  },
  {
   "cell_type": "markdown",
   "metadata": {},
   "source": [
    "    이러니 프레임에 안들어가지.\n",
    "    일단 Contents별로 단어(명사)들은 쭉 뽑음."
   ]
  },
  {
   "cell_type": "code",
   "execution_count": 51,
   "metadata": {
    "ExecuteTime": {
     "end_time": "2021-08-25T08:42:30.681305Z",
     "start_time": "2021-08-25T08:42:30.676308Z"
    }
   },
   "outputs": [
    {
     "data": {
      "text/plain": [
       "{'history': 2,\n",
       " 'science': 1,\n",
       " 'dissertation': 1,\n",
       " 'perspective': 1,\n",
       " 'vietnam': 1,\n",
       " 'examination': 1,\n",
       " 'herbicides': 1,\n",
       " 'purposes': 1,\n",
       " 'jungles': 1,\n",
       " 'highlands': 1,\n",
       " 'issues': 1,\n",
       " 'causes': 1,\n",
       " 'time': 1,\n",
       " 'environmentalist': 1,\n",
       " 'concern': 1,\n",
       " 'pollution': 1,\n",
       " 'toxicity': 1,\n",
       " 'search': 1,\n",
       " 'visibility': 1,\n",
       " 'destruction': 2,\n",
       " 'communities': 1,\n",
       " 'ecosystems': 1,\n",
       " 'results': 1,\n",
       " 'account': 1,\n",
       " 'kennedy': 1,\n",
       " 'administration': 1,\n",
       " 'government': 1,\n",
       " 'program': 1,\n",
       " 'defoliation': 1,\n",
       " 'crop': 1,\n",
       " 'orange': 1,\n",
       " 'controversy': 1,\n",
       " 'states': 1}"
      ]
     },
     "execution_count": 51,
     "metadata": {},
     "output_type": "execute_result"
    }
   ],
   "source": [
    "# 각 단어가 몇번 나왔는지 Counting?\n",
    "wordDict = {}\n",
    "for word in wordList :\n",
    "    if word in wordDict.keys():\n",
    "        wordDict[word] += 1\n",
    "    else:\n",
    "        wordDict[word] = 1\n",
    "wordDict"
   ]
  },
  {
   "cell_type": "code",
   "execution_count": 53,
   "metadata": {
    "ExecuteTime": {
     "end_time": "2021-08-25T08:54:55.491222Z",
     "start_time": "2021-08-25T08:54:55.485224Z"
    }
   },
   "outputs": [
    {
     "data": {
      "text/plain": [
       "['history',\n",
       " 'destruction',\n",
       " 'science',\n",
       " 'dissertation',\n",
       " 'perspective',\n",
       " 'vietnam',\n",
       " 'examination',\n",
       " 'herbicides',\n",
       " 'purposes',\n",
       " 'jungles',\n",
       " 'highlands',\n",
       " 'issues',\n",
       " 'causes',\n",
       " 'time',\n",
       " 'environmentalist',\n",
       " 'concern',\n",
       " 'pollution',\n",
       " 'toxicity',\n",
       " 'search',\n",
       " 'visibility',\n",
       " 'communities',\n",
       " 'ecosystems',\n",
       " 'results',\n",
       " 'account',\n",
       " 'kennedy',\n",
       " 'administration',\n",
       " 'government',\n",
       " 'program',\n",
       " 'defoliation',\n",
       " 'crop',\n",
       " 'orange',\n",
       " 'controversy',\n",
       " 'states']"
      ]
     },
     "execution_count": 53,
     "metadata": {},
     "output_type": "execute_result"
    }
   ],
   "source": [
    "stop = [x[0] for x in sorted(wordDict.items(), key = (lambda x : x[1]), reverse = True)[:200]]\n",
    "stop"
   ]
  },
  {
   "cell_type": "code",
   "execution_count": 59,
   "metadata": {
    "ExecuteTime": {
     "end_time": "2021-08-25T08:59:14.050539Z",
     "start_time": "2021-08-25T08:59:14.033549Z"
    }
   },
   "outputs": [],
   "source": [
    "# 문서 1개에 대해 Counting까지 됐고, Gephi에서 받을 수 있는 형태로 두자.\n",
    "n_result = []\n",
    "for results in wordList:\n",
    "    n_result.append(results)\n",
    " \n",
    "pd.DataFrame(n_result).to_csv(url + 'first.csv', index=False, header=False)"
   ]
  },
  {
   "cell_type": "markdown",
   "metadata": {},
   "source": [
    "    이거로 되나?\n",
    "    \n",
    "    될리가없지 ㅋㅋ;;\n",
    "    \n",
    "    영어 문장들만 해서 새로운 파일로 해보자."
   ]
  }
 ],
 "metadata": {
  "kernelspec": {
   "display_name": "Python 3",
   "language": "python",
   "name": "python3"
  },
  "language_info": {
   "codemirror_mode": {
    "name": "ipython",
    "version": 3
   },
   "file_extension": ".py",
   "mimetype": "text/x-python",
   "name": "python",
   "nbconvert_exporter": "python",
   "pygments_lexer": "ipython3",
   "version": "3.7.1"
  },
  "toc": {
   "base_numbering": 1,
   "nav_menu": {},
   "number_sections": true,
   "sideBar": true,
   "skip_h1_title": false,
   "title_cell": "Table of Contents",
   "title_sidebar": "Contents",
   "toc_cell": false,
   "toc_position": {},
   "toc_section_display": true,
   "toc_window_display": false
  },
  "varInspector": {
   "cols": {
    "lenName": 16,
    "lenType": 16,
    "lenVar": 40
   },
   "kernels_config": {
    "python": {
     "delete_cmd_postfix": "",
     "delete_cmd_prefix": "del ",
     "library": "var_list.py",
     "varRefreshCmd": "print(var_dic_list())"
    },
    "r": {
     "delete_cmd_postfix": ") ",
     "delete_cmd_prefix": "rm(",
     "library": "var_list.r",
     "varRefreshCmd": "cat(var_dic_list()) "
    }
   },
   "types_to_exclude": [
    "module",
    "function",
    "builtin_function_or_method",
    "instance",
    "_Feature"
   ],
   "window_display": false
  }
 },
 "nbformat": 4,
 "nbformat_minor": 2
}

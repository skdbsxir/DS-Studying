{
 "cells": [
  {
   "cell_type": "code",
   "execution_count": 2,
   "metadata": {
    "ExecuteTime": {
     "end_time": "2021-09-01T05:46:32.353028Z",
     "start_time": "2021-09-01T05:46:31.873597Z"
    }
   },
   "outputs": [],
   "source": [
    "import pandas as pd\n",
    "import numpy as np\n",
    "import os\n",
    "import warnings\n",
    "import matplotlib.pyplot as plt\n",
    "from konlpy.tag import Okt\n",
    "\n",
    "warnings.filterwarnings(action='ignore')\n",
    "plt.style.use('ggplot')"
   ]
  },
  {
   "cell_type": "code",
   "execution_count": 11,
   "metadata": {
    "ExecuteTime": {
     "end_time": "2021-09-01T05:50:15.507549Z",
     "start_time": "2021-09-01T05:50:15.492541Z"
    }
   },
   "outputs": [
    {
     "data": {
      "text/plain": [
       "['네이버블로그_(단호박_다이어트).xlsx',\n",
       " '네이버쇼핑_(단호박_다이어트식품).xlsx',\n",
       " '네이버쇼핑_(단호박_샐러드).xlsx',\n",
       " '네이버쇼핑_(단호박칩_반려동물).xlsx',\n",
       " '스마트스토어_(구운_단호박).xlsx',\n",
       " '스마트스토어_(다이어트_스낵).xlsx',\n",
       " '스마트스토어_(호박_스낵).xlsx']"
      ]
     },
     "execution_count": 11,
     "metadata": {},
     "output_type": "execute_result"
    }
   ],
   "source": [
    "os.listdir('UseData/Voucher')"
   ]
  },
  {
   "cell_type": "code",
   "execution_count": 13,
   "metadata": {
    "ExecuteTime": {
     "end_time": "2021-09-01T05:53:26.786821Z",
     "start_time": "2021-09-01T05:53:26.781809Z"
    }
   },
   "outputs": [
    {
     "data": {
      "text/plain": [
       "['네이버블로그_(단호박_다이어트).xlsx',\n",
       " '네이버쇼핑_(단호박_다이어트식품).xlsx',\n",
       " '네이버쇼핑_(단호박_샐러드).xlsx',\n",
       " '네이버쇼핑_(단호박칩_반려동물).xlsx',\n",
       " '스마트스토어_(구운_단호박).xlsx',\n",
       " '스마트스토어_(다이어트_스낵).xlsx',\n",
       " '스마트스토어_(호박_스낵).xlsx']"
      ]
     },
     "execution_count": 13,
     "metadata": {},
     "output_type": "execute_result"
    }
   ],
   "source": [
    "url = 'UseData/Voucher'\n",
    "filenames = os.listdir(url)\n",
    "filenames"
   ]
  },
  {
   "cell_type": "code",
   "execution_count": 47,
   "metadata": {
    "ExecuteTime": {
     "end_time": "2021-09-01T06:16:29.955391Z",
     "start_time": "2021-09-01T06:16:29.753487Z"
    }
   },
   "outputs": [
    {
     "data": {
      "text/html": [
       "<div>\n",
       "<style scoped>\n",
       "    .dataframe tbody tr th:only-of-type {\n",
       "        vertical-align: middle;\n",
       "    }\n",
       "\n",
       "    .dataframe tbody tr th {\n",
       "        vertical-align: top;\n",
       "    }\n",
       "\n",
       "    .dataframe thead th {\n",
       "        text-align: right;\n",
       "    }\n",
       "</style>\n",
       "<table border=\"1\" class=\"dataframe\">\n",
       "  <thead>\n",
       "    <tr style=\"text-align: right;\">\n",
       "      <th></th>\n",
       "      <th>카페명</th>\n",
       "      <th>제목</th>\n",
       "      <th>별점</th>\n",
       "      <th>Contents</th>\n",
       "    </tr>\n",
       "  </thead>\n",
       "  <tbody>\n",
       "    <tr>\n",
       "      <th>0</th>\n",
       "      <td>한성기업직영몰</td>\n",
       "      <td>한성기업 한성마트 곤약죽 단호박 130g 7개입</td>\n",
       "      <td>5</td>\n",
       "      <td>▶ 단호박 다이어트식품_x000D_\\n_x000D_\\n칼로리도 낮고 맛있어요 간식으...</td>\n",
       "    </tr>\n",
       "    <tr>\n",
       "      <th>1</th>\n",
       "      <td>11번가</td>\n",
       "      <td>한성기업 한성마트 곤약죽 단호박 130g 7개입</td>\n",
       "      <td>5</td>\n",
       "      <td>▶ 단호박 다이어트식품_x000D_\\n_x000D_\\n 단호박죽 너무 맛있어요  실...</td>\n",
       "    </tr>\n",
       "    <tr>\n",
       "      <th>2</th>\n",
       "      <td>11번가</td>\n",
       "      <td>한성기업 한성마트 곤약죽 단호박 130g 7개입</td>\n",
       "      <td>5</td>\n",
       "      <td>▶ 단호박 다이어트식품_x000D_\\n_x000D_\\n칼로리도 낮고 단호박도 달고 ...</td>\n",
       "    </tr>\n",
       "    <tr>\n",
       "      <th>3</th>\n",
       "      <td>11번가</td>\n",
       "      <td>한성기업 한성마트 곤약죽 단호박 130g 7개입</td>\n",
       "      <td>5</td>\n",
       "      <td>▶ 단호박 다이어트식품_x000D_\\n_x000D_\\n단호박 달고 맛있어요 칼로리도...</td>\n",
       "    </tr>\n",
       "    <tr>\n",
       "      <th>4</th>\n",
       "      <td>G마켓</td>\n",
       "      <td>셀렉스 슬림 25 무지방 단백질쉐이크 체중조절 단호박</td>\n",
       "      <td>5</td>\n",
       "      <td>▶ 단호박 다이어트식품_x000D_\\n_x000D_\\n 맛도먹을만하구 재구매의사있습니다</td>\n",
       "    </tr>\n",
       "  </tbody>\n",
       "</table>\n",
       "</div>"
      ],
      "text/plain": [
       "       카페명                             제목  별점  \\\n",
       "0  한성기업직영몰     한성기업 한성마트 곤약죽 단호박 130g 7개입   5   \n",
       "1     11번가     한성기업 한성마트 곤약죽 단호박 130g 7개입   5   \n",
       "2     11번가     한성기업 한성마트 곤약죽 단호박 130g 7개입   5   \n",
       "3     11번가     한성기업 한성마트 곤약죽 단호박 130g 7개입   5   \n",
       "4      G마켓  셀렉스 슬림 25 무지방 단백질쉐이크 체중조절 단호박   5   \n",
       "\n",
       "                                            Contents  \n",
       "0  ▶ 단호박 다이어트식품_x000D_\\n_x000D_\\n칼로리도 낮고 맛있어요 간식으...  \n",
       "1  ▶ 단호박 다이어트식품_x000D_\\n_x000D_\\n 단호박죽 너무 맛있어요  실...  \n",
       "2  ▶ 단호박 다이어트식품_x000D_\\n_x000D_\\n칼로리도 낮고 단호박도 달고 ...  \n",
       "3  ▶ 단호박 다이어트식품_x000D_\\n_x000D_\\n단호박 달고 맛있어요 칼로리도...  \n",
       "4  ▶ 단호박 다이어트식품_x000D_\\n_x000D_\\n 맛도먹을만하구 재구매의사있습니다   "
      ]
     },
     "execution_count": 47,
     "metadata": {},
     "output_type": "execute_result"
    }
   ],
   "source": [
    "colList = ['카페명', '제목', '별점', 'Contents']\n",
    "df = pd.read_excel(url + '/' + filenames[1], sheet_name='Sheet1', usecols = colList)\n",
    "df.head()"
   ]
  },
  {
   "cell_type": "markdown",
   "metadata": {},
   "source": [
    "    Contents에서 \\n을 기준으로 split?"
   ]
  },
  {
   "cell_type": "code",
   "execution_count": 48,
   "metadata": {
    "ExecuteTime": {
     "end_time": "2021-09-01T06:16:32.579602Z",
     "start_time": "2021-09-01T06:16:32.565623Z"
    }
   },
   "outputs": [
    {
     "data": {
      "text/plain": [
       "0                    [▶ 단호박 다이어트식품, 칼로리도 낮고 맛있어요 간식으로 최고]\n",
       "1       [▶ 단호박 다이어트식품,  단호박죽 너무 맛있어요  실온보관이라 편리하고 들고다니...\n",
       "2       [▶ 단호박 다이어트식품, 칼로리도 낮고 단호박도 달고 맛있네요!! 간편포장이라서 ...\n",
       "3       [▶ 단호박 다이어트식품, 단호박 달고 맛있어요 칼로리도 낮아서 부담없이 참 좋습니...\n",
       "4                     [▶ 단호박 다이어트식품,  맛도먹을만하구 재구매의사있습니다 ]\n",
       "                              ...                        \n",
       "1429    [▶ 단호박 다이어트식품, 다이어트하는데 간식으로먹으려고샀어요! 제입맛에는 카카오보...\n",
       "1430               [▶ 단호박 다이어트식품,  맛있어용   아침 식사 대용으로 굿굿 ]\n",
       "1431                [▶ 단호박 다이어트식품,  적당히 달고 맛있어요 ! 더 사려구요]\n",
       "1432                        [▶ 단호박 다이어트식품, 계속 재구매해서 먹어요.]\n",
       "1433                     [▶ 단호박 다이어트식품, 계속 재구매해서 먹고 있ㅇㅓ요]\n",
       "Name: Contents_new, Length: 1434, dtype: object"
      ]
     },
     "execution_count": 48,
     "metadata": {},
     "output_type": "execute_result"
    }
   ],
   "source": [
    "df['Contents_new'] = df['Contents'].apply(lambda x: x.split('_x000D_\\n_x000D_\\n'))\n",
    "df['Contents_new']"
   ]
  },
  {
   "cell_type": "code",
   "execution_count": 49,
   "metadata": {
    "ExecuteTime": {
     "end_time": "2021-09-01T06:16:34.792598Z",
     "start_time": "2021-09-01T06:16:34.768612Z"
    }
   },
   "outputs": [
    {
     "data": {
      "text/html": [
       "<div>\n",
       "<style scoped>\n",
       "    .dataframe tbody tr th:only-of-type {\n",
       "        vertical-align: middle;\n",
       "    }\n",
       "\n",
       "    .dataframe tbody tr th {\n",
       "        vertical-align: top;\n",
       "    }\n",
       "\n",
       "    .dataframe thead th {\n",
       "        text-align: right;\n",
       "    }\n",
       "</style>\n",
       "<table border=\"1\" class=\"dataframe\">\n",
       "  <thead>\n",
       "    <tr style=\"text-align: right;\">\n",
       "      <th></th>\n",
       "      <th>카페명</th>\n",
       "      <th>제목</th>\n",
       "      <th>별점</th>\n",
       "      <th>Contents</th>\n",
       "      <th>Contents_new</th>\n",
       "    </tr>\n",
       "  </thead>\n",
       "  <tbody>\n",
       "    <tr>\n",
       "      <th>0</th>\n",
       "      <td>한성기업직영몰</td>\n",
       "      <td>한성기업 한성마트 곤약죽 단호박 130g 7개입</td>\n",
       "      <td>5</td>\n",
       "      <td>▶ 단호박 다이어트식품_x000D_\\n_x000D_\\n칼로리도 낮고 맛있어요 간식으...</td>\n",
       "      <td>[▶ 단호박 다이어트식품, 칼로리도 낮고 맛있어요 간식으로 최고]</td>\n",
       "    </tr>\n",
       "    <tr>\n",
       "      <th>1</th>\n",
       "      <td>11번가</td>\n",
       "      <td>한성기업 한성마트 곤약죽 단호박 130g 7개입</td>\n",
       "      <td>5</td>\n",
       "      <td>▶ 단호박 다이어트식품_x000D_\\n_x000D_\\n 단호박죽 너무 맛있어요  실...</td>\n",
       "      <td>[▶ 단호박 다이어트식품,  단호박죽 너무 맛있어요  실온보관이라 편리하고 들고다니...</td>\n",
       "    </tr>\n",
       "    <tr>\n",
       "      <th>2</th>\n",
       "      <td>11번가</td>\n",
       "      <td>한성기업 한성마트 곤약죽 단호박 130g 7개입</td>\n",
       "      <td>5</td>\n",
       "      <td>▶ 단호박 다이어트식품_x000D_\\n_x000D_\\n칼로리도 낮고 단호박도 달고 ...</td>\n",
       "      <td>[▶ 단호박 다이어트식품, 칼로리도 낮고 단호박도 달고 맛있네요!! 간편포장이라서 ...</td>\n",
       "    </tr>\n",
       "    <tr>\n",
       "      <th>3</th>\n",
       "      <td>11번가</td>\n",
       "      <td>한성기업 한성마트 곤약죽 단호박 130g 7개입</td>\n",
       "      <td>5</td>\n",
       "      <td>▶ 단호박 다이어트식품_x000D_\\n_x000D_\\n단호박 달고 맛있어요 칼로리도...</td>\n",
       "      <td>[▶ 단호박 다이어트식품, 단호박 달고 맛있어요 칼로리도 낮아서 부담없이 참 좋습니...</td>\n",
       "    </tr>\n",
       "    <tr>\n",
       "      <th>4</th>\n",
       "      <td>G마켓</td>\n",
       "      <td>셀렉스 슬림 25 무지방 단백질쉐이크 체중조절 단호박</td>\n",
       "      <td>5</td>\n",
       "      <td>▶ 단호박 다이어트식품_x000D_\\n_x000D_\\n 맛도먹을만하구 재구매의사있습니다</td>\n",
       "      <td>[▶ 단호박 다이어트식품,  맛도먹을만하구 재구매의사있습니다 ]</td>\n",
       "    </tr>\n",
       "  </tbody>\n",
       "</table>\n",
       "</div>"
      ],
      "text/plain": [
       "       카페명                             제목  별점  \\\n",
       "0  한성기업직영몰     한성기업 한성마트 곤약죽 단호박 130g 7개입   5   \n",
       "1     11번가     한성기업 한성마트 곤약죽 단호박 130g 7개입   5   \n",
       "2     11번가     한성기업 한성마트 곤약죽 단호박 130g 7개입   5   \n",
       "3     11번가     한성기업 한성마트 곤약죽 단호박 130g 7개입   5   \n",
       "4      G마켓  셀렉스 슬림 25 무지방 단백질쉐이크 체중조절 단호박   5   \n",
       "\n",
       "                                            Contents  \\\n",
       "0  ▶ 단호박 다이어트식품_x000D_\\n_x000D_\\n칼로리도 낮고 맛있어요 간식으...   \n",
       "1  ▶ 단호박 다이어트식품_x000D_\\n_x000D_\\n 단호박죽 너무 맛있어요  실...   \n",
       "2  ▶ 단호박 다이어트식품_x000D_\\n_x000D_\\n칼로리도 낮고 단호박도 달고 ...   \n",
       "3  ▶ 단호박 다이어트식품_x000D_\\n_x000D_\\n단호박 달고 맛있어요 칼로리도...   \n",
       "4  ▶ 단호박 다이어트식품_x000D_\\n_x000D_\\n 맛도먹을만하구 재구매의사있습니다    \n",
       "\n",
       "                                        Contents_new  \n",
       "0               [▶ 단호박 다이어트식품, 칼로리도 낮고 맛있어요 간식으로 최고]  \n",
       "1  [▶ 단호박 다이어트식품,  단호박죽 너무 맛있어요  실온보관이라 편리하고 들고다니...  \n",
       "2  [▶ 단호박 다이어트식품, 칼로리도 낮고 단호박도 달고 맛있네요!! 간편포장이라서 ...  \n",
       "3  [▶ 단호박 다이어트식품, 단호박 달고 맛있어요 칼로리도 낮아서 부담없이 참 좋습니...  \n",
       "4                [▶ 단호박 다이어트식품,  맛도먹을만하구 재구매의사있습니다 ]  "
      ]
     },
     "execution_count": 49,
     "metadata": {},
     "output_type": "execute_result"
    }
   ],
   "source": [
    "df.head()"
   ]
  },
  {
   "cell_type": "code",
   "execution_count": 50,
   "metadata": {
    "ExecuteTime": {
     "end_time": "2021-09-01T06:16:35.837614Z",
     "start_time": "2021-09-01T06:16:35.814626Z"
    }
   },
   "outputs": [
    {
     "data": {
      "text/plain": [
       "0                         단호박 다이어트식품 칼로리도 낮고 맛있어요 간식으로 최고\n",
       "1        단호박 다이어트식품  단호박죽 너무 맛있어요  실온보관이라 편리하고 들고다니기도 ...\n",
       "2         단호박 다이어트식품 칼로리도 낮고 단호박도 달고 맛있네요!! 간편포장이라서 편리합니다\n",
       "3        단호박 다이어트식품 단호박 달고 맛있어요 칼로리도 낮아서 부담없이 참 좋습니다~~...\n",
       "4                          단호박 다이어트식품  맛도먹을만하구 재구매의사있습니다 \n",
       "                              ...                        \n",
       "1429     단호박 다이어트식품 다이어트하는데 간식으로먹으려고샀어요! 제입맛에는 카카오보단 검...\n",
       "1430                    단호박 다이어트식품  맛있어용   아침 식사 대용으로 굿굿 \n",
       "1431                     단호박 다이어트식품  적당히 달고 맛있어요 ! 더 사려구요\n",
       "1432                             단호박 다이어트식품 계속 재구매해서 먹어요.\n",
       "1433                          단호박 다이어트식품 계속 재구매해서 먹고 있ㅇㅓ요\n",
       "Name: Contents_new, Length: 1434, dtype: object"
      ]
     },
     "execution_count": 50,
     "metadata": {},
     "output_type": "execute_result"
    }
   ],
   "source": [
    "import re\n",
    "# df['Contents_new'] = df['Contents_new'].apply(lambda x: x.split('▶ 단호박 다이어트식품, '))\n",
    "df['Contents_new'] = df['Contents_new'].apply(lambda x: ' '.join(x))\n",
    "# df['Contents_new'] = df['Contents_new'].apply(lambda x: x.replace('[▶ 단호박 다이어트식품]+', ''))\n",
    "df['Contents_new'] = df['Contents_new'].apply(lambda x: re.sub('[▶+]', '', x))\n",
    "df['Contents_new']"
   ]
  },
  {
   "cell_type": "markdown",
   "metadata": {},
   "source": [
    "    단호박 다이어트식품 <- 이부분을 어떻게 지울까"
   ]
  },
  {
   "cell_type": "code",
   "execution_count": 51,
   "metadata": {
    "ExecuteTime": {
     "end_time": "2021-09-01T06:16:38.742004Z",
     "start_time": "2021-09-01T06:16:38.720037Z"
    }
   },
   "outputs": [
    {
     "data": {
      "text/plain": [
       "0                                    칼로리도 낮고 맛있어요 간식으로 최고\n",
       "1              단호박죽 너무 맛있어요  실온보관이라 편리하고 들고다니기도 좋네요 추천합니다\n",
       "2                    칼로리도 낮고 단호박도 달고 맛있네요!! 간편포장이라서 편리합니다\n",
       "3         단호박 달고 맛있어요 칼로리도 낮아서 부담없이 참 좋습니다~~ 차게 먹으니 더 ...\n",
       "4                                      맛도먹을만하구 재구매의사있습니다 \n",
       "                              ...                        \n",
       "1429      다이어트하는데 간식으로먹으려고샀어요! 제입맛에는 카카오보단 검은콩  단백질함량도...\n",
       "1430                                맛있어용   아침 식사 대용으로 굿굿 \n",
       "1431                                 적당히 달고 맛있어요 ! 더 사려구요\n",
       "1432                                        계속 재구매해서 먹어요.\n",
       "1433                                     계속 재구매해서 먹고 있ㅇㅓ요\n",
       "Name: Contents_new, Length: 1434, dtype: object"
      ]
     },
     "execution_count": 51,
     "metadata": {},
     "output_type": "execute_result"
    }
   ],
   "source": [
    "df['Contents_new'] = df['Contents_new'].apply(lambda x: re.sub('(단호박 다이어트식품)', '', x))\n",
    "df['Contents_new']"
   ]
  },
  {
   "cell_type": "markdown",
   "metadata": {},
   "source": [
    "    으아 됐다"
   ]
  },
  {
   "cell_type": "code",
   "execution_count": 52,
   "metadata": {
    "ExecuteTime": {
     "end_time": "2021-09-01T06:17:09.014707Z",
     "start_time": "2021-09-01T06:17:09.000699Z"
    }
   },
   "outputs": [
    {
     "data": {
      "text/html": [
       "<div>\n",
       "<style scoped>\n",
       "    .dataframe tbody tr th:only-of-type {\n",
       "        vertical-align: middle;\n",
       "    }\n",
       "\n",
       "    .dataframe tbody tr th {\n",
       "        vertical-align: top;\n",
       "    }\n",
       "\n",
       "    .dataframe thead th {\n",
       "        text-align: right;\n",
       "    }\n",
       "</style>\n",
       "<table border=\"1\" class=\"dataframe\">\n",
       "  <thead>\n",
       "    <tr style=\"text-align: right;\">\n",
       "      <th></th>\n",
       "      <th>카페명</th>\n",
       "      <th>제목</th>\n",
       "      <th>별점</th>\n",
       "      <th>Contents</th>\n",
       "      <th>Contents_new</th>\n",
       "    </tr>\n",
       "  </thead>\n",
       "  <tbody>\n",
       "    <tr>\n",
       "      <th>0</th>\n",
       "      <td>한성기업직영몰</td>\n",
       "      <td>한성기업 한성마트 곤약죽 단호박 130g 7개입</td>\n",
       "      <td>5</td>\n",
       "      <td>▶ 단호박 다이어트식품_x000D_\\n_x000D_\\n칼로리도 낮고 맛있어요 간식으...</td>\n",
       "      <td>칼로리도 낮고 맛있어요 간식으로 최고</td>\n",
       "    </tr>\n",
       "    <tr>\n",
       "      <th>1</th>\n",
       "      <td>11번가</td>\n",
       "      <td>한성기업 한성마트 곤약죽 단호박 130g 7개입</td>\n",
       "      <td>5</td>\n",
       "      <td>▶ 단호박 다이어트식품_x000D_\\n_x000D_\\n 단호박죽 너무 맛있어요  실...</td>\n",
       "      <td>단호박죽 너무 맛있어요  실온보관이라 편리하고 들고다니기도 좋네요 추천합니다</td>\n",
       "    </tr>\n",
       "    <tr>\n",
       "      <th>2</th>\n",
       "      <td>11번가</td>\n",
       "      <td>한성기업 한성마트 곤약죽 단호박 130g 7개입</td>\n",
       "      <td>5</td>\n",
       "      <td>▶ 단호박 다이어트식품_x000D_\\n_x000D_\\n칼로리도 낮고 단호박도 달고 ...</td>\n",
       "      <td>칼로리도 낮고 단호박도 달고 맛있네요!! 간편포장이라서 편리합니다</td>\n",
       "    </tr>\n",
       "    <tr>\n",
       "      <th>3</th>\n",
       "      <td>11번가</td>\n",
       "      <td>한성기업 한성마트 곤약죽 단호박 130g 7개입</td>\n",
       "      <td>5</td>\n",
       "      <td>▶ 단호박 다이어트식품_x000D_\\n_x000D_\\n단호박 달고 맛있어요 칼로리도...</td>\n",
       "      <td>단호박 달고 맛있어요 칼로리도 낮아서 부담없이 참 좋습니다~~ 차게 먹으니 더 ...</td>\n",
       "    </tr>\n",
       "    <tr>\n",
       "      <th>4</th>\n",
       "      <td>G마켓</td>\n",
       "      <td>셀렉스 슬림 25 무지방 단백질쉐이크 체중조절 단호박</td>\n",
       "      <td>5</td>\n",
       "      <td>▶ 단호박 다이어트식품_x000D_\\n_x000D_\\n 맛도먹을만하구 재구매의사있습니다</td>\n",
       "      <td>맛도먹을만하구 재구매의사있습니다</td>\n",
       "    </tr>\n",
       "    <tr>\n",
       "      <th>...</th>\n",
       "      <td>...</td>\n",
       "      <td>...</td>\n",
       "      <td>...</td>\n",
       "      <td>...</td>\n",
       "      <td>...</td>\n",
       "    </tr>\n",
       "    <tr>\n",
       "      <th>1429</th>\n",
       "      <td>온24</td>\n",
       "      <td>마켓오 그래놀라 시리얼 단호박 고구마 에너지바 35g</td>\n",
       "      <td>5</td>\n",
       "      <td>▶ 단호박 다이어트식품_x000D_\\n_x000D_\\n다이어트하는데 간식으로먹으려고...</td>\n",
       "      <td>다이어트하는데 간식으로먹으려고샀어요! 제입맛에는 카카오보단 검은콩  단백질함량도...</td>\n",
       "    </tr>\n",
       "    <tr>\n",
       "      <th>1430</th>\n",
       "      <td>온24</td>\n",
       "      <td>마켓오 그래놀라 시리얼 단호박 고구마 에너지바 35g</td>\n",
       "      <td>5</td>\n",
       "      <td>▶ 단호박 다이어트식품_x000D_\\n_x000D_\\n 맛있어용   아침 식사 대용...</td>\n",
       "      <td>맛있어용   아침 식사 대용으로 굿굿</td>\n",
       "    </tr>\n",
       "    <tr>\n",
       "      <th>1431</th>\n",
       "      <td>온24</td>\n",
       "      <td>마켓오 그래놀라 시리얼 단호박 고구마 에너지바 35g</td>\n",
       "      <td>5</td>\n",
       "      <td>▶ 단호박 다이어트식품_x000D_\\n_x000D_\\n 적당히 달고 맛있어요 ! 더...</td>\n",
       "      <td>적당히 달고 맛있어요 ! 더 사려구요</td>\n",
       "    </tr>\n",
       "    <tr>\n",
       "      <th>1432</th>\n",
       "      <td>온24</td>\n",
       "      <td>마켓오 그래놀라 시리얼 단호박 고구마 에너지바 35g</td>\n",
       "      <td>5</td>\n",
       "      <td>▶ 단호박 다이어트식품_x000D_\\n_x000D_\\n계속 재구매해서 먹어요.</td>\n",
       "      <td>계속 재구매해서 먹어요.</td>\n",
       "    </tr>\n",
       "    <tr>\n",
       "      <th>1433</th>\n",
       "      <td>온24</td>\n",
       "      <td>마켓오 그래놀라 시리얼 단호박 고구마 에너지바 35g</td>\n",
       "      <td>5</td>\n",
       "      <td>▶ 단호박 다이어트식품_x000D_\\n_x000D_\\n계속 재구매해서 먹고 있ㅇㅓ요</td>\n",
       "      <td>계속 재구매해서 먹고 있ㅇㅓ요</td>\n",
       "    </tr>\n",
       "  </tbody>\n",
       "</table>\n",
       "<p>1434 rows × 5 columns</p>\n",
       "</div>"
      ],
      "text/plain": [
       "          카페명                             제목  별점  \\\n",
       "0     한성기업직영몰     한성기업 한성마트 곤약죽 단호박 130g 7개입   5   \n",
       "1        11번가     한성기업 한성마트 곤약죽 단호박 130g 7개입   5   \n",
       "2        11번가     한성기업 한성마트 곤약죽 단호박 130g 7개입   5   \n",
       "3        11번가     한성기업 한성마트 곤약죽 단호박 130g 7개입   5   \n",
       "4         G마켓  셀렉스 슬림 25 무지방 단백질쉐이크 체중조절 단호박   5   \n",
       "...       ...                            ...  ..   \n",
       "1429      온24  마켓오 그래놀라 시리얼 단호박 고구마 에너지바 35g   5   \n",
       "1430      온24  마켓오 그래놀라 시리얼 단호박 고구마 에너지바 35g   5   \n",
       "1431      온24  마켓오 그래놀라 시리얼 단호박 고구마 에너지바 35g   5   \n",
       "1432      온24  마켓오 그래놀라 시리얼 단호박 고구마 에너지바 35g   5   \n",
       "1433      온24  마켓오 그래놀라 시리얼 단호박 고구마 에너지바 35g   5   \n",
       "\n",
       "                                               Contents  \\\n",
       "0     ▶ 단호박 다이어트식품_x000D_\\n_x000D_\\n칼로리도 낮고 맛있어요 간식으...   \n",
       "1     ▶ 단호박 다이어트식품_x000D_\\n_x000D_\\n 단호박죽 너무 맛있어요  실...   \n",
       "2     ▶ 단호박 다이어트식품_x000D_\\n_x000D_\\n칼로리도 낮고 단호박도 달고 ...   \n",
       "3     ▶ 단호박 다이어트식품_x000D_\\n_x000D_\\n단호박 달고 맛있어요 칼로리도...   \n",
       "4     ▶ 단호박 다이어트식품_x000D_\\n_x000D_\\n 맛도먹을만하구 재구매의사있습니다    \n",
       "...                                                 ...   \n",
       "1429  ▶ 단호박 다이어트식품_x000D_\\n_x000D_\\n다이어트하는데 간식으로먹으려고...   \n",
       "1430  ▶ 단호박 다이어트식품_x000D_\\n_x000D_\\n 맛있어용   아침 식사 대용...   \n",
       "1431  ▶ 단호박 다이어트식품_x000D_\\n_x000D_\\n 적당히 달고 맛있어요 ! 더...   \n",
       "1432        ▶ 단호박 다이어트식품_x000D_\\n_x000D_\\n계속 재구매해서 먹어요.   \n",
       "1433     ▶ 단호박 다이어트식품_x000D_\\n_x000D_\\n계속 재구매해서 먹고 있ㅇㅓ요   \n",
       "\n",
       "                                           Contents_new  \n",
       "0                                  칼로리도 낮고 맛있어요 간식으로 최고  \n",
       "1            단호박죽 너무 맛있어요  실온보관이라 편리하고 들고다니기도 좋네요 추천합니다  \n",
       "2                  칼로리도 낮고 단호박도 달고 맛있네요!! 간편포장이라서 편리합니다  \n",
       "3       단호박 달고 맛있어요 칼로리도 낮아서 부담없이 참 좋습니다~~ 차게 먹으니 더 ...  \n",
       "4                                    맛도먹을만하구 재구매의사있습니다   \n",
       "...                                                 ...  \n",
       "1429    다이어트하는데 간식으로먹으려고샀어요! 제입맛에는 카카오보단 검은콩  단백질함량도...  \n",
       "1430                              맛있어용   아침 식사 대용으로 굿굿   \n",
       "1431                               적당히 달고 맛있어요 ! 더 사려구요  \n",
       "1432                                      계속 재구매해서 먹어요.  \n",
       "1433                                   계속 재구매해서 먹고 있ㅇㅓ요  \n",
       "\n",
       "[1434 rows x 5 columns]"
      ]
     },
     "execution_count": 52,
     "metadata": {},
     "output_type": "execute_result"
    }
   ],
   "source": [
    "df"
   ]
  },
  {
   "cell_type": "code",
   "execution_count": 56,
   "metadata": {
    "ExecuteTime": {
     "end_time": "2021-09-01T06:21:51.873800Z",
     "start_time": "2021-09-01T06:21:47.827826Z"
    }
   },
   "outputs": [
    {
     "data": {
      "text/plain": [
       "[('계속', 'Noun'),\n",
       " ('재다', 'Verb'),\n",
       " ('하다', 'Verb'),\n",
       " ('먹다', 'Verb'),\n",
       " ('있다', 'Adjective'),\n",
       " ('ㅇㅓ', 'KoreanParticle'),\n",
       " ('요', 'Noun')]"
      ]
     },
     "execution_count": 56,
     "metadata": {},
     "output_type": "execute_result"
    }
   ],
   "source": [
    "okt = Okt()\n",
    "# 스테밍? 을 해보자\n",
    "for sentence in df['Contents_new']:\n",
    "    temp_x = okt.pos(sentence, norm=True, stem=True) # 단어 유형별 분리 및 태깅\n",
    "temp_x"
   ]
  },
  {
   "cell_type": "code",
   "execution_count": null,
   "metadata": {},
   "outputs": [],
   "source": []
  }
 ],
 "metadata": {
  "kernelspec": {
   "display_name": "Python 3",
   "language": "python",
   "name": "python3"
  },
  "language_info": {
   "codemirror_mode": {
    "name": "ipython",
    "version": 3
   },
   "file_extension": ".py",
   "mimetype": "text/x-python",
   "name": "python",
   "nbconvert_exporter": "python",
   "pygments_lexer": "ipython3",
   "version": "3.7.1"
  },
  "toc": {
   "base_numbering": 1,
   "nav_menu": {},
   "number_sections": true,
   "sideBar": true,
   "skip_h1_title": false,
   "title_cell": "Table of Contents",
   "title_sidebar": "Contents",
   "toc_cell": false,
   "toc_position": {},
   "toc_section_display": true,
   "toc_window_display": false
  },
  "varInspector": {
   "cols": {
    "lenName": 16,
    "lenType": 16,
    "lenVar": 40
   },
   "kernels_config": {
    "python": {
     "delete_cmd_postfix": "",
     "delete_cmd_prefix": "del ",
     "library": "var_list.py",
     "varRefreshCmd": "print(var_dic_list())"
    },
    "r": {
     "delete_cmd_postfix": ") ",
     "delete_cmd_prefix": "rm(",
     "library": "var_list.r",
     "varRefreshCmd": "cat(var_dic_list()) "
    }
   },
   "types_to_exclude": [
    "module",
    "function",
    "builtin_function_or_method",
    "instance",
    "_Feature"
   ],
   "window_display": false
  }
 },
 "nbformat": 4,
 "nbformat_minor": 2
}

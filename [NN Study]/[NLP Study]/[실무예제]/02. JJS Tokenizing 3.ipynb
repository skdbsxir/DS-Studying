{
 "cells": [
  {
   "cell_type": "code",
   "execution_count": 23,
   "metadata": {
    "ExecuteTime": {
     "end_time": "2021-09-02T02:37:12.327594Z",
     "start_time": "2021-09-02T02:37:12.293566Z"
    }
   },
   "outputs": [],
   "source": [
    "import os, warnings \n",
    "import pandas as pd\n",
    "from konlpy.tag import Okt\n",
    "import matplotlib.pyplot as plt\n",
    "import matplotlib.font_manager as fm\n",
    "import matplotlib\n",
    "\n",
    "warnings.filterwarnings('ignore')\n",
    "plt.style.use('ggplot')\n",
    "\n",
    "font_location = 'C:/Windows/Fonts/HYCYSM.TTF'\n",
    "font_name = fm.FontProperties(fname = font_location).get_name()\n",
    "matplotlib.rc('font', family=font_name)"
   ]
  },
  {
   "cell_type": "markdown",
   "metadata": {},
   "source": [
    "    1. 긍/부정 수 Count 해보고\n",
    "    2. 파일별로 Count된거 그려보고\n",
    "    3. 그 뒤에 형태소 분석 나누고 (Okt.pos)\n",
    "    4. 긍/부정에 따른 언급량 많은 키워드만 뽑자."
   ]
  },
  {
   "cell_type": "markdown",
   "metadata": {},
   "source": [
    "    일단 파일 1개에 대해서만 진행해보고,\n",
    "    다 되면 함수짜서 일괄로 그래프 그려보자. 이게 나을듯?"
   ]
  },
  {
   "cell_type": "code",
   "execution_count": 3,
   "metadata": {
    "ExecuteTime": {
     "end_time": "2021-09-02T02:22:34.941604Z",
     "start_time": "2021-09-02T02:22:34.907624Z"
    }
   },
   "outputs": [
    {
     "data": {
      "text/html": [
       "<div>\n",
       "<style scoped>\n",
       "    .dataframe tbody tr th:only-of-type {\n",
       "        vertical-align: middle;\n",
       "    }\n",
       "\n",
       "    .dataframe tbody tr th {\n",
       "        vertical-align: top;\n",
       "    }\n",
       "\n",
       "    .dataframe thead th {\n",
       "        text-align: right;\n",
       "    }\n",
       "</style>\n",
       "<table border=\"1\" class=\"dataframe\">\n",
       "  <thead>\n",
       "    <tr style=\"text-align: right;\">\n",
       "      <th></th>\n",
       "      <th>별점</th>\n",
       "      <th>Contents</th>\n",
       "      <th>긍부정</th>\n",
       "    </tr>\n",
       "  </thead>\n",
       "  <tbody>\n",
       "    <tr>\n",
       "      <th>0</th>\n",
       "      <td>5</td>\n",
       "      <td>칼로리도 낮고 맛있어요 간식으로 최고</td>\n",
       "      <td>1</td>\n",
       "    </tr>\n",
       "    <tr>\n",
       "      <th>1</th>\n",
       "      <td>5</td>\n",
       "      <td>단호박죽 너무 맛있어요  실온보관이라 편리하고 들고다니기도 좋네요 추천합니다</td>\n",
       "      <td>1</td>\n",
       "    </tr>\n",
       "    <tr>\n",
       "      <th>2</th>\n",
       "      <td>5</td>\n",
       "      <td>칼로리도 낮고 단호박도 달고 맛있네요!! 간편포장이라서 편리합니다</td>\n",
       "      <td>1</td>\n",
       "    </tr>\n",
       "    <tr>\n",
       "      <th>3</th>\n",
       "      <td>5</td>\n",
       "      <td>단호박 달고 맛있어요 칼로리도 낮아서 부담없이 참 좋습니다~~ 차게 먹으니 더 ...</td>\n",
       "      <td>1</td>\n",
       "    </tr>\n",
       "    <tr>\n",
       "      <th>4</th>\n",
       "      <td>5</td>\n",
       "      <td>맛도먹을만하구 재구매의사있습니다</td>\n",
       "      <td>1</td>\n",
       "    </tr>\n",
       "    <tr>\n",
       "      <th>...</th>\n",
       "      <td>...</td>\n",
       "      <td>...</td>\n",
       "      <td>...</td>\n",
       "    </tr>\n",
       "    <tr>\n",
       "      <th>1429</th>\n",
       "      <td>5</td>\n",
       "      <td>다이어트하는데 간식으로먹으려고샀어요! 제입맛에는 카카오보단 검은콩  단백질함량도...</td>\n",
       "      <td>1</td>\n",
       "    </tr>\n",
       "    <tr>\n",
       "      <th>1430</th>\n",
       "      <td>5</td>\n",
       "      <td>맛있어용   아침 식사 대용으로 굿굿</td>\n",
       "      <td>1</td>\n",
       "    </tr>\n",
       "    <tr>\n",
       "      <th>1431</th>\n",
       "      <td>5</td>\n",
       "      <td>적당히 달고 맛있어요 ! 더 사려구요</td>\n",
       "      <td>1</td>\n",
       "    </tr>\n",
       "    <tr>\n",
       "      <th>1432</th>\n",
       "      <td>5</td>\n",
       "      <td>계속 재구매해서 먹어요.</td>\n",
       "      <td>1</td>\n",
       "    </tr>\n",
       "    <tr>\n",
       "      <th>1433</th>\n",
       "      <td>5</td>\n",
       "      <td>계속 재구매해서 먹고 있ㅇㅓ요</td>\n",
       "      <td>1</td>\n",
       "    </tr>\n",
       "  </tbody>\n",
       "</table>\n",
       "<p>1434 rows × 3 columns</p>\n",
       "</div>"
      ],
      "text/plain": [
       "      별점                                           Contents  긍부정\n",
       "0      5                               칼로리도 낮고 맛있어요 간식으로 최고    1\n",
       "1      5         단호박죽 너무 맛있어요  실온보관이라 편리하고 들고다니기도 좋네요 추천합니다    1\n",
       "2      5               칼로리도 낮고 단호박도 달고 맛있네요!! 간편포장이라서 편리합니다    1\n",
       "3      5    단호박 달고 맛있어요 칼로리도 낮아서 부담없이 참 좋습니다~~ 차게 먹으니 더 ...    1\n",
       "4      5                                 맛도먹을만하구 재구매의사있습니다     1\n",
       "...   ..                                                ...  ...\n",
       "1429   5    다이어트하는데 간식으로먹으려고샀어요! 제입맛에는 카카오보단 검은콩  단백질함량도...    1\n",
       "1430   5                              맛있어용   아침 식사 대용으로 굿굿     1\n",
       "1431   5                               적당히 달고 맛있어요 ! 더 사려구요    1\n",
       "1432   5                                      계속 재구매해서 먹어요.    1\n",
       "1433   5                                   계속 재구매해서 먹고 있ㅇㅓ요    1\n",
       "\n",
       "[1434 rows x 3 columns]"
      ]
     },
     "execution_count": 3,
     "metadata": {},
     "output_type": "execute_result"
    }
   ],
   "source": [
    "url = 'UseData/Voucher/Cleaned/'\n",
    "sampleFile = os.listdir(url)[0]\n",
    "df = pd.read_csv(url + sampleFile, index_col=0)\n",
    "df"
   ]
  },
  {
   "cell_type": "code",
   "execution_count": 5,
   "metadata": {
    "ExecuteTime": {
     "end_time": "2021-09-02T02:24:23.676474Z",
     "start_time": "2021-09-02T02:24:23.662494Z"
    }
   },
   "outputs": [
    {
     "data": {
      "text/plain": [
       "pandas.core.series.Series"
      ]
     },
     "execution_count": 5,
     "metadata": {},
     "output_type": "execute_result"
    }
   ],
   "source": [
    "type(df['긍부정'])"
   ]
  },
  {
   "cell_type": "code",
   "execution_count": 8,
   "metadata": {
    "ExecuteTime": {
     "end_time": "2021-09-02T02:28:27.195867Z",
     "start_time": "2021-09-02T02:28:10.653838Z"
    }
   },
   "outputs": [
    {
     "data": {
      "text/plain": [
       "<matplotlib.axes._subplots.AxesSubplot at 0x218c2936c88>"
      ]
     },
     "execution_count": 8,
     "metadata": {},
     "output_type": "execute_result"
    },
    {
     "data": {
      "image/png": "[encoded data removed]",
      "text/plain": [
       "<Figure size 432x288 with 1 Axes>"
      ]
     },
     "metadata": {
      "needs_background": "light"
     },
     "output_type": "display_data"
    }
   ],
   "source": [
    "df['긍부정'].plot.bar(x=df['긍부정'])"
   ]
  },
  {
   "cell_type": "code",
   "execution_count": 18,
   "metadata": {
    "ExecuteTime": {
     "end_time": "2021-09-02T02:33:49.885072Z",
     "start_time": "2021-09-02T02:33:49.864069Z"
    }
   },
   "outputs": [
    {
     "data": {
      "text/plain": [
       "(5    1236\n",
       " 4     150\n",
       " 3      39\n",
       " 2       8\n",
       " 1       1\n",
       " Name: 별점, dtype: int64, 1    1386\n",
       " 0      48\n",
       " Name: 긍부정, dtype: int64)"
      ]
     },
     "execution_count": 18,
     "metadata": {},
     "output_type": "execute_result"
    }
   ],
   "source": [
    "df['별점'].value_counts(), df['긍부정'].value_counts()"
   ]
  },
  {
   "cell_type": "code",
   "execution_count": 32,
   "metadata": {
    "ExecuteTime": {
     "end_time": "2021-09-02T02:45:29.712689Z",
     "start_time": "2021-09-02T02:45:29.521303Z"
    }
   },
   "outputs": [
    {
     "data": {
      "text/plain": [
       "Text(0.5, 1.0, '별점 별 빈도수')"
      ]
     },
     "execution_count": 32,
     "metadata": {},
     "output_type": "execute_result"
    },
    {
     "data": {
      "image/png": "[encoded data removed]",
      "text/plain": [
       "<Figure size 720x360 with 1 Axes>"
      ]
     },
     "metadata": {},
     "output_type": "display_data"
    }
   ],
   "source": [
    "plt.figure(figsize=(10, 5))\n",
    "df['별점'].value_counts().plot.bar()\n",
    "for index, data in enumerate(df['별점'].value_counts()):\n",
    "    plt.text(x=index, y=data, s=f'{data}', fontdict=dict(fontsize=15), ha='center')\n",
    "plt.title('별점 별 빈도수')"
   ]
  },
  {
   "cell_type": "code",
   "execution_count": 34,
   "metadata": {
    "ExecuteTime": {
     "end_time": "2021-09-02T02:46:35.997511Z",
     "start_time": "2021-09-02T02:46:35.811587Z"
    }
   },
   "outputs": [
    {
     "data": {
      "text/plain": [
       "Text(0.5, 0, '긍정:1, 부정:0')"
      ]
     },
     "execution_count": 34,
     "metadata": {},
     "output_type": "execute_result"
    },
    {
     "data": {
      "image/png": "[encoded data removed]",
      "text/plain": [
       "<Figure size 720x360 with 1 Axes>"
      ]
     },
     "metadata": {},
     "output_type": "display_data"
    }
   ],
   "source": [
    "plt.figure(figsize=(10, 5))\n",
    "df['긍부정'].value_counts().plot.bar()\n",
    "for index, data in enumerate(df['긍부정'].value_counts()):\n",
    "    plt.text(x=index, y=data, s=f'{data}', fontdict=dict(fontsize=15), ha='center')\n",
    "plt.title('긍부정 빈도수')\n",
    "plt.xlabel('긍정:1, 부정:0')"
   ]
  },
  {
   "cell_type": "code",
   "execution_count": 37,
   "metadata": {
    "ExecuteTime": {
     "end_time": "2021-09-02T02:48:30.617916Z",
     "start_time": "2021-09-02T02:48:30.530947Z"
    }
   },
   "outputs": [
    {
     "data": {
      "text/plain": [
       "<matplotlib.axes._subplots.AxesSubplot at 0x218c9260908>"
      ]
     },
     "execution_count": 37,
     "metadata": {},
     "output_type": "execute_result"
    },
    {
     "data": {
      "image/png": "[encoded data removed]",
      "text/plain": [
       "<Figure size 504x504 with 1 Axes>"
      ]
     },
     "metadata": {},
     "output_type": "display_data"
    }
   ],
   "source": [
    "explode = (0, 0)\n",
    "df['별점'].value_counts().plot.pie(figsize=(7,7))"
   ]
  },
  {
   "cell_type": "code",
   "execution_count": 38,
   "metadata": {
    "ExecuteTime": {
     "end_time": "2021-09-02T02:51:11.959942Z",
     "start_time": "2021-09-02T02:51:11.863996Z"
    }
   },
   "outputs": [
    {
     "data": {
      "text/plain": [
       "<matplotlib.axes._subplots.AxesSubplot at 0x218c9299ef0>"
      ]
     },
     "execution_count": 38,
     "metadata": {},
     "output_type": "execute_result"
    },
    {
     "data": {
      "image/png": "[encoded data removed]",
      "text/plain": [
       "<Figure size 504x504 with 1 Axes>"
      ]
     },
     "metadata": {},
     "output_type": "display_data"
    }
   ],
   "source": [
    "df['긍부정'].value_counts().plot.pie(figsize=(7,7))"
   ]
  },
  {
   "cell_type": "code",
   "execution_count": null,
   "metadata": {},
   "outputs": [],
   "source": []
  }
 ],
 "metadata": {
  "kernelspec": {
   "display_name": "Python 3",
   "language": "python",
   "name": "python3"
  },
  "language_info": {
   "codemirror_mode": {
    "name": "ipython",
    "version": 3
   },
   "file_extension": ".py",
   "mimetype": "text/x-python",
   "name": "python",
   "nbconvert_exporter": "python",
   "pygments_lexer": "ipython3",
   "version": "3.7.1"
  },
  "toc": {
   "base_numbering": 1,
   "nav_menu": {},
   "number_sections": true,
   "sideBar": true,
   "skip_h1_title": false,
   "title_cell": "Table of Contents",
   "title_sidebar": "Contents",
   "toc_cell": false,
   "toc_position": {},
   "toc_section_display": true,
   "toc_window_display": false
  },
  "varInspector": {
   "cols": {
    "lenName": 16,
    "lenType": 16,
    "lenVar": 40
   },
   "kernels_config": {
    "python": {
     "delete_cmd_postfix": "",
     "delete_cmd_prefix": "del ",
     "library": "var_list.py",
     "varRefreshCmd": "print(var_dic_list())"
    },
    "r": {
     "delete_cmd_postfix": ") ",
     "delete_cmd_prefix": "rm(",
     "library": "var_list.r",
     "varRefreshCmd": "cat(var_dic_list()) "
    }
   },
   "types_to_exclude": [
    "module",
    "function",
    "builtin_function_or_method",
    "instance",
    "_Feature"
   ],
   "window_display": false
  }
 },
 "nbformat": 4,
 "nbformat_minor": 2
}

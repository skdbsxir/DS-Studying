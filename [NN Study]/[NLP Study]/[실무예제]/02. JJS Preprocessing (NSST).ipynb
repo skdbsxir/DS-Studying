{
 "cells": [
  {
   "cell_type": "code",
   "execution_count": 1,
   "metadata": {
    "ExecuteTime": {
     "end_time": "2021-09-01T07:12:15.534041Z",
     "start_time": "2021-09-01T07:12:15.123532Z"
    }
   },
   "outputs": [],
   "source": [
    "import pandas as pd"
   ]
  },
  {
   "cell_type": "code",
   "execution_count": 42,
   "metadata": {
    "ExecuteTime": {
     "end_time": "2021-09-01T08:07:58.308084Z",
     "start_time": "2021-09-01T08:07:58.207142Z"
    }
   },
   "outputs": [
    {
     "data": {
      "text/html": [
       "<div>\n",
       "<style scoped>\n",
       "    .dataframe tbody tr th:only-of-type {\n",
       "        vertical-align: middle;\n",
       "    }\n",
       "\n",
       "    .dataframe tbody tr th {\n",
       "        vertical-align: top;\n",
       "    }\n",
       "\n",
       "    .dataframe thead th {\n",
       "        text-align: right;\n",
       "    }\n",
       "</style>\n",
       "<table border=\"1\" class=\"dataframe\">\n",
       "  <thead>\n",
       "    <tr style=\"text-align: right;\">\n",
       "      <th></th>\n",
       "      <th>제목</th>\n",
       "      <th>별점</th>\n",
       "      <th>Contents</th>\n",
       "    </tr>\n",
       "  </thead>\n",
       "  <tbody>\n",
       "    <tr>\n",
       "      <th>0</th>\n",
       "      <td>간편하게 먹는 국내산 무농약 구운 아이스 미니밤호박</td>\n",
       "      <td>5</td>\n",
       "      <td>▶ 간편하게 먹는 국내산 무농약 구운 아이스 미니밤호박_x000D_\\n_x000D_...</td>\n",
       "    </tr>\n",
       "    <tr>\n",
       "      <th>1</th>\n",
       "      <td>네이처엠 아이스 구운 단호박 100g X 10팩 / 밤호박</td>\n",
       "      <td>5</td>\n",
       "      <td>▶ 네이처엠 아이스 구운 단호박 100g X 10팩 / 밤호박_x000D_\\n_x0...</td>\n",
       "    </tr>\n",
       "    <tr>\n",
       "      <th>2</th>\n",
       "      <td>네이처엠 아이스 구운 단호박 100g X 10팩 / 밤호박</td>\n",
       "      <td>5</td>\n",
       "      <td>▶ 네이처엠 아이스 구운 단호박 100g X 10팩 / 밤호박_x000D_\\n_x0...</td>\n",
       "    </tr>\n",
       "    <tr>\n",
       "      <th>3</th>\n",
       "      <td>네이처엠 아이스 구운 단호박 100g X 10팩 / 밤호박</td>\n",
       "      <td>5</td>\n",
       "      <td>▶ 네이처엠 아이스 구운 단호박 100g X 10팩 / 밤호박_x000D_\\n_x0...</td>\n",
       "    </tr>\n",
       "    <tr>\n",
       "      <th>4</th>\n",
       "      <td>네이처엠 아이스 구운 단호박 100g X 10팩 / 밤호박</td>\n",
       "      <td>4</td>\n",
       "      <td>▶ 네이처엠 아이스 구운 단호박 100g X 10팩 / 밤호박_x000D_\\n_x0...</td>\n",
       "    </tr>\n",
       "  </tbody>\n",
       "</table>\n",
       "</div>"
      ],
      "text/plain": [
       "                                 제목  별점  \\\n",
       "0      간편하게 먹는 국내산 무농약 구운 아이스 미니밤호박   5   \n",
       "1  네이처엠 아이스 구운 단호박 100g X 10팩 / 밤호박   5   \n",
       "2  네이처엠 아이스 구운 단호박 100g X 10팩 / 밤호박   5   \n",
       "3  네이처엠 아이스 구운 단호박 100g X 10팩 / 밤호박   5   \n",
       "4  네이처엠 아이스 구운 단호박 100g X 10팩 / 밤호박   4   \n",
       "\n",
       "                                            Contents  \n",
       "0  ▶ 간편하게 먹는 국내산 무농약 구운 아이스 미니밤호박_x000D_\\n_x000D_...  \n",
       "1  ▶ 네이처엠 아이스 구운 단호박 100g X 10팩 / 밤호박_x000D_\\n_x0...  \n",
       "2  ▶ 네이처엠 아이스 구운 단호박 100g X 10팩 / 밤호박_x000D_\\n_x0...  \n",
       "3  ▶ 네이처엠 아이스 구운 단호박 100g X 10팩 / 밤호박_x000D_\\n_x0...  \n",
       "4  ▶ 네이처엠 아이스 구운 단호박 100g X 10팩 / 밤호박_x000D_\\n_x0...  "
      ]
     },
     "execution_count": 42,
     "metadata": {},
     "output_type": "execute_result"
    }
   ],
   "source": [
    "url = 'UseData/Voucher/스마트스토어_(구운_단호박).xlsx'\n",
    "colList = ['제목', '별점', 'Contents']\n",
    "df = pd.read_excel(url, sheet_name='Sheet1', usecols = colList)\n",
    "df.head()"
   ]
  },
  {
   "cell_type": "markdown",
   "metadata": {},
   "source": [
    "    세모 앞부분 상품이름 되어있는쪽은 어떻게 지우지"
   ]
  },
  {
   "cell_type": "code",
   "execution_count": 43,
   "metadata": {
    "ExecuteTime": {
     "end_time": "2021-09-01T08:07:59.698412Z",
     "start_time": "2021-09-01T08:07:59.675439Z"
    }
   },
   "outputs": [
    {
     "data": {
      "text/plain": [
       "0      [▶ 간편하게 먹는 국내산 무농약 구운 아이스 미니밤호박, 존맛이에요 단호박안조아하...\n",
       "1      [▶ 네이처엠 아이스 구운 단호박 100g X 10팩 / 밤호박, 전자레인지에 데워...\n",
       "2      [▶ 네이처엠 아이스 구운 단호박 100g X 10팩 / 밤호박, 이거 랜덤이에여 ...\n",
       "3      [▶ 네이처엠 아이스 구운 단호박 100g X 10팩 / 밤호박, 에프에 돌려먹으면...\n",
       "4      [▶ 네이처엠 아이스 구운 단호박 100g X 10팩 / 밤호박, 단맛이 있는건 맛...\n",
       "                             ...                        \n",
       "500    [▶ 네이처엠 아이스 구운 단호박 100g X 20팩 / 밤호박, 추가,. 리뷰 보...\n",
       "501    [▶ 네이처엠 아이스 구운 단호박 100g X 20팩 / 밤호박, 식단 조절용으로 ...\n",
       "502    [▶ 네이처엠 아이스 구운 단호박 100g X 20팩 / 밤호박, 배송이 많이 늦었어요]\n",
       "503    [▶ 네이처엠 아이스 구운 단호박 100g X 20팩 / 밤호박, 아이스 단호박 여...\n",
       "504    [▶ 네이처엠 아이스 구운 단호박 100g X 20팩 / 밤호박, 들고 다니면서 먹...\n",
       "Name: Contents_new, Length: 505, dtype: object"
      ]
     },
     "execution_count": 43,
     "metadata": {},
     "output_type": "execute_result"
    }
   ],
   "source": [
    "df['Contents_new'] = df['Contents'].apply(lambda x: x.split('_x000D_\\n_x000D_\\n'))\n",
    "df['Contents_new']"
   ]
  },
  {
   "cell_type": "code",
   "execution_count": 38,
   "metadata": {
    "ExecuteTime": {
     "end_time": "2021-09-01T08:05:25.402037Z",
     "start_time": "2021-09-01T08:05:25.392042Z"
    }
   },
   "outputs": [
    {
     "data": {
      "text/plain": [
       "'존맛이에요 단호박안조아하는데 이거핵존맛ㅠㅠ 정신못차리고먹어요 포장도 소분되어잇어서 들고다니기편해서 좋네여'"
      ]
     },
     "execution_count": 38,
     "metadata": {},
     "output_type": "execute_result"
    }
   ],
   "source": [
    "df['Contents_new'][0][1]"
   ]
  },
  {
   "cell_type": "code",
   "execution_count": 44,
   "metadata": {
    "ExecuteTime": {
     "end_time": "2021-09-01T08:08:03.805137Z",
     "start_time": "2021-09-01T08:08:03.783151Z"
    }
   },
   "outputs": [
    {
     "data": {
      "text/plain": [
       "0      존맛이에요 단호박안조아하는데 이거핵존맛ㅠㅠ 정신못차리고먹어요 포장도 소분되어잇어서 ...\n",
       "1                                 전자레인지에 데워먹으니 정말 맛있어요 ㅎ\n",
       "2                           이거 랜덤이에여 맛이 어떤거는 달도 어떤거는 안달거\n",
       "3                                   에프에 돌려먹으면 굿굿 너모 맛있네용\n",
       "4                                   단맛이 있는건 맛있고 없는거 노맛ㅡㅡ\n",
       "                             ...                        \n",
       "500    추가,. 리뷰 보시고 바로 연락 주셔서 사과하시고 후처리해주시네요. 그점에 만족하여...\n",
       "501                                       식단 조절용으로 좋습니다.\n",
       "502                                          배송이 많이 늦었어요\n",
       "503                      아이스 단호박 여기만한 곳이 없습니다. 재구매 중입니다.\n",
       "504                                들고 다니면서 먹기 간편하고 맛있어요!\n",
       "Name: Contents_new2, Length: 505, dtype: object"
      ]
     },
     "execution_count": 44,
     "metadata": {},
     "output_type": "execute_result"
    }
   ],
   "source": [
    "df['Contents_new2'] = df['Contents_new'].apply(lambda x: x.pop())\n",
    "df['Contents_new2']"
   ]
  },
  {
   "cell_type": "code",
   "execution_count": 45,
   "metadata": {
    "ExecuteTime": {
     "end_time": "2021-09-01T08:08:07.076142Z",
     "start_time": "2021-09-01T08:08:07.057165Z"
    }
   },
   "outputs": [
    {
     "data": {
      "text/html": [
       "<div>\n",
       "<style scoped>\n",
       "    .dataframe tbody tr th:only-of-type {\n",
       "        vertical-align: middle;\n",
       "    }\n",
       "\n",
       "    .dataframe tbody tr th {\n",
       "        vertical-align: top;\n",
       "    }\n",
       "\n",
       "    .dataframe thead th {\n",
       "        text-align: right;\n",
       "    }\n",
       "</style>\n",
       "<table border=\"1\" class=\"dataframe\">\n",
       "  <thead>\n",
       "    <tr style=\"text-align: right;\">\n",
       "      <th></th>\n",
       "      <th>제목</th>\n",
       "      <th>별점</th>\n",
       "      <th>Contents</th>\n",
       "      <th>Contents_new</th>\n",
       "      <th>Contents_new2</th>\n",
       "    </tr>\n",
       "  </thead>\n",
       "  <tbody>\n",
       "    <tr>\n",
       "      <th>0</th>\n",
       "      <td>간편하게 먹는 국내산 무농약 구운 아이스 미니밤호박</td>\n",
       "      <td>5</td>\n",
       "      <td>▶ 간편하게 먹는 국내산 무농약 구운 아이스 미니밤호박_x000D_\\n_x000D_...</td>\n",
       "      <td>[▶ 간편하게 먹는 국내산 무농약 구운 아이스 미니밤호박]</td>\n",
       "      <td>존맛이에요 단호박안조아하는데 이거핵존맛ㅠㅠ 정신못차리고먹어요 포장도 소분되어잇어서 ...</td>\n",
       "    </tr>\n",
       "    <tr>\n",
       "      <th>1</th>\n",
       "      <td>네이처엠 아이스 구운 단호박 100g X 10팩 / 밤호박</td>\n",
       "      <td>5</td>\n",
       "      <td>▶ 네이처엠 아이스 구운 단호박 100g X 10팩 / 밤호박_x000D_\\n_x0...</td>\n",
       "      <td>[▶ 네이처엠 아이스 구운 단호박 100g X 10팩 / 밤호박]</td>\n",
       "      <td>전자레인지에 데워먹으니 정말 맛있어요 ㅎ</td>\n",
       "    </tr>\n",
       "    <tr>\n",
       "      <th>2</th>\n",
       "      <td>네이처엠 아이스 구운 단호박 100g X 10팩 / 밤호박</td>\n",
       "      <td>5</td>\n",
       "      <td>▶ 네이처엠 아이스 구운 단호박 100g X 10팩 / 밤호박_x000D_\\n_x0...</td>\n",
       "      <td>[▶ 네이처엠 아이스 구운 단호박 100g X 10팩 / 밤호박]</td>\n",
       "      <td>이거 랜덤이에여 맛이 어떤거는 달도 어떤거는 안달거</td>\n",
       "    </tr>\n",
       "    <tr>\n",
       "      <th>3</th>\n",
       "      <td>네이처엠 아이스 구운 단호박 100g X 10팩 / 밤호박</td>\n",
       "      <td>5</td>\n",
       "      <td>▶ 네이처엠 아이스 구운 단호박 100g X 10팩 / 밤호박_x000D_\\n_x0...</td>\n",
       "      <td>[▶ 네이처엠 아이스 구운 단호박 100g X 10팩 / 밤호박]</td>\n",
       "      <td>에프에 돌려먹으면 굿굿 너모 맛있네용</td>\n",
       "    </tr>\n",
       "    <tr>\n",
       "      <th>4</th>\n",
       "      <td>네이처엠 아이스 구운 단호박 100g X 10팩 / 밤호박</td>\n",
       "      <td>4</td>\n",
       "      <td>▶ 네이처엠 아이스 구운 단호박 100g X 10팩 / 밤호박_x000D_\\n_x0...</td>\n",
       "      <td>[▶ 네이처엠 아이스 구운 단호박 100g X 10팩 / 밤호박]</td>\n",
       "      <td>단맛이 있는건 맛있고 없는거 노맛ㅡㅡ</td>\n",
       "    </tr>\n",
       "  </tbody>\n",
       "</table>\n",
       "</div>"
      ],
      "text/plain": [
       "                                 제목  별점  \\\n",
       "0      간편하게 먹는 국내산 무농약 구운 아이스 미니밤호박   5   \n",
       "1  네이처엠 아이스 구운 단호박 100g X 10팩 / 밤호박   5   \n",
       "2  네이처엠 아이스 구운 단호박 100g X 10팩 / 밤호박   5   \n",
       "3  네이처엠 아이스 구운 단호박 100g X 10팩 / 밤호박   5   \n",
       "4  네이처엠 아이스 구운 단호박 100g X 10팩 / 밤호박   4   \n",
       "\n",
       "                                            Contents  \\\n",
       "0  ▶ 간편하게 먹는 국내산 무농약 구운 아이스 미니밤호박_x000D_\\n_x000D_...   \n",
       "1  ▶ 네이처엠 아이스 구운 단호박 100g X 10팩 / 밤호박_x000D_\\n_x0...   \n",
       "2  ▶ 네이처엠 아이스 구운 단호박 100g X 10팩 / 밤호박_x000D_\\n_x0...   \n",
       "3  ▶ 네이처엠 아이스 구운 단호박 100g X 10팩 / 밤호박_x000D_\\n_x0...   \n",
       "4  ▶ 네이처엠 아이스 구운 단호박 100g X 10팩 / 밤호박_x000D_\\n_x0...   \n",
       "\n",
       "                           Contents_new  \\\n",
       "0      [▶ 간편하게 먹는 국내산 무농약 구운 아이스 미니밤호박]   \n",
       "1  [▶ 네이처엠 아이스 구운 단호박 100g X 10팩 / 밤호박]   \n",
       "2  [▶ 네이처엠 아이스 구운 단호박 100g X 10팩 / 밤호박]   \n",
       "3  [▶ 네이처엠 아이스 구운 단호박 100g X 10팩 / 밤호박]   \n",
       "4  [▶ 네이처엠 아이스 구운 단호박 100g X 10팩 / 밤호박]   \n",
       "\n",
       "                                       Contents_new2  \n",
       "0  존맛이에요 단호박안조아하는데 이거핵존맛ㅠㅠ 정신못차리고먹어요 포장도 소분되어잇어서 ...  \n",
       "1                             전자레인지에 데워먹으니 정말 맛있어요 ㅎ  \n",
       "2                       이거 랜덤이에여 맛이 어떤거는 달도 어떤거는 안달거  \n",
       "3                               에프에 돌려먹으면 굿굿 너모 맛있네용  \n",
       "4                               단맛이 있는건 맛있고 없는거 노맛ㅡㅡ  "
      ]
     },
     "execution_count": 45,
     "metadata": {},
     "output_type": "execute_result"
    }
   ],
   "source": [
    "df.head()"
   ]
  },
  {
   "cell_type": "markdown",
   "metadata": {},
   "source": [
    "    이렇게나 간편한 방법이 ^^^^^^^^^^^^^^ㅣ발"
   ]
  },
  {
   "cell_type": "markdown",
   "metadata": {},
   "source": [
    "    이렇게하면 세모랑 , 사이를 지우면 되지 않을까?"
   ]
  },
  {
   "cell_type": "code",
   "execution_count": 13,
   "metadata": {
    "ExecuteTime": {
     "end_time": "2021-09-01T07:44:35.368946Z",
     "start_time": "2021-09-01T07:44:35.327969Z"
    }
   },
   "outputs": [
    {
     "ename": "TypeError",
     "evalue": "expected string or bytes-like object",
     "output_type": "error",
     "traceback": [
      "\u001b[1;31m---------------------------------------------------------------------------\u001b[0m",
      "\u001b[1;31mTypeError\u001b[0m                                 Traceback (most recent call last)",
      "\u001b[1;32m<ipython-input-13-7f61991f0fbb>\u001b[0m in \u001b[0;36m<module>\u001b[1;34m\u001b[0m\n\u001b[0;32m      2\u001b[0m \u001b[1;31m# df['Contents_new'] = df['Contents_new'].apply(lambda x: re.sub('\\[^▶*\\],?', '', x))\u001b[0m\u001b[1;33m\u001b[0m\u001b[1;33m\u001b[0m\u001b[1;33m\u001b[0m\u001b[0m\n\u001b[0;32m      3\u001b[0m \u001b[1;31m# df['Contents_new'] = df['Contents_new'].apply(lambda x: re.sub('\\S+,\\S+', '', x))\u001b[0m\u001b[1;33m\u001b[0m\u001b[1;33m\u001b[0m\u001b[1;33m\u001b[0m\u001b[0m\n\u001b[1;32m----> 4\u001b[1;33m \u001b[0mdf\u001b[0m\u001b[1;33m[\u001b[0m\u001b[1;34m'Contents_new'\u001b[0m\u001b[1;33m]\u001b[0m \u001b[1;33m=\u001b[0m \u001b[0mdf\u001b[0m\u001b[1;33m[\u001b[0m\u001b[1;34m'Contents_new'\u001b[0m\u001b[1;33m]\u001b[0m\u001b[1;33m.\u001b[0m\u001b[0mapply\u001b[0m\u001b[1;33m(\u001b[0m\u001b[1;32mlambda\u001b[0m \u001b[0mx\u001b[0m\u001b[1;33m:\u001b[0m \u001b[0mre\u001b[0m\u001b[1;33m.\u001b[0m\u001b[0msub\u001b[0m\u001b[1;33m(\u001b[0m\u001b[1;34m'^▶,$'\u001b[0m\u001b[1;33m,\u001b[0m \u001b[1;34m''\u001b[0m\u001b[1;33m,\u001b[0m \u001b[0mx\u001b[0m\u001b[1;33m)\u001b[0m\u001b[1;33m)\u001b[0m\u001b[1;33m\u001b[0m\u001b[1;33m\u001b[0m\u001b[0m\n\u001b[0m\u001b[0;32m      5\u001b[0m \u001b[0mdf\u001b[0m\u001b[1;33m[\u001b[0m\u001b[1;34m'Contents_new'\u001b[0m\u001b[1;33m]\u001b[0m\u001b[1;33m\u001b[0m\u001b[1;33m\u001b[0m\u001b[0m\n",
      "\u001b[1;32m~\\Anaconda3\\lib\\site-packages\\pandas\\core\\series.py\u001b[0m in \u001b[0;36mapply\u001b[1;34m(self, func, convert_dtype, args, **kwds)\u001b[0m\n\u001b[0;32m   4136\u001b[0m             \u001b[1;32melse\u001b[0m\u001b[1;33m:\u001b[0m\u001b[1;33m\u001b[0m\u001b[1;33m\u001b[0m\u001b[0m\n\u001b[0;32m   4137\u001b[0m                 \u001b[0mvalues\u001b[0m \u001b[1;33m=\u001b[0m \u001b[0mself\u001b[0m\u001b[1;33m.\u001b[0m\u001b[0mastype\u001b[0m\u001b[1;33m(\u001b[0m\u001b[0mobject\u001b[0m\u001b[1;33m)\u001b[0m\u001b[1;33m.\u001b[0m\u001b[0m_values\u001b[0m\u001b[1;33m\u001b[0m\u001b[1;33m\u001b[0m\u001b[0m\n\u001b[1;32m-> 4138\u001b[1;33m                 \u001b[0mmapped\u001b[0m \u001b[1;33m=\u001b[0m \u001b[0mlib\u001b[0m\u001b[1;33m.\u001b[0m\u001b[0mmap_infer\u001b[0m\u001b[1;33m(\u001b[0m\u001b[0mvalues\u001b[0m\u001b[1;33m,\u001b[0m \u001b[0mf\u001b[0m\u001b[1;33m,\u001b[0m \u001b[0mconvert\u001b[0m\u001b[1;33m=\u001b[0m\u001b[0mconvert_dtype\u001b[0m\u001b[1;33m)\u001b[0m\u001b[1;33m\u001b[0m\u001b[1;33m\u001b[0m\u001b[0m\n\u001b[0m\u001b[0;32m   4139\u001b[0m \u001b[1;33m\u001b[0m\u001b[0m\n\u001b[0;32m   4140\u001b[0m         \u001b[1;32mif\u001b[0m \u001b[0mlen\u001b[0m\u001b[1;33m(\u001b[0m\u001b[0mmapped\u001b[0m\u001b[1;33m)\u001b[0m \u001b[1;32mand\u001b[0m \u001b[0misinstance\u001b[0m\u001b[1;33m(\u001b[0m\u001b[0mmapped\u001b[0m\u001b[1;33m[\u001b[0m\u001b[1;36m0\u001b[0m\u001b[1;33m]\u001b[0m\u001b[1;33m,\u001b[0m \u001b[0mSeries\u001b[0m\u001b[1;33m)\u001b[0m\u001b[1;33m:\u001b[0m\u001b[1;33m\u001b[0m\u001b[1;33m\u001b[0m\u001b[0m\n",
      "\u001b[1;32mpandas\\_libs\\lib.pyx\u001b[0m in \u001b[0;36mpandas._libs.lib.map_infer\u001b[1;34m()\u001b[0m\n",
      "\u001b[1;32m<ipython-input-13-7f61991f0fbb>\u001b[0m in \u001b[0;36m<lambda>\u001b[1;34m(x)\u001b[0m\n\u001b[0;32m      2\u001b[0m \u001b[1;31m# df['Contents_new'] = df['Contents_new'].apply(lambda x: re.sub('\\[^▶*\\],?', '', x))\u001b[0m\u001b[1;33m\u001b[0m\u001b[1;33m\u001b[0m\u001b[1;33m\u001b[0m\u001b[0m\n\u001b[0;32m      3\u001b[0m \u001b[1;31m# df['Contents_new'] = df['Contents_new'].apply(lambda x: re.sub('\\S+,\\S+', '', x))\u001b[0m\u001b[1;33m\u001b[0m\u001b[1;33m\u001b[0m\u001b[1;33m\u001b[0m\u001b[0m\n\u001b[1;32m----> 4\u001b[1;33m \u001b[0mdf\u001b[0m\u001b[1;33m[\u001b[0m\u001b[1;34m'Contents_new'\u001b[0m\u001b[1;33m]\u001b[0m \u001b[1;33m=\u001b[0m \u001b[0mdf\u001b[0m\u001b[1;33m[\u001b[0m\u001b[1;34m'Contents_new'\u001b[0m\u001b[1;33m]\u001b[0m\u001b[1;33m.\u001b[0m\u001b[0mapply\u001b[0m\u001b[1;33m(\u001b[0m\u001b[1;32mlambda\u001b[0m \u001b[0mx\u001b[0m\u001b[1;33m:\u001b[0m \u001b[0mre\u001b[0m\u001b[1;33m.\u001b[0m\u001b[0msub\u001b[0m\u001b[1;33m(\u001b[0m\u001b[1;34m'^▶,$'\u001b[0m\u001b[1;33m,\u001b[0m \u001b[1;34m''\u001b[0m\u001b[1;33m,\u001b[0m \u001b[0mx\u001b[0m\u001b[1;33m)\u001b[0m\u001b[1;33m)\u001b[0m\u001b[1;33m\u001b[0m\u001b[1;33m\u001b[0m\u001b[0m\n\u001b[0m\u001b[0;32m      5\u001b[0m \u001b[0mdf\u001b[0m\u001b[1;33m[\u001b[0m\u001b[1;34m'Contents_new'\u001b[0m\u001b[1;33m]\u001b[0m\u001b[1;33m\u001b[0m\u001b[1;33m\u001b[0m\u001b[0m\n",
      "\u001b[1;32m~\\Anaconda3\\lib\\re.py\u001b[0m in \u001b[0;36msub\u001b[1;34m(pattern, repl, string, count, flags)\u001b[0m\n\u001b[0;32m    190\u001b[0m     \u001b[0ma\u001b[0m \u001b[0mcallable\u001b[0m\u001b[1;33m,\u001b[0m \u001b[0mit\u001b[0m\u001b[0;31m'\u001b[0m\u001b[0ms\u001b[0m \u001b[0mpassed\u001b[0m \u001b[0mthe\u001b[0m \u001b[0mMatch\u001b[0m \u001b[0mobject\u001b[0m \u001b[1;32mand\u001b[0m \u001b[0mmust\u001b[0m \u001b[1;32mreturn\u001b[0m\u001b[1;33m\u001b[0m\u001b[1;33m\u001b[0m\u001b[0m\n\u001b[0;32m    191\u001b[0m     a replacement string to be used.\"\"\"\n\u001b[1;32m--> 192\u001b[1;33m     \u001b[1;32mreturn\u001b[0m \u001b[0m_compile\u001b[0m\u001b[1;33m(\u001b[0m\u001b[0mpattern\u001b[0m\u001b[1;33m,\u001b[0m \u001b[0mflags\u001b[0m\u001b[1;33m)\u001b[0m\u001b[1;33m.\u001b[0m\u001b[0msub\u001b[0m\u001b[1;33m(\u001b[0m\u001b[0mrepl\u001b[0m\u001b[1;33m,\u001b[0m \u001b[0mstring\u001b[0m\u001b[1;33m,\u001b[0m \u001b[0mcount\u001b[0m\u001b[1;33m)\u001b[0m\u001b[1;33m\u001b[0m\u001b[1;33m\u001b[0m\u001b[0m\n\u001b[0m\u001b[0;32m    193\u001b[0m \u001b[1;33m\u001b[0m\u001b[0m\n\u001b[0;32m    194\u001b[0m \u001b[1;32mdef\u001b[0m \u001b[0msubn\u001b[0m\u001b[1;33m(\u001b[0m\u001b[0mpattern\u001b[0m\u001b[1;33m,\u001b[0m \u001b[0mrepl\u001b[0m\u001b[1;33m,\u001b[0m \u001b[0mstring\u001b[0m\u001b[1;33m,\u001b[0m \u001b[0mcount\u001b[0m\u001b[1;33m=\u001b[0m\u001b[1;36m0\u001b[0m\u001b[1;33m,\u001b[0m \u001b[0mflags\u001b[0m\u001b[1;33m=\u001b[0m\u001b[1;36m0\u001b[0m\u001b[1;33m)\u001b[0m\u001b[1;33m:\u001b[0m\u001b[1;33m\u001b[0m\u001b[1;33m\u001b[0m\u001b[0m\n",
      "\u001b[1;31mTypeError\u001b[0m: expected string or bytes-like object"
     ]
    }
   ],
   "source": [
    "import re\n",
    "# df['Contents_new'] = df['Contents_new'].apply(lambda x: re.sub('\\[^▶*\\],?', '', x))\n",
    "# df['Contents_new'] = df['Contents_new'].apply(lambda x: re.sub('\\S+,\\S+', '', x))\n",
    "df['Contents_new'] = df['Contents_new'].apply(lambda x: re.sub('^▶,$', '', x))\n",
    "df['Contents_new']"
   ]
  },
  {
   "cell_type": "code",
   "execution_count": 15,
   "metadata": {
    "ExecuteTime": {
     "end_time": "2021-09-01T07:49:58.249483Z",
     "start_time": "2021-09-01T07:49:58.238503Z"
    }
   },
   "outputs": [
    {
     "data": {
      "text/plain": [
       "0      [▶ 간편하게 먹는 국내산 무농약 구운 아이스 미니밤호박 존맛이에요 단호박안조아하는...\n",
       "1      [▶ 네이처엠 아이스 구운 단호박 100g X 10팩 / 밤호박 전자레인지에 데워먹...\n",
       "2      [▶ 네이처엠 아이스 구운 단호박 100g X 10팩 / 밤호박 이거 랜덤이에여 맛...\n",
       "3      [▶ 네이처엠 아이스 구운 단호박 100g X 10팩 / 밤호박 에프에 돌려먹으면 ...\n",
       "4      [▶ 네이처엠 아이스 구운 단호박 100g X 10팩 / 밤호박 단맛이 있는건 맛있...\n",
       "                             ...                        \n",
       "500    [▶ 네이처엠 아이스 구운 단호박 100g X 20팩 / 밤호박 추가, . 리뷰 보...\n",
       "501    [▶ 네이처엠 아이스 구운 단호박 100g X 20팩 / 밤호박 식단 조절용으로 좋...\n",
       "502     [▶ 네이처엠 아이스 구운 단호박 100g X 20팩 / 밤호박 배송이 많이 늦었어요]\n",
       "503    [▶ 네이처엠 아이스 구운 단호박 100g X 20팩 / 밤호박 아이스 단호박 여기...\n",
       "504    [▶ 네이처엠 아이스 구운 단호박 100g X 20팩 / 밤호박 들고 다니면서 먹기...\n",
       "Name: Contents_new, Length: 505, dtype: object"
      ]
     },
     "execution_count": 15,
     "metadata": {},
     "output_type": "execute_result"
    }
   ],
   "source": [
    "df['Contents_new'] = df['Contents_new'].apply(lambda x: ' '.join(x))\n",
    "df['Contents_new'] = df['Contents_new'].apply(lambda x: x.split(','))\n",
    "df['Contents_new']"
   ]
  },
  {
   "cell_type": "code",
   "execution_count": 16,
   "metadata": {
    "ExecuteTime": {
     "end_time": "2021-09-01T07:50:24.036635Z",
     "start_time": "2021-09-01T07:50:24.023629Z"
    }
   },
   "outputs": [
    {
     "data": {
      "text/plain": [
       "['▶ 간편하게 먹는 국내산 무농약 구운 아이스 미니밤호박 존맛이에요 단호박안조아하는데 이거핵존맛ㅠㅠ 정신못차리고먹어요 포장도 소분되어잇어서 들고다니기편해서 좋네여']"
      ]
     },
     "execution_count": 16,
     "metadata": {},
     "output_type": "execute_result"
    }
   ],
   "source": [
    "df['Contents_new'][0]"
   ]
  },
  {
   "cell_type": "code",
   "execution_count": null,
   "metadata": {},
   "outputs": [],
   "source": [
    "df['C']"
   ]
  }
 ],
 "metadata": {
  "kernelspec": {
   "display_name": "Python 3",
   "language": "python",
   "name": "python3"
  },
  "language_info": {
   "codemirror_mode": {
    "name": "ipython",
    "version": 3
   },
   "file_extension": ".py",
   "mimetype": "text/x-python",
   "name": "python",
   "nbconvert_exporter": "python",
   "pygments_lexer": "ipython3",
   "version": "3.7.1"
  },
  "toc": {
   "base_numbering": 1,
   "nav_menu": {},
   "number_sections": true,
   "sideBar": true,
   "skip_h1_title": false,
   "title_cell": "Table of Contents",
   "title_sidebar": "Contents",
   "toc_cell": false,
   "toc_position": {},
   "toc_section_display": true,
   "toc_window_display": false
  },
  "varInspector": {
   "cols": {
    "lenName": 16,
    "lenType": 16,
    "lenVar": 40
   },
   "kernels_config": {
    "python": {
     "delete_cmd_postfix": "",
     "delete_cmd_prefix": "del ",
     "library": "var_list.py",
     "varRefreshCmd": "print(var_dic_list())"
    },
    "r": {
     "delete_cmd_postfix": ") ",
     "delete_cmd_prefix": "rm(",
     "library": "var_list.r",
     "varRefreshCmd": "cat(var_dic_list()) "
    }
   },
   "types_to_exclude": [
    "module",
    "function",
    "builtin_function_or_method",
    "instance",
    "_Feature"
   ],
   "window_display": false
  }
 },
 "nbformat": 4,
 "nbformat_minor": 2
}

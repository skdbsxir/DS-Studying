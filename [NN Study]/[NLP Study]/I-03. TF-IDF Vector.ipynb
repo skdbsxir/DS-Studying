{
 "cells": [
  {
   "cell_type": "markdown",
   "metadata": {},
   "source": [
    "- 앞서 Chapter 02. 에서 토큰을 추출해 빈도를 세고 분류하는 방법을 살펴봤음.\n",
    "- 이런 토큰들로 다른 일을 해보자.\n",
    "    - **주어진 단어가 특정 문서 or 말뭉치 전체에서 얼마나 중요한지 측정**해보자. 단어의 중요도 Check.\n",
    "    - 긍정성 점수나 분류명이 있다면 그런 **단어들이 등장한 횟수를 나머지 모든 문서와 비교해 점수를 매겨**보자.\n",
    "\n",
    "<br>\n",
    "\n",
    "- 앞서 얻었었던 이진 비트 벡터 형태로 표현하는 것이 아닌, **의미가 있는 연속된 값**들로 바꿔보자.\n",
    "    - 단어들이 이제 이산 공간이 아닌 **연속 공간에서 표현**.\n",
    "    - 뭐가 좋나? **좀 더 다양한 수학 도구들을 이용해 단어 표현을 다룰 수 있음**.\n",
    "    - 최종 목표는 **단어의 중요도 or 단어의 정보 내용을 반영한 수치 표현을 찾는 것**.\n",
    "        - 이번 장에선 **단어의 중요도를 반영하는 수치 표현**을 자세히 볼 것.\n",
    "        - Chapter 04. 에서는 수치로 표현한 단어 정보를 가지고 단어의 의미를 수량화 할 것.\n",
    "\n",
    "<br>\n",
    "\n",
    "용어 하나 짚고 넘어가자.  <br>\n",
    "**TF-IDF 벡터** : 단어의 중요도를 좀 더 잘 표현하는 단어 점수 벡터.\n",
    "\n",
    "<br>\n",
    "\n",
    "- 빈도(도수)에 기초한다는 점에서 **통계적 모형**에 해당."
   ]
  },
  {
   "cell_type": "markdown",
   "metadata": {},
   "source": [
    "# 단어 모음\n",
    "\n",
    "<br>\n",
    "\n",
    "- 앞서 텍스트들을 통해 간단한 벡터 공간 모형을 만들었음.\n",
    "    - one-hot 같은 방법을 통해 이진 단어 모음(bag of words)을 만들고,\n",
    "    - 이 벡터를 DataFrame에 담아 문서 검색을 위한 index를 만들었음.\n",
    "- 단어 출현 횟수가 어떻게 도움이 되는지 예제를 한번 보자."
   ]
  },
  {
   "cell_type": "code",
   "execution_count": 1,
   "metadata": {
    "ExecuteTime": {
     "end_time": "2021-08-13T01:37:10.667455Z",
     "start_time": "2021-08-13T01:37:08.841717Z"
    }
   },
   "outputs": [
    {
     "name": "stdout",
     "output_type": "stream",
     "text": [
      "['the', 'faster', 'harry', 'got', 'to', 'the', 'store', ',', 'the', 'faster', 'harry', ',', 'the', 'faster', ',', 'would', 'get', 'home', '.']\n"
     ]
    },
    {
     "data": {
      "text/plain": [
       "Counter({'the': 4,\n",
       "         'faster': 3,\n",
       "         'harry': 2,\n",
       "         'got': 1,\n",
       "         'to': 1,\n",
       "         'store': 1,\n",
       "         ',': 3,\n",
       "         'would': 1,\n",
       "         'get': 1,\n",
       "         'home': 1,\n",
       "         '.': 1})"
      ]
     },
     "execution_count": 1,
     "metadata": {},
     "output_type": "execute_result"
    }
   ],
   "source": [
    "from nltk.tokenize import TreebankWordTokenizer\n",
    "from collections import Counter # Counter 같은걸 bag or multiset 자료구조 라 부르기도 함.\n",
    "\n",
    "sentence = \"\"\"The faster Harry got to the store, the faster Harry, the faster, would get home.\"\"\"\n",
    "tokenizer = TreebankWordTokenizer()\n",
    "tokens = tokenizer.tokenize(sentence.lower())\n",
    "\n",
    "print(tokens)\n",
    "\n",
    "bag_of_words = Counter(tokens)\n",
    "bag_of_words"
   ]
  },
  {
   "cell_type": "markdown",
   "metadata": {},
   "source": [
    "    Dict형태라 순서가 좀 뒤죽박죽.\n",
    "    key 순서는 단순히 저장, 갱신, 조회에 최적화. 일관된 출력 고려X.\n",
    "    그래서 기존 문장에 있던 단어 순서정보는 사라짐.\n",
    "    \n",
    "    빈도수 정렬을 위한 most_common이라는 메서드가 있음."
   ]
  },
  {
   "cell_type": "code",
   "execution_count": 2,
   "metadata": {
    "ExecuteTime": {
     "end_time": "2021-08-13T01:37:14.194755Z",
     "start_time": "2021-08-13T01:37:14.183787Z"
    }
   },
   "outputs": [
    {
     "data": {
      "text/plain": [
       "[('the', 4), ('faster', 3), (',', 3), ('harry', 2)]"
      ]
     },
     "execution_count": 2,
     "metadata": {},
     "output_type": "execute_result"
    }
   ],
   "source": [
    "bag_of_words.most_common(4) # 가장 많이 출현한 4개 출력"
   ]
  },
  {
   "cell_type": "markdown",
   "metadata": {},
   "source": [
    "- **어떤 단어가 한 문서에 출현한 횟수**를 **용어 빈도(term frequency, TF)**라 함.\n",
    "- 응용에 따라선 *TF를 해당 문서에 있는 모든 단어의 수로 나눠 정규화 하기도 함.*\n",
    "\n",
    "<br>\n",
    "\n",
    "- 4개의 토큰 중 **정관사 the와 문장부호 , 는 문장에 대한 정보를 많이 담고있지 않음**. **불용어**.\n",
    "- 가장 자주 등장한 토큰은 faster와 harry가 될 것.\n",
    "- Counter 객체 bag_of_words에서 harry의 TF를 조회해, 전체 토큰 수로 정규화 해보자."
   ]
  },
  {
   "cell_type": "code",
   "execution_count": 3,
   "metadata": {
    "ExecuteTime": {
     "end_time": "2021-08-13T01:37:15.242734Z",
     "start_time": "2021-08-13T01:37:15.223751Z"
    }
   },
   "outputs": [
    {
     "data": {
      "text/plain": [
       "0.1818"
      ]
     },
     "execution_count": 3,
     "metadata": {},
     "output_type": "execute_result"
    }
   ],
   "source": [
    "times_harry_appears = bag_of_words['harry']\n",
    "num_unique_words = len(bag_of_words) # 원 문장에 있는 고유한 단어의 수\n",
    "tf = times_harry_appears / num_unique_words\n",
    "round(tf, 4)"
   ]
  },
  {
   "cell_type": "markdown",
   "metadata": {},
   "source": [
    "- **정규화 된 용어 빈도(TF)**가 뭘까.\n",
    "    - **단어의 출현 횟수를 문서의 길이로 \"길들인\" 것**. 왜 길들여야 할까?\n",
    "    - dog라는 단어가 A문서에선 3번 등장하고, B문서에선 100번 등장한다 해보자.\n",
    "    - ***dog라는 단어가 B에서 더 중요하다 볼 수 있을까?*** 무조건 그렇진 않을 것. A와 B 문서 길이가 다를 수 있음.\n",
    "    - **단어가 포함된 문서의 길이도 고려해 단어의 중요도를 추정**할 필요가 있다.\n",
    "    - 이게 바로 정규화 된 용어 빈도.\n",
    "- 이렇게 **정규화된 TF는 주어진 단어가 그 문서에서 상대적으로 얼마나 중요한지도 말해줌.**\n",
    "    - 앞선 예시에서 harry의 속도가 중요함을 유추해 볼 수 있음.\n",
    "    - 이진값보다 출현 횟수가 단어 의미를 파악하는데 더 도움이 된다는 점을 알 수 있음.\n",
    "- 긴 문서를 사용한 예시를 봐보자."
   ]
  },
  {
   "cell_type": "code",
   "execution_count": 4,
   "metadata": {
    "ExecuteTime": {
     "end_time": "2021-08-13T01:37:23.608429Z",
     "start_time": "2021-08-13T01:37:17.217748Z"
    }
   },
   "outputs": [
    {
     "name": "stderr",
     "output_type": "stream",
     "text": [
      "C:\\ProgramData\\Anaconda3\\envs\\WorkBase\\lib\\site-packages\\pugnlp\\constants.py:136: FutureWarning: The pandas.datetime class is deprecated and will be removed from pandas in a future version. Import from datetime module instead.\n",
      "  [datetime.datetime, pd.datetime, pd.Timestamp])\n",
      "C:\\ProgramData\\Anaconda3\\envs\\WorkBase\\lib\\site-packages\\pugnlp\\constants.py:158: FutureWarning: The pandas.datetime class is deprecated and will be removed from pandas in a future version. Import from datetime module instead.\n",
      "  MIN_TIMESTAMP = pd.Timestamp(pd.datetime(1677, 9, 22, 0, 12, 44), tz='utc')\n",
      "C:\\ProgramData\\Anaconda3\\envs\\WorkBase\\lib\\site-packages\\pugnlp\\tutil.py:100: FutureWarning: The pandas.np module is deprecated and will be removed from pandas in a future version. Import numpy directly instead\n",
      "  np = pd.np\n",
      "C:\\ProgramData\\Anaconda3\\envs\\WorkBase\\lib\\site-packages\\pugnlp\\util.py:80: FutureWarning: The pandas.np module is deprecated and will be removed from pandas in a future version. Import numpy directly instead\n",
      "  np = pd.np\n",
      "INFO:nlpia.constants:Starting logger in nlpia.constants...\n",
      "C:\\ProgramData\\Anaconda3\\envs\\WorkBase\\lib\\site-packages\\nlpia\\futil.py:30: FutureWarning: The pandas.np module is deprecated and will be removed from pandas in a future version. Import numpy directly instead\n",
      "  np = pd.np\n",
      "C:\\ProgramData\\Anaconda3\\envs\\WorkBase\\lib\\site-packages\\nlpia\\loaders.py:78: FutureWarning: The pandas.np module is deprecated and will be removed from pandas in a future version. Import numpy directly instead\n",
      "  np = pd.np\n",
      "INFO:nlpia.loaders:No BIGDATA index found in C:\\ProgramData\\Anaconda3\\envs\\WorkBase\\lib\\site-packages\\nlpia\\data\\bigdata_info.csv so copy C:\\ProgramData\\Anaconda3\\envs\\WorkBase\\lib\\site-packages\\nlpia\\data\\bigdata_info.latest.csv to C:\\ProgramData\\Anaconda3\\envs\\WorkBase\\lib\\site-packages\\nlpia\\data\\bigdata_info.csv if you want to \"freeze\" it.\n",
      "INFO:nlpia.futil:Reading CSV with `read_csv(*('C:\\\\ProgramData\\\\Anaconda3\\\\envs\\\\WorkBase\\\\lib\\\\site-packages\\\\nlpia\\\\data\\\\mavis-batey-greetings.csv',), **{'low_memory': False})`...\n",
      "INFO:nlpia.futil:Reading CSV with `read_csv(*('C:\\\\ProgramData\\\\Anaconda3\\\\envs\\\\WorkBase\\\\lib\\\\site-packages\\\\nlpia\\\\data\\\\sms-spam.csv',), **{'low_memory': False})`...\n"
     ]
    },
    {
     "data": {
      "text/plain": [
       "Counter({'a': 20,\n",
       "         'kite': 16,\n",
       "         'is': 7,\n",
       "         'traditionally': 1,\n",
       "         'tethered': 2,\n",
       "         'heavier-than-air': 1,\n",
       "         'craft': 2,\n",
       "         'with': 2,\n",
       "         'wing': 5,\n",
       "         'surfaces': 1,\n",
       "         'that': 2,\n",
       "         'react': 1,\n",
       "         'against': 1,\n",
       "         'the': 26,\n",
       "         'air': 2,\n",
       "         'to': 5,\n",
       "         'create': 1,\n",
       "         'lift': 4,\n",
       "         'and': 10,\n",
       "         'drag.': 1,\n",
       "         'consists': 2,\n",
       "         'of': 10,\n",
       "         'wings': 1,\n",
       "         ',': 15,\n",
       "         'tethers': 2,\n",
       "         'anchors.': 2,\n",
       "         'kites': 8,\n",
       "         'often': 2,\n",
       "         'have': 4,\n",
       "         'bridle': 2,\n",
       "         'guide': 1,\n",
       "         'face': 1,\n",
       "         'at': 3,\n",
       "         'correct': 1,\n",
       "         'angle': 1,\n",
       "         'so': 3,\n",
       "         'wind': 2,\n",
       "         'can': 3,\n",
       "         'it.': 1,\n",
       "         \"'s\": 2,\n",
       "         'also': 3,\n",
       "         'may': 4,\n",
       "         'be': 5,\n",
       "         'designed': 2,\n",
       "         'not': 1,\n",
       "         'needed': 1,\n",
       "         ';': 2,\n",
       "         'when': 2,\n",
       "         'kiting': 3,\n",
       "         'sailplane': 1,\n",
       "         'for': 2,\n",
       "         'launch': 1,\n",
       "         'tether': 1,\n",
       "         'meets': 1,\n",
       "         'single': 1,\n",
       "         'point.': 1,\n",
       "         'fixed': 1,\n",
       "         'or': 6,\n",
       "         'moving': 2,\n",
       "         'untraditionally': 1,\n",
       "         'in': 7,\n",
       "         'technical': 2,\n",
       "         'tether-set-coupled': 1,\n",
       "         'sets': 1,\n",
       "         'even': 2,\n",
       "         'though': 1,\n",
       "         'system': 1,\n",
       "         'still': 1,\n",
       "         'called': 2,\n",
       "         'kite.': 1,\n",
       "         'sustains': 1,\n",
       "         'flight': 1,\n",
       "         'generated': 1,\n",
       "         'flows': 1,\n",
       "         'around': 1,\n",
       "         'surface': 2,\n",
       "         'producing': 1,\n",
       "         'low': 1,\n",
       "         'pressure': 2,\n",
       "         'above': 1,\n",
       "         'high': 1,\n",
       "         'below': 1,\n",
       "         'wings.': 1,\n",
       "         'interaction': 1,\n",
       "         'generates': 1,\n",
       "         'horizontal': 1,\n",
       "         'drag': 2,\n",
       "         'along': 1,\n",
       "         'direction': 1,\n",
       "         'wind.': 1,\n",
       "         'resultant': 1,\n",
       "         'force': 2,\n",
       "         'vector': 1,\n",
       "         'from': 1,\n",
       "         'components': 1,\n",
       "         'opposed': 1,\n",
       "         'by': 2,\n",
       "         'tension': 1,\n",
       "         'one': 1,\n",
       "         'more': 1,\n",
       "         'lines': 1,\n",
       "         'which': 2,\n",
       "         'attached.': 1,\n",
       "         'anchor': 1,\n",
       "         'point': 1,\n",
       "         'line': 1,\n",
       "         'static': 1,\n",
       "         '(': 1,\n",
       "         'e.g.': 1,\n",
       "         'towing': 1,\n",
       "         'running': 1,\n",
       "         'person': 1,\n",
       "         'boat': 1,\n",
       "         'free-falling': 1,\n",
       "         'anchors': 1,\n",
       "         'as': 5,\n",
       "         'paragliders': 1,\n",
       "         'fugitive': 1,\n",
       "         'parakites': 1,\n",
       "         'vehicle': 1,\n",
       "         ')': 1,\n",
       "         '.': 2,\n",
       "         'same': 1,\n",
       "         'principles': 1,\n",
       "         'fluid': 1,\n",
       "         'flow': 1,\n",
       "         'apply': 1,\n",
       "         'liquids': 1,\n",
       "         'are': 3,\n",
       "         'used': 2,\n",
       "         'under': 1,\n",
       "         'water.': 1,\n",
       "         'hybrid': 1,\n",
       "         'comprising': 1,\n",
       "         'both': 1,\n",
       "         'lighter-than-air': 1,\n",
       "         'balloon': 1,\n",
       "         'well': 1,\n",
       "         'lifting': 1,\n",
       "         'kytoon.': 1,\n",
       "         'long': 1,\n",
       "         'varied': 1,\n",
       "         'history': 1,\n",
       "         'many': 1,\n",
       "         'different': 1,\n",
       "         'types': 1,\n",
       "         'flown': 3,\n",
       "         'individually': 1,\n",
       "         'festivals': 1,\n",
       "         'worldwide.': 1,\n",
       "         'recreation': 1,\n",
       "         'art': 1,\n",
       "         'other': 1,\n",
       "         'practical': 1,\n",
       "         'uses.': 1,\n",
       "         'sport': 1,\n",
       "         'aerial': 1,\n",
       "         'ballet': 1,\n",
       "         'sometimes': 1,\n",
       "         'part': 1,\n",
       "         'competition.': 1,\n",
       "         'power': 2,\n",
       "         'multi-line': 1,\n",
       "         'steerable': 1,\n",
       "         'generate': 1,\n",
       "         'large': 1,\n",
       "         'forces': 1,\n",
       "         'activities': 1,\n",
       "         'such': 1,\n",
       "         'surfing': 1,\n",
       "         'landboarding': 1,\n",
       "         'fishing': 1,\n",
       "         'buggying': 1,\n",
       "         'new': 1,\n",
       "         'trend': 1,\n",
       "         'snow': 1,\n",
       "         'kiting.': 1,\n",
       "         'man-lifting': 1,\n",
       "         'been': 1,\n",
       "         'made': 1})"
      ]
     },
     "execution_count": 4,
     "metadata": {},
     "output_type": "execute_result"
    }
   ],
   "source": [
    "from collections import Counter\n",
    "from nltk.tokenize import TreebankWordTokenizer\n",
    "from nlpia.data.loaders import kite_text\n",
    "\n",
    "tokenizer = TreebankWordTokenizer()\n",
    "tokens = tokenizer.tokenize(kite_text.lower())\n",
    "tokenCounts = Counter(tokens)\n",
    "tokenCounts"
   ]
  },
  {
   "cell_type": "markdown",
   "metadata": {},
   "source": [
    "    상위 토큰에 불용어가 많이 보임. a, is 같은거.\n",
    "    불용어 제거하자."
   ]
  },
  {
   "cell_type": "code",
   "execution_count": 5,
   "metadata": {
    "ExecuteTime": {
     "end_time": "2021-08-13T01:37:32.720655Z",
     "start_time": "2021-08-13T01:37:32.137104Z"
    }
   },
   "outputs": [
    {
     "data": {
      "text/plain": [
       "True"
      ]
     },
     "execution_count": 5,
     "metadata": {},
     "output_type": "execute_result"
    }
   ],
   "source": [
    "import nltk\n",
    "nltk.download('stopwords', quiet=True)"
   ]
  },
  {
   "cell_type": "code",
   "execution_count": 6,
   "metadata": {
    "ExecuteTime": {
     "end_time": "2021-08-13T01:37:34.192643Z",
     "start_time": "2021-08-13T01:37:34.160726Z"
    }
   },
   "outputs": [
    {
     "data": {
      "text/plain": [
       "(Counter({'kite': 16,\n",
       "          'traditionally': 1,\n",
       "          'tethered': 2,\n",
       "          'heavier-than-air': 1,\n",
       "          'craft': 2,\n",
       "          'wing': 5,\n",
       "          'surfaces': 1,\n",
       "          'react': 1,\n",
       "          'air': 2,\n",
       "          'create': 1,\n",
       "          'lift': 4,\n",
       "          'drag.': 1,\n",
       "          'consists': 2,\n",
       "          'wings': 1,\n",
       "          ',': 15,\n",
       "          'tethers': 2,\n",
       "          'anchors.': 2,\n",
       "          'kites': 8,\n",
       "          'often': 2,\n",
       "          'bridle': 2,\n",
       "          'guide': 1,\n",
       "          'face': 1,\n",
       "          'correct': 1,\n",
       "          'angle': 1,\n",
       "          'wind': 2,\n",
       "          'it.': 1,\n",
       "          \"'s\": 2,\n",
       "          'also': 3,\n",
       "          'may': 4,\n",
       "          'designed': 2,\n",
       "          'needed': 1,\n",
       "          ';': 2,\n",
       "          'kiting': 3,\n",
       "          'sailplane': 1,\n",
       "          'launch': 1,\n",
       "          'tether': 1,\n",
       "          'meets': 1,\n",
       "          'single': 1,\n",
       "          'point.': 1,\n",
       "          'fixed': 1,\n",
       "          'moving': 2,\n",
       "          'untraditionally': 1,\n",
       "          'technical': 2,\n",
       "          'tether-set-coupled': 1,\n",
       "          'sets': 1,\n",
       "          'even': 2,\n",
       "          'though': 1,\n",
       "          'system': 1,\n",
       "          'still': 1,\n",
       "          'called': 2,\n",
       "          'kite.': 1,\n",
       "          'sustains': 1,\n",
       "          'flight': 1,\n",
       "          'generated': 1,\n",
       "          'flows': 1,\n",
       "          'around': 1,\n",
       "          'surface': 2,\n",
       "          'producing': 1,\n",
       "          'low': 1,\n",
       "          'pressure': 2,\n",
       "          'high': 1,\n",
       "          'wings.': 1,\n",
       "          'interaction': 1,\n",
       "          'generates': 1,\n",
       "          'horizontal': 1,\n",
       "          'drag': 2,\n",
       "          'along': 1,\n",
       "          'direction': 1,\n",
       "          'wind.': 1,\n",
       "          'resultant': 1,\n",
       "          'force': 2,\n",
       "          'vector': 1,\n",
       "          'components': 1,\n",
       "          'opposed': 1,\n",
       "          'tension': 1,\n",
       "          'one': 1,\n",
       "          'lines': 1,\n",
       "          'attached.': 1,\n",
       "          'anchor': 1,\n",
       "          'point': 1,\n",
       "          'line': 1,\n",
       "          'static': 1,\n",
       "          '(': 1,\n",
       "          'e.g.': 1,\n",
       "          'towing': 1,\n",
       "          'running': 1,\n",
       "          'person': 1,\n",
       "          'boat': 1,\n",
       "          'free-falling': 1,\n",
       "          'anchors': 1,\n",
       "          'paragliders': 1,\n",
       "          'fugitive': 1,\n",
       "          'parakites': 1,\n",
       "          'vehicle': 1,\n",
       "          ')': 1,\n",
       "          '.': 2,\n",
       "          'principles': 1,\n",
       "          'fluid': 1,\n",
       "          'flow': 1,\n",
       "          'apply': 1,\n",
       "          'liquids': 1,\n",
       "          'used': 2,\n",
       "          'water.': 1,\n",
       "          'hybrid': 1,\n",
       "          'comprising': 1,\n",
       "          'lighter-than-air': 1,\n",
       "          'balloon': 1,\n",
       "          'well': 1,\n",
       "          'lifting': 1,\n",
       "          'kytoon.': 1,\n",
       "          'long': 1,\n",
       "          'varied': 1,\n",
       "          'history': 1,\n",
       "          'many': 1,\n",
       "          'different': 1,\n",
       "          'types': 1,\n",
       "          'flown': 3,\n",
       "          'individually': 1,\n",
       "          'festivals': 1,\n",
       "          'worldwide.': 1,\n",
       "          'recreation': 1,\n",
       "          'art': 1,\n",
       "          'practical': 1,\n",
       "          'uses.': 1,\n",
       "          'sport': 1,\n",
       "          'aerial': 1,\n",
       "          'ballet': 1,\n",
       "          'sometimes': 1,\n",
       "          'part': 1,\n",
       "          'competition.': 1,\n",
       "          'power': 2,\n",
       "          'multi-line': 1,\n",
       "          'steerable': 1,\n",
       "          'generate': 1,\n",
       "          'large': 1,\n",
       "          'forces': 1,\n",
       "          'activities': 1,\n",
       "          'surfing': 1,\n",
       "          'landboarding': 1,\n",
       "          'fishing': 1,\n",
       "          'buggying': 1,\n",
       "          'new': 1,\n",
       "          'trend': 1,\n",
       "          'snow': 1,\n",
       "          'kiting.': 1,\n",
       "          'man-lifting': 1,\n",
       "          'made': 1}),\n",
       " [('kite', 16), (',', 15), ('kites', 8), ('wing', 5), ('lift', 4)])"
      ]
     },
     "execution_count": 6,
     "metadata": {},
     "output_type": "execute_result"
    }
   ],
   "source": [
    "stopwords = nltk.corpus.stopwords.words('english')\n",
    "tokens = [x for x in tokens if x not in stopwords]\n",
    "kite_counts = Counter(tokens)\n",
    "kite_counts, kite_counts.most_common(5)"
   ]
  },
  {
   "cell_type": "markdown",
   "metadata": {},
   "source": [
    "    kite, wing, lift 가 문서에서 중요한 단어임을 유추해 볼 수 있음.\n",
    "    다른 문서에서도 이와 비슷한 TF가 나오면, 해당 말뭉치의 모든 문서가\n",
    "    연이나 연날리기에 관한 문서일 가능성이 있다.\n",
    "    \n",
    "    그러면 아마 모든 문서가 string과 wind를 자주 언급할 것이며, \n",
    "    모든 문서에서 string의 TF와 wind의 TF가 높게 나올 것.\n",
    "    \n",
    "    이런 수치들을 수학 연산에 좀 더 적합한 형태로 바꿔보자."
   ]
  },
  {
   "cell_type": "markdown",
   "metadata": {},
   "source": [
    "# Vectorization\n",
    "\n",
    "<br>\n",
    "\n",
    "- 수치들을 Dict에 담아두기만 했음. 활용할 건덕지가 많지 않다.\n",
    "- 문서를 표현하는 TF를 벡터로 만들어보자.\n",
    "- Dict구조에 담긴 TF들로 하나의 정규화된 TF벡터를 생성하는 예시를 한번 봐보자."
   ]
  },
  {
   "cell_type": "code",
   "execution_count": 7,
   "metadata": {
    "ExecuteTime": {
     "end_time": "2021-08-13T01:37:36.588692Z",
     "start_time": "2021-08-13T01:37:36.567715Z"
    }
   },
   "outputs": [
    {
     "data": {
      "text/plain": [
       "[0.07207207207207207,\n",
       " 0.06756756756756757,\n",
       " 0.036036036036036036,\n",
       " 0.02252252252252252,\n",
       " 0.018018018018018018,\n",
       " 0.018018018018018018,\n",
       " 0.013513513513513514,\n",
       " 0.013513513513513514,\n",
       " 0.013513513513513514,\n",
       " 0.009009009009009009,\n",
       " 0.009009009009009009,\n",
       " 0.009009009009009009,\n",
       " 0.009009009009009009,\n",
       " 0.009009009009009009,\n",
       " 0.009009009009009009,\n",
       " 0.009009009009009009,\n",
       " 0.009009009009009009,\n",
       " 0.009009009009009009,\n",
       " 0.009009009009009009,\n",
       " 0.009009009009009009,\n",
       " 0.009009009009009009,\n",
       " 0.009009009009009009,\n",
       " 0.009009009009009009,\n",
       " 0.009009009009009009,\n",
       " 0.009009009009009009,\n",
       " 0.009009009009009009,\n",
       " 0.009009009009009009,\n",
       " 0.009009009009009009,\n",
       " 0.009009009009009009,\n",
       " 0.009009009009009009,\n",
       " 0.009009009009009009,\n",
       " 0.009009009009009009,\n",
       " 0.0045045045045045045,\n",
       " 0.0045045045045045045,\n",
       " 0.0045045045045045045,\n",
       " 0.0045045045045045045,\n",
       " 0.0045045045045045045,\n",
       " 0.0045045045045045045,\n",
       " 0.0045045045045045045,\n",
       " 0.0045045045045045045,\n",
       " 0.0045045045045045045,\n",
       " 0.0045045045045045045,\n",
       " 0.0045045045045045045,\n",
       " 0.0045045045045045045,\n",
       " 0.0045045045045045045,\n",
       " 0.0045045045045045045,\n",
       " 0.0045045045045045045,\n",
       " 0.0045045045045045045,\n",
       " 0.0045045045045045045,\n",
       " 0.0045045045045045045,\n",
       " 0.0045045045045045045,\n",
       " 0.0045045045045045045,\n",
       " 0.0045045045045045045,\n",
       " 0.0045045045045045045,\n",
       " 0.0045045045045045045,\n",
       " 0.0045045045045045045,\n",
       " 0.0045045045045045045,\n",
       " 0.0045045045045045045,\n",
       " 0.0045045045045045045,\n",
       " 0.0045045045045045045,\n",
       " 0.0045045045045045045,\n",
       " 0.0045045045045045045,\n",
       " 0.0045045045045045045,\n",
       " 0.0045045045045045045,\n",
       " 0.0045045045045045045,\n",
       " 0.0045045045045045045,\n",
       " 0.0045045045045045045,\n",
       " 0.0045045045045045045,\n",
       " 0.0045045045045045045,\n",
       " 0.0045045045045045045,\n",
       " 0.0045045045045045045,\n",
       " 0.0045045045045045045,\n",
       " 0.0045045045045045045,\n",
       " 0.0045045045045045045,\n",
       " 0.0045045045045045045,\n",
       " 0.0045045045045045045,\n",
       " 0.0045045045045045045,\n",
       " 0.0045045045045045045,\n",
       " 0.0045045045045045045,\n",
       " 0.0045045045045045045,\n",
       " 0.0045045045045045045,\n",
       " 0.0045045045045045045,\n",
       " 0.0045045045045045045,\n",
       " 0.0045045045045045045,\n",
       " 0.0045045045045045045,\n",
       " 0.0045045045045045045,\n",
       " 0.0045045045045045045,\n",
       " 0.0045045045045045045,\n",
       " 0.0045045045045045045,\n",
       " 0.0045045045045045045,\n",
       " 0.0045045045045045045,\n",
       " 0.0045045045045045045,\n",
       " 0.0045045045045045045,\n",
       " 0.0045045045045045045,\n",
       " 0.0045045045045045045,\n",
       " 0.0045045045045045045,\n",
       " 0.0045045045045045045,\n",
       " 0.0045045045045045045,\n",
       " 0.0045045045045045045,\n",
       " 0.0045045045045045045,\n",
       " 0.0045045045045045045,\n",
       " 0.0045045045045045045,\n",
       " 0.0045045045045045045,\n",
       " 0.0045045045045045045,\n",
       " 0.0045045045045045045,\n",
       " 0.0045045045045045045,\n",
       " 0.0045045045045045045,\n",
       " 0.0045045045045045045,\n",
       " 0.0045045045045045045,\n",
       " 0.0045045045045045045,\n",
       " 0.0045045045045045045,\n",
       " 0.0045045045045045045,\n",
       " 0.0045045045045045045,\n",
       " 0.0045045045045045045,\n",
       " 0.0045045045045045045,\n",
       " 0.0045045045045045045,\n",
       " 0.0045045045045045045,\n",
       " 0.0045045045045045045,\n",
       " 0.0045045045045045045,\n",
       " 0.0045045045045045045,\n",
       " 0.0045045045045045045,\n",
       " 0.0045045045045045045,\n",
       " 0.0045045045045045045,\n",
       " 0.0045045045045045045,\n",
       " 0.0045045045045045045,\n",
       " 0.0045045045045045045,\n",
       " 0.0045045045045045045,\n",
       " 0.0045045045045045045,\n",
       " 0.0045045045045045045,\n",
       " 0.0045045045045045045,\n",
       " 0.0045045045045045045,\n",
       " 0.0045045045045045045,\n",
       " 0.0045045045045045045,\n",
       " 0.0045045045045045045,\n",
       " 0.0045045045045045045,\n",
       " 0.0045045045045045045,\n",
       " 0.0045045045045045045,\n",
       " 0.0045045045045045045,\n",
       " 0.0045045045045045045,\n",
       " 0.0045045045045045045,\n",
       " 0.0045045045045045045,\n",
       " 0.0045045045045045045,\n",
       " 0.0045045045045045045,\n",
       " 0.0045045045045045045,\n",
       " 0.0045045045045045045,\n",
       " 0.0045045045045045045,\n",
       " 0.0045045045045045045]"
      ]
     },
     "execution_count": 7,
     "metadata": {},
     "output_type": "execute_result"
    }
   ],
   "source": [
    "document_vector = []\n",
    "doc_length = len(tokens)\n",
    "for key, value in kite_counts.most_common():\n",
    "    document_vector.append(value / doc_length)\n",
    "document_vector"
   ]
  },
  {
   "cell_type": "markdown",
   "metadata": {},
   "source": [
    "    수학 연산을 위한 새 문서를 추가하고, 어휘집을 만들어보자."
   ]
  },
  {
   "cell_type": "code",
   "execution_count": 8,
   "metadata": {
    "ExecuteTime": {
     "end_time": "2021-08-13T01:37:38.731680Z",
     "start_time": "2021-08-13T01:37:38.719719Z"
    }
   },
   "outputs": [
    {
     "data": {
      "text/plain": [
       "['The faster Harry got to the store, the faster Harry, the faster, would get home.',\n",
       " 'Harry is hairy and faster than Jill.',\n",
       " 'Jill is not as hairy as Harry.']"
      ]
     },
     "execution_count": 8,
     "metadata": {},
     "output_type": "execute_result"
    }
   ],
   "source": [
    "docs = [\"\"\"The faster Harry got to the store, the faster Harry, the faster, would get home.\"\"\"]\n",
    "docs.append(\"\"\"Harry is hairy and faster than Jill.\"\"\")\n",
    "docs.append(\"\"\"Jill is not as hairy as Harry.\"\"\")\n",
    "docs"
   ]
  },
  {
   "cell_type": "code",
   "execution_count": 9,
   "metadata": {
    "ExecuteTime": {
     "end_time": "2021-08-13T01:37:39.841659Z",
     "start_time": "2021-08-13T01:37:39.823707Z"
    }
   },
   "outputs": [
    {
     "data": {
      "text/plain": [
       "[',',\n",
       " '.',\n",
       " 'and',\n",
       " 'as',\n",
       " 'faster',\n",
       " 'get',\n",
       " 'got',\n",
       " 'hairy',\n",
       " 'harry',\n",
       " 'home',\n",
       " 'is',\n",
       " 'jill',\n",
       " 'not',\n",
       " 'store',\n",
       " 'than',\n",
       " 'the',\n",
       " 'to',\n",
       " 'would']"
      ]
     },
     "execution_count": 9,
     "metadata": {},
     "output_type": "execute_result"
    }
   ],
   "source": [
    "doc_tokens = []\n",
    "for doc in docs:\n",
    "    doc_tokens += [sorted(tokenizer.tokenize(doc.lower()))]\n",
    "\n",
    "\"\"\"\n",
    "doc_tokens\n",
    "\n",
    "[[',',\n",
    "  ',',\n",
    "  ',',\n",
    "  '.',\n",
    "  'faster',\n",
    "  'faster',\n",
    "  'faster',\n",
    "  'get',\n",
    "  'got',\n",
    "  'harry',\n",
    "  'harry',\n",
    "  'home',\n",
    "  'store',\n",
    "  'the',\n",
    "  'the',\n",
    "  'the',\n",
    "  'the',\n",
    "  'to',\n",
    "  'would'],\n",
    " ['.', 'and', 'faster', 'hairy', 'harry', 'is', 'jill', 'than'],\n",
    " ['.', 'as', 'as', 'hairy', 'harry', 'is', 'jill', 'not']]\n",
    "\"\"\"\n",
    "all_doc_tokens = sum(doc_tokens, []) # 토큰 전부 합치기\n",
    "lexicon = sorted(set(all_doc_tokens)) # 어휘사전 구축\n",
    "lexicon"
   ]
  },
  {
   "cell_type": "markdown",
   "metadata": {},
   "source": [
    "- 문서를 표현하는 벡터의 길이는 항상 어휘집의 단어 수와 같아야 함.\n",
    "- 벡터의 한 성분의 위치는 어휘집 안에서의 그 성분에 대응되는 토큰의 위치와 일치해야 함."
   ]
  },
  {
   "cell_type": "code",
   "execution_count": 10,
   "metadata": {
    "ExecuteTime": {
     "end_time": "2021-08-13T01:37:49.341650Z",
     "start_time": "2021-08-13T01:37:49.321732Z"
    }
   },
   "outputs": [
    {
     "data": {
      "text/plain": [
       "OrderedDict([(',', 0),\n",
       "             ('.', 0),\n",
       "             ('and', 0),\n",
       "             ('as', 0),\n",
       "             ('faster', 0),\n",
       "             ('get', 0),\n",
       "             ('got', 0),\n",
       "             ('hairy', 0),\n",
       "             ('harry', 0),\n",
       "             ('home', 0),\n",
       "             ('is', 0),\n",
       "             ('jill', 0),\n",
       "             ('not', 0),\n",
       "             ('store', 0),\n",
       "             ('than', 0),\n",
       "             ('the', 0),\n",
       "             ('to', 0),\n",
       "             ('would', 0)])"
      ]
     },
     "execution_count": 10,
     "metadata": {},
     "output_type": "execute_result"
    }
   ],
   "source": [
    "from collections import OrderedDict\n",
    "\n",
    "zero_vector = OrderedDict((token, 0) for token in lexicon)\n",
    "zero_vector"
   ]
  },
  {
   "cell_type": "markdown",
   "metadata": {},
   "source": [
    "- 말뭉치의 문서마다 기준 벡터를 복사해, 각 성분을 해당 용어 빈도TF로 갱신해 세 문서의 벡터를 생성한다."
   ]
  },
  {
   "cell_type": "code",
   "execution_count": 11,
   "metadata": {
    "ExecuteTime": {
     "end_time": "2021-08-13T01:37:52.954667Z",
     "start_time": "2021-08-13T01:37:52.935686Z"
    }
   },
   "outputs": [
    {
     "data": {
      "text/plain": [
       "[OrderedDict([(',', 0.16666666666666666),\n",
       "              ('.', 0.05555555555555555),\n",
       "              ('and', 0),\n",
       "              ('as', 0),\n",
       "              ('faster', 0.16666666666666666),\n",
       "              ('get', 0.05555555555555555),\n",
       "              ('got', 0.05555555555555555),\n",
       "              ('hairy', 0),\n",
       "              ('harry', 0.1111111111111111),\n",
       "              ('home', 0.05555555555555555),\n",
       "              ('is', 0),\n",
       "              ('jill', 0),\n",
       "              ('not', 0),\n",
       "              ('store', 0.05555555555555555),\n",
       "              ('than', 0),\n",
       "              ('the', 0.2222222222222222),\n",
       "              ('to', 0.05555555555555555),\n",
       "              ('would', 0.05555555555555555)]),\n",
       " OrderedDict([(',', 0),\n",
       "              ('.', 0.05555555555555555),\n",
       "              ('and', 0.05555555555555555),\n",
       "              ('as', 0),\n",
       "              ('faster', 0.05555555555555555),\n",
       "              ('get', 0),\n",
       "              ('got', 0),\n",
       "              ('hairy', 0.05555555555555555),\n",
       "              ('harry', 0.05555555555555555),\n",
       "              ('home', 0),\n",
       "              ('is', 0.05555555555555555),\n",
       "              ('jill', 0.05555555555555555),\n",
       "              ('not', 0),\n",
       "              ('store', 0),\n",
       "              ('than', 0.05555555555555555),\n",
       "              ('the', 0),\n",
       "              ('to', 0),\n",
       "              ('would', 0)]),\n",
       " OrderedDict([(',', 0),\n",
       "              ('.', 0.05555555555555555),\n",
       "              ('and', 0),\n",
       "              ('as', 0.1111111111111111),\n",
       "              ('faster', 0),\n",
       "              ('get', 0),\n",
       "              ('got', 0),\n",
       "              ('hairy', 0.05555555555555555),\n",
       "              ('harry', 0.05555555555555555),\n",
       "              ('home', 0),\n",
       "              ('is', 0.05555555555555555),\n",
       "              ('jill', 0.05555555555555555),\n",
       "              ('not', 0.05555555555555555),\n",
       "              ('store', 0),\n",
       "              ('than', 0),\n",
       "              ('the', 0),\n",
       "              ('to', 0),\n",
       "              ('would', 0)])]"
      ]
     },
     "execution_count": 11,
     "metadata": {},
     "output_type": "execute_result"
    }
   ],
   "source": [
    "import copy\n",
    "\n",
    "doc_vectors = []\n",
    "for doc in docs:\n",
    "    vec = copy.copy(zero_vector) # 벡터를 복사해 독립적인 벡터 생성.\n",
    "    tokens = tokenizer.tokenize(doc.lower())\n",
    "    token_counts = Counter(tokens)\n",
    "    for key, value in token_counts.items():\n",
    "        vec[key] = value / len(lexicon)\n",
    "    doc_vectors.append(vec)\n",
    "doc_vectors"
   ]
  },
  {
   "cell_type": "markdown",
   "metadata": {},
   "source": [
    "    이 벡터들을 어떻게 활용할 수 있을까?\n",
    "    코사인 유사도를 통해 문서 간 유사도 측정을 할 수 있을 것.\n",
    "    다른말로, 벡터에 적용되는 여러 수학 연산을 사용할 수 있음."
   ]
  },
  {
   "cell_type": "markdown",
   "metadata": {},
   "source": [
    "## Vector Space\n",
    "\n",
    "<br>\n",
    "\n",
    "- **벡터**는 **순서 있는 수치 목록**. 수치들은 벡터 공간에서 벡터의 위치를 말해주는 **좌표성분**으로 볼 수 있음.\n",
    "    - **하나의 벡터는 공간의 한 장소(위치)를 나타냄**.\n",
    "    - or, 벡터로 방향이나 속력, 두 위치사이의 거리를 나타낼 수도 있음.\n",
    "- **벡터공간**은 그 **공간 안에 나타날 수 있는 모든 가능한 벡터의 집합**.\n",
    "    - **벡터의 성분 갯수는 해당 벡터 공간의 차원 수**.\n",
    "    - 성분이 2개인 벡터는 2차원 벡터 공간에 놓이고, 3개인 벡터는 3차원 벡터 공간에 놓인다.\n",
    "- 여기서 다룰 벡터공간은 *공간의 모든 축이 직선이고 서로 직교하는 유클리드 공간*에 존재.\n",
    "\n",
    "<br>\n",
    "\n",
    "- 자연어 문서에서 **벡터 공간의 차원 수**는 **전체 말뭉치에 등장하는 고유한 단어들의 개수**.\n",
    "    - TF 벡터나 TF-IDF 벡터를 다룰 땐 이 **고유 단어 수를 대문자 $K$**로 표현.\n",
    "    - 고유 단어 수는 말뭉치의 어휘(vocabulary)크기이기도 하므로, $|V|$로 표현하기도 함.\n",
    "- 정리하면, **말뭉치의 모든 문서는 $K$차원 벡터 공간의 $K$차원 벡터들로 표현된다.**\n",
    "    - 앞서 봤던 Harry 문서의 경우는 $K=18$.\n",
    "\n",
    "<br>\n",
    "\n",
    "- 문서를 하나의 공간을 기준으로 한 벡터로 표현하면 문서들의 유사도를 수치로 계산할 수 있음.\n",
    "- 두 벡터간의 거리는 한 벡터의 머리에서 다른 벡터의 머리까지의 거리. 이를 2-norm 거리라고 함.\n",
    "- 하지만 **단어 출현 횟수 벡터(TF 벡터)들은 이런식으로 거리를 측정하면 안됨.**\n",
    "\n",
    "<br>\n",
    "\n",
    "- 서로 가까운 (거리가 짧은) 두 벡터는 서로 비슷하다 고 할 수 있고, ***두 문서의 벡터 표현들이 비슷하면 두 문서는 서로 비슷하다고 볼 수 있음***.\n",
    "- 하지만 벡터 거리 정의에 따르면, **벡터가 가르키는 방향이 비슷할수록, 두 벡터의 길이가 비슷할수록 두 벡터의 거리가 줄어듦.**\n",
    "    - *비슷한 길이의 두 문서에서 얻은 TF벡터들은 길이가 비슷할 것이며, 두 벡터간 거리가 짧게 나옴.*\n",
    "    - 뭐가 문제냐? **두 문서의 길이가 같다고 해서 두 문서가 비슷한건 아님.**\n",
    "    - 그럼? **비슷한 단어들을 비슷한 빈도로 사용했는지를 측정**하는 것이 더 바람직. \n",
    "    - 여기서 필요한게? **각도 $\\theta$**. ***이를 이용해 유사도를 측정***할 수 있음. 이것이 바로 **코사인 유사도**.\n",
    "    \n",
    "    \\begin{aligned}\n",
    "    A \\cdot B &= |A| |B| * \\cos(\\theta) \\\\\n",
    "    \\cos(\\theta) &= \\frac{A \\cdot B}{|A| |B|} \\\\\n",
    "    \\end{aligned}\n",
    "    \n",
    "- 유사도의 범위는 -1 ~ +1 까지."
   ]
  },
  {
   "cell_type": "markdown",
   "metadata": {},
   "source": [
    "    코사인 유사도를 계산하는 함수를 만들어서 써보자.\n",
    "    (나중에 패키지로 쓰지만, 원리는 알고 넘어가보자.)"
   ]
  },
  {
   "cell_type": "code",
   "execution_count": 12,
   "metadata": {
    "ExecuteTime": {
     "end_time": "2021-08-13T01:38:00.259665Z",
     "start_time": "2021-08-13T01:38:00.239710Z"
    }
   },
   "outputs": [],
   "source": [
    "import math\n",
    "\n",
    "def cosine_sim(vec1, vec2):\n",
    "    vec1 = [val for val in vec1.values()]\n",
    "    vec2 = [val for val in vec2.values()]\n",
    "    dot_prod = 0\n",
    "    \n",
    "    # 내적 계산\n",
    "    for i, v in enumerate(vec1):\n",
    "        dot_prod += v * vec2[i]\n",
    "    # 노름 계산\n",
    "    mag_1 = math.sqrt(sum([x**2 for x in vec1]))\n",
    "    mag_2 = math.sqrt(sum([x**2 for x in vec2]))\n",
    "    \n",
    "    # 유사도 계산\n",
    "    return dot_prod / (mag_1 * mag_2)"
   ]
  },
  {
   "cell_type": "markdown",
   "metadata": {},
   "source": [
    "- 두 벡터의 내적은 더 짧은 벡터를 긴 벡터에 수직으로 투영해 나온 벡터의 길이이기도 함.\n",
    "    - 벡터가 같은 방향을 가리킬수록 내적값은 큰 양수, 반대일수록 큰 음수값.\n",
    "    - **코사인 유사도는 이런 내적을 길이에 맞게 정규화 한 것.**\n",
    "        - **유사도가 1**이라는 의미는 **두 벡터가 모든 차원에서 완전히 같은방향**을 가르킨다는 의미.\n",
    "        - **유사도가 0**이라는 의미는 **두 벡터에 공통점이 없다**는 의미. **모든 차원에서 수직**.\n",
    "            - NLP의 경우 **두 문서에 공통으로 출현하는 단어가 하나도 없으면 해당 TF벡터가 0**이 됨.\n",
    "            - 그러면 **두 문서는 주제나 내용이 상당히 다를 가능성이 큼.**\n",
    "        - **유사도가 -1**이라는 의미는 **두 벡터가 완전히 다른 방향**. 두 벡터중 하나가 다른 사분면에 있는 경우.\n",
    "            - 근데 ***TF벡터들은 같은 사분면에 있으므로 이런 일(음수값이 나오는 현상)은 안생김.***"
   ]
  },
  {
   "attachments": {
    "image.png": {
     "image/png": "[encoded data removed]"
    }
   },
   "cell_type": "markdown",
   "metadata": {},
   "source": [
    "# Zipf's Law (지프의 법칙)\n",
    "\n",
    "<br>\n",
    "\n",
    "- **단어의 출현 횟수**는 통계학에서 다루는 **빈도**에 해당.\n",
    "- **지프의 법칙?** 수학적 통계를 바탕으로 밝혀진 경험적 법칙. 물리 및 사회 과학 분야에서 연구된 많은 종류의 정보들이 지프 분포에 가까운 경향을 보인다는 것을 의미.\n",
    "\n",
    "> 어떤 **자연어 말뭉치 표현에 나타나는 단어**들을 그 **사용 빈도가 높은 순서대로 나열**했을 때,  <br> \n",
    "> **모든 단어의 사용 빈도는 해당 단어의 순위에 반비례** 한다.\n",
    "\n",
    "- *빈도순으로 1위인 단어는 2위인 단어보다 2배 더 자주쓰이고, 3위인 단어보다 3배 더 자주쓰인다.*\n",
    "- 말뭉치나 문서의 단어 빈도와 빈도순 단어 순위를 그래프로 그려보면 **순위-빈도 쌍들이 아래로 구부러진 반비례 곡선을 따라 배치**되어 있음.\n",
    "    - 이 곡선의 두 축에 로그를 취하면 **기울기가 음수인 직선 그래프를 형성**하게 될 것.\n",
    "    - **직선에서 크게 벗어난 순위-빈도쌍은 이상치**. 조사해볼 만한 가치가 있을 것.\n",
    "\n",
    "![image.png](attachment:image.png)\n",
    "\n",
    "- NLTK의 브라운 말뭉치(Brown Corpus)를 이용해 직접 시험해보자."
   ]
  },
  {
   "cell_type": "code",
   "execution_count": 13,
   "metadata": {
    "ExecuteTime": {
     "end_time": "2021-08-13T01:38:11.465064Z",
     "start_time": "2021-08-13T01:38:03.992673Z"
    }
   },
   "outputs": [
    {
     "name": "stderr",
     "output_type": "stream",
     "text": [
      "[nltk_data] Downloading package brown to C:\\Users\\Cheol Hee\n",
      "[nltk_data]     Kim\\AppData\\Roaming\\nltk_data...\n",
      "[nltk_data]   Unzipping corpora\\brown.zip.\n"
     ]
    },
    {
     "data": {
      "text/plain": [
       "(['The',\n",
       "  'Fulton',\n",
       "  'County',\n",
       "  'Grand',\n",
       "  'Jury',\n",
       "  'said',\n",
       "  'Friday',\n",
       "  'an',\n",
       "  'investigation',\n",
       "  'of'],\n",
       " 1161192)"
      ]
     },
     "execution_count": 13,
     "metadata": {},
     "output_type": "execute_result"
    }
   ],
   "source": [
    "nltk.download('brown')\n",
    "from nltk.corpus import brown\n",
    "\n",
    "brown.words()[:10], len(brown.words()) # 말뭉치를 토큰화한 결과를 담은 문자열 목록 조회.\n",
    "# 말뭉치 수가 100만개를 넘음. 자주 쓰이는 것만 뽑아보자."
   ]
  },
  {
   "cell_type": "code",
   "execution_count": 14,
   "metadata": {
    "ExecuteTime": {
     "end_time": "2021-08-13T01:38:45.389051Z",
     "start_time": "2021-08-13T01:38:41.775600Z"
    }
   },
   "outputs": [
    {
     "data": {
      "text/plain": [
       "[('the', 69971),\n",
       " ('of', 36412),\n",
       " ('and', 28853),\n",
       " ('to', 26158),\n",
       " ('a', 23195),\n",
       " ('in', 21337),\n",
       " ('that', 10594),\n",
       " ('is', 10109),\n",
       " ('was', 9815),\n",
       " ('he', 9548),\n",
       " ('for', 9489),\n",
       " ('it', 8760),\n",
       " ('with', 7289),\n",
       " ('as', 7253),\n",
       " ('his', 6996),\n",
       " ('on', 6741),\n",
       " ('be', 6377),\n",
       " ('at', 5372),\n",
       " ('by', 5306),\n",
       " ('i', 5164)]"
      ]
     },
     "execution_count": 14,
     "metadata": {},
     "output_type": "execute_result"
    }
   ],
   "source": [
    "from collections import Counter\n",
    "\n",
    "puncs = set((',', '.', '--', '-', '!', '?', ':', ';', '``', \"''\", '(', ')', '[', ']'))\n",
    "word_list = (x.lower() for x in brown.words() if x not in puncs)\n",
    "token_counts = Counter(word_list)\n",
    "token_counts.most_common(20)"
   ]
  },
  {
   "cell_type": "markdown",
   "metadata": {},
   "source": [
    "    1위인 the는 of 보다 약 2배 자주 쓰이고, 3위인 and 보다 약 3배 자주 쓰였음.\n",
    "    순위와 빈도가 대략 반비례 관계임을 알 수 있다."
   ]
  },
  {
   "cell_type": "markdown",
   "metadata": {},
   "source": [
    "# Topic Modeling (주제 모형화)\n",
    "\n",
    "<br>\n",
    "\n",
    "- 단어 출현 횟수 TF가 유용하긴 하지만, ***그 자체로는 문서 안에서 단어의 중요도, 다른 문서들에 대한 상대적 중요도를 가늠하기 어려움.***\n",
    "- 말뭉치에 대한 **한 문서 안에서의 단어의 상대적 중요도를 파악하면 주어진 문서의 말뭉치 안에서의 특징을 서술할 수 있음.**\n",
    "    - 연에 관한 모든 영어 서적으로 이뤄진 말뭉치를 생각해보자.\n",
    "    - 말뭉치의 모든 문서에 kite라는 단어가 등장할 것. kite는 이들을 구분하는데 아무런 도움이 X.\n",
    "    - 하지만 *construction, aerodynamics같은 단어는 일부 책들에만 등장*할 것이고,\n",
    "    - *그런 단어가 자주 등장하는 문서와 그렇지 않은 문서는 뭔가 다를 것*이다.\n",
    "- 이런 고찰을 반영하려면 단순한 단어 출현 횟수 TF만으론 부족.\n",
    "- 이럴때 필요한게 **역문서 빈도 IDF**.\n",
    "    - ***지프의 법칙을 주제 분석에 적용***하는 수단.\n",
    "- kite_history를 추가한 예제를 한번 보자."
   ]
  },
  {
   "cell_type": "code",
   "execution_count": 15,
   "metadata": {
    "ExecuteTime": {
     "end_time": "2021-08-13T01:38:50.086475Z",
     "start_time": "2021-08-13T01:38:50.055541Z"
    }
   },
   "outputs": [
    {
     "data": {
      "text/plain": [
       "(363, 297)"
      ]
     },
     "execution_count": 15,
     "metadata": {},
     "output_type": "execute_result"
    }
   ],
   "source": [
    "from nlpia.data.loaders import kite_text, kite_history\n",
    "\n",
    "kite_intro = kite_text.lower()\n",
    "intro_tokens = tokenizer.tokenize(kite_intro)\n",
    "kite_history = kite_history.lower()\n",
    "history_tokens = tokenizer.tokenize(kite_history)\n",
    "\n",
    "intro_total = len(intro_tokens)\n",
    "history_total = len(history_tokens)\n",
    "\n",
    "intro_total, history_total"
   ]
  },
  {
   "cell_type": "markdown",
   "metadata": {},
   "source": [
    "    각 문서에서 kite가 몇번이나 출현하는지 세보자."
   ]
  },
  {
   "cell_type": "code",
   "execution_count": 16,
   "metadata": {
    "ExecuteTime": {
     "end_time": "2021-08-13T01:38:52.616667Z",
     "start_time": "2021-08-13T01:38:52.599722Z"
    }
   },
   "outputs": [
    {
     "name": "stdout",
     "output_type": "stream",
     "text": [
      "intro에서의 kite의 Term Frequency는 : 0.0441\n",
      "history에서의 kite의 Term Frequency는 : 0.0202\n"
     ]
    }
   ],
   "source": [
    "intro_tf, history_tf = {}, {}\n",
    "\n",
    "intro_counts = Counter(intro_tokens)\n",
    "intro_tf['kite'] = intro_counts['kite'] / intro_total\n",
    "history_counts = Counter(history_tokens)\n",
    "history_tf['kite'] = history_counts['kite'] / history_total\n",
    "\n",
    "print('intro에서의 kite의 Term Frequency는 : {:.4f}'.format(intro_tf['kite']))\n",
    "print('history에서의 kite의 Term Frequency는 : {:.4f}'.format(history_tf['kite']))"
   ]
  },
  {
   "cell_type": "markdown",
   "metadata": {},
   "source": [
    "     두 문서의 출현수는 약 두배 차이.\n",
    "     그렇다고 intro 문서가 history 문서보다 연에 관한 내용이 2배인 것은 아님.\n",
    "     \n",
    "     and는 몇번나오는지도 한번 봐보자."
   ]
  },
  {
   "cell_type": "code",
   "execution_count": 17,
   "metadata": {
    "ExecuteTime": {
     "end_time": "2021-08-13T01:38:54.769527Z",
     "start_time": "2021-08-13T01:38:54.751575Z"
    }
   },
   "outputs": [
    {
     "name": "stdout",
     "output_type": "stream",
     "text": [
      "intro에서의 and의 Term Frequency는 : 0.0275\n",
      "history에서의 and의 Term Frequency는 : 0.0303\n"
     ]
    }
   ],
   "source": [
    "intro_tf['and'] = intro_counts['and'] / intro_total\n",
    "history_tf['and'] = history_counts['and'] / history_total\n",
    "print('intro에서의 and의 Term Frequency는 : {:.4f}'.format(intro_tf['and']))\n",
    "print('history에서의 and의 Term Frequency는 : {:.4f}'.format(history_tf['and']))"
   ]
  },
  {
   "cell_type": "markdown",
   "metadata": {},
   "source": [
    "    두 문서 모두 and가 kite만큼이나 자주 등장함. \n",
    "    그렇다고 and가 kite만큼 중요한 단어는 아님.\n",
    "    \n",
    "    주어진 단어가 문서에서 얼마나 중요한지 보기 위해선 IDF가 필요하다."
   ]
  },
  {
   "cell_type": "markdown",
   "metadata": {},
   "source": [
    "- 다음 관점에서 생각해보자.\n",
    "- **이 토큰이 이 문서에 등장한다는 것이 얼마나 이상한 일 일까?**\n",
    "    - 만일 어떤 용어가 이상하게도 **한 문서에만 나오고, 다른 문서들에는 거의 안나온다면**\n",
    "    - **그 용어는 그 문서에 있어서 아주 중요한 단어일 것.**\n",
    "    - 즉, **그 용어는 주제를 말해주는 단어**일 수도 있다.\n",
    "- 이것이 주제 분석의 첫 걸음.\n",
    "\n",
    "<br>\n",
    "\n",
    "- 한 용어의 IDF는 **전체 문서 수를 그 용어가 출현한 문서 수로 나눈 것.**\n",
    "- IDF라는 **희소성 측도**를 **용어 빈도들에 대한 가중치로 적용**해 볼 수 있다."
   ]
  },
  {
   "cell_type": "code",
   "execution_count": 18,
   "metadata": {
    "ExecuteTime": {
     "end_time": "2021-08-13T01:38:57.719485Z",
     "start_time": "2021-08-13T01:38:57.687606Z"
    }
   },
   "outputs": [
    {
     "data": {
      "text/plain": [
       "({'and': 0.027548209366391185, 'kite': 0.0440771349862259, 'china': 0.0},\n",
       " {'and': 0.030303030303030304,\n",
       "  'kite': 0.020202020202020204,\n",
       "  'china': 0.020202020202020204})"
      ]
     },
     "execution_count": 18,
     "metadata": {},
     "output_type": "execute_result"
    }
   ],
   "source": [
    "num_docs_containing_and = 0\n",
    "num_docs_containing_kite = 0\n",
    "num_docs_containing_china = 0\n",
    "for doc in [intro_tokens, history_tokens]:\n",
    "    if 'and' in doc:\n",
    "        num_docs_containing_and += 1\n",
    "    if 'kite' in doc:\n",
    "        num_docs_containing_kite += 1\n",
    "    if 'china' in doc:\n",
    "        num_docs_containing_china += 1\n",
    "        \n",
    "# china의 TF 계산\n",
    "intro_tf['china'] = intro_counts['china'] / intro_total\n",
    "history_tf['china'] = history_counts['china'] / history_total\n",
    "\n",
    "# 세 단어의 IDF 계산.\n",
    "num_docs = 2\n",
    "intro_idf, history_idf = {}, {}\n",
    "intro_idf['and'] = num_docs / num_docs_containing_and\n",
    "history_idf['and'] = num_docs / num_docs_containing_and\n",
    "intro_idf['kite'] = num_docs / num_docs_containing_kite\n",
    "history_idf['kite'] = num_docs / num_docs_containing_kite\n",
    "intro_idf['china'] = num_docs / num_docs_containing_china\n",
    "history_idf['china'] = num_docs / num_docs_containing_china\n",
    "\n",
    "# 각 단어의 TF에 IDF라는 가중치를 곱해 TF-IDF 점수 계산.\n",
    "intro_tfidf = {}\n",
    "intro_tfidf['and'] = intro_tf['and'] * intro_idf['and']\n",
    "intro_tfidf['kite'] = intro_tf['kite'] * intro_idf['kite']\n",
    "intro_tfidf['china'] = intro_tf['china'] * intro_idf['china']\n",
    "\n",
    "history_tfidf = {}\n",
    "history_tfidf['and'] = history_tf['and'] * history_idf['and']\n",
    "history_tfidf['kite'] = history_tf['kite'] * history_idf['kite']\n",
    "history_tfidf['china'] = history_tf['china'] * history_idf['china']\n",
    "\n",
    "intro_tfidf, history_tfidf"
   ]
  },
  {
   "cell_type": "markdown",
   "metadata": {},
   "source": [
    "## Another example (Zipf 재이해)\n",
    "\n",
    "<br>\n",
    "\n",
    "- 문서 100만건으로 이뤄진 말뭉치에서 누군가가 cat이라는 단어로 검색했고, 그중 cat이 있는 문서가 단 한개.\n",
    "    - cat의 IDF는 1,000,000 / 1 = 1,000,000 이 된다.\n",
    "    - dog이라는 단어가 있는 문서가 10건이면 dog의 IDF는 1,000,000 / 10 = 100,000 이 된다. \n",
    "- 지프의 법칙에 따르면 **두 단어의 순위가 멀수록 그 빈도의 차이는 지수적으로 커진다.**\n",
    "- 즉, ***말뭉치가 크다면 두 단어의 출현 횟수 차이가 그리 크지 않더라도 IDF의 차이는 아주 클 수있다.***\n",
    "- IDF에 **로그**를 씌우게 되면 두 용어의 IDF를 비교하기 좋을 뿐만 아니라, 전체적인 TF-IDF 점수들이 고르게 분포된다.\n",
    "\n",
    "<br>\n",
    "\n",
    "- 그러므로 IDF가 그냥 전체 문서 수 대 단어 출현 문서 수의 비율 (확률)이 아닌, 그 비율의 log라고 정의해보자.\n",
    "- 상용 로그를 취하게 되면 다음과 같은 수치가 나온다.\n",
    "\n",
    "    \\begin{align}\n",
    "    IDF(cat) = \\log(1000000  /  1) = 6 \\\\\n",
    "    IDF(dog) = \\log(1000000  /  10) = 5 \\\\\n",
    "    \\end{align}\n",
    "\n",
    "<br>\n",
    "\n",
    "- 주어진 말뭉치 D의 임의의 문서 d와 임의의 단어 t에 대한 TF, IDF, TF-IDF 점수의 정의는 다음과 같다.\n",
    "    \n",
    "    \\begin{aligned}\n",
    "    TF(t, d)& = \\frac{count(t)}{count(d)} \\\\\n",
    "    IDF(t, D)& = \\log(\\frac{전체 문서 수}{t가 나오는 문서 수}) \\\\\n",
    "    TFIDF(t, d, D)& = TF(t, d) * IDF(t, D) \\\\\n",
    "    \\end{aligned}\n",
    " \n",
    " <br>\n",
    " \n",
    "- 첫 공식에 따르면, **한 단어가 문서에 자주 나올수록 그 단어의 TF가 올라감.** (TF-IDF도 올라감)\n",
    "- 두번째 공식에 따르면, **그 단어를 포함한 문서가 많을수록 그 단어의 IDF가 내려감.** (TF-IDF도 내려감)\n",
    "- **그 둘을 곱하면 TF-IDF 점수**가 나옴. 이는 어떤 수치일까?\n",
    "    - **특정 단어 또는 토큰을 특정 말뭉치의 특정 문서에 연관시키는 측도.**\n",
    "    - **주어진 문서에서 그 단어가 얼마나 중요한지를 말뭉치 전체에서의 그 단어의 사용 빈도에 기초해서 추정한 값.**\n",
    "    \n",
    "<br>\n",
    "\n",
    "- 간단한 검색엔진들은 TF-IDF 수치에 기초해 작동한다."
   ]
  },
  {
   "cell_type": "markdown",
   "metadata": {},
   "source": [
    "## 관련성 순위\n",
    "\n",
    "<br>\n",
    "\n",
    "- 두 벡터를 비교해 유사도를 측정하는건 어려운 일이 X. \n",
    "- 하지만 단순한 단어의 출현 횟수는 문서를 제대로 표현해주지 못함. 이를 위해 사용한것이 **TF-IDF**.\n",
    "    - 하나의 문서를 표현하는 벡터는 출현 횟수가 아닌 각 단어의 TF-IDF로 이뤄진 벡터.\n",
    "- Harry 말뭉치에 대한 문서 표현 벡터를 얻어보자.\n"
   ]
  },
  {
   "cell_type": "code",
   "execution_count": 28,
   "metadata": {
    "ExecuteTime": {
     "end_time": "2021-08-13T02:06:59.470598Z",
     "start_time": "2021-08-13T02:06:59.453677Z"
    }
   },
   "outputs": [],
   "source": [
    "document_tfidf_vectors = []\n",
    "for doc in docs:\n",
    "    vec = copy.copy(zero_vector)\n",
    "    tokens = tokenizer.tokenize(doc.lower())\n",
    "    token_counts = Counter(tokens) \n",
    "    \n",
    "    # 토큰에서 k, v 쌍을 찾아 tf, idf 계산\n",
    "    for key, value in token_counts.items():\n",
    "        docs_containing_key = 0\n",
    "        for _doc in docs:\n",
    "            if key in _doc:\n",
    "                docs_containing_key += 1\n",
    "        tf = value / len(lexicon)\n",
    "        if docs_containing_key:\n",
    "            idf = len(docs) / docs_containing_key\n",
    "        else:\n",
    "            idf = 0\n",
    "        vec[key] = tf * idf\n",
    "        \n",
    "    document_tfidf_vectors.append(vec)"
   ]
  },
  {
   "cell_type": "code",
   "execution_count": 29,
   "metadata": {
    "ExecuteTime": {
     "end_time": "2021-08-13T02:07:06.385556Z",
     "start_time": "2021-08-13T02:07:06.365610Z"
    }
   },
   "outputs": [
    {
     "data": {
      "text/plain": [
       "[OrderedDict([(',', 0.5),\n",
       "              ('.', 0.05555555555555555),\n",
       "              ('and', 0),\n",
       "              ('as', 0),\n",
       "              ('faster', 0.25),\n",
       "              ('get', 0.16666666666666666),\n",
       "              ('got', 0.16666666666666666),\n",
       "              ('hairy', 0),\n",
       "              ('harry', 0.0),\n",
       "              ('home', 0.16666666666666666),\n",
       "              ('is', 0),\n",
       "              ('jill', 0),\n",
       "              ('not', 0),\n",
       "              ('store', 0.16666666666666666),\n",
       "              ('than', 0),\n",
       "              ('the', 0.6666666666666666),\n",
       "              ('to', 0.16666666666666666),\n",
       "              ('would', 0.16666666666666666)]),\n",
       " OrderedDict([(',', 0),\n",
       "              ('.', 0.05555555555555555),\n",
       "              ('and', 0.16666666666666666),\n",
       "              ('as', 0),\n",
       "              ('faster', 0.08333333333333333),\n",
       "              ('get', 0),\n",
       "              ('got', 0),\n",
       "              ('hairy', 0.08333333333333333),\n",
       "              ('harry', 0.0),\n",
       "              ('home', 0),\n",
       "              ('is', 0.08333333333333333),\n",
       "              ('jill', 0.0),\n",
       "              ('not', 0),\n",
       "              ('store', 0),\n",
       "              ('than', 0.16666666666666666),\n",
       "              ('the', 0),\n",
       "              ('to', 0),\n",
       "              ('would', 0)])]"
      ]
     },
     "execution_count": 29,
     "metadata": {},
     "output_type": "execute_result"
    }
   ],
   "source": [
    "document_tfidf_vectors[:2]"
   ]
  },
  {
   "attachments": {
    "image.png": {
     "image/png": "[encoded data removed]"
    }
   },
   "cell_type": "markdown",
   "metadata": {},
   "source": [
    "- document_tfidf_vectors엔 말뭉치의 각 문서를 표현하는 K차원 벡터가 담겨있음.\n",
    "- 간단한 검색을 해보자. 한 Vector space의 **두 벡터가 얼마나 비슷한지** 추정? **둘의 방향을 보는 것.**\n",
    "    - 방향이 비슷한 두 벡터는 둘 사이 각도가 작음. 코사인 유사도가 1에 가깝다. (그림 참고)\n",
    "\n",
    "![image.png](attachment:image.png)\n",
    "\n",
    "- **TF-IDF 값과 코사인 유사도**가 있으면 간단한 문서 검색이 가능.\n",
    "    - **질의 문구 자체를 하나의 문서로 간주**, 그 문구의 **TF-IDF문서 표현 벡터 계산**,\n",
    "    - 말뭉치의 문서 표현 벡터 중 **검색 질의 문서 표현 벡터와의 코사인 유사도가 큰 것들을 찾아 순서대로 제시**.\n",
    "- How long does it take to get to the store? 라는 문구로 검색해보자."
   ]
  },
  {
   "cell_type": "code",
   "execution_count": 30,
   "metadata": {
    "ExecuteTime": {
     "end_time": "2021-08-13T02:07:18.481538Z",
     "start_time": "2021-08-13T02:07:18.461627Z"
    }
   },
   "outputs": [],
   "source": [
    "query = \"How long does it take to get to the store?\"\n",
    "query_vec = copy.copy(zero_vector)\n",
    "query_vec = copy.copy(zero_vector)\n",
    "\n",
    "tokens = tokenizer.tokenize(query.lower()) # 쿼리 토큰화\n",
    "token_counts = Counter(tokens)\n",
    "\n",
    "for key, value in token_counts.items():\n",
    "    docs_containing_key = 0\n",
    "    for _doc in docs:\n",
    "        if key in _doc.lower():\n",
    "            docs_containing_key += 1\n",
    "    # 만약 어휘집에 없는 토큰이면 넘어간다.\n",
    "    if docs_containing_key == 0:\n",
    "        continue\n",
    "    tf = value / len(tokens)\n",
    "    idf = len(docs) / docs_containing_key\n",
    "    query_vec[key] = tf * idf"
   ]
  },
  {
   "cell_type": "code",
   "execution_count": 31,
   "metadata": {
    "ExecuteTime": {
     "end_time": "2021-08-13T02:07:19.903539Z",
     "start_time": "2021-08-13T02:07:19.877585Z"
    }
   },
   "outputs": [
    {
     "data": {
      "text/plain": [
       "OrderedDict([(',', 0),\n",
       "             ('.', 0),\n",
       "             ('and', 0),\n",
       "             ('as', 0),\n",
       "             ('faster', 0),\n",
       "             ('get', 0.2727272727272727),\n",
       "             ('got', 0),\n",
       "             ('hairy', 0),\n",
       "             ('harry', 0),\n",
       "             ('home', 0),\n",
       "             ('is', 0),\n",
       "             ('jill', 0),\n",
       "             ('not', 0),\n",
       "             ('store', 0.2727272727272727),\n",
       "             ('than', 0),\n",
       "             ('the', 0.2727272727272727),\n",
       "             ('to', 0.5454545454545454),\n",
       "             ('would', 0)])"
      ]
     },
     "execution_count": 31,
     "metadata": {},
     "output_type": "execute_result"
    }
   ],
   "source": [
    "query_vec"
   ]
  },
  {
   "cell_type": "code",
   "execution_count": 35,
   "metadata": {
    "ExecuteTime": {
     "end_time": "2021-08-13T02:07:36.764541Z",
     "start_time": "2021-08-13T02:07:36.742590Z"
    }
   },
   "outputs": [
    {
     "data": {
      "text/plain": [
       "(0.5235048549676834, 0.0, 0.0)"
      ]
     },
     "execution_count": 35,
     "metadata": {},
     "output_type": "execute_result"
    }
   ],
   "source": [
    "cosine_sim(query_vec, document_tfidf_vectors[0]), cosine_sim(query_vec, document_tfidf_vectors[1]), cosine_sim(query_vec, document_tfidf_vectors[2])"
   ]
  },
  {
   "cell_type": "markdown",
   "metadata": {},
   "source": [
    "- 과정을 살펴보면 다음과 같다.\n",
    "    1. 입력받은 **질의 문구 tokenize** 및 Counter를 통한 Dict화.\n",
    "    2. for loop을 통해 어휘집에 있는 토큰이면 doc_containing_key를 ++, 없는 토큰이면 pass.\n",
    "        - zero-divide를 피하기 위해 pass 했음.\n",
    "        - 더 나은 방법? **IDF 계산 시 항상 분모에 +1**을 하는 것. **가산적 평활화 (additive smoothing)** 또는 **라플라스 평활화 (Laplace smoothing)**라고 함.\n",
    "    3. 해당 값을 통해 **tf, idf값 계산** 후 질의 문구에 나온 key(토큰)들에 대해 TF-IDF값 계산.\n",
    "    4. 앞서 정의한 코사인 유사도 함수를 통해 **질의 문서와 기존 문서의 유사도 측정.**\n",
    "- 첫 번째 문서 (The faster Harry got to the store, the faster Harry, the faster, would get home.) 가 질의문구 (How long does it take to get to the store?)와 연관이 있어보인다고 함.\n",
    "- 어떤 종류의 말뭉치라도 이런식으로 관련 문서 검색을 수행할 수 있음.\n",
    "\n",
    "<br>\n",
    "\n",
    "- 이는 현재 선형검색. \n",
    "    - 말뭉치의 모든 문서표현 벡터를 일일이 훑고, 가장 관련성이 큰 문서를 찾음.\n",
    "    - 시간 복잡도 $O(N)$.\n",
    "- 대부분의 검색 엔진은 상수 시간 $O(1)$로 검색 수행.\n",
    "    - How? **역색인(inverted index)** 덕분.\n",
    "    - Whoosh 라는 패키지를 통해 역색인 구현 가능. 참고해보세용.\n",
    "https://cloudingdata.tistory.com/45 (Inverted Index 간략설명)\n",
    "https://www.elastic.co/guide/en/elasticsearch/guide/current/inverted-index.html"
   ]
  },
  {
   "cell_type": "markdown",
   "metadata": {},
   "source": [
    "## scikit-learn\n",
    "\n",
    "<br>\n",
    "\n",
    "- scikit-learn 패키지를 사용하면 앞에서 했던 작업들을 편하게 할 수있음.\n",
    "- 이를 써서 TF-IDF 행렬 만들어보자."
   ]
  },
  {
   "cell_type": "code",
   "execution_count": 38,
   "metadata": {
    "ExecuteTime": {
     "end_time": "2021-08-13T02:24:08.098004Z",
     "start_time": "2021-08-13T02:24:08.067870Z"
    }
   },
   "outputs": [
    {
     "data": {
      "text/plain": [
       "array([[0.  , 0.  , 0.43, 0.19, 0.19, 0.  , 0.22, 0.19, 0.  , 0.  , 0.  ,\n",
       "        0.19, 0.  , 0.75, 0.19, 0.19],\n",
       "       [0.46, 0.  , 0.35, 0.  , 0.  , 0.35, 0.27, 0.  , 0.35, 0.35, 0.  ,\n",
       "        0.  , 0.46, 0.  , 0.  , 0.  ],\n",
       "       [0.  , 0.75, 0.  , 0.  , 0.  , 0.29, 0.22, 0.  , 0.29, 0.29, 0.38,\n",
       "        0.  , 0.  , 0.  , 0.  , 0.  ]])"
      ]
     },
     "execution_count": 38,
     "metadata": {},
     "output_type": "execute_result"
    }
   ],
   "source": [
    "from sklearn.feature_extraction.text import TfidfVectorizer\n",
    "\n",
    "corpus = docs\n",
    "vectorizer = TfidfVectorizer(min_df=1)\n",
    "model = vectorizer.fit_transform(corpus) # TfidfVectorizer는 sparse ndarray를 return함.\n",
    "model.todense().round(2) # todense()를 통해 sparse matrix를 보통의 ndarray로 바꿈."
   ]
  },
  {
   "cell_type": "markdown",
   "metadata": {},
   "source": [
    "    단 4줄의 코드로 말뭉치의 각 문서와 어휘의 각 용어에 대한 TF-IDF 행렬을 만들었음.\n",
    "    각 row는 말뭉치의 각 문서에 대한 용어의 TF-IDF 수치로 구성."
   ]
  },
  {
   "cell_type": "code",
   "execution_count": 46,
   "metadata": {
    "ExecuteTime": {
     "end_time": "2021-08-13T02:34:30.181705Z",
     "start_time": "2021-08-13T02:34:30.139744Z"
    }
   },
   "outputs": [
    {
     "name": "stdout",
     "output_type": "stream",
     "text": [
      "['The faster Harry got to the store, the faster Harry, the faster, would get home.', 'Harry is hairy and faster than Jill.', 'Jill is not as hairy as Harry.']\n"
     ]
    },
    {
     "data": {
      "text/html": [
       "<div>\n",
       "<style scoped>\n",
       "    .dataframe tbody tr th:only-of-type {\n",
       "        vertical-align: middle;\n",
       "    }\n",
       "\n",
       "    .dataframe tbody tr th {\n",
       "        vertical-align: top;\n",
       "    }\n",
       "\n",
       "    .dataframe thead th {\n",
       "        text-align: right;\n",
       "    }\n",
       "</style>\n",
       "<table border=\"1\" class=\"dataframe\">\n",
       "  <thead>\n",
       "    <tr style=\"text-align: right;\">\n",
       "      <th></th>\n",
       "      <th>and</th>\n",
       "      <th>as</th>\n",
       "      <th>faster</th>\n",
       "      <th>get</th>\n",
       "      <th>got</th>\n",
       "      <th>hairy</th>\n",
       "      <th>harry</th>\n",
       "      <th>home</th>\n",
       "      <th>is</th>\n",
       "      <th>jill</th>\n",
       "      <th>not</th>\n",
       "      <th>store</th>\n",
       "      <th>than</th>\n",
       "      <th>the</th>\n",
       "      <th>to</th>\n",
       "      <th>would</th>\n",
       "    </tr>\n",
       "  </thead>\n",
       "  <tbody>\n",
       "    <tr>\n",
       "      <th>0</th>\n",
       "      <td>0.00</td>\n",
       "      <td>0.00</td>\n",
       "      <td>0.43</td>\n",
       "      <td>0.19</td>\n",
       "      <td>0.19</td>\n",
       "      <td>0.00</td>\n",
       "      <td>0.22</td>\n",
       "      <td>0.19</td>\n",
       "      <td>0.00</td>\n",
       "      <td>0.00</td>\n",
       "      <td>0.00</td>\n",
       "      <td>0.19</td>\n",
       "      <td>0.00</td>\n",
       "      <td>0.75</td>\n",
       "      <td>0.19</td>\n",
       "      <td>0.19</td>\n",
       "    </tr>\n",
       "    <tr>\n",
       "      <th>1</th>\n",
       "      <td>0.46</td>\n",
       "      <td>0.00</td>\n",
       "      <td>0.35</td>\n",
       "      <td>0.00</td>\n",
       "      <td>0.00</td>\n",
       "      <td>0.35</td>\n",
       "      <td>0.27</td>\n",
       "      <td>0.00</td>\n",
       "      <td>0.35</td>\n",
       "      <td>0.35</td>\n",
       "      <td>0.00</td>\n",
       "      <td>0.00</td>\n",
       "      <td>0.46</td>\n",
       "      <td>0.00</td>\n",
       "      <td>0.00</td>\n",
       "      <td>0.00</td>\n",
       "    </tr>\n",
       "    <tr>\n",
       "      <th>2</th>\n",
       "      <td>0.00</td>\n",
       "      <td>0.75</td>\n",
       "      <td>0.00</td>\n",
       "      <td>0.00</td>\n",
       "      <td>0.00</td>\n",
       "      <td>0.29</td>\n",
       "      <td>0.22</td>\n",
       "      <td>0.00</td>\n",
       "      <td>0.29</td>\n",
       "      <td>0.29</td>\n",
       "      <td>0.38</td>\n",
       "      <td>0.00</td>\n",
       "      <td>0.00</td>\n",
       "      <td>0.00</td>\n",
       "      <td>0.00</td>\n",
       "      <td>0.00</td>\n",
       "    </tr>\n",
       "  </tbody>\n",
       "</table>\n",
       "</div>"
      ],
      "text/plain": [
       "    and    as  faster   get   got  hairy  harry  home    is  jill   not  \\\n",
       "0  0.00  0.00    0.43  0.19  0.19   0.00   0.22  0.19  0.00  0.00  0.00   \n",
       "1  0.46  0.00    0.35  0.00  0.00   0.35   0.27  0.00  0.35  0.35  0.00   \n",
       "2  0.00  0.75    0.00  0.00  0.00   0.29   0.22  0.00  0.29  0.29  0.38   \n",
       "\n",
       "   store  than   the    to  would  \n",
       "0   0.19  0.00  0.75  0.19   0.19  \n",
       "1   0.00  0.46  0.00  0.00   0.00  \n",
       "2   0.00  0.00  0.00  0.00   0.00  "
      ]
     },
     "execution_count": 46,
     "metadata": {},
     "output_type": "execute_result"
    }
   ],
   "source": [
    "import pandas as pd\n",
    "\n",
    "sampleDataFrame = pd.DataFrame(model.todense().round(2), columns=vectorizer.get_feature_names())\n",
    "print(docs)\n",
    "sampleDataFrame"
   ]
  },
  {
   "attachments": {
    "image.png": {
     "image/png": "[encoded data removed]"
    }
   },
   "cell_type": "markdown",
   "metadata": {},
   "source": [
    "## TF-IDF Normalizing methods\n",
    "\n",
    "<br>\n",
    "\n",
    "- 참고용으로 보자.\n",
    "\n",
    "![image.png](attachment:image.png)\n",
    "\n",
    "- 검색결과 순위를 매길 때 TF-IDF 코사인 유사도 대신 Okapi BM25를 쓰면 더 좋다고 합니다."
   ]
  },
  {
   "cell_type": "markdown",
   "metadata": {},
   "source": [
    "# 마치며\n",
    "\n",
    "<br>\n",
    "\n",
    "- 유사도의 정규화 or 가중치 적용을 통해 사용자가 원하는것에 좀 더 가까운 검색 결과를 제시해 줄 수 있음.\n",
    "- 파이프라인 첫 단계에서 TF-IDF 벡터들은 텍스트에서 추출하는 가장 기본적인 특징 집합.\n",
    "    - 다음 chapter 04.에서 TF-IDF 벡터들을 통해 주제 벡터를 계산하는 방법을 보자.\n",
    "- TF-IDF 벡터를 아무리 이쁘게 만들어도 주제 벡터보다 단어 모음의 의미를 잘 표현하지 못함.\n",
    "    - chapter 06.에서 word2vec 같은걸 통해 문서의 의미를 주제 벡터보다 더 잘 표현할 수 있음."
   ]
  }
 ],
 "metadata": {
  "kernelspec": {
   "display_name": "'[WorkBase]'",
   "language": "python",
   "name": "workbase"
  },
  "language_info": {
   "codemirror_mode": {
    "name": "ipython",
    "version": 3
   },
   "file_extension": ".py",
   "mimetype": "text/x-python",
   "name": "python",
   "nbconvert_exporter": "python",
   "pygments_lexer": "ipython3",
   "version": "3.8.11"
  },
  "toc": {
   "base_numbering": 1,
   "nav_menu": {},
   "number_sections": true,
   "sideBar": true,
   "skip_h1_title": false,
   "title_cell": "Table of Contents",
   "title_sidebar": "Contents",
   "toc_cell": false,
   "toc_position": {
    "height": "calc(100% - 180px)",
    "left": "10px",
    "top": "150px",
    "width": "259px"
   },
   "toc_section_display": true,
   "toc_window_display": true
  },
  "varInspector": {
   "cols": {
    "lenName": 16,
    "lenType": 16,
    "lenVar": 40
   },
   "kernels_config": {
    "python": {
     "delete_cmd_postfix": "",
     "delete_cmd_prefix": "del ",
     "library": "var_list.py",
     "varRefreshCmd": "print(var_dic_list())"
    },
    "r": {
     "delete_cmd_postfix": ") ",
     "delete_cmd_prefix": "rm(",
     "library": "var_list.r",
     "varRefreshCmd": "cat(var_dic_list()) "
    }
   },
   "oldHeight": 452,
   "position": {
    "height": "40px",
    "left": "1387px",
    "right": "20px",
    "top": "53px",
    "width": "551px"
   },
   "types_to_exclude": [
    "module",
    "function",
    "builtin_function_or_method",
    "instance",
    "_Feature"
   ],
   "varInspector_section_display": "none",
   "window_display": true
  }
 },
 "nbformat": 4,
 "nbformat_minor": 2
}

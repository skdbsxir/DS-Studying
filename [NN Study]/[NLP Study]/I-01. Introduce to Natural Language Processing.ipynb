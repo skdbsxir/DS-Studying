{
 "cells": [
  {
   "cell_type": "markdown",
   "id": "522ce7d3",
   "metadata": {},
   "source": [
    "# Natural Language vs. Programming Language  <br>\n",
    "\n",
    "- **Programming Language** : 컴파일러 or 인터프리터에 의해 번역될 것을 염두에 두고 작성하는 언어.\n",
    "- **Natural Language** : 우리들이 쓰는 언어. 사람들이 정보를 공유하고자 할 때 사용하는 언어. 컴파일러나 인터프리터 X.\n",
    "\n",
    "<br>\n",
    "\n",
    "    NLP : CS, AI의 연구분야. 자연어를 컴퓨터가 배우고 이해할 수 있는 자료로 변환하는 작업.\n",
    "          이를 통해 자연어 문장을 생성하는데 쓰이기도 함.\n",
    "           \n",
    "<br>       \n",
    "       \n",
    "- 자연어를 처리하는 시스템을 파이썬 인터프리터와 비슷한 일종의 자연어 해석기 라고도 볼 수 있음.\n",
    "- 이런 자연어 처리 시스템을 **pipeline**이라고 부를 떄가 많음. 다수의 처리 단계가 연결된 형태라서...\n",
    "- 텍스트 만을 주로 다룸. spoken 된 문장은 X. 음성인식 or 음성-텍스트 변환(STT)기술이 필요."
   ]
  },
  {
   "cell_type": "markdown",
   "id": "97a60739",
   "metadata": {},
   "source": [
    "## Mathmetics in NLP\n",
    "\n",
    "<br>\n",
    "\n",
    "- 자연어에서 구조적인 수치 자료(벡터)를 추출했다면, 여기에 수학과 ML의 다양한 기법을 적용할 수 있음.\n",
    "- 예전부터 사용해왔던 3차원 물체를 2차원 평면에 투영하는 것과 같은 선형대수 기법들이 포함.\n",
    "    - **의미 분석과 통계를 섞는 셈**. 자연어의 중의성을 어느정도 해석할 수 있게 됨.\n",
    "- **자연어에서 정보를 추출하는 것은 컴파일러를 만드는 것과는 다름.**\n",
    "    - 기존 컴파일러에서 처럼 논리규칙들로 이뤄진 **중첩 체계 사용 X.**\n",
    "    - 대신 **단어들 사이의 통계적 관계를 활용.**\n",
    "        - 문법 규칙의 일부는 FSM으로 구현이 가능, 정규 문법은 정규표현식으로 표현 가능.\n",
    "        - Python엔 정규 표현식 FSM을 실행하는 대표 모듈 regex와 내장 모듈 re가 있음.\n",
    "- 하지만 이것만으로 해결하기 어려운게 있음. 사람의 마음을 아는 것. theory of mind.\n",
    "    - 'Good Morning'은 아침에 관한 표현이라기 보단 화자의 기분 및 다른 사람과의 교류를 원하는 마음가짐을 반영하고 있음.\n",
    "    - 컴퓨터가 이걸 어떻게 아느냐...\n",
    "    - NLP를 위한 Ontology가 필요."
   ]
  },
  {
   "cell_type": "markdown",
   "id": "af546df6",
   "metadata": {},
   "source": [
    "**회전식 자물쇠는 사실 간단한 언어처리 기계.**  <br>\n",
    "- 사람의 언언어는 이해하지 못하지만 자물쇠 언어는 이해하고 있음.\n",
    "    - 사용자가 말해주는 숫자 조합 == 비밀번호 == 자물쇠 언어 (정규표현식)\n",
    "    - **주어진 문장(조합)**이 **특별히 의미있는 문장(비밀번호)과 일치하는지 판정**해 그에 맞는 **응답**을 제시. "
   ]
  },
  {
   "cell_type": "markdown",
   "id": "1fb5b958",
   "metadata": {},
   "source": [
    "## Regular Expression  <br>\n",
    "- regex. 특별한 종류의 형식 언어 문법을 사용하는 하나의 표현 식.\n",
    "- 길고 복잡한 정규 문법 규칙이라도 regex를 통해 짧고 간결하게 표현할 수 있음.\n",
    "- regex 대부분은 특정 패턴에 부합하는 문자열을 찾는데 사용.\n",
    "    - 챗봇은 사용자가 입력한 문장에서 자신이 응답할 수 있는 문구를 찾는데 regex 검색을 사용.\n",
    "- 이런 언어들을 처리하는 프로그램을 FSM 또는 DFA라고 부름."
   ]
  },
  {
   "cell_type": "markdown",
   "id": "00f70182",
   "metadata": {},
   "source": [
    "# Example\n",
    "\n",
    "<br>\n",
    "\n",
    "- 간단한 pattern matching chatbot을 만들어보자.\n",
    "- FSM or regex를 쓰는 chatbot은 정규 언어를 이해할 수 있음."
   ]
  },
  {
   "cell_type": "code",
   "execution_count": 3,
   "id": "2367b2cd",
   "metadata": {},
   "outputs": [],
   "source": [
    "import re # regex사용을 위한 모듈. regex 모듈은 얘보다 강한데 나중에 쓸것.\n",
    "\n",
    "# *는 그 앞의 글자가 0회 이상 나타났는지 확인. (안나와도 되고, 여러번 나오도 됨.)\n",
    "# 아래 정규식은 hi, hello, hey로 시작하고 \n",
    "# 그 다음 임의 개수의 빈칸([ ])들과 임의 개수의 영문자들이 오는 말과 부합하게 됨.\n",
    "r = '(hi | hello | hey)[ ]*([a-z]*)'\n",
    "\n",
    "re.match(r, 'Hello, Rosa', flags=re.IGNORECASE) # re.IGNORECASE로 대소문자 구분 무시."
   ]
  },
  {
   "cell_type": "code",
   "execution_count": 4,
   "id": "9765d0b3",
   "metadata": {},
   "outputs": [
    {
     "data": {
      "text/plain": [
       "<re.Match object; span=(0, 5), match='hi ho'>"
      ]
     },
     "execution_count": 4,
     "metadata": {},
     "output_type": "execute_result"
    }
   ],
   "source": [
    "re.match(r, 'hi ho, hi ho, how are youuuu', flags=re.IGNORECASE)"
   ]
  },
  {
   "cell_type": "markdown",
   "id": "09920985",
   "metadata": {},
   "source": [
    "- 정규 표현식에서 [ ] 는 매칭 가능한 문자들의 종류를 뜻하는 character class를 지정하는데 사용.\n",
    "- ' * ' 는 그 문자 부류에 속하는 문자가 0번 이상 나타날 수 있음을 의미.\n",
    "- 위 표현식으론 매칭할 수 있는 단어가 한정되어 있음. 표현식을 좀 더 다듬어보자."
   ]
  },
  {
   "cell_type": "code",
   "execution_count": 18,
   "id": "f64ad22d",
   "metadata": {},
   "outputs": [],
   "source": [
    "r = r\"[^a-z]*([y]o|[h']?ello|ok|hey|(good[ ])?(morn[gin']{0,3}|\"r\"afternoon|even[gin']{0,3}'))[\\s,;:]{1,3}([a-z]{1,20})\"\n",
    "re_greeting = re.compile(r, flags=re.IGNORECASE) # 미리 컴파일 해두면 일일이 flag 지정할 필요가 없음."
   ]
  },
  {
   "cell_type": "code",
   "execution_count": 22,
   "id": "1cd77da6",
   "metadata": {},
   "outputs": [
    {
     "name": "stdout",
     "output_type": "stream",
     "text": [
      "Hello Rosa\n",
      "Hi , How are you?\n"
     ]
    }
   ],
   "source": [
    "names = set(['rosa', 'rose', 'chatty', 'chatbot', 'bot', 'chatterbot'])\n",
    "curt_names = set(['hal', 'you', 'u'])\n",
    "greeter_name = ''\n",
    "match = re_greeting.match(input())\n",
    "\n",
    "if match:\n",
    "    at_name = match.groups()[-1]\n",
    "    if at_name in curt_names:\n",
    "        print('Good One.')\n",
    "    elif at_name.lower() in names:\n",
    "        print(f'Hi {greeter_name}, How are you?')"
   ]
  },
  {
   "cell_type": "markdown",
   "id": "6e6f9ffa",
   "metadata": {},
   "source": [
    "각 단어 문서에 대해 특정 단어만 값이 있고 대부분이 0인 공간(희소행렬)이 만들어짐.  <br>\n",
    "이런 희소 벡터를 dict구조로 표현할 수 있음. Counter를 통해서."
   ]
  },
  {
   "cell_type": "code",
   "execution_count": 24,
   "id": "4053d597",
   "metadata": {},
   "outputs": [
    {
     "data": {
      "text/plain": [
       "Counter({'Hello': 2, 'and': 1, 'Rosa.': 1})"
      ]
     },
     "execution_count": 24,
     "metadata": {},
     "output_type": "execute_result"
    }
   ],
   "source": [
    "from collections import Counter\n",
    "Counter('Hello and Hello Rosa.'.split())"
   ]
  },
  {
   "cell_type": "markdown",
   "id": "fe26c0a1",
   "metadata": {},
   "source": [
    "**레벤슈타인 거리** : 벡터 공간에서 두 문자열의 유사성을 빠르게 찾아내는 알고리즘."
   ]
  },
  {
   "cell_type": "code",
   "execution_count": null,
   "id": "474f703f",
   "metadata": {},
   "outputs": [],
   "source": []
  }
 ],
 "metadata": {
  "kernelspec": {
   "display_name": "'[WorkBase]'",
   "language": "python",
   "name": "workbase"
  },
  "language_info": {
   "codemirror_mode": {
    "name": "ipython",
    "version": 3
   },
   "file_extension": ".py",
   "mimetype": "text/x-python",
   "name": "python",
   "nbconvert_exporter": "python",
   "pygments_lexer": "ipython3",
   "version": "3.8.11"
  }
 },
 "nbformat": 4,
 "nbformat_minor": 5
}

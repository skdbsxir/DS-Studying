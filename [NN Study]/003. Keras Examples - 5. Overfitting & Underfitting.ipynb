{
 "cells": [
  {
   "cell_type": "markdown",
   "metadata": {},
   "source": [
    "# Overfitting & Underfitting\n",
    "\n",
    "<br>\n",
    "\n",
    "- 앞선 4. 에서 일정 epoch동안 훈련하면 **val set에서 모델 성능이 최고점에 도달한 후 감소하기 시작**했음.\n",
    "- 이건 모델이 **train set에 overfit 된 것.** 과대적합이 발생했다.\n",
    "- train set에서 높은 성능을 얻을 수는 있지만, **우리가 진짜 원하는 것은 test set (또는 본적 없는 데이터)에 잘 일반화 되는 모델.**\n",
    "\n",
    "<br>\n",
    "\n",
    "- **과소적합(Underfitting)**? **test set에 대한 성능이 향상될 수 있을때 발생*. 발생 원인은 많음.\n",
    "    - 모델이 너무 단순하거나, 규제가 너무 많거나, 오래 훈련하지 못했거나.*\n",
    "    - 네트워크가 **train set에서 적절한 패턴을 학습하지 못한 경우**.\n",
    "    \n",
    "<br>\n",
    "\n",
    "- 그렇다고 **모델을 너무 오래 훈련하면 과대적합이 발생함**. \n",
    "- test set에서 일반화 되지 못하는 패턴을 train set에서 학습하기 시작하는 셈.\n",
    "- 과대적합과 과소적합 사이에서 적절한 균형을 잡아야 함. \n",
    "\n",
    "<br>\n",
    "\n",
    "- 방지할 수 있는 방법들엔 뭐가 있을까?\n",
    "    1. **더 많은 훈련 데이터 사용**. 많은 데이터로 학습할수록 자연적으로 일반화 성능이 좋아지게 됨.\n",
    "    2. 데이터를 준비할 수 없다면 **정규화 같은 규제를 적용**하는 것. 모델이 저장할 수 있는 정보의 양과 종류에 제약을 거는 방법.\n",
    "    3. **조기 종료**. 과대적합이 발생할 것 같은 시점에 학습을 종료하는 방법.\n",
    "    4. **드롭-아웃**. 불필요한 유닛을 제거하는 방법."
   ]
  },
  {
   "cell_type": "code",
   "execution_count": 1,
   "metadata": {
    "ExecuteTime": {
     "end_time": "2021-07-27T05:29:14.559701Z",
     "start_time": "2021-07-27T05:29:11.466406Z"
    }
   },
   "outputs": [],
   "source": [
    "import tensorflow as tf\n",
    "from tensorflow import keras\n",
    "import numpy as np\n",
    "import matplotlib.pyplot as plt\n",
    "\n",
    "%matplotlib inline\n",
    "plt.style.use('ggplot')"
   ]
  },
  {
   "cell_type": "markdown",
   "metadata": {},
   "source": [
    "## Dataset load\n",
    "\n",
    "<br>\n",
    "\n",
    "- 이번엔 Embedding이 아닌 multi-hot encoding 해보자.\n",
    "    - 정수 시퀀스를 0과 1로 이뤄진 벡터로 변환.\n",
    "    - 시퀀스 [3,5]를 인덱스 3과 5만 1로 두고, 나머지는 모두 0인 10,000차원 벡터로 변환.\n",
    "- 이 모델은 train set에 빠르게 과대적합 될 것. 어떻게 해결하는지 과정을 살펴보자."
   ]
  },
  {
   "cell_type": "code",
   "execution_count": 3,
   "metadata": {
    "ExecuteTime": {
     "end_time": "2021-07-27T05:34:29.306649Z",
     "start_time": "2021-07-27T05:34:23.595339Z"
    }
   },
   "outputs": [],
   "source": [
    "NUM_WORDS = 1000\n",
    "\n",
    "(train_data, train_labels), (test_data, test_labels) = keras.datasets.imdb.load_data(num_words=NUM_WORDS)\n",
    "\n",
    "def multi_hot_sequences(sequences, dimension):\n",
    "    # 0으로 채워진 (len(sequences), dimension)크기의 행렬 생성\n",
    "    results = np.zeros((len(sequences), dimension))\n",
    "    \n",
    "    # results[i]의 특정 인덱스만 1로 설정.\n",
    "    for i, word_indices in enumerate(sequences):\n",
    "        results[i, word_indices] = 1.0\n",
    "    return results\n",
    "\n",
    "train_data = multi_hot_sequences(train_data, dimension=NUM_WORDS)\n",
    "test_data = multi_hot_sequences(test_data, dimension=NUM_WORDS)"
   ]
  },
  {
   "cell_type": "markdown",
   "metadata": {},
   "source": [
    "     multi-hot 벡터 중 하나를 살펴보자.\n",
    "     단어 인덱스는 빈도 순으로 정렬되어 있음. 인덱스 0에 가까울수록 1이 많이 등장함."
   ]
  },
  {
   "cell_type": "code",
   "execution_count": 4,
   "metadata": {
    "ExecuteTime": {
     "end_time": "2021-07-27T05:35:05.002216Z",
     "start_time": "2021-07-27T05:35:04.825303Z"
    }
   },
   "outputs": [
    {
     "data": {
      "text/plain": [
       "[<matplotlib.lines.Line2D at 0x21d792bccc0>]"
      ]
     },
     "execution_count": 4,
     "metadata": {},
     "output_type": "execute_result"
    },
    {
     "name": "stderr",
     "output_type": "stream",
     "text": [
      "C:\\Users\\skdbs\\Anaconda3\\lib\\site-packages\\matplotlib\\font_manager.py:1241: UserWarning: findfont: Font family ['gulim'] not found. Falling back to DejaVu Sans.\n",
      "  (prop.get_family(), self.defaultFamily[fontext]))\n"
     ]
    },
    {
     "data": {
      "image/png": "[encoded data removed]",
      "text/plain": [
       "<Figure size 432x288 with 1 Axes>"
      ]
     },
     "metadata": {
      "needs_background": "light"
     },
     "output_type": "display_data"
    }
   ],
   "source": [
    "plt.plot(train_data[0])"
   ]
  },
  {
   "cell_type": "markdown",
   "metadata": {},
   "source": [
    "## Overfitting Example\n",
    "\n",
    "<br>\n",
    "\n",
    "- 과대적합을 막는 **가장 간단한 방법은 모델의 규모를 축소**하는 것.\n",
    "    - 모델에 있는 **trainable한 하이퍼 파라미터 수를 줄이는 것.**\n",
    "    - 파라미터는 층(layer) 개수와 층의 유닛(unit)개수에 의해 결정. 신경망 구조 알고있으면 알죠?\n",
    "- trainable한 하이퍼 파라미터 수를 **\"용량\"** 으로 부르기도 함.\n",
    "- 직관적으로 생각해보면, 많은 파라미터를 가진 모델은 더 많은 \"기억 용량\"을 갖게 될 것.\n",
    "    - 이런 모델은 훈련 샘플과 타겟 사이를 딕셔너리와 같은 매핑으로 완벽히 학습 할 수는 있음.\n",
    "    - 히지만 처음 보는 데이터에서 예측할 땐 쓸모가 없어질 것.\n",
    "\n",
    "            진짜 해결해야할 문제는 학습이 아닌 모델을 일반화 하는 것.\n",
    "\n",
    "- 하지만 **네트워크의 기억 용량이 부족하다면 매핑을 쉽게 하지 못할 것.**\n",
    "- 너무 많은 용량과 충분하지 않은 용량 사이의 균형을 잘 잡아야 한다.\n",
    "- 그치만 이런 적절한 크기나 구조를 결정하는 마법은 없어요. 실험을 통해 **직접 발견해야 함.**\n",
    "\n",
    "<br>\n",
    "\n",
    "- 적당한 모델 크기를 찾으려면 **적은 수의 층과 파라미터로 시작**해, \n",
    "- **검증 손실이 감소할 때 까지 새로운 층을 추가하거나 층의 크기를 늘리는 방법**이 좋음."
   ]
  },
  {
   "cell_type": "markdown",
   "metadata": {},
   "source": [
    "### Baseline model build"
   ]
  },
  {
   "cell_type": "code",
   "execution_count": 5,
   "metadata": {
    "ExecuteTime": {
     "end_time": "2021-07-27T05:45:58.567113Z",
     "start_time": "2021-07-27T05:45:57.731736Z"
    }
   },
   "outputs": [
    {
     "name": "stdout",
     "output_type": "stream",
     "text": [
      "Model: \"sequential\"\n",
      "_________________________________________________________________\n",
      "Layer (type)                 Output Shape              Param #   \n",
      "=================================================================\n",
      "dense (Dense)                (None, 16)                16016     \n",
      "_________________________________________________________________\n",
      "dense_1 (Dense)              (None, 16)                272       \n",
      "_________________________________________________________________\n",
      "dense_2 (Dense)              (None, 1)                 17        \n",
      "=================================================================\n",
      "Total params: 16,305\n",
      "Trainable params: 16,305\n",
      "Non-trainable params: 0\n",
      "_________________________________________________________________\n"
     ]
    }
   ],
   "source": [
    "baseline_model = keras.Sequential([\n",
    "    # .summary 메서드 때문에 input_shape가 필요하다 함. 뭔소린지...\n",
    "    keras.layers.Dense(16, activation='relu', input_shape=(NUM_WORDS,)),\n",
    "    keras.layers.Dense(16, activation='relu'),\n",
    "    keras.layers.Dense(1, activation='sigmoid')\n",
    "])\n",
    "\n",
    "baseline_model.compile(optimizer='adam',\n",
    "                       loss='binary_crossentropy',\n",
    "                       metrics=['accuracy', 'binary_crossentropy'])\n",
    "baseline_model.summary()"
   ]
  },
  {
   "cell_type": "code",
   "execution_count": 6,
   "metadata": {
    "ExecuteTime": {
     "end_time": "2021-07-27T05:47:03.935444Z",
     "start_time": "2021-07-27T05:46:57.483679Z"
    }
   },
   "outputs": [
    {
     "name": "stdout",
     "output_type": "stream",
     "text": [
      "Epoch 1/20\n",
      "49/49 - 1s - loss: 0.5703 - accuracy: 0.7340 - binary_crossentropy: 0.5703 - val_loss: 0.4391 - val_accuracy: 0.8216 - val_binary_crossentropy: 0.4391\n",
      "Epoch 2/20\n",
      "49/49 - 0s - loss: 0.3701 - accuracy: 0.8474 - binary_crossentropy: 0.3701 - val_loss: 0.3483 - val_accuracy: 0.8526 - val_binary_crossentropy: 0.3483\n",
      "Epoch 3/20\n",
      "49/49 - 0s - loss: 0.3223 - accuracy: 0.8661 - binary_crossentropy: 0.3223 - val_loss: 0.3336 - val_accuracy: 0.8593 - val_binary_crossentropy: 0.3336\n",
      "Epoch 4/20\n",
      "49/49 - 0s - loss: 0.3080 - accuracy: 0.8737 - binary_crossentropy: 0.3080 - val_loss: 0.3335 - val_accuracy: 0.8582 - val_binary_crossentropy: 0.3335\n",
      "Epoch 5/20\n",
      "49/49 - 0s - loss: 0.3014 - accuracy: 0.8760 - binary_crossentropy: 0.3014 - val_loss: 0.3284 - val_accuracy: 0.8599 - val_binary_crossentropy: 0.3284\n",
      "Epoch 6/20\n",
      "49/49 - 0s - loss: 0.2979 - accuracy: 0.8758 - binary_crossentropy: 0.2979 - val_loss: 0.3345 - val_accuracy: 0.8582 - val_binary_crossentropy: 0.3345\n",
      "Epoch 7/20\n",
      "49/49 - 0s - loss: 0.2973 - accuracy: 0.8758 - binary_crossentropy: 0.2973 - val_loss: 0.3332 - val_accuracy: 0.8591 - val_binary_crossentropy: 0.3332\n",
      "Epoch 8/20\n",
      "49/49 - 0s - loss: 0.2944 - accuracy: 0.8783 - binary_crossentropy: 0.2944 - val_loss: 0.3293 - val_accuracy: 0.8594 - val_binary_crossentropy: 0.3293\n",
      "Epoch 9/20\n",
      "49/49 - 0s - loss: 0.2903 - accuracy: 0.8812 - binary_crossentropy: 0.2903 - val_loss: 0.3297 - val_accuracy: 0.8590 - val_binary_crossentropy: 0.3297\n",
      "Epoch 10/20\n",
      "49/49 - 0s - loss: 0.2880 - accuracy: 0.8803 - binary_crossentropy: 0.2880 - val_loss: 0.3307 - val_accuracy: 0.8585 - val_binary_crossentropy: 0.3307\n",
      "Epoch 11/20\n",
      "49/49 - 0s - loss: 0.2870 - accuracy: 0.8803 - binary_crossentropy: 0.2870 - val_loss: 0.3318 - val_accuracy: 0.8590 - val_binary_crossentropy: 0.3318\n",
      "Epoch 12/20\n",
      "49/49 - 0s - loss: 0.2814 - accuracy: 0.8830 - binary_crossentropy: 0.2814 - val_loss: 0.3321 - val_accuracy: 0.8589 - val_binary_crossentropy: 0.3321\n",
      "Epoch 13/20\n",
      "49/49 - 0s - loss: 0.2772 - accuracy: 0.8858 - binary_crossentropy: 0.2772 - val_loss: 0.3361 - val_accuracy: 0.8566 - val_binary_crossentropy: 0.3361\n",
      "Epoch 14/20\n",
      "49/49 - 0s - loss: 0.2730 - accuracy: 0.8868 - binary_crossentropy: 0.2730 - val_loss: 0.3333 - val_accuracy: 0.8578 - val_binary_crossentropy: 0.3333\n",
      "Epoch 15/20\n",
      "49/49 - 0s - loss: 0.2696 - accuracy: 0.8886 - binary_crossentropy: 0.2696 - val_loss: 0.3383 - val_accuracy: 0.8552 - val_binary_crossentropy: 0.3383\n",
      "Epoch 16/20\n",
      "49/49 - 0s - loss: 0.2662 - accuracy: 0.8890 - binary_crossentropy: 0.2662 - val_loss: 0.3352 - val_accuracy: 0.8575 - val_binary_crossentropy: 0.3352\n",
      "Epoch 17/20\n",
      "49/49 - 0s - loss: 0.2601 - accuracy: 0.8923 - binary_crossentropy: 0.2601 - val_loss: 0.3369 - val_accuracy: 0.8586 - val_binary_crossentropy: 0.3369\n",
      "Epoch 18/20\n",
      "49/49 - 0s - loss: 0.2580 - accuracy: 0.8933 - binary_crossentropy: 0.2580 - val_loss: 0.3375 - val_accuracy: 0.8568 - val_binary_crossentropy: 0.3375\n",
      "Epoch 19/20\n",
      "49/49 - 0s - loss: 0.2477 - accuracy: 0.8994 - binary_crossentropy: 0.2477 - val_loss: 0.3427 - val_accuracy: 0.8567 - val_binary_crossentropy: 0.3427\n",
      "Epoch 20/20\n",
      "49/49 - 0s - loss: 0.2408 - accuracy: 0.9028 - binary_crossentropy: 0.2408 - val_loss: 0.3455 - val_accuracy: 0.8546 - val_binary_crossentropy: 0.3455\n"
     ]
    }
   ],
   "source": [
    "with tf.device('/GPU:0'):\n",
    "    baseline_history = baseline_model.fit(train_data, train_labels,\n",
    "                                          epochs=20, batch_size=512,\n",
    "                                          validation_data=(test_data, test_labels), verbose=2)"
   ]
  },
  {
   "cell_type": "markdown",
   "metadata": {},
   "source": [
    "### Tiny Model build\n",
    "\n",
    "<br>\n",
    "\n",
    "- 앞서 만든 baseline 모델과 비교하기 위해 \n",
    "- 적은 수의 hidden unit을 가진 모델을 만들어보자."
   ]
  },
  {
   "cell_type": "code",
   "execution_count": 7,
   "metadata": {
    "ExecuteTime": {
     "end_time": "2021-07-27T05:49:31.752576Z",
     "start_time": "2021-07-27T05:49:31.683536Z"
    }
   },
   "outputs": [
    {
     "name": "stdout",
     "output_type": "stream",
     "text": [
      "Model: \"sequential_1\"\n",
      "_________________________________________________________________\n",
      "Layer (type)                 Output Shape              Param #   \n",
      "=================================================================\n",
      "dense_3 (Dense)              (None, 4)                 4004      \n",
      "_________________________________________________________________\n",
      "dense_4 (Dense)              (None, 4)                 20        \n",
      "_________________________________________________________________\n",
      "dense_5 (Dense)              (None, 1)                 5         \n",
      "=================================================================\n",
      "Total params: 4,029\n",
      "Trainable params: 4,029\n",
      "Non-trainable params: 0\n",
      "_________________________________________________________________\n"
     ]
    }
   ],
   "source": [
    "smaller_model = keras.Sequential([\n",
    "    keras.layers.Dense(4, activation='relu', input_shape=(NUM_WORDS,)),\n",
    "    keras.layers.Dense(4, activation='relu'),\n",
    "    keras.layers.Dense(1, activation='sigmoid')\n",
    "])\n",
    "\n",
    "smaller_model.compile(optimizer='adam',\n",
    "                      loss='binary_crossentropy',\n",
    "                      metrics=['accuracy', 'binary_crossentropy'])\n",
    "\n",
    "smaller_model.summary()"
   ]
  },
  {
   "cell_type": "markdown",
   "metadata": {},
   "source": [
    "    baseline 보다 하이퍼 파라미터 수가 약 4배 정도 적음."
   ]
  },
  {
   "cell_type": "code",
   "execution_count": 9,
   "metadata": {
    "ExecuteTime": {
     "end_time": "2021-07-27T05:51:17.812941Z",
     "start_time": "2021-07-27T05:51:11.581559Z"
    }
   },
   "outputs": [
    {
     "name": "stdout",
     "output_type": "stream",
     "text": [
      "Epoch 1/20\n",
      "49/49 - 0s - loss: 0.6384 - accuracy: 0.6557 - binary_crossentropy: 0.6384 - val_loss: 0.5581 - val_accuracy: 0.7628 - val_binary_crossentropy: 0.5581\n",
      "Epoch 2/20\n",
      "49/49 - 0s - loss: 0.4863 - accuracy: 0.8073 - binary_crossentropy: 0.4863 - val_loss: 0.4359 - val_accuracy: 0.8258 - val_binary_crossentropy: 0.4359\n",
      "Epoch 3/20\n",
      "49/49 - 0s - loss: 0.3945 - accuracy: 0.8446 - binary_crossentropy: 0.3945 - val_loss: 0.3765 - val_accuracy: 0.8476 - val_binary_crossentropy: 0.3765\n",
      "Epoch 4/20\n",
      "49/49 - 0s - loss: 0.3510 - accuracy: 0.8579 - binary_crossentropy: 0.3510 - val_loss: 0.3504 - val_accuracy: 0.8554 - val_binary_crossentropy: 0.3504\n",
      "Epoch 5/20\n",
      "49/49 - 0s - loss: 0.3294 - accuracy: 0.8654 - binary_crossentropy: 0.3294 - val_loss: 0.3382 - val_accuracy: 0.8591 - val_binary_crossentropy: 0.3382\n",
      "Epoch 6/20\n",
      "49/49 - 0s - loss: 0.3175 - accuracy: 0.8700 - binary_crossentropy: 0.3175 - val_loss: 0.3335 - val_accuracy: 0.8594 - val_binary_crossentropy: 0.3335\n",
      "Epoch 7/20\n",
      "49/49 - 0s - loss: 0.3103 - accuracy: 0.8731 - binary_crossentropy: 0.3103 - val_loss: 0.3296 - val_accuracy: 0.8609 - val_binary_crossentropy: 0.3296\n",
      "Epoch 8/20\n",
      "49/49 - 0s - loss: 0.3055 - accuracy: 0.8745 - binary_crossentropy: 0.3055 - val_loss: 0.3290 - val_accuracy: 0.8605 - val_binary_crossentropy: 0.3290\n",
      "Epoch 9/20\n",
      "49/49 - 0s - loss: 0.3035 - accuracy: 0.8762 - binary_crossentropy: 0.3035 - val_loss: 0.3280 - val_accuracy: 0.8603 - val_binary_crossentropy: 0.3280\n",
      "Epoch 10/20\n",
      "49/49 - 0s - loss: 0.3007 - accuracy: 0.8772 - binary_crossentropy: 0.3007 - val_loss: 0.3287 - val_accuracy: 0.8606 - val_binary_crossentropy: 0.3287\n",
      "Epoch 11/20\n",
      "49/49 - 0s - loss: 0.3000 - accuracy: 0.8770 - binary_crossentropy: 0.3000 - val_loss: 0.3283 - val_accuracy: 0.8607 - val_binary_crossentropy: 0.3283\n",
      "Epoch 12/20\n",
      "49/49 - 0s - loss: 0.2982 - accuracy: 0.8777 - binary_crossentropy: 0.2982 - val_loss: 0.3287 - val_accuracy: 0.8600 - val_binary_crossentropy: 0.3287\n",
      "Epoch 13/20\n",
      "49/49 - 0s - loss: 0.2973 - accuracy: 0.8785 - binary_crossentropy: 0.2973 - val_loss: 0.3283 - val_accuracy: 0.8600 - val_binary_crossentropy: 0.3283\n",
      "Epoch 14/20\n",
      "49/49 - 0s - loss: 0.2972 - accuracy: 0.8779 - binary_crossentropy: 0.2972 - val_loss: 0.3295 - val_accuracy: 0.8592 - val_binary_crossentropy: 0.3295\n",
      "Epoch 15/20\n",
      "49/49 - 0s - loss: 0.2968 - accuracy: 0.8782 - binary_crossentropy: 0.2968 - val_loss: 0.3296 - val_accuracy: 0.8590 - val_binary_crossentropy: 0.3296\n",
      "Epoch 16/20\n",
      "49/49 - 0s - loss: 0.2954 - accuracy: 0.8796 - binary_crossentropy: 0.2954 - val_loss: 0.3289 - val_accuracy: 0.8596 - val_binary_crossentropy: 0.3289\n",
      "Epoch 17/20\n",
      "49/49 - 0s - loss: 0.2953 - accuracy: 0.8786 - binary_crossentropy: 0.2953 - val_loss: 0.3295 - val_accuracy: 0.8594 - val_binary_crossentropy: 0.3295\n",
      "Epoch 18/20\n",
      "49/49 - 0s - loss: 0.2951 - accuracy: 0.8788 - binary_crossentropy: 0.2951 - val_loss: 0.3343 - val_accuracy: 0.8585 - val_binary_crossentropy: 0.3343\n",
      "Epoch 19/20\n",
      "49/49 - 0s - loss: 0.2953 - accuracy: 0.8784 - binary_crossentropy: 0.2953 - val_loss: 0.3304 - val_accuracy: 0.8586 - val_binary_crossentropy: 0.3304\n",
      "Epoch 20/20\n",
      "49/49 - 0s - loss: 0.2950 - accuracy: 0.8781 - binary_crossentropy: 0.2950 - val_loss: 0.3297 - val_accuracy: 0.8596 - val_binary_crossentropy: 0.3297\n"
     ]
    }
   ],
   "source": [
    "# 같은 데이터를 써서 훈련해보자.\n",
    "with tf.device('/GPU:0'):\n",
    "    smaller_history = smaller_model.fit(train_data, train_labels,\n",
    "                                        epochs=20, batch_size=512,\n",
    "                                        validation_data=(test_data, test_labels), verbose=2)"
   ]
  },
  {
   "cell_type": "markdown",
   "metadata": {},
   "source": [
    "### Large Model build\n",
    "\n",
    "<br>\n",
    "\n",
    "- 앞선 모델들 보다 더 큰 모델(더 큰 용량을 가진 네트워크)을 만들어\n",
    "- 과대적합이 얼마나 빠르게 발생하는지 봐보자."
   ]
  },
  {
   "cell_type": "code",
   "execution_count": 10,
   "metadata": {
    "ExecuteTime": {
     "end_time": "2021-07-27T05:53:43.875313Z",
     "start_time": "2021-07-27T05:53:43.804314Z"
    }
   },
   "outputs": [
    {
     "name": "stdout",
     "output_type": "stream",
     "text": [
      "Model: \"sequential_2\"\n",
      "_________________________________________________________________\n",
      "Layer (type)                 Output Shape              Param #   \n",
      "=================================================================\n",
      "dense_6 (Dense)              (None, 512)               512512    \n",
      "_________________________________________________________________\n",
      "dense_7 (Dense)              (None, 512)               262656    \n",
      "_________________________________________________________________\n",
      "dense_8 (Dense)              (None, 1)                 513       \n",
      "=================================================================\n",
      "Total params: 775,681\n",
      "Trainable params: 775,681\n",
      "Non-trainable params: 0\n",
      "_________________________________________________________________\n"
     ]
    }
   ],
   "source": [
    "bigger_model = keras.Sequential([\n",
    "    keras.layers.Dense(512, activation='relu', input_shape=(NUM_WORDS,)),\n",
    "    keras.layers.Dense(512, activation='relu'),\n",
    "    keras.layers.Dense(1, activation='sigmoid')\n",
    "])\n",
    "\n",
    "bigger_model.compile(optimizer='adam',\n",
    "                     loss='binary_crossentropy',\n",
    "                     metrics=['accuracy', 'binary_crossentropy'])\n",
    "\n",
    "bigger_model.summary()"
   ]
  },
  {
   "cell_type": "markdown",
   "metadata": {},
   "source": [
    "    하이퍼 파라미터 수가\n",
    "    작은 모델보다 약 192배, baseline 모델보다 약 47배 많음."
   ]
  },
  {
   "cell_type": "code",
   "execution_count": 11,
   "metadata": {
    "ExecuteTime": {
     "end_time": "2021-07-27T05:55:45.555931Z",
     "start_time": "2021-07-27T05:55:38.053214Z"
    }
   },
   "outputs": [
    {
     "name": "stdout",
     "output_type": "stream",
     "text": [
      "Epoch 1/20\n",
      "49/49 - 1s - loss: 0.4063 - accuracy: 0.8194 - binary_crossentropy: 0.4063 - val_loss: 0.3331 - val_accuracy: 0.8587 - val_binary_crossentropy: 0.3331\n",
      "Epoch 2/20\n",
      "49/49 - 0s - loss: 0.2911 - accuracy: 0.8790 - binary_crossentropy: 0.2911 - val_loss: 0.3261 - val_accuracy: 0.8583 - val_binary_crossentropy: 0.3261\n",
      "Epoch 3/20\n",
      "49/49 - 0s - loss: 0.2224 - accuracy: 0.9122 - binary_crossentropy: 0.2224 - val_loss: 0.3442 - val_accuracy: 0.8554 - val_binary_crossentropy: 0.3442\n",
      "Epoch 4/20\n",
      "49/49 - 0s - loss: 0.1077 - accuracy: 0.9663 - binary_crossentropy: 0.1077 - val_loss: 0.4141 - val_accuracy: 0.8497 - val_binary_crossentropy: 0.4141\n",
      "Epoch 5/20\n",
      "49/49 - 0s - loss: 0.0282 - accuracy: 0.9952 - binary_crossentropy: 0.0282 - val_loss: 0.5106 - val_accuracy: 0.8497 - val_binary_crossentropy: 0.5106\n",
      "Epoch 6/20\n",
      "49/49 - 0s - loss: 0.0061 - accuracy: 0.9997 - binary_crossentropy: 0.0061 - val_loss: 0.5967 - val_accuracy: 0.8522 - val_binary_crossentropy: 0.5967\n",
      "Epoch 7/20\n",
      "49/49 - 0s - loss: 0.0017 - accuracy: 1.0000 - binary_crossentropy: 0.0017 - val_loss: 0.6414 - val_accuracy: 0.8524 - val_binary_crossentropy: 0.6414\n",
      "Epoch 8/20\n",
      "49/49 - 0s - loss: 8.3577e-04 - accuracy: 1.0000 - binary_crossentropy: 8.3577e-04 - val_loss: 0.6777 - val_accuracy: 0.8535 - val_binary_crossentropy: 0.6777\n",
      "Epoch 9/20\n",
      "49/49 - 0s - loss: 5.4113e-04 - accuracy: 1.0000 - binary_crossentropy: 5.4113e-04 - val_loss: 0.7087 - val_accuracy: 0.8535 - val_binary_crossentropy: 0.7087\n",
      "Epoch 10/20\n",
      "49/49 - 0s - loss: 3.7445e-04 - accuracy: 1.0000 - binary_crossentropy: 3.7445e-04 - val_loss: 0.7369 - val_accuracy: 0.8535 - val_binary_crossentropy: 0.7369\n",
      "Epoch 11/20\n",
      "49/49 - 0s - loss: 2.6860e-04 - accuracy: 1.0000 - binary_crossentropy: 2.6860e-04 - val_loss: 0.7627 - val_accuracy: 0.8533 - val_binary_crossentropy: 0.7627\n",
      "Epoch 12/20\n",
      "49/49 - 0s - loss: 1.9767e-04 - accuracy: 1.0000 - binary_crossentropy: 1.9767e-04 - val_loss: 0.7863 - val_accuracy: 0.8529 - val_binary_crossentropy: 0.7863\n",
      "Epoch 13/20\n",
      "49/49 - 0s - loss: 1.4986e-04 - accuracy: 1.0000 - binary_crossentropy: 1.4986e-04 - val_loss: 0.8086 - val_accuracy: 0.8533 - val_binary_crossentropy: 0.8086\n",
      "Epoch 14/20\n",
      "49/49 - 0s - loss: 1.1636e-04 - accuracy: 1.0000 - binary_crossentropy: 1.1636e-04 - val_loss: 0.8283 - val_accuracy: 0.8534 - val_binary_crossentropy: 0.8283\n",
      "Epoch 15/20\n",
      "49/49 - 0s - loss: 9.2514e-05 - accuracy: 1.0000 - binary_crossentropy: 9.2514e-05 - val_loss: 0.8466 - val_accuracy: 0.8533 - val_binary_crossentropy: 0.8466\n",
      "Epoch 16/20\n",
      "49/49 - 0s - loss: 7.4880e-05 - accuracy: 1.0000 - binary_crossentropy: 7.4880e-05 - val_loss: 0.8635 - val_accuracy: 0.8530 - val_binary_crossentropy: 0.8635\n",
      "Epoch 17/20\n",
      "49/49 - 0s - loss: 6.1672e-05 - accuracy: 1.0000 - binary_crossentropy: 6.1672e-05 - val_loss: 0.8794 - val_accuracy: 0.8534 - val_binary_crossentropy: 0.8794\n",
      "Epoch 18/20\n",
      "49/49 - 0s - loss: 5.1471e-05 - accuracy: 1.0000 - binary_crossentropy: 5.1471e-05 - val_loss: 0.8941 - val_accuracy: 0.8535 - val_binary_crossentropy: 0.8941\n",
      "Epoch 19/20\n",
      "49/49 - 0s - loss: 4.3541e-05 - accuracy: 1.0000 - binary_crossentropy: 4.3541e-05 - val_loss: 0.9077 - val_accuracy: 0.8533 - val_binary_crossentropy: 0.9077\n",
      "Epoch 20/20\n",
      "49/49 - 0s - loss: 3.7267e-05 - accuracy: 1.0000 - binary_crossentropy: 3.7267e-05 - val_loss: 0.9214 - val_accuracy: 0.8536 - val_binary_crossentropy: 0.9214\n"
     ]
    }
   ],
   "source": [
    "with tf.device('/GPU:0'):\n",
    "    bigger_history = bigger_model.fit(train_data, train_labels,\n",
    "                                      epochs=20, batch_size=512,\n",
    "                                      validation_data=(test_data, test_labels), verbose=2)"
   ]
  },
  {
   "cell_type": "markdown",
   "metadata": {},
   "source": [
    "    정확도가 100%래요 ㅋㅋㅋ"
   ]
  },
  {
   "cell_type": "markdown",
   "metadata": {},
   "source": [
    "## Train Loss & Validation Loss Visualization\n",
    "\n",
    "<br>\n",
    "\n",
    "- train loss(실선), val loss(점선)를 그래프로 그려서 한번 봐보자.\n",
    "- val loss가 낮을수록 더 좋은 모델."
   ]
  },
  {
   "cell_type": "code",
   "execution_count": 12,
   "metadata": {
    "ExecuteTime": {
     "end_time": "2021-07-27T06:00:08.555887Z",
     "start_time": "2021-07-27T06:00:08.225977Z"
    }
   },
   "outputs": [
    {
     "data": {
      "image/png": "[encoded data removed]",
      "text/plain": [
       "<Figure size 1152x720 with 1 Axes>"
      ]
     },
     "metadata": {
      "needs_background": "light"
     },
     "output_type": "display_data"
    }
   ],
   "source": [
    "def plot_history(histories, key='binary_crossentropy'):\n",
    "    plt.figure(figsize=(16, 10))\n",
    "    \n",
    "    for name, history in histories:\n",
    "        val = plt.plot(history.epoch, history.history['val_'+key],\n",
    "                       '--', label=name.title()+' Val')\n",
    "        plt.plot(history.epoch, history.history[key], color=val[0].get_color(),\n",
    "                 label=name.title()+' Train')\n",
    "    plt.xlabel('Epochs')\n",
    "    plt.ylabel(key.replace('_', ' ').title())\n",
    "    plt.legend()\n",
    "    \n",
    "    plt.xlim([0, max(history.epoch)])\n",
    "    \n",
    "plot_history([('baseline', baseline_history), \n",
    "              ('smaller', smaller_history), \n",
    "              ('bigger', bigger_history)])"
   ]
  },
  {
   "cell_type": "markdown",
   "metadata": {},
   "source": [
    "- baseline은 약 2.5 즈음에서 과적합이 발생되는거 같아 보임.\n",
    "- smaller는 baseline보단 늦게 약 5.0 즈음에서 과적합이 발생되는거 같아 보임.\n",
    "- bigger는 둘보다 더 빠른 약 1.0 즈음에서 과적합이 발생되는거 같아 보임."
   ]
  },
  {
   "cell_type": "markdown",
   "metadata": {},
   "source": [
    "- bigger는 첫 epoch 후로 과대적합이 시작되고, 이후로 훨씬 더 심각하게 과대적합이 발생하는 듯 하다.\n",
    "    - 실제로 정확도가 100%로 나오는거 보면...\n",
    "- 네트워크의 용량이 클수록 train set을 더 빠르게 모델링 할 수 있지만, 더 쉽게 overfit 됨.\n",
    "    - train loss는 빠르게 낮아지지만, train loss와 val loss 사이 차이가 커진다는 의미."
   ]
  },
  {
   "cell_type": "code",
   "execution_count": null,
   "metadata": {},
   "outputs": [],
   "source": []
  }
 ],
 "metadata": {
  "kernelspec": {
   "display_name": "Python 3",
   "language": "python",
   "name": "python3"
  },
  "language_info": {
   "codemirror_mode": {
    "name": "ipython",
    "version": 3
   },
   "file_extension": ".py",
   "mimetype": "text/x-python",
   "name": "python",
   "nbconvert_exporter": "python",
   "pygments_lexer": "ipython3",
   "version": "3.7.1"
  },
  "toc": {
   "base_numbering": 1,
   "nav_menu": {},
   "number_sections": true,
   "sideBar": true,
   "skip_h1_title": false,
   "title_cell": "Table of Contents",
   "title_sidebar": "Contents",
   "toc_cell": false,
   "toc_position": {},
   "toc_section_display": true,
   "toc_window_display": false
  },
  "varInspector": {
   "cols": {
    "lenName": 16,
    "lenType": 16,
    "lenVar": 40
   },
   "kernels_config": {
    "python": {
     "delete_cmd_postfix": "",
     "delete_cmd_prefix": "del ",
     "library": "var_list.py",
     "varRefreshCmd": "print(var_dic_list())"
    },
    "r": {
     "delete_cmd_postfix": ") ",
     "delete_cmd_prefix": "rm(",
     "library": "var_list.r",
     "varRefreshCmd": "cat(var_dic_list()) "
    }
   },
   "types_to_exclude": [
    "module",
    "function",
    "builtin_function_or_method",
    "instance",
    "_Feature"
   ],
   "window_display": false
  }
 },
 "nbformat": 4,
 "nbformat_minor": 2
}

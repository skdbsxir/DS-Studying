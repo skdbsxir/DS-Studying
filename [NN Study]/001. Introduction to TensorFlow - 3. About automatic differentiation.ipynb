{
 "cells": [
  {
   "cell_type": "markdown",
   "metadata": {},
   "source": [
    "TensorFlow엔 자동미분 기능이 있음.\n",
    "\n",
    "<br>\n",
    "\n",
    "## Gradient Tape\n",
    "\n",
    "<br>\n",
    "\n",
    "- 주어진 입력변수에 대한 연산의 그래디언트를 계산하는 것을 위한 **tf.GradientTape API**를 제공하고 있음.\n",
    "- **context안에서 실행된 모든 연산을 tape에 '기록'** 한다.\n",
    "- 이후 **revere mode differentiation을 이용해 tape에 기록된 연산의 그래디언트를 계산**한다.\n",
    "    - 어떻게 보면 역전파를 알아서 계산해준다는 소리인거 같은데"
   ]
  },
  {
   "cell_type": "code",
   "execution_count": 5,
   "metadata": {},
   "outputs": [
    {
     "name": "stdout",
     "output_type": "stream",
     "text": [
      "tf.Tensor(\n",
      "[[8. 8.]\n",
      " [8. 8.]], shape=(2, 2), dtype=float32)\n",
      "tf.Tensor(8.0, shape=(), dtype=float32)\n"
     ]
    }
   ],
   "source": [
    "import tensorflow as tf\n",
    "\n",
    "x = tf.ones((2,2))\n",
    "\n",
    "# 테이프 기록 과정\n",
    "with tf.GradientTape() as t:\n",
    "    t.watch(x)\n",
    "    y = tf.reduce_sum(x)\n",
    "    z = tf.multiply(y, y)\n",
    "\n",
    "# 입력 텐서 x에 대한 z의 도함수 계산\n",
    "dz_dx = t.gradient(z, x)\n",
    "for i in [0, 1]:\n",
    "    for j in [0, 1]:\n",
    "        assert dz_dx[i][j].numpy() == 8.0\n",
    "print(dz_dx)\n",
    "\n",
    "# 중간 값 y에 대한 그래디언트 또한 계산이 가능.\n",
    "# with tf.GradientTape() as t 로 다시 해줘야 함. 안그러면 런타임에러.\n",
    "with tf.GradientTape() as t:\n",
    "    t.watch(x)\n",
    "    y = tf.reduce_sum(x)\n",
    "    z = tf.multiply(y, y)\n",
    "dz_dy = t.gradient(z, y)\n",
    "assert dz_dy.numpy() == 8.0\n",
    "print(dz_dy)"
   ]
  },
  {
   "cell_type": "markdown",
   "metadata": {},
   "source": [
    "- 기본적으로 GradientTape.gradient() 가 호출되면 GradientTape에 포함된 리소스가 해제됨.\n",
    "- 동일한 연산에 대해 여러 그래디언트를 계산하려면 persistent한 테이프를 생성하면 된다.\n",
    "    - (그래서 아까 에러났던거인듯)"
   ]
  },
  {
   "cell_type": "code",
   "execution_count": 8,
   "metadata": {},
   "outputs": [
    {
     "name": "stdout",
     "output_type": "stream",
     "text": [
      "tf.Tensor(108.0, shape=(), dtype=float32) \n",
      "\n",
      "tf.Tensor(6.0, shape=(), dtype=float32) \n",
      "\n"
     ]
    }
   ],
   "source": [
    "x = tf.constant(3.0)\n",
    "with tf.GradientTape(persistent=True) as t:\n",
    "    t.watch(x)\n",
    "    y = x * x\n",
    "    z = y * y\n",
    "dz_dx = t.gradient(z, x)\n",
    "print(dz_dx, '\\n')\n",
    "dy_dx = t.gradient(y, x)\n",
    "print(dy_dx, '\\n')\n",
    "del t # 더 안쓸거면 메모리 할당 해제해주자. 참조삭제."
   ]
  },
  {
   "cell_type": "markdown",
   "metadata": {},
   "source": [
    "    연산이 실행되는 순서대로 테이프에 기록되므로,\n",
    "    Python의 제어흐름문 이 자연스럽게 처리 됨."
   ]
  },
  {
   "cell_type": "code",
   "execution_count": 14,
   "metadata": {},
   "outputs": [
    {
     "name": "stdout",
     "output_type": "stream",
     "text": [
      "결과값에 x를 곱합니다. (1.0, 2.0)\n",
      "결과값에 x를 곱합니다. (<tf.Tensor: shape=(), dtype=float32, numpy=2.0>, 2.0)\n",
      "결과값에 x를 곱합니다. (<tf.Tensor: shape=(), dtype=float32, numpy=4.0>, 2.0)\n",
      "12.0\n",
      "결과값에 x를 곱합니다. (1.0, 2.0)\n",
      "결과값에 x를 곱합니다. (<tf.Tensor: shape=(), dtype=float32, numpy=2.0>, 2.0)\n",
      "결과값에 x를 곱합니다. (<tf.Tensor: shape=(), dtype=float32, numpy=4.0>, 2.0)\n",
      "12.0\n",
      "결과값에 x를 곱합니다. (1.0, 2.0)\n",
      "결과값에 x를 곱합니다. (<tf.Tensor: shape=(), dtype=float32, numpy=2.0>, 2.0)\n",
      "4.0\n"
     ]
    }
   ],
   "source": [
    "def f(x,y):\n",
    "    output = 1.0\n",
    "    for i in range(y):\n",
    "        if i > 1 and i < 5:\n",
    "            print('결과값에 x를 곱합니다.', f'{output, x.numpy()}')\n",
    "            output = tf.multiply(output, x)\n",
    "    return output\n",
    "\n",
    "def grad(x, y):\n",
    "    with tf.GradientTape() as t:\n",
    "        t.watch(x)\n",
    "        out = f(x, y)\n",
    "    return t.gradient(out, x)\n",
    "\n",
    "x = tf.convert_to_tensor(2.0)\n",
    "\n",
    "print(grad(x, 6).numpy())\n",
    "print(grad(x, 5).numpy())\n",
    "print(grad(x, 4).numpy())"
   ]
  }
 ],
 "metadata": {
  "kernelspec": {
   "display_name": "Python 3",
   "language": "python",
   "name": "python3"
  },
  "language_info": {
   "codemirror_mode": {
    "name": "ipython",
    "version": 3
   },
   "file_extension": ".py",
   "mimetype": "text/x-python",
   "name": "python",
   "nbconvert_exporter": "python",
   "pygments_lexer": "ipython3",
   "version": "3.7.1"
  }
 },
 "nbformat": 4,
 "nbformat_minor": 2
}

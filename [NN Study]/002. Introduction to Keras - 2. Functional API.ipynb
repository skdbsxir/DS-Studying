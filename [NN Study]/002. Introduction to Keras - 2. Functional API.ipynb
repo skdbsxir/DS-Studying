{
 "cells": [
  {
   "cell_type": "markdown",
   "metadata": {},
   "source": [
    "## Keras Functional API\n",
    "\n",
    "<br>\n",
    "\n",
    "- Sequential API보다 더 유연한 모델을 만들 수 있음.\n",
    "- 딥 러닝 모델은 일반적으로 레이어의 DAG (Directed Acyclic Graph). Functional API는 레이어의 그래프를 빌드."
   ]
  },
  {
   "cell_type": "code",
   "execution_count": 1,
   "metadata": {
    "ExecuteTime": {
     "end_time": "2021-07-20T16:10:22.979484Z",
     "start_time": "2021-07-20T16:10:22.907804Z"
    }
   },
   "outputs": [],
   "source": [
    "%load_ext pycodestyle_magic\n",
    "%pycodestyle_on"
   ]
  },
  {
   "cell_type": "code",
   "execution_count": 2,
   "metadata": {
    "ExecuteTime": {
     "end_time": "2021-07-20T16:10:27.041523Z",
     "start_time": "2021-07-20T16:10:24.090437Z"
    }
   },
   "outputs": [],
   "source": [
    "import numpy as np\n",
    "import tensorflow as tf\n",
    "from tensorflow import keras\n",
    "from tensorflow.keras import layers"
   ]
  },
  {
   "attachments": {
    "image.png": {
     "image/png": "[encoded data removed]"
    }
   },
   "cell_type": "markdown",
   "metadata": {},
   "source": [
    "![image.png](attachment:image.png)\n",
    "\n",
    "이런 모형을 어떻게 만들 수 있을까?"
   ]
  },
  {
   "cell_type": "code",
   "execution_count": 3,
   "metadata": {
    "ExecuteTime": {
     "end_time": "2021-07-20T16:10:27.089456Z",
     "start_time": "2021-07-20T16:10:27.060472Z"
    }
   },
   "outputs": [
    {
     "data": {
      "text/plain": [
       "TensorShape([None, 784])"
      ]
     },
     "execution_count": 3,
     "metadata": {},
     "output_type": "execute_result"
    },
    {
     "name": "stderr",
     "output_type": "stream",
     "text": [
      "3:36: E261 at least two spaces before inline comment\n"
     ]
    }
   ],
   "source": [
    "# 먼저 입력 노드를 작성하자.\n",
    "# 이미지 입력이라면 shape=(32, 32, 3) 가 될 것.\n",
    "inputs = keras.Input(shape=(784, )) # 784 차원 벡터.\n",
    "\n",
    "\n",
    "inputs.shape"
   ]
  },
  {
   "cell_type": "code",
   "execution_count": 4,
   "metadata": {
    "ExecuteTime": {
     "end_time": "2021-07-20T16:10:28.893290Z",
     "start_time": "2021-07-20T16:10:28.870302Z"
    }
   },
   "outputs": [],
   "source": [
    "# 이 inputs 객체에서 레이어를 호출해 그래프에서 새 노드를 만들자.\n",
    "# inputs가 데이터를 dense로 전달하고, dense는 출력으로 x를 내놓는다.\n",
    "dense = layers.Dense(64, activation='relu')\n",
    "x = dense(inputs)"
   ]
  },
  {
   "cell_type": "code",
   "execution_count": 5,
   "metadata": {
    "ExecuteTime": {
     "end_time": "2021-07-20T16:10:29.611647Z",
     "start_time": "2021-07-20T16:10:29.587640Z"
    }
   },
   "outputs": [],
   "source": [
    "# 레이어를 좀 더 추가해보자.\n",
    "x = layers.Dense(64, activation='relu')(x)\n",
    "outputs = layers.Dense(10)(x)"
   ]
  },
  {
   "cell_type": "code",
   "execution_count": 6,
   "metadata": {
    "ExecuteTime": {
     "end_time": "2021-07-20T16:10:30.425551Z",
     "start_time": "2021-07-20T16:10:30.405548Z"
    }
   },
   "outputs": [
    {
     "name": "stdout",
     "output_type": "stream",
     "text": [
      "Model: \"simple_mnist_model\"\n",
      "_________________________________________________________________\n",
      "Layer (type)                 Output Shape              Param #   \n",
      "=================================================================\n",
      "input_1 (InputLayer)         [(None, 784)]             0         \n",
      "_________________________________________________________________\n",
      "dense (Dense)                (None, 64)                50240     \n",
      "_________________________________________________________________\n",
      "dense_1 (Dense)              (None, 64)                4160      \n",
      "_________________________________________________________________\n",
      "dense_2 (Dense)              (None, 10)                650       \n",
      "=================================================================\n",
      "Total params: 55,050\n",
      "Trainable params: 55,050\n",
      "Non-trainable params: 0\n",
      "_________________________________________________________________\n"
     ]
    }
   ],
   "source": [
    "# inputs 랑 outputs를 통해 model을 작성할 수있다.\n",
    "model = keras.Model(inputs=inputs, outputs=outputs, name='simple_mnist_model')\n",
    "model.summary()"
   ]
  },
  {
   "cell_type": "markdown",
   "metadata": {},
   "source": [
    "**오**  <br>\n",
    "- 앞서 했던 것 처럼 model 만든 후 layer를 하나씩 추가한 것과 뭐가 다를까\n",
    "    1. **input을 먼저 정의**한 다음 \n",
    "    2. 이를 활용한 층을 만들고 (**input과 연결되는 층**을 만들고)\n",
    "    3. **해당 층이랑 연결되는 다른 층**을 또 만들고\n",
    "    4. **마지막으로 만든 층이랑 연결되는 outputs층**을 만들었다.\n",
    "    5. model 생성은 **inputs와 outputs만 가지고 만들었음!**"
   ]
  },
  {
   "cell_type": "markdown",
   "metadata": {},
   "source": [
    "***생성한 모델을 그래프로 표현해 볼 수도 있다.***"
   ]
  },
  {
   "cell_type": "code",
   "execution_count": 9,
   "metadata": {
    "ExecuteTime": {
     "end_time": "2021-07-20T16:03:48.357817Z",
     "start_time": "2021-07-20T16:03:48.332339Z"
    }
   },
   "outputs": [
    {
     "name": "stdout",
     "output_type": "stream",
     "text": [
      "('Failed to import pydot. You must `pip install pydot` and install graphviz (https://graphviz.gitlab.io/download/), ', 'for `pydotprint` to work.')\n"
     ]
    }
   ],
   "source": [
    "keras.utils.plot_model(model)"
   ]
  },
  {
   "cell_type": "code",
   "execution_count": 10,
   "metadata": {
    "ExecuteTime": {
     "end_time": "2021-07-20T16:04:29.490335Z",
     "start_time": "2021-07-20T16:04:22.380319Z"
    }
   },
   "outputs": [
    {
     "name": "stdout",
     "output_type": "stream",
     "text": [
      "Collecting pydot\n",
      "  Downloading pydot-1.4.2-py2.py3-none-any.whl (21 kB)\n",
      "Requirement already satisfied: pyparsing>=2.1.4 in c:\\users\\skdbs\\anaconda3\\lib\\site-packages (from pydot) (2.4.7)\n",
      "Installing collected packages: pydot\n",
      "Successfully installed pydot-1.4.2\n"
     ]
    },
    {
     "name": "stderr",
     "output_type": "stream",
     "text": [
      "WARNING: Ignoring invalid distribution -pype1 (c:\\users\\skdbs\\anaconda3\\lib\\site-packages)\n",
      "WARNING: Ignoring invalid distribution -ip (c:\\users\\skdbs\\anaconda3\\lib\\site-packages)\n",
      "WARNING: Ignoring invalid distribution -pype1 (c:\\users\\skdbs\\anaconda3\\lib\\site-packages)\n",
      "WARNING: Ignoring invalid distribution -ip (c:\\users\\skdbs\\anaconda3\\lib\\site-packages)\n",
      "WARNING: Ignoring invalid distribution -pype1 (c:\\users\\skdbs\\anaconda3\\lib\\site-packages)\n",
      "WARNING: Ignoring invalid distribution -ip (c:\\users\\skdbs\\anaconda3\\lib\\site-packages)\n",
      "WARNING: Ignoring invalid distribution -pype1 (c:\\users\\skdbs\\anaconda3\\lib\\site-packages)\n",
      "WARNING: Ignoring invalid distribution -ip (c:\\users\\skdbs\\anaconda3\\lib\\site-packages)\n",
      "WARNING: Ignoring invalid distribution -pype1 (c:\\users\\skdbs\\anaconda3\\lib\\site-packages)\n",
      "WARNING: Ignoring invalid distribution -ip (c:\\users\\skdbs\\anaconda3\\lib\\site-packages)\n",
      "WARNING: Ignoring invalid distribution -pype1 (c:\\users\\skdbs\\anaconda3\\lib\\site-packages)\n",
      "WARNING: Ignoring invalid distribution -ip (c:\\users\\skdbs\\anaconda3\\lib\\site-packages)\n",
      "WARNING: Ignoring invalid distribution -pype1 (c:\\users\\skdbs\\anaconda3\\lib\\site-packages)\n",
      "WARNING: Ignoring invalid distribution -ip (c:\\users\\skdbs\\anaconda3\\lib\\site-packages)\n",
      "WARNING: Ignoring invalid distribution -pype1 (c:\\users\\skdbs\\anaconda3\\lib\\site-packages)\n",
      "WARNING: Ignoring invalid distribution -ip (c:\\users\\skdbs\\anaconda3\\lib\\site-packages)\n",
      "WARNING: Ignoring invalid distribution -pype1 (c:\\users\\skdbs\\anaconda3\\lib\\site-packages)\n",
      "WARNING: Ignoring invalid distribution -ip (c:\\users\\skdbs\\anaconda3\\lib\\site-packages)\n",
      "WARNING: Ignoring invalid distribution -pype1 (c:\\users\\skdbs\\anaconda3\\lib\\site-packages)\n",
      "WARNING: Ignoring invalid distribution -ip (c:\\users\\skdbs\\anaconda3\\lib\\site-packages)\n",
      "WARNING: Ignoring invalid distribution -pype1 (c:\\users\\skdbs\\anaconda3\\lib\\site-packages)\n",
      "WARNING: Ignoring invalid distribution -ip (c:\\users\\skdbs\\anaconda3\\lib\\site-packages)\n",
      "WARNING: Ignoring invalid distribution -pype1 (c:\\users\\skdbs\\anaconda3\\lib\\site-packages)\n",
      "WARNING: Ignoring invalid distribution -ip (c:\\users\\skdbs\\anaconda3\\lib\\site-packages)\n"
     ]
    },
    {
     "name": "stdout",
     "output_type": "stream",
     "text": [
      "Collecting graphviz\n",
      "  Downloading graphviz-0.17-py3-none-any.whl (18 kB)\n",
      "Installing collected packages: graphviz\n",
      "Successfully installed graphviz-0.17\n"
     ]
    }
   ],
   "source": [
    "!pip install pydot\n",
    "!pip install graphviz"
   ]
  },
  {
   "cell_type": "code",
   "execution_count": 7,
   "metadata": {
    "ExecuteTime": {
     "end_time": "2021-07-20T16:11:28.686063Z",
     "start_time": "2021-07-20T16:11:28.190565Z"
    }
   },
   "outputs": [],
   "source": [
    "# 그래프 시각화를 위해 import.\n",
    "from IPython.display import SVG\n",
    "from keras.utils.vis_utils import model_to_dot\n",
    "%matplotlib inline"
   ]
  },
  {
   "cell_type": "code",
   "execution_count": 11,
   "metadata": {
    "ExecuteTime": {
     "end_time": "2021-07-20T16:12:40.833269Z",
     "start_time": "2021-07-20T16:12:40.109825Z"
    }
   },
   "outputs": [
    {
     "data": {
      "image/svg+xml": [
       "<svg height=\"405pt\" viewBox=\"0.00 0.00 258.00 304.00\" width=\"344pt\" xmlns=\"http://www.w3.org/2000/svg\" xmlns:xlink=\"http://www.w3.org/1999/xlink\">\n",
       "<g class=\"graph\" id=\"graph0\" transform=\"scale(1.33 1.33) rotate(0) translate(4 300)\">\n",
       "<title>G</title>\n",
       "<polygon fill=\"white\" points=\"-4,4 -4,-300 254,-300 254,4 -4,4\" stroke=\"transparent\"/>\n",
       "<!-- 1708286896112 -->\n",
       "<g class=\"node\" id=\"node1\">\n",
       "<title>1708286896112</title>\n",
       "<polygon fill=\"none\" points=\"0,-249.5 0,-295.5 250,-295.5 250,-249.5 0,-249.5\" stroke=\"black\"/>\n",
       "<text font-family=\"Times New Roman,serif\" font-size=\"14.00\" text-anchor=\"middle\" x=\"63\" y=\"-268.8\">input_1: InputLayer</text>\n",
       "<polyline fill=\"none\" points=\"126,-249.5 126,-295.5 \" stroke=\"black\"/>\n",
       "<text font-family=\"Times New Roman,serif\" font-size=\"14.00\" text-anchor=\"middle\" x=\"154\" y=\"-280.3\">input:</text>\n",
       "<polyline fill=\"none\" points=\"126,-272.5 182,-272.5 \" stroke=\"black\"/>\n",
       "<text font-family=\"Times New Roman,serif\" font-size=\"14.00\" text-anchor=\"middle\" x=\"154\" y=\"-257.3\">output:</text>\n",
       "<polyline fill=\"none\" points=\"182,-249.5 182,-295.5 \" stroke=\"black\"/>\n",
       "<text font-family=\"Times New Roman,serif\" font-size=\"14.00\" text-anchor=\"middle\" x=\"216\" y=\"-280.3\">[(?, 784)]</text>\n",
       "<polyline fill=\"none\" points=\"182,-272.5 250,-272.5 \" stroke=\"black\"/>\n",
       "<text font-family=\"Times New Roman,serif\" font-size=\"14.00\" text-anchor=\"middle\" x=\"216\" y=\"-257.3\">[(?, 784)]</text>\n",
       "</g>\n",
       "<!-- 1708287464672 -->\n",
       "<g class=\"node\" id=\"node2\">\n",
       "<title>1708287464672</title>\n",
       "<polygon fill=\"none\" points=\"22.5,-166.5 22.5,-212.5 227.5,-212.5 227.5,-166.5 22.5,-166.5\" stroke=\"black\"/>\n",
       "<text font-family=\"Times New Roman,serif\" font-size=\"14.00\" text-anchor=\"middle\" x=\"67.5\" y=\"-185.8\">dense: Dense</text>\n",
       "<polyline fill=\"none\" points=\"112.5,-166.5 112.5,-212.5 \" stroke=\"black\"/>\n",
       "<text font-family=\"Times New Roman,serif\" font-size=\"14.00\" text-anchor=\"middle\" x=\"140.5\" y=\"-197.3\">input:</text>\n",
       "<polyline fill=\"none\" points=\"112.5,-189.5 168.5,-189.5 \" stroke=\"black\"/>\n",
       "<text font-family=\"Times New Roman,serif\" font-size=\"14.00\" text-anchor=\"middle\" x=\"140.5\" y=\"-174.3\">output:</text>\n",
       "<polyline fill=\"none\" points=\"168.5,-166.5 168.5,-212.5 \" stroke=\"black\"/>\n",
       "<text font-family=\"Times New Roman,serif\" font-size=\"14.00\" text-anchor=\"middle\" x=\"198\" y=\"-197.3\">(?, 784)</text>\n",
       "<polyline fill=\"none\" points=\"168.5,-189.5 227.5,-189.5 \" stroke=\"black\"/>\n",
       "<text font-family=\"Times New Roman,serif\" font-size=\"14.00\" text-anchor=\"middle\" x=\"198\" y=\"-174.3\">(?, 64)</text>\n",
       "</g>\n",
       "<!-- 1708286896112&#45;&gt;1708287464672 -->\n",
       "<g class=\"edge\" id=\"edge1\">\n",
       "<title>1708286896112-&gt;1708287464672</title>\n",
       "<path d=\"M125,-249.37C125,-241.15 125,-231.66 125,-222.73\" fill=\"none\" stroke=\"black\"/>\n",
       "<polygon fill=\"black\" points=\"128.5,-222.61 125,-212.61 121.5,-222.61 128.5,-222.61\" stroke=\"black\"/>\n",
       "</g>\n",
       "<!-- 1708287752848 -->\n",
       "<g class=\"node\" id=\"node3\">\n",
       "<title>1708287752848</title>\n",
       "<polygon fill=\"none\" points=\"18.5,-83.5 18.5,-129.5 231.5,-129.5 231.5,-83.5 18.5,-83.5\" stroke=\"black\"/>\n",
       "<text font-family=\"Times New Roman,serif\" font-size=\"14.00\" text-anchor=\"middle\" x=\"70.5\" y=\"-102.8\">dense_1: Dense</text>\n",
       "<polyline fill=\"none\" points=\"122.5,-83.5 122.5,-129.5 \" stroke=\"black\"/>\n",
       "<text font-family=\"Times New Roman,serif\" font-size=\"14.00\" text-anchor=\"middle\" x=\"150.5\" y=\"-114.3\">input:</text>\n",
       "<polyline fill=\"none\" points=\"122.5,-106.5 178.5,-106.5 \" stroke=\"black\"/>\n",
       "<text font-family=\"Times New Roman,serif\" font-size=\"14.00\" text-anchor=\"middle\" x=\"150.5\" y=\"-91.3\">output:</text>\n",
       "<polyline fill=\"none\" points=\"178.5,-83.5 178.5,-129.5 \" stroke=\"black\"/>\n",
       "<text font-family=\"Times New Roman,serif\" font-size=\"14.00\" text-anchor=\"middle\" x=\"205\" y=\"-114.3\">(?, 64)</text>\n",
       "<polyline fill=\"none\" points=\"178.5,-106.5 231.5,-106.5 \" stroke=\"black\"/>\n",
       "<text font-family=\"Times New Roman,serif\" font-size=\"14.00\" text-anchor=\"middle\" x=\"205\" y=\"-91.3\">(?, 64)</text>\n",
       "</g>\n",
       "<!-- 1708287464672&#45;&gt;1708287752848 -->\n",
       "<g class=\"edge\" id=\"edge2\">\n",
       "<title>1708287464672-&gt;1708287752848</title>\n",
       "<path d=\"M125,-166.37C125,-158.15 125,-148.66 125,-139.73\" fill=\"none\" stroke=\"black\"/>\n",
       "<polygon fill=\"black\" points=\"128.5,-139.61 125,-129.61 121.5,-139.61 128.5,-139.61\" stroke=\"black\"/>\n",
       "</g>\n",
       "<!-- 1708287752736 -->\n",
       "<g class=\"node\" id=\"node4\">\n",
       "<title>1708287752736</title>\n",
       "<polygon fill=\"none\" points=\"18.5,-0.5 18.5,-46.5 231.5,-46.5 231.5,-0.5 18.5,-0.5\" stroke=\"black\"/>\n",
       "<text font-family=\"Times New Roman,serif\" font-size=\"14.00\" text-anchor=\"middle\" x=\"70.5\" y=\"-19.8\">dense_2: Dense</text>\n",
       "<polyline fill=\"none\" points=\"122.5,-0.5 122.5,-46.5 \" stroke=\"black\"/>\n",
       "<text font-family=\"Times New Roman,serif\" font-size=\"14.00\" text-anchor=\"middle\" x=\"150.5\" y=\"-31.3\">input:</text>\n",
       "<polyline fill=\"none\" points=\"122.5,-23.5 178.5,-23.5 \" stroke=\"black\"/>\n",
       "<text font-family=\"Times New Roman,serif\" font-size=\"14.00\" text-anchor=\"middle\" x=\"150.5\" y=\"-8.3\">output:</text>\n",
       "<polyline fill=\"none\" points=\"178.5,-0.5 178.5,-46.5 \" stroke=\"black\"/>\n",
       "<text font-family=\"Times New Roman,serif\" font-size=\"14.00\" text-anchor=\"middle\" x=\"205\" y=\"-31.3\">(?, 64)</text>\n",
       "<polyline fill=\"none\" points=\"178.5,-23.5 231.5,-23.5 \" stroke=\"black\"/>\n",
       "<text font-family=\"Times New Roman,serif\" font-size=\"14.00\" text-anchor=\"middle\" x=\"205\" y=\"-8.3\">(?, 10)</text>\n",
       "</g>\n",
       "<!-- 1708287752848&#45;&gt;1708287752736 -->\n",
       "<g class=\"edge\" id=\"edge3\">\n",
       "<title>1708287752848-&gt;1708287752736</title>\n",
       "<path d=\"M125,-83.37C125,-75.15 125,-65.66 125,-56.73\" fill=\"none\" stroke=\"black\"/>\n",
       "<polygon fill=\"black\" points=\"128.5,-56.61 125,-46.61 121.5,-56.61 128.5,-56.61\" stroke=\"black\"/>\n",
       "</g>\n",
       "</g>\n",
       "</svg>"
      ],
      "text/plain": [
       "<IPython.core.display.SVG object>"
      ]
     },
     "execution_count": 11,
     "metadata": {},
     "output_type": "execute_result"
    }
   ],
   "source": [
    "SVG(model_to_dot(model, show_shapes=True).create(prog='dot', format='svg')) # 이건 왜 짤릴까"
   ]
  },
  {
   "cell_type": "code",
   "execution_count": 12,
   "metadata": {
    "ExecuteTime": {
     "end_time": "2021-07-20T16:13:03.427184Z",
     "start_time": "2021-07-20T16:13:02.732383Z"
    }
   },
   "outputs": [
    {
     "data": {
      "image/png": "[encoded data removed]",
      "text/plain": [
       "<IPython.core.display.Image object>"
      ]
     },
     "execution_count": 12,
     "metadata": {},
     "output_type": "execute_result"
    }
   ],
   "source": [
    "keras.utils.plot_model(model)"
   ]
  },
  {
   "cell_type": "code",
   "execution_count": 15,
   "metadata": {
    "ExecuteTime": {
     "end_time": "2021-07-20T16:19:18.432403Z",
     "start_time": "2021-07-20T16:19:17.707514Z"
    }
   },
   "outputs": [
    {
     "data": {
      "image/png": "[encoded data removed]",
      "text/plain": [
       "<IPython.core.display.Image object>"
      ]
     },
     "execution_count": 15,
     "metadata": {},
     "output_type": "execute_result"
    },
    {
     "name": "stderr",
     "output_type": "stream",
     "text": [
      "1:49: E203 whitespace before ','\n",
      "1:50: E231 missing whitespace after ','\n"
     ]
    }
   ],
   "source": [
    "keras.utils.plot_model(model, 'myFirstModel.png' ,show_shapes=True)"
   ]
  },
  {
   "attachments": {
    "image.png": {
     "image/png": "[encoded data removed]"
    }
   },
   "cell_type": "markdown",
   "metadata": {},
   "source": [
    "SVG로 그리는 것 보다 이게 훨씬 나은 것 같다.  <br>\n",
    "\n",
    "![image.png](attachment:image.png)\n",
    "\n",
    "<br>\n",
    "\n",
    "동일하다.  <br>\n",
    "단지 코드에선 연결 화살표가 호출 작업으로 대체되었음."
   ]
  },
  {
   "cell_type": "markdown",
   "metadata": {},
   "source": [
    "## Simple MNIST Example\n",
    "\n",
    "<br>\n",
    "\n",
    "- 훈련, 평가, 추론은 Sequential 모형과 같이 함수형 API를 사용.\n",
    "- Model 클래스는 내장으로 훈련 loop인 fit(), 평가 loop인 evaluate()를 가지고 있음.\n",
    "    - 이런 루프를 이렇게 저렇게 잘 만들면 GAN 같은 구조도 만들수가 있다."
   ]
  },
  {
   "cell_type": "code",
   "execution_count": 17,
   "metadata": {
    "ExecuteTime": {
     "end_time": "2021-07-20T16:21:20.391708Z",
     "start_time": "2021-07-20T16:21:20.077888Z"
    }
   },
   "outputs": [],
   "source": [
    "(x_train, y_train), (x_test, y_test) = keras.datasets.mnist.load_data()"
   ]
  },
  {
   "cell_type": "code",
   "execution_count": 19,
   "metadata": {
    "ExecuteTime": {
     "end_time": "2021-07-20T16:21:54.132783Z",
     "start_time": "2021-07-20T16:21:54.111808Z"
    }
   },
   "outputs": [
    {
     "name": "stdout",
     "output_type": "stream",
     "text": [
      "(60000, 28, 28)\n",
      "(60000,)\n",
      "(10000, 28, 28)\n",
      "(10000,)\n"
     ]
    }
   ],
   "source": [
    "print(x_train.shape)\n",
    "print(y_train.shape)\n",
    "print(x_test.shape)\n",
    "print(y_test.shape)\n",
    "# 역시 예제 데이터라 아주 깔끔하게 분할되어있다."
   ]
  },
  {
   "cell_type": "code",
   "execution_count": 20,
   "metadata": {
    "ExecuteTime": {
     "end_time": "2021-07-20T16:23:29.192842Z",
     "start_time": "2021-07-20T16:23:29.015956Z"
    }
   },
   "outputs": [],
   "source": [
    "# 입력 특성 차원 변경.\n",
    "x_train = x_train.reshape(60000, 28*28).astype('float32') / 255\n",
    "x_test = x_test.reshape(10000, 28*28).astype('float32') / 255"
   ]
  },
  {
   "cell_type": "code",
   "execution_count": 21,
   "metadata": {
    "ExecuteTime": {
     "end_time": "2021-07-20T16:23:40.005286Z",
     "start_time": "2021-07-20T16:23:39.985285Z"
    }
   },
   "outputs": [
    {
     "name": "stdout",
     "output_type": "stream",
     "text": [
      "(60000, 784)\n",
      "(10000, 784)\n"
     ]
    }
   ],
   "source": [
    "print(x_train.shape)\n",
    "print(x_test.shape)"
   ]
  },
  {
   "cell_type": "markdown",
   "metadata": {},
   "source": [
    "**앞서 만든 model을 써서 훈련 진행**"
   ]
  },
  {
   "cell_type": "code",
   "execution_count": 22,
   "metadata": {
    "ExecuteTime": {
     "end_time": "2021-07-20T16:25:11.568176Z",
     "start_time": "2021-07-20T16:25:11.532197Z"
    }
   },
   "outputs": [
    {
     "name": "stderr",
     "output_type": "stream",
     "text": [
      "2:9: E251 unexpected spaces around keyword / parameter equals\n",
      "2:11: E251 unexpected spaces around keyword / parameter equals\n"
     ]
    }
   ],
   "source": [
    "# 진행에 앞서 파라미터 갱신 방법 등과 같은 훈련 방법 정의.\n",
    "model.compile(\n",
    "    loss = keras.losses.SparseCategoricalCrossentropy(from_logits=True),\n",
    "    optimizer=keras.optimizers.Adam(),\n",
    "    metrics=['accuracy']\n",
    ")"
   ]
  },
  {
   "cell_type": "code",
   "execution_count": 24,
   "metadata": {
    "ExecuteTime": {
     "end_time": "2021-07-20T16:27:59.595162Z",
     "start_time": "2021-07-20T16:27:56.926966Z"
    }
   },
   "outputs": [
    {
     "name": "stdout",
     "output_type": "stream",
     "text": [
      "Epoch 1/3\n",
      "750/750 [==============================] - 1s 1ms/step - loss: 0.0917 - accuracy: 0.9724 - val_loss: 0.1066 - val_accuracy: 0.9692\n",
      "Epoch 2/3\n",
      "750/750 [==============================] - 1s 1ms/step - loss: 0.0746 - accuracy: 0.9777 - val_loss: 0.1047 - val_accuracy: 0.9697\n",
      "Epoch 3/3\n",
      "750/750 [==============================] - 1s 1ms/step - loss: 0.0623 - accuracy: 0.9809 - val_loss: 0.1013 - val_accuracy: 0.9697\n",
      "313/313 - 0s - loss: 0.0931 - accuracy: 0.9719\n"
     ]
    },
    {
     "name": "stderr",
     "output_type": "stream",
     "text": [
      "2:80: E501 line too long (84 > 79 characters)\n"
     ]
    },
    {
     "name": "stdout",
     "output_type": "stream",
     "text": [
      "Test Loss :  0.09311600774526596\n",
      "Test Accuracy :  0.9718999862670898\n"
     ]
    }
   ],
   "source": [
    "# 훈련시켜 보자.\n",
    "history = model.fit(x_train, y_train, batch_size=64, epochs=3, validation_split=0.2)\n",
    "\n",
    "# 훈련시킨 모델을 평가해보자.\n",
    "test_scores = model.evaluate(x_test, y_test, verbose=2)\n",
    "print('Test Loss : ', test_scores[0])\n",
    "print('Test Accuracy : ', test_scores[1])"
   ]
  },
  {
   "cell_type": "markdown",
   "metadata": {},
   "source": [
    "    위 자세한 내용은 3. Train and Evaluate 에서 다시 보자.\n",
    "    https://www.tensorflow.org/guide/keras/train_and_evaluate/?hl=ko"
   ]
  },
  {
   "cell_type": "markdown",
   "metadata": {},
   "source": [
    "## 모델의 저장, 직렬화\n",
    "\n",
    "<br>\n",
    "\n",
    "- 함수형 API를 사용해 빌드된 모델에 대해 같은 방식으로 작동.\n",
    "- 일반적으로 model.save()를 호출해 전체 모델을 단일 파일로 저장함. 파일엔 다음의 내용이 포함됨.\n",
    "    - 모델 구조 (아키텍처)\n",
    "    - 모델에서의 weights 값 (훈련 중 학습된 값)\n",
    "    - 모델의 훈련 구성 (compile에서 구성한 내용.) (이미 있는 경우 compile로 전달함.)\n",
    "    - Optimizer 및 상태 (이미 있는 경우, 중단된 곳에서 훈련을 다시 시작함.)"
   ]
  },
  {
   "cell_type": "code",
   "execution_count": 25,
   "metadata": {
    "ExecuteTime": {
     "end_time": "2021-07-20T16:32:42.348797Z",
     "start_time": "2021-07-20T16:32:40.853071Z"
    }
   },
   "outputs": [
    {
     "name": "stdout",
     "output_type": "stream",
     "text": [
      "WARNING:tensorflow:From C:\\Users\\skdbs\\Anaconda3\\lib\\site-packages\\tensorflow\\python\\training\\tracking\\tracking.py:111: Model.state_updates (from tensorflow.python.keras.engine.training) is deprecated and will be removed in a future version.\n",
      "Instructions for updating:\n",
      "This property should not be used in TensorFlow 2.0, as updates are applied automatically.\n",
      "WARNING:tensorflow:From C:\\Users\\skdbs\\Anaconda3\\lib\\site-packages\\tensorflow\\python\\training\\tracking\\tracking.py:111: Layer.updates (from tensorflow.python.keras.engine.base_layer) is deprecated and will be removed in a future version.\n",
      "Instructions for updating:\n",
      "This property should not be used in TensorFlow 2.0, as updates are applied automatically.\n",
      "INFO:tensorflow:Assets written to: SavedModels/myFirstModel\\assets\n"
     ]
    }
   ],
   "source": [
    "model.save('SavedModels/myFirstModel')"
   ]
  },
  {
   "attachments": {
    "image.png": {
     "image/png": "[encoded data removed]"
    }
   },
   "cell_type": "markdown",
   "metadata": {},
   "source": [
    "![image.png](attachment:image.png) \n",
    "\n",
    "오...."
   ]
  },
  {
   "cell_type": "code",
   "execution_count": 26,
   "metadata": {
    "ExecuteTime": {
     "end_time": "2021-07-20T16:34:10.657112Z",
     "start_time": "2021-07-20T16:34:10.628142Z"
    }
   },
   "outputs": [],
   "source": [
    "# 그럼 모델을 지우고 다시 동일한 모델을 불러와보자.\n",
    "del model"
   ]
  },
  {
   "cell_type": "code",
   "execution_count": 27,
   "metadata": {
    "ExecuteTime": {
     "end_time": "2021-07-20T16:34:25.886112Z",
     "start_time": "2021-07-20T16:34:25.240720Z"
    }
   },
   "outputs": [],
   "source": [
    "model = keras.models.load_model('SavedModels/myFirstModel')"
   ]
  },
  {
   "cell_type": "code",
   "execution_count": 30,
   "metadata": {
    "ExecuteTime": {
     "end_time": "2021-07-20T16:35:43.365691Z",
     "start_time": "2021-07-20T16:35:40.610726Z"
    }
   },
   "outputs": [
    {
     "name": "stdout",
     "output_type": "stream",
     "text": [
      "Epoch 1/3\n",
      "750/750 [==============================] - 1s 1ms/step - loss: 0.0189 - accuracy: 0.0987 - val_loss: 0.1146 - val_accuracy: 0.0997\n",
      "Epoch 2/3\n",
      "750/750 [==============================] - 1s 1ms/step - loss: 0.0176 - accuracy: 0.0986 - val_loss: 0.1210 - val_accuracy: 0.0980\n",
      "Epoch 3/3\n",
      "750/750 [==============================] - 1s 1ms/step - loss: 0.0192 - accuracy: 0.0987 - val_loss: 0.1080 - val_accuracy: 0.0990\n",
      "313/313 - 0s - loss: 0.0994 - accuracy: 0.0993\n",
      "Test Loss :  0.09940139949321747\n",
      "Test Accuracy :  0.09929999709129333\n"
     ]
    },
    {
     "name": "stderr",
     "output_type": "stream",
     "text": [
      "1:80: E501 line too long (85 > 79 characters)\n"
     ]
    }
   ],
   "source": [
    "history2 = model.fit(x_train, y_train, batch_size=64, epochs=3, validation_split=0.2)\n",
    "\n",
    "# 훈련시킨 모델을 평가해보자.\n",
    "test_scores2 = model.evaluate(x_test, y_test, verbose=2)\n",
    "print('Test Loss : ', test_scores2[0])\n",
    "print('Test Accuracy : ', test_scores2[1])"
   ]
  },
  {
   "cell_type": "markdown",
   "metadata": {},
   "source": [
    "    다시 불러와서 사용은 된다.\n",
    "    근데 정확도랑 Loss가 왜 이꼴이지"
   ]
  },
  {
   "cell_type": "markdown",
   "metadata": {},
   "source": [
    "**밑 내용들은 아직 접하기엔 무리가 많이 있어보인다...**\n",
    "\n",
    "<br>\n",
    "\n",
    "https://www.tensorflow.org/guide/keras/functional?hl=ko"
   ]
  }
 ],
 "metadata": {
  "kernelspec": {
   "display_name": "Python 3",
   "language": "python",
   "name": "python3"
  },
  "language_info": {
   "codemirror_mode": {
    "name": "ipython",
    "version": 3
   },
   "file_extension": ".py",
   "mimetype": "text/x-python",
   "name": "python",
   "nbconvert_exporter": "python",
   "pygments_lexer": "ipython3",
   "version": "3.7.1"
  },
  "toc": {
   "base_numbering": 1,
   "nav_menu": {},
   "number_sections": true,
   "sideBar": true,
   "skip_h1_title": false,
   "title_cell": "Table of Contents",
   "title_sidebar": "Contents",
   "toc_cell": false,
   "toc_position": {},
   "toc_section_display": true,
   "toc_window_display": false
  },
  "varInspector": {
   "cols": {
    "lenName": 16,
    "lenType": 16,
    "lenVar": 40
   },
   "kernels_config": {
    "python": {
     "delete_cmd_postfix": "",
     "delete_cmd_prefix": "del ",
     "library": "var_list.py",
     "varRefreshCmd": "print(var_dic_list())"
    },
    "r": {
     "delete_cmd_postfix": ") ",
     "delete_cmd_prefix": "rm(",
     "library": "var_list.r",
     "varRefreshCmd": "cat(var_dic_list()) "
    }
   },
   "types_to_exclude": [
    "module",
    "function",
    "builtin_function_or_method",
    "instance",
    "_Feature"
   ],
   "window_display": false
  }
 },
 "nbformat": 4,
 "nbformat_minor": 2
}

{
 "cells": [
  {
   "cell_type": "code",
   "execution_count": 5,
   "id": "250f25e5",
   "metadata": {
    "ExecuteTime": {
     "end_time": "2022-06-07T03:42:40.028817Z",
     "start_time": "2022-06-07T03:42:38.518893Z"
    }
   },
   "outputs": [],
   "source": [
    "import os\n",
    "import pandas as pd\n",
    "import torch\n",
    "from tqdm.auto import tqdm\n",
    "from MLP import MLP"
   ]
  },
  {
   "cell_type": "code",
   "execution_count": 6,
   "id": "fcc69a2e",
   "metadata": {
    "ExecuteTime": {
     "end_time": "2022-06-07T03:42:40.893966Z",
     "start_time": "2022-06-07T03:42:40.836943Z"
    }
   },
   "outputs": [],
   "source": [
    "dir = './data/'\n",
    "df_ratings = pd.read_csv(dir + 'ratings.csv', usecols=['userId', 'movieId', 'rating'])\n",
    "df_movies = pd.read_csv(dir + 'movies.csv', usecols=['movieId', 'title', 'genres'])"
   ]
  },
  {
   "cell_type": "markdown",
   "id": "760c18a5",
   "metadata": {},
   "source": [
    "### Pre-trained model load"
   ]
  },
  {
   "cell_type": "code",
   "execution_count": 7,
   "id": "b58b73d8",
   "metadata": {
    "ExecuteTime": {
     "end_time": "2022-06-07T03:42:42.040115Z",
     "start_time": "2022-06-07T03:42:42.021115Z"
    }
   },
   "outputs": [
    {
     "data": {
      "text/plain": [
       "'MLP_layer_[100,50,20,10]_dropout_0.0_lr_0.001_epoch_20.pth'"
      ]
     },
     "execution_count": 7,
     "metadata": {},
     "output_type": "execute_result"
    }
   ],
   "source": [
    "os.listdir('./model/')[2]"
   ]
  },
  {
   "cell_type": "code",
   "execution_count": 8,
   "id": "b53332be",
   "metadata": {
    "ExecuteTime": {
     "end_time": "2022-06-07T03:42:43.110641Z",
     "start_time": "2022-06-07T03:42:43.030477Z"
    }
   },
   "outputs": [
    {
     "data": {
      "text/plain": [
       "<All keys matched successfully>"
      ]
     },
     "execution_count": 8,
     "metadata": {},
     "output_type": "execute_result"
    }
   ],
   "source": [
    "MODEL_PATH = './model/'\n",
    "MODEL_STATE_PATH = './model_state/'\n",
    "\n",
    "# You can select any pre-trained model.\n",
    "model = torch.load(MODEL_PATH + os.listdir(MODEL_PATH)[2], map_location=torch.device('cpu'))\n",
    "model.load_state_dict(torch.load(MODEL_STATE_PATH + os.listdir(MODEL_STATE_PATH)[0], map_location=torch.device('cpu')))"
   ]
  },
  {
   "cell_type": "code",
   "execution_count": 9,
   "id": "ef33ef2c",
   "metadata": {
    "ExecuteTime": {
     "end_time": "2022-06-07T03:42:47.661955Z",
     "start_time": "2022-06-07T03:42:47.653926Z"
    }
   },
   "outputs": [
    {
     "data": {
      "text/plain": [
       "MLP(\n",
       "  (user_embedding): Embedding(611, 50)\n",
       "  (item_embedding): Embedding(193610, 50)\n",
       "  (fc_layers): ModuleList(\n",
       "    (0): Linear(in_features=100, out_features=50, bias=True)\n",
       "    (1): Linear(in_features=50, out_features=20, bias=True)\n",
       "    (2): Linear(in_features=20, out_features=10, bias=True)\n",
       "  )\n",
       "  (bn_layers): ModuleList(\n",
       "    (0): BatchNorm1d(50, eps=1e-05, momentum=0.1, affine=True, track_running_stats=True)\n",
       "    (1): BatchNorm1d(20, eps=1e-05, momentum=0.1, affine=True, track_running_stats=True)\n",
       "    (2): BatchNorm1d(10, eps=1e-05, momentum=0.1, affine=True, track_running_stats=True)\n",
       "  )\n",
       "  (output_layer): Linear(in_features=10, out_features=1, bias=True)\n",
       ")"
      ]
     },
     "execution_count": 9,
     "metadata": {},
     "output_type": "execute_result"
    }
   ],
   "source": [
    "model"
   ]
  },
  {
   "cell_type": "markdown",
   "id": "e6c97a8c",
   "metadata": {},
   "source": [
    "### Will use item_embedding for recommendation"
   ]
  },
  {
   "cell_type": "code",
   "execution_count": 10,
   "id": "c7cf0bc0",
   "metadata": {
    "ExecuteTime": {
     "end_time": "2022-06-07T03:42:50.781735Z",
     "start_time": "2022-06-07T03:42:50.774683Z"
    }
   },
   "outputs": [
    {
     "data": {
      "text/plain": [
       "torch.Size([193610, 50])"
      ]
     },
     "execution_count": 10,
     "metadata": {},
     "output_type": "execute_result"
    }
   ],
   "source": [
    "embedding = model.state_dict()['item_embedding.weight'].cpu()\n",
    "embedding.size()"
   ]
  },
  {
   "cell_type": "markdown",
   "id": "f4bae7e3",
   "metadata": {},
   "source": [
    "### Preprocess for suitable recommendation format"
   ]
  },
  {
   "cell_type": "code",
   "execution_count": 11,
   "id": "80bd8a6c",
   "metadata": {
    "ExecuteTime": {
     "end_time": "2022-06-07T03:42:54.381662Z",
     "start_time": "2022-06-07T03:42:53.526819Z"
    }
   },
   "outputs": [
    {
     "data": {
      "text/html": [
       "<div>\n",
       "<style scoped>\n",
       "    .dataframe tbody tr th:only-of-type {\n",
       "        vertical-align: middle;\n",
       "    }\n",
       "\n",
       "    .dataframe tbody tr th {\n",
       "        vertical-align: top;\n",
       "    }\n",
       "\n",
       "    .dataframe thead th {\n",
       "        text-align: right;\n",
       "    }\n",
       "</style>\n",
       "<table border=\"1\" class=\"dataframe\">\n",
       "  <thead>\n",
       "    <tr style=\"text-align: right;\">\n",
       "      <th></th>\n",
       "      <th>userId</th>\n",
       "      <th>seen_movies_trueID</th>\n",
       "    </tr>\n",
       "  </thead>\n",
       "  <tbody>\n",
       "    <tr>\n",
       "      <td>0</td>\n",
       "      <td>1</td>\n",
       "      <td>[0, 2, 5, 43, 46, 62, 89, 97, 124, 130, 136, 1...</td>\n",
       "    </tr>\n",
       "    <tr>\n",
       "      <td>1</td>\n",
       "      <td>2</td>\n",
       "      <td>[291, 2670, 277, 1283, 4607, 5294, 6236, 6298,...</td>\n",
       "    </tr>\n",
       "    <tr>\n",
       "      <td>2</td>\n",
       "      <td>3</td>\n",
       "      <td>[461, 973, 1189, 1492, 1552, 1566, 2761, 30, 5...</td>\n",
       "    </tr>\n",
       "    <tr>\n",
       "      <td>3</td>\n",
       "      <td>4</td>\n",
       "      <td>[43, 201, 224, 257, 384, 398, 485, 510, 520, 5...</td>\n",
       "    </tr>\n",
       "    <tr>\n",
       "      <td>4</td>\n",
       "      <td>5</td>\n",
       "      <td>[0, 46, 97, 257, 275, 307, 325, 398, 461, 508,...</td>\n",
       "    </tr>\n",
       "    <tr>\n",
       "      <td>...</td>\n",
       "      <td>...</td>\n",
       "      <td>...</td>\n",
       "    </tr>\n",
       "    <tr>\n",
       "      <td>605</td>\n",
       "      <td>606</td>\n",
       "      <td>[0, 43, 46, 62, 97, 130, 190, 197, 201, 224, 2...</td>\n",
       "    </tr>\n",
       "    <tr>\n",
       "      <td>606</td>\n",
       "      <td>607</td>\n",
       "      <td>[0, 97, 224, 257, 275, 367, 398, 418, 461, 485...</td>\n",
       "    </tr>\n",
       "    <tr>\n",
       "      <td>607</td>\n",
       "      <td>608</td>\n",
       "      <td>[0, 2, 43, 46, 62, 97, 136, 184, 190, 197, 224...</td>\n",
       "    </tr>\n",
       "    <tr>\n",
       "      <td>608</td>\n",
       "      <td>609</td>\n",
       "      <td>[0, 97, 197, 257, 314, 398, 418, 508, 509, 277...</td>\n",
       "    </tr>\n",
       "    <tr>\n",
       "      <td>609</td>\n",
       "      <td>610</td>\n",
       "      <td>[0, 5, 43, 46, 62, 97, 197, 224, 257, 314, 325...</td>\n",
       "    </tr>\n",
       "  </tbody>\n",
       "</table>\n",
       "<p>610 rows × 2 columns</p>\n",
       "</div>"
      ],
      "text/plain": [
       "     userId                                 seen_movies_trueID\n",
       "0         1  [0, 2, 5, 43, 46, 62, 89, 97, 124, 130, 136, 1...\n",
       "1         2  [291, 2670, 277, 1283, 4607, 5294, 6236, 6298,...\n",
       "2         3  [461, 973, 1189, 1492, 1552, 1566, 2761, 30, 5...\n",
       "3         4  [43, 201, 224, 257, 384, 398, 485, 510, 520, 5...\n",
       "4         5  [0, 46, 97, 257, 275, 307, 325, 398, 461, 508,...\n",
       "..      ...                                                ...\n",
       "605     606  [0, 43, 46, 62, 97, 130, 190, 197, 201, 224, 2...\n",
       "606     607  [0, 97, 224, 257, 275, 367, 398, 418, 461, 485...\n",
       "607     608  [0, 2, 43, 46, 62, 97, 136, 184, 190, 197, 224...\n",
       "608     609  [0, 97, 197, 257, 314, 398, 418, 508, 509, 277...\n",
       "609     610  [0, 5, 43, 46, 62, 97, 197, 224, 257, 314, 325...\n",
       "\n",
       "[610 rows x 2 columns]"
      ]
     },
     "execution_count": 11,
     "metadata": {},
     "output_type": "execute_result"
    }
   ],
   "source": [
    "# Since there is a difference between total # of movies and # of movies seen by users,\n",
    "# remove them beforehand.\n",
    "union_movies = pd.merge(pd.DataFrame(df_ratings['movieId'].unique(), columns=['movieId']), \n",
    "                        pd.DataFrame(df_movies['movieId']),\n",
    "                        how='outer', indicator=True)\n",
    "\n",
    "# Filter movies not rated by any users.\n",
    "# [1076, 2939, 3338, 3456, 4194, 5721, 6668, 6849, 7020, 7792, 8765, 25855, 26085, 30892, 32160, 32371, 34482, 85565]\n",
    "unseen_movieIds = union_movies[union_movies['_merge'] != 'both']['movieId'].values.tolist()\n",
    "\n",
    "# Remove non-rated movies from df_movies.\n",
    "df_movies = df_movies.drop(df_movies[df_movies['movieId'].isin(unseen_movieIds)].index)\n",
    "\n",
    "# For comfortable indexing, add existing index as a new column (movieId_num).\n",
    "df_movies = df_movies.reset_index(drop=True).reset_index().rename(columns = {'index' : 'movieId_num'})\n",
    "\n",
    "# Merge df_ratings & df_movies on movieId.\n",
    "df_sample = pd.merge(df_ratings, df_movies, on='movieId')\n",
    "\n",
    "# Define dictionary to remember user's seen movie's movieId.\n",
    "items = {}\n",
    "\n",
    "# Loop over unique users\n",
    "for user_id in df_ratings['userId'].unique():\n",
    "    # Extract user's seen movies.\n",
    "    user_ratings_sample = df_sample[df_sample['userId'] == user_id]\n",
    "    \n",
    "    # Add seen movies to items.\n",
    "    # items are look like : {'userId' : 'seen_movies'}\n",
    "    items[user_id] = ' '.join(user_ratings_sample['movieId_num'].astype('str'))\n",
    "\n",
    "# Using items, make DataFrame in the form of 'userId' - 'seen_movies'.\n",
    "# Here, 'seen_movies' mean actual index of movieId in df_movies, where 'reset_index' method was performed. \n",
    "total = pd.DataFrame.from_dict(items, orient='index')\n",
    "total = total.reset_index()\n",
    "total = total.rename(columns = {'index' : 'userId', 0 : 'seen_movies_trueID'})\n",
    "total['seen_movies_trueID'] = total['seen_movies_trueID'].apply(lambda x: x.split())\n",
    "total['seen_movies_trueID'] = total['seen_movies_trueID'].apply(lambda x: list(map(int, x))) # torch 입력을 위해 str을 int로 변환\n",
    "\n",
    "total"
   ]
  },
  {
   "cell_type": "code",
   "execution_count": 12,
   "id": "31317cef",
   "metadata": {
    "ExecuteTime": {
     "end_time": "2022-06-07T03:43:05.781589Z",
     "start_time": "2022-06-07T03:43:05.752508Z"
    }
   },
   "outputs": [],
   "source": [
    "# For user id, return a list of topn recommended (most similar) movies.\n",
    "def makeRecommendation(userId, topn):\n",
    "    user_rating = total[total['userId'] == USER_ID]\n",
    "    user_seen_movies = user_rating['seen_movies_trueID'].values[0]\n",
    "\n",
    "    # 해당 사용자가 본 영화 목록 get\n",
    "    # Get user's seen movies.\n",
    "    user_movie_df = df_movies.loc[df_movies['movieId_num'].isin(user_seen_movies)]\n",
    "    \n",
    "    # For user's seen movies, make integrated embedding vector.\n",
    "    # Embedding size is 'layer[0]/2'. (pre-trained model's embedding size is 50.)\n",
    "    user_embedding = torch.zeros(50)\n",
    "    for movie in user_seen_movies:\n",
    "        user_embedding = torch.add(user_embedding, embedding[movie])\n",
    "        user_embedding = user_embedding / len(user_seen_movies)\n",
    "\n",
    "    # Calculate similarity between total item embedding and user's item embedding.\n",
    "    cosine = torch.nn.CosineSimilarity(dim=0)\n",
    "    similarity_list = []\n",
    "    for i in tqdm(range(embedding.shape[0]), desc=f'Making Recommendation...'):\n",
    "        output = cosine(user_embedding, embedding[i])\n",
    "        similarity_list.append(output)\n",
    "    similarity_list = np.array(similarity_list)\n",
    "    \n",
    "    # Obtained index corresponds to movieId_num in df_movies.\n",
    "    # Get topn similarity list.\n",
    "    topn_index = np.argpartition(similarity_list, -TOPN)[-TOPN:].tolist()\n",
    "    topn_sim = similarity_list[topn_index]\n",
    "\n",
    "    # Make recommendation as dataframe.\n",
    "    recommend_df = df_movies.loc[df_movies['movieId'].isin(topn_index)]\n",
    "    recommend_df = recommend_df.assign(similarity = topn_sim)\n",
    "    recommend_df = recommend_df.drop(columns=['movieId_num']).reset_index(drop=True)\n",
    "    recommend_df = recommend_df.sort_values(by=['similarity'], ascending=False)\n",
    "    recommend_df.reset_index(drop=True, inplace=True)\n",
    "    \n",
    "    return recommend_df\n",
    "\n",
    "# Get user's seen movies. (with genres)\n",
    "def user_seen_movies(userId):\n",
    "    user_rating = total[total['userId'] == userId]\n",
    "    user_seen_movies = user_rating['seen_movies_trueID'].values[0]\n",
    "    \n",
    "    user_movie_df = df_movies.loc[df_movies['movieId_num'].isin(user_seen_movies)]\n",
    "    \n",
    "    # Shuffle seen_movies list randomly.\n",
    "    user_movie_df = user_movie_df.sample(frac=1).reset_index(drop=True)\n",
    "    user_movie_df = user_movie_df.drop(columns=['movieId_num']).reset_index(drop=True)\n",
    "    \n",
    "    # Get user's seen movies's genre as list.\n",
    "    genre_list = pd.concat([user_movie_df, user_movie_df['genres'].str.get_dummies(sep='|')], axis=1)\n",
    "    genre_list = genre_list.columns.tolist()\n",
    "    genre_list = genre_list[3:]\n",
    "    \n",
    "    print(f\"Genre of user {userId} seen movies are : \" + ', '.join(genre_list))\n",
    "    \n",
    "    # Only show top 10 movies.\n",
    "    # (Since user_movie_df is shuffled, result may be differ all times.)\n",
    "    return user_movie_df.head(10)"
   ]
  },
  {
   "cell_type": "code",
   "execution_count": 13,
   "id": "fc50c8dd",
   "metadata": {
    "ExecuteTime": {
     "end_time": "2022-06-07T03:43:08.590571Z",
     "start_time": "2022-06-07T03:43:08.583513Z"
    }
   },
   "outputs": [],
   "source": [
    "USER_ID = 555\n",
    "TOPN = 10"
   ]
  },
  {
   "cell_type": "code",
   "execution_count": 14,
   "id": "863a9a75",
   "metadata": {
    "ExecuteTime": {
     "end_time": "2022-06-07T03:43:09.561128Z",
     "start_time": "2022-06-07T03:43:09.527104Z"
    },
    "scrolled": false
   },
   "outputs": [
    {
     "name": "stdout",
     "output_type": "stream",
     "text": [
      "Genre of user 555 seen movies are : Action, Adventure, Animation, Children, Comedy, Crime, Documentary, Drama, Fantasy, Film-Noir, Horror, IMAX, Musical, Mystery, Romance, Sci-Fi, Thriller, War, Western\n"
     ]
    },
    {
     "data": {
      "text/html": [
       "<div>\n",
       "<style scoped>\n",
       "    .dataframe tbody tr th:only-of-type {\n",
       "        vertical-align: middle;\n",
       "    }\n",
       "\n",
       "    .dataframe tbody tr th {\n",
       "        vertical-align: top;\n",
       "    }\n",
       "\n",
       "    .dataframe thead th {\n",
       "        text-align: right;\n",
       "    }\n",
       "</style>\n",
       "<table border=\"1\" class=\"dataframe\">\n",
       "  <thead>\n",
       "    <tr style=\"text-align: right;\">\n",
       "      <th></th>\n",
       "      <th>movieId</th>\n",
       "      <th>title</th>\n",
       "      <th>genres</th>\n",
       "    </tr>\n",
       "  </thead>\n",
       "  <tbody>\n",
       "    <tr>\n",
       "      <td>0</td>\n",
       "      <td>2986</td>\n",
       "      <td>RoboCop 2 (1990)</td>\n",
       "      <td>Action|Crime|Sci-Fi|Thriller</td>\n",
       "    </tr>\n",
       "    <tr>\n",
       "      <td>1</td>\n",
       "      <td>441</td>\n",
       "      <td>Dazed and Confused (1993)</td>\n",
       "      <td>Comedy</td>\n",
       "    </tr>\n",
       "    <tr>\n",
       "      <td>2</td>\n",
       "      <td>2817</td>\n",
       "      <td>Aces: Iron Eagle III (1992)</td>\n",
       "      <td>Action</td>\n",
       "    </tr>\n",
       "    <tr>\n",
       "      <td>3</td>\n",
       "      <td>3497</td>\n",
       "      <td>Max Dugan Returns (1983)</td>\n",
       "      <td>Comedy</td>\n",
       "    </tr>\n",
       "    <tr>\n",
       "      <td>4</td>\n",
       "      <td>555</td>\n",
       "      <td>True Romance (1993)</td>\n",
       "      <td>Crime|Thriller</td>\n",
       "    </tr>\n",
       "    <tr>\n",
       "      <td>5</td>\n",
       "      <td>24</td>\n",
       "      <td>Powder (1995)</td>\n",
       "      <td>Drama|Sci-Fi</td>\n",
       "    </tr>\n",
       "    <tr>\n",
       "      <td>6</td>\n",
       "      <td>2641</td>\n",
       "      <td>Superman II (1980)</td>\n",
       "      <td>Action|Sci-Fi</td>\n",
       "    </tr>\n",
       "    <tr>\n",
       "      <td>7</td>\n",
       "      <td>2450</td>\n",
       "      <td>Howard the Duck (1986)</td>\n",
       "      <td>Adventure|Comedy|Sci-Fi</td>\n",
       "    </tr>\n",
       "    <tr>\n",
       "      <td>8</td>\n",
       "      <td>3051</td>\n",
       "      <td>Anywhere But Here (1999)</td>\n",
       "      <td>Comedy|Drama</td>\n",
       "    </tr>\n",
       "    <tr>\n",
       "      <td>9</td>\n",
       "      <td>1665</td>\n",
       "      <td>Bean (1997)</td>\n",
       "      <td>Comedy</td>\n",
       "    </tr>\n",
       "  </tbody>\n",
       "</table>\n",
       "</div>"
      ],
      "text/plain": [
       "   movieId                        title                        genres\n",
       "0     2986             RoboCop 2 (1990)  Action|Crime|Sci-Fi|Thriller\n",
       "1      441    Dazed and Confused (1993)                        Comedy\n",
       "2     2817  Aces: Iron Eagle III (1992)                        Action\n",
       "3     3497     Max Dugan Returns (1983)                        Comedy\n",
       "4      555          True Romance (1993)                Crime|Thriller\n",
       "5       24                Powder (1995)                  Drama|Sci-Fi\n",
       "6     2641           Superman II (1980)                 Action|Sci-Fi\n",
       "7     2450       Howard the Duck (1986)       Adventure|Comedy|Sci-Fi\n",
       "8     3051     Anywhere But Here (1999)                  Comedy|Drama\n",
       "9     1665                  Bean (1997)                        Comedy"
      ]
     },
     "execution_count": 14,
     "metadata": {},
     "output_type": "execute_result"
    }
   ],
   "source": [
    "user_seen_movies(USER_ID)"
   ]
  },
  {
   "cell_type": "code",
   "execution_count": 15,
   "id": "58d5c4bc",
   "metadata": {
    "ExecuteTime": {
     "end_time": "2022-06-07T03:43:21.816390Z",
     "start_time": "2022-06-07T03:43:13.016863Z"
    }
   },
   "outputs": [
    {
     "data": {
      "application/vnd.jupyter.widget-view+json": {
       "model_id": "1833ba0ea36f4842bf36cc33f97d839b",
       "version_major": 2,
       "version_minor": 0
      },
      "text/plain": [
       "Making Recommendation...:   0%|          | 0/193610 [00:00<?, ?it/s]"
      ]
     },
     "metadata": {},
     "output_type": "display_data"
    },
    {
     "data": {
      "text/html": [
       "<div>\n",
       "<style scoped>\n",
       "    .dataframe tbody tr th:only-of-type {\n",
       "        vertical-align: middle;\n",
       "    }\n",
       "\n",
       "    .dataframe tbody tr th {\n",
       "        vertical-align: top;\n",
       "    }\n",
       "\n",
       "    .dataframe thead th {\n",
       "        text-align: right;\n",
       "    }\n",
       "</style>\n",
       "<table border=\"1\" class=\"dataframe\">\n",
       "  <thead>\n",
       "    <tr style=\"text-align: right;\">\n",
       "      <th></th>\n",
       "      <th>movieId</th>\n",
       "      <th>title</th>\n",
       "      <th>genres</th>\n",
       "      <th>similarity</th>\n",
       "    </tr>\n",
       "  </thead>\n",
       "  <tbody>\n",
       "    <tr>\n",
       "      <td>0</td>\n",
       "      <td>50842</td>\n",
       "      <td>Boss of It All, The (Direktøren for det hele) ...</td>\n",
       "      <td>Comedy|Drama</td>\n",
       "      <td>1.000000</td>\n",
       "    </tr>\n",
       "    <tr>\n",
       "      <td>1</td>\n",
       "      <td>86320</td>\n",
       "      <td>Melancholia (2011)</td>\n",
       "      <td>Drama|Sci-Fi</td>\n",
       "      <td>0.999863</td>\n",
       "    </tr>\n",
       "    <tr>\n",
       "      <td>2</td>\n",
       "      <td>55061</td>\n",
       "      <td>Electroma (2006)</td>\n",
       "      <td>Drama|Sci-Fi</td>\n",
       "      <td>0.999833</td>\n",
       "    </tr>\n",
       "    <tr>\n",
       "      <td>3</td>\n",
       "      <td>112852</td>\n",
       "      <td>Guardians of the Galaxy (2014)</td>\n",
       "      <td>Action|Adventure|Sci-Fi</td>\n",
       "      <td>0.999818</td>\n",
       "    </tr>\n",
       "    <tr>\n",
       "      <td>4</td>\n",
       "      <td>75816</td>\n",
       "      <td>Women in Trouble (2009)</td>\n",
       "      <td>Comedy</td>\n",
       "      <td>0.999788</td>\n",
       "    </tr>\n",
       "    <tr>\n",
       "      <td>5</td>\n",
       "      <td>96488</td>\n",
       "      <td>Searching for Sugar Man (2012)</td>\n",
       "      <td>Documentary</td>\n",
       "      <td>0.999683</td>\n",
       "    </tr>\n",
       "    <tr>\n",
       "      <td>6</td>\n",
       "      <td>6810</td>\n",
       "      <td>Sleeping with the Enemy (1991)</td>\n",
       "      <td>Drama|Thriller</td>\n",
       "      <td>0.999675</td>\n",
       "    </tr>\n",
       "    <tr>\n",
       "      <td>7</td>\n",
       "      <td>2749</td>\n",
       "      <td>Morning After, The (1986)</td>\n",
       "      <td>Drama|Mystery</td>\n",
       "      <td>0.999663</td>\n",
       "    </tr>\n",
       "    <tr>\n",
       "      <td>8</td>\n",
       "      <td>2445</td>\n",
       "      <td>At First Sight (1999)</td>\n",
       "      <td>Drama</td>\n",
       "      <td>0.999660</td>\n",
       "    </tr>\n",
       "    <tr>\n",
       "      <td>9</td>\n",
       "      <td>1848</td>\n",
       "      <td>Borrowers, The (1997)</td>\n",
       "      <td>Adventure|Children|Comedy|Fantasy</td>\n",
       "      <td>0.999638</td>\n",
       "    </tr>\n",
       "  </tbody>\n",
       "</table>\n",
       "</div>"
      ],
      "text/plain": [
       "   movieId                                              title  \\\n",
       "0    50842  Boss of It All, The (Direktøren for det hele) ...   \n",
       "1    86320                                 Melancholia (2011)   \n",
       "2    55061                                   Electroma (2006)   \n",
       "3   112852                     Guardians of the Galaxy (2014)   \n",
       "4    75816                            Women in Trouble (2009)   \n",
       "5    96488                     Searching for Sugar Man (2012)   \n",
       "6     6810                     Sleeping with the Enemy (1991)   \n",
       "7     2749                          Morning After, The (1986)   \n",
       "8     2445                              At First Sight (1999)   \n",
       "9     1848                              Borrowers, The (1997)   \n",
       "\n",
       "                              genres  similarity  \n",
       "0                       Comedy|Drama    1.000000  \n",
       "1                       Drama|Sci-Fi    0.999863  \n",
       "2                       Drama|Sci-Fi    0.999833  \n",
       "3            Action|Adventure|Sci-Fi    0.999818  \n",
       "4                             Comedy    0.999788  \n",
       "5                        Documentary    0.999683  \n",
       "6                     Drama|Thriller    0.999675  \n",
       "7                      Drama|Mystery    0.999663  \n",
       "8                              Drama    0.999660  \n",
       "9  Adventure|Children|Comedy|Fantasy    0.999638  "
      ]
     },
     "execution_count": 15,
     "metadata": {},
     "output_type": "execute_result"
    }
   ],
   "source": [
    "makeRecommendation(USER_ID, TOPN)"
   ]
  }
 ],
 "metadata": {
  "kernelspec": {
   "display_name": "Python 3 (ipykernel)",
   "language": "python",
   "name": "python3"
  },
  "language_info": {
   "codemirror_mode": {
    "name": "ipython",
    "version": 3
   },
   "file_extension": ".py",
   "mimetype": "text/x-python",
   "name": "python",
   "nbconvert_exporter": "python",
   "pygments_lexer": "ipython3",
   "version": "3.7.4"
  },
  "toc": {
   "base_numbering": 1,
   "nav_menu": {},
   "number_sections": true,
   "sideBar": true,
   "skip_h1_title": false,
   "title_cell": "Table of Contents",
   "title_sidebar": "Contents",
   "toc_cell": false,
   "toc_position": {},
   "toc_section_display": true,
   "toc_window_display": false
  },
  "varInspector": {
   "cols": {
    "lenName": 16,
    "lenType": 16,
    "lenVar": 40
   },
   "kernels_config": {
    "python": {
     "delete_cmd_postfix": "",
     "delete_cmd_prefix": "del ",
     "library": "var_list.py",
     "varRefreshCmd": "print(var_dic_list())"
    },
    "r": {
     "delete_cmd_postfix": ") ",
     "delete_cmd_prefix": "rm(",
     "library": "var_list.r",
     "varRefreshCmd": "cat(var_dic_list()) "
    }
   },
   "types_to_exclude": [
    "module",
    "function",
    "builtin_function_or_method",
    "instance",
    "_Feature"
   ],
   "window_display": false
  }
 },
 "nbformat": 4,
 "nbformat_minor": 5
}

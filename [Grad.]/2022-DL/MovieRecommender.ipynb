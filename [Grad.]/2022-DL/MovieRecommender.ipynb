{
 "cells": [
  {
   "cell_type": "code",
   "execution_count": 149,
   "id": "a8827369",
   "metadata": {
    "ExecuteTime": {
     "end_time": "2022-06-07T02:14:39.342465Z",
     "start_time": "2022-06-07T02:14:39.334462Z"
    }
   },
   "outputs": [],
   "source": [
    "import os\n",
    "import pandas as pd\n",
    "import torch\n",
    "from tqdm.auto import tqdm"
   ]
  },
  {
   "cell_type": "code",
   "execution_count": 150,
   "id": "6a1dab5d",
   "metadata": {
    "ExecuteTime": {
     "end_time": "2022-06-07T02:14:40.140658Z",
     "start_time": "2022-06-07T02:14:40.054644Z"
    }
   },
   "outputs": [],
   "source": [
    "dir = './data/'\n",
    "df_ratings = pd.read_csv(dir + 'ratings.csv', usecols=['userId', 'movieId', 'rating'])\n",
    "df_movies = pd.read_csv(dir + 'movies.csv', usecols=['movieId', 'title', 'genres'])"
   ]
  },
  {
   "cell_type": "markdown",
   "id": "1e62c754",
   "metadata": {},
   "source": [
    "Pre-trained model load"
   ]
  },
  {
   "cell_type": "code",
   "execution_count": 151,
   "id": "c750ab34",
   "metadata": {
    "ExecuteTime": {
     "end_time": "2022-06-07T02:14:41.605328Z",
     "start_time": "2022-06-07T02:14:41.591262Z"
    }
   },
   "outputs": [
    {
     "data": {
      "text/plain": [
       "'MLP_layer_[100,50,20,10]_dropout_0.0_lr_0.001_epoch_20.pth'"
      ]
     },
     "execution_count": 151,
     "metadata": {},
     "output_type": "execute_result"
    }
   ],
   "source": [
    "os.listdir('./model/')[2]"
   ]
  },
  {
   "cell_type": "code",
   "execution_count": 152,
   "id": "10199a78",
   "metadata": {
    "ExecuteTime": {
     "end_time": "2022-06-07T02:14:42.727413Z",
     "start_time": "2022-06-07T02:14:42.646399Z"
    }
   },
   "outputs": [
    {
     "data": {
      "text/plain": [
       "<All keys matched successfully>"
      ]
     },
     "execution_count": 152,
     "metadata": {},
     "output_type": "execute_result"
    }
   ],
   "source": [
    "MODEL_PATH = './model/'\n",
    "MODEL_STATE_PATH = './model_state/'\n",
    "model = torch.load(MODEL_PATH + os.listdir(MODEL_PATH)[2], map_location=torch.device('cpu'))\n",
    "model.load_state_dict(torch.load(MODEL_STATE_PATH + os.listdir(MODEL_STATE_PATH)[0], map_location=torch.device('cpu')))"
   ]
  },
  {
   "cell_type": "code",
   "execution_count": 153,
   "id": "3c97678b",
   "metadata": {
    "ExecuteTime": {
     "end_time": "2022-06-07T02:14:43.794884Z",
     "start_time": "2022-06-07T02:14:43.784826Z"
    }
   },
   "outputs": [
    {
     "data": {
      "text/plain": [
       "MLP(\n",
       "  (user_embedding): Embedding(611, 50)\n",
       "  (item_embedding): Embedding(193610, 50)\n",
       "  (fc_layers): ModuleList(\n",
       "    (0): Linear(in_features=100, out_features=50, bias=True)\n",
       "    (1): Linear(in_features=50, out_features=20, bias=True)\n",
       "    (2): Linear(in_features=20, out_features=10, bias=True)\n",
       "  )\n",
       "  (bn_layers): ModuleList(\n",
       "    (0): BatchNorm1d(50, eps=1e-05, momentum=0.1, affine=True, track_running_stats=True)\n",
       "    (1): BatchNorm1d(20, eps=1e-05, momentum=0.1, affine=True, track_running_stats=True)\n",
       "    (2): BatchNorm1d(10, eps=1e-05, momentum=0.1, affine=True, track_running_stats=True)\n",
       "  )\n",
       "  (output_layer): Linear(in_features=10, out_features=1, bias=True)\n",
       ")"
      ]
     },
     "execution_count": 153,
     "metadata": {},
     "output_type": "execute_result"
    }
   ],
   "source": [
    "model"
   ]
  },
  {
   "cell_type": "markdown",
   "id": "294c81a8",
   "metadata": {},
   "source": [
    "Will use item_embedding for recommendation"
   ]
  },
  {
   "cell_type": "code",
   "execution_count": 154,
   "id": "cfbd826d",
   "metadata": {
    "ExecuteTime": {
     "end_time": "2022-06-07T02:14:45.439652Z",
     "start_time": "2022-06-07T02:14:45.430619Z"
    }
   },
   "outputs": [
    {
     "data": {
      "text/plain": [
       "torch.Size([193610, 50])"
      ]
     },
     "execution_count": 154,
     "metadata": {},
     "output_type": "execute_result"
    }
   ],
   "source": [
    "embedding = model.state_dict()['item_embedding.weight'].cpu()\n",
    "embedding.size()"
   ]
  },
  {
   "cell_type": "markdown",
   "id": "4f67fc41",
   "metadata": {},
   "source": [
    "Preprocess for suitable recommendation format."
   ]
  },
  {
   "cell_type": "code",
   "execution_count": 155,
   "id": "1a1644be",
   "metadata": {
    "ExecuteTime": {
     "end_time": "2022-06-07T02:14:47.677415Z",
     "start_time": "2022-06-07T02:14:46.866640Z"
    }
   },
   "outputs": [
    {
     "data": {
      "text/html": [
       "<div>\n",
       "<style scoped>\n",
       "    .dataframe tbody tr th:only-of-type {\n",
       "        vertical-align: middle;\n",
       "    }\n",
       "\n",
       "    .dataframe tbody tr th {\n",
       "        vertical-align: top;\n",
       "    }\n",
       "\n",
       "    .dataframe thead th {\n",
       "        text-align: right;\n",
       "    }\n",
       "</style>\n",
       "<table border=\"1\" class=\"dataframe\">\n",
       "  <thead>\n",
       "    <tr style=\"text-align: right;\">\n",
       "      <th></th>\n",
       "      <th>userId</th>\n",
       "      <th>seen_movies_trueID</th>\n",
       "    </tr>\n",
       "  </thead>\n",
       "  <tbody>\n",
       "    <tr>\n",
       "      <td>0</td>\n",
       "      <td>1</td>\n",
       "      <td>[0, 2, 5, 43, 46, 62, 89, 97, 124, 130, 136, 1...</td>\n",
       "    </tr>\n",
       "    <tr>\n",
       "      <td>1</td>\n",
       "      <td>2</td>\n",
       "      <td>[291, 2670, 277, 1283, 4607, 5294, 6236, 6298,...</td>\n",
       "    </tr>\n",
       "    <tr>\n",
       "      <td>2</td>\n",
       "      <td>3</td>\n",
       "      <td>[461, 973, 1189, 1492, 1552, 1566, 2761, 30, 5...</td>\n",
       "    </tr>\n",
       "    <tr>\n",
       "      <td>3</td>\n",
       "      <td>4</td>\n",
       "      <td>[43, 201, 224, 257, 384, 398, 485, 510, 520, 5...</td>\n",
       "    </tr>\n",
       "    <tr>\n",
       "      <td>4</td>\n",
       "      <td>5</td>\n",
       "      <td>[0, 46, 97, 257, 275, 307, 325, 398, 461, 508,...</td>\n",
       "    </tr>\n",
       "    <tr>\n",
       "      <td>...</td>\n",
       "      <td>...</td>\n",
       "      <td>...</td>\n",
       "    </tr>\n",
       "    <tr>\n",
       "      <td>605</td>\n",
       "      <td>606</td>\n",
       "      <td>[0, 43, 46, 62, 97, 130, 190, 197, 201, 224, 2...</td>\n",
       "    </tr>\n",
       "    <tr>\n",
       "      <td>606</td>\n",
       "      <td>607</td>\n",
       "      <td>[0, 97, 224, 257, 275, 367, 398, 418, 461, 485...</td>\n",
       "    </tr>\n",
       "    <tr>\n",
       "      <td>607</td>\n",
       "      <td>608</td>\n",
       "      <td>[0, 2, 43, 46, 62, 97, 136, 184, 190, 197, 224...</td>\n",
       "    </tr>\n",
       "    <tr>\n",
       "      <td>608</td>\n",
       "      <td>609</td>\n",
       "      <td>[0, 97, 197, 257, 314, 398, 418, 508, 509, 277...</td>\n",
       "    </tr>\n",
       "    <tr>\n",
       "      <td>609</td>\n",
       "      <td>610</td>\n",
       "      <td>[0, 5, 43, 46, 62, 97, 197, 224, 257, 314, 325...</td>\n",
       "    </tr>\n",
       "  </tbody>\n",
       "</table>\n",
       "<p>610 rows × 2 columns</p>\n",
       "</div>"
      ],
      "text/plain": [
       "     userId                                 seen_movies_trueID\n",
       "0         1  [0, 2, 5, 43, 46, 62, 89, 97, 124, 130, 136, 1...\n",
       "1         2  [291, 2670, 277, 1283, 4607, 5294, 6236, 6298,...\n",
       "2         3  [461, 973, 1189, 1492, 1552, 1566, 2761, 30, 5...\n",
       "3         4  [43, 201, 224, 257, 384, 398, 485, 510, 520, 5...\n",
       "4         5  [0, 46, 97, 257, 275, 307, 325, 398, 461, 508,...\n",
       "..      ...                                                ...\n",
       "605     606  [0, 43, 46, 62, 97, 130, 190, 197, 201, 224, 2...\n",
       "606     607  [0, 97, 224, 257, 275, 367, 398, 418, 461, 485...\n",
       "607     608  [0, 2, 43, 46, 62, 97, 136, 184, 190, 197, 224...\n",
       "608     609  [0, 97, 197, 257, 314, 398, 418, 508, 509, 277...\n",
       "609     610  [0, 5, 43, 46, 62, 97, 197, 224, 257, 314, 325...\n",
       "\n",
       "[610 rows x 2 columns]"
      ]
     },
     "execution_count": 155,
     "metadata": {},
     "output_type": "execute_result"
    }
   ],
   "source": [
    "# 전체 영화의 수와 실제 사용자가 본 영화의 수에 차이가 있으므로, 사전에 제거.\n",
    "union_movies = pd.merge(pd.DataFrame(df_ratings['movieId'].unique(), columns=['movieId']), \n",
    "                        pd.DataFrame(df_movies['movieId']),\n",
    "                        how='outer', indicator=True)\n",
    "\n",
    "# 단 한명의 사용자도 평점을 매기지 않은 영화 filtering ([1076, 2939, 3338, 3456, 4194, 5721, 6668, 6849, 7020, 7792, 8765, 25855, 26085, 30892, 32160, 32371, 34482, 85565])\n",
    "unseen_movieIds = union_movies[union_movies['_merge'] != 'both']['movieId'].values.tolist()\n",
    "\n",
    "# 한명도 평점을 매기지 않은 영화를 df_movies에서 제거\n",
    "df_movies = df_movies.drop(df_movies[df_movies['movieId'].isin(unseen_movieIds)].index)\n",
    "\n",
    "# 수월한 index 접근을 위해 기존 index를 새로운 컬럼으로 추가, 이름은 movieId_num\n",
    "df_movies = df_movies.reset_index(drop=True).reset_index().rename(columns = {'index' : 'movieId_num'})\n",
    "\n",
    "# movieId가 포함되게 merge.\n",
    "df_sample = pd.merge(df_ratings, df_movies, on='movieId')\n",
    "\n",
    "# user가 본 movieId를 저장할 dictionary\n",
    "items = {}\n",
    "\n",
    "# 고유한 user마다 loop\n",
    "for user_id in df_ratings['userId'].unique():\n",
    "    # 해당 user가 본 영화만을 추출 추출\n",
    "    user_ratings_sample = df_sample[df_sample['userId'] == user_id]\n",
    "    # 추출한 영화를 items에 기억. items는 {'userId' : 'seen_movies'}의 형태로 구성.\n",
    "    items[user_id] = ' '.join(user_ratings_sample['movieId_num'].astype('str'))\n",
    "\n",
    "# items를 사용해 userId - seen_movies 형태의 DataFrame 생성.\n",
    "# 이때 seen_movies는 reset_index가 수행된 df_movies에서의 movieId의 실제 index 번호를 의미. (movieId_num)\n",
    "total = pd.DataFrame.from_dict(items, orient='index')\n",
    "total = total.reset_index()\n",
    "total = total.rename(columns = {'index' : 'userId', 0 : 'seen_movies_trueID'})\n",
    "total['seen_movies_trueID'] = total['seen_movies_trueID'].apply(lambda x: x.split())\n",
    "total['seen_movies_trueID'] = total['seen_movies_trueID'].apply(lambda x: list(map(int, x))) # torch 입력을 위해 str을 int로 변환\n",
    "\n",
    "total"
   ]
  },
  {
   "cell_type": "code",
   "execution_count": 169,
   "id": "2f30c217",
   "metadata": {
    "ExecuteTime": {
     "end_time": "2022-06-07T02:19:35.585387Z",
     "start_time": "2022-06-07T02:19:35.556342Z"
    }
   },
   "outputs": [],
   "source": [
    "# 사용자 ID에 대해, 상위 topn개 만큼의 추천된(유사도가 가장 높은) 영화 목록 반환.\n",
    "def makeRecommendation(userId, topn):\n",
    "    user_rating = total[total['userId'] == USER_ID]\n",
    "    user_seen_movies = user_rating['seen_movies_trueID'].values[0]\n",
    "\n",
    "    # 해당 사용자가 본 영화 목록 get\n",
    "    user_movie_df = df_movies.loc[df_movies['movieId_num'].isin(user_seen_movies)]\n",
    "    \n",
    "    # 해당 사용자가 본 movie들에 대한 통합된 embedding get (embedding size : layer[0]/2)\n",
    "    user_embedding = torch.zeros(50)\n",
    "    for movie in user_seen_movies:\n",
    "        user_embedding = torch.add(user_embedding, embedding[movie])\n",
    "        user_embedding = user_embedding / len(user_seen_movies)\n",
    "\n",
    "    # 사용자가 본 item의 embedding과 전체 item embedding간의 유사도 계산\n",
    "    cosine = torch.nn.CosineSimilarity(dim=0)\n",
    "    similarity_list = []\n",
    "    for i in tqdm(range(embedding.shape[0]), desc=f'Making Recommendation...'):\n",
    "        output = cosine(user_embedding, embedding[i])\n",
    "        similarity_list.append(output)\n",
    "    similarity_list = np.array(similarity_list)\n",
    "    \n",
    "    # 얻은 index는 df_movies에서의 movieId_num에 해당하는 index.\n",
    "    topn_index = np.argpartition(similarity_list, -TOPN)[-TOPN:].tolist()\n",
    "    topn_sim = similarity_list[topn_index]\n",
    "\n",
    "    # 편의를 위해 dataframe 형식으로 변환\n",
    "    recommend_df = df_movies.loc[df_movies['movieId'].isin(topn_index)]\n",
    "    recommend_df = recommend_df.assign(similarity = topn_sim)\n",
    "    recommend_df = recommend_df.drop(columns=['movieId_num']).reset_index(drop=True)\n",
    "    recommend_df = recommend_df.sort_values(by=['similarity'], ascending=False)\n",
    "    recommend_df.reset_index(drop=True, inplace=True)\n",
    "    \n",
    "    return recommend_df\n",
    "\n",
    "# 사용자가 실제로 봤던 영화 목록 get.\n",
    "def user_seen_movies(userId):\n",
    "    user_rating = total[total['userId'] == userId]\n",
    "    user_seen_movies = user_rating['seen_movies_trueID'].values[0]\n",
    "    \n",
    "    # 해당 사용자가 본 영화 get\n",
    "    user_movie_df = df_movies.loc[df_movies['movieId_num'].isin(user_seen_movies)]\n",
    "    user_movie_df = user_movie_df.sample(frac=1).reset_index(drop=True) # 본 목록 순서 무작위 shuffle\n",
    "    user_movie_df = user_movie_df.drop(columns=['movieId_num']).reset_index(drop=True)\n",
    "    \n",
    "    # 해당 사용자가 본 영화들의 장르 리스트 get\n",
    "    genre_list = pd.concat([user_movie_df, user_movie_df['genres'].str.get_dummies(sep='|')], axis=1)\n",
    "    genre_list = genre_list.columns.tolist()\n",
    "    genre_list = genre_list[3:]\n",
    "    \n",
    "    print(f\"Genre of user {userId} seen movies are : \" + ', '.join(genre_list))\n",
    "    # print(', '.join(genre_list))\n",
    "    \n",
    "    \n",
    "    return user_movie_df.head(10)"
   ]
  },
  {
   "cell_type": "code",
   "execution_count": 170,
   "id": "1ddf07e6",
   "metadata": {
    "ExecuteTime": {
     "end_time": "2022-06-07T02:19:40.769208Z",
     "start_time": "2022-06-07T02:19:40.756124Z"
    }
   },
   "outputs": [],
   "source": [
    "USER_ID = 555\n",
    "TOPN = 10"
   ]
  },
  {
   "cell_type": "code",
   "execution_count": 173,
   "id": "baa6d1a9",
   "metadata": {
    "ExecuteTime": {
     "end_time": "2022-06-07T02:20:49.308663Z",
     "start_time": "2022-06-07T02:20:49.272654Z"
    },
    "scrolled": false
   },
   "outputs": [
    {
     "name": "stdout",
     "output_type": "stream",
     "text": [
      "Genre of user 555 seen movies are : Action, Adventure, Animation, Children, Comedy, Crime, Documentary, Drama, Fantasy, Film-Noir, Horror, IMAX, Musical, Mystery, Romance, Sci-Fi, Thriller, War, Western\n"
     ]
    },
    {
     "data": {
      "text/html": [
       "<div>\n",
       "<style scoped>\n",
       "    .dataframe tbody tr th:only-of-type {\n",
       "        vertical-align: middle;\n",
       "    }\n",
       "\n",
       "    .dataframe tbody tr th {\n",
       "        vertical-align: top;\n",
       "    }\n",
       "\n",
       "    .dataframe thead th {\n",
       "        text-align: right;\n",
       "    }\n",
       "</style>\n",
       "<table border=\"1\" class=\"dataframe\">\n",
       "  <thead>\n",
       "    <tr style=\"text-align: right;\">\n",
       "      <th></th>\n",
       "      <th>movieId</th>\n",
       "      <th>title</th>\n",
       "      <th>genres</th>\n",
       "    </tr>\n",
       "  </thead>\n",
       "  <tbody>\n",
       "    <tr>\n",
       "      <td>0</td>\n",
       "      <td>2428</td>\n",
       "      <td>Faculty, The (1998)</td>\n",
       "      <td>Horror|Sci-Fi</td>\n",
       "    </tr>\n",
       "    <tr>\n",
       "      <td>1</td>\n",
       "      <td>2423</td>\n",
       "      <td>Christmas Vacation (National Lampoon's Christm...</td>\n",
       "      <td>Comedy</td>\n",
       "    </tr>\n",
       "    <tr>\n",
       "      <td>2</td>\n",
       "      <td>2011</td>\n",
       "      <td>Back to the Future Part II (1989)</td>\n",
       "      <td>Adventure|Comedy|Sci-Fi</td>\n",
       "    </tr>\n",
       "    <tr>\n",
       "      <td>3</td>\n",
       "      <td>1275</td>\n",
       "      <td>Highlander (1986)</td>\n",
       "      <td>Action|Adventure|Fantasy</td>\n",
       "    </tr>\n",
       "    <tr>\n",
       "      <td>4</td>\n",
       "      <td>2877</td>\n",
       "      <td>Tommy (1975)</td>\n",
       "      <td>Musical</td>\n",
       "    </tr>\n",
       "    <tr>\n",
       "      <td>5</td>\n",
       "      <td>2572</td>\n",
       "      <td>10 Things I Hate About You (1999)</td>\n",
       "      <td>Comedy|Romance</td>\n",
       "    </tr>\n",
       "    <tr>\n",
       "      <td>6</td>\n",
       "      <td>2706</td>\n",
       "      <td>American Pie (1999)</td>\n",
       "      <td>Comedy|Romance</td>\n",
       "    </tr>\n",
       "    <tr>\n",
       "      <td>7</td>\n",
       "      <td>2408</td>\n",
       "      <td>Cocoon: The Return (1988)</td>\n",
       "      <td>Comedy|Sci-Fi</td>\n",
       "    </tr>\n",
       "    <tr>\n",
       "      <td>8</td>\n",
       "      <td>160</td>\n",
       "      <td>Congo (1995)</td>\n",
       "      <td>Action|Adventure|Mystery|Sci-Fi</td>\n",
       "    </tr>\n",
       "    <tr>\n",
       "      <td>9</td>\n",
       "      <td>218</td>\n",
       "      <td>Boys on the Side (1995)</td>\n",
       "      <td>Comedy|Drama</td>\n",
       "    </tr>\n",
       "  </tbody>\n",
       "</table>\n",
       "</div>"
      ],
      "text/plain": [
       "   movieId                                              title  \\\n",
       "0     2428                                Faculty, The (1998)   \n",
       "1     2423  Christmas Vacation (National Lampoon's Christm...   \n",
       "2     2011                  Back to the Future Part II (1989)   \n",
       "3     1275                                  Highlander (1986)   \n",
       "4     2877                                       Tommy (1975)   \n",
       "5     2572                  10 Things I Hate About You (1999)   \n",
       "6     2706                                American Pie (1999)   \n",
       "7     2408                          Cocoon: The Return (1988)   \n",
       "8      160                                       Congo (1995)   \n",
       "9      218                            Boys on the Side (1995)   \n",
       "\n",
       "                            genres  \n",
       "0                    Horror|Sci-Fi  \n",
       "1                           Comedy  \n",
       "2          Adventure|Comedy|Sci-Fi  \n",
       "3         Action|Adventure|Fantasy  \n",
       "4                          Musical  \n",
       "5                   Comedy|Romance  \n",
       "6                   Comedy|Romance  \n",
       "7                    Comedy|Sci-Fi  \n",
       "8  Action|Adventure|Mystery|Sci-Fi  \n",
       "9                     Comedy|Drama  "
      ]
     },
     "execution_count": 173,
     "metadata": {},
     "output_type": "execute_result"
    }
   ],
   "source": [
    "user_seen_movies(USER_ID)"
   ]
  },
  {
   "cell_type": "code",
   "execution_count": 172,
   "id": "9b639fe6",
   "metadata": {
    "ExecuteTime": {
     "end_time": "2022-06-07T02:19:59.006700Z",
     "start_time": "2022-06-07T02:19:50.281768Z"
    }
   },
   "outputs": [
    {
     "data": {
      "application/vnd.jupyter.widget-view+json": {
       "model_id": "573db09e2103411ebbcb42b92c7a3cef",
       "version_major": 2,
       "version_minor": 0
      },
      "text/plain": [
       "Making Recommendation...:   0%|          | 0/193610 [00:00<?, ?it/s]"
      ]
     },
     "metadata": {},
     "output_type": "display_data"
    },
    {
     "data": {
      "text/html": [
       "<div>\n",
       "<style scoped>\n",
       "    .dataframe tbody tr th:only-of-type {\n",
       "        vertical-align: middle;\n",
       "    }\n",
       "\n",
       "    .dataframe tbody tr th {\n",
       "        vertical-align: top;\n",
       "    }\n",
       "\n",
       "    .dataframe thead th {\n",
       "        text-align: right;\n",
       "    }\n",
       "</style>\n",
       "<table border=\"1\" class=\"dataframe\">\n",
       "  <thead>\n",
       "    <tr style=\"text-align: right;\">\n",
       "      <th></th>\n",
       "      <th>movieId</th>\n",
       "      <th>title</th>\n",
       "      <th>genres</th>\n",
       "      <th>similarity</th>\n",
       "    </tr>\n",
       "  </thead>\n",
       "  <tbody>\n",
       "    <tr>\n",
       "      <td>0</td>\n",
       "      <td>50842</td>\n",
       "      <td>Boss of It All, The (Direktøren for det hele) ...</td>\n",
       "      <td>Comedy|Drama</td>\n",
       "      <td>1.000000</td>\n",
       "    </tr>\n",
       "    <tr>\n",
       "      <td>1</td>\n",
       "      <td>86320</td>\n",
       "      <td>Melancholia (2011)</td>\n",
       "      <td>Drama|Sci-Fi</td>\n",
       "      <td>0.999863</td>\n",
       "    </tr>\n",
       "    <tr>\n",
       "      <td>2</td>\n",
       "      <td>55061</td>\n",
       "      <td>Electroma (2006)</td>\n",
       "      <td>Drama|Sci-Fi</td>\n",
       "      <td>0.999833</td>\n",
       "    </tr>\n",
       "    <tr>\n",
       "      <td>3</td>\n",
       "      <td>112852</td>\n",
       "      <td>Guardians of the Galaxy (2014)</td>\n",
       "      <td>Action|Adventure|Sci-Fi</td>\n",
       "      <td>0.999818</td>\n",
       "    </tr>\n",
       "    <tr>\n",
       "      <td>4</td>\n",
       "      <td>75816</td>\n",
       "      <td>Women in Trouble (2009)</td>\n",
       "      <td>Comedy</td>\n",
       "      <td>0.999788</td>\n",
       "    </tr>\n",
       "    <tr>\n",
       "      <td>5</td>\n",
       "      <td>96488</td>\n",
       "      <td>Searching for Sugar Man (2012)</td>\n",
       "      <td>Documentary</td>\n",
       "      <td>0.999683</td>\n",
       "    </tr>\n",
       "    <tr>\n",
       "      <td>6</td>\n",
       "      <td>6810</td>\n",
       "      <td>Sleeping with the Enemy (1991)</td>\n",
       "      <td>Drama|Thriller</td>\n",
       "      <td>0.999675</td>\n",
       "    </tr>\n",
       "    <tr>\n",
       "      <td>7</td>\n",
       "      <td>2749</td>\n",
       "      <td>Morning After, The (1986)</td>\n",
       "      <td>Drama|Mystery</td>\n",
       "      <td>0.999663</td>\n",
       "    </tr>\n",
       "    <tr>\n",
       "      <td>8</td>\n",
       "      <td>2445</td>\n",
       "      <td>At First Sight (1999)</td>\n",
       "      <td>Drama</td>\n",
       "      <td>0.999660</td>\n",
       "    </tr>\n",
       "    <tr>\n",
       "      <td>9</td>\n",
       "      <td>1848</td>\n",
       "      <td>Borrowers, The (1997)</td>\n",
       "      <td>Adventure|Children|Comedy|Fantasy</td>\n",
       "      <td>0.999638</td>\n",
       "    </tr>\n",
       "  </tbody>\n",
       "</table>\n",
       "</div>"
      ],
      "text/plain": [
       "   movieId                                              title  \\\n",
       "0    50842  Boss of It All, The (Direktøren for det hele) ...   \n",
       "1    86320                                 Melancholia (2011)   \n",
       "2    55061                                   Electroma (2006)   \n",
       "3   112852                     Guardians of the Galaxy (2014)   \n",
       "4    75816                            Women in Trouble (2009)   \n",
       "5    96488                     Searching for Sugar Man (2012)   \n",
       "6     6810                     Sleeping with the Enemy (1991)   \n",
       "7     2749                          Morning After, The (1986)   \n",
       "8     2445                              At First Sight (1999)   \n",
       "9     1848                              Borrowers, The (1997)   \n",
       "\n",
       "                              genres  similarity  \n",
       "0                       Comedy|Drama    1.000000  \n",
       "1                       Drama|Sci-Fi    0.999863  \n",
       "2                       Drama|Sci-Fi    0.999833  \n",
       "3            Action|Adventure|Sci-Fi    0.999818  \n",
       "4                             Comedy    0.999788  \n",
       "5                        Documentary    0.999683  \n",
       "6                     Drama|Thriller    0.999675  \n",
       "7                      Drama|Mystery    0.999663  \n",
       "8                              Drama    0.999660  \n",
       "9  Adventure|Children|Comedy|Fantasy    0.999638  "
      ]
     },
     "execution_count": 172,
     "metadata": {},
     "output_type": "execute_result"
    }
   ],
   "source": [
    "makeRecommendation(USER_ID, TOPN)"
   ]
  },
  {
   "cell_type": "code",
   "execution_count": null,
   "id": "95c1efb2",
   "metadata": {},
   "outputs": [],
   "source": []
  }
 ],
 "metadata": {
  "kernelspec": {
   "display_name": "Python 3 (ipykernel)",
   "language": "python",
   "name": "python3"
  },
  "language_info": {
   "codemirror_mode": {
    "name": "ipython",
    "version": 3
   },
   "file_extension": ".py",
   "mimetype": "text/x-python",
   "name": "python",
   "nbconvert_exporter": "python",
   "pygments_lexer": "ipython3",
   "version": "3.7.4"
  },
  "toc": {
   "base_numbering": 1,
   "nav_menu": {},
   "number_sections": true,
   "sideBar": true,
   "skip_h1_title": false,
   "title_cell": "Table of Contents",
   "title_sidebar": "Contents",
   "toc_cell": false,
   "toc_position": {},
   "toc_section_display": true,
   "toc_window_display": false
  },
  "varInspector": {
   "cols": {
    "lenName": 16,
    "lenType": 16,
    "lenVar": 40
   },
   "kernels_config": {
    "python": {
     "delete_cmd_postfix": "",
     "delete_cmd_prefix": "del ",
     "library": "var_list.py",
     "varRefreshCmd": "print(var_dic_list())"
    },
    "r": {
     "delete_cmd_postfix": ") ",
     "delete_cmd_prefix": "rm(",
     "library": "var_list.r",
     "varRefreshCmd": "cat(var_dic_list()) "
    }
   },
   "types_to_exclude": [
    "module",
    "function",
    "builtin_function_or_method",
    "instance",
    "_Feature"
   ],
   "window_display": false
  }
 },
 "nbformat": 4,
 "nbformat_minor": 5
}

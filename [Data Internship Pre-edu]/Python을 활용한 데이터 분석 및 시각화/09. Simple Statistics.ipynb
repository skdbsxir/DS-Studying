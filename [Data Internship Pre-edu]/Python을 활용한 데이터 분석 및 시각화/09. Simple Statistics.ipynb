{
 "cells": [
  {
   "cell_type": "markdown",
   "metadata": {},
   "source": [
    "**빈도수 분석**\n",
    "\n",
    "<br>\n",
    "\n",
    "    collections의 Counter 모듈을 이용하면 쉽게 찾을 수 있음."
   ]
  },
  {
   "cell_type": "code",
   "execution_count": 1,
   "metadata": {},
   "outputs": [
    {
     "name": "stdout",
     "output_type": "stream",
     "text": [
      "Counter({3800: 3, 9700: 2, 4300: 2, 4200: 2, 3200: 2, 9500: 1, 9900: 1, 4500: 1, 5500: 1})\n",
      "3\n",
      "2\n"
     ]
    }
   ],
   "source": [
    "import collections\n",
    "\n",
    "sal_all = [9700, 9500, 9900, 3800, 4300, 4300, 3800, 4200, 4500, 3200, 5500, 3200, 3800, 4200, 9700]\n",
    "sal_count = collections.Counter(sal_all)\n",
    "print(sal_count)\n",
    "print(sal_count[3800])\n",
    "print(sal_count[3200])"
   ]
  },
  {
   "cell_type": "code",
   "execution_count": 2,
   "metadata": {},
   "outputs": [
    {
     "name": "stdout",
     "output_type": "stream",
     "text": [
      "최대 연봉 :  9900\n",
      "최소 연봉 :  3200\n"
     ]
    }
   ],
   "source": [
    "# 최대 / 최소 연봉 구하기\n",
    "print('최대 연봉 : ', max(sal_all))\n",
    "print('최소 연봉 : ', min(sal_all))"
   ]
  },
  {
   "cell_type": "code",
   "execution_count": 4,
   "metadata": {},
   "outputs": [
    {
     "name": "stdout",
     "output_type": "stream",
     "text": [
      "[3200, 3200, 3800, 3800, 3800, 4200, 4200, 4300, 4300, 4500, 5500, 9500, 9700, 9700, 9900]\n",
      "[9900, 9700, 9700, 9500, 5500, 4500, 4300, 4300, 4200, 4200, 3800, 3800, 3800, 3200, 3200]\n"
     ]
    }
   ],
   "source": [
    "# 전체 값 정렬\n",
    "sal_sort = sorted(sal_all)\n",
    "print(sal_sort)\n",
    "\n",
    "# 역순 정렬\n",
    "sal_sort_rev = sorted(sal_all, reverse = True)\n",
    "print(sal_sort_rev)"
   ]
  },
  {
   "cell_type": "code",
   "execution_count": 6,
   "metadata": {},
   "outputs": [
    {
     "name": "stdout",
     "output_type": "stream",
     "text": [
      "평균값 :  5573.333333333333\n",
      "numpy 이용 평균값 :  5573.333333333333\n"
     ]
    }
   ],
   "source": [
    "# 평균값 / 중앙값 계산\n",
    "mean_sal = sum(sal_all) / len(sal_all)\n",
    "print('평균값 : ', mean_sal)\n",
    "\n",
    "# numpy 모듈 이용\n",
    "import numpy as np\n",
    "print('numpy 이용 평균값 : ', np.mean(sal_all))"
   ]
  },
  {
   "cell_type": "code",
   "execution_count": 10,
   "metadata": {},
   "outputs": [
    {
     "name": "stdout",
     "output_type": "stream",
     "text": [
      "가운데 값 자리 번호 :  7\n",
      "중앙값 :  4300\n",
      "numpy 이용 중앙값 :  4300.0\n"
     ]
    }
   ],
   "source": [
    "# 중앙값 찾기\n",
    " # 정렬을 먼저 한 다음 찾아야함.\n",
    " # 전체 길이가 홀수인 경우? 중앙 앞뒤를 더한 다음 2로 나눈 값이 중앙값.\n",
    "print('가운데 값 자리 번호 : ', len(sal_all) // 2)\n",
    "print('중앙값 : ', sal_sort[len(sal_all) // 2])\n",
    "\n",
    "# numpy 이용\n",
    "print('numpy 이용 중앙값 : ', np.median(sal_all))"
   ]
  },
  {
   "cell_type": "code",
   "execution_count": 11,
   "metadata": {},
   "outputs": [
    {
     "name": "stdout",
     "output_type": "stream",
     "text": [
      "분산 :  6471288.9\n",
      "표준편차 :  2543.9\n"
     ]
    }
   ],
   "source": [
    "# 분산, 표준편차\n",
    "print('분산 : ', round(np.var(sal_all), 1))\n",
    "print('표준편차 : ', round(np.std(sal_all), 1))"
   ]
  },
  {
   "cell_type": "markdown",
   "metadata": {},
   "source": [
    "**상관관계 분석**"
   ]
  },
  {
   "cell_type": "code",
   "execution_count": 13,
   "metadata": {},
   "outputs": [
    {
     "name": "stdout",
     "output_type": "stream",
     "text": [
      "          0         1\n",
      "0  1.000000  0.997054\n",
      "1  0.997054  1.000000\n"
     ]
    }
   ],
   "source": [
    "import pandas as pd\n",
    "\n",
    "lst = [[1,2,3,4,5], \n",
    "       [3,5,8,11,13]]\n",
    "df = pd.DataFrame(lst).T\n",
    "\n",
    "# DataFrame 내장함수 corr를 이용해 상관관계 계산이 가능.\n",
    "corr = df.corr(method = 'pearson')\n",
    "print(corr)"
   ]
  },
  {
   "cell_type": "markdown",
   "metadata": {},
   "source": [
    "**선형회귀 분석**"
   ]
  },
  {
   "cell_type": "code",
   "execution_count": 20,
   "metadata": {},
   "outputs": [
    {
     "name": "stdout",
     "output_type": "stream",
     "text": [
      "slope :  0.94\n",
      "intercept :  -4.199999999999989\n",
      "상관계수 :  0.8660744134561783\n",
      "p-value :  0.057637687745097074\n",
      "error 표준편차 :  0.3132624033192196\n",
      "예상 IQ :  105.78\n"
     ]
    },
    {
     "data": {
      "image/png": "[encoded data removed]",
      "text/plain": [
       "<Figure size 432x288 with 1 Axes>"
      ]
     },
     "metadata": {
      "needs_background": "light"
     },
     "output_type": "display_data"
    }
   ],
   "source": [
    "from scipy import stats\n",
    "# scipy.polyval is deprecated. Use np.polyval.\n",
    "from pylab import plot, title, show, legend\n",
    "\n",
    "x = [110, 120, 130, 140, 150]\n",
    "y = [100, 105, 128, 115, 142]\n",
    "\n",
    "slope, intercept, r, p, std = stats.linregress(x, y)\n",
    "ry = np.polyval([slope, intercept], x)\n",
    "print('slope : ', slope)\n",
    "print('intercept : ', intercept)\n",
    "print('상관계수 : ', r)\n",
    "print('p-value : ', p)\n",
    "print('error 표준편차 : ',std)\n",
    "\n",
    "print('예상 IQ : ', 117 * slope + intercept)\n",
    "\n",
    "plot(x, y, 'k.')\n",
    "plot(x, ry, 'r.-')\n",
    "title('Regression')\n",
    "legend(['original', 'regression'])\n",
    "show()"
   ]
  }
 ],
 "metadata": {
  "kernelspec": {
   "display_name": "Python 3",
   "language": "python",
   "name": "python3"
  },
  "language_info": {
   "codemirror_mode": {
    "name": "ipython",
    "version": 3
   },
   "file_extension": ".py",
   "mimetype": "text/x-python",
   "name": "python",
   "nbconvert_exporter": "python",
   "pygments_lexer": "ipython3",
   "version": "3.7.1"
  }
 },
 "nbformat": 4,
 "nbformat_minor": 2
}

{
 "cells": [
  {
   "cell_type": "markdown",
   "metadata": {},
   "source": [
    "## R의 변수"
   ]
  },
  {
   "cell_type": "markdown",
   "metadata": {},
   "source": [
    "**R의 산술연산자**\n",
    "\n",
    "<br>\n",
    "\n",
    "- 사칙연산 : +, -, *, /\n",
    "- 나눗셈 : % (정수 전용 몫 계산)\n",
    "    - %% (나머지 값 게산)\n",
    "- 승수 계산 : ^ 또는 **"
   ]
  },
  {
   "cell_type": "code",
   "execution_count": 1,
   "metadata": {},
   "outputs": [
    {
     "data": {
      "text/html": [
       "10300"
      ],
      "text/latex": [
       "10300"
      ],
      "text/markdown": [
       "10300"
      ],
      "text/plain": [
       "[1] 10300"
      ]
     },
     "metadata": {},
     "output_type": "display_data"
    }
   ],
   "source": [
    "100^2 + 300"
   ]
  },
  {
   "cell_type": "code",
   "execution_count": 2,
   "metadata": {},
   "outputs": [
    {
     "data": {
      "text/html": [
       "5"
      ],
      "text/latex": [
       "5"
      ],
      "text/markdown": [
       "5"
      ],
      "text/plain": [
       "[1] 5"
      ]
     },
     "metadata": {},
     "output_type": "display_data"
    }
   ],
   "source": [
    "50 %% 15"
   ]
  },
  {
   "cell_type": "code",
   "execution_count": 3,
   "metadata": {},
   "outputs": [
    {
     "data": {
      "text/html": [
       "3.33333333333333"
      ],
      "text/latex": [
       "3.33333333333333"
      ],
      "text/markdown": [
       "3.33333333333333"
      ],
      "text/plain": [
       "[1] 3.333333"
      ]
     },
     "metadata": {},
     "output_type": "display_data"
    }
   ],
   "source": [
    "50 / 15"
   ]
  },
  {
   "cell_type": "markdown",
   "metadata": {},
   "source": [
    "**R의 변수선언**\n",
    "\n",
    "<br>\n",
    "\n",
    "변수명(식별자) <- 값\n",
    "\n",
    "    다른 언어처럼 '=' 가 아닌 '<-'를 통해 값을 넣어줌.\n",
    "    \n",
    "    '오른쪽의 값을 왼쪽에 대입해라.' 라는 의미.\n",
    "    \n",
    "예약어는 변수로 사용 X. 자명한 얘기? <br>\n",
    "변수명 맨 앞에 숫자 X."
   ]
  },
  {
   "cell_type": "code",
   "execution_count": 11,
   "metadata": {},
   "outputs": [
    {
     "data": {
      "text/html": [
       "20"
      ],
      "text/latex": [
       "20"
      ],
      "text/markdown": [
       "20"
      ],
      "text/plain": [
       "[1] 20"
      ]
     },
     "metadata": {},
     "output_type": "display_data"
    },
    {
     "data": {
      "text/html": [
       "30"
      ],
      "text/latex": [
       "30"
      ],
      "text/markdown": [
       "30"
      ],
      "text/plain": [
       "[1] 30"
      ]
     },
     "metadata": {},
     "output_type": "display_data"
    },
    {
     "data": {
      "text/html": [
       "'Kim'"
      ],
      "text/latex": [
       "'Kim'"
      ],
      "text/markdown": [
       "'Kim'"
      ],
      "text/plain": [
       "[1] \"Kim\""
      ]
     },
     "metadata": {},
     "output_type": "display_data"
    },
    {
     "data": {
      "text/html": [
       "<ol class=list-inline>\n",
       "\t<li>'Kim'</li>\n",
       "\t<li>'Park'</li>\n",
       "\t<li>'Choi'</li>\n",
       "</ol>\n"
      ],
      "text/latex": [
       "\\begin{enumerate*}\n",
       "\\item 'Kim'\n",
       "\\item 'Park'\n",
       "\\item 'Choi'\n",
       "\\end{enumerate*}\n"
      ],
      "text/markdown": [
       "1. 'Kim'\n",
       "2. 'Park'\n",
       "3. 'Choi'\n",
       "\n",
       "\n"
      ],
      "text/plain": [
       "[1] \"Kim\"  \"Park\" \"Choi\""
      ]
     },
     "metadata": {},
     "output_type": "display_data"
    },
    {
     "data": {
      "text/html": [
       "<ol class=list-inline>\n",
       "\t<li>1</li>\n",
       "\t<li>2</li>\n",
       "\t<li>3</li>\n",
       "\t<li>4</li>\n",
       "\t<li>5</li>\n",
       "</ol>\n"
      ],
      "text/latex": [
       "\\begin{enumerate*}\n",
       "\\item 1\n",
       "\\item 2\n",
       "\\item 3\n",
       "\\item 4\n",
       "\\item 5\n",
       "\\end{enumerate*}\n"
      ],
      "text/markdown": [
       "1. 1\n",
       "2. 2\n",
       "3. 3\n",
       "4. 4\n",
       "5. 5\n",
       "\n",
       "\n"
      ],
      "text/plain": [
       "[1] 1 2 3 4 5"
      ]
     },
     "metadata": {},
     "output_type": "display_data"
    }
   ],
   "source": [
    "a <- 20\n",
    "a\n",
    "a <- 30 # 마찬가지로 다시 대입하면 그 값으로 바뀜.\n",
    "a\n",
    "b <- 'Kim' # 문자 대입은 평소처럼.\n",
    "b\n",
    "c <- c('Kim','Park','Choi') # c()를 통해 배열(==Vector)로 넣어줄 수 있음.\n",
    "c\n",
    "d <- c(1,2,3,4,5)\n",
    "d"
   ]
  },
  {
   "cell_type": "code",
   "execution_count": 14,
   "metadata": {},
   "outputs": [
    {
     "data": {
      "text/html": [
       "2500"
      ],
      "text/latex": [
       "2500"
      ],
      "text/markdown": [
       "2500"
      ],
      "text/plain": [
       "[1] 2500"
      ]
     },
     "metadata": {},
     "output_type": "display_data"
    },
    {
     "data": {
      "text/html": [
       "3500"
      ],
      "text/latex": [
       "3500"
      ],
      "text/markdown": [
       "3500"
      ],
      "text/plain": [
       "[1] 3500"
      ]
     },
     "metadata": {},
     "output_type": "display_data"
    },
    {
     "data": {
      "text/html": [
       "6"
      ],
      "text/latex": [
       "6"
      ],
      "text/markdown": [
       "6"
      ],
      "text/plain": [
       "[1] 6"
      ]
     },
     "metadata": {},
     "output_type": "display_data"
    },
    {
     "data": {
      "text/html": [
       "1500000"
      ],
      "text/latex": [
       "1500000"
      ],
      "text/markdown": [
       "1500000"
      ],
      "text/plain": [
       "[1] 1500000"
      ]
     },
     "metadata": {},
     "output_type": "display_data"
    },
    {
     "data": {
      "text/html": [
       "0"
      ],
      "text/latex": [
       "0"
      ],
      "text/markdown": [
       "0"
      ],
      "text/plain": [
       "[1] 0"
      ]
     },
     "metadata": {},
     "output_type": "display_data"
    }
   ],
   "source": [
    "a1 <- 3000\n",
    "a2 <- 500\n",
    "a1 - a2\n",
    "a1 + a2\n",
    "a1 / a2\n",
    "a1 * a2\n",
    "a1 %% a2"
   ]
  },
  {
   "cell_type": "markdown",
   "metadata": {},
   "source": [
    "    'string' % in % '변수' 를 통해 변수 안에 string이 있는지 확인 가능."
   ]
  },
  {
   "cell_type": "code",
   "execution_count": 24,
   "metadata": {},
   "outputs": [
    {
     "data": {
      "text/html": [
       "FALSE"
      ],
      "text/latex": [
       "FALSE"
      ],
      "text/markdown": [
       "FALSE"
      ],
      "text/plain": [
       "[1] FALSE"
      ]
     },
     "metadata": {},
     "output_type": "display_data"
    },
    {
     "data": {
      "text/html": [
       "TRUE"
      ],
      "text/latex": [
       "TRUE"
      ],
      "text/markdown": [
       "TRUE"
      ],
      "text/plain": [
       "[1] TRUE"
      ]
     },
     "metadata": {},
     "output_type": "display_data"
    }
   ],
   "source": [
    "'Lee' %in% c\n",
    "'Kim' %in% c"
   ]
  },
  {
   "cell_type": "markdown",
   "metadata": {},
   "source": [
    "**R의 자료형**\n",
    "\n",
    "    정수형, 실수형, 날짜형/시간형, 문자형, 진리형\n",
    "    \n",
    "    진리비교는 동일. <, >, == <=, >=\n",
    "    \n",
    "* 변수를 다른 변수에 대입할 때는\n",
    "    * '변수' = '변수' 를 해주면 됨.\n",
    "    \n",
    "- NA 자료형 : 결측값.\n",
    "    * is.na(변수 or 벡터) 를 통해 결측치 유무 확인할 수 있음.\n",
    "    \n",
    "- NULL 자료형 : 데이터 값이 정해지지 않은 상태. Undefined.\n",
    "    * is.null(변수 or 벡터)를 통해 유무 확인 가능.\n",
    "    * 말 그대로 빈 변수 선언하는 셈. 나중에 할당."
   ]
  },
  {
   "cell_type": "code",
   "execution_count": 29,
   "metadata": {},
   "outputs": [
    {
     "data": {
      "text/html": [
       "<time datetime=\"2021-06-10\">2021-06-10</time>"
      ],
      "text/latex": [
       "2021-06-10"
      ],
      "text/markdown": [
       "2021-06-10"
      ],
      "text/plain": [
       "[1] \"2021-06-10\""
      ]
     },
     "metadata": {},
     "output_type": "display_data"
    },
    {
     "data": {
      "text/html": [
       "'2021-06-09'"
      ],
      "text/latex": [
       "'2021-06-09'"
      ],
      "text/markdown": [
       "'2021-06-09'"
      ],
      "text/plain": [
       "[1] \"2021-06-09\""
      ]
     },
     "metadata": {},
     "output_type": "display_data"
    },
    {
     "data": {
      "text/html": [
       "<time datetime=\"2021-09-17\">2021-09-17</time>"
      ],
      "text/latex": [
       "2021-09-17"
      ],
      "text/markdown": [
       "2021-09-17"
      ],
      "text/plain": [
       "[1] \"2021-09-17\""
      ]
     },
     "metadata": {},
     "output_type": "display_data"
    },
    {
     "data": {
      "text/html": [
       "<ol class=list-inline>\n",
       "\t<li>177</li>\n",
       "\t<li>180</li>\n",
       "\t<li>168</li>\n",
       "\t<li>169</li>\n",
       "\t<li>&lt;NA&gt;</li>\n",
       "</ol>\n"
      ],
      "text/latex": [
       "\\begin{enumerate*}\n",
       "\\item 177\n",
       "\\item 180\n",
       "\\item 168\n",
       "\\item 169\n",
       "\\item <NA>\n",
       "\\end{enumerate*}\n"
      ],
      "text/markdown": [
       "1. 177\n",
       "2. 180\n",
       "3. 168\n",
       "4. 169\n",
       "5. &lt;NA&gt;\n",
       "\n",
       "\n"
      ],
      "text/plain": [
       "[1] 177 180 168 169  NA"
      ]
     },
     "metadata": {},
     "output_type": "display_data"
    },
    {
     "data": {
      "text/html": [
       "<ol class=list-inline>\n",
       "\t<li>FALSE</li>\n",
       "\t<li>FALSE</li>\n",
       "\t<li>FALSE</li>\n",
       "\t<li>FALSE</li>\n",
       "\t<li>TRUE</li>\n",
       "</ol>\n"
      ],
      "text/latex": [
       "\\begin{enumerate*}\n",
       "\\item FALSE\n",
       "\\item FALSE\n",
       "\\item FALSE\n",
       "\\item FALSE\n",
       "\\item TRUE\n",
       "\\end{enumerate*}\n"
      ],
      "text/markdown": [
       "1. FALSE\n",
       "2. FALSE\n",
       "3. FALSE\n",
       "4. FALSE\n",
       "5. TRUE\n",
       "\n",
       "\n"
      ],
      "text/plain": [
       "[1] FALSE FALSE FALSE FALSE  TRUE"
      ]
     },
     "metadata": {},
     "output_type": "display_data"
    }
   ],
   "source": [
    "# 현재 날짜?\n",
    "Sys.Date()\n",
    "\n",
    "# 임의의 변수에 날짜 대입?\n",
    "day <- '2021-06-09'\n",
    "day\n",
    "\n",
    "# 100일 후의 날짜는?\n",
    "as.Date(day) + 100 # 날짜 형태의 변수 + n일 후\n",
    "\n",
    "# 결측치 확인?\n",
    "height <- c(177, 180, 168, 169, NA)\n",
    "height\n",
    "is.na(height)"
   ]
  },
  {
   "cell_type": "code",
   "execution_count": 32,
   "metadata": {},
   "outputs": [
    {
     "data": {
      "text/html": [
       "TRUE"
      ],
      "text/latex": [
       "TRUE"
      ],
      "text/markdown": [
       "TRUE"
      ],
      "text/plain": [
       "[1] TRUE"
      ]
     },
     "metadata": {},
     "output_type": "display_data"
    },
    {
     "data": {
      "text/html": [
       "FALSE"
      ],
      "text/latex": [
       "FALSE"
      ],
      "text/markdown": [
       "FALSE"
      ],
      "text/plain": [
       "[1] FALSE"
      ]
     },
     "metadata": {},
     "output_type": "display_data"
    }
   ],
   "source": [
    "rate <- NULL\n",
    "is.null(rate) # 현재는 빈 변수.\n",
    "money <- c(1200000, 950000, 1300000)\n",
    "if (sum(money) >= 300000) {\n",
    "    rate <- 0.017\n",
    "}\n",
    "is.null(rate) # 조건을 통해 빈 값이 채워짐."
   ]
  },
  {
   "cell_type": "markdown",
   "metadata": {},
   "source": [
    "**Factor 자료형**\n",
    "\n",
    "<br>\n",
    "\n",
    "- 범주형 데이터 : 변수가 취할수 있는 값이 범주로 주어지는 경우.\n",
    "    - 명목형(종류, 찬반), 순서형(대/중/소)\n",
    "- 벡터 형식의 한 형태인 셈.\n",
    "\n",
    "<br>\n",
    "\n",
    "- 관련 함수?\n",
    "    * factor(x, levels, orderd), \n",
    "        * x : 팩터로 표현하고자 하는 값.\n",
    "        * levels : 팩터 레벨의 목록을 보여줌.\n",
    "        * ordered : TRUE(순서형 데이터), FALSE(명목형 데이터)\n",
    "    * table(x) : level에 따라 몇 개의 값이 존재하는지 count값 출력.\n",
    "    * unclass(x) : 목록의 단순 상수값 만을 출력, 해당 상수가 의미하는 데이터 값을 표시."
   ]
  },
  {
   "cell_type": "code",
   "execution_count": 41,
   "metadata": {
    "scrolled": true
   },
   "outputs": [
    {
     "data": {
      "text/html": [
       "<ol class=list-inline>\n",
       "\t<li>강아지</li>\n",
       "\t<li>강아지</li>\n",
       "\t<li>강아지</li>\n",
       "\t<li>고양이</li>\n",
       "\t<li>앵무새</li>\n",
       "</ol>\n",
       "\n",
       "<details>\n",
       "\t<summary style=display:list-item;cursor:pointer>\n",
       "\t\t<strong>Levels</strong>:\n",
       "\t</summary>\n",
       "\t<ol class=list-inline>\n",
       "\t\t<li>'강아지'</li>\n",
       "\t\t<li>'고양이'</li>\n",
       "\t\t<li>'앵무새'</li>\n",
       "\t</ol>\n",
       "</details>"
      ],
      "text/latex": [
       "\\begin{enumerate*}\n",
       "\\item 강아지\n",
       "\\item 강아지\n",
       "\\item 강아지\n",
       "\\item 고양이\n",
       "\\item 앵무새\n",
       "\\end{enumerate*}\n",
       "\n",
       "\\emph{Levels}: \\begin{enumerate*}\n",
       "\\item '강아지'\n",
       "\\item '고양이'\n",
       "\\item '앵무새'\n",
       "\\end{enumerate*}\n"
      ],
      "text/markdown": [
       "1. 강아지\n",
       "2. 강아지\n",
       "3. 강아지\n",
       "4. 고양이\n",
       "5. 앵무새\n",
       "\n",
       "\n",
       "\n",
       "**Levels**: 1. '강아지'\n",
       "2. '고양이'\n",
       "3. '앵무새'\n",
       "\n",
       "\n"
      ],
      "text/plain": [
       "[1] 강아지 강아지 강아지 고양이 앵무새\n",
       "Levels: 강아지 고양이 앵무새"
      ]
     },
     "metadata": {},
     "output_type": "display_data"
    },
    {
     "data": {
      "text/html": [
       "<ol class=list-inline>\n",
       "\t<li>불교</li>\n",
       "\t<li>&lt;NA&gt;</li>\n",
       "\t<li>기독교</li>\n",
       "\t<li>&lt;NA&gt;</li>\n",
       "\t<li>불교</li>\n",
       "\t<li>&lt;NA&gt;</li>\n",
       "</ol>\n",
       "\n",
       "<details>\n",
       "\t<summary style=display:list-item;cursor:pointer>\n",
       "\t\t<strong>Levels</strong>:\n",
       "\t</summary>\n",
       "\t<ol class=list-inline>\n",
       "\t\t<li>'기독교'</li>\n",
       "\t\t<li>'불교'</li>\n",
       "\t</ol>\n",
       "</details>"
      ],
      "text/latex": [
       "\\begin{enumerate*}\n",
       "\\item 불교\n",
       "\\item <NA>\n",
       "\\item 기독교\n",
       "\\item <NA>\n",
       "\\item 불교\n",
       "\\item <NA>\n",
       "\\end{enumerate*}\n",
       "\n",
       "\\emph{Levels}: \\begin{enumerate*}\n",
       "\\item '기독교'\n",
       "\\item '불교'\n",
       "\\end{enumerate*}\n"
      ],
      "text/markdown": [
       "1. 불교\n",
       "2. &lt;NA&gt;\n",
       "3. 기독교\n",
       "4. &lt;NA&gt;\n",
       "5. 불교\n",
       "6. &lt;NA&gt;\n",
       "\n",
       "\n",
       "\n",
       "**Levels**: 1. '기독교'\n",
       "2. '불교'\n",
       "\n",
       "\n"
      ],
      "text/plain": [
       "[1] 불교   <NA>   기독교 <NA>   불교   <NA>  \n",
       "Levels: 기독교 불교"
      ]
     },
     "metadata": {},
     "output_type": "display_data"
    },
    {
     "data": {
      "text/html": [
       "<ol class=list-inline>\n",
       "\t<li>18평</li>\n",
       "\t<li>24평</li>\n",
       "\t<li>24평</li>\n",
       "\t<li>24평</li>\n",
       "\t<li>33평</li>\n",
       "\t<li>33평</li>\n",
       "\t<li>18평</li>\n",
       "</ol>\n",
       "\n",
       "<details>\n",
       "\t<summary style=display:list-item;cursor:pointer>\n",
       "\t\t<strong>Levels</strong>:\n",
       "\t</summary>\n",
       "\t<ol class=list-inline>\n",
       "\t\t<li>'18평'</li>\n",
       "\t\t<li>'24평'</li>\n",
       "\t\t<li>'33평'</li>\n",
       "\t</ol>\n",
       "</details>"
      ],
      "text/latex": [
       "\\begin{enumerate*}\n",
       "\\item 18평\n",
       "\\item 24평\n",
       "\\item 24평\n",
       "\\item 24평\n",
       "\\item 33평\n",
       "\\item 33평\n",
       "\\item 18평\n",
       "\\end{enumerate*}\n",
       "\n",
       "\\emph{Levels}: \\begin{enumerate*}\n",
       "\\item '18평'\n",
       "\\item '24평'\n",
       "\\item '33평'\n",
       "\\end{enumerate*}\n"
      ],
      "text/markdown": [
       "1. 18평\n",
       "2. 24평\n",
       "3. 24평\n",
       "4. 24평\n",
       "5. 33평\n",
       "6. 33평\n",
       "7. 18평\n",
       "\n",
       "\n",
       "\n",
       "**Levels**: 1. '18평'\n",
       "2. '24평'\n",
       "3. '33평'\n",
       "\n",
       "\n"
      ],
      "text/plain": [
       "[1] 18평 24평 24평 24평 33평 33평 18평\n",
       "Levels: 18평 < 24평 < 33평"
      ]
     },
     "metadata": {},
     "output_type": "display_data"
    },
    {
     "data": {
      "text/plain": [
       "width\n",
       "18평 24평 33평 \n",
       "   2    3    2 "
      ]
     },
     "metadata": {},
     "output_type": "display_data"
    },
    {
     "data": {
      "text/plain": [
       "pet\n",
       "강아지 고양이 앵무새 \n",
       "     3      1      1 "
      ]
     },
     "metadata": {},
     "output_type": "display_data"
    },
    {
     "data": {
      "text/html": [
       "<ol class=list-inline>\n",
       "\t<li>1</li>\n",
       "\t<li>1</li>\n",
       "\t<li>1</li>\n",
       "\t<li>2</li>\n",
       "\t<li>3</li>\n",
       "</ol>\n"
      ],
      "text/latex": [
       "\\begin{enumerate*}\n",
       "\\item 1\n",
       "\\item 1\n",
       "\\item 1\n",
       "\\item 2\n",
       "\\item 3\n",
       "\\end{enumerate*}\n"
      ],
      "text/markdown": [
       "1. 1\n",
       "2. 1\n",
       "3. 1\n",
       "4. 2\n",
       "5. 3\n",
       "\n",
       "\n"
      ],
      "text/plain": [
       "[1] 1 1 1 2 3\n",
       "attr(,\"levels\")\n",
       "[1] \"강아지\" \"고양이\" \"앵무새\""
      ]
     },
     "metadata": {},
     "output_type": "display_data"
    }
   ],
   "source": [
    "pet <- factor(c('강아지', '강아지', '강아지', '고양이', '앵무새'))\n",
    "pet # 출력해보면 Levels에 어떤 항목들만 있는지 나타남. 목록도 나타내주는 셈.\n",
    "\n",
    "# 원하는 목록이 있다면 levels 인자 위치에 명시.\n",
    "religion <- factor(c('불교', '천주교', '기독교', '천주교', '불교', '무교'),\n",
    "                   c('기독교', '불교'))\n",
    "religion # 출력하보면 level로 명시한 내용만 나옴. 다른 내용은 level에 명시하지 않았으니 NA로 나옴.\n",
    "\n",
    "# 순서가 있는 데이터면 TRUE를 적어 순서형 데이터임을 명시.\n",
    "width <- factor(c('18평', '24평', '24평', '24평', '33평', '33평', '18평'), \n",
    "                ordered = TRUE)\n",
    "width # Level에 순서가 주어짐.\n",
    "\n",
    "# table을 통해 해당 level당 데이터가 몇개 있는지 출력할 수 있음. count()함수 인 셈.\n",
    "table(width)\n",
    "\n",
    "# unclass는 해당 항목에 숫자값을 대입한다는 의미. 설문지에 번호매기는 것 처럼.\n",
    "table(pet)\n",
    "unclass(pet)"
   ]
  }
 ],
 "metadata": {
  "kernelspec": {
   "display_name": "R",
   "language": "R",
   "name": "ir"
  },
  "language_info": {
   "codemirror_mode": "r",
   "file_extension": ".r",
   "mimetype": "text/x-r-source",
   "name": "R",
   "pygments_lexer": "r",
   "version": "3.6.1"
  }
 },
 "nbformat": 4,
 "nbformat_minor": 2
}

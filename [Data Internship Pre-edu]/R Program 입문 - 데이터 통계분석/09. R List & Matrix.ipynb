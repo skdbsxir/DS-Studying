{
 "cells": [
  {
   "cell_type": "markdown",
   "metadata": {},
   "source": [
    "## R List\n",
    "\n",
    "<br>\n",
    "\n"
   ]
  },
  {
   "cell_type": "markdown",
   "metadata": {},
   "source": [
    "- 리스트 : Vector와 동일한 형태이지만, Vector와는 다르게 **숫자, 문자 등 여러 형태가 섞임.** 이형적 데이터 구조.\n",
    "    - **list(key1=value1, key2=value2, ...)** 로 선언.\n",
    "    - 마찬가지로 index번호로 접근 가능."
   ]
  },
  {
   "cell_type": "code",
   "execution_count": 2,
   "metadata": {},
   "outputs": [
    {
     "data": {
      "text/html": [
       "<ol>\n",
       "\t<li>'Kim'</li>\n",
       "\t<li>'Coder'</li>\n",
       "\t<li>'Seoul'</li>\n",
       "\t<li>1.1</li>\n",
       "</ol>\n"
      ],
      "text/latex": [
       "\\begin{enumerate}\n",
       "\\item 'Kim'\n",
       "\\item 'Coder'\n",
       "\\item 'Seoul'\n",
       "\\item 1.1\n",
       "\\end{enumerate}\n"
      ],
      "text/markdown": [
       "1. 'Kim'\n",
       "2. 'Coder'\n",
       "3. 'Seoul'\n",
       "4. 1.1\n",
       "\n",
       "\n"
      ],
      "text/plain": [
       "[[1]]\n",
       "[1] \"Kim\"\n",
       "\n",
       "[[2]]\n",
       "[1] \"Coder\"\n",
       "\n",
       "[[3]]\n",
       "[1] \"Seoul\"\n",
       "\n",
       "[[4]]\n",
       "[1] 1.1\n"
      ]
     },
     "metadata": {},
     "output_type": "display_data"
    }
   ],
   "source": [
    "a <- list('Kim', 'Coder', 'Seoul', 1.1)\n",
    "a"
   ]
  },
  {
   "cell_type": "code",
   "execution_count": 3,
   "metadata": {},
   "outputs": [
    {
     "data": {
      "text/html": [
       "<dl>\n",
       "\t<dt>$friend</dt>\n",
       "\t\t<dd>'Park'</dd>\n",
       "\t<dt>$num</dt>\n",
       "\t\t<dd>2</dd>\n",
       "\t<dt>$alpha</dt>\n",
       "\t\t<dd>'z'</dd>\n",
       "</dl>\n"
      ],
      "text/latex": [
       "\\begin{description}\n",
       "\\item[\\$friend] 'Park'\n",
       "\\item[\\$num] 2\n",
       "\\item[\\$alpha] 'z'\n",
       "\\end{description}\n"
      ],
      "text/markdown": [
       "$friend\n",
       ":   'Park'\n",
       "$num\n",
       ":   2\n",
       "$alpha\n",
       ":   'z'\n",
       "\n",
       "\n"
      ],
      "text/plain": [
       "$friend\n",
       "[1] \"Park\"\n",
       "\n",
       "$num\n",
       "[1] 2\n",
       "\n",
       "$alpha\n",
       "[1] \"z\"\n"
      ]
     },
     "metadata": {},
     "output_type": "display_data"
    }
   ],
   "source": [
    "myList <- list(friend = 'Park', num = 2, alpha = 'z') # 3개의 요소로 구성된 리스트.\n",
    "myList # $key - value 형식으로 출력됨."
   ]
  },
  {
   "cell_type": "code",
   "execution_count": 5,
   "metadata": {},
   "outputs": [
    {
     "data": {
      "text/html": [
       "'Park'"
      ],
      "text/latex": [
       "'Park'"
      ],
      "text/markdown": [
       "'Park'"
      ],
      "text/plain": [
       "[1] \"Park\""
      ]
     },
     "metadata": {},
     "output_type": "display_data"
    },
    {
     "data": {
      "text/html": [
       "2"
      ],
      "text/latex": [
       "2"
      ],
      "text/markdown": [
       "2"
      ],
      "text/plain": [
       "[1] 2"
      ]
     },
     "metadata": {},
     "output_type": "display_data"
    }
   ],
   "source": [
    "# 여러 요소 중 특정 key의 value만 접근?\n",
    "myList$friend\n",
    "myList$num"
   ]
  },
  {
   "cell_type": "markdown",
   "metadata": {},
   "source": [
    "**List에 항목 추가**\n",
    "\n",
    "<br>\n",
    "\n",
    "- **변수명$추가할key <- 값** 을 통해 추가 가능.\n",
    "- 하나의 key에 여러 값을 넣어줄 수도 있음. Vector로."
   ]
  },
  {
   "cell_type": "code",
   "execution_count": 7,
   "metadata": {},
   "outputs": [
    {
     "data": {
      "text/html": [
       "<dl>\n",
       "\t<dt>$friend</dt>\n",
       "\t\t<dd>'Park'</dd>\n",
       "\t<dt>$num</dt>\n",
       "\t\t<dd>2</dd>\n",
       "\t<dt>$alpha</dt>\n",
       "\t\t<dd>'z'</dd>\n",
       "\t<dt>$word</dt>\n",
       "\t\t<dd>'hello'</dd>\n",
       "</dl>\n"
      ],
      "text/latex": [
       "\\begin{description}\n",
       "\\item[\\$friend] 'Park'\n",
       "\\item[\\$num] 2\n",
       "\\item[\\$alpha] 'z'\n",
       "\\item[\\$word] 'hello'\n",
       "\\end{description}\n"
      ],
      "text/markdown": [
       "$friend\n",
       ":   'Park'\n",
       "$num\n",
       ":   2\n",
       "$alpha\n",
       ":   'z'\n",
       "$word\n",
       ":   'hello'\n",
       "\n",
       "\n"
      ],
      "text/plain": [
       "$friend\n",
       "[1] \"Park\"\n",
       "\n",
       "$num\n",
       "[1] 2\n",
       "\n",
       "$alpha\n",
       "[1] \"z\"\n",
       "\n",
       "$word\n",
       "[1] \"hello\"\n"
      ]
     },
     "metadata": {},
     "output_type": "display_data"
    },
    {
     "data": {
      "text/html": [
       "<dl>\n",
       "\t<dt>$friend</dt>\n",
       "\t\t<dd>'Park'</dd>\n",
       "\t<dt>$num</dt>\n",
       "\t\t<dd>2</dd>\n",
       "\t<dt>$alpha</dt>\n",
       "\t\t<dd>'z'</dd>\n",
       "\t<dt>$word</dt>\n",
       "\t\t<dd>'hello'</dd>\n",
       "\t<dt>$food</dt>\n",
       "\t\t<dd><ol class=list-inline>\n",
       "\t<li>'Pizza'</li>\n",
       "\t<li>'Hotdog'</li>\n",
       "\t<li>'Rice'</li>\n",
       "</ol>\n",
       "</dd>\n",
       "</dl>\n"
      ],
      "text/latex": [
       "\\begin{description}\n",
       "\\item[\\$friend] 'Park'\n",
       "\\item[\\$num] 2\n",
       "\\item[\\$alpha] 'z'\n",
       "\\item[\\$word] 'hello'\n",
       "\\item[\\$food] \\begin{enumerate*}\n",
       "\\item 'Pizza'\n",
       "\\item 'Hotdog'\n",
       "\\item 'Rice'\n",
       "\\end{enumerate*}\n",
       "\n",
       "\\end{description}\n"
      ],
      "text/markdown": [
       "$friend\n",
       ":   'Park'\n",
       "$num\n",
       ":   2\n",
       "$alpha\n",
       ":   'z'\n",
       "$word\n",
       ":   'hello'\n",
       "$food\n",
       ":   1. 'Pizza'\n",
       "2. 'Hotdog'\n",
       "3. 'Rice'\n",
       "\n",
       "\n",
       "\n",
       "\n",
       "\n"
      ],
      "text/plain": [
       "$friend\n",
       "[1] \"Park\"\n",
       "\n",
       "$num\n",
       "[1] 2\n",
       "\n",
       "$alpha\n",
       "[1] \"z\"\n",
       "\n",
       "$word\n",
       "[1] \"hello\"\n",
       "\n",
       "$food\n",
       "[1] \"Pizza\"  \"Hotdog\" \"Rice\"  \n"
      ]
     },
     "metadata": {},
     "output_type": "display_data"
    }
   ],
   "source": [
    "myList$word <- 'hello'\n",
    "myList\n",
    "\n",
    "myList$food <- c('Pizza', 'Hotdog', 'Rice')\n",
    "myList"
   ]
  },
  {
   "cell_type": "markdown",
   "metadata": {},
   "source": [
    "## R Matrix\n",
    "\n",
    "<br>\n",
    "\n",
    "- 2차원 Vector를 표현하기 위한 방법. 행x열 구조.\n",
    "- 마찬가지로 **index는 1부터 시작.**\n",
    "- **matrix(행렬의 구성원소, nrow = 행의 갯수, ncol = 열의 갯수, dimnames = 행/열의 이름)** 를 통해 생성.\n",
    "    - 데이터는 **열 중심**으로 들어감.\n",
    "        - 1행 1열, 2행 1열, 1행 2열, 2행 2열 순으로.\n",
    "    - **행 중심으로 기록**하고자 한다면?\n",
    "        - 끝 인자에 **byrow = True** 를 추가해주면 됨.\n",
    "- 동일한 길이의 Vector를 여러개 쌓은 셈.\n",
    "- 각 행,열 요소의 **데이터 형식은 같아야 함.** 숫자면 숫자만, 문자면 문자만.\n"
   ]
  },
  {
   "cell_type": "code",
   "execution_count": 12,
   "metadata": {},
   "outputs": [
    {
     "data": {
      "text/html": [
       "<table>\n",
       "<tbody>\n",
       "\t<tr><td>25</td><td>32</td><td>27</td></tr>\n",
       "\t<tr><td>33</td><td>37</td><td>38</td></tr>\n",
       "</tbody>\n",
       "</table>\n"
      ],
      "text/latex": [
       "\\begin{tabular}{lll}\n",
       "\t 25 & 32 & 27\\\\\n",
       "\t 33 & 37 & 38\\\\\n",
       "\\end{tabular}\n"
      ],
      "text/markdown": [
       "\n",
       "| 25 | 32 | 27 |\n",
       "| 33 | 37 | 38 |\n",
       "\n"
      ],
      "text/plain": [
       "     [,1] [,2] [,3]\n",
       "[1,] 25   32   27  \n",
       "[2,] 33   37   38  "
      ]
     },
     "metadata": {},
     "output_type": "display_data"
    },
    {
     "data": {
      "text/html": [
       "<table>\n",
       "<tbody>\n",
       "\t<tr><td>25</td><td>33</td><td>32</td></tr>\n",
       "\t<tr><td>37</td><td>27</td><td>38</td></tr>\n",
       "</tbody>\n",
       "</table>\n"
      ],
      "text/latex": [
       "\\begin{tabular}{lll}\n",
       "\t 25 & 33 & 32\\\\\n",
       "\t 37 & 27 & 38\\\\\n",
       "\\end{tabular}\n"
      ],
      "text/markdown": [
       "\n",
       "| 25 | 33 | 32 |\n",
       "| 37 | 27 | 38 |\n",
       "\n"
      ],
      "text/plain": [
       "     [,1] [,2] [,3]\n",
       "[1,] 25   33   32  \n",
       "[2,] 37   27   38  "
      ]
     },
     "metadata": {},
     "output_type": "display_data"
    }
   ],
   "source": [
    "# 2행 3열의 Matrix 생성\n",
    "# 6개의 데이터에 대해 2행 지정. 열은 당연히 3열. 생략가능.\n",
    "age <- matrix(c(25, 33, 32, 37, 27, 38), nrow = 2)\n",
    "age # 열 중심으로 데이터가 들어감을 확인할 수 있음.\n",
    "# 각 위치는 열 : [,1] [,2] [,3] // 행 : [1,] [2,]\n",
    "\n",
    "# 행 중심으로?\n",
    "age2 <- matrix(c(25, 33, 32, 37, 27, 38), ncol = 3, byrow = TRUE)\n",
    "age2"
   ]
  },
  {
   "cell_type": "markdown",
   "metadata": {},
   "source": [
    "**행/열 이름 지정**\n",
    "\n",
    "<br>\n",
    "\n",
    "- **dimnames(행렬) <- 값** 을 통해 이름 지정이 가능.\n",
    "- **행 중심으로 행렬 선언시 (이름)값도 행 우선으로 들어감.**"
   ]
  },
  {
   "cell_type": "code",
   "execution_count": 15,
   "metadata": {},
   "outputs": [
    {
     "data": {
      "text/html": [
       "<table>\n",
       "<tbody>\n",
       "\t<tr><td>177</td><td>68 </td></tr>\n",
       "\t<tr><td>165</td><td>57 </td></tr>\n",
       "\t<tr><td>160</td><td>55 </td></tr>\n",
       "\t<tr><td>175</td><td>60 </td></tr>\n",
       "</tbody>\n",
       "</table>\n"
      ],
      "text/latex": [
       "\\begin{tabular}{ll}\n",
       "\t 177 & 68 \\\\\n",
       "\t 165 & 57 \\\\\n",
       "\t 160 & 55 \\\\\n",
       "\t 175 & 60 \\\\\n",
       "\\end{tabular}\n"
      ],
      "text/markdown": [
       "\n",
       "| 177 | 68  |\n",
       "| 165 | 57  |\n",
       "| 160 | 55  |\n",
       "| 175 | 60  |\n",
       "\n"
      ],
      "text/plain": [
       "     [,1] [,2]\n",
       "[1,] 177  68  \n",
       "[2,] 165  57  \n",
       "[3,] 160  55  \n",
       "[4,] 175  60  "
      ]
     },
     "metadata": {},
     "output_type": "display_data"
    },
    {
     "data": {
      "text/html": [
       "<table>\n",
       "<thead><tr><th></th><th scope=col>키(cm)</th><th scope=col>몸무게(kg)</th></tr></thead>\n",
       "<tbody>\n",
       "\t<tr><th scope=row>1번</th><td>177</td><td>68 </td></tr>\n",
       "\t<tr><th scope=row>2번</th><td>165</td><td>57 </td></tr>\n",
       "\t<tr><th scope=row>3번</th><td>160</td><td>55 </td></tr>\n",
       "\t<tr><th scope=row>4번</th><td>175</td><td>60 </td></tr>\n",
       "</tbody>\n",
       "</table>\n"
      ],
      "text/latex": [
       "\\begin{tabular}{r|ll}\n",
       "  & 키(cm) & 몸무게(kg)\\\\\n",
       "\\hline\n",
       "\t1번 & 177 & 68 \\\\\n",
       "\t2번 & 165 & 57 \\\\\n",
       "\t3번 & 160 & 55 \\\\\n",
       "\t4번 & 175 & 60 \\\\\n",
       "\\end{tabular}\n"
      ],
      "text/markdown": [
       "\n",
       "| <!--/--> | 키(cm) | 몸무게(kg) |\n",
       "|---|---|---|\n",
       "| 1번 | 177 | 68  |\n",
       "| 2번 | 165 | 57  |\n",
       "| 3번 | 160 | 55  |\n",
       "| 4번 | 175 | 60  |\n",
       "\n"
      ],
      "text/plain": [
       "    키(cm) 몸무게(kg)\n",
       "1번 177    68        \n",
       "2번 165    57        \n",
       "3번 160    55        \n",
       "4번 175    60        "
      ]
     },
     "metadata": {},
     "output_type": "display_data"
    }
   ],
   "source": [
    "info <- matrix(c(177, 68, 165, 57, 160, 55, 175, 60), nrow = 4, byrow = TRUE)\n",
    "info\n",
    "\n",
    "# 행 중심이므로 이름도 행 우선으로 들어감.\n",
    "dimnames(info) <- list(c('1번', '2번', '3번', '4번'), c('키(cm)', '몸무게(kg)'))\n",
    "info"
   ]
  },
  {
   "cell_type": "markdown",
   "metadata": {},
   "source": [
    "**행/열에 새로운 행/열 추가**\n",
    "\n",
    "<br>\n",
    "\n",
    "- 행 추가 : **rbind(행렬, 행에 추가할 원소)**\n",
    "- 열 추가 : **cbind(행렬, 열에 추가할 원소)**\n",
    "\n",
    "<br>\n",
    "\n",
    "- 연산 시에만 적용되는 연산.\n",
    "- 원본 행렬엔 영향 X. \n",
    "    - 원본을 바꾸려면 **<- 연산자** 써서 넣으면 됨."
   ]
  },
  {
   "cell_type": "code",
   "execution_count": 19,
   "metadata": {},
   "outputs": [
    {
     "data": {
      "text/html": [
       "<table>\n",
       "<thead><tr><th></th><th scope=col>키(cm)</th><th scope=col>몸무게(kg)</th></tr></thead>\n",
       "<tbody>\n",
       "\t<tr><th scope=row>1번</th><td>177</td><td>68 </td></tr>\n",
       "\t<tr><th scope=row>2번</th><td>165</td><td>57 </td></tr>\n",
       "\t<tr><th scope=row>3번</th><td>160</td><td>55 </td></tr>\n",
       "\t<tr><th scope=row>4번</th><td>175</td><td>60 </td></tr>\n",
       "</tbody>\n",
       "</table>\n"
      ],
      "text/latex": [
       "\\begin{tabular}{r|ll}\n",
       "  & 키(cm) & 몸무게(kg)\\\\\n",
       "\\hline\n",
       "\t1번 & 177 & 68 \\\\\n",
       "\t2번 & 165 & 57 \\\\\n",
       "\t3번 & 160 & 55 \\\\\n",
       "\t4번 & 175 & 60 \\\\\n",
       "\\end{tabular}\n"
      ],
      "text/markdown": [
       "\n",
       "| <!--/--> | 키(cm) | 몸무게(kg) |\n",
       "|---|---|---|\n",
       "| 1번 | 177 | 68  |\n",
       "| 2번 | 165 | 57  |\n",
       "| 3번 | 160 | 55  |\n",
       "| 4번 | 175 | 60  |\n",
       "\n"
      ],
      "text/plain": [
       "    키(cm) 몸무게(kg)\n",
       "1번 177    68        \n",
       "2번 165    57        \n",
       "3번 160    55        \n",
       "4번 175    60        "
      ]
     },
     "metadata": {},
     "output_type": "display_data"
    },
    {
     "data": {
      "text/html": [
       "<table>\n",
       "<thead><tr><th></th><th scope=col>키(cm)</th><th scope=col>몸무게(kg)</th></tr></thead>\n",
       "<tbody>\n",
       "\t<tr><th scope=row>1번</th><td>177</td><td>68 </td></tr>\n",
       "\t<tr><th scope=row>2번</th><td>165</td><td>57 </td></tr>\n",
       "\t<tr><th scope=row>3번</th><td>160</td><td>55 </td></tr>\n",
       "\t<tr><th scope=row>4번</th><td>175</td><td>60 </td></tr>\n",
       "\t<tr><th scope=row>a1</th><td>167</td><td>54 </td></tr>\n",
       "\t<tr><th scope=row>a2</th><td>178</td><td>70 </td></tr>\n",
       "</tbody>\n",
       "</table>\n"
      ],
      "text/latex": [
       "\\begin{tabular}{r|ll}\n",
       "  & 키(cm) & 몸무게(kg)\\\\\n",
       "\\hline\n",
       "\t1번 & 177 & 68 \\\\\n",
       "\t2번 & 165 & 57 \\\\\n",
       "\t3번 & 160 & 55 \\\\\n",
       "\t4번 & 175 & 60 \\\\\n",
       "\ta1 & 167 & 54 \\\\\n",
       "\ta2 & 178 & 70 \\\\\n",
       "\\end{tabular}\n"
      ],
      "text/markdown": [
       "\n",
       "| <!--/--> | 키(cm) | 몸무게(kg) |\n",
       "|---|---|---|\n",
       "| 1번 | 177 | 68  |\n",
       "| 2번 | 165 | 57  |\n",
       "| 3번 | 160 | 55  |\n",
       "| 4번 | 175 | 60  |\n",
       "| a1 | 167 | 54  |\n",
       "| a2 | 178 | 70  |\n",
       "\n"
      ],
      "text/plain": [
       "    키(cm) 몸무게(kg)\n",
       "1번 177    68        \n",
       "2번 165    57        \n",
       "3번 160    55        \n",
       "4번 175    60        \n",
       "a1  167    54        \n",
       "a2  178    70        "
      ]
     },
     "metadata": {},
     "output_type": "display_data"
    },
    {
     "data": {
      "text/html": [
       "<table>\n",
       "<thead><tr><th></th><th scope=col>키(cm)</th><th scope=col>몸무게(kg)</th><th scope=col></th></tr></thead>\n",
       "<tbody>\n",
       "\t<tr><th scope=row>1번</th><td>177</td><td>68 </td><td>남 </td></tr>\n",
       "\t<tr><th scope=row>2번</th><td>165</td><td>57 </td><td>여 </td></tr>\n",
       "\t<tr><th scope=row>3번</th><td>160</td><td>55 </td><td>여 </td></tr>\n",
       "\t<tr><th scope=row>4번</th><td>175</td><td>60 </td><td>남 </td></tr>\n",
       "</tbody>\n",
       "</table>\n"
      ],
      "text/latex": [
       "\\begin{tabular}{r|lll}\n",
       "  & 키(cm) & 몸무게(kg) & \\\\\n",
       "\\hline\n",
       "\t1번 & 177 & 68  & 남 \\\\\n",
       "\t2번 & 165 & 57  & 여 \\\\\n",
       "\t3번 & 160 & 55  & 여 \\\\\n",
       "\t4번 & 175 & 60  & 남 \\\\\n",
       "\\end{tabular}\n"
      ],
      "text/markdown": [
       "\n",
       "| <!--/--> | 키(cm) | 몸무게(kg) |  |\n",
       "|---|---|---|---|\n",
       "| 1번 | 177 | 68  | 남  |\n",
       "| 2번 | 165 | 57  | 여  |\n",
       "| 3번 | 160 | 55  | 여  |\n",
       "| 4번 | 175 | 60  | 남  |\n",
       "\n"
      ],
      "text/plain": [
       "    키(cm) 몸무게(kg)   \n",
       "1번 177    68         남\n",
       "2번 165    57         여\n",
       "3번 160    55         여\n",
       "4번 175    60         남"
      ]
     },
     "metadata": {},
     "output_type": "display_data"
    }
   ],
   "source": [
    "info\n",
    "\n",
    "# 행 추가\n",
    "a1 <- c(167, 54)\n",
    "a2 <- c(178, 70)\n",
    "rbind(info, a1, a2)\n",
    "\n",
    "# 열 추가\n",
    "cbind(info, c('남', '여', '여', '남'))"
   ]
  }
 ],
 "metadata": {
  "kernelspec": {
   "display_name": "R",
   "language": "R",
   "name": "ir"
  },
  "language_info": {
   "codemirror_mode": "r",
   "file_extension": ".r",
   "mimetype": "text/x-r-source",
   "name": "R",
   "pygments_lexer": "r",
   "version": "3.6.1"
  }
 },
 "nbformat": 4,
 "nbformat_minor": 2
}

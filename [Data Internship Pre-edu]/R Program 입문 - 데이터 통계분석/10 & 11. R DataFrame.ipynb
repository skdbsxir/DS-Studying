{
 "cells": [
  {
   "cell_type": "markdown",
   "metadata": {},
   "source": [
    "## R DataFrame\n",
    "\n",
    "<br>\n",
    "\n",
    " - **동일한 형식의 데이터**를 **1차원**으로 보관하자 : Vector\n",
    " - 조금은 **이질적인 형식의 데이터**를 **1차원**으로 보관하자 : List\n",
    " - **Vector를 여러층 쌓아 고차원**으로 보관하자 : Matrix\n",
    " - **List를 여러층 쌓아 고차원**으로 보관하자 : DataFrame\n",
    "     - 일반화 된 Matrix로 볼 수 있음.\n",
    "     - RDB의 table로도 생각할 수 있음."
   ]
  },
  {
   "cell_type": "markdown",
   "metadata": {},
   "source": [
    "-------------------\n",
    "\n",
    "**DataFrame 생성**\n",
    "\n",
    "<br>\n",
    "\n",
    "1. **read.table()** : 외부 text파일 불러오기.\n",
    "2. **data.frame()** : 여러 종류의 자료 객체를 결합."
   ]
  },
  {
   "cell_type": "code",
   "execution_count": 3,
   "metadata": {},
   "outputs": [
    {
     "data": {
      "text/html": [
       "<table>\n",
       "<thead><tr><th scope=col>name</th><th scope=col>age</th></tr></thead>\n",
       "<tbody>\n",
       "\t<tr><td>Kim </td><td>43  </td></tr>\n",
       "\t<tr><td>Park</td><td>27  </td></tr>\n",
       "\t<tr><td>Lee </td><td>34  </td></tr>\n",
       "</tbody>\n",
       "</table>\n"
      ],
      "text/latex": [
       "\\begin{tabular}{r|ll}\n",
       " name & age\\\\\n",
       "\\hline\n",
       "\t Kim  & 43  \\\\\n",
       "\t Park & 27  \\\\\n",
       "\t Lee  & 34  \\\\\n",
       "\\end{tabular}\n"
      ],
      "text/markdown": [
       "\n",
       "| name | age |\n",
       "|---|---|\n",
       "| Kim  | 43   |\n",
       "| Park | 27   |\n",
       "| Lee  | 34   |\n",
       "\n"
      ],
      "text/plain": [
       "  name age\n",
       "1 Kim  43 \n",
       "2 Park 27 \n",
       "3 Lee  34 "
      ]
     },
     "metadata": {},
     "output_type": "display_data"
    },
    {
     "data": {
      "text/html": [
       "<table>\n",
       "<thead><tr><th scope=col>이름</th><th scope=col>나이</th></tr></thead>\n",
       "<tbody>\n",
       "\t<tr><td>Kim </td><td>43  </td></tr>\n",
       "\t<tr><td>Park</td><td>27  </td></tr>\n",
       "\t<tr><td>Lee </td><td>34  </td></tr>\n",
       "</tbody>\n",
       "</table>\n"
      ],
      "text/latex": [
       "\\begin{tabular}{r|ll}\n",
       " 이름 & 나이\\\\\n",
       "\\hline\n",
       "\t Kim  & 43  \\\\\n",
       "\t Park & 27  \\\\\n",
       "\t Lee  & 34  \\\\\n",
       "\\end{tabular}\n"
      ],
      "text/markdown": [
       "\n",
       "| 이름 | 나이 |\n",
       "|---|---|\n",
       "| Kim  | 43   |\n",
       "| Park | 27   |\n",
       "| Lee  | 34   |\n",
       "\n"
      ],
      "text/plain": [
       "  이름 나이\n",
       "1 Kim  43  \n",
       "2 Park 27  \n",
       "3 Lee  34  "
      ]
     },
     "metadata": {},
     "output_type": "display_data"
    }
   ],
   "source": [
    "df <- data.frame(name = c('Kim', 'Park', 'Lee'), age = c(43, 27, 34))\n",
    "df\n",
    "\n",
    "# 이렇게 독립된 객체들을 가져와서 만들수 도 있음.\n",
    "name2 <- c('Kim', 'Park', 'Lee')\n",
    "age2 <- c(43, 27, 34)\n",
    "df2 <- data.frame(이름 = name2, 나이 = age2)\n",
    "df2"
   ]
  },
  {
   "cell_type": "code",
   "execution_count": 5,
   "metadata": {
    "scrolled": true
   },
   "outputs": [
    {
     "data": {
      "text/html": [
       "<ol class=list-inline>\n",
       "\t<li>Kim</li>\n",
       "\t<li>Park</li>\n",
       "\t<li>Lee</li>\n",
       "</ol>\n",
       "\n",
       "<details>\n",
       "\t<summary style=display:list-item;cursor:pointer>\n",
       "\t\t<strong>Levels</strong>:\n",
       "\t</summary>\n",
       "\t<ol class=list-inline>\n",
       "\t\t<li>'Kim'</li>\n",
       "\t\t<li>'Lee'</li>\n",
       "\t\t<li>'Park'</li>\n",
       "\t</ol>\n",
       "</details>"
      ],
      "text/latex": [
       "\\begin{enumerate*}\n",
       "\\item Kim\n",
       "\\item Park\n",
       "\\item Lee\n",
       "\\end{enumerate*}\n",
       "\n",
       "\\emph{Levels}: \\begin{enumerate*}\n",
       "\\item 'Kim'\n",
       "\\item 'Lee'\n",
       "\\item 'Park'\n",
       "\\end{enumerate*}\n"
      ],
      "text/markdown": [
       "1. Kim\n",
       "2. Park\n",
       "3. Lee\n",
       "\n",
       "\n",
       "\n",
       "**Levels**: 1. 'Kim'\n",
       "2. 'Lee'\n",
       "3. 'Park'\n",
       "\n",
       "\n"
      ],
      "text/plain": [
       "[1] Kim  Park Lee \n",
       "Levels: Kim Lee Park"
      ]
     },
     "metadata": {},
     "output_type": "display_data"
    },
    {
     "data": {
      "text/html": [
       "<ol class=list-inline>\n",
       "\t<li>44</li>\n",
       "\t<li>28</li>\n",
       "\t<li>35</li>\n",
       "</ol>\n"
      ],
      "text/latex": [
       "\\begin{enumerate*}\n",
       "\\item 44\n",
       "\\item 28\n",
       "\\item 35\n",
       "\\end{enumerate*}\n"
      ],
      "text/markdown": [
       "1. 44\n",
       "2. 28\n",
       "3. 35\n",
       "\n",
       "\n"
      ],
      "text/plain": [
       "[1] 44 28 35"
      ]
     },
     "metadata": {},
     "output_type": "display_data"
    }
   ],
   "source": [
    "# 이름에만 접근?\n",
    "df2 $ 이름\n",
    "\n",
    "# 나이 컬럼에 +1 씩 더하기?\n",
    "df2 $ 나이 + 1"
   ]
  },
  {
   "cell_type": "code",
   "execution_count": 11,
   "metadata": {},
   "outputs": [
    {
     "data": {
      "text/html": [
       "<table>\n",
       "<tbody>\n",
       "\t<tr><td>11km   </td><td>Hyundai</td></tr>\n",
       "\t<tr><td>13km   </td><td>Volvo  </td></tr>\n",
       "\t<tr><td>10km   </td><td>Renault</td></tr>\n",
       "</tbody>\n",
       "</table>\n"
      ],
      "text/latex": [
       "\\begin{tabular}{ll}\n",
       "\t 11km    & Hyundai\\\\\n",
       "\t 13km    & Volvo  \\\\\n",
       "\t 10km    & Renault\\\\\n",
       "\\end{tabular}\n"
      ],
      "text/markdown": [
       "\n",
       "| 11km    | Hyundai |\n",
       "| 13km    | Volvo   |\n",
       "| 10km    | Renault |\n",
       "\n"
      ],
      "text/plain": [
       "     [,1] [,2]   \n",
       "[1,] 11km Hyundai\n",
       "[2,] 13km Volvo  \n",
       "[3,] 10km Renault"
      ]
     },
     "metadata": {},
     "output_type": "display_data"
    },
    {
     "data": {
      "text/html": [
       "<table>\n",
       "<thead><tr><th scope=col>V1</th><th scope=col>V2</th></tr></thead>\n",
       "<tbody>\n",
       "\t<tr><td>11km   </td><td>Hyundai</td></tr>\n",
       "\t<tr><td>13km   </td><td>Volvo  </td></tr>\n",
       "\t<tr><td>10km   </td><td>Renault</td></tr>\n",
       "</tbody>\n",
       "</table>\n"
      ],
      "text/latex": [
       "\\begin{tabular}{r|ll}\n",
       " V1 & V2\\\\\n",
       "\\hline\n",
       "\t 11km    & Hyundai\\\\\n",
       "\t 13km    & Volvo  \\\\\n",
       "\t 10km    & Renault\\\\\n",
       "\\end{tabular}\n"
      ],
      "text/markdown": [
       "\n",
       "| V1 | V2 |\n",
       "|---|---|\n",
       "| 11km    | Hyundai |\n",
       "| 13km    | Volvo   |\n",
       "| 10km    | Renault |\n",
       "\n"
      ],
      "text/plain": [
       "  V1   V2     \n",
       "1 11km Hyundai\n",
       "2 13km Volvo  \n",
       "3 10km Renault"
      ]
     },
     "metadata": {},
     "output_type": "display_data"
    },
    {
     "data": {
      "text/html": [
       "<table>\n",
       "<thead><tr><th scope=col>연비</th><th scope=col>제조사</th></tr></thead>\n",
       "<tbody>\n",
       "\t<tr><td>11km   </td><td>Hyundai</td></tr>\n",
       "\t<tr><td>13km   </td><td>Volvo  </td></tr>\n",
       "\t<tr><td>10km   </td><td>Renault</td></tr>\n",
       "</tbody>\n",
       "</table>\n"
      ],
      "text/latex": [
       "\\begin{tabular}{r|ll}\n",
       " 연비 & 제조사\\\\\n",
       "\\hline\n",
       "\t 11km    & Hyundai\\\\\n",
       "\t 13km    & Volvo  \\\\\n",
       "\t 10km    & Renault\\\\\n",
       "\\end{tabular}\n"
      ],
      "text/markdown": [
       "\n",
       "| 연비 | 제조사 |\n",
       "|---|---|\n",
       "| 11km    | Hyundai |\n",
       "| 13km    | Volvo   |\n",
       "| 10km    | Renault |\n",
       "\n"
      ],
      "text/plain": [
       "  연비 제조사 \n",
       "1 11km Hyundai\n",
       "2 13km Volvo  \n",
       "3 10km Renault"
      ]
     },
     "metadata": {},
     "output_type": "display_data"
    }
   ],
   "source": [
    "# Matrix -> DataFrame 변환?\n",
    "carinfo <- matrix(c('11km', '13km', '10km', 'Hyundai', 'Volvo', 'Renault'), ncol = 2)\n",
    "carinfo\n",
    "dfr <- as.data.frame(carinfo)\n",
    "dfr\n",
    "\n",
    "# 컬럼 명을 지정\n",
    "names(dfr) <- c('연비', '제조사')\n",
    "dfr"
   ]
  },
  {
   "cell_type": "code",
   "execution_count": 17,
   "metadata": {},
   "outputs": [
    {
     "data": {
      "text/html": [
       "<table>\n",
       "<thead><tr><th scope=col>이름</th><th scope=col>거주지역</th><th scope=col>나이</th><th scope=col>성별</th></tr></thead>\n",
       "<tbody>\n",
       "\t<tr><td>홍민수</td><td>인천  </td><td>25    </td><td>남    </td></tr>\n",
       "\t<tr><td>조정란</td><td>경기  </td><td>33    </td><td>여    </td></tr>\n",
       "\t<tr><td>국정수</td><td>서울  </td><td>43    </td><td>남    </td></tr>\n",
       "\t<tr><td>라윤정</td><td>서울  </td><td>35    </td><td>여    </td></tr>\n",
       "\t<tr><td>한주연</td><td>인천  </td><td>37    </td><td>남    </td></tr>\n",
       "</tbody>\n",
       "</table>\n"
      ],
      "text/latex": [
       "\\begin{tabular}{r|llll}\n",
       " 이름 & 거주지역 & 나이 & 성별\\\\\n",
       "\\hline\n",
       "\t 홍민수 & 인천   & 25     & 남    \\\\\n",
       "\t 조정란 & 경기   & 33     & 여    \\\\\n",
       "\t 국정수 & 서울   & 43     & 남    \\\\\n",
       "\t 라윤정 & 서울   & 35     & 여    \\\\\n",
       "\t 한주연 & 인천   & 37     & 남    \\\\\n",
       "\\end{tabular}\n"
      ],
      "text/markdown": [
       "\n",
       "| 이름 | 거주지역 | 나이 | 성별 |\n",
       "|---|---|---|---|\n",
       "| 홍민수 | 인천   | 25     | 남     |\n",
       "| 조정란 | 경기   | 33     | 여     |\n",
       "| 국정수 | 서울   | 43     | 남     |\n",
       "| 라윤정 | 서울   | 35     | 여     |\n",
       "| 한주연 | 인천   | 37     | 남     |\n",
       "\n"
      ],
      "text/plain": [
       "  이름   거주지역 나이 성별\n",
       "1 홍민수 인천     25   남  \n",
       "2 조정란 경기     33   여  \n",
       "3 국정수 서울     43   남  \n",
       "4 라윤정 서울     35   여  \n",
       "5 한주연 인천     37   남  "
      ]
     },
     "metadata": {},
     "output_type": "display_data"
    },
    {
     "data": {
      "text/html": [
       "<table>\n",
       "<thead><tr><th scope=col>이름</th><th scope=col>직업</th></tr></thead>\n",
       "<tbody>\n",
       "\t<tr><td>홍민수  </td><td>학생    </td></tr>\n",
       "\t<tr><td>조정란  </td><td>공무원  </td></tr>\n",
       "\t<tr><td>박장곤  </td><td>회사원  </td></tr>\n",
       "\t<tr><td>한지수  </td><td>자영업  </td></tr>\n",
       "\t<tr><td>한주연  </td><td>프리랜서</td></tr>\n",
       "</tbody>\n",
       "</table>\n"
      ],
      "text/latex": [
       "\\begin{tabular}{r|ll}\n",
       " 이름 & 직업\\\\\n",
       "\\hline\n",
       "\t 홍민수   & 학생    \\\\\n",
       "\t 조정란   & 공무원  \\\\\n",
       "\t 박장곤   & 회사원  \\\\\n",
       "\t 한지수   & 자영업  \\\\\n",
       "\t 한주연   & 프리랜서\\\\\n",
       "\\end{tabular}\n"
      ],
      "text/markdown": [
       "\n",
       "| 이름 | 직업 |\n",
       "|---|---|\n",
       "| 홍민수   | 학생     |\n",
       "| 조정란   | 공무원   |\n",
       "| 박장곤   | 회사원   |\n",
       "| 한지수   | 자영업   |\n",
       "| 한주연   | 프리랜서 |\n",
       "\n"
      ],
      "text/plain": [
       "  이름   직업    \n",
       "1 홍민수 학생    \n",
       "2 조정란 공무원  \n",
       "3 박장곤 회사원  \n",
       "4 한지수 자영업  \n",
       "5 한주연 프리랜서"
      ]
     },
     "metadata": {},
     "output_type": "display_data"
    }
   ],
   "source": [
    "# 텍스트 파일을 불러와 DF형식으로 바꾸기.\n",
    "# header = TRUE로 해야 첫줄을 컬럼으로 인식.\n",
    "person <- read.table('UseData/personal.txt', header=TRUE)\n",
    "person\n",
    "\n",
    "pInfo <- read.table('UseData/pjob.txt', header=TRUE)\n",
    "pInfo"
   ]
  },
  {
   "cell_type": "markdown",
   "metadata": {},
   "source": [
    "**DataFrame 합치기**\n",
    "\n",
    "<br>\n",
    "\n",
    " - 여러 DF를 합치는 작업.\n",
    " - **열 방향(옆)**으로 합치기 : **cbind()**\n",
    " - **행 방향(아래)**으로 합치기 : **rbind()**\n",
    "     - 컬럼의 갯수도 맞아야 하고, 컬럼의 이름도 동일해야 함.\n",
    " - DF에서 **중복된 열**이 있는 경우 **merge()** 함수를 써서 병합."
   ]
  },
  {
   "cell_type": "code",
   "execution_count": 18,
   "metadata": {},
   "outputs": [
    {
     "data": {
      "text/html": [
       "<table>\n",
       "<thead><tr><th scope=col>취미</th><th scope=col>관심사</th></tr></thead>\n",
       "<tbody>\n",
       "\t<tr><td>목공예      </td><td>취업        </td></tr>\n",
       "\t<tr><td>패러글라이딩</td><td>부동산      </td></tr>\n",
       "\t<tr><td>등산        </td><td>주택대출    </td></tr>\n",
       "\t<tr><td>음악감상    </td><td>교통인프라  </td></tr>\n",
       "\t<tr><td>독서        </td><td>이직        </td></tr>\n",
       "</tbody>\n",
       "</table>\n"
      ],
      "text/latex": [
       "\\begin{tabular}{r|ll}\n",
       " 취미 & 관심사\\\\\n",
       "\\hline\n",
       "\t 목공예       & 취업        \\\\\n",
       "\t 패러글라이딩 & 부동산      \\\\\n",
       "\t 등산         & 주택대출    \\\\\n",
       "\t 음악감상     & 교통인프라  \\\\\n",
       "\t 독서         & 이직        \\\\\n",
       "\\end{tabular}\n"
      ],
      "text/markdown": [
       "\n",
       "| 취미 | 관심사 |\n",
       "|---|---|\n",
       "| 목공예       | 취업         |\n",
       "| 패러글라이딩 | 부동산       |\n",
       "| 등산         | 주택대출     |\n",
       "| 음악감상     | 교통인프라   |\n",
       "| 독서         | 이직         |\n",
       "\n"
      ],
      "text/plain": [
       "  취미         관심사    \n",
       "1 목공예       취업      \n",
       "2 패러글라이딩 부동산    \n",
       "3 등산         주택대출  \n",
       "4 음악감상     교통인프라\n",
       "5 독서         이직      "
      ]
     },
     "metadata": {},
     "output_type": "display_data"
    }
   ],
   "source": [
    "# 합치기 위한 임의의 DF 생성.\n",
    "lifeInfo <- data.frame(취미 = c('목공예', '패러글라이딩', '등산', '음악감상', '독서'),\n",
    "                       관심사 = c('취업', '부동산', '주택대출', '교통인프라', '이직'))\n",
    "lifeInfo"
   ]
  },
  {
   "cell_type": "code",
   "execution_count": 19,
   "metadata": {},
   "outputs": [
    {
     "data": {
      "text/html": [
       "<table>\n",
       "<thead><tr><th scope=col>이름</th><th scope=col>직업</th><th scope=col>취미</th><th scope=col>관심사</th></tr></thead>\n",
       "<tbody>\n",
       "\t<tr><td>홍민수      </td><td>학생        </td><td>목공예      </td><td>취업        </td></tr>\n",
       "\t<tr><td>조정란      </td><td>공무원      </td><td>패러글라이딩</td><td>부동산      </td></tr>\n",
       "\t<tr><td>박장곤      </td><td>회사원      </td><td>등산        </td><td>주택대출    </td></tr>\n",
       "\t<tr><td>한지수      </td><td>자영업      </td><td>음악감상    </td><td>교통인프라  </td></tr>\n",
       "\t<tr><td>한주연      </td><td>프리랜서    </td><td>독서        </td><td>이직        </td></tr>\n",
       "</tbody>\n",
       "</table>\n"
      ],
      "text/latex": [
       "\\begin{tabular}{r|llll}\n",
       " 이름 & 직업 & 취미 & 관심사\\\\\n",
       "\\hline\n",
       "\t 홍민수       & 학생         & 목공예       & 취업        \\\\\n",
       "\t 조정란       & 공무원       & 패러글라이딩 & 부동산      \\\\\n",
       "\t 박장곤       & 회사원       & 등산         & 주택대출    \\\\\n",
       "\t 한지수       & 자영업       & 음악감상     & 교통인프라  \\\\\n",
       "\t 한주연       & 프리랜서     & 독서         & 이직        \\\\\n",
       "\\end{tabular}\n"
      ],
      "text/markdown": [
       "\n",
       "| 이름 | 직업 | 취미 | 관심사 |\n",
       "|---|---|---|---|\n",
       "| 홍민수       | 학생         | 목공예       | 취업         |\n",
       "| 조정란       | 공무원       | 패러글라이딩 | 부동산       |\n",
       "| 박장곤       | 회사원       | 등산         | 주택대출     |\n",
       "| 한지수       | 자영업       | 음악감상     | 교통인프라   |\n",
       "| 한주연       | 프리랜서     | 독서         | 이직         |\n",
       "\n"
      ],
      "text/plain": [
       "  이름   직업     취미         관심사    \n",
       "1 홍민수 학생     목공예       취업      \n",
       "2 조정란 공무원   패러글라이딩 부동산    \n",
       "3 박장곤 회사원   등산         주택대출  \n",
       "4 한지수 자영업   음악감상     교통인프라\n",
       "5 한주연 프리랜서 독서         이직      "
      ]
     },
     "metadata": {},
     "output_type": "display_data"
    }
   ],
   "source": [
    "# 두 프레임 합치기 - cbind\n",
    "myInfo <- cbind(pInfo, lifeInfo)\n",
    "myInfo"
   ]
  },
  {
   "cell_type": "code",
   "execution_count": 22,
   "metadata": {},
   "outputs": [
    {
     "data": {
      "text/html": [
       "<table>\n",
       "<thead><tr><th scope=col>이름</th><th scope=col>거주지역</th><th scope=col>나이</th><th scope=col>성별</th></tr></thead>\n",
       "<tbody>\n",
       "\t<tr><td>황성주</td><td>강원  </td><td>42    </td><td>여    </td></tr>\n",
       "\t<tr><td>윤준영</td><td>충북  </td><td>45    </td><td>여    </td></tr>\n",
       "</tbody>\n",
       "</table>\n"
      ],
      "text/latex": [
       "\\begin{tabular}{r|llll}\n",
       " 이름 & 거주지역 & 나이 & 성별\\\\\n",
       "\\hline\n",
       "\t 황성주 & 강원   & 42     & 여    \\\\\n",
       "\t 윤준영 & 충북   & 45     & 여    \\\\\n",
       "\\end{tabular}\n"
      ],
      "text/markdown": [
       "\n",
       "| 이름 | 거주지역 | 나이 | 성별 |\n",
       "|---|---|---|---|\n",
       "| 황성주 | 강원   | 42     | 여     |\n",
       "| 윤준영 | 충북   | 45     | 여     |\n",
       "\n"
      ],
      "text/plain": [
       "  이름   거주지역 나이 성별\n",
       "1 황성주 강원     42   여  \n",
       "2 윤준영 충북     45   여  "
      ]
     },
     "metadata": {},
     "output_type": "display_data"
    },
    {
     "data": {
      "text/html": [
       "<table>\n",
       "<thead><tr><th scope=col>이름</th><th scope=col>거주지역</th><th scope=col>나이</th><th scope=col>성별</th></tr></thead>\n",
       "<tbody>\n",
       "\t<tr><td>홍민수</td><td>인천  </td><td>25    </td><td>남    </td></tr>\n",
       "\t<tr><td>조정란</td><td>경기  </td><td>33    </td><td>여    </td></tr>\n",
       "\t<tr><td>국정수</td><td>서울  </td><td>43    </td><td>남    </td></tr>\n",
       "\t<tr><td>라윤정</td><td>서울  </td><td>35    </td><td>여    </td></tr>\n",
       "\t<tr><td>한주연</td><td>인천  </td><td>37    </td><td>남    </td></tr>\n",
       "\t<tr><td>황성주</td><td>강원  </td><td>42    </td><td>여    </td></tr>\n",
       "\t<tr><td>윤준영</td><td>충북  </td><td>45    </td><td>여    </td></tr>\n",
       "</tbody>\n",
       "</table>\n"
      ],
      "text/latex": [
       "\\begin{tabular}{r|llll}\n",
       " 이름 & 거주지역 & 나이 & 성별\\\\\n",
       "\\hline\n",
       "\t 홍민수 & 인천   & 25     & 남    \\\\\n",
       "\t 조정란 & 경기   & 33     & 여    \\\\\n",
       "\t 국정수 & 서울   & 43     & 남    \\\\\n",
       "\t 라윤정 & 서울   & 35     & 여    \\\\\n",
       "\t 한주연 & 인천   & 37     & 남    \\\\\n",
       "\t 황성주 & 강원   & 42     & 여    \\\\\n",
       "\t 윤준영 & 충북   & 45     & 여    \\\\\n",
       "\\end{tabular}\n"
      ],
      "text/markdown": [
       "\n",
       "| 이름 | 거주지역 | 나이 | 성별 |\n",
       "|---|---|---|---|\n",
       "| 홍민수 | 인천   | 25     | 남     |\n",
       "| 조정란 | 경기   | 33     | 여     |\n",
       "| 국정수 | 서울   | 43     | 남     |\n",
       "| 라윤정 | 서울   | 35     | 여     |\n",
       "| 한주연 | 인천   | 37     | 남     |\n",
       "| 황성주 | 강원   | 42     | 여     |\n",
       "| 윤준영 | 충북   | 45     | 여     |\n",
       "\n"
      ],
      "text/plain": [
       "  이름   거주지역 나이 성별\n",
       "1 홍민수 인천     25   남  \n",
       "2 조정란 경기     33   여  \n",
       "3 국정수 서울     43   남  \n",
       "4 라윤정 서울     35   여  \n",
       "5 한주연 인천     37   남  \n",
       "6 황성주 강원     42   여  \n",
       "7 윤준영 충북     45   여  "
      ]
     },
     "metadata": {},
     "output_type": "display_data"
    }
   ],
   "source": [
    "# 두 프레임 합치기 - rbind\n",
    " ## 컬럼의 이름, 갯수가 동일해야 함.\n",
    "\n",
    "# 동일한 형식의 DF 생성\n",
    "otherInfo <- data.frame(이름 = c('황성주', '윤준영'),\n",
    "                        거주지역 = c('강원', '충북'),\n",
    "                        나이 = c(42, 45),\n",
    "                        성별 = c('여', '여'))\n",
    "otherInfo\n",
    "\n",
    "# 합치기\n",
    "totInfo <- rbind(person, otherInfo)\n",
    "totInfo"
   ]
  },
  {
   "cell_type": "code",
   "execution_count": 23,
   "metadata": {},
   "outputs": [
    {
     "data": {
      "text/html": [
       "<table>\n",
       "<thead><tr><th scope=col>이름</th><th scope=col>거주지역</th><th scope=col>나이</th><th scope=col>성별</th></tr></thead>\n",
       "<tbody>\n",
       "\t<tr><td>홍민수</td><td>인천  </td><td>25    </td><td>남    </td></tr>\n",
       "\t<tr><td>조정란</td><td>경기  </td><td>33    </td><td>여    </td></tr>\n",
       "\t<tr><td>국정수</td><td>서울  </td><td>43    </td><td>남    </td></tr>\n",
       "\t<tr><td>라윤정</td><td>서울  </td><td>35    </td><td>여    </td></tr>\n",
       "\t<tr><td>한주연</td><td>인천  </td><td>37    </td><td>남    </td></tr>\n",
       "</tbody>\n",
       "</table>\n"
      ],
      "text/latex": [
       "\\begin{tabular}{r|llll}\n",
       " 이름 & 거주지역 & 나이 & 성별\\\\\n",
       "\\hline\n",
       "\t 홍민수 & 인천   & 25     & 남    \\\\\n",
       "\t 조정란 & 경기   & 33     & 여    \\\\\n",
       "\t 국정수 & 서울   & 43     & 남    \\\\\n",
       "\t 라윤정 & 서울   & 35     & 여    \\\\\n",
       "\t 한주연 & 인천   & 37     & 남    \\\\\n",
       "\\end{tabular}\n"
      ],
      "text/markdown": [
       "\n",
       "| 이름 | 거주지역 | 나이 | 성별 |\n",
       "|---|---|---|---|\n",
       "| 홍민수 | 인천   | 25     | 남     |\n",
       "| 조정란 | 경기   | 33     | 여     |\n",
       "| 국정수 | 서울   | 43     | 남     |\n",
       "| 라윤정 | 서울   | 35     | 여     |\n",
       "| 한주연 | 인천   | 37     | 남     |\n",
       "\n"
      ],
      "text/plain": [
       "  이름   거주지역 나이 성별\n",
       "1 홍민수 인천     25   남  \n",
       "2 조정란 경기     33   여  \n",
       "3 국정수 서울     43   남  \n",
       "4 라윤정 서울     35   여  \n",
       "5 한주연 인천     37   남  "
      ]
     },
     "metadata": {},
     "output_type": "display_data"
    },
    {
     "data": {
      "text/html": [
       "<table>\n",
       "<thead><tr><th scope=col>이름</th><th scope=col>직업</th></tr></thead>\n",
       "<tbody>\n",
       "\t<tr><td>홍민수  </td><td>학생    </td></tr>\n",
       "\t<tr><td>조정란  </td><td>공무원  </td></tr>\n",
       "\t<tr><td>박장곤  </td><td>회사원  </td></tr>\n",
       "\t<tr><td>한지수  </td><td>자영업  </td></tr>\n",
       "\t<tr><td>한주연  </td><td>프리랜서</td></tr>\n",
       "</tbody>\n",
       "</table>\n"
      ],
      "text/latex": [
       "\\begin{tabular}{r|ll}\n",
       " 이름 & 직업\\\\\n",
       "\\hline\n",
       "\t 홍민수   & 학생    \\\\\n",
       "\t 조정란   & 공무원  \\\\\n",
       "\t 박장곤   & 회사원  \\\\\n",
       "\t 한지수   & 자영업  \\\\\n",
       "\t 한주연   & 프리랜서\\\\\n",
       "\\end{tabular}\n"
      ],
      "text/markdown": [
       "\n",
       "| 이름 | 직업 |\n",
       "|---|---|\n",
       "| 홍민수   | 학생     |\n",
       "| 조정란   | 공무원   |\n",
       "| 박장곤   | 회사원   |\n",
       "| 한지수   | 자영업   |\n",
       "| 한주연   | 프리랜서 |\n",
       "\n"
      ],
      "text/plain": [
       "  이름   직업    \n",
       "1 홍민수 학생    \n",
       "2 조정란 공무원  \n",
       "3 박장곤 회사원  \n",
       "4 한지수 자영업  \n",
       "5 한주연 프리랜서"
      ]
     },
     "metadata": {},
     "output_type": "display_data"
    }
   ],
   "source": [
    "# Merge로 합치기\n",
    "## 두 Frame간의 공통된 컬럼이 1개는 있어야 함.\n",
    "person\n",
    "pInfo"
   ]
  },
  {
   "cell_type": "markdown",
   "metadata": {},
   "source": [
    "    '이름' 컬럼을 동일하게 갖고 있음.\n",
    "    중복되는 데이터에 대한 각각의 row를 꺼내옴."
   ]
  },
  {
   "cell_type": "code",
   "execution_count": 25,
   "metadata": {},
   "outputs": [
    {
     "data": {
      "text/html": [
       "<table>\n",
       "<thead><tr><th scope=col>이름</th><th scope=col>거주지역</th><th scope=col>나이</th><th scope=col>성별</th><th scope=col>직업</th></tr></thead>\n",
       "<tbody>\n",
       "\t<tr><td>조정란  </td><td>경기    </td><td>33      </td><td>여      </td><td>공무원  </td></tr>\n",
       "\t<tr><td>한주연  </td><td>인천    </td><td>37      </td><td>남      </td><td>프리랜서</td></tr>\n",
       "\t<tr><td>홍민수  </td><td>인천    </td><td>25      </td><td>남      </td><td>학생    </td></tr>\n",
       "</tbody>\n",
       "</table>\n"
      ],
      "text/latex": [
       "\\begin{tabular}{r|lllll}\n",
       " 이름 & 거주지역 & 나이 & 성별 & 직업\\\\\n",
       "\\hline\n",
       "\t 조정란   & 경기     & 33       & 여       & 공무원  \\\\\n",
       "\t 한주연   & 인천     & 37       & 남       & 프리랜서\\\\\n",
       "\t 홍민수   & 인천     & 25       & 남       & 학생    \\\\\n",
       "\\end{tabular}\n"
      ],
      "text/markdown": [
       "\n",
       "| 이름 | 거주지역 | 나이 | 성별 | 직업 |\n",
       "|---|---|---|---|---|\n",
       "| 조정란   | 경기     | 33       | 여       | 공무원   |\n",
       "| 한주연   | 인천     | 37       | 남       | 프리랜서 |\n",
       "| 홍민수   | 인천     | 25       | 남       | 학생     |\n",
       "\n"
      ],
      "text/plain": [
       "  이름   거주지역 나이 성별 직업    \n",
       "1 조정란 경기     33   여   공무원  \n",
       "2 한주연 인천     37   남   프리랜서\n",
       "3 홍민수 인천     25   남   학생    "
      ]
     },
     "metadata": {},
     "output_type": "display_data"
    }
   ],
   "source": [
    "coreMember <- merge(person, pInfo)\n",
    "coreMember"
   ]
  },
  {
   "cell_type": "code",
   "execution_count": 26,
   "metadata": {},
   "outputs": [
    {
     "data": {
      "text/html": [
       "<table>\n",
       "<thead><tr><th scope=col>이름</th><th scope=col>거주지역</th><th scope=col>나이</th><th scope=col>성별</th><th scope=col>직업</th></tr></thead>\n",
       "<tbody>\n",
       "\t<tr><td>국정수  </td><td>서울    </td><td>43      </td><td>남      </td><td>NA      </td></tr>\n",
       "\t<tr><td>라윤정  </td><td>서울    </td><td>35      </td><td>여      </td><td>NA      </td></tr>\n",
       "\t<tr><td>조정란  </td><td>경기    </td><td>33      </td><td>여      </td><td>공무원  </td></tr>\n",
       "\t<tr><td>한주연  </td><td>인천    </td><td>37      </td><td>남      </td><td>프리랜서</td></tr>\n",
       "\t<tr><td>홍민수  </td><td>인천    </td><td>25      </td><td>남      </td><td>학생    </td></tr>\n",
       "\t<tr><td>박장곤  </td><td>NA      </td><td>NA      </td><td>NA      </td><td>회사원  </td></tr>\n",
       "\t<tr><td>한지수  </td><td>NA      </td><td>NA      </td><td>NA      </td><td>자영업  </td></tr>\n",
       "</tbody>\n",
       "</table>\n"
      ],
      "text/latex": [
       "\\begin{tabular}{r|lllll}\n",
       " 이름 & 거주지역 & 나이 & 성별 & 직업\\\\\n",
       "\\hline\n",
       "\t 국정수   & 서울     & 43       & 남       & NA      \\\\\n",
       "\t 라윤정   & 서울     & 35       & 여       & NA      \\\\\n",
       "\t 조정란   & 경기     & 33       & 여       & 공무원  \\\\\n",
       "\t 한주연   & 인천     & 37       & 남       & 프리랜서\\\\\n",
       "\t 홍민수   & 인천     & 25       & 남       & 학생    \\\\\n",
       "\t 박장곤   & NA       & NA       & NA       & 회사원  \\\\\n",
       "\t 한지수   & NA       & NA       & NA       & 자영업  \\\\\n",
       "\\end{tabular}\n"
      ],
      "text/markdown": [
       "\n",
       "| 이름 | 거주지역 | 나이 | 성별 | 직업 |\n",
       "|---|---|---|---|---|\n",
       "| 국정수   | 서울     | 43       | 남       | NA       |\n",
       "| 라윤정   | 서울     | 35       | 여       | NA       |\n",
       "| 조정란   | 경기     | 33       | 여       | 공무원   |\n",
       "| 한주연   | 인천     | 37       | 남       | 프리랜서 |\n",
       "| 홍민수   | 인천     | 25       | 남       | 학생     |\n",
       "| 박장곤   | NA       | NA       | NA       | 회사원   |\n",
       "| 한지수   | NA       | NA       | NA       | 자영업   |\n",
       "\n"
      ],
      "text/plain": [
       "  이름   거주지역 나이 성별 직업    \n",
       "1 국정수 서울     43   남   NA      \n",
       "2 라윤정 서울     35   여   NA      \n",
       "3 조정란 경기     33   여   공무원  \n",
       "4 한주연 인천     37   남   프리랜서\n",
       "5 홍민수 인천     25   남   학생    \n",
       "6 박장곤 NA       NA   NA   회사원  \n",
       "7 한지수 NA       NA   NA   자영업  "
      ]
     },
     "metadata": {},
     "output_type": "display_data"
    }
   ],
   "source": [
    "# 중복되는 내용을 결합해서 다 보여줄 순 없을까?\n",
    "merge(person, pInfo, all = TRUE)"
   ]
  },
  {
   "cell_type": "markdown",
   "metadata": {},
   "source": [
    "    all = TRUE 옵션을 넣어주면 됨.\n",
    "    양쪽 모두 겹치지 않는 부분은 NA로 처리됨."
   ]
  },
  {
   "cell_type": "markdown",
   "metadata": {},
   "source": [
    "**DataFrame 조작**\n",
    "\n",
    "<br>\n",
    "\n",
    "- **subset()**을 이용해 **특정 컬럼만으로 이루어진 프레임** 생성.\n",
    "- 데이터 프레임에 컬럼을 추가하는 작업.\n",
    "    - **cbind()를 통해 추가**할 수 있음.\n",
    "- 특정 행/열을 삭제하는 작업.\n",
    "    - index 조작을 통해 할 수 있음.\n",
    "        - [, -'지우고자 하는 열']\n",
    "        - [-'지우고자 하는 행', ]"
   ]
  },
  {
   "cell_type": "code",
   "execution_count": 29,
   "metadata": {},
   "outputs": [
    {
     "data": {
      "text/html": [
       "<table>\n",
       "<thead><tr><th scope=col>이름</th><th scope=col>나이</th><th scope=col>성별</th></tr></thead>\n",
       "<tbody>\n",
       "\t<tr><td>홍민수</td><td>25    </td><td>남    </td></tr>\n",
       "\t<tr><td>조정란</td><td>33    </td><td>여    </td></tr>\n",
       "\t<tr><td>국정수</td><td>43    </td><td>남    </td></tr>\n",
       "\t<tr><td>라윤정</td><td>35    </td><td>여    </td></tr>\n",
       "\t<tr><td>한주연</td><td>37    </td><td>남    </td></tr>\n",
       "</tbody>\n",
       "</table>\n"
      ],
      "text/latex": [
       "\\begin{tabular}{r|lll}\n",
       " 이름 & 나이 & 성별\\\\\n",
       "\\hline\n",
       "\t 홍민수 & 25     & 남    \\\\\n",
       "\t 조정란 & 33     & 여    \\\\\n",
       "\t 국정수 & 43     & 남    \\\\\n",
       "\t 라윤정 & 35     & 여    \\\\\n",
       "\t 한주연 & 37     & 남    \\\\\n",
       "\\end{tabular}\n"
      ],
      "text/markdown": [
       "\n",
       "| 이름 | 나이 | 성별 |\n",
       "|---|---|---|\n",
       "| 홍민수 | 25     | 남     |\n",
       "| 조정란 | 33     | 여     |\n",
       "| 국정수 | 43     | 남     |\n",
       "| 라윤정 | 35     | 여     |\n",
       "| 한주연 | 37     | 남     |\n",
       "\n"
      ],
      "text/plain": [
       "  이름   나이 성별\n",
       "1 홍민수 25   남  \n",
       "2 조정란 33   여  \n",
       "3 국정수 43   남  \n",
       "4 라윤정 35   여  \n",
       "5 한주연 37   남  "
      ]
     },
     "metadata": {},
     "output_type": "display_data"
    },
    {
     "data": {
      "text/html": [
       "<table>\n",
       "<thead><tr><th scope=col>이름</th><th scope=col>나이</th></tr></thead>\n",
       "<tbody>\n",
       "\t<tr><td>홍민수</td><td>25    </td></tr>\n",
       "\t<tr><td>조정란</td><td>33    </td></tr>\n",
       "\t<tr><td>국정수</td><td>43    </td></tr>\n",
       "\t<tr><td>라윤정</td><td>35    </td></tr>\n",
       "\t<tr><td>한주연</td><td>37    </td></tr>\n",
       "</tbody>\n",
       "</table>\n"
      ],
      "text/latex": [
       "\\begin{tabular}{r|ll}\n",
       " 이름 & 나이\\\\\n",
       "\\hline\n",
       "\t 홍민수 & 25    \\\\\n",
       "\t 조정란 & 33    \\\\\n",
       "\t 국정수 & 43    \\\\\n",
       "\t 라윤정 & 35    \\\\\n",
       "\t 한주연 & 37    \\\\\n",
       "\\end{tabular}\n"
      ],
      "text/markdown": [
       "\n",
       "| 이름 | 나이 |\n",
       "|---|---|\n",
       "| 홍민수 | 25     |\n",
       "| 조정란 | 33     |\n",
       "| 국정수 | 43     |\n",
       "| 라윤정 | 35     |\n",
       "| 한주연 | 37     |\n",
       "\n"
      ],
      "text/plain": [
       "  이름   나이\n",
       "1 홍민수 25  \n",
       "2 조정란 33  \n",
       "3 국정수 43  \n",
       "4 라윤정 35  \n",
       "5 한주연 37  "
      ]
     },
     "metadata": {},
     "output_type": "display_data"
    }
   ],
   "source": [
    "# 거주지역을 제외한 나머지만을 가져오도록?\n",
    " ## select로 선택할 column만 적어도 되고, 제외할 column만 - 해줘도 된다.\n",
    "data1 <- subset(person, select =- 거주지역)\n",
    "data1\n",
    "\n",
    "data2 <- subset(person, select = c(이름, 나이))\n",
    "data2"
   ]
  },
  {
   "cell_type": "code",
   "execution_count": 30,
   "metadata": {},
   "outputs": [
    {
     "data": {
      "text/html": [
       "<table>\n",
       "<thead><tr><th scope=col>이름</th><th scope=col>거주지역</th><th scope=col>나이</th><th scope=col>성별</th><th scope=col>결혼</th></tr></thead>\n",
       "<tbody>\n",
       "\t<tr><td>홍민수</td><td>인천  </td><td>25    </td><td>남    </td><td>FALSE </td></tr>\n",
       "\t<tr><td>조정란</td><td>경기  </td><td>33    </td><td>여    </td><td> TRUE </td></tr>\n",
       "\t<tr><td>국정수</td><td>서울  </td><td>43    </td><td>남    </td><td> TRUE </td></tr>\n",
       "\t<tr><td>라윤정</td><td>서울  </td><td>35    </td><td>여    </td><td>FALSE </td></tr>\n",
       "\t<tr><td>한주연</td><td>인천  </td><td>37    </td><td>남    </td><td> TRUE </td></tr>\n",
       "</tbody>\n",
       "</table>\n"
      ],
      "text/latex": [
       "\\begin{tabular}{r|lllll}\n",
       " 이름 & 거주지역 & 나이 & 성별 & 결혼\\\\\n",
       "\\hline\n",
       "\t 홍민수 & 인천   & 25     & 남     & FALSE \\\\\n",
       "\t 조정란 & 경기   & 33     & 여     &  TRUE \\\\\n",
       "\t 국정수 & 서울   & 43     & 남     &  TRUE \\\\\n",
       "\t 라윤정 & 서울   & 35     & 여     & FALSE \\\\\n",
       "\t 한주연 & 인천   & 37     & 남     &  TRUE \\\\\n",
       "\\end{tabular}\n"
      ],
      "text/markdown": [
       "\n",
       "| 이름 | 거주지역 | 나이 | 성별 | 결혼 |\n",
       "|---|---|---|---|---|\n",
       "| 홍민수 | 인천   | 25     | 남     | FALSE  |\n",
       "| 조정란 | 경기   | 33     | 여     |  TRUE  |\n",
       "| 국정수 | 서울   | 43     | 남     |  TRUE  |\n",
       "| 라윤정 | 서울   | 35     | 여     | FALSE  |\n",
       "| 한주연 | 인천   | 37     | 남     |  TRUE  |\n",
       "\n"
      ],
      "text/plain": [
       "  이름   거주지역 나이 성별 결혼 \n",
       "1 홍민수 인천     25   남   FALSE\n",
       "2 조정란 경기     33   여    TRUE\n",
       "3 국정수 서울     43   남    TRUE\n",
       "4 라윤정 서울     35   여   FALSE\n",
       "5 한주연 인천     37   남    TRUE"
      ]
     },
     "metadata": {},
     "output_type": "display_data"
    }
   ],
   "source": [
    "# cbind를 통해 column 추가가 가능.\n",
    "data3 <- cbind(person, 결혼 = c(FALSE, TRUE, TRUE, FALSE, TRUE))\n",
    "data3"
   ]
  },
  {
   "cell_type": "code",
   "execution_count": 31,
   "metadata": {},
   "outputs": [
    {
     "data": {
      "text/html": [
       "<table>\n",
       "<thead><tr><th></th><th scope=col>이름</th><th scope=col>거주지역</th><th scope=col>나이</th><th scope=col>성별</th><th scope=col>결혼</th></tr></thead>\n",
       "<tbody>\n",
       "\t<tr><th scope=row>1</th><td>홍민수</td><td>인천  </td><td>25    </td><td>남    </td><td>FALSE </td></tr>\n",
       "\t<tr><th scope=row>2</th><td>조정란</td><td>경기  </td><td>33    </td><td>여    </td><td> TRUE </td></tr>\n",
       "\t<tr><th scope=row>4</th><td>라윤정</td><td>서울  </td><td>35    </td><td>여    </td><td>FALSE </td></tr>\n",
       "\t<tr><th scope=row>5</th><td>한주연</td><td>인천  </td><td>37    </td><td>남    </td><td> TRUE </td></tr>\n",
       "</tbody>\n",
       "</table>\n"
      ],
      "text/latex": [
       "\\begin{tabular}{r|lllll}\n",
       "  & 이름 & 거주지역 & 나이 & 성별 & 결혼\\\\\n",
       "\\hline\n",
       "\t1 & 홍민수 & 인천   & 25     & 남     & FALSE \\\\\n",
       "\t2 & 조정란 & 경기   & 33     & 여     &  TRUE \\\\\n",
       "\t4 & 라윤정 & 서울   & 35     & 여     & FALSE \\\\\n",
       "\t5 & 한주연 & 인천   & 37     & 남     &  TRUE \\\\\n",
       "\\end{tabular}\n"
      ],
      "text/markdown": [
       "\n",
       "| <!--/--> | 이름 | 거주지역 | 나이 | 성별 | 결혼 |\n",
       "|---|---|---|---|---|---|\n",
       "| 1 | 홍민수 | 인천   | 25     | 남     | FALSE  |\n",
       "| 2 | 조정란 | 경기   | 33     | 여     |  TRUE  |\n",
       "| 4 | 라윤정 | 서울   | 35     | 여     | FALSE  |\n",
       "| 5 | 한주연 | 인천   | 37     | 남     |  TRUE  |\n",
       "\n"
      ],
      "text/plain": [
       "  이름   거주지역 나이 성별 결혼 \n",
       "1 홍민수 인천     25   남   FALSE\n",
       "2 조정란 경기     33   여    TRUE\n",
       "4 라윤정 서울     35   여   FALSE\n",
       "5 한주연 인천     37   남    TRUE"
      ]
     },
     "metadata": {},
     "output_type": "display_data"
    },
    {
     "data": {
      "text/html": [
       "<table>\n",
       "<thead><tr><th scope=col>이름</th><th scope=col>거주지역</th><th scope=col>나이</th><th scope=col>성별</th></tr></thead>\n",
       "<tbody>\n",
       "\t<tr><td>홍민수</td><td>인천  </td><td>25    </td><td>남    </td></tr>\n",
       "\t<tr><td>조정란</td><td>경기  </td><td>33    </td><td>여    </td></tr>\n",
       "\t<tr><td>국정수</td><td>서울  </td><td>43    </td><td>남    </td></tr>\n",
       "\t<tr><td>라윤정</td><td>서울  </td><td>35    </td><td>여    </td></tr>\n",
       "\t<tr><td>한주연</td><td>인천  </td><td>37    </td><td>남    </td></tr>\n",
       "</tbody>\n",
       "</table>\n"
      ],
      "text/latex": [
       "\\begin{tabular}{r|llll}\n",
       " 이름 & 거주지역 & 나이 & 성별\\\\\n",
       "\\hline\n",
       "\t 홍민수 & 인천   & 25     & 남    \\\\\n",
       "\t 조정란 & 경기   & 33     & 여    \\\\\n",
       "\t 국정수 & 서울   & 43     & 남    \\\\\n",
       "\t 라윤정 & 서울   & 35     & 여    \\\\\n",
       "\t 한주연 & 인천   & 37     & 남    \\\\\n",
       "\\end{tabular}\n"
      ],
      "text/markdown": [
       "\n",
       "| 이름 | 거주지역 | 나이 | 성별 |\n",
       "|---|---|---|---|\n",
       "| 홍민수 | 인천   | 25     | 남     |\n",
       "| 조정란 | 경기   | 33     | 여     |\n",
       "| 국정수 | 서울   | 43     | 남     |\n",
       "| 라윤정 | 서울   | 35     | 여     |\n",
       "| 한주연 | 인천   | 37     | 남     |\n",
       "\n"
      ],
      "text/plain": [
       "  이름   거주지역 나이 성별\n",
       "1 홍민수 인천     25   남  \n",
       "2 조정란 경기     33   여  \n",
       "3 국정수 서울     43   남  \n",
       "4 라윤정 서울     35   여  \n",
       "5 한주연 인천     37   남  "
      ]
     },
     "metadata": {},
     "output_type": "display_data"
    }
   ],
   "source": [
    "data3[-3,] # 3행 지우기\n",
    "data3[, -5] # 5열 지우기"
   ]
  },
  {
   "cell_type": "code",
   "execution_count": 33,
   "metadata": {},
   "outputs": [
    {
     "data": {
      "text/html": [
       "5"
      ],
      "text/latex": [
       "5"
      ],
      "text/markdown": [
       "5"
      ],
      "text/plain": [
       "[1] 5"
      ]
     },
     "metadata": {},
     "output_type": "display_data"
    },
    {
     "data": {
      "text/html": [
       "5"
      ],
      "text/latex": [
       "5"
      ],
      "text/markdown": [
       "5"
      ],
      "text/plain": [
       "[1] 5"
      ]
     },
     "metadata": {},
     "output_type": "display_data"
    }
   ],
   "source": [
    "ncol(data3) # 열 갯수 확인\n",
    "nrow(data3) # 행 갯수 확인"
   ]
  },
  {
   "cell_type": "markdown",
   "metadata": {},
   "source": [
    "    지운 내용을 data3에 할당하지 않았으므로\n",
    "    원본 내용은 그대로."
   ]
  },
  {
   "cell_type": "code",
   "execution_count": 39,
   "metadata": {},
   "outputs": [
    {
     "data": {
      "text/html": [
       "<ol class=list-inline>\n",
       "\t<li>'성명'</li>\n",
       "\t<li>'거주지'</li>\n",
       "\t<li>'나이'</li>\n",
       "\t<li>'성별'</li>\n",
       "\t<li>'결혼유무'</li>\n",
       "</ol>\n"
      ],
      "text/latex": [
       "\\begin{enumerate*}\n",
       "\\item '성명'\n",
       "\\item '거주지'\n",
       "\\item '나이'\n",
       "\\item '성별'\n",
       "\\item '결혼유무'\n",
       "\\end{enumerate*}\n"
      ],
      "text/markdown": [
       "1. '성명'\n",
       "2. '거주지'\n",
       "3. '나이'\n",
       "4. '성별'\n",
       "5. '결혼유무'\n",
       "\n",
       "\n"
      ],
      "text/plain": [
       "[1] \"성명\"     \"거주지\"   \"나이\"     \"성별\"     \"결혼유무\""
      ]
     },
     "metadata": {},
     "output_type": "display_data"
    },
    {
     "data": {
      "text/html": [
       "<table>\n",
       "<thead><tr><th scope=col>성명</th><th scope=col>거주지</th><th scope=col>나이</th><th scope=col>성별</th><th scope=col>결혼유무</th></tr></thead>\n",
       "<tbody>\n",
       "\t<tr><td>홍민수</td><td>인천  </td><td>25    </td><td>남    </td><td>FALSE </td></tr>\n",
       "\t<tr><td>조정란</td><td>경기  </td><td>33    </td><td>여    </td><td> TRUE </td></tr>\n",
       "\t<tr><td>국정수</td><td>서울  </td><td>43    </td><td>남    </td><td> TRUE </td></tr>\n",
       "\t<tr><td>라윤정</td><td>서울  </td><td>35    </td><td>여    </td><td>FALSE </td></tr>\n",
       "\t<tr><td>한주연</td><td>인천  </td><td>37    </td><td>남    </td><td> TRUE </td></tr>\n",
       "</tbody>\n",
       "</table>\n"
      ],
      "text/latex": [
       "\\begin{tabular}{r|lllll}\n",
       " 성명 & 거주지 & 나이 & 성별 & 결혼유무\\\\\n",
       "\\hline\n",
       "\t 홍민수 & 인천   & 25     & 남     & FALSE \\\\\n",
       "\t 조정란 & 경기   & 33     & 여     &  TRUE \\\\\n",
       "\t 국정수 & 서울   & 43     & 남     &  TRUE \\\\\n",
       "\t 라윤정 & 서울   & 35     & 여     & FALSE \\\\\n",
       "\t 한주연 & 인천   & 37     & 남     &  TRUE \\\\\n",
       "\\end{tabular}\n"
      ],
      "text/markdown": [
       "\n",
       "| 성명 | 거주지 | 나이 | 성별 | 결혼유무 |\n",
       "|---|---|---|---|---|\n",
       "| 홍민수 | 인천   | 25     | 남     | FALSE  |\n",
       "| 조정란 | 경기   | 33     | 여     |  TRUE  |\n",
       "| 국정수 | 서울   | 43     | 남     |  TRUE  |\n",
       "| 라윤정 | 서울   | 35     | 여     | FALSE  |\n",
       "| 한주연 | 인천   | 37     | 남     |  TRUE  |\n",
       "\n"
      ],
      "text/plain": [
       "  성명   거주지 나이 성별 결혼유무\n",
       "1 홍민수 인천   25   남   FALSE   \n",
       "2 조정란 경기   33   여    TRUE   \n",
       "3 국정수 서울   43   남    TRUE   \n",
       "4 라윤정 서울   35   여   FALSE   \n",
       "5 한주연 인천   37   남    TRUE   "
      ]
     },
     "metadata": {},
     "output_type": "display_data"
    }
   ],
   "source": [
    "colnames(data3) <- c('성명', '거주지', '나이', '성별', '결혼유무') # 컬럼 명 변경\n",
    "names(data3) # 컬럼 명 확인\n",
    "data3"
   ]
  }
 ],
 "metadata": {
  "kernelspec": {
   "display_name": "R",
   "language": "R",
   "name": "ir"
  },
  "language_info": {
   "codemirror_mode": "r",
   "file_extension": ".r",
   "mimetype": "text/x-r-source",
   "name": "R",
   "pygments_lexer": "r",
   "version": "3.6.1"
  }
 },
 "nbformat": 4,
 "nbformat_minor": 2
}

{
 "cells": [
  {
   "cell_type": "markdown",
   "metadata": {},
   "source": [
    "## R Plot 종류\n",
    "\n",
    "<br>\n",
    "\n",
    "- 그래프 중첩해서 그리기?\n",
    "    - **par(new=TRUE)** 사용"
   ]
  },
  {
   "cell_type": "code",
   "execution_count": 7,
   "metadata": {},
   "outputs": [
    {
     "data": {
      "image/png": "[encoded data removed]",
      "text/plain": [
       "plot without title"
      ]
     },
     "metadata": {},
     "output_type": "display_data"
    }
   ],
   "source": [
    "y1 <- c(0.8, 0.5, 0.4, 0.4, 0.5, 0.7)\n",
    "y2 <- c(0.8, 1.3, 1.0, 1.3, 0.9, 1.2)\n",
    "x <- c(1:6)\n",
    "\n",
    "plot.new()\n",
    "# 중첩해서 그리기\n",
    "par(new=TRUE)\n",
    "plot(x, y1, ylab='소비자율 가 상승률', type='l', col='red', ylim=c(0.3, 1.5))\n",
    "\n",
    "par(new=TRUE)\n",
    "plot(x, y2, ylab='소비자율 가 상승률', lty='dotted', type='l', col='blue', ylim=c(0.3, 1.5))\n",
    "\n",
    "# locator(1) 을 사용하면 범례를 사용자가 클릭하는 지점에 띄워줌. R console 얘기인듯.\n",
    "legend('topright', legend=c('2015년', '2016년'), lty=1, bg='white', col=c('red', 'blue'))"
   ]
  },
  {
   "cell_type": "markdown",
   "metadata": {},
   "source": [
    "### 막대그래프\n",
    "\n",
    "<br>\n",
    "\n",
    "- barplot(인자) 를 통해 생성.\n",
    "    - names : 막대 라벨 표시\n",
    "    - space : 막대와 막대 사이 간격\n",
    "    - beside : TRUE로 하면 각각의 값 마다 막대를 그림. 그룹화 할때 많이 씀.\n",
    "    - horiz : TRUE로 하면 막대를 가로형으로(수평으로) 표시."
   ]
  },
  {
   "cell_type": "code",
   "execution_count": 12,
   "metadata": {},
   "outputs": [
    {
     "data": {
      "image/png": "[encoded data removed]",
      "text/plain": [
       "plot without title"
      ]
     },
     "metadata": {},
     "output_type": "display_data"
    }
   ],
   "source": [
    "a <- c(100, 200, 300, 350, 500)\n",
    "barplot(a, names=c('a', 'b', 'c', 'd', 'e'), col='blue')"
   ]
  },
  {
   "cell_type": "code",
   "execution_count": 18,
   "metadata": {},
   "outputs": [
    {
     "data": {
      "text/html": [
       "<table>\n",
       "<thead><tr><th scope=col>자치구</th><th scope=col>남자</th><th scope=col>여자</th></tr></thead>\n",
       "<tbody>\n",
       "\t<tr><td>종로구  </td><td> 80531  </td><td> 83291  </td></tr>\n",
       "\t<tr><td>중구    </td><td> 66755  </td><td> 67574  </td></tr>\n",
       "\t<tr><td>용산구  </td><td>121027  </td><td>126882  </td></tr>\n",
       "\t<tr><td>성동구  </td><td>151459  </td><td>153606  </td></tr>\n",
       "\t<tr><td>광진구  </td><td>183436  </td><td>191744  </td></tr>\n",
       "\t<tr><td>동대문구</td><td>185827  </td><td>187997  </td></tr>\n",
       "\t<tr><td>중랑구  </td><td>208393  </td><td>210227  </td></tr>\n",
       "\t<tr><td>성북구  </td><td>229183  </td><td>240377  </td></tr>\n",
       "\t<tr><td>강북구  </td><td>164337  </td><td>170089  </td></tr>\n",
       "\t<tr><td>도봉구  </td><td>173804  </td><td>179437  </td></tr>\n",
       "\t<tr><td>노원구  </td><td>281538  </td><td>296683  </td></tr>\n",
       "\t<tr><td>은평구  </td><td>244964  </td><td>257614  </td></tr>\n",
       "\t<tr><td>서대문구</td><td>156130  </td><td>166975  </td></tr>\n",
       "\t<tr><td>마포구  </td><td>190957  </td><td>207394  </td></tr>\n",
       "\t<tr><td>양천구  </td><td>242074  </td><td>246936  </td></tr>\n",
       "\t<tr><td>강서구  </td><td>291216  </td><td>304475  </td></tr>\n",
       "\t<tr><td>구로구  </td><td>228201  </td><td>226403  </td></tr>\n",
       "\t<tr><td>금천구  </td><td>131346  </td><td>124821  </td></tr>\n",
       "\t<tr><td>영등포구</td><td>210388  </td><td>207423  </td></tr>\n",
       "\t<tr><td>동작구  </td><td>202165  </td><td>210609  </td></tr>\n",
       "\t<tr><td>관악구  </td><td>266773  </td><td>262258  </td></tr>\n",
       "\t<tr><td>서초구  </td><td>217036  </td><td>234222  </td></tr>\n",
       "\t<tr><td>강남구  </td><td>279209  </td><td>302551  </td></tr>\n",
       "\t<tr><td>송파구  </td><td>325950  </td><td>341530  </td></tr>\n",
       "\t<tr><td>강동구  </td><td>230851  </td><td>232470  </td></tr>\n",
       "</tbody>\n",
       "</table>\n"
      ],
      "text/latex": [
       "\\begin{tabular}{r|lll}\n",
       " 자치구 & 남자 & 여자\\\\\n",
       "\\hline\n",
       "\t 종로구   &  80531   &  83291  \\\\\n",
       "\t 중구     &  66755   &  67574  \\\\\n",
       "\t 용산구   & 121027   & 126882  \\\\\n",
       "\t 성동구   & 151459   & 153606  \\\\\n",
       "\t 광진구   & 183436   & 191744  \\\\\n",
       "\t 동대문구 & 185827   & 187997  \\\\\n",
       "\t 중랑구   & 208393   & 210227  \\\\\n",
       "\t 성북구   & 229183   & 240377  \\\\\n",
       "\t 강북구   & 164337   & 170089  \\\\\n",
       "\t 도봉구   & 173804   & 179437  \\\\\n",
       "\t 노원구   & 281538   & 296683  \\\\\n",
       "\t 은평구   & 244964   & 257614  \\\\\n",
       "\t 서대문구 & 156130   & 166975  \\\\\n",
       "\t 마포구   & 190957   & 207394  \\\\\n",
       "\t 양천구   & 242074   & 246936  \\\\\n",
       "\t 강서구   & 291216   & 304475  \\\\\n",
       "\t 구로구   & 228201   & 226403  \\\\\n",
       "\t 금천구   & 131346   & 124821  \\\\\n",
       "\t 영등포구 & 210388   & 207423  \\\\\n",
       "\t 동작구   & 202165   & 210609  \\\\\n",
       "\t 관악구   & 266773   & 262258  \\\\\n",
       "\t 서초구   & 217036   & 234222  \\\\\n",
       "\t 강남구   & 279209   & 302551  \\\\\n",
       "\t 송파구   & 325950   & 341530  \\\\\n",
       "\t 강동구   & 230851   & 232470  \\\\\n",
       "\\end{tabular}\n"
      ],
      "text/markdown": [
       "\n",
       "| 자치구 | 남자 | 여자 |\n",
       "|---|---|---|\n",
       "| 종로구   |  80531   |  83291   |\n",
       "| 중구     |  66755   |  67574   |\n",
       "| 용산구   | 121027   | 126882   |\n",
       "| 성동구   | 151459   | 153606   |\n",
       "| 광진구   | 183436   | 191744   |\n",
       "| 동대문구 | 185827   | 187997   |\n",
       "| 중랑구   | 208393   | 210227   |\n",
       "| 성북구   | 229183   | 240377   |\n",
       "| 강북구   | 164337   | 170089   |\n",
       "| 도봉구   | 173804   | 179437   |\n",
       "| 노원구   | 281538   | 296683   |\n",
       "| 은평구   | 244964   | 257614   |\n",
       "| 서대문구 | 156130   | 166975   |\n",
       "| 마포구   | 190957   | 207394   |\n",
       "| 양천구   | 242074   | 246936   |\n",
       "| 강서구   | 291216   | 304475   |\n",
       "| 구로구   | 228201   | 226403   |\n",
       "| 금천구   | 131346   | 124821   |\n",
       "| 영등포구 | 210388   | 207423   |\n",
       "| 동작구   | 202165   | 210609   |\n",
       "| 관악구   | 266773   | 262258   |\n",
       "| 서초구   | 217036   | 234222   |\n",
       "| 강남구   | 279209   | 302551   |\n",
       "| 송파구   | 325950   | 341530   |\n",
       "| 강동구   | 230851   | 232470   |\n",
       "\n"
      ],
      "text/plain": [
       "   자치구   남자   여자  \n",
       "1  종로구    80531  83291\n",
       "2  중구      66755  67574\n",
       "3  용산구   121027 126882\n",
       "4  성동구   151459 153606\n",
       "5  광진구   183436 191744\n",
       "6  동대문구 185827 187997\n",
       "7  중랑구   208393 210227\n",
       "8  성북구   229183 240377\n",
       "9  강북구   164337 170089\n",
       "10 도봉구   173804 179437\n",
       "11 노원구   281538 296683\n",
       "12 은평구   244964 257614\n",
       "13 서대문구 156130 166975\n",
       "14 마포구   190957 207394\n",
       "15 양천구   242074 246936\n",
       "16 강서구   291216 304475\n",
       "17 구로구   228201 226403\n",
       "18 금천구   131346 124821\n",
       "19 영등포구 210388 207423\n",
       "20 동작구   202165 210609\n",
       "21 관악구   266773 262258\n",
       "22 서초구   217036 234222\n",
       "23 강남구   279209 302551\n",
       "24 송파구   325950 341530\n",
       "25 강동구   230851 232470"
      ]
     },
     "metadata": {},
     "output_type": "display_data"
    }
   ],
   "source": [
    "# csv파일을 읽어서\n",
    "data <- read.csv('UseData/seoulpopulation.csv', sep=',', header=TRUE)\n",
    "data"
   ]
  },
  {
   "cell_type": "code",
   "execution_count": 19,
   "metadata": {},
   "outputs": [
    {
     "data": {
      "text/html": [
       "<table>\n",
       "<thead><tr><th></th><th scope=col>자치구</th><th scope=col>남자</th><th scope=col>여자</th></tr></thead>\n",
       "<tbody>\n",
       "\t<tr><th scope=row>11</th><td>노원구</td><td>281538</td><td>296683</td></tr>\n",
       "\t<tr><th scope=row>12</th><td>은평구</td><td>244964</td><td>257614</td></tr>\n",
       "\t<tr><th scope=row>15</th><td>양천구</td><td>242074</td><td>246936</td></tr>\n",
       "\t<tr><th scope=row>16</th><td>강서구</td><td>291216</td><td>304475</td></tr>\n",
       "\t<tr><th scope=row>21</th><td>관악구</td><td>266773</td><td>262258</td></tr>\n",
       "\t<tr><th scope=row>23</th><td>강남구</td><td>279209</td><td>302551</td></tr>\n",
       "\t<tr><th scope=row>24</th><td>송파구</td><td>325950</td><td>341530</td></tr>\n",
       "\t<tr><th scope=row>25</th><td>강동구</td><td>230851</td><td>232470</td></tr>\n",
       "</tbody>\n",
       "</table>\n"
      ],
      "text/latex": [
       "\\begin{tabular}{r|lll}\n",
       "  & 자치구 & 남자 & 여자\\\\\n",
       "\\hline\n",
       "\t11 & 노원구 & 281538 & 296683\\\\\n",
       "\t12 & 은평구 & 244964 & 257614\\\\\n",
       "\t15 & 양천구 & 242074 & 246936\\\\\n",
       "\t16 & 강서구 & 291216 & 304475\\\\\n",
       "\t21 & 관악구 & 266773 & 262258\\\\\n",
       "\t23 & 강남구 & 279209 & 302551\\\\\n",
       "\t24 & 송파구 & 325950 & 341530\\\\\n",
       "\t25 & 강동구 & 230851 & 232470\\\\\n",
       "\\end{tabular}\n"
      ],
      "text/markdown": [
       "\n",
       "| <!--/--> | 자치구 | 남자 | 여자 |\n",
       "|---|---|---|---|\n",
       "| 11 | 노원구 | 281538 | 296683 |\n",
       "| 12 | 은평구 | 244964 | 257614 |\n",
       "| 15 | 양천구 | 242074 | 246936 |\n",
       "| 16 | 강서구 | 291216 | 304475 |\n",
       "| 21 | 관악구 | 266773 | 262258 |\n",
       "| 23 | 강남구 | 279209 | 302551 |\n",
       "| 24 | 송파구 | 325950 | 341530 |\n",
       "| 25 | 강동구 | 230851 | 232470 |\n",
       "\n"
      ],
      "text/plain": [
       "   자치구 남자   여자  \n",
       "11 노원구 281538 296683\n",
       "12 은평구 244964 257614\n",
       "15 양천구 242074 246936\n",
       "16 강서구 291216 304475\n",
       "21 관악구 266773 262258\n",
       "23 강남구 279209 302551\n",
       "24 송파구 325950 341530\n",
       "25 강동구 230851 232470"
      ]
     },
     "metadata": {},
     "output_type": "display_data"
    }
   ],
   "source": [
    "# 남자 수가 23만명 이상인 구 만을 subset함수를 사용해 골라냄.\n",
    "data1 <- subset(data, 남자>=230000)\n",
    "data1"
   ]
  },
  {
   "cell_type": "code",
   "execution_count": 20,
   "metadata": {
    "scrolled": false
   },
   "outputs": [
    {
     "data": {
      "text/html": [
       "<ol class=list-inline>\n",
       "\t<li>노원구</li>\n",
       "\t<li>은평구</li>\n",
       "\t<li>양천구</li>\n",
       "\t<li>강서구</li>\n",
       "\t<li>관악구</li>\n",
       "\t<li>강남구</li>\n",
       "\t<li>송파구</li>\n",
       "\t<li>강동구</li>\n",
       "</ol>\n",
       "\n",
       "<details>\n",
       "\t<summary style=display:list-item;cursor:pointer>\n",
       "\t\t<strong>Levels</strong>:\n",
       "\t</summary>\n",
       "\t<ol class=list-inline>\n",
       "\t\t<li>'강남구'</li>\n",
       "\t\t<li>'강동구'</li>\n",
       "\t\t<li>'강북구'</li>\n",
       "\t\t<li>'강서구'</li>\n",
       "\t\t<li>'관악구'</li>\n",
       "\t\t<li>'광진구'</li>\n",
       "\t\t<li>'구로구'</li>\n",
       "\t\t<li>'금천구'</li>\n",
       "\t\t<li>'노원구'</li>\n",
       "\t\t<li>'도봉구'</li>\n",
       "\t\t<li>'동대문구'</li>\n",
       "\t\t<li>'동작구'</li>\n",
       "\t\t<li>'마포구'</li>\n",
       "\t\t<li>'서대문구'</li>\n",
       "\t\t<li>'서초구'</li>\n",
       "\t\t<li>'성동구'</li>\n",
       "\t\t<li>'성북구'</li>\n",
       "\t\t<li>'송파구'</li>\n",
       "\t\t<li>'양천구'</li>\n",
       "\t\t<li>'영등포구'</li>\n",
       "\t\t<li>'용산구'</li>\n",
       "\t\t<li>'은평구'</li>\n",
       "\t\t<li>'종로구'</li>\n",
       "\t\t<li>'중구'</li>\n",
       "\t\t<li>'중랑구'</li>\n",
       "\t</ol>\n",
       "</details>"
      ],
      "text/latex": [
       "\\begin{enumerate*}\n",
       "\\item 노원구\n",
       "\\item 은평구\n",
       "\\item 양천구\n",
       "\\item 강서구\n",
       "\\item 관악구\n",
       "\\item 강남구\n",
       "\\item 송파구\n",
       "\\item 강동구\n",
       "\\end{enumerate*}\n",
       "\n",
       "\\emph{Levels}: \\begin{enumerate*}\n",
       "\\item '강남구'\n",
       "\\item '강동구'\n",
       "\\item '강북구'\n",
       "\\item '강서구'\n",
       "\\item '관악구'\n",
       "\\item '광진구'\n",
       "\\item '구로구'\n",
       "\\item '금천구'\n",
       "\\item '노원구'\n",
       "\\item '도봉구'\n",
       "\\item '동대문구'\n",
       "\\item '동작구'\n",
       "\\item '마포구'\n",
       "\\item '서대문구'\n",
       "\\item '서초구'\n",
       "\\item '성동구'\n",
       "\\item '성북구'\n",
       "\\item '송파구'\n",
       "\\item '양천구'\n",
       "\\item '영등포구'\n",
       "\\item '용산구'\n",
       "\\item '은평구'\n",
       "\\item '종로구'\n",
       "\\item '중구'\n",
       "\\item '중랑구'\n",
       "\\end{enumerate*}\n"
      ],
      "text/markdown": [
       "1. 노원구\n",
       "2. 은평구\n",
       "3. 양천구\n",
       "4. 강서구\n",
       "5. 관악구\n",
       "6. 강남구\n",
       "7. 송파구\n",
       "8. 강동구\n",
       "\n",
       "\n",
       "\n",
       "**Levels**: 1. '강남구'\n",
       "2. '강동구'\n",
       "3. '강북구'\n",
       "4. '강서구'\n",
       "5. '관악구'\n",
       "6. '광진구'\n",
       "7. '구로구'\n",
       "8. '금천구'\n",
       "9. '노원구'\n",
       "10. '도봉구'\n",
       "11. '동대문구'\n",
       "12. '동작구'\n",
       "13. '마포구'\n",
       "14. '서대문구'\n",
       "15. '서초구'\n",
       "16. '성동구'\n",
       "17. '성북구'\n",
       "18. '송파구'\n",
       "19. '양천구'\n",
       "20. '영등포구'\n",
       "21. '용산구'\n",
       "22. '은평구'\n",
       "23. '종로구'\n",
       "24. '중구'\n",
       "25. '중랑구'\n",
       "\n",
       "\n"
      ],
      "text/plain": [
       "[1] 노원구 은평구 양천구 강서구 관악구 강남구 송파구 강동구\n",
       "25 Levels: 강남구 강동구 강북구 강서구 관악구 광진구 구로구 금천구 ... 중랑구"
      ]
     },
     "metadata": {},
     "output_type": "display_data"
    }
   ],
   "source": [
    "# 해당 구의 이름만을 저장한 vector 추출\n",
    "gu <- data1$자치구\n",
    "gu"
   ]
  },
  {
   "cell_type": "code",
   "execution_count": 22,
   "metadata": {},
   "outputs": [
    {
     "data": {
      "image/png": "[encoded data removed]",
      "text/plain": [
       "Plot with title \"남성 20만명 이상 거주 구\""
      ]
     },
     "metadata": {},
     "output_type": "display_data"
    }
   ],
   "source": [
    "# 추출한 내용을 바탕으로 남성이 20만명 이상 거주하는 구 만을 시각화.\n",
    "barplot(data1$남자, names.arg = gu, las = 1, col = 'darkgreen', horiz = TRUE, main = '남성 20만명 이상 거주 구')"
   ]
  },
  {
   "cell_type": "markdown",
   "metadata": {},
   "source": [
    "**그룹화 된 막대형 그래프?**"
   ]
  },
  {
   "cell_type": "code",
   "execution_count": 28,
   "metadata": {},
   "outputs": [
    {
     "data": {
      "text/html": [
       "<table>\n",
       "<thead><tr><th scope=col>자치구</th><th scope=col>남자</th><th scope=col>여자</th><th scope=col>total</th></tr></thead>\n",
       "<tbody>\n",
       "\t<tr><td>종로구  </td><td> 80531  </td><td> 83291  </td><td>163822  </td></tr>\n",
       "\t<tr><td>중구    </td><td> 66755  </td><td> 67574  </td><td>134329  </td></tr>\n",
       "\t<tr><td>용산구  </td><td>121027  </td><td>126882  </td><td>247909  </td></tr>\n",
       "\t<tr><td>성동구  </td><td>151459  </td><td>153606  </td><td>305065  </td></tr>\n",
       "\t<tr><td>광진구  </td><td>183436  </td><td>191744  </td><td>375180  </td></tr>\n",
       "\t<tr><td>동대문구</td><td>185827  </td><td>187997  </td><td>373824  </td></tr>\n",
       "\t<tr><td>중랑구  </td><td>208393  </td><td>210227  </td><td>418620  </td></tr>\n",
       "\t<tr><td>성북구  </td><td>229183  </td><td>240377  </td><td>469560  </td></tr>\n",
       "\t<tr><td>강북구  </td><td>164337  </td><td>170089  </td><td>334426  </td></tr>\n",
       "\t<tr><td>도봉구  </td><td>173804  </td><td>179437  </td><td>353241  </td></tr>\n",
       "\t<tr><td>노원구  </td><td>281538  </td><td>296683  </td><td>578221  </td></tr>\n",
       "\t<tr><td>은평구  </td><td>244964  </td><td>257614  </td><td>502578  </td></tr>\n",
       "\t<tr><td>서대문구</td><td>156130  </td><td>166975  </td><td>323105  </td></tr>\n",
       "\t<tr><td>마포구  </td><td>190957  </td><td>207394  </td><td>398351  </td></tr>\n",
       "\t<tr><td>양천구  </td><td>242074  </td><td>246936  </td><td>489010  </td></tr>\n",
       "\t<tr><td>강서구  </td><td>291216  </td><td>304475  </td><td>595691  </td></tr>\n",
       "\t<tr><td>구로구  </td><td>228201  </td><td>226403  </td><td>454604  </td></tr>\n",
       "\t<tr><td>금천구  </td><td>131346  </td><td>124821  </td><td>256167  </td></tr>\n",
       "\t<tr><td>영등포구</td><td>210388  </td><td>207423  </td><td>417811  </td></tr>\n",
       "\t<tr><td>동작구  </td><td>202165  </td><td>210609  </td><td>412774  </td></tr>\n",
       "\t<tr><td>관악구  </td><td>266773  </td><td>262258  </td><td>529031  </td></tr>\n",
       "\t<tr><td>서초구  </td><td>217036  </td><td>234222  </td><td>451258  </td></tr>\n",
       "\t<tr><td>강남구  </td><td>279209  </td><td>302551  </td><td>581760  </td></tr>\n",
       "\t<tr><td>송파구  </td><td>325950  </td><td>341530  </td><td>667480  </td></tr>\n",
       "\t<tr><td>강동구  </td><td>230851  </td><td>232470  </td><td>463321  </td></tr>\n",
       "</tbody>\n",
       "</table>\n"
      ],
      "text/latex": [
       "\\begin{tabular}{r|llll}\n",
       " 자치구 & 남자 & 여자 & total\\\\\n",
       "\\hline\n",
       "\t 종로구   &  80531   &  83291   & 163822  \\\\\n",
       "\t 중구     &  66755   &  67574   & 134329  \\\\\n",
       "\t 용산구   & 121027   & 126882   & 247909  \\\\\n",
       "\t 성동구   & 151459   & 153606   & 305065  \\\\\n",
       "\t 광진구   & 183436   & 191744   & 375180  \\\\\n",
       "\t 동대문구 & 185827   & 187997   & 373824  \\\\\n",
       "\t 중랑구   & 208393   & 210227   & 418620  \\\\\n",
       "\t 성북구   & 229183   & 240377   & 469560  \\\\\n",
       "\t 강북구   & 164337   & 170089   & 334426  \\\\\n",
       "\t 도봉구   & 173804   & 179437   & 353241  \\\\\n",
       "\t 노원구   & 281538   & 296683   & 578221  \\\\\n",
       "\t 은평구   & 244964   & 257614   & 502578  \\\\\n",
       "\t 서대문구 & 156130   & 166975   & 323105  \\\\\n",
       "\t 마포구   & 190957   & 207394   & 398351  \\\\\n",
       "\t 양천구   & 242074   & 246936   & 489010  \\\\\n",
       "\t 강서구   & 291216   & 304475   & 595691  \\\\\n",
       "\t 구로구   & 228201   & 226403   & 454604  \\\\\n",
       "\t 금천구   & 131346   & 124821   & 256167  \\\\\n",
       "\t 영등포구 & 210388   & 207423   & 417811  \\\\\n",
       "\t 동작구   & 202165   & 210609   & 412774  \\\\\n",
       "\t 관악구   & 266773   & 262258   & 529031  \\\\\n",
       "\t 서초구   & 217036   & 234222   & 451258  \\\\\n",
       "\t 강남구   & 279209   & 302551   & 581760  \\\\\n",
       "\t 송파구   & 325950   & 341530   & 667480  \\\\\n",
       "\t 강동구   & 230851   & 232470   & 463321  \\\\\n",
       "\\end{tabular}\n"
      ],
      "text/markdown": [
       "\n",
       "| 자치구 | 남자 | 여자 | total |\n",
       "|---|---|---|---|\n",
       "| 종로구   |  80531   |  83291   | 163822   |\n",
       "| 중구     |  66755   |  67574   | 134329   |\n",
       "| 용산구   | 121027   | 126882   | 247909   |\n",
       "| 성동구   | 151459   | 153606   | 305065   |\n",
       "| 광진구   | 183436   | 191744   | 375180   |\n",
       "| 동대문구 | 185827   | 187997   | 373824   |\n",
       "| 중랑구   | 208393   | 210227   | 418620   |\n",
       "| 성북구   | 229183   | 240377   | 469560   |\n",
       "| 강북구   | 164337   | 170089   | 334426   |\n",
       "| 도봉구   | 173804   | 179437   | 353241   |\n",
       "| 노원구   | 281538   | 296683   | 578221   |\n",
       "| 은평구   | 244964   | 257614   | 502578   |\n",
       "| 서대문구 | 156130   | 166975   | 323105   |\n",
       "| 마포구   | 190957   | 207394   | 398351   |\n",
       "| 양천구   | 242074   | 246936   | 489010   |\n",
       "| 강서구   | 291216   | 304475   | 595691   |\n",
       "| 구로구   | 228201   | 226403   | 454604   |\n",
       "| 금천구   | 131346   | 124821   | 256167   |\n",
       "| 영등포구 | 210388   | 207423   | 417811   |\n",
       "| 동작구   | 202165   | 210609   | 412774   |\n",
       "| 관악구   | 266773   | 262258   | 529031   |\n",
       "| 서초구   | 217036   | 234222   | 451258   |\n",
       "| 강남구   | 279209   | 302551   | 581760   |\n",
       "| 송파구   | 325950   | 341530   | 667480   |\n",
       "| 강동구   | 230851   | 232470   | 463321   |\n",
       "\n"
      ],
      "text/plain": [
       "   자치구   남자   여자   total \n",
       "1  종로구    80531  83291 163822\n",
       "2  중구      66755  67574 134329\n",
       "3  용산구   121027 126882 247909\n",
       "4  성동구   151459 153606 305065\n",
       "5  광진구   183436 191744 375180\n",
       "6  동대문구 185827 187997 373824\n",
       "7  중랑구   208393 210227 418620\n",
       "8  성북구   229183 240377 469560\n",
       "9  강북구   164337 170089 334426\n",
       "10 도봉구   173804 179437 353241\n",
       "11 노원구   281538 296683 578221\n",
       "12 은평구   244964 257614 502578\n",
       "13 서대문구 156130 166975 323105\n",
       "14 마포구   190957 207394 398351\n",
       "15 양천구   242074 246936 489010\n",
       "16 강서구   291216 304475 595691\n",
       "17 구로구   228201 226403 454604\n",
       "18 금천구   131346 124821 256167\n",
       "19 영등포구 210388 207423 417811\n",
       "20 동작구   202165 210609 412774\n",
       "21 관악구   266773 262258 529031\n",
       "22 서초구   217036 234222 451258\n",
       "23 강남구   279209 302551 581760\n",
       "24 송파구   325950 341530 667480\n",
       "25 강동구   230851 232470 463321"
      ]
     },
     "metadata": {},
     "output_type": "display_data"
    },
    {
     "data": {
      "text/html": [
       "<table>\n",
       "<thead><tr><th></th><th scope=col>자치구</th><th scope=col>남자</th><th scope=col>여자</th><th scope=col>total</th></tr></thead>\n",
       "<tbody>\n",
       "\t<tr><th scope=row>11</th><td>노원구</td><td>281538</td><td>296683</td><td>578221</td></tr>\n",
       "\t<tr><th scope=row>12</th><td>은평구</td><td>244964</td><td>257614</td><td>502578</td></tr>\n",
       "\t<tr><th scope=row>16</th><td>강서구</td><td>291216</td><td>304475</td><td>595691</td></tr>\n",
       "\t<tr><th scope=row>21</th><td>관악구</td><td>266773</td><td>262258</td><td>529031</td></tr>\n",
       "\t<tr><th scope=row>23</th><td>강남구</td><td>279209</td><td>302551</td><td>581760</td></tr>\n",
       "\t<tr><th scope=row>24</th><td>송파구</td><td>325950</td><td>341530</td><td>667480</td></tr>\n",
       "</tbody>\n",
       "</table>\n"
      ],
      "text/latex": [
       "\\begin{tabular}{r|llll}\n",
       "  & 자치구 & 남자 & 여자 & total\\\\\n",
       "\\hline\n",
       "\t11 & 노원구 & 281538 & 296683 & 578221\\\\\n",
       "\t12 & 은평구 & 244964 & 257614 & 502578\\\\\n",
       "\t16 & 강서구 & 291216 & 304475 & 595691\\\\\n",
       "\t21 & 관악구 & 266773 & 262258 & 529031\\\\\n",
       "\t23 & 강남구 & 279209 & 302551 & 581760\\\\\n",
       "\t24 & 송파구 & 325950 & 341530 & 667480\\\\\n",
       "\\end{tabular}\n"
      ],
      "text/markdown": [
       "\n",
       "| <!--/--> | 자치구 | 남자 | 여자 | total |\n",
       "|---|---|---|---|---|\n",
       "| 11 | 노원구 | 281538 | 296683 | 578221 |\n",
       "| 12 | 은평구 | 244964 | 257614 | 502578 |\n",
       "| 16 | 강서구 | 291216 | 304475 | 595691 |\n",
       "| 21 | 관악구 | 266773 | 262258 | 529031 |\n",
       "| 23 | 강남구 | 279209 | 302551 | 581760 |\n",
       "| 24 | 송파구 | 325950 | 341530 | 667480 |\n",
       "\n"
      ],
      "text/plain": [
       "   자치구 남자   여자   total \n",
       "11 노원구 281538 296683 578221\n",
       "12 은평구 244964 257614 502578\n",
       "16 강서구 291216 304475 595691\n",
       "21 관악구 266773 262258 529031\n",
       "23 강남구 279209 302551 581760\n",
       "24 송파구 325950 341530 667480"
      ]
     },
     "metadata": {},
     "output_type": "display_data"
    },
    {
     "data": {
      "image/png": "[encoded data removed]",
      "text/plain": [
       "Plot with title \"인구 50만 이상인 구의 성별 현황\""
      ]
     },
     "metadata": {},
     "output_type": "display_data"
    }
   ],
   "source": [
    "data <- read.csv('UseData/seoulpopulation.csv', sep=',', header=TRUE)\n",
    "\n",
    "# 해당 행의 남자/여자 열 중심으로 sum을 함.\n",
    "total <- rowSums(data[, c('남자', '여자')], na.rm=TRUE)\n",
    "\n",
    "# 계산한 것 추가.\n",
    "data <- cbind(data, total)\n",
    "data\n",
    "\n",
    "# 총 인구가 50만 이상인 것만 골라내기\n",
    "data1 <- subset(data, total>=500000)\n",
    "data1\n",
    "\n",
    "# 남자, 여자 항목에 대한 막대그래프 그리기\n",
    "# 행렬로 남자/여자만 가져오기. (1행부터 6행까지, 2열과 3열)\n",
    "# 행렬의 요소 각각을 전부 막대 그래프로 그려준다. beside=TRUE\n",
    "# las=1을 통해 글자를 안눕힐 수 있음.\n",
    "barplot(as.matrix(data1[1:6, 2:3]), legend=c('남', '여'), beside=TRUE, las=1,col=c('darkblue', 'darkred'),\n",
    "        main='인구 50만 이상인 구의 성별 현황', ylim=c(0, 400000))"
   ]
  },
  {
   "cell_type": "markdown",
   "metadata": {},
   "source": [
    "### 히스토그램\n",
    "\n",
    "<br>\n",
    "\n",
    "- 도수 분포를 보고자 할 때 그리는 차트.\n",
    "- **hist(인자)** 이용.\n",
    "    - 대부분의 인자는 이전에 본 인자들과 거의 일치."
   ]
  },
  {
   "cell_type": "code",
   "execution_count": 33,
   "metadata": {},
   "outputs": [
    {
     "data": {
      "image/png": "[encoded data removed]",
      "text/plain": [
       "Plot with title \"연령분포\""
      ]
     },
     "metadata": {},
     "output_type": "display_data"
    }
   ],
   "source": [
    "x <- c(23, 33, 32, 45, 37, 28, 15, 35, 43, 27, 46, 33, 38, 49, 50, 29)\n",
    "hist(x, main='연령분포', xlim=c(15, 50), col='yellow')"
   ]
  },
  {
   "cell_type": "markdown",
   "metadata": {},
   "source": [
    "### 상자 도표\n",
    "\n",
    "<br>\n",
    "\n",
    "- 서로 다른 종류의 데이터 범위를 비교할 수 있게 하는 시각화.\n",
    "- 데이터 집합 범위, 사분위수 범위, 중위수, 이상치 등을 알 수 있음.\n",
    "- **boxplot(인자)** 를 통해 생성."
   ]
  },
  {
   "cell_type": "code",
   "execution_count": 38,
   "metadata": {},
   "outputs": [
    {
     "data": {
      "text/html": [
       "<table>\n",
       "<thead><tr><th scope=col>월별</th><th scope=col>출생</th><th scope=col>사망</th></tr></thead>\n",
       "<tbody>\n",
       "\t<tr><td>2013-01</td><td>8530   </td><td>3830   </td></tr>\n",
       "\t<tr><td>2013-02</td><td>7045   </td><td>3464   </td></tr>\n",
       "\t<tr><td>2013-03</td><td>7316   </td><td>3809   </td></tr>\n",
       "\t<tr><td>2013-04</td><td>7162   </td><td>3417   </td></tr>\n",
       "\t<tr><td>2013-05</td><td>6843   </td><td>3469   </td></tr>\n",
       "\t<tr><td>2013-06</td><td>6486   </td><td>3159   </td></tr>\n",
       "\t<tr><td>2013-07</td><td>6833   </td><td>3324   </td></tr>\n",
       "\t<tr><td>2013-08</td><td>7031   </td><td>3426   </td></tr>\n",
       "\t<tr><td>2013-09</td><td>7056   </td><td>3371   </td></tr>\n",
       "\t<tr><td>2013-10</td><td>6945   </td><td>3655   </td></tr>\n",
       "\t<tr><td>2013-11</td><td>6718   </td><td>3577   </td></tr>\n",
       "\t<tr><td>2013-12</td><td>6101   </td><td>3562   </td></tr>\n",
       "\t<tr><td>2014-01</td><td>8000   </td><td>3600   </td></tr>\n",
       "\t<tr><td>2014-02</td><td>6900   </td><td>3700   </td></tr>\n",
       "\t<tr><td>2014-03</td><td>7300   </td><td>3900   </td></tr>\n",
       "\t<tr><td>2014-04</td><td>7100   </td><td>3400   </td></tr>\n",
       "\t<tr><td>2014-05</td><td>6900   </td><td>3600   </td></tr>\n",
       "\t<tr><td>2014-06</td><td>6400   </td><td>3200   </td></tr>\n",
       "\t<tr><td>2014-07</td><td>7000   </td><td>3300   </td></tr>\n",
       "\t<tr><td>2014-08</td><td>7200   </td><td>3300   </td></tr>\n",
       "\t<tr><td>2014-09</td><td>7400   </td><td>3300   </td></tr>\n",
       "\t<tr><td>2014-10</td><td>7000   </td><td>3600   </td></tr>\n",
       "\t<tr><td>2014-11</td><td>6200   </td><td>3500   </td></tr>\n",
       "\t<tr><td>2014-12</td><td>6200   </td><td>3800   </td></tr>\n",
       "</tbody>\n",
       "</table>\n"
      ],
      "text/latex": [
       "\\begin{tabular}{r|lll}\n",
       " 월별 & 출생 & 사망\\\\\n",
       "\\hline\n",
       "\t 2013-01 & 8530    & 3830   \\\\\n",
       "\t 2013-02 & 7045    & 3464   \\\\\n",
       "\t 2013-03 & 7316    & 3809   \\\\\n",
       "\t 2013-04 & 7162    & 3417   \\\\\n",
       "\t 2013-05 & 6843    & 3469   \\\\\n",
       "\t 2013-06 & 6486    & 3159   \\\\\n",
       "\t 2013-07 & 6833    & 3324   \\\\\n",
       "\t 2013-08 & 7031    & 3426   \\\\\n",
       "\t 2013-09 & 7056    & 3371   \\\\\n",
       "\t 2013-10 & 6945    & 3655   \\\\\n",
       "\t 2013-11 & 6718    & 3577   \\\\\n",
       "\t 2013-12 & 6101    & 3562   \\\\\n",
       "\t 2014-01 & 8000    & 3600   \\\\\n",
       "\t 2014-02 & 6900    & 3700   \\\\\n",
       "\t 2014-03 & 7300    & 3900   \\\\\n",
       "\t 2014-04 & 7100    & 3400   \\\\\n",
       "\t 2014-05 & 6900    & 3600   \\\\\n",
       "\t 2014-06 & 6400    & 3200   \\\\\n",
       "\t 2014-07 & 7000    & 3300   \\\\\n",
       "\t 2014-08 & 7200    & 3300   \\\\\n",
       "\t 2014-09 & 7400    & 3300   \\\\\n",
       "\t 2014-10 & 7000    & 3600   \\\\\n",
       "\t 2014-11 & 6200    & 3500   \\\\\n",
       "\t 2014-12 & 6200    & 3800   \\\\\n",
       "\\end{tabular}\n"
      ],
      "text/markdown": [
       "\n",
       "| 월별 | 출생 | 사망 |\n",
       "|---|---|---|\n",
       "| 2013-01 | 8530    | 3830    |\n",
       "| 2013-02 | 7045    | 3464    |\n",
       "| 2013-03 | 7316    | 3809    |\n",
       "| 2013-04 | 7162    | 3417    |\n",
       "| 2013-05 | 6843    | 3469    |\n",
       "| 2013-06 | 6486    | 3159    |\n",
       "| 2013-07 | 6833    | 3324    |\n",
       "| 2013-08 | 7031    | 3426    |\n",
       "| 2013-09 | 7056    | 3371    |\n",
       "| 2013-10 | 6945    | 3655    |\n",
       "| 2013-11 | 6718    | 3577    |\n",
       "| 2013-12 | 6101    | 3562    |\n",
       "| 2014-01 | 8000    | 3600    |\n",
       "| 2014-02 | 6900    | 3700    |\n",
       "| 2014-03 | 7300    | 3900    |\n",
       "| 2014-04 | 7100    | 3400    |\n",
       "| 2014-05 | 6900    | 3600    |\n",
       "| 2014-06 | 6400    | 3200    |\n",
       "| 2014-07 | 7000    | 3300    |\n",
       "| 2014-08 | 7200    | 3300    |\n",
       "| 2014-09 | 7400    | 3300    |\n",
       "| 2014-10 | 7000    | 3600    |\n",
       "| 2014-11 | 6200    | 3500    |\n",
       "| 2014-12 | 6200    | 3800    |\n",
       "\n"
      ],
      "text/plain": [
       "   월별    출생 사망\n",
       "1  2013-01 8530 3830\n",
       "2  2013-02 7045 3464\n",
       "3  2013-03 7316 3809\n",
       "4  2013-04 7162 3417\n",
       "5  2013-05 6843 3469\n",
       "6  2013-06 6486 3159\n",
       "7  2013-07 6833 3324\n",
       "8  2013-08 7031 3426\n",
       "9  2013-09 7056 3371\n",
       "10 2013-10 6945 3655\n",
       "11 2013-11 6718 3577\n",
       "12 2013-12 6101 3562\n",
       "13 2014-01 8000 3600\n",
       "14 2014-02 6900 3700\n",
       "15 2014-03 7300 3900\n",
       "16 2014-04 7100 3400\n",
       "17 2014-05 6900 3600\n",
       "18 2014-06 6400 3200\n",
       "19 2014-07 7000 3300\n",
       "20 2014-08 7200 3300\n",
       "21 2014-09 7400 3300\n",
       "22 2014-10 7000 3600\n",
       "23 2014-11 6200 3500\n",
       "24 2014-12 6200 3800"
      ]
     },
     "metadata": {},
     "output_type": "display_data"
    },
    {
     "data": {
      "image/png": "[encoded data removed]",
      "text/plain": [
       "Plot with title \"서울 2013 ~ 2014 출생 사망 비교\""
      ]
     },
     "metadata": {},
     "output_type": "display_data"
    }
   ],
   "source": [
    "data <- read.csv('UseData/birthdie.csv', sep=',', header=TRUE)\n",
    "data\n",
    "boxplot(data$출생, data$사망, names=c('출생', '사망'), col=c('pink', 'darkgreen'),\n",
    "        main='서울 2013 ~ 2014 출생 사망 비교')"
   ]
  },
  {
   "cell_type": "markdown",
   "metadata": {},
   "source": [
    "    수염의 길이가 길다는 소리는 편차가 크다는 소리. 자명."
   ]
  },
  {
   "cell_type": "markdown",
   "metadata": {},
   "source": [
    "### 원형 그래프 \n",
    "\n",
    "<br>\n",
    "\n",
    "- 단순히 **pie(인자)** 사용하면 됨."
   ]
  },
  {
   "cell_type": "code",
   "execution_count": 39,
   "metadata": {},
   "outputs": [
    {
     "data": {
      "image/png": "[encoded data removed]",
      "text/plain": [
       "plot without title"
      ]
     },
     "metadata": {},
     "output_type": "display_data"
    }
   ],
   "source": [
    "x <- c(27, 43, 15)\n",
    "\n",
    "# radius : 원 크기 지정\n",
    "# labels : 각각의 데이터 이름 지정\n",
    "pie(x, radius=1, labels=c('a', 'b', 'c'))"
   ]
  }
 ],
 "metadata": {
  "kernelspec": {
   "display_name": "R",
   "language": "R",
   "name": "ir"
  },
  "language_info": {
   "codemirror_mode": "r",
   "file_extension": ".r",
   "mimetype": "text/x-r-source",
   "name": "R",
   "pygments_lexer": "r",
   "version": "3.6.1"
  }
 },
 "nbformat": 4,
 "nbformat_minor": 2
}

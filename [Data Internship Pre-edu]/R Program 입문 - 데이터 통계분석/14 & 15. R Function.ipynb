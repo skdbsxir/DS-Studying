{
 "cells": [
  {
   "cell_type": "markdown",
   "metadata": {},
   "source": [
    "## R 함수\n",
    "\n",
    "<br>\n",
    "\n",
    "- 내장함수 and 사용자 정의 함수.\n",
    "- 많이 사용하는 내장 함수\n",
    "    - mean(), sum(), sd(), var(), sort(), min(), max(), median(), cor() - 상관계수 구하기, range() - 범위 (최대-최소) 구하기, rev() - 반대로 나열\n",
    "    \n",
    "-----------------\n",
    "- apply 함수 : 벡터, 행렬, DF 등에서 **행/열 단위의 필요한 계산 작업**을 쉽게 하는데 유용한 함수.\n",
    "    - **apply(대상객체, 행(1) or 열(2), 적용할 함수)** (열 중심이면 2, 행 중심이면 1)\n",
    "        - lapply() : 계산 결과를 list 형태로 변환해서 출력\n",
    "        - sapply() : 계산 결과를 vector 형태로 변환해서 출력\n",
    "        - tapply() : 계산 결과를 특정 부분으로 그룹화해서 출력"
   ]
  },
  {
   "cell_type": "code",
   "execution_count": 1,
   "metadata": {},
   "outputs": [
    {
     "data": {
      "text/html": [
       "<table>\n",
       "<thead><tr><th scope=col>신장</th><th scope=col>체중</th></tr></thead>\n",
       "<tbody>\n",
       "\t<tr><td>177 </td><td>  NA</td></tr>\n",
       "\t<tr><td>180 </td><td>77.3</td></tr>\n",
       "\t<tr><td>167 </td><td>80.0</td></tr>\n",
       "\t<tr><td>165 </td><td>60.0</td></tr>\n",
       "\t<tr><td>170 </td><td>  NA</td></tr>\n",
       "\t<tr><td> NA </td><td>64.0</td></tr>\n",
       "</tbody>\n",
       "</table>\n"
      ],
      "text/latex": [
       "\\begin{tabular}{r|ll}\n",
       " 신장 & 체중\\\\\n",
       "\\hline\n",
       "\t 177  &   NA\\\\\n",
       "\t 180  & 77.3\\\\\n",
       "\t 167  & 80.0\\\\\n",
       "\t 165  & 60.0\\\\\n",
       "\t 170  &   NA\\\\\n",
       "\t  NA  & 64.0\\\\\n",
       "\\end{tabular}\n"
      ],
      "text/markdown": [
       "\n",
       "| 신장 | 체중 |\n",
       "|---|---|\n",
       "| 177  |   NA |\n",
       "| 180  | 77.3 |\n",
       "| 167  | 80.0 |\n",
       "| 165  | 60.0 |\n",
       "| 170  |   NA |\n",
       "|  NA  | 64.0 |\n",
       "\n"
      ],
      "text/plain": [
       "  신장 체중\n",
       "1 177    NA\n",
       "2 180  77.3\n",
       "3 167  80.0\n",
       "4 165  60.0\n",
       "5 170    NA\n",
       "6  NA  64.0"
      ]
     },
     "metadata": {},
     "output_type": "display_data"
    }
   ],
   "source": [
    "height <- c(177, 180, 167, 165, 170, NA)\n",
    "weight <- c(NA, 77.3, 80, 60, NA, 64)\n",
    "df <- data.frame(신장 = height, 체중 = weight)\n",
    "names(df) <- c('신장', '체중')\n",
    "df"
   ]
  },
  {
   "cell_type": "code",
   "execution_count": 4,
   "metadata": {},
   "outputs": [
    {
     "data": {
      "text/html": [
       "<dl class=dl-horizontal>\n",
       "\t<dt>신장</dt>\n",
       "\t\t<dd>171.8</dd>\n",
       "\t<dt>체중</dt>\n",
       "\t\t<dd>70.325</dd>\n",
       "</dl>\n"
      ],
      "text/latex": [
       "\\begin{description*}\n",
       "\\item[신장] 171.8\n",
       "\\item[체중] 70.325\n",
       "\\end{description*}\n"
      ],
      "text/markdown": [
       "신장\n",
       ":   171.8체중\n",
       ":   70.325\n",
       "\n"
      ],
      "text/plain": [
       "   신장    체중 \n",
       "171.800  70.325 "
      ]
     },
     "metadata": {},
     "output_type": "display_data"
    },
    {
     "data": {
      "text/html": [
       "<dl>\n",
       "\t<dt>$신장</dt>\n",
       "\t\t<dd>180</dd>\n",
       "\t<dt>$체중</dt>\n",
       "\t\t<dd>80</dd>\n",
       "</dl>\n"
      ],
      "text/latex": [
       "\\begin{description}\n",
       "\\item[\\$신장] 180\n",
       "\\item[\\$체중] 80\n",
       "\\end{description}\n"
      ],
      "text/markdown": [
       "$신장\n",
       ":   180\n",
       "$체중\n",
       ":   80\n",
       "\n",
       "\n"
      ],
      "text/plain": [
       "$신장\n",
       "[1] 180\n",
       "\n",
       "$체중\n",
       "[1] 80\n"
      ]
     },
     "metadata": {},
     "output_type": "display_data"
    },
    {
     "data": {
      "text/html": [
       "<dl class=dl-horizontal>\n",
       "\t<dt>신장</dt>\n",
       "\t\t<dd>180</dd>\n",
       "\t<dt>체중</dt>\n",
       "\t\t<dd>80</dd>\n",
       "</dl>\n"
      ],
      "text/latex": [
       "\\begin{description*}\n",
       "\\item[신장] 180\n",
       "\\item[체중] 80\n",
       "\\end{description*}\n"
      ],
      "text/markdown": [
       "신장\n",
       ":   180체중\n",
       ":   80\n",
       "\n"
      ],
      "text/plain": [
       "신장 체중 \n",
       " 180   80 "
      ]
     },
     "metadata": {},
     "output_type": "display_data"
    }
   ],
   "source": [
    "# 위 프레임에서 NA를 제외한 컬럼 별 평균을 계산?\n",
    "apply(df, 2, mean, na.rm=TRUE)\n",
    "\n",
    "# lapply - 행 중심이므로 별도 1,2 지정 X.\n",
    "lapply(df, max, na.rm=TRUE)\n",
    "\n",
    "# sapply - 마찬가지.\n",
    "sapply(df, max, na.rm=TRUE)"
   ]
  },
  {
   "cell_type": "code",
   "execution_count": 8,
   "metadata": {},
   "outputs": [
    {
     "data": {
      "text/html": [
       "<table>\n",
       "<thead><tr><th scope=col>나이</th><th scope=col>성별</th><th scope=col>평점</th></tr></thead>\n",
       "<tbody>\n",
       "\t<tr><td>33  </td><td>남  </td><td>4.30</td></tr>\n",
       "\t<tr><td>28  </td><td>남  </td><td>4.20</td></tr>\n",
       "\t<tr><td>35  </td><td>여  </td><td>4.10</td></tr>\n",
       "\t<tr><td>29  </td><td>여  </td><td>3.70</td></tr>\n",
       "\t<tr><td>36  </td><td>남  </td><td>4.50</td></tr>\n",
       "\t<tr><td>32  </td><td>여  </td><td>4.40</td></tr>\n",
       "\t<tr><td>30  </td><td>여  </td><td>3.80</td></tr>\n",
       "\t<tr><td>36  </td><td>남  </td><td>3.90</td></tr>\n",
       "\t<tr><td>28  </td><td>여  </td><td>4.20</td></tr>\n",
       "\t<tr><td>35  </td><td>여  </td><td>4.50</td></tr>\n",
       "\t<tr><td>31  </td><td>여  </td><td>4.60</td></tr>\n",
       "\t<tr><td>27  </td><td>남  </td><td>4.00</td></tr>\n",
       "\t<tr><td>26  </td><td>여  </td><td>4.20</td></tr>\n",
       "\t<tr><td>33  </td><td>여  </td><td>4.30</td></tr>\n",
       "\t<tr><td>34  </td><td>남  </td><td>4.50</td></tr>\n",
       "\t<tr><td>33  </td><td>여  </td><td>4.40</td></tr>\n",
       "\t<tr><td>26  </td><td>여  </td><td>4.33</td></tr>\n",
       "\t<tr><td>25  </td><td>남  </td><td>3.87</td></tr>\n",
       "\t<tr><td>35  </td><td>여  </td><td>4.00</td></tr>\n",
       "\t<tr><td>32  </td><td>여  </td><td>3.60</td></tr>\n",
       "</tbody>\n",
       "</table>\n"
      ],
      "text/latex": [
       "\\begin{tabular}{r|lll}\n",
       " 나이 & 성별 & 평점\\\\\n",
       "\\hline\n",
       "\t 33   & 남   & 4.30\\\\\n",
       "\t 28   & 남   & 4.20\\\\\n",
       "\t 35   & 여   & 4.10\\\\\n",
       "\t 29   & 여   & 3.70\\\\\n",
       "\t 36   & 남   & 4.50\\\\\n",
       "\t 32   & 여   & 4.40\\\\\n",
       "\t 30   & 여   & 3.80\\\\\n",
       "\t 36   & 남   & 3.90\\\\\n",
       "\t 28   & 여   & 4.20\\\\\n",
       "\t 35   & 여   & 4.50\\\\\n",
       "\t 31   & 여   & 4.60\\\\\n",
       "\t 27   & 남   & 4.00\\\\\n",
       "\t 26   & 여   & 4.20\\\\\n",
       "\t 33   & 여   & 4.30\\\\\n",
       "\t 34   & 남   & 4.50\\\\\n",
       "\t 33   & 여   & 4.40\\\\\n",
       "\t 26   & 여   & 4.33\\\\\n",
       "\t 25   & 남   & 3.87\\\\\n",
       "\t 35   & 여   & 4.00\\\\\n",
       "\t 32   & 여   & 3.60\\\\\n",
       "\\end{tabular}\n"
      ],
      "text/markdown": [
       "\n",
       "| 나이 | 성별 | 평점 |\n",
       "|---|---|---|\n",
       "| 33   | 남   | 4.30 |\n",
       "| 28   | 남   | 4.20 |\n",
       "| 35   | 여   | 4.10 |\n",
       "| 29   | 여   | 3.70 |\n",
       "| 36   | 남   | 4.50 |\n",
       "| 32   | 여   | 4.40 |\n",
       "| 30   | 여   | 3.80 |\n",
       "| 36   | 남   | 3.90 |\n",
       "| 28   | 여   | 4.20 |\n",
       "| 35   | 여   | 4.50 |\n",
       "| 31   | 여   | 4.60 |\n",
       "| 27   | 남   | 4.00 |\n",
       "| 26   | 여   | 4.20 |\n",
       "| 33   | 여   | 4.30 |\n",
       "| 34   | 남   | 4.50 |\n",
       "| 33   | 여   | 4.40 |\n",
       "| 26   | 여   | 4.33 |\n",
       "| 25   | 남   | 3.87 |\n",
       "| 35   | 여   | 4.00 |\n",
       "| 32   | 여   | 3.60 |\n",
       "\n"
      ],
      "text/plain": [
       "   나이 성별 평점\n",
       "1  33   남   4.30\n",
       "2  28   남   4.20\n",
       "3  35   여   4.10\n",
       "4  29   여   3.70\n",
       "5  36   남   4.50\n",
       "6  32   여   4.40\n",
       "7  30   여   3.80\n",
       "8  36   남   3.90\n",
       "9  28   여   4.20\n",
       "10 35   여   4.50\n",
       "11 31   여   4.60\n",
       "12 27   남   4.00\n",
       "13 26   여   4.20\n",
       "14 33   여   4.30\n",
       "15 34   남   4.50\n",
       "16 33   여   4.40\n",
       "17 26   여   4.33\n",
       "18 25   남   3.87\n",
       "19 35   여   4.00\n",
       "20 32   여   3.60"
      ]
     },
     "metadata": {},
     "output_type": "display_data"
    },
    {
     "data": {
      "text/html": [
       "<dl class=dl-horizontal>\n",
       "\t<dt>남</dt>\n",
       "\t\t<dd>4.18142857142857</dd>\n",
       "\t<dt>여</dt>\n",
       "\t\t<dd>4.16384615384615</dd>\n",
       "</dl>\n"
      ],
      "text/latex": [
       "\\begin{description*}\n",
       "\\item[남] 4.18142857142857\n",
       "\\item[여] 4.16384615384615\n",
       "\\end{description*}\n"
      ],
      "text/markdown": [
       "남\n",
       ":   4.18142857142857여\n",
       ":   4.16384615384615\n",
       "\n"
      ],
      "text/plain": [
       "      남       여 \n",
       "4.181429 4.163846 "
      ]
     },
     "metadata": {},
     "output_type": "display_data"
    },
    {
     "data": {
      "text/html": [
       "<dl>\n",
       "\t<dt>$남</dt>\n",
       "\t\t<dd>31.2857142857143</dd>\n",
       "\t<dt>$여</dt>\n",
       "\t\t<dd>31.1538461538462</dd>\n",
       "</dl>\n"
      ],
      "text/latex": [
       "\\begin{description}\n",
       "\\item[\\$남] 31.2857142857143\n",
       "\\item[\\$여] 31.1538461538462\n",
       "\\end{description}\n"
      ],
      "text/markdown": [
       "$남\n",
       ":   31.2857142857143\n",
       "$여\n",
       ":   31.1538461538462\n",
       "\n",
       "\n"
      ],
      "text/plain": [
       "$남\n",
       "[1] 31.28571\n",
       "\n",
       "$여\n",
       "[1] 31.15385\n"
      ]
     },
     "metadata": {},
     "output_type": "display_data"
    }
   ],
   "source": [
    "# tapply이용\n",
    "dflist <- read.table('UseData/passlist.txt', header=TRUE)\n",
    "dflist\n",
    "\n",
    "# 성별을 기준으로 평점 계산\n",
    "tapply(dflist$평점, dflist$성별, mean)\n",
    "# 성별 기준으로 나이 계산 - simplify=FALSE 하면 list형태로 볼 수있음. (안쓰면 vector로.)\n",
    "tapply(dflist$나이, dflist$성별, mean, simplify=FALSE)"
   ]
  },
  {
   "cell_type": "markdown",
   "metadata": {},
   "source": [
    "**사용자 정의함수**\n",
    "\n",
    "<br>\n",
    "\n",
    "    함수이름 <- function(인자){함수 몸체 .. return(반환값)}\n",
    "        인자는 없을 수 도 있음.\n",
    "        \n",
    "    source 함수를 이용해 외부에서 정의한 함수를 load해서 사용할 수도 있음."
   ]
  },
  {
   "cell_type": "code",
   "execution_count": 12,
   "metadata": {},
   "outputs": [
    {
     "name": "stdout",
     "output_type": "stream",
     "text": [
      "[1] \"R programming\"\n",
      "[1] \"Hello\"\n"
     ]
    }
   ],
   "source": [
    "# 인자 없는 함수\n",
    "info <- function(){\n",
    "    print('R programming')\n",
    "}\n",
    "info() # 호출\n",
    "\n",
    "# 인자 있는 함수\n",
    "info2 <- function(msg){\n",
    "    print(msg)\n",
    "}\n",
    "info2('Hello')"
   ]
  },
  {
   "cell_type": "code",
   "execution_count": 14,
   "metadata": {},
   "outputs": [
    {
     "data": {
      "text/html": [
       "<dl>\n",
       "\t<dt>$최소값</dt>\n",
       "\t\t<dd>65</dd>\n",
       "\t<dt>$최대값</dt>\n",
       "\t\t<dd>95</dd>\n",
       "\t<dt>$평균</dt>\n",
       "\t\t<dd>80</dd>\n",
       "\t<dt>$표준편차</dt>\n",
       "\t\t<dd>10.0374299499424</dd>\n",
       "\t<dt>$분산</dt>\n",
       "\t\t<dd>100.75</dd>\n",
       "</dl>\n"
      ],
      "text/latex": [
       "\\begin{description}\n",
       "\\item[\\$최소값] 65\n",
       "\\item[\\$최대값] 95\n",
       "\\item[\\$평균] 80\n",
       "\\item[\\$표준편차] 10.0374299499424\n",
       "\\item[\\$분산] 100.75\n",
       "\\end{description}\n"
      ],
      "text/markdown": [
       "$최소값\n",
       ":   65\n",
       "$최대값\n",
       ":   95\n",
       "$평균\n",
       ":   80\n",
       "$표준편차\n",
       ":   10.0374299499424\n",
       "$분산\n",
       ":   100.75\n",
       "\n",
       "\n"
      ],
      "text/plain": [
       "$최소값\n",
       "[1] 65\n",
       "\n",
       "$최대값\n",
       "[1] 95\n",
       "\n",
       "$평균\n",
       "[1] 80\n",
       "\n",
       "$표준편차\n",
       "[1] 10.03743\n",
       "\n",
       "$분산\n",
       "[1] 100.75\n"
      ]
     },
     "metadata": {},
     "output_type": "display_data"
    }
   ],
   "source": [
    "# 함수 응용?\n",
    "basicInfo <- function(x){\n",
    "    amin <- min(x)\n",
    "    amax <- max(x)\n",
    "    amean <- mean(x)\n",
    "    astd <- sd(x)\n",
    "    avar <- var(x)\n",
    "    \n",
    "    toInfo <- list(최소값=amin, 최대값=amax, 평균=amean, 표준편차=astd, 분산=avar)\n",
    "    return(toInfo)\n",
    "}\n",
    "\n",
    "a <- c(68, 75, 80, 85, 92, 77, 83, 65, 95)\n",
    "basicInfo(a)"
   ]
  },
  {
   "cell_type": "code",
   "execution_count": 16,
   "metadata": {},
   "outputs": [
    {
     "data": {
      "text/html": [
       "<dl>\n",
       "\t<dt>$합계</dt>\n",
       "\t\t<dd>939</dd>\n",
       "\t<dt>$정렬결과</dt>\n",
       "\t\t<dd><ol class=list-inline>\n",
       "\t<li>6</li>\n",
       "\t<li>12</li>\n",
       "\t<li>45</li>\n",
       "\t<li>321</li>\n",
       "\t<li>555</li>\n",
       "</ol>\n",
       "</dd>\n",
       "</dl>\n"
      ],
      "text/latex": [
       "\\begin{description}\n",
       "\\item[\\$합계] 939\n",
       "\\item[\\$정렬결과] \\begin{enumerate*}\n",
       "\\item 6\n",
       "\\item 12\n",
       "\\item 45\n",
       "\\item 321\n",
       "\\item 555\n",
       "\\end{enumerate*}\n",
       "\n",
       "\\end{description}\n"
      ],
      "text/markdown": [
       "$합계\n",
       ":   939\n",
       "$정렬결과\n",
       ":   1. 6\n",
       "2. 12\n",
       "3. 45\n",
       "4. 321\n",
       "5. 555\n",
       "\n",
       "\n",
       "\n",
       "\n",
       "\n"
      ],
      "text/plain": [
       "$합계\n",
       "[1] 939\n",
       "\n",
       "$정렬결과\n",
       "[1]   6  12  45 321 555\n"
      ]
     },
     "metadata": {},
     "output_type": "display_data"
    }
   ],
   "source": [
    "# 외부 파일에서 정의한 함수 사용?\n",
    "source('UseData/calc.txt')\n",
    "x <- c(555, 321, 45, 6, 12)\n",
    "calc(x)"
   ]
  }
 ],
 "metadata": {
  "kernelspec": {
   "display_name": "R",
   "language": "R",
   "name": "ir"
  },
  "language_info": {
   "codemirror_mode": "r",
   "file_extension": ".r",
   "mimetype": "text/x-r-source",
   "name": "R",
   "pygments_lexer": "r",
   "version": "3.6.1"
  }
 },
 "nbformat": 4,
 "nbformat_minor": 2
}

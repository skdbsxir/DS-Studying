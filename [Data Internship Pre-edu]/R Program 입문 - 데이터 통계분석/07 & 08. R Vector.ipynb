{
 "cells": [
  {
   "cell_type": "markdown",
   "metadata": {},
   "source": [
    "## R Vector\n",
    "\n",
    "<br>\n",
    "\n",
    "- 다른 언어의 배열, List 같은 개념.\n",
    "- 여러 변수들을 하나의 이름으로 묶은 집합.\n",
    "- 항목 변경 가능, 추가 작업이 가능.\n",
    "- 각 항목에 이름을 부여해 인덱스 뿐만 아니라 이름으로도 접근이 가능.\n",
    "    - 다른 언어는 index가 0부터 시작하지만, R은 1부터 시작.\n",
    "- 벡터 항목의 요소들은 **한가지 데이터 타입**이어야 함.\n",
    "    - 그렇지 않은 경우 **강제 형변환이 발생**함.\n",
    "        * **정수형, 실수형이 섞이면 정수형은 실수형으로 형 변환** 됨."
   ]
  },
  {
   "cell_type": "code",
   "execution_count": 8,
   "metadata": {
    "scrolled": false
   },
   "outputs": [
    {
     "data": {
      "text/html": [
       "<ol class=list-inline>\n",
       "\t<li>-1</li>\n",
       "\t<li>0</li>\n",
       "\t<li>1</li>\n",
       "\t<li>2</li>\n",
       "\t<li>3</li>\n",
       "\t<li>4</li>\n",
       "\t<li>5</li>\n",
       "</ol>\n"
      ],
      "text/latex": [
       "\\begin{enumerate*}\n",
       "\\item -1\n",
       "\\item 0\n",
       "\\item 1\n",
       "\\item 2\n",
       "\\item 3\n",
       "\\item 4\n",
       "\\item 5\n",
       "\\end{enumerate*}\n"
      ],
      "text/markdown": [
       "1. -1\n",
       "2. 0\n",
       "3. 1\n",
       "4. 2\n",
       "5. 3\n",
       "6. 4\n",
       "7. 5\n",
       "\n",
       "\n"
      ],
      "text/plain": [
       "[1] -1  0  1  2  3  4  5"
      ]
     },
     "metadata": {},
     "output_type": "display_data"
    },
    {
     "data": {
      "text/html": [
       "TRUE"
      ],
      "text/latex": [
       "TRUE"
      ],
      "text/markdown": [
       "TRUE"
      ],
      "text/plain": [
       "[1] TRUE"
      ]
     },
     "metadata": {},
     "output_type": "display_data"
    },
    {
     "data": {
      "text/html": [
       "<ol class=list-inline>\n",
       "\t<li>1</li>\n",
       "\t<li>2</li>\n",
       "\t<li>3</li>\n",
       "\t<li>4</li>\n",
       "\t<li>5</li>\n",
       "\t<li>6</li>\n",
       "\t<li>7</li>\n",
       "</ol>\n"
      ],
      "text/latex": [
       "\\begin{enumerate*}\n",
       "\\item 1\n",
       "\\item 2\n",
       "\\item 3\n",
       "\\item 4\n",
       "\\item 5\n",
       "\\item 6\n",
       "\\item 7\n",
       "\\end{enumerate*}\n"
      ],
      "text/markdown": [
       "1. 1\n",
       "2. 2\n",
       "3. 3\n",
       "4. 4\n",
       "5. 5\n",
       "6. 6\n",
       "7. 7\n",
       "\n",
       "\n"
      ],
      "text/plain": [
       "[1] 1 2 3 4 5 6 7"
      ]
     },
     "metadata": {},
     "output_type": "display_data"
    },
    {
     "data": {
      "text/html": [
       "<ol class=list-inline>\n",
       "\t<li>'-1'</li>\n",
       "\t<li>'0'</li>\n",
       "\t<li>'1'</li>\n",
       "\t<li>'2'</li>\n",
       "\t<li>'3'</li>\n",
       "\t<li>'4'</li>\n",
       "\t<li>'5'</li>\n",
       "</ol>\n"
      ],
      "text/latex": [
       "\\begin{enumerate*}\n",
       "\\item '-1'\n",
       "\\item '0'\n",
       "\\item '1'\n",
       "\\item '2'\n",
       "\\item '3'\n",
       "\\item '4'\n",
       "\\item '5'\n",
       "\\end{enumerate*}\n"
      ],
      "text/markdown": [
       "1. '-1'\n",
       "2. '0'\n",
       "3. '1'\n",
       "4. '2'\n",
       "5. '3'\n",
       "6. '4'\n",
       "7. '5'\n",
       "\n",
       "\n"
      ],
      "text/plain": [
       "[1] \"-1\" \"0\"  \"1\"  \"2\"  \"3\"  \"4\"  \"5\" "
      ]
     },
     "metadata": {},
     "output_type": "display_data"
    },
    {
     "data": {
      "text/html": [
       "<ol class=list-inline>\n",
       "\t<li>-1</li>\n",
       "\t<li>0</li>\n",
       "\t<li>1</li>\n",
       "\t<li>2</li>\n",
       "\t<li>3</li>\n",
       "\t<li>4</li>\n",
       "\t<li>5</li>\n",
       "</ol>\n"
      ],
      "text/latex": [
       "\\begin{enumerate*}\n",
       "\\item -1\n",
       "\\item 0\n",
       "\\item 1\n",
       "\\item 2\n",
       "\\item 3\n",
       "\\item 4\n",
       "\\item 5\n",
       "\\end{enumerate*}\n"
      ],
      "text/markdown": [
       "1. -1\n",
       "2. 0\n",
       "3. 1\n",
       "4. 2\n",
       "5. 3\n",
       "6. 4\n",
       "7. 5\n",
       "\n",
       "\n"
      ],
      "text/plain": [
       "[1] -1  0  1  2  3  4  5"
      ]
     },
     "metadata": {},
     "output_type": "display_data"
    },
    {
     "data": {
      "text/html": [
       "<ol class=list-inline>\n",
       "\t<li>-1</li>\n",
       "\t<li>0</li>\n",
       "\t<li>1</li>\n",
       "\t<li>2</li>\n",
       "\t<li>3</li>\n",
       "\t<li>4</li>\n",
       "\t<li>5</li>\n",
       "</ol>\n",
       "\n",
       "<details>\n",
       "\t<summary style=display:list-item;cursor:pointer>\n",
       "\t\t<strong>Levels</strong>:\n",
       "\t</summary>\n",
       "\t<ol class=list-inline>\n",
       "\t\t<li>'-1'</li>\n",
       "\t\t<li>'0'</li>\n",
       "\t\t<li>'1'</li>\n",
       "\t\t<li>'2'</li>\n",
       "\t\t<li>'3'</li>\n",
       "\t\t<li>'4'</li>\n",
       "\t\t<li>'5'</li>\n",
       "\t</ol>\n",
       "</details>"
      ],
      "text/latex": [
       "\\begin{enumerate*}\n",
       "\\item -1\n",
       "\\item 0\n",
       "\\item 1\n",
       "\\item 2\n",
       "\\item 3\n",
       "\\item 4\n",
       "\\item 5\n",
       "\\end{enumerate*}\n",
       "\n",
       "\\emph{Levels}: \\begin{enumerate*}\n",
       "\\item '-1'\n",
       "\\item '0'\n",
       "\\item '1'\n",
       "\\item '2'\n",
       "\\item '3'\n",
       "\\item '4'\n",
       "\\item '5'\n",
       "\\end{enumerate*}\n"
      ],
      "text/markdown": [
       "1. -1\n",
       "2. 0\n",
       "3. 1\n",
       "4. 2\n",
       "5. 3\n",
       "6. 4\n",
       "7. 5\n",
       "\n",
       "\n",
       "\n",
       "**Levels**: 1. '-1'\n",
       "2. '0'\n",
       "3. '1'\n",
       "4. '2'\n",
       "5. '3'\n",
       "6. '4'\n",
       "7. '5'\n",
       "\n",
       "\n"
      ],
      "text/plain": [
       "[1] -1 0  1  2  3  4  5 \n",
       "Levels: -1 0 1 2 3 4 5"
      ]
     },
     "metadata": {},
     "output_type": "display_data"
    }
   ],
   "source": [
    "x <- -1 : 5 # -1 부터 5까지 벡터 생성.\n",
    "x\n",
    "is.vector(x) \n",
    "x + 2 # 각각의 값에 +2를 함.\n",
    "\n",
    "# x를 문자로 바꾸고 싶으면?\n",
    "c <- as.character(x)\n",
    "c\n",
    "# 파이썬 같은 경우 int(변수), str(변수)로 했지만\n",
    "# R은 as.character, as.numeric을 통해 형변환을 한다.\n",
    "as.numeric(c)\n",
    "\n",
    "# Factor로도 변환이 가능.\n",
    "factor(x)"
   ]
  },
  {
   "cell_type": "markdown",
   "metadata": {},
   "source": [
    "### Vector 항목에 이름 설정\n",
    "\n",
    "<br>\n",
    "\n",
    "- names() 함수를 이용해 이름 설정.\n",
    "    - 반환값은 지정한 이름값을 문자열 벡터에 할당."
   ]
  },
  {
   "cell_type": "code",
   "execution_count": 19,
   "metadata": {},
   "outputs": [
    {
     "data": {
      "text/html": [
       "<dl class=dl-horizontal>\n",
       "\t<dt>아메리카노</dt>\n",
       "\t\t<dd>1000</dd>\n",
       "\t<dt>카페라떼</dt>\n",
       "\t\t<dd>3000</dd>\n",
       "\t<dt>카페모카</dt>\n",
       "\t\t<dd>4500</dd>\n",
       "\t<dt>카라멜 마끼아또</dt>\n",
       "\t\t<dd>5000</dd>\n",
       "</dl>\n"
      ],
      "text/latex": [
       "\\begin{description*}\n",
       "\\item[아메리카노] 1000\n",
       "\\item[카페라떼] 3000\n",
       "\\item[카페모카] 4500\n",
       "\\item[카라멜 마끼아또] 5000\n",
       "\\end{description*}\n"
      ],
      "text/markdown": [
       "아메리카노\n",
       ":   1000카페라떼\n",
       ":   3000카페모카\n",
       ":   4500카라멜 마끼아또\n",
       ":   5000\n",
       "\n"
      ],
      "text/plain": [
       "     아메리카노        카페라떼        카페모카 카라멜 마끼아또 \n",
       "           1000            3000            4500            5000 "
      ]
     },
     "metadata": {},
     "output_type": "display_data"
    }
   ],
   "source": [
    "coffee <- c(1000, 3000, 4500, 5000) # 벡터 생성\n",
    "\n",
    "# 생성한 벡터에 1:1로 이름을 넣어줌.\n",
    "names(coffee) <- c('아메리카노', '카페라떼', '카페모카', '카라멜 마끼아또')\n",
    "\n",
    "coffee # 각 변수마다 이름이 붙여진 걸 확인할 수 있음."
   ]
  },
  {
   "cell_type": "markdown",
   "metadata": {},
   "source": [
    "**Vector 또한 합치는 것이 가능.**\n",
    "\n",
    "<br>\n",
    "\n",
    "    단순히 + 연산하면 에러남. '이항연산자에 수치가 아닌 인수입니다'\n",
    "    (수치형 Vector끼린 수치연산 가능.)"
   ]
  },
  {
   "cell_type": "code",
   "execution_count": 20,
   "metadata": {},
   "outputs": [
    {
     "data": {
      "text/html": [
       "<ol class=list-inline>\n",
       "\t<li>'아메리카노'</li>\n",
       "\t<li>'카페라떼'</li>\n",
       "\t<li>'카페모카'</li>\n",
       "\t<li>'헤이즐넛'</li>\n",
       "\t<li>'녹차라떼'</li>\n",
       "</ol>\n"
      ],
      "text/latex": [
       "\\begin{enumerate*}\n",
       "\\item '아메리카노'\n",
       "\\item '카페라떼'\n",
       "\\item '카페모카'\n",
       "\\item '헤이즐넛'\n",
       "\\item '녹차라떼'\n",
       "\\end{enumerate*}\n"
      ],
      "text/markdown": [
       "1. '아메리카노'\n",
       "2. '카페라떼'\n",
       "3. '카페모카'\n",
       "4. '헤이즐넛'\n",
       "5. '녹차라떼'\n",
       "\n",
       "\n"
      ],
      "text/plain": [
       "[1] \"아메리카노\" \"카페라떼\"   \"카페모카\"   \"헤이즐넛\"   \"녹차라떼\"  "
      ]
     },
     "metadata": {},
     "output_type": "display_data"
    }
   ],
   "source": [
    "coffee_1 <- c('아메리카노', '카페라떼')\n",
    "coffee_2 <- c('카페모카', '헤이즐넛', '녹차라떼')\n",
    "\n",
    "# 이 둘을 합칠 수 있나? 있다.\n",
    "# Vector를 이용해 또 다른 Vector를 생성하는 셈.\n",
    "coffee_menu <- c(coffee_1, coffee_2)\n",
    "coffee_menu"
   ]
  },
  {
   "cell_type": "markdown",
   "metadata": {},
   "source": [
    "### Vector 항목 접근\n",
    "\n",
    "<br>\n",
    "\n",
    "1. Index 번호로 접근\n",
    "    - **변수[index번호]** 로 접근이 가능함. \n",
    "        * 주의 : **R의 index는 1부터 시작.** (다른 언어처럼 0부터 시작이 X)\n",
    "    - 특정 구간 만큼의 접근?\n",
    "        * Python의 index slicing처럼 **[시작index : 끝index]**를 통해 접근 가능.\n",
    "    - 특정 항목만 제외하고 접근?\n",
    "        * **[-'제외할 항목의 index']** 로 접근 가능.\n",
    "2. 벡터 이름으로 접근\n",
    "    - **변수['변수이름']** 으로 접근이 가능함."
   ]
  },
  {
   "cell_type": "code",
   "execution_count": 21,
   "metadata": {},
   "outputs": [
    {
     "data": {
      "text/html": [
       "<strong>카페라떼:</strong> 3000"
      ],
      "text/latex": [
       "\\textbf{카페라떼:} 3000"
      ],
      "text/markdown": [
       "**카페라떼:** 3000"
      ],
      "text/plain": [
       "카페라떼 \n",
       "    3000 "
      ]
     },
     "metadata": {},
     "output_type": "display_data"
    },
    {
     "data": {
      "text/html": [
       "<strong>아메리카노:</strong> 1000"
      ],
      "text/latex": [
       "\\textbf{아메리카노:} 1000"
      ],
      "text/markdown": [
       "**아메리카노:** 1000"
      ],
      "text/plain": [
       "아메리카노 \n",
       "      1000 "
      ]
     },
     "metadata": {},
     "output_type": "display_data"
    },
    {
     "data": {
      "text/html": [
       "<dl class=dl-horizontal>\n",
       "\t<dt>아메리카노</dt>\n",
       "\t\t<dd>1000</dd>\n",
       "\t<dt>카페라떼</dt>\n",
       "\t\t<dd>3000</dd>\n",
       "\t<dt>카페모카</dt>\n",
       "\t\t<dd>4500</dd>\n",
       "</dl>\n"
      ],
      "text/latex": [
       "\\begin{description*}\n",
       "\\item[아메리카노] 1000\n",
       "\\item[카페라떼] 3000\n",
       "\\item[카페모카] 4500\n",
       "\\end{description*}\n"
      ],
      "text/markdown": [
       "아메리카노\n",
       ":   1000카페라떼\n",
       ":   3000카페모카\n",
       ":   4500\n",
       "\n"
      ],
      "text/plain": [
       "아메리카노   카페라떼   카페모카 \n",
       "      1000       3000       4500 "
      ]
     },
     "metadata": {},
     "output_type": "display_data"
    }
   ],
   "source": [
    "# coffee변수의 2번째 요소에 접근?\n",
    "coffee[2] # index 접근\n",
    "coffee['아메리카노'] # 이름 접근"
   ]
  },
  {
   "cell_type": "code",
   "execution_count": 22,
   "metadata": {},
   "outputs": [
    {
     "data": {
      "text/html": [
       "<dl class=dl-horizontal>\n",
       "\t<dt>아메리카노</dt>\n",
       "\t\t<dd>1000</dd>\n",
       "\t<dt>카페라떼</dt>\n",
       "\t\t<dd>3000</dd>\n",
       "\t<dt>카페모카</dt>\n",
       "\t\t<dd>4500</dd>\n",
       "\t<dt>카라멜 마끼아또</dt>\n",
       "\t\t<dd>5000</dd>\n",
       "</dl>\n"
      ],
      "text/latex": [
       "\\begin{description*}\n",
       "\\item[아메리카노] 1000\n",
       "\\item[카페라떼] 3000\n",
       "\\item[카페모카] 4500\n",
       "\\item[카라멜 마끼아또] 5000\n",
       "\\end{description*}\n"
      ],
      "text/markdown": [
       "아메리카노\n",
       ":   1000카페라떼\n",
       ":   3000카페모카\n",
       ":   4500카라멜 마끼아또\n",
       ":   5000\n",
       "\n"
      ],
      "text/plain": [
       "     아메리카노        카페라떼        카페모카 카라멜 마끼아또 \n",
       "           1000            3000            4500            5000 "
      ]
     },
     "metadata": {},
     "output_type": "display_data"
    },
    {
     "data": {
      "text/html": [
       "<dl class=dl-horizontal>\n",
       "\t<dt>아메리카노</dt>\n",
       "\t\t<dd>2500</dd>\n",
       "\t<dt>카페라떼</dt>\n",
       "\t\t<dd>3000</dd>\n",
       "\t<dt>카페모카</dt>\n",
       "\t\t<dd>4500</dd>\n",
       "\t<dt>카라멜 마끼아또</dt>\n",
       "\t\t<dd>5000</dd>\n",
       "</dl>\n"
      ],
      "text/latex": [
       "\\begin{description*}\n",
       "\\item[아메리카노] 2500\n",
       "\\item[카페라떼] 3000\n",
       "\\item[카페모카] 4500\n",
       "\\item[카라멜 마끼아또] 5000\n",
       "\\end{description*}\n"
      ],
      "text/markdown": [
       "아메리카노\n",
       ":   2500카페라떼\n",
       ":   3000카페모카\n",
       ":   4500카라멜 마끼아또\n",
       ":   5000\n",
       "\n"
      ],
      "text/plain": [
       "     아메리카노        카페라떼        카페모카 카라멜 마끼아또 \n",
       "           2500            3000            4500            5000 "
      ]
     },
     "metadata": {},
     "output_type": "display_data"
    }
   ],
   "source": [
    "# Vector내 특정 원소의 값을 변경?\n",
    "coffee\n",
    "coffee[1] <- 2500\n",
    "coffee"
   ]
  },
  {
   "cell_type": "code",
   "execution_count": 23,
   "metadata": {},
   "outputs": [
    {
     "data": {
      "text/html": [
       "<dl class=dl-horizontal>\n",
       "\t<dt>아메리카노</dt>\n",
       "\t\t<dd>2500</dd>\n",
       "\t<dt>카페라떼</dt>\n",
       "\t\t<dd>3000</dd>\n",
       "\t<dt>카페모카</dt>\n",
       "\t\t<dd>4500</dd>\n",
       "</dl>\n"
      ],
      "text/latex": [
       "\\begin{description*}\n",
       "\\item[아메리카노] 2500\n",
       "\\item[카페라떼] 3000\n",
       "\\item[카페모카] 4500\n",
       "\\end{description*}\n"
      ],
      "text/markdown": [
       "아메리카노\n",
       ":   2500카페라떼\n",
       ":   3000카페모카\n",
       ":   4500\n",
       "\n"
      ],
      "text/plain": [
       "아메리카노   카페라떼   카페모카 \n",
       "      2500       3000       4500 "
      ]
     },
     "metadata": {},
     "output_type": "display_data"
    },
    {
     "data": {
      "text/html": [
       "<dl class=dl-horizontal>\n",
       "\t<dt>아메리카노</dt>\n",
       "\t\t<dd>2500</dd>\n",
       "\t<dt>카페라떼</dt>\n",
       "\t\t<dd>3000</dd>\n",
       "\t<dt>카라멜 마끼아또</dt>\n",
       "\t\t<dd>5000</dd>\n",
       "</dl>\n"
      ],
      "text/latex": [
       "\\begin{description*}\n",
       "\\item[아메리카노] 2500\n",
       "\\item[카페라떼] 3000\n",
       "\\item[카라멜 마끼아또] 5000\n",
       "\\end{description*}\n"
      ],
      "text/markdown": [
       "아메리카노\n",
       ":   2500카페라떼\n",
       ":   3000카라멜 마끼아또\n",
       ":   5000\n",
       "\n"
      ],
      "text/plain": [
       "     아메리카노        카페라떼 카라멜 마끼아또 \n",
       "           2500            3000            5000 "
      ]
     },
     "metadata": {},
     "output_type": "display_data"
    }
   ],
   "source": [
    "coffee[1:3] # index slicing으로 접근\n",
    "coffee[-3] # 3번째 항목만을 제외하고 접근"
   ]
  },
  {
   "cell_type": "markdown",
   "metadata": {},
   "source": [
    "### Vector 연산 작업\n",
    "\n",
    "<br>\n",
    "\n",
    "- 특정 항목에 접근해 계산 작업을 할 수 있음.\n",
    "    - 벡터변수[index번호 or 이름] +-*/ 연산\n",
    "- 전체에 대한 연산작업을 일괄적으로도 할 수 있음.\n",
    "    - 벡터변수 +-*/ 연산"
   ]
  },
  {
   "cell_type": "code",
   "execution_count": 27,
   "metadata": {},
   "outputs": [
    {
     "data": {
      "text/html": [
       "<strong>카페라떼:</strong> 3500"
      ],
      "text/latex": [
       "\\textbf{카페라떼:} 3500"
      ],
      "text/markdown": [
       "**카페라떼:** 3500"
      ],
      "text/plain": [
       "카페라떼 \n",
       "    3500 "
      ]
     },
     "metadata": {},
     "output_type": "display_data"
    },
    {
     "data": {
      "text/html": [
       "<dl class=dl-horizontal>\n",
       "\t<dt>아메리카노</dt>\n",
       "\t\t<dd>2500</dd>\n",
       "\t<dt>카페라떼</dt>\n",
       "\t\t<dd>3000</dd>\n",
       "\t<dt>카페모카</dt>\n",
       "\t\t<dd>4500</dd>\n",
       "\t<dt>카라멜 마끼아또</dt>\n",
       "\t\t<dd>5000</dd>\n",
       "</dl>\n"
      ],
      "text/latex": [
       "\\begin{description*}\n",
       "\\item[아메리카노] 2500\n",
       "\\item[카페라떼] 3000\n",
       "\\item[카페모카] 4500\n",
       "\\item[카라멜 마끼아또] 5000\n",
       "\\end{description*}\n"
      ],
      "text/markdown": [
       "아메리카노\n",
       ":   2500카페라떼\n",
       ":   3000카페모카\n",
       ":   4500카라멜 마끼아또\n",
       ":   5000\n",
       "\n"
      ],
      "text/plain": [
       "     아메리카노        카페라떼        카페모카 카라멜 마끼아또 \n",
       "           2500            3000            4500            5000 "
      ]
     },
     "metadata": {},
     "output_type": "display_data"
    },
    {
     "data": {
      "text/html": [
       "<dl class=dl-horizontal>\n",
       "\t<dt>아메리카노</dt>\n",
       "\t\t<dd>3500</dd>\n",
       "\t<dt>카페라떼</dt>\n",
       "\t\t<dd>4000</dd>\n",
       "\t<dt>카페모카</dt>\n",
       "\t\t<dd>5500</dd>\n",
       "\t<dt>카라멜 마끼아또</dt>\n",
       "\t\t<dd>6000</dd>\n",
       "</dl>\n"
      ],
      "text/latex": [
       "\\begin{description*}\n",
       "\\item[아메리카노] 3500\n",
       "\\item[카페라떼] 4000\n",
       "\\item[카페모카] 5500\n",
       "\\item[카라멜 마끼아또] 6000\n",
       "\\end{description*}\n"
      ],
      "text/markdown": [
       "아메리카노\n",
       ":   3500카페라떼\n",
       ":   4000카페모카\n",
       ":   5500카라멜 마끼아또\n",
       ":   6000\n",
       "\n"
      ],
      "text/plain": [
       "     아메리카노        카페라떼        카페모카 카라멜 마끼아또 \n",
       "           3500            4000            5500            6000 "
      ]
     },
     "metadata": {},
     "output_type": "display_data"
    },
    {
     "data": {
      "text/html": [
       "<dl class=dl-horizontal>\n",
       "\t<dt>아메리카노</dt>\n",
       "\t\t<dd>2500</dd>\n",
       "\t<dt>카페라떼</dt>\n",
       "\t\t<dd>3000</dd>\n",
       "\t<dt>카페모카</dt>\n",
       "\t\t<dd>4500</dd>\n",
       "\t<dt>카라멜 마끼아또</dt>\n",
       "\t\t<dd>5000</dd>\n",
       "</dl>\n"
      ],
      "text/latex": [
       "\\begin{description*}\n",
       "\\item[아메리카노] 2500\n",
       "\\item[카페라떼] 3000\n",
       "\\item[카페모카] 4500\n",
       "\\item[카라멜 마끼아또] 5000\n",
       "\\end{description*}\n"
      ],
      "text/markdown": [
       "아메리카노\n",
       ":   2500카페라떼\n",
       ":   3000카페모카\n",
       ":   4500카라멜 마끼아또\n",
       ":   5000\n",
       "\n"
      ],
      "text/plain": [
       "     아메리카노        카페라떼        카페모카 카라멜 마끼아또 \n",
       "           2500            3000            4500            5000 "
      ]
     },
     "metadata": {},
     "output_type": "display_data"
    }
   ],
   "source": [
    "# 특정 항목만을 변경\n",
    "coffee[2] + 500\n",
    "coffee\n",
    "# 전체 항목 변경\n",
    "coffee + 1000\n",
    "coffee"
   ]
  },
  {
   "cell_type": "markdown",
   "metadata": {},
   "source": [
    "    볼 수 있듯이, 항목 연산 시에만 항목의 값이 변함.\n",
    "    추후 다시 불러오면 그 항목은 바뀌지 않은 상태.\n",
    "    R은 동적인 언어.\n",
    "    \n",
    "    직접적으로 <- 연산자를 통해 값을 바꾸지 않는 이상 값은 바뀌지 않음."
   ]
  },
  {
   "cell_type": "markdown",
   "metadata": {},
   "source": [
    "### Vector 집합 연산\n",
    "\n",
    "<br>\n",
    "\n",
    "- 벡터를 하나의 집합으로 간주해 교집합, 합집합, 일치여부 등의 연산이 가능함.\n",
    "- 주요 함수?\n",
    "    1. **identical(x, y)** : x, y의 항목이 일치하면 TRUE, 일치하지 않으면 FALSE\n",
    "    2. **union(x, y)** : 합집합 계산\n",
    "    3. **intersect(x, y)** : 교집합 계산\n",
    "    4. **setdiff(x, y)** : 차집합 계산\n",
    "    5. **setequal(x, y)** : x, y의 구성 값이 동일하면 TRUE, 동일하지 않으면 FALSE\n",
    "    \n",
    "<br>\n",
    "\n",
    "- identical, setequal의 차이점?\n",
    "    * identical : 두 vector의 항목들이 완전히 일치하는지 확인.\n",
    "    * setequal : 두 vector의 구성되는 값들이 일치하는지 확인.\n",
    "    \n",
    "<br>\n",
    "\n",
    "- x : 100 200 300 // y : 100 100 200 200 200 300 에 대해\n",
    "    - identical은 **각 항목들이 완전히 일치하지 않고, 갯수도 다르므로 FALSE**를 반환.\n",
    "    - setequal은 **구성되는 값들이 100, 200, 300으로 일치하므로 TRUE**를 반환.\n",
    "        * y는 구성되는 값의 갯수가 다르지만, 구성되는 값은 100 200 300. \n",
    "            - 즉, x와 y의 구성되는 값이 같음.\n",
    " "
   ]
  },
  {
   "cell_type": "code",
   "execution_count": 33,
   "metadata": {},
   "outputs": [
    {
     "data": {
      "text/html": [
       "<ol class=list-inline>\n",
       "\t<li>35</li>\n",
       "\t<li>27</li>\n",
       "\t<li>9</li>\n",
       "\t<li>11</li>\n",
       "</ol>\n"
      ],
      "text/latex": [
       "\\begin{enumerate*}\n",
       "\\item 35\n",
       "\\item 27\n",
       "\\item 9\n",
       "\\item 11\n",
       "\\end{enumerate*}\n"
      ],
      "text/markdown": [
       "1. 35\n",
       "2. 27\n",
       "3. 9\n",
       "4. 11\n",
       "\n",
       "\n"
      ],
      "text/plain": [
       "[1] 35 27  9 11"
      ]
     },
     "metadata": {},
     "output_type": "display_data"
    },
    {
     "data": {
      "text/html": [
       "<ol class=list-inline>\n",
       "\t<li>'아메리카노'</li>\n",
       "\t<li>'카푸치노'</li>\n",
       "\t<li>'카페모카'</li>\n",
       "\t<li>'모카치노'</li>\n",
       "</ol>\n"
      ],
      "text/latex": [
       "\\begin{enumerate*}\n",
       "\\item '아메리카노'\n",
       "\\item '카푸치노'\n",
       "\\item '카페모카'\n",
       "\\item '모카치노'\n",
       "\\end{enumerate*}\n"
      ],
      "text/markdown": [
       "1. '아메리카노'\n",
       "2. '카푸치노'\n",
       "3. '카페모카'\n",
       "4. '모카치노'\n",
       "\n",
       "\n"
      ],
      "text/plain": [
       "[1] \"아메리카노\" \"카푸치노\"   \"카페모카\"   \"모카치노\"  "
      ]
     },
     "metadata": {},
     "output_type": "display_data"
    },
    {
     "data": {
      "text/html": [
       "<ol class=list-inline>\n",
       "\t<li>'아메리카노'</li>\n",
       "\t<li>'카페모카'</li>\n",
       "</ol>\n"
      ],
      "text/latex": [
       "\\begin{enumerate*}\n",
       "\\item '아메리카노'\n",
       "\\item '카페모카'\n",
       "\\end{enumerate*}\n"
      ],
      "text/markdown": [
       "1. '아메리카노'\n",
       "2. '카페모카'\n",
       "\n",
       "\n"
      ],
      "text/plain": [
       "[1] \"아메리카노\" \"카페모카\"  "
      ]
     },
     "metadata": {},
     "output_type": "display_data"
    },
    {
     "data": {
      "text/html": [
       "'카푸치노'"
      ],
      "text/latex": [
       "'카푸치노'"
      ],
      "text/markdown": [
       "'카푸치노'"
      ],
      "text/plain": [
       "[1] \"카푸치노\""
      ]
     },
     "metadata": {},
     "output_type": "display_data"
    },
    {
     "data": {
      "text/html": [
       "FALSE"
      ],
      "text/latex": [
       "FALSE"
      ],
      "text/markdown": [
       "FALSE"
      ],
      "text/plain": [
       "[1] FALSE"
      ]
     },
     "metadata": {},
     "output_type": "display_data"
    },
    {
     "data": {
      "text/html": [
       "TRUE"
      ],
      "text/latex": [
       "TRUE"
      ],
      "text/markdown": [
       "TRUE"
      ],
      "text/plain": [
       "[1] TRUE"
      ]
     },
     "metadata": {},
     "output_type": "display_data"
    }
   ],
   "source": [
    "shop1 <- c(15, 10, 7, 3)\n",
    "shop2 <- c(20, 17, 2, 8)\n",
    "\n",
    "# 둘의 사칙연산이 가능.\n",
    "shop1 + shop2 # 항목간 1:1로 연산이 이뤄짐.\n",
    "\n",
    "ashop <- c('아메리카노', '카푸치노', '카페모카')\n",
    "bshop <- c('아메리카노', '카페모카', '모카치노')\n",
    "\n",
    "UnionShop <- union(ashop, bshop) # 합집합\n",
    "UnionShop\n",
    "\n",
    "IntersectShop <- intersect(ashop, bshop) # 교집합\n",
    "IntersectShop\n",
    "\n",
    "DiffShop <- setdiff(ashop, bshop) # 차집합 (ashop - bshop)\n",
    "DiffShop\n",
    "\n",
    "identical(ashop, bshop) # 두 벡터 내용이 일치하는지?\n",
    "\n",
    "cshop <- c('아메리카노', '카페모카', '카푸치노', '카페모카')\n",
    "\n",
    "setequal(ashop, cshop) # 두 벡터의 구성 값이 동일?"
   ]
  },
  {
   "cell_type": "markdown",
   "metadata": {},
   "source": [
    "### Vector에 연속된 값 할당\n",
    "\n",
    "<br>\n",
    "\n",
    "- 연속적인 데이터를 벡터에 할당할 수 있음.\n",
    "    - **seq(시작값, 끝값, 증가값)** : 시작값 부터 끝값까지 일정한 증가값 만큼씩의 값을 벡터에 할당.\n",
    "    - **rep(반복할 벡터항목, times(또는 each))**\n",
    "        - times : 반복할 **벡터항목 전체를 몇 번 반복**할 것인지?\n",
    "        - each : 반복할 **벡터항목 각각을 몇 번 반복**할 것인지?"
   ]
  },
  {
   "cell_type": "code",
   "execution_count": 44,
   "metadata": {},
   "outputs": [
    {
     "data": {
      "text/html": [
       "<ol class=list-inline>\n",
       "\t<li>0</li>\n",
       "\t<li>200</li>\n",
       "\t<li>400</li>\n",
       "\t<li>600</li>\n",
       "\t<li>800</li>\n",
       "\t<li>1000</li>\n",
       "</ol>\n"
      ],
      "text/latex": [
       "\\begin{enumerate*}\n",
       "\\item 0\n",
       "\\item 200\n",
       "\\item 400\n",
       "\\item 600\n",
       "\\item 800\n",
       "\\item 1000\n",
       "\\end{enumerate*}\n"
      ],
      "text/markdown": [
       "1. 0\n",
       "2. 200\n",
       "3. 400\n",
       "4. 600\n",
       "5. 800\n",
       "6. 1000\n",
       "\n",
       "\n"
      ],
      "text/plain": [
       "[1]    0  200  400  600  800 1000"
      ]
     },
     "metadata": {},
     "output_type": "display_data"
    },
    {
     "data": {
      "text/html": [
       "<ol class=list-inline>\n",
       "\t<li>1</li>\n",
       "\t<li>2</li>\n",
       "\t<li>3</li>\n",
       "\t<li>1</li>\n",
       "\t<li>2</li>\n",
       "\t<li>3</li>\n",
       "</ol>\n"
      ],
      "text/latex": [
       "\\begin{enumerate*}\n",
       "\\item 1\n",
       "\\item 2\n",
       "\\item 3\n",
       "\\item 1\n",
       "\\item 2\n",
       "\\item 3\n",
       "\\end{enumerate*}\n"
      ],
      "text/markdown": [
       "1. 1\n",
       "2. 2\n",
       "3. 3\n",
       "4. 1\n",
       "5. 2\n",
       "6. 3\n",
       "\n",
       "\n"
      ],
      "text/plain": [
       "[1] 1 2 3 1 2 3"
      ]
     },
     "metadata": {},
     "output_type": "display_data"
    },
    {
     "data": {
      "text/html": [
       "<ol class=list-inline>\n",
       "\t<li>1</li>\n",
       "\t<li>1</li>\n",
       "\t<li>1</li>\n",
       "\t<li>2</li>\n",
       "\t<li>2</li>\n",
       "\t<li>2</li>\n",
       "\t<li>3</li>\n",
       "\t<li>3</li>\n",
       "\t<li>3</li>\n",
       "</ol>\n"
      ],
      "text/latex": [
       "\\begin{enumerate*}\n",
       "\\item 1\n",
       "\\item 1\n",
       "\\item 1\n",
       "\\item 2\n",
       "\\item 2\n",
       "\\item 2\n",
       "\\item 3\n",
       "\\item 3\n",
       "\\item 3\n",
       "\\end{enumerate*}\n"
      ],
      "text/markdown": [
       "1. 1\n",
       "2. 1\n",
       "3. 1\n",
       "4. 2\n",
       "5. 2\n",
       "6. 2\n",
       "7. 3\n",
       "8. 3\n",
       "9. 3\n",
       "\n",
       "\n"
      ],
      "text/plain": [
       "[1] 1 1 1 2 2 2 3 3 3"
      ]
     },
     "metadata": {},
     "output_type": "display_data"
    }
   ],
   "source": [
    "y <- seq(0, 1000, 200) # 0부터 1000까지 200씩 증가하도록 벡터 생성.\n",
    "y\n",
    "\n",
    "part <- rep(1:3, times=2) # 1~3까지의 숫자를 2번 반복.\n",
    "part\n",
    "part2 <- rep(1:3, each=3) # 1~3까지의 각 숫자를 3번씩 반복.\n",
    "part2"
   ]
  },
  {
   "cell_type": "markdown",
   "metadata": {},
   "source": [
    "### Vector의 길이 구하기\n",
    "\n",
    "<br>\n",
    "\n",
    "1. **length(벡터)** : 해당 벡터의 길이 반환.\n",
    "2. **NROW(벡터)** : 벡터 뿐만 아니라 행렬의 행, 데이터프레임의 행 수를 계산해 보여줌."
   ]
  },
  {
   "cell_type": "code",
   "execution_count": 45,
   "metadata": {},
   "outputs": [
    {
     "data": {
      "text/html": [
       "4"
      ],
      "text/latex": [
       "4"
      ],
      "text/markdown": [
       "4"
      ],
      "text/plain": [
       "[1] 4"
      ]
     },
     "metadata": {},
     "output_type": "display_data"
    },
    {
     "data": {
      "text/html": [
       "4"
      ],
      "text/latex": [
       "4"
      ],
      "text/markdown": [
       "4"
      ],
      "text/plain": [
       "[1] 4"
      ]
     },
     "metadata": {},
     "output_type": "display_data"
    }
   ],
   "source": [
    "NROW(coffee)\n",
    "length(coffee)"
   ]
  },
  {
   "cell_type": "code",
   "execution_count": 48,
   "metadata": {},
   "outputs": [
    {
     "data": {
      "text/html": [
       "<ol class=list-inline>\n",
       "\t<li>0</li>\n",
       "\t<li>25</li>\n",
       "\t<li>50</li>\n",
       "\t<li>75</li>\n",
       "\t<li>100</li>\n",
       "</ol>\n"
      ],
      "text/latex": [
       "\\begin{enumerate*}\n",
       "\\item 0\n",
       "\\item 25\n",
       "\\item 50\n",
       "\\item 75\n",
       "\\item 100\n",
       "\\end{enumerate*}\n"
      ],
      "text/markdown": [
       "1. 0\n",
       "2. 25\n",
       "3. 50\n",
       "4. 75\n",
       "5. 100\n",
       "\n",
       "\n"
      ],
      "text/plain": [
       "[1]   0  25  50  75 100"
      ]
     },
     "metadata": {},
     "output_type": "display_data"
    },
    {
     "data": {
      "text/html": [
       "<ol class=list-inline>\n",
       "\t<li>0</li>\n",
       "\t<li>14.2857142857143</li>\n",
       "\t<li>28.5714285714286</li>\n",
       "\t<li>42.8571428571429</li>\n",
       "\t<li>57.1428571428571</li>\n",
       "\t<li>71.4285714285714</li>\n",
       "\t<li>85.7142857142857</li>\n",
       "\t<li>100</li>\n",
       "</ol>\n"
      ],
      "text/latex": [
       "\\begin{enumerate*}\n",
       "\\item 0\n",
       "\\item 14.2857142857143\n",
       "\\item 28.5714285714286\n",
       "\\item 42.8571428571429\n",
       "\\item 57.1428571428571\n",
       "\\item 71.4285714285714\n",
       "\\item 85.7142857142857\n",
       "\\item 100\n",
       "\\end{enumerate*}\n"
      ],
      "text/markdown": [
       "1. 0\n",
       "2. 14.2857142857143\n",
       "3. 28.5714285714286\n",
       "4. 42.8571428571429\n",
       "5. 57.1428571428571\n",
       "6. 71.4285714285714\n",
       "7. 85.7142857142857\n",
       "8. 100\n",
       "\n",
       "\n"
      ],
      "text/plain": [
       "[1]   0.00000  14.28571  28.57143  42.85714  57.14286  71.42857  85.71429\n",
       "[8] 100.00000"
      ]
     },
     "metadata": {},
     "output_type": "display_data"
    }
   ],
   "source": [
    "m <- seq(0, 100, length = 5) # 0부터 1000까지 연속값을 할당, 벡터의 길이는 5만큼.\n",
    "m # 0 ~ 100 구간 안에서 length만큼의 덩어리로 짤라서 반환.\n",
    "n <- seq(0, 100, length = 8)\n",
    "n # 덩어리가 딱 떨어지지 않으면 소수점으로 까지 나눠서 반환."
   ]
  },
  {
   "cell_type": "markdown",
   "metadata": {},
   "source": [
    "### 공 Vector 선언\n",
    "\n",
    "<br>\n",
    "\n",
    "파이썬에서 myList = [] 처럼 비어있는 벡터를 선언할 수 있음.\n",
    "\n",
    "<br>\n",
    "\n",
    "- vector(mode = '벡터에 들어갈 자료형', length = '길이')\n",
    "    - 벡터에 들어갈 자료형 : numeric 등등...\n",
    "    - 길이 : 생성하고 싶은 빈칸 갯수 지정."
   ]
  },
  {
   "cell_type": "code",
   "execution_count": 53,
   "metadata": {},
   "outputs": [
    {
     "data": {
      "text/html": [],
      "text/latex": [],
      "text/markdown": [],
      "text/plain": [
       "numeric(0)"
      ]
     },
     "metadata": {},
     "output_type": "display_data"
    },
    {
     "data": {
      "text/html": [
       "TRUE"
      ],
      "text/latex": [
       "TRUE"
      ],
      "text/markdown": [
       "TRUE"
      ],
      "text/plain": [
       "[1] TRUE"
      ]
     },
     "metadata": {},
     "output_type": "display_data"
    },
    {
     "data": {
      "text/html": [
       "<ol class=list-inline>\n",
       "\t<li>0</li>\n",
       "\t<li>0</li>\n",
       "\t<li>0</li>\n",
       "\t<li>0</li>\n",
       "\t<li>0</li>\n",
       "\t<li>0</li>\n",
       "\t<li>0</li>\n",
       "\t<li>0</li>\n",
       "\t<li>0</li>\n",
       "\t<li>0</li>\n",
       "</ol>\n"
      ],
      "text/latex": [
       "\\begin{enumerate*}\n",
       "\\item 0\n",
       "\\item 0\n",
       "\\item 0\n",
       "\\item 0\n",
       "\\item 0\n",
       "\\item 0\n",
       "\\item 0\n",
       "\\item 0\n",
       "\\item 0\n",
       "\\item 0\n",
       "\\end{enumerate*}\n"
      ],
      "text/markdown": [
       "1. 0\n",
       "2. 0\n",
       "3. 0\n",
       "4. 0\n",
       "5. 0\n",
       "6. 0\n",
       "7. 0\n",
       "8. 0\n",
       "9. 0\n",
       "10. 0\n",
       "\n",
       "\n"
      ],
      "text/plain": [
       " [1] 0 0 0 0 0 0 0 0 0 0"
      ]
     },
     "metadata": {},
     "output_type": "display_data"
    },
    {
     "data": {
      "text/html": [
       "<ol class=list-inline>\n",
       "\t<li>20</li>\n",
       "\t<li>0</li>\n",
       "\t<li>0</li>\n",
       "\t<li>0</li>\n",
       "\t<li>0</li>\n",
       "\t<li>0</li>\n",
       "\t<li>0</li>\n",
       "\t<li>0</li>\n",
       "\t<li>0</li>\n",
       "\t<li>0</li>\n",
       "</ol>\n"
      ],
      "text/latex": [
       "\\begin{enumerate*}\n",
       "\\item 20\n",
       "\\item 0\n",
       "\\item 0\n",
       "\\item 0\n",
       "\\item 0\n",
       "\\item 0\n",
       "\\item 0\n",
       "\\item 0\n",
       "\\item 0\n",
       "\\item 0\n",
       "\\end{enumerate*}\n"
      ],
      "text/markdown": [
       "1. 20\n",
       "2. 0\n",
       "3. 0\n",
       "4. 0\n",
       "5. 0\n",
       "6. 0\n",
       "7. 0\n",
       "8. 0\n",
       "9. 0\n",
       "10. 0\n",
       "\n",
       "\n"
      ],
      "text/plain": [
       " [1] 20  0  0  0  0  0  0  0  0  0"
      ]
     },
     "metadata": {},
     "output_type": "display_data"
    }
   ],
   "source": [
    "a <- vector(mode = 'numeric')\n",
    "a # 실제로 공 벡터라서 출력물이 없음.\n",
    "is.vector(a) # 내용이 없지만 벡터는 벡터. TRUE를 반환.\n",
    "\n",
    "b <- vector(mode = 'numeric', length = 10) # 10개의 빈 벡터 생성.\n",
    "b\n",
    "b[1] <- 20 # 빈 벡터 첫번째에 값 대입\n",
    "b # 값이 대체됨을 확인."
   ]
  },
  {
   "cell_type": "code",
   "execution_count": null,
   "metadata": {},
   "outputs": [],
   "source": []
  }
 ],
 "metadata": {
  "kernelspec": {
   "display_name": "R",
   "language": "R",
   "name": "ir"
  },
  "language_info": {
   "codemirror_mode": "r",
   "file_extension": ".r",
   "mimetype": "text/x-r-source",
   "name": "R",
   "pygments_lexer": "r",
   "version": "3.6.1"
  }
 },
 "nbformat": 4,
 "nbformat_minor": 2
}

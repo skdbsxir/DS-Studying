{
 "cells": [
  {
   "cell_type": "markdown",
   "metadata": {},
   "source": [
    "## R 조건문\n",
    "\n",
    "<br>\n",
    "\n",
    "**if 문 && if-else문**\n",
    "\n",
    "<br>\n",
    "\n",
    "- 기존 언어의 if와 같음.\n",
    "- 조건비교연산자 : **>, <, >=, <=, ==, !=**\n",
    "- 논리연산자 : **&& (and), | (or), ! (not)**\n",
    "- else는 if{} 뒤에 바로 붙여줘야 함. 타 언어처럼 줄바꿈 하면 안됨.\n",
    "    - if{~}else{~}"
   ]
  },
  {
   "cell_type": "code",
   "execution_count": 3,
   "metadata": {},
   "outputs": [
    {
     "data": {
      "text/html": [
       "'짝수'"
      ],
      "text/latex": [
       "'짝수'"
      ],
      "text/markdown": [
       "'짝수'"
      ],
      "text/plain": [
       "[1] \"짝수\""
      ]
     },
     "metadata": {},
     "output_type": "display_data"
    }
   ],
   "source": [
    "a <- 8\n",
    "# a가 짝수인지?\n",
    "if(a %% 2 == 0){\n",
    "    result <- '짝수'\n",
    "} else {\n",
    "    result <- '홀수'\n",
    "}\n",
    "result"
   ]
  },
  {
   "cell_type": "code",
   "execution_count": 10,
   "metadata": {},
   "outputs": [
    {
     "name": "stdout",
     "output_type": "stream",
     "text": [
      "15\n"
     ]
    },
    {
     "data": {
      "text/html": [
       "'3의 배수이면서 5의 배수'"
      ],
      "text/latex": [
       "'3의 배수이면서 5의 배수'"
      ],
      "text/markdown": [
       "'3의 배수이면서 5의 배수'"
      ],
      "text/plain": [
       "[1] \"3의 배수이면서 5의 배수\""
      ]
     },
     "metadata": {},
     "output_type": "display_data"
    }
   ],
   "source": [
    "a <- as.numeric(readline()) # 숫자로 입력받기\n",
    "if (a %% 3 == 0 && a %% 5 == 0){\n",
    "    result <- '3의 배수이면서 5의 배수'\n",
    "} else if (a %% 3 == 0){\n",
    "    result <- '3의 배수'\n",
    "} else if (a %% 5 == 0){\n",
    "    result <- '5의 배수'\n",
    "} else {\n",
    "    result <- '3의 배수도 아니고, 5의 배수도 아닌 수'\n",
    "}\n",
    "result"
   ]
  },
  {
   "cell_type": "markdown",
   "metadata": {},
   "source": [
    "**ifelse문**\n",
    "\n",
    "<br>\n",
    "\n",
    "- **Vector에 대한 조건연산**을 손쉽게 할 수 있음.\n",
    "- **ifelse(조건대상, 참일때 실행할 문장, 거짓일때 실행할 문장)**"
   ]
  },
  {
   "cell_type": "code",
   "execution_count": 14,
   "metadata": {},
   "outputs": [
    {
     "data": {
      "text/html": [
       "<ol class=list-inline>\n",
       "\t<li>'짝수'</li>\n",
       "\t<li>'홀수'</li>\n",
       "\t<li>'홀수'</li>\n",
       "\t<li>'짝수'</li>\n",
       "\t<li>'짝수'</li>\n",
       "</ol>\n"
      ],
      "text/latex": [
       "\\begin{enumerate*}\n",
       "\\item '짝수'\n",
       "\\item '홀수'\n",
       "\\item '홀수'\n",
       "\\item '짝수'\n",
       "\\item '짝수'\n",
       "\\end{enumerate*}\n"
      ],
      "text/markdown": [
       "1. '짝수'\n",
       "2. '홀수'\n",
       "3. '홀수'\n",
       "4. '짝수'\n",
       "5. '짝수'\n",
       "\n",
       "\n"
      ],
      "text/plain": [
       "[1] \"짝수\" \"홀수\" \"홀수\" \"짝수\" \"짝수\""
      ]
     },
     "metadata": {},
     "output_type": "display_data"
    },
    {
     "data": {
      "text/html": [
       "<table>\n",
       "<thead><tr><th scope=col>a</th><th scope=col>result</th></tr></thead>\n",
       "<tbody>\n",
       "\t<tr><td> 10 </td><td>짝수</td></tr>\n",
       "\t<tr><td> 13 </td><td>홀수</td></tr>\n",
       "\t<tr><td>  7 </td><td>홀수</td></tr>\n",
       "\t<tr><td>  8 </td><td>짝수</td></tr>\n",
       "\t<tr><td>100 </td><td>짝수</td></tr>\n",
       "</tbody>\n",
       "</table>\n"
      ],
      "text/latex": [
       "\\begin{tabular}{r|ll}\n",
       " a & result\\\\\n",
       "\\hline\n",
       "\t  10  & 짝수\\\\\n",
       "\t  13  & 홀수\\\\\n",
       "\t   7  & 홀수\\\\\n",
       "\t   8  & 짝수\\\\\n",
       "\t 100  & 짝수\\\\\n",
       "\\end{tabular}\n"
      ],
      "text/markdown": [
       "\n",
       "| a | result |\n",
       "|---|---|\n",
       "|  10  | 짝수 |\n",
       "|  13  | 홀수 |\n",
       "|   7  | 홀수 |\n",
       "|   8  | 짝수 |\n",
       "| 100  | 짝수 |\n",
       "\n"
      ],
      "text/plain": [
       "  a   result\n",
       "1  10 짝수  \n",
       "2  13 홀수  \n",
       "3   7 홀수  \n",
       "4   8 짝수  \n",
       "5 100 짝수  "
      ]
     },
     "metadata": {},
     "output_type": "display_data"
    },
    {
     "data": {
      "text/html": [
       "<table>\n",
       "<thead><tr><th scope=col>a2</th><th scope=col>result2</th></tr></thead>\n",
       "<tbody>\n",
       "\t<tr><td>10      </td><td>평균미달</td></tr>\n",
       "\t<tr><td>13      </td><td>평균초과</td></tr>\n",
       "\t<tr><td> 7      </td><td>평균미달</td></tr>\n",
       "\t<tr><td> 8      </td><td>평균미달</td></tr>\n",
       "\t<tr><td>20      </td><td>평균초과</td></tr>\n",
       "</tbody>\n",
       "</table>\n"
      ],
      "text/latex": [
       "\\begin{tabular}{r|ll}\n",
       " a2 & result2\\\\\n",
       "\\hline\n",
       "\t 10       & 평균미달\\\\\n",
       "\t 13       & 평균초과\\\\\n",
       "\t  7       & 평균미달\\\\\n",
       "\t  8       & 평균미달\\\\\n",
       "\t 20       & 평균초과\\\\\n",
       "\\end{tabular}\n"
      ],
      "text/markdown": [
       "\n",
       "| a2 | result2 |\n",
       "|---|---|\n",
       "| 10       | 평균미달 |\n",
       "| 13       | 평균초과 |\n",
       "|  7       | 평균미달 |\n",
       "|  8       | 평균미달 |\n",
       "| 20       | 평균초과 |\n",
       "\n"
      ],
      "text/plain": [
       "  a2 result2 \n",
       "1 10 평균미달\n",
       "2 13 평균초과\n",
       "3  7 평균미달\n",
       "4  8 평균미달\n",
       "5 20 평균초과"
      ]
     },
     "metadata": {},
     "output_type": "display_data"
    }
   ],
   "source": [
    "a <- c(10, 13, 7, 8, 100)\n",
    "ifelse(a %% 2 == 0, '짝수', '홀수')\n",
    "\n",
    "# 결과를 DataFrame으로 만들어보자\n",
    "result <- c(ifelse(a %% 2 == 0, '짝수', '홀수'))\n",
    "df <- data.frame(a, result)\n",
    "df\n",
    "\n",
    "# ifelse안에 또 다른 ifelse문을 넣을 수도 있음.\n",
    "a2 <- c(10, 13, 7, 8, 20)\n",
    "result2 <- ifelse(a2 > mean(a2), '평균초과', ifelse(a2 < mean(a2), '평균미달', '평균값'))\n",
    "df2 <- data.frame(a2, result2)\n",
    "df2"
   ]
  },
  {
   "cell_type": "markdown",
   "metadata": {},
   "source": [
    "## R 반복문\n",
    "\n",
    "<br>\n",
    "\n",
    "**for문**\n",
    "\n",
    "<br>\n",
    "\n",
    "- 다른 언어의 for문과 동일함.\n",
    "    - **for(변수명 in 반복횟수) {실행할 문장}**"
   ]
  },
  {
   "cell_type": "code",
   "execution_count": 17,
   "metadata": {},
   "outputs": [
    {
     "name": "stdout",
     "output_type": "stream",
     "text": [
      "1 부터 1  까지 합 =  1 \n",
      "1 부터 2  까지 합 =  3 \n",
      "1 부터 3  까지 합 =  6 \n",
      "1 부터 4  까지 합 =  10 \n",
      "1 부터 5  까지 합 =  15 \n"
     ]
    },
    {
     "data": {
      "text/html": [
       "15"
      ],
      "text/latex": [
       "15"
      ],
      "text/markdown": [
       "15"
      ],
      "text/plain": [
       "[1] 15"
      ]
     },
     "metadata": {},
     "output_type": "display_data"
    }
   ],
   "source": [
    "y <- 0\n",
    "\n",
    "# 1부터 5까지를 x에 할당하고 y랑 더하기.\n",
    "for (x in 1:5){\n",
    "    y <- y + x\n",
    "    cat('1 부터', x, ' 까지 합 = ', y, '\\n') # 문자열과 변수를 합쳐서 출력함.\n",
    "}\n",
    "y"
   ]
  },
  {
   "cell_type": "code",
   "execution_count": 18,
   "metadata": {},
   "outputs": [
    {
     "data": {
      "text/html": [
       "32"
      ],
      "text/latex": [
       "32"
      ],
      "text/markdown": [
       "32"
      ],
      "text/plain": [
       "[1] 32"
      ]
     },
     "metadata": {},
     "output_type": "display_data"
    }
   ],
   "source": [
    "# for를 이용한 vector접근\n",
    "a <- c(4, 25, 8, 33, 17, 20)\n",
    "evensum <- 0\n",
    "# 1부터 벡터a의 길이까지 반복\n",
    "for(x in 1:length(a)){\n",
    "    # index를 참조하며\n",
    "    # 해당 원소가 짝수라면 더하기.\n",
    "    if(a[x] %% 2 == 0){\n",
    "        evensum <- evensum + a[x]\n",
    "    }\n",
    "}\n",
    "evensum"
   ]
  },
  {
   "cell_type": "code",
   "execution_count": 19,
   "metadata": {},
   "outputs": [
    {
     "data": {
      "text/html": [
       "<table>\n",
       "<tbody>\n",
       "\t<tr><td>1 </td><td> 2</td><td> 3</td><td> 4</td><td> 5</td><td> 6</td><td> 7</td><td> 8</td><td> 9</td></tr>\n",
       "\t<tr><td>2 </td><td> 4</td><td> 6</td><td> 8</td><td>10</td><td>12</td><td>14</td><td>16</td><td>18</td></tr>\n",
       "\t<tr><td>3 </td><td> 6</td><td> 9</td><td>12</td><td>15</td><td>18</td><td>21</td><td>24</td><td>27</td></tr>\n",
       "\t<tr><td>4 </td><td> 8</td><td>12</td><td>16</td><td>20</td><td>24</td><td>28</td><td>32</td><td>36</td></tr>\n",
       "\t<tr><td>5 </td><td>10</td><td>15</td><td>20</td><td>25</td><td>30</td><td>35</td><td>40</td><td>45</td></tr>\n",
       "\t<tr><td>6 </td><td>12</td><td>18</td><td>24</td><td>30</td><td>36</td><td>42</td><td>48</td><td>54</td></tr>\n",
       "\t<tr><td>7 </td><td>14</td><td>21</td><td>28</td><td>35</td><td>42</td><td>49</td><td>56</td><td>63</td></tr>\n",
       "\t<tr><td>8 </td><td>16</td><td>24</td><td>32</td><td>40</td><td>48</td><td>56</td><td>64</td><td>72</td></tr>\n",
       "\t<tr><td>9 </td><td>18</td><td>27</td><td>36</td><td>45</td><td>54</td><td>63</td><td>72</td><td>81</td></tr>\n",
       "</tbody>\n",
       "</table>\n"
      ],
      "text/latex": [
       "\\begin{tabular}{lllllllll}\n",
       "\t 1  &  2 &  3 &  4 &  5 &  6 &  7 &  8 &  9\\\\\n",
       "\t 2  &  4 &  6 &  8 & 10 & 12 & 14 & 16 & 18\\\\\n",
       "\t 3  &  6 &  9 & 12 & 15 & 18 & 21 & 24 & 27\\\\\n",
       "\t 4  &  8 & 12 & 16 & 20 & 24 & 28 & 32 & 36\\\\\n",
       "\t 5  & 10 & 15 & 20 & 25 & 30 & 35 & 40 & 45\\\\\n",
       "\t 6  & 12 & 18 & 24 & 30 & 36 & 42 & 48 & 54\\\\\n",
       "\t 7  & 14 & 21 & 28 & 35 & 42 & 49 & 56 & 63\\\\\n",
       "\t 8  & 16 & 24 & 32 & 40 & 48 & 56 & 64 & 72\\\\\n",
       "\t 9  & 18 & 27 & 36 & 45 & 54 & 63 & 72 & 81\\\\\n",
       "\\end{tabular}\n"
      ],
      "text/markdown": [
       "\n",
       "| 1  |  2 |  3 |  4 |  5 |  6 |  7 |  8 |  9 |\n",
       "| 2  |  4 |  6 |  8 | 10 | 12 | 14 | 16 | 18 |\n",
       "| 3  |  6 |  9 | 12 | 15 | 18 | 21 | 24 | 27 |\n",
       "| 4  |  8 | 12 | 16 | 20 | 24 | 28 | 32 | 36 |\n",
       "| 5  | 10 | 15 | 20 | 25 | 30 | 35 | 40 | 45 |\n",
       "| 6  | 12 | 18 | 24 | 30 | 36 | 42 | 48 | 54 |\n",
       "| 7  | 14 | 21 | 28 | 35 | 42 | 49 | 56 | 63 |\n",
       "| 8  | 16 | 24 | 32 | 40 | 48 | 56 | 64 | 72 |\n",
       "| 9  | 18 | 27 | 36 | 45 | 54 | 63 | 72 | 81 |\n",
       "\n"
      ],
      "text/plain": [
       "      [,1] [,2] [,3] [,4] [,5] [,6] [,7] [,8] [,9]\n",
       " [1,] 1     2    3    4    5    6    7    8    9  \n",
       " [2,] 2     4    6    8   10   12   14   16   18  \n",
       " [3,] 3     6    9   12   15   18   21   24   27  \n",
       " [4,] 4     8   12   16   20   24   28   32   36  \n",
       " [5,] 5    10   15   20   25   30   35   40   45  \n",
       " [6,] 6    12   18   24   30   36   42   48   54  \n",
       " [7,] 7    14   21   28   35   42   49   56   63  \n",
       " [8,] 8    16   24   32   40   48   56   64   72  \n",
       " [9,] 9    18   27   36   45   54   63   72   81  "
      ]
     },
     "metadata": {},
     "output_type": "display_data"
    }
   ],
   "source": [
    "# 구구단?\n",
    "gugudan <- matrix(0, nrow=9, ncol=9)\n",
    "\n",
    "for(i in 1:9){\n",
    "    for(j in 1:9){\n",
    "        # 행렬 참조는 [i][j]가 아닌 [i,j]\n",
    "        gugudan[i,j] <- i * j\n",
    "    }\n",
    "}\n",
    "gugudan"
   ]
  },
  {
   "cell_type": "markdown",
   "metadata": {},
   "source": [
    "**while문**\n",
    "\n",
    "<br>\n",
    "\n",
    "- 다른 언어 while과 동일\n",
    "    - **while(조건) {반복할 문장}**\n",
    "    - **조건이 참** 일때 블록 안의 문장을 수행.\n",
    "- 마찬가지로 조건문을 통해 break를 걸어줄 수도 있음."
   ]
  },
  {
   "cell_type": "code",
   "execution_count": 22,
   "metadata": {},
   "outputs": [
    {
     "name": "stdout",
     "output_type": "stream",
     "text": [
      "1 부터 1  제곱 까지 합 =  1 \n",
      "1 부터 2  제곱 까지 합 =  5 \n",
      "1 부터 3  제곱 까지 합 =  14 \n",
      "1 부터 4  제곱 까지 합 =  30 \n",
      "1 부터 5  제곱 까지 합 =  55 \n",
      "1 부터 6  제곱 까지 합 =  91 \n",
      "1 부터 7  제곱 까지 합 =  140 \n",
      "1 부터 8  제곱 까지 합 =  204 \n",
      "1 부터 9  제곱 까지 합 =  285 \n",
      "1 부터 10  제곱 까지 합 =  385 \n",
      "1 부터 11  제곱 까지 합 =  506 \n"
     ]
    }
   ],
   "source": [
    "i <- 1\n",
    "isum <- 0\n",
    "\n",
    "while (TRUE){\n",
    "    isum <- isum + i**2\n",
    "    cat('1 부터', i, ' 제곱 까지 합 = ', isum, '\\n')\n",
    "    if (isum >= 500){\n",
    "        break\n",
    "    }\n",
    "    i <- i+1\n",
    "}"
   ]
  },
  {
   "cell_type": "markdown",
   "metadata": {},
   "source": [
    "**repeat 문**\n",
    "\n",
    "<br>\n",
    "\n",
    "- 블록 안의 문장을 반복실행. 명시된 실행 조건이 X.\n",
    "    - **repeat {반복실행할 문장}**\n",
    "    - 마찬가지로 if조건을 지정해 break를 걸어줄 수 있음.\n",
    "    "
   ]
  },
  {
   "cell_type": "code",
   "execution_count": 24,
   "metadata": {},
   "outputs": [
    {
     "data": {
      "text/html": [
       "33"
      ],
      "text/latex": [
       "33"
      ],
      "text/markdown": [
       "33"
      ],
      "text/plain": [
       "[1] 33"
      ]
     },
     "metadata": {},
     "output_type": "display_data"
    }
   ],
   "source": [
    "a <- c(23, 15, 17, 33, 45)\n",
    "i <- 1\n",
    "\n",
    "repeat {\n",
    "    # 평균을 넘어간다면 break.\n",
    "    if(a[i] > mean(a)) break\n",
    "    i <- i + 1\n",
    "}\n",
    "a[i]"
   ]
  }
 ],
 "metadata": {
  "kernelspec": {
   "display_name": "R",
   "language": "R",
   "name": "ir"
  },
  "language_info": {
   "codemirror_mode": "r",
   "file_extension": ".r",
   "mimetype": "text/x-r-source",
   "name": "R",
   "pygments_lexer": "r",
   "version": "3.6.1"
  }
 },
 "nbformat": 4,
 "nbformat_minor": 2
}

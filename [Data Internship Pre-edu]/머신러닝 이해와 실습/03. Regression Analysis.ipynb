{
 "cells": [
  {
   "cell_type": "markdown",
   "metadata": {},
   "source": [
    "**최소제곱추정?**\n",
    "\n",
    "<br>\n",
    "\n",
    "- 산점도를 통해 추세선을 찾자. **추세선과 실제 관측치의 오차가 최소**가 되도록.\n",
    "    - 거리는? 절대값 거리, 민코프스키 거리, 제곱 거리 등...\n",
    "- 오차를 나타내는 **오차함수(비용함수, Cost Function 이라고도 함)** 는 어떻게 정의할까?\n",
    "    - 말 그대로 **'실제 관측치 - 예측치 (이론치)'** 로 정의. 일반적인 형태는 다음처럼.\n",
    "    $$\\sum_i (y-y_i)^2$$"
   ]
  },
  {
   "cell_type": "markdown",
   "metadata": {},
   "source": [
    "**회귀분석?**\n",
    "\n",
    "<br>\n",
    "\n",
    "- 수치형 데이터를 예측하는 지도학습. (선형회귀분석)\n",
    "    - 범주형 예측, 이산형 예측 또한 가능.\n",
    "- 데이터를 잘 적합한다? 비용함수를 최소로 만드는 그래프를 구하는 것.\n",
    "    - 비용함수가 최소가 되는 방향으로 움직이는 모델을 찾는 것.\n",
    "    - 즉, 최소제곱추정 을 이용해 회귀 모형을 찾아감.\n",
    "\n",
    "$$y = f(x)$$\n",
    "\n",
    " - y : 예측값, 반응변수, 종속변수\n",
    " - x : 관측값, 설명변수, 독립변수 \n",
    "\n",
    "- 대부분은 y가 x의 1차식으로 이뤄진 회귀모형. 단순 or 다중.\n",
    "    - 일반적인 비즈니스 분야에선 x가 2개 이상인 다중 선형모형이 많음."
   ]
  },
  {
   "cell_type": "markdown",
   "metadata": {},
   "source": [
    "**회귀모형의 평가?**\n",
    "\n",
    "<br>\n",
    "\n",
    "- 일반적으론 결정계수 ($R^2$-square)로 판단. **모형이 데이터를 얼마나 잘 설명하는지** 나타내는 지수.\n",
    "    - 보통 **0.7 이상이면 쓸만한 모형**이라고 볼 수 있음.\n",
    "- F-value & p-value : **회귀 모형의 신뢰도를 통계적으로 평가**하기 위해 사용.\n",
    "    - F-value가 **클수록 모델의 신뢰도는 높다**고 볼 수 있음. **회귀모형의 신뢰성을 평가하는 수치**.\n",
    "    - p-value는 **0.05나 0.01보다 작아야 안정된 모형**이라 볼 수 있음.\n",
    "        - **한쪽이 커지면 한쪽이 작아짐.**\n",
    "- t-value : 회귀 모형의 **계수 신뢰도를 평가**하기 위해 사용."
   ]
  },
  {
   "cell_type": "code",
   "execution_count": 9,
   "metadata": {},
   "outputs": [],
   "source": [
    "%matplotlib inline\n",
    "import matplotlib.pyplot as plt\n",
    "import numpy as np\n",
    "import pandas as pd\n",
    "from sklearn.linear_model import LinearRegression\n",
    "\n",
    "# Data loading\n",
    "h_stock = pd.read_csv('UseData/H_stock.csv')\n",
    "s_stock = pd.read_csv('UseData/S_stock.csv')\n",
    "k_index = pd.read_csv('UseData/K_index.csv')"
   ]
  },
  {
   "cell_type": "code",
   "execution_count": 10,
   "metadata": {},
   "outputs": [
    {
     "name": "stdout",
     "output_type": "stream",
     "text": [
      "<bound method NDFrame.head of            date  h_price  h_rate\n",
      "0    2015-03-25    45500     NaN\n",
      "1    2015-03-26    45900   0.879\n",
      "2    2015-03-27    45000  -1.961\n",
      "3    2015-03-30    45600   1.333\n",
      "4    2015-03-31    46000   0.877\n",
      "..          ...      ...     ...\n",
      "244  2016-03-21    60100   0.839\n",
      "245  2016-03-22    59200  -1.498\n",
      "246  2016-03-23    58900  -0.507\n",
      "247  2016-03-24    59300   0.679\n",
      "248  2016-03-25    59300   0.000\n",
      "\n",
      "[249 rows x 3 columns]>\n",
      "<bound method NDFrame.head of            date  s_price  s_rate\n",
      "0    2015-03-25  1485000     NaN\n",
      "1    2015-03-26  1421000  -4.310\n",
      "2    2015-03-27  1421000   0.000\n",
      "3    2015-03-30  1428000   0.493\n",
      "4    2015-03-31  1441000   0.910\n",
      "..          ...      ...     ...\n",
      "244  2016-03-21  1267000  -0.471\n",
      "245  2016-03-22  1269000   0.158\n",
      "246  2016-03-23  1279000   0.788\n",
      "247  2016-03-24  1282000   0.235\n",
      "248  2016-03-25  1288000   0.468\n",
      "\n",
      "[249 rows x 3 columns]>\n",
      "<bound method NDFrame.head of            date    kospi  k_rate\n",
      "0    2015-03-25  2042.81     NaN\n",
      "1    2015-03-26  2022.56  -0.991\n",
      "2    2015-03-27  2019.80  -0.136\n",
      "3    2015-03-30  2030.04   0.507\n",
      "4    2015-03-31  2041.03   0.541\n",
      "..          ...      ...     ...\n",
      "244  2016-03-21  1989.76  -0.118\n",
      "245  2016-03-22  1996.81   0.354\n",
      "246  2016-03-23  1995.12  -0.085\n",
      "247  2016-03-24  1985.97  -0.459\n",
      "248  2016-03-25  1983.81  -0.109\n",
      "\n",
      "[249 rows x 3 columns]>\n"
     ]
    }
   ],
   "source": [
    "# 불러온 데이터 둘러보기\n",
    "print(h_stock.head)\n",
    "print(s_stock.head)\n",
    "print(k_index.head)"
   ]
  },
  {
   "cell_type": "code",
   "execution_count": 11,
   "metadata": {},
   "outputs": [
    {
     "name": "stdout",
     "output_type": "stream",
     "text": [
      "(248,)\n",
      "(248,)\n",
      "(248,)\n"
     ]
    }
   ],
   "source": [
    "# 헤더 정보 제거\n",
    "h_rate = np.array(h_stock.h_rate[1:])\n",
    "s_rate = np.array(s_stock.s_rate[1:])\n",
    "k_rate = np.array(k_index.k_rate[1:])\n",
    "\n",
    "# 제거 후 데이터 확인\n",
    "print(h_rate.shape)\n",
    "print(s_rate.shape)\n",
    "print(k_rate.shape)"
   ]
  },
  {
   "cell_type": "code",
   "execution_count": 12,
   "metadata": {},
   "outputs": [
    {
     "data": {
      "text/plain": [
       "<matplotlib.collections.PathCollection at 0x212f5a54e48>"
      ]
     },
     "execution_count": 12,
     "metadata": {},
     "output_type": "execute_result"
    },
    {
     "data": {
      "image/png": "[encoded data removed]",
      "text/plain": [
       "<Figure size 432x288 with 1 Axes>"
      ]
     },
     "metadata": {
      "needs_background": "light"
     },
     "output_type": "display_data"
    }
   ],
   "source": [
    "# 회귀 모형으로 학습시키기 위해 차원 조정\n",
    "# (248,) --> (248, 1)\n",
    "h_rate = h_rate.reshape(h_rate.shape[0], 1)\n",
    "s_rate = s_rate.reshape(s_rate.shape[0], 1)\n",
    "k_rate = k_rate.reshape(k_rate.shape[0], 1)\n",
    "\n",
    "# 차원조정 후 어떻게 생겼는지 확인해보자.\n",
    "plt.scatter(k_rate, h_rate, c='black', s=30, marker='v', label='train')"
   ]
  },
  {
   "cell_type": "code",
   "execution_count": 15,
   "metadata": {},
   "outputs": [
    {
     "name": "stdout",
     "output_type": "stream",
     "text": [
      "기울기 :  [[0.63482159]]\n",
      "절편 :  [0.12628453]\n",
      "결정계수 :  0.1064571423759525\n"
     ]
    },
    {
     "data": {
      "image/png": "[encoded data removed]",
      "text/plain": [
       "<Figure size 432x288 with 1 Axes>"
      ]
     },
     "metadata": {
      "needs_background": "light"
     },
     "output_type": "display_data"
    }
   ],
   "source": [
    "# 모형 학습\n",
    "model = LinearRegression()\n",
    "model.fit(k_rate, h_rate)\n",
    "\n",
    "# 학습한 모형이 데이터를 어떻게 fit 했는지 확인해보자.\n",
    "plt.scatter(k_rate, h_rate, c='black', s=30, marker='v', label='train')\n",
    "plt.plot(k_rate, model.predict(k_rate), linestyle='-.', label='h stock', c='red')\n",
    "\n",
    "# 모형의 계수, 결정계수 확인?\n",
    "print('기울기 : ', model.coef_)\n",
    "print('절편 : ', model.intercept_)\n",
    "print('결정계수 : ', model.score(k_rate, h_rate))"
   ]
  },
  {
   "cell_type": "markdown",
   "metadata": {},
   "source": [
    "    k_rate(코스피 지수)가 증가하면 h_rate(H사의 주가)도 전반적으로 증가함을 볼 수 있다.\n",
    "    \n",
    "    설명력은 그닥."
   ]
  },
  {
   "cell_type": "code",
   "execution_count": 18,
   "metadata": {},
   "outputs": [
    {
     "name": "stdout",
     "output_type": "stream",
     "text": [
      "기울기 :  [[1.00132771]]\n",
      "절편 :  [-0.03500143]\n",
      "결정계수 :  0.2644483831226938\n"
     ]
    },
    {
     "data": {
      "image/png": "[encoded data removed]",
      "text/plain": [
       "<Figure size 432x288 with 1 Axes>"
      ]
     },
     "metadata": {
      "needs_background": "light"
     },
     "output_type": "display_data"
    }
   ],
   "source": [
    "# 또다른 모형 학습\n",
    "model2 = LinearRegression()\n",
    "model2.fit(k_rate, s_rate)\n",
    "\n",
    "# plot을 통해 fit 확인\n",
    "plt.scatter(k_rate, s_rate, c='black', s=30, marker='x', label='train')\n",
    "plt.plot(k_rate, model.predict(k_rate), linestyle='-.', label='h stock', c='red')\n",
    "\n",
    "print('기울기 : ', model2.coef_)\n",
    "print('절편 : ', model2.intercept_)\n",
    "print('결정계수 : ', model2.score(k_rate, s_rate))"
   ]
  },
  {
   "cell_type": "markdown",
   "metadata": {},
   "source": [
    "**비선형 회귀모형은 어떻게?**"
   ]
  },
  {
   "cell_type": "code",
   "execution_count": 20,
   "metadata": {},
   "outputs": [
    {
     "name": "stdout",
     "output_type": "stream",
     "text": [
      "(1000, 1)\n",
      "(1000, 1)\n"
     ]
    }
   ],
   "source": [
    "%matplotlib inline\n",
    "import matplotlib.pyplot as plt\n",
    "import numpy as np\n",
    "from sklearn.linear_model import LinearRegression\n",
    "\n",
    "# 2차 회귀모형을 위한 임의 데이터 생성.\n",
    "x_train = np.arange(-10, 10, 1 / 50.).reshape(-1, 1)\n",
    "print(x_train.shape)\n",
    "x_train2 = x_train**2 + np.random.randn(len(x_train), 1) * 30\n",
    "print(x_train2.shape)"
   ]
  },
  {
   "cell_type": "code",
   "execution_count": 21,
   "metadata": {},
   "outputs": [
    {
     "data": {
      "text/plain": [
       "<matplotlib.collections.PathCollection at 0x212f5ce5198>"
      ]
     },
     "execution_count": 21,
     "metadata": {},
     "output_type": "execute_result"
    },
    {
     "data": {
      "image/png": "[encoded data removed]",
      "text/plain": [
       "<Figure size 432x288 with 1 Axes>"
      ]
     },
     "metadata": {
      "needs_background": "light"
     },
     "output_type": "display_data"
    }
   ],
   "source": [
    "# 만든 데이터는 어떻게 생겼을까.\n",
    "plt.scatter(x_train, x_train2, c='black', s=36, marker='x', label='sample')"
   ]
  },
  {
   "cell_type": "code",
   "execution_count": 22,
   "metadata": {},
   "outputs": [
    {
     "data": {
      "text/plain": [
       "(1000, 2)"
      ]
     },
     "execution_count": 22,
     "metadata": {},
     "output_type": "execute_result"
    }
   ],
   "source": [
    "# 모형에 넣기 위한 훈련용 data 생성\n",
    "X2_TRAIN = np.c_[x_train**2, x_train]\n",
    "X2_TRAIN.shape"
   ]
  },
  {
   "cell_type": "markdown",
   "metadata": {},
   "source": [
    "    여기서 np.c_ 는 두 개의 1차원 배열을 칼럼으로 세로로 붙여 2차원 배열을 만드는 방법.\n",
    "    \n",
    "    https://rfriend.tistory.com/352"
   ]
  },
  {
   "cell_type": "code",
   "execution_count": 25,
   "metadata": {},
   "outputs": [
    {
     "name": "stdout",
     "output_type": "stream",
     "text": [
      "회귀계수 :  [[1.0078489  0.03722474]]\n",
      "절편 :  [-0.37285346]\n",
      "결정 계수 :  0.5041039460505303\n"
     ]
    },
    {
     "data": {
      "image/png": "[encoded data removed]",
      "text/plain": [
       "<Figure size 432x288 with 1 Axes>"
      ]
     },
     "metadata": {
      "needs_background": "light"
     },
     "output_type": "display_data"
    }
   ],
   "source": [
    "# 모델 생성 및 훈련\n",
    "model = LinearRegression()\n",
    "model.fit(X2_TRAIN, x_train2)\n",
    "\n",
    "# 어떻게 예측했는지 확인\n",
    "plt.scatter(x_train, x_train2, c='black', s=36, marker='x', label='sample')\n",
    "plt.plot(x_train, model.predict(X2_TRAIN), linestyle='-.', label='sample', c='red')\n",
    "\n",
    "print('회귀계수 : ', model.coef_)\n",
    "print('절편 : ', model.intercept_)\n",
    "print('결정 계수 : ', model.score(X2_TRAIN, x_train2))"
   ]
  },
  {
   "cell_type": "markdown",
   "metadata": {},
   "source": [
    "## 당뇨병 데이터 예제"
   ]
  },
  {
   "cell_type": "code",
   "execution_count": 39,
   "metadata": {},
   "outputs": [],
   "source": [
    "from sklearn import datasets\n",
    "from sklearn.linear_model import LinearRegression\n",
    "from sklearn.metrics import mean_squared_error, r2_score\n",
    "from sklearn.model_selection import train_test_split\n",
    "from sklearn.preprocessing import normalize\n",
    "\n",
    "# Dataset loading\n",
    "data = datasets.load_diabetes()"
   ]
  },
  {
   "cell_type": "code",
   "execution_count": 40,
   "metadata": {},
   "outputs": [
    {
     "name": "stdout",
     "output_type": "stream",
     "text": [
      "(442, 10)\n",
      "[[ 0.03807591  0.05068012  0.06169621 ... -0.00259226  0.01990842\n",
      "  -0.01764613]\n",
      " [-0.00188202 -0.04464164 -0.05147406 ... -0.03949338 -0.06832974\n",
      "  -0.09220405]\n",
      " [ 0.08529891  0.05068012  0.04445121 ... -0.00259226  0.00286377\n",
      "  -0.02593034]\n",
      " ...\n",
      " [ 0.04170844  0.05068012 -0.01590626 ... -0.01107952 -0.04687948\n",
      "   0.01549073]\n",
      " [-0.04547248 -0.04464164  0.03906215 ...  0.02655962  0.04452837\n",
      "  -0.02593034]\n",
      " [-0.04547248 -0.04464164 -0.0730303  ... -0.03949338 -0.00421986\n",
      "   0.00306441]]\n",
      "442\n",
      ".. _diabetes_dataset:\n",
      "\n",
      "Diabetes dataset\n",
      "----------------\n",
      "\n",
      "Ten baseline variables, age, sex, body mass index, average blood\n",
      "pressure, and six blood serum measurements were obtained for each of n =\n",
      "442 diabetes patients, as well as the response of interest, a\n",
      "quantitative measure of disease progression one year after baseline.\n",
      "\n",
      "**Data Set Characteristics:**\n",
      "\n",
      "  :Number of Instances: 442\n",
      "\n",
      "  :Number of Attributes: First 10 columns are numeric predictive values\n",
      "\n",
      "  :Target: Column 11 is a quantitative measure of disease progression one year after baseline\n",
      "\n",
      "  :Attribute Information:\n",
      "      - age     age in years\n",
      "      - sex\n",
      "      - bmi     body mass index\n",
      "      - bp      average blood pressure\n",
      "      - s1      tc, total serum cholesterol\n",
      "      - s2      ldl, low-density lipoproteins\n",
      "      - s3      hdl, high-density lipoproteins\n",
      "      - s4      tch, total cholesterol / HDL\n",
      "      - s5      ltg, possibly log of serum triglycerides level\n",
      "      - s6      glu, blood sugar level\n",
      "\n",
      "Note: Each of these 10 feature variables have been mean centered and scaled by the standard deviation times `n_samples` (i.e. the sum of squares of each column totals 1).\n",
      "\n",
      "Source URL:\n",
      "https://www4.stat.ncsu.edu/~boos/var.select/diabetes.html\n",
      "\n",
      "For more information see:\n",
      "Bradley Efron, Trevor Hastie, Iain Johnstone and Robert Tibshirani (2004) \"Least Angle Regression,\" Annals of Statistics (with discussion), 407-499.\n",
      "(https://web.stanford.edu/~hastie/Papers/LARS/LeastAngle_2002.pdf)\n",
      "['age', 'sex', 'bmi', 'bp', 's1', 's2', 's3', 's4', 's5', 's6']\n"
     ]
    }
   ],
   "source": [
    "# 데이터는 어떻게 생겼을까.\n",
    "print(data.data.shape)\n",
    "print(data.data)\n",
    "print(len(data.data))\n",
    "\n",
    "print(data.DESCR)\n",
    "print(data.feature_names)"
   ]
  },
  {
   "cell_type": "code",
   "execution_count": 52,
   "metadata": {},
   "outputs": [
    {
     "name": "stdout",
     "output_type": "stream",
     "text": [
      "(353, 10)\n",
      "(89, 10)\n",
      "(353,)\n",
      "(89,)\n"
     ]
    },
    {
     "data": {
      "text/plain": [
       "LinearRegression()"
      ]
     },
     "execution_count": 52,
     "metadata": {},
     "output_type": "execute_result"
    }
   ],
   "source": [
    "# 훈련을 위한 데이터 나누기\n",
    "X, Y = normalize(data['data']), data['target']\n",
    "X_train, X_test, Y_train, Y_test = train_test_split(X, Y, test_size=.2)\n",
    "print(X_train.shape)\n",
    "print(X_test.shape)\n",
    "print(Y_train.shape)\n",
    "print(Y_test.shape)\n",
    "\n",
    "# 모델 생성 및 훈련\n",
    "model = LinearRegression()\n",
    "model.fit(X_train, Y_train)"
   ]
  },
  {
   "cell_type": "code",
   "execution_count": 53,
   "metadata": {},
   "outputs": [
    {
     "data": {
      "text/plain": [
       "array([124.74623012,  84.44645686, 136.53771369,  80.59843611,\n",
       "       217.01895832, 197.22452078, 108.21978702, 232.51913143,\n",
       "       117.65903461,  88.88501837, 269.09451916,  84.03995639,\n",
       "       244.03435168, 230.61071416, 132.61734109, 100.19389114,\n",
       "       153.96584776,  99.227206  , 178.50940038, 182.35834721,\n",
       "       110.57264065, 207.08515076, 194.77258432, 208.3338501 ,\n",
       "       180.2026081 ,  90.32782301, 157.79517542, 121.87193432,\n",
       "       177.80275451, 176.16362391, 139.66479252, 134.07176703,\n",
       "       198.79758886, 114.39538714,  86.91136335,  82.03298313,\n",
       "       163.46650688, 109.61532571, 111.67204986, 185.90016526,\n",
       "       162.22216263, 204.84600904, 112.70898587, 214.72534679,\n",
       "       187.75158624, 123.98638606, 109.7334721 , 150.62933781,\n",
       "       142.07607804, 113.51501841, 121.34793821, 230.7295474 ,\n",
       "       198.00987774, 167.72325158, 125.74349013, 209.12130214,\n",
       "       172.99284582,  87.84772693, 191.32238163, 196.74694561,\n",
       "        98.65420748, 164.81206555,  66.78398325,  68.39195517,\n",
       "       237.98850518, 109.7432473 , 101.21638426, 139.29249411,\n",
       "       175.38073663, 196.91412938, 225.31850184, 193.31709849,\n",
       "        79.03516226,  84.29365754, 131.77959141, 242.33697316,\n",
       "       132.66283332, 235.41250824, 247.29998251, 118.27469926,\n",
       "       102.20848269, 107.18860877, 166.10418993, 148.87148954,\n",
       "       221.95639899, 227.93142161,  87.21655468, 134.06983775,\n",
       "       214.87410196])"
      ]
     },
     "execution_count": 53,
     "metadata": {},
     "output_type": "execute_result"
    }
   ],
   "source": [
    "# 예측값 확인?\n",
    "Y_pred = model.predict(X_test)\n",
    "Y_pred"
   ]
  },
  {
   "cell_type": "code",
   "execution_count": 54,
   "metadata": {},
   "outputs": [
    {
     "name": "stdout",
     "output_type": "stream",
     "text": [
      "회귀 계수 :  [ -1.56858488 -22.81670227  77.27922725  45.50245319 -49.86980105\n",
      "  12.52670293   2.54352633  37.12322271  86.90635027  15.53610582]\n",
      "결정 계수 : 0.542\n"
     ]
    }
   ],
   "source": [
    "# 스코어, 계수는 어떻게 표현됐을까\n",
    "print('회귀 계수 : ', model.coef_)\n",
    "print('결정 계수 : %.3f' % r2_score(Y_test, Y_pred))\n",
    "\n",
    "# 그래프로 한번 확인해보자. 음 형태가 다른뎅\n",
    "# plt.scatter(X_test, Y_test, color='black')\n",
    "# plt.plot(X_test, Y_pred, color='blue', linewidth=3)\n",
    "# plt.xticks(())\n",
    "# plt.yticks(())\n",
    "# plt.show()"
   ]
  }
 ],
 "metadata": {
  "kernelspec": {
   "display_name": "Python 3",
   "language": "python",
   "name": "python3"
  },
  "language_info": {
   "codemirror_mode": {
    "name": "ipython",
    "version": 3
   },
   "file_extension": ".py",
   "mimetype": "text/x-python",
   "name": "python",
   "nbconvert_exporter": "python",
   "pygments_lexer": "ipython3",
   "version": "3.7.1"
  }
 },
 "nbformat": 4,
 "nbformat_minor": 2
}

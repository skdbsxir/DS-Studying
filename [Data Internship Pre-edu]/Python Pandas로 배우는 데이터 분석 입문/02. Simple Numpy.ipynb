{
 "cells": [
  {
   "cell_type": "code",
   "execution_count": 1,
   "metadata": {},
   "outputs": [],
   "source": [
    "import numpy as np"
   ]
  },
  {
   "cell_type": "code",
   "execution_count": 3,
   "metadata": {},
   "outputs": [
    {
     "data": {
      "text/plain": [
       "array([1, 2, 3, 4])"
      ]
     },
     "execution_count": 3,
     "metadata": {},
     "output_type": "execute_result"
    }
   ],
   "source": [
    "a1 = np.array([1,2,3,4])\n",
    "a1"
   ]
  },
  {
   "cell_type": "code",
   "execution_count": 6,
   "metadata": {},
   "outputs": [
    {
     "data": {
      "text/plain": [
       "array([[ 1,  2,  3,  4],\n",
       "       [11, 12, 13, 14]])"
      ]
     },
     "execution_count": 6,
     "metadata": {},
     "output_type": "execute_result"
    }
   ],
   "source": [
    "a2 = np.array([[1,2,3,4], [11,12,13,14]])\n",
    "a2"
   ]
  },
  {
   "cell_type": "code",
   "execution_count": 7,
   "metadata": {
    "scrolled": true
   },
   "outputs": [
    {
     "data": {
      "text/plain": [
       "array([[[ 1,  2,  3,  4],\n",
       "        [11, 12, 13, 14]],\n",
       "\n",
       "       [[21, 22, 23, 24],\n",
       "        [31, 32, 33, 34]]])"
      ]
     },
     "execution_count": 7,
     "metadata": {},
     "output_type": "execute_result"
    }
   ],
   "source": [
    "a3 = np.array([[[1,2,3,4],[11,12,13,14]], [[21,22,23,24],[31,32,33,34]]])\n",
    "a3"
   ]
  },
  {
   "cell_type": "code",
   "execution_count": 9,
   "metadata": {},
   "outputs": [
    {
     "name": "stdout",
     "output_type": "stream",
     "text": [
      "(4,)\n",
      "(2, 4)\n",
      "(2, 2, 4)\n"
     ]
    }
   ],
   "source": [
    "print(a1.shape)\n",
    "print(a2.shape)\n",
    "print(a3.shape)"
   ]
  },
  {
   "cell_type": "code",
   "execution_count": 11,
   "metadata": {},
   "outputs": [],
   "source": [
    "z = np.zeros([4]) # 0으로 채운 배열\n",
    "o = np.ones([3,4]) # 1로 채운 배열\n",
    "r = np.random.randn(2,3) # 2*3 크기의 정규난수 배열 생성"
   ]
  },
  {
   "cell_type": "code",
   "execution_count": 12,
   "metadata": {},
   "outputs": [
    {
     "data": {
      "text/plain": [
       "(array([0., 0., 0., 0.]), array([[1., 1., 1., 1.],\n",
       "        [1., 1., 1., 1.],\n",
       "        [1., 1., 1., 1.]]), array([[ 0.3847274 , -0.60333533,  1.04625852],\n",
       "        [ 0.39561722,  0.83088449, -1.4505872 ]]))"
      ]
     },
     "execution_count": 12,
     "metadata": {},
     "output_type": "execute_result"
    }
   ],
   "source": [
    "z, o, r"
   ]
  },
  {
   "cell_type": "code",
   "execution_count": 13,
   "metadata": {},
   "outputs": [
    {
     "data": {
      "text/plain": [
       "array([[[[ 0.357,  0.488, -0.985,  1.329,  1.424],\n",
       "         [-0.306, -0.441,  1.1  , -0.211,  0.814],\n",
       "         [ 0.294, -0.771,  0.153, -1.604,  0.155],\n",
       "         [ 0.107,  1.048, -1.132, -1.931, -0.465]],\n",
       "\n",
       "        [[ 0.252, -0.056,  1.52 ,  0.981,  0.757],\n",
       "         [-0.824,  0.508, -0.426, -0.749,  0.041],\n",
       "         [-0.313, -0.03 ,  1.093, -0.974,  0.703],\n",
       "         [-0.673,  1.015, -0.738,  1.576, -0.536]]],\n",
       "\n",
       "\n",
       "       [[[ 0.246,  0.319,  0.077, -0.26 ,  0.285],\n",
       "         [-0.968, -1.463,  0.051, -0.824, -0.637],\n",
       "         [ 0.135,  0.166,  0.631, -0.082,  0.709],\n",
       "         [-0.355,  0.403, -0.961, -0.59 , -0.118]],\n",
       "\n",
       "        [[ 2.303, -1.471, -0.866, -0.854,  1.577],\n",
       "         [ 0.606,  0.701, -1.253, -0.097, -0.12 ],\n",
       "         [ 1.038,  0.853,  1.914,  0.176, -0.611],\n",
       "         [ 0.793, -0.441,  1.667,  0.358,  0.846]]]])"
      ]
     },
     "execution_count": 13,
     "metadata": {},
     "output_type": "execute_result"
    }
   ],
   "source": [
    "r4 = np.random.randn(2,2,4,5).round(3) # 임의의 4차원 배열 생성\n",
    "r4"
   ]
  },
  {
   "cell_type": "code",
   "execution_count": 14,
   "metadata": {},
   "outputs": [
    {
     "data": {
      "text/plain": [
       "array([[ 0.246,  0.319,  0.077, -0.26 ,  0.285],\n",
       "       [-0.968, -1.463,  0.051, -0.824, -0.637],\n",
       "       [ 0.135,  0.166,  0.631, -0.082,  0.709],\n",
       "       [-0.355,  0.403, -0.961, -0.59 , -0.118]])"
      ]
     },
     "execution_count": 14,
     "metadata": {},
     "output_type": "execute_result"
    }
   ],
   "source": [
    "r4[1][0] # 2번째 큰 배열에서 첫번째 배열 선택"
   ]
  },
  {
   "cell_type": "code",
   "execution_count": 15,
   "metadata": {},
   "outputs": [
    {
     "data": {
      "text/plain": [
       "array([ 0.135,  0.166,  0.631, -0.082,  0.709])"
      ]
     },
     "execution_count": 15,
     "metadata": {},
     "output_type": "execute_result"
    }
   ],
   "source": [
    "r4[1][0][2] # 2번째 큰 배열에서 첫번째 배열 선택, 거기서 세번째 행 선택"
   ]
  },
  {
   "cell_type": "code",
   "execution_count": 16,
   "metadata": {},
   "outputs": [
    {
     "data": {
      "text/plain": [
       "0.709"
      ]
     },
     "execution_count": 16,
     "metadata": {},
     "output_type": "execute_result"
    }
   ],
   "source": [
    "r4[1][0][2][4] # 2번째 큰 배열에서 첫번째 배열 선택, 세번째 행의 5번째 원소 선택"
   ]
  },
  {
   "cell_type": "code",
   "execution_count": 17,
   "metadata": {},
   "outputs": [
    {
     "data": {
      "text/plain": [
       "array([[ 0.246,  0.319,  0.077, -0.26 ,  0.285],\n",
       "       [ 0.135,  0.166,  0.631, -0.082,  0.709]])"
      ]
     },
     "execution_count": 17,
     "metadata": {},
     "output_type": "execute_result"
    }
   ],
   "source": [
    "r4[1][0][0:4:2] # 2번째 큰 배열에서 첫번째 배열 선택, slicing써서 1,3번째 행 선택"
   ]
  },
  {
   "cell_type": "code",
   "execution_count": null,
   "metadata": {},
   "outputs": [],
   "source": []
  }
 ],
 "metadata": {
  "kernelspec": {
   "display_name": "Python 3",
   "language": "python",
   "name": "python3"
  },
  "language_info": {
   "codemirror_mode": {
    "name": "ipython",
    "version": 3
   },
   "file_extension": ".py",
   "mimetype": "text/x-python",
   "name": "python",
   "nbconvert_exporter": "python",
   "pygments_lexer": "ipython3",
   "version": "3.7.1"
  }
 },
 "nbformat": 4,
 "nbformat_minor": 2
}

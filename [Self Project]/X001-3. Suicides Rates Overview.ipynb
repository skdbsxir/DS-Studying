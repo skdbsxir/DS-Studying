{
 "cells": [
  {
   "cell_type": "markdown",
   "metadata": {},
   "source": [
    "**시계열 자료.**\n",
    "\n",
    "<br>\n",
    "\n",
    "## Todo List (큰 주제로 보면)\n",
    "\n",
    "<br>\n",
    "\n",
    "- 연도별 추세 확인? 시각화로. --> X001-2 에서 진행해봄.\n",
    "- 연도별 자살률 확인?\n",
    "    - 이 자살률을 나이/세대/성별 로 구분해서 시각화."
   ]
  },
  {
   "cell_type": "code",
   "execution_count": 1,
   "metadata": {},
   "outputs": [],
   "source": [
    "import numpy as np\n",
    "import pandas as pd\n",
    "import warnings\n",
    "import matplotlib.pyplot as plt\n",
    "import seaborn as sns\n",
    "\n",
    "%matplotlib inline\n",
    "warnings.filterwarnings('ignore')\n",
    "\n",
    "plt.style.use('ggplot')"
   ]
  },
  {
   "cell_type": "code",
   "execution_count": 3,
   "metadata": {},
   "outputs": [],
   "source": [
    "# data loading\n",
    "# df = pd.read_csv('C:\\\\Users\\\\user\\\\Desktop\\\\todoData\\\\fixed_suicide_3.csv')\n",
    "df = pd.read_csv('C:\\\\Users\\\\skdbs\\\\Desktop\\\\todoData\\\\fixed_suicide_3.csv')"
   ]
  },
  {
   "cell_type": "code",
   "execution_count": 4,
   "metadata": {},
   "outputs": [
    {
     "data": {
      "text/html": [
       "<div>\n",
       "<style scoped>\n",
       "    .dataframe tbody tr th:only-of-type {\n",
       "        vertical-align: middle;\n",
       "    }\n",
       "\n",
       "    .dataframe tbody tr th {\n",
       "        vertical-align: top;\n",
       "    }\n",
       "\n",
       "    .dataframe thead th {\n",
       "        text-align: right;\n",
       "    }\n",
       "</style>\n",
       "<table border=\"1\" class=\"dataframe\">\n",
       "  <thead>\n",
       "    <tr style=\"text-align: right;\">\n",
       "      <th></th>\n",
       "      <th>Unnamed: 0</th>\n",
       "      <th>country</th>\n",
       "      <th>year</th>\n",
       "      <th>sex</th>\n",
       "      <th>age</th>\n",
       "      <th>suicides_no</th>\n",
       "      <th>population</th>\n",
       "      <th>suicides/100k pop</th>\n",
       "      <th>country-year</th>\n",
       "      <th>HDI_for_year</th>\n",
       "      <th>gdp_for_year_($)</th>\n",
       "      <th>gdp_per_capita_($)</th>\n",
       "      <th>generation</th>\n",
       "    </tr>\n",
       "  </thead>\n",
       "  <tbody>\n",
       "    <tr>\n",
       "      <th>0</th>\n",
       "      <td>0</td>\n",
       "      <td>Germany</td>\n",
       "      <td>1990</td>\n",
       "      <td>male</td>\n",
       "      <td>75+ years</td>\n",
       "      <td>1516</td>\n",
       "      <td>1717700</td>\n",
       "      <td>88.26</td>\n",
       "      <td>Germany1990</td>\n",
       "      <td>0.801</td>\n",
       "      <td>1,764,967,948,917</td>\n",
       "      <td>23546</td>\n",
       "      <td>G.I. Generation</td>\n",
       "    </tr>\n",
       "    <tr>\n",
       "      <th>1</th>\n",
       "      <td>1</td>\n",
       "      <td>Germany</td>\n",
       "      <td>1990</td>\n",
       "      <td>male</td>\n",
       "      <td>55-74 years</td>\n",
       "      <td>2406</td>\n",
       "      <td>6593100</td>\n",
       "      <td>36.49</td>\n",
       "      <td>Germany1990</td>\n",
       "      <td>0.801</td>\n",
       "      <td>1,764,967,948,917</td>\n",
       "      <td>23546</td>\n",
       "      <td>G.I. Generation</td>\n",
       "    </tr>\n",
       "    <tr>\n",
       "      <th>2</th>\n",
       "      <td>2</td>\n",
       "      <td>Germany</td>\n",
       "      <td>1990</td>\n",
       "      <td>male</td>\n",
       "      <td>35-54 years</td>\n",
       "      <td>3302</td>\n",
       "      <td>11127100</td>\n",
       "      <td>29.68</td>\n",
       "      <td>Germany1990</td>\n",
       "      <td>0.801</td>\n",
       "      <td>1,764,967,948,917</td>\n",
       "      <td>23546</td>\n",
       "      <td>Silent</td>\n",
       "    </tr>\n",
       "    <tr>\n",
       "      <th>3</th>\n",
       "      <td>3</td>\n",
       "      <td>Germany</td>\n",
       "      <td>1990</td>\n",
       "      <td>female</td>\n",
       "      <td>75+ years</td>\n",
       "      <td>1174</td>\n",
       "      <td>3978800</td>\n",
       "      <td>29.51</td>\n",
       "      <td>Germany1990</td>\n",
       "      <td>0.801</td>\n",
       "      <td>1,764,967,948,917</td>\n",
       "      <td>23546</td>\n",
       "      <td>G.I. Generation</td>\n",
       "    </tr>\n",
       "    <tr>\n",
       "      <th>4</th>\n",
       "      <td>4</td>\n",
       "      <td>Germany</td>\n",
       "      <td>1990</td>\n",
       "      <td>male</td>\n",
       "      <td>25-34 years</td>\n",
       "      <td>1488</td>\n",
       "      <td>6721200</td>\n",
       "      <td>22.14</td>\n",
       "      <td>Germany1990</td>\n",
       "      <td>0.801</td>\n",
       "      <td>1,764,967,948,917</td>\n",
       "      <td>23546</td>\n",
       "      <td>Boomers</td>\n",
       "    </tr>\n",
       "  </tbody>\n",
       "</table>\n",
       "</div>"
      ],
      "text/plain": [
       "   Unnamed: 0  country  year     sex          age  suicides_no  population  \\\n",
       "0           0  Germany  1990    male    75+ years         1516     1717700   \n",
       "1           1  Germany  1990    male  55-74 years         2406     6593100   \n",
       "2           2  Germany  1990    male  35-54 years         3302    11127100   \n",
       "3           3  Germany  1990  female    75+ years         1174     3978800   \n",
       "4           4  Germany  1990    male  25-34 years         1488     6721200   \n",
       "\n",
       "   suicides/100k pop country-year  HDI_for_year   gdp_for_year_($)  \\\n",
       "0              88.26  Germany1990         0.801  1,764,967,948,917   \n",
       "1              36.49  Germany1990         0.801  1,764,967,948,917   \n",
       "2              29.68  Germany1990         0.801  1,764,967,948,917   \n",
       "3              29.51  Germany1990         0.801  1,764,967,948,917   \n",
       "4              22.14  Germany1990         0.801  1,764,967,948,917   \n",
       "\n",
       "   gdp_per_capita_($)       generation  \n",
       "0               23546  G.I. Generation  \n",
       "1               23546  G.I. Generation  \n",
       "2               23546           Silent  \n",
       "3               23546  G.I. Generation  \n",
       "4               23546          Boomers  "
      ]
     },
     "execution_count": 4,
     "metadata": {},
     "output_type": "execute_result"
    }
   ],
   "source": [
    "df.head()"
   ]
  },
  {
   "cell_type": "code",
   "execution_count": 5,
   "metadata": {},
   "outputs": [],
   "source": [
    "# 불필요한 컬럼 삭제\n",
    "dropList = ['Unnamed: 0', 'country-year']\n",
    "df = df.drop(columns=dropList)"
   ]
  },
  {
   "cell_type": "code",
   "execution_count": 6,
   "metadata": {},
   "outputs": [
    {
     "data": {
      "text/plain": [
       "Index(['country', 'year', 'sex', 'age', 'suicides_no', 'population',\n",
       "       'suicides/100k pop', 'HDI_for_year', 'gdp_for_year_($)',\n",
       "       'gdp_per_capita_($)', 'generation'],\n",
       "      dtype='object')"
      ]
     },
     "execution_count": 6,
     "metadata": {},
     "output_type": "execute_result"
    }
   ],
   "source": [
    "df.columns"
   ]
  },
  {
   "cell_type": "code",
   "execution_count": 7,
   "metadata": {},
   "outputs": [],
   "source": [
    "# index 재설정 은 하면 안될거같다.\n",
    "# df.set_index('year', inplace=True)"
   ]
  },
  {
   "cell_type": "code",
   "execution_count": 8,
   "metadata": {},
   "outputs": [
    {
     "data": {
      "text/html": [
       "<div>\n",
       "<style scoped>\n",
       "    .dataframe tbody tr th:only-of-type {\n",
       "        vertical-align: middle;\n",
       "    }\n",
       "\n",
       "    .dataframe tbody tr th {\n",
       "        vertical-align: top;\n",
       "    }\n",
       "\n",
       "    .dataframe thead th {\n",
       "        text-align: right;\n",
       "    }\n",
       "</style>\n",
       "<table border=\"1\" class=\"dataframe\">\n",
       "  <thead>\n",
       "    <tr style=\"text-align: right;\">\n",
       "      <th></th>\n",
       "      <th>country</th>\n",
       "      <th>year</th>\n",
       "      <th>sex</th>\n",
       "      <th>age</th>\n",
       "      <th>suicides_no</th>\n",
       "      <th>population</th>\n",
       "      <th>suicides/100k pop</th>\n",
       "      <th>HDI_for_year</th>\n",
       "      <th>gdp_for_year_($)</th>\n",
       "      <th>gdp_per_capita_($)</th>\n",
       "      <th>generation</th>\n",
       "    </tr>\n",
       "  </thead>\n",
       "  <tbody>\n",
       "    <tr>\n",
       "      <th>0</th>\n",
       "      <td>Germany</td>\n",
       "      <td>1990</td>\n",
       "      <td>male</td>\n",
       "      <td>75+ years</td>\n",
       "      <td>1516</td>\n",
       "      <td>1717700</td>\n",
       "      <td>88.26</td>\n",
       "      <td>0.801</td>\n",
       "      <td>1,764,967,948,917</td>\n",
       "      <td>23546</td>\n",
       "      <td>G.I. Generation</td>\n",
       "    </tr>\n",
       "    <tr>\n",
       "      <th>1</th>\n",
       "      <td>Germany</td>\n",
       "      <td>1990</td>\n",
       "      <td>male</td>\n",
       "      <td>55-74 years</td>\n",
       "      <td>2406</td>\n",
       "      <td>6593100</td>\n",
       "      <td>36.49</td>\n",
       "      <td>0.801</td>\n",
       "      <td>1,764,967,948,917</td>\n",
       "      <td>23546</td>\n",
       "      <td>G.I. Generation</td>\n",
       "    </tr>\n",
       "    <tr>\n",
       "      <th>2</th>\n",
       "      <td>Germany</td>\n",
       "      <td>1990</td>\n",
       "      <td>male</td>\n",
       "      <td>35-54 years</td>\n",
       "      <td>3302</td>\n",
       "      <td>11127100</td>\n",
       "      <td>29.68</td>\n",
       "      <td>0.801</td>\n",
       "      <td>1,764,967,948,917</td>\n",
       "      <td>23546</td>\n",
       "      <td>Silent</td>\n",
       "    </tr>\n",
       "    <tr>\n",
       "      <th>3</th>\n",
       "      <td>Germany</td>\n",
       "      <td>1990</td>\n",
       "      <td>female</td>\n",
       "      <td>75+ years</td>\n",
       "      <td>1174</td>\n",
       "      <td>3978800</td>\n",
       "      <td>29.51</td>\n",
       "      <td>0.801</td>\n",
       "      <td>1,764,967,948,917</td>\n",
       "      <td>23546</td>\n",
       "      <td>G.I. Generation</td>\n",
       "    </tr>\n",
       "    <tr>\n",
       "      <th>4</th>\n",
       "      <td>Germany</td>\n",
       "      <td>1990</td>\n",
       "      <td>male</td>\n",
       "      <td>25-34 years</td>\n",
       "      <td>1488</td>\n",
       "      <td>6721200</td>\n",
       "      <td>22.14</td>\n",
       "      <td>0.801</td>\n",
       "      <td>1,764,967,948,917</td>\n",
       "      <td>23546</td>\n",
       "      <td>Boomers</td>\n",
       "    </tr>\n",
       "  </tbody>\n",
       "</table>\n",
       "</div>"
      ],
      "text/plain": [
       "   country  year     sex          age  suicides_no  population  \\\n",
       "0  Germany  1990    male    75+ years         1516     1717700   \n",
       "1  Germany  1990    male  55-74 years         2406     6593100   \n",
       "2  Germany  1990    male  35-54 years         3302    11127100   \n",
       "3  Germany  1990  female    75+ years         1174     3978800   \n",
       "4  Germany  1990    male  25-34 years         1488     6721200   \n",
       "\n",
       "   suicides/100k pop  HDI_for_year   gdp_for_year_($)  gdp_per_capita_($)  \\\n",
       "0              88.26         0.801  1,764,967,948,917               23546   \n",
       "1              36.49         0.801  1,764,967,948,917               23546   \n",
       "2              29.68         0.801  1,764,967,948,917               23546   \n",
       "3              29.51         0.801  1,764,967,948,917               23546   \n",
       "4              22.14         0.801  1,764,967,948,917               23546   \n",
       "\n",
       "        generation  \n",
       "0  G.I. Generation  \n",
       "1  G.I. Generation  \n",
       "2           Silent  \n",
       "3  G.I. Generation  \n",
       "4          Boomers  "
      ]
     },
     "execution_count": 8,
     "metadata": {},
     "output_type": "execute_result"
    }
   ],
   "source": [
    "df.head()"
   ]
  },
  {
   "cell_type": "code",
   "execution_count": 9,
   "metadata": {},
   "outputs": [],
   "source": [
    "# 나라별로 split\n",
    "GerDF = df[df['country'] == 'Germany']\n",
    "JapDF = df[df['country'] == 'Japan']\n",
    "KorDF = df[df['country'] == 'Republic of Korea']"
   ]
  },
  {
   "cell_type": "code",
   "execution_count": 10,
   "metadata": {},
   "outputs": [
    {
     "data": {
      "text/html": [
       "<div>\n",
       "<style scoped>\n",
       "    .dataframe tbody tr th:only-of-type {\n",
       "        vertical-align: middle;\n",
       "    }\n",
       "\n",
       "    .dataframe tbody tr th {\n",
       "        vertical-align: top;\n",
       "    }\n",
       "\n",
       "    .dataframe thead th {\n",
       "        text-align: right;\n",
       "    }\n",
       "</style>\n",
       "<table border=\"1\" class=\"dataframe\">\n",
       "  <thead>\n",
       "    <tr style=\"text-align: right;\">\n",
       "      <th></th>\n",
       "      <th>country</th>\n",
       "      <th>year</th>\n",
       "      <th>sex</th>\n",
       "      <th>age</th>\n",
       "      <th>suicides_no</th>\n",
       "      <th>population</th>\n",
       "      <th>suicides/100k pop</th>\n",
       "      <th>HDI_for_year</th>\n",
       "      <th>gdp_for_year_($)</th>\n",
       "      <th>gdp_per_capita_($)</th>\n",
       "      <th>generation</th>\n",
       "    </tr>\n",
       "  </thead>\n",
       "  <tbody>\n",
       "    <tr>\n",
       "      <th>0</th>\n",
       "      <td>Germany</td>\n",
       "      <td>1990</td>\n",
       "      <td>male</td>\n",
       "      <td>75+ years</td>\n",
       "      <td>1516</td>\n",
       "      <td>1717700</td>\n",
       "      <td>88.26</td>\n",
       "      <td>0.801</td>\n",
       "      <td>1,764,967,948,917</td>\n",
       "      <td>23546</td>\n",
       "      <td>G.I. Generation</td>\n",
       "    </tr>\n",
       "    <tr>\n",
       "      <th>1</th>\n",
       "      <td>Germany</td>\n",
       "      <td>1990</td>\n",
       "      <td>male</td>\n",
       "      <td>55-74 years</td>\n",
       "      <td>2406</td>\n",
       "      <td>6593100</td>\n",
       "      <td>36.49</td>\n",
       "      <td>0.801</td>\n",
       "      <td>1,764,967,948,917</td>\n",
       "      <td>23546</td>\n",
       "      <td>G.I. Generation</td>\n",
       "    </tr>\n",
       "    <tr>\n",
       "      <th>2</th>\n",
       "      <td>Germany</td>\n",
       "      <td>1990</td>\n",
       "      <td>male</td>\n",
       "      <td>35-54 years</td>\n",
       "      <td>3302</td>\n",
       "      <td>11127100</td>\n",
       "      <td>29.68</td>\n",
       "      <td>0.801</td>\n",
       "      <td>1,764,967,948,917</td>\n",
       "      <td>23546</td>\n",
       "      <td>Silent</td>\n",
       "    </tr>\n",
       "    <tr>\n",
       "      <th>3</th>\n",
       "      <td>Germany</td>\n",
       "      <td>1990</td>\n",
       "      <td>female</td>\n",
       "      <td>75+ years</td>\n",
       "      <td>1174</td>\n",
       "      <td>3978800</td>\n",
       "      <td>29.51</td>\n",
       "      <td>0.801</td>\n",
       "      <td>1,764,967,948,917</td>\n",
       "      <td>23546</td>\n",
       "      <td>G.I. Generation</td>\n",
       "    </tr>\n",
       "    <tr>\n",
       "      <th>4</th>\n",
       "      <td>Germany</td>\n",
       "      <td>1990</td>\n",
       "      <td>male</td>\n",
       "      <td>25-34 years</td>\n",
       "      <td>1488</td>\n",
       "      <td>6721200</td>\n",
       "      <td>22.14</td>\n",
       "      <td>0.801</td>\n",
       "      <td>1,764,967,948,917</td>\n",
       "      <td>23546</td>\n",
       "      <td>Boomers</td>\n",
       "    </tr>\n",
       "  </tbody>\n",
       "</table>\n",
       "</div>"
      ],
      "text/plain": [
       "   country  year     sex          age  suicides_no  population  \\\n",
       "0  Germany  1990    male    75+ years         1516     1717700   \n",
       "1  Germany  1990    male  55-74 years         2406     6593100   \n",
       "2  Germany  1990    male  35-54 years         3302    11127100   \n",
       "3  Germany  1990  female    75+ years         1174     3978800   \n",
       "4  Germany  1990    male  25-34 years         1488     6721200   \n",
       "\n",
       "   suicides/100k pop  HDI_for_year   gdp_for_year_($)  gdp_per_capita_($)  \\\n",
       "0              88.26         0.801  1,764,967,948,917               23546   \n",
       "1              36.49         0.801  1,764,967,948,917               23546   \n",
       "2              29.68         0.801  1,764,967,948,917               23546   \n",
       "3              29.51         0.801  1,764,967,948,917               23546   \n",
       "4              22.14         0.801  1,764,967,948,917               23546   \n",
       "\n",
       "        generation  \n",
       "0  G.I. Generation  \n",
       "1  G.I. Generation  \n",
       "2           Silent  \n",
       "3  G.I. Generation  \n",
       "4          Boomers  "
      ]
     },
     "execution_count": 10,
     "metadata": {},
     "output_type": "execute_result"
    }
   ],
   "source": [
    "GerDF.head()"
   ]
  },
  {
   "cell_type": "markdown",
   "metadata": {},
   "source": [
    "split을 괜히했나 싶기도 하고"
   ]
  },
  {
   "cell_type": "code",
   "execution_count": 11,
   "metadata": {},
   "outputs": [
    {
     "data": {
      "text/html": [
       "<div>\n",
       "<style scoped>\n",
       "    .dataframe tbody tr th:only-of-type {\n",
       "        vertical-align: middle;\n",
       "    }\n",
       "\n",
       "    .dataframe tbody tr th {\n",
       "        vertical-align: top;\n",
       "    }\n",
       "\n",
       "    .dataframe thead th {\n",
       "        text-align: right;\n",
       "    }\n",
       "</style>\n",
       "<table border=\"1\" class=\"dataframe\">\n",
       "  <thead>\n",
       "    <tr style=\"text-align: right;\">\n",
       "      <th></th>\n",
       "      <th>suicides_no</th>\n",
       "      <th>population</th>\n",
       "      <th>suicides/100k pop</th>\n",
       "      <th>HDI_for_year</th>\n",
       "      <th>gdp_per_capita_($)</th>\n",
       "    </tr>\n",
       "  </thead>\n",
       "  <tbody>\n",
       "    <tr>\n",
       "      <th>suicides_no</th>\n",
       "      <td>1.000000</td>\n",
       "      <td>0.696447</td>\n",
       "      <td>0.387184</td>\n",
       "      <td>0.151740</td>\n",
       "      <td>0.268703</td>\n",
       "    </tr>\n",
       "    <tr>\n",
       "      <th>population</th>\n",
       "      <td>0.696447</td>\n",
       "      <td>1.000000</td>\n",
       "      <td>-0.111540</td>\n",
       "      <td>0.200411</td>\n",
       "      <td>0.430052</td>\n",
       "    </tr>\n",
       "    <tr>\n",
       "      <th>suicides/100k pop</th>\n",
       "      <td>0.387184</td>\n",
       "      <td>-0.111540</td>\n",
       "      <td>1.000000</td>\n",
       "      <td>0.072377</td>\n",
       "      <td>-0.035444</td>\n",
       "    </tr>\n",
       "    <tr>\n",
       "      <th>HDI_for_year</th>\n",
       "      <td>0.151740</td>\n",
       "      <td>0.200411</td>\n",
       "      <td>0.072377</td>\n",
       "      <td>1.000000</td>\n",
       "      <td>0.798088</td>\n",
       "    </tr>\n",
       "    <tr>\n",
       "      <th>gdp_per_capita_($)</th>\n",
       "      <td>0.268703</td>\n",
       "      <td>0.430052</td>\n",
       "      <td>-0.035444</td>\n",
       "      <td>0.798088</td>\n",
       "      <td>1.000000</td>\n",
       "    </tr>\n",
       "  </tbody>\n",
       "</table>\n",
       "</div>"
      ],
      "text/plain": [
       "                    suicides_no  population  suicides/100k pop  HDI_for_year  \\\n",
       "suicides_no            1.000000    0.696447           0.387184      0.151740   \n",
       "population             0.696447    1.000000          -0.111540      0.200411   \n",
       "suicides/100k pop      0.387184   -0.111540           1.000000      0.072377   \n",
       "HDI_for_year           0.151740    0.200411           0.072377      1.000000   \n",
       "gdp_per_capita_($)     0.268703    0.430052          -0.035444      0.798088   \n",
       "\n",
       "                    gdp_per_capita_($)  \n",
       "suicides_no                   0.268703  \n",
       "population                    0.430052  \n",
       "suicides/100k pop            -0.035444  \n",
       "HDI_for_year                  0.798088  \n",
       "gdp_per_capita_($)            1.000000  "
      ]
     },
     "execution_count": 11,
     "metadata": {},
     "output_type": "execute_result"
    }
   ],
   "source": [
    "corrList = ['suicides_no', 'population', 'suicides/100k pop', 'HDI_for_year', 'gdp_per_capita_($)']\n",
    "df[corrList].corr()"
   ]
  },
  {
   "cell_type": "code",
   "execution_count": 12,
   "metadata": {},
   "outputs": [
    {
     "data": {
      "image/png": "[encoded data removed]",
      "text/plain": [
       "<Figure size 432x288 with 2 Axes>"
      ]
     },
     "metadata": {
      "needs_background": "light"
     },
     "output_type": "display_data"
    }
   ],
   "source": [
    "fig = sns.heatmap(data = df[corrList].corr(), annot = True, fmt='.3f', cmap='Blues')\n",
    "fig.set_xticklabels(fig.get_xticklabels(), rotation=45)\n",
    "plt.title('<Correlation of variables>')\n",
    "plt.show()"
   ]
  },
  {
   "cell_type": "markdown",
   "metadata": {},
   "source": [
    "***연도별 자살률 확인해야한다***"
   ]
  },
  {
   "cell_type": "code",
   "execution_count": 13,
   "metadata": {},
   "outputs": [
    {
     "data": {
      "text/plain": [
       "684     1985\n",
       "685     1985\n",
       "686     1985\n",
       "687     1985\n",
       "688     1985\n",
       "        ... \n",
       "1051    2015\n",
       "1052    2015\n",
       "1053    2015\n",
       "1054    2015\n",
       "1055    2015\n",
       "Name: year, Length: 372, dtype: int64"
      ]
     },
     "execution_count": 13,
     "metadata": {},
     "output_type": "execute_result"
    }
   ],
   "source": [
    "KorDF['year']"
   ]
  },
  {
   "cell_type": "code",
   "execution_count": 14,
   "metadata": {},
   "outputs": [
    {
     "data": {
      "text/plain": [
       "<matplotlib.axes._subplots.AxesSubplot at 0x215d957f780>"
      ]
     },
     "execution_count": 14,
     "metadata": {},
     "output_type": "execute_result"
    },
    {
     "data": {
      "image/png": "[encoded data removed]",
      "text/plain": [
       "<Figure size 432x288 with 1 Axes>"
      ]
     },
     "metadata": {
      "needs_background": "light"
     },
     "output_type": "display_data"
    }
   ],
   "source": [
    "sns.regplot(x=KorDF['year'], y=KorDF['suicides_no'], fit_reg=True)"
   ]
  },
  {
   "cell_type": "code",
   "execution_count": 15,
   "metadata": {},
   "outputs": [
    {
     "data": {
      "text/plain": [
       "<matplotlib.axes._subplots.AxesSubplot at 0x215d964c438>"
      ]
     },
     "execution_count": 15,
     "metadata": {},
     "output_type": "execute_result"
    },
    {
     "data": {
      "image/png": "[encoded data removed]",
      "text/plain": [
       "<Figure size 432x288 with 1 Axes>"
      ]
     },
     "metadata": {
      "needs_background": "light"
     },
     "output_type": "display_data"
    }
   ],
   "source": [
    "sns.regplot(x=df['population'], y=df['suicides_no'], fit_reg=True)"
   ]
  },
  {
   "cell_type": "code",
   "execution_count": 16,
   "metadata": {},
   "outputs": [
    {
     "data": {
      "text/plain": [
       "<bound method NDFrame.describe of 0       1990\n",
       "1       1990\n",
       "2       1990\n",
       "3       1990\n",
       "4       1990\n",
       "        ... \n",
       "1051    2015\n",
       "1052    2015\n",
       "1053    2015\n",
       "1054    2015\n",
       "1055    2015\n",
       "Name: year, Length: 1056, dtype: int64>"
      ]
     },
     "execution_count": 16,
     "metadata": {},
     "output_type": "execute_result"
    }
   ],
   "source": [
    "df['year'].describe # int형이네"
   ]
  },
  {
   "cell_type": "code",
   "execution_count": 17,
   "metadata": {},
   "outputs": [],
   "source": [
    "df['year'] = df['year'].astype('string')"
   ]
  },
  {
   "cell_type": "code",
   "execution_count": 18,
   "metadata": {},
   "outputs": [
    {
     "data": {
      "text/plain": [
       "count     1056\n",
       "unique      31\n",
       "top       2008\n",
       "freq        36\n",
       "Name: year, dtype: object"
      ]
     },
     "execution_count": 18,
     "metadata": {},
     "output_type": "execute_result"
    }
   ],
   "source": [
    "df['year'].describe()"
   ]
  },
  {
   "cell_type": "code",
   "execution_count": 19,
   "metadata": {},
   "outputs": [
    {
     "data": {
      "image/png": "[encoded data removed]",
      "text/plain": [
       "<Figure size 432x288 with 1 Axes>"
      ]
     },
     "metadata": {
      "needs_background": "light"
     },
     "output_type": "display_data"
    }
   ],
   "source": [
    "sns.barplot(x=df['year'], y=df['suicides_no'])\n",
    "plt.xticks(rotation=90)\n",
    "plt.tight_layout()\n",
    "plt.show()"
   ]
  },
  {
   "cell_type": "markdown",
   "metadata": {},
   "source": [
    "***1998~2011년 까지가 높음. 증가하는 추세?***\n",
    "\n",
    "<br>\n",
    "\n",
    "***2011년 이후론 감소하는 추세***"
   ]
  },
  {
   "cell_type": "code",
   "execution_count": 27,
   "metadata": {},
   "outputs": [
    {
     "data": {
      "image/png": "[encoded data removed]",
      "text/plain": [
       "<Figure size 1080x360 with 3 Axes>"
      ]
     },
     "metadata": {
      "needs_background": "light"
     },
     "output_type": "display_data"
    }
   ],
   "source": [
    "# 나라별로 찢어보자.\n",
    "# 1행3열.\n",
    "# sns.catplot 써서 찢어서 내놓을 수 있다고 한다.\n",
    "allCountry = sns.catplot(kind='bar', data=df, x='year', y='suicides_no', \n",
    "                         col='country', col_wrap=3)\n",
    "allCountry.set_xticklabels(rotation=90) # 모든 그래프 xlabel 회전\n",
    "# plt.xticks(rotation=90) # 이거로 하면 마지막 xlabel만 회전한다.\n",
    "plt.show()"
   ]
  },
  {
   "cell_type": "markdown",
   "metadata": {},
   "source": [
    "- 독일은 꾸준히 감소하는 추세. \n",
    "- 일본은 1997년 $\\rightarrow$ 1998년 동안 갑작스레 자살률이 많이 증가했음.\n",
    "    - 2009년까지 비슷한 수준으로 유지되고 있음.\n",
    "    - 2010년부턴 자살률이 조금씩 줄어드는 것으로 보임.\n",
    "- 한국도 일본과 마찬가지로 1997년 $\\rightarrow$ 1998년에 자살률이 큰폭으로 증가했음.\n",
    "    - 2011년까지 꾸준히 증가하는 추세.\n",
    "    - 2012년에 감소, 약간 감소하는 추세를 보임."
   ]
  },
  {
   "cell_type": "markdown",
   "metadata": {},
   "source": [
    " \n",
    "**일본, 한국은 왜 1998년에 자살률이 갑자기 증가했을까?**\n",
    "\n",
    "<br>\n",
    "\n",
    "- **IMF 외환위기**. 1997년 12월에 발발.  "
   ]
  },
  {
   "cell_type": "code",
   "execution_count": 23,
   "metadata": {},
   "outputs": [
    {
     "data": {
      "image/png": "[encoded data removed]",
      "text/plain": [
       "<Figure size 432x288 with 1 Axes>"
      ]
     },
     "metadata": {
      "needs_background": "light"
     },
     "output_type": "display_data"
    }
   ],
   "source": [
    "sns.barplot(x=df['age'], y=df['suicides_no'])\n",
    "plt.show()"
   ]
  },
  {
   "cell_type": "markdown",
   "metadata": {},
   "source": [
    "***35-54, 55-74세 자살수가 많음.***"
   ]
  },
  {
   "cell_type": "code",
   "execution_count": null,
   "metadata": {},
   "outputs": [],
   "source": []
  },
  {
   "cell_type": "code",
   "execution_count": 37,
   "metadata": {},
   "outputs": [
    {
     "data": {
      "image/png": "[encoded data removed]",
      "text/plain": [
       "<Figure size 432x288 with 1 Axes>"
      ]
     },
     "metadata": {},
     "output_type": "display_data"
    }
   ],
   "source": [
    "sns.barplot(x=df['sex'], y=df['suicides_no'])\n",
    "plt.tight_layout()\n",
    "plt.show()"
   ]
  },
  {
   "cell_type": "markdown",
   "metadata": {},
   "source": [
    "suicides_no에 큰 영향을 미치는건 population. 인구수."
   ]
  },
  {
   "cell_type": "code",
   "execution_count": 38,
   "metadata": {},
   "outputs": [],
   "source": [
    "import statsmodels.api as sm"
   ]
  },
  {
   "cell_type": "code",
   "execution_count": 39,
   "metadata": {},
   "outputs": [
    {
     "data": {
      "text/plain": [
       "0       1516\n",
       "1       2406\n",
       "2       3302\n",
       "3       1174\n",
       "4       1488\n",
       "        ... \n",
       "1051    1372\n",
       "1052     421\n",
       "1053     256\n",
       "1054      17\n",
       "1055      14\n",
       "Name: suicides_no, Length: 1056, dtype: int64"
      ]
     },
     "execution_count": 39,
     "metadata": {},
     "output_type": "execute_result"
    }
   ],
   "source": [
    "df['suicides_no']"
   ]
  },
  {
   "cell_type": "code",
   "execution_count": 41,
   "metadata": {},
   "outputs": [
    {
     "data": {
      "text/html": [
       "<div>\n",
       "<style scoped>\n",
       "    .dataframe tbody tr th:only-of-type {\n",
       "        vertical-align: middle;\n",
       "    }\n",
       "\n",
       "    .dataframe tbody tr th {\n",
       "        vertical-align: top;\n",
       "    }\n",
       "\n",
       "    .dataframe thead th {\n",
       "        text-align: right;\n",
       "    }\n",
       "</style>\n",
       "<table border=\"1\" class=\"dataframe\">\n",
       "  <thead>\n",
       "    <tr style=\"text-align: right;\">\n",
       "      <th></th>\n",
       "      <th>suicides_no</th>\n",
       "    </tr>\n",
       "  </thead>\n",
       "  <tbody>\n",
       "    <tr>\n",
       "      <th>0</th>\n",
       "      <td>1516</td>\n",
       "    </tr>\n",
       "    <tr>\n",
       "      <th>1</th>\n",
       "      <td>2406</td>\n",
       "    </tr>\n",
       "    <tr>\n",
       "      <th>2</th>\n",
       "      <td>3302</td>\n",
       "    </tr>\n",
       "    <tr>\n",
       "      <th>3</th>\n",
       "      <td>1174</td>\n",
       "    </tr>\n",
       "    <tr>\n",
       "      <th>4</th>\n",
       "      <td>1488</td>\n",
       "    </tr>\n",
       "    <tr>\n",
       "      <th>...</th>\n",
       "      <td>...</td>\n",
       "    </tr>\n",
       "    <tr>\n",
       "      <th>1051</th>\n",
       "      <td>1372</td>\n",
       "    </tr>\n",
       "    <tr>\n",
       "      <th>1052</th>\n",
       "      <td>421</td>\n",
       "    </tr>\n",
       "    <tr>\n",
       "      <th>1053</th>\n",
       "      <td>256</td>\n",
       "    </tr>\n",
       "    <tr>\n",
       "      <th>1054</th>\n",
       "      <td>17</td>\n",
       "    </tr>\n",
       "    <tr>\n",
       "      <th>1055</th>\n",
       "      <td>14</td>\n",
       "    </tr>\n",
       "  </tbody>\n",
       "</table>\n",
       "<p>1056 rows × 1 columns</p>\n",
       "</div>"
      ],
      "text/plain": [
       "      suicides_no\n",
       "0            1516\n",
       "1            2406\n",
       "2            3302\n",
       "3            1174\n",
       "4            1488\n",
       "...           ...\n",
       "1051         1372\n",
       "1052          421\n",
       "1053          256\n",
       "1054           17\n",
       "1055           14\n",
       "\n",
       "[1056 rows x 1 columns]"
      ]
     },
     "execution_count": 41,
     "metadata": {},
     "output_type": "execute_result"
    }
   ],
   "source": [
    "df[['suicides_no']]"
   ]
  },
  {
   "cell_type": "code",
   "execution_count": 42,
   "metadata": {},
   "outputs": [],
   "source": [
    "target = df[['suicides_no']]\n",
    "x = df[['population']]"
   ]
  },
  {
   "cell_type": "code",
   "execution_count": 43,
   "metadata": {},
   "outputs": [],
   "source": [
    "model = sm.OLS(target, x)\n",
    "result = model.fit()"
   ]
  },
  {
   "cell_type": "code",
   "execution_count": 44,
   "metadata": {},
   "outputs": [
    {
     "data": {
      "text/html": [
       "<table class=\"simpletable\">\n",
       "<caption>OLS Regression Results</caption>\n",
       "<tr>\n",
       "  <th>Dep. Variable:</th>       <td>suicides_no</td>   <th>  R-squared (uncentered):</th>      <td>   0.675</td> \n",
       "</tr>\n",
       "<tr>\n",
       "  <th>Model:</th>                   <td>OLS</td>       <th>  Adj. R-squared (uncentered):</th> <td>   0.675</td> \n",
       "</tr>\n",
       "<tr>\n",
       "  <th>Method:</th>             <td>Least Squares</td>  <th>  F-statistic:       </th>          <td>   2191.</td> \n",
       "</tr>\n",
       "<tr>\n",
       "  <th>Date:</th>             <td>Tue, 06 Jul 2021</td> <th>  Prob (F-statistic):</th>          <td>9.76e-260</td>\n",
       "</tr>\n",
       "<tr>\n",
       "  <th>Time:</th>                 <td>17:21:23</td>     <th>  Log-Likelihood:    </th>          <td> -8959.9</td> \n",
       "</tr>\n",
       "<tr>\n",
       "  <th>No. Observations:</th>      <td>  1056</td>      <th>  AIC:               </th>          <td>1.792e+04</td>\n",
       "</tr>\n",
       "<tr>\n",
       "  <th>Df Residuals:</th>          <td>  1055</td>      <th>  BIC:               </th>          <td>1.793e+04</td>\n",
       "</tr>\n",
       "<tr>\n",
       "  <th>Df Model:</th>              <td>     1</td>      <th>                     </th>              <td> </td>    \n",
       "</tr>\n",
       "<tr>\n",
       "  <th>Covariance Type:</th>      <td>nonrobust</td>    <th>                     </th>              <td> </td>    \n",
       "</tr>\n",
       "</table>\n",
       "<table class=\"simpletable\">\n",
       "<tr>\n",
       "       <td></td>         <th>coef</th>     <th>std err</th>      <th>t</th>      <th>P>|t|</th>  <th>[0.025</th>    <th>0.975]</th>  \n",
       "</tr>\n",
       "<tr>\n",
       "  <th>population</th> <td>    0.0002</td> <td> 4.51e-06</td> <td>   46.810</td> <td> 0.000</td> <td>    0.000</td> <td>    0.000</td>\n",
       "</tr>\n",
       "</table>\n",
       "<table class=\"simpletable\">\n",
       "<tr>\n",
       "  <th>Omnibus:</th>       <td>422.213</td> <th>  Durbin-Watson:     </th> <td>   0.856</td>\n",
       "</tr>\n",
       "<tr>\n",
       "  <th>Prob(Omnibus):</th> <td> 0.000</td>  <th>  Jarque-Bera (JB):  </th> <td>1760.330</td>\n",
       "</tr>\n",
       "<tr>\n",
       "  <th>Skew:</th>          <td> 1.884</td>  <th>  Prob(JB):          </th> <td>    0.00</td>\n",
       "</tr>\n",
       "<tr>\n",
       "  <th>Kurtosis:</th>      <td> 8.080</td>  <th>  Cond. No.          </th> <td>    1.00</td>\n",
       "</tr>\n",
       "</table><br/><br/>Notes:<br/>[1] R² is computed without centering (uncentered) since the model does not contain a constant.<br/>[2] Standard Errors assume that the covariance matrix of the errors is correctly specified."
      ],
      "text/plain": [
       "<class 'statsmodels.iolib.summary.Summary'>\n",
       "\"\"\"\n",
       "                                 OLS Regression Results                                \n",
       "=======================================================================================\n",
       "Dep. Variable:            suicides_no   R-squared (uncentered):                   0.675\n",
       "Model:                            OLS   Adj. R-squared (uncentered):              0.675\n",
       "Method:                 Least Squares   F-statistic:                              2191.\n",
       "Date:                Tue, 06 Jul 2021   Prob (F-statistic):                   9.76e-260\n",
       "Time:                        17:21:23   Log-Likelihood:                         -8959.9\n",
       "No. Observations:                1056   AIC:                                  1.792e+04\n",
       "Df Residuals:                    1055   BIC:                                  1.793e+04\n",
       "Df Model:                           1                                                  \n",
       "Covariance Type:            nonrobust                                                  \n",
       "==============================================================================\n",
       "                 coef    std err          t      P>|t|      [0.025      0.975]\n",
       "------------------------------------------------------------------------------\n",
       "population     0.0002   4.51e-06     46.810      0.000       0.000       0.000\n",
       "==============================================================================\n",
       "Omnibus:                      422.213   Durbin-Watson:                   0.856\n",
       "Prob(Omnibus):                  0.000   Jarque-Bera (JB):             1760.330\n",
       "Skew:                           1.884   Prob(JB):                         0.00\n",
       "Kurtosis:                       8.080   Cond. No.                         1.00\n",
       "==============================================================================\n",
       "\n",
       "Notes:\n",
       "[1] R² is computed without centering (uncentered) since the model does not contain a constant.\n",
       "[2] Standard Errors assume that the covariance matrix of the errors is correctly specified.\n",
       "\"\"\""
      ]
     },
     "execution_count": 44,
     "metadata": {},
     "output_type": "execute_result"
    }
   ],
   "source": [
    "result.summary()"
   ]
  },
  {
   "cell_type": "code",
   "execution_count": null,
   "metadata": {},
   "outputs": [],
   "source": []
  }
 ],
 "metadata": {
  "kernelspec": {
   "display_name": "Python 3",
   "language": "python",
   "name": "python3"
  },
  "language_info": {
   "codemirror_mode": {
    "name": "ipython",
    "version": 3
   },
   "file_extension": ".py",
   "mimetype": "text/x-python",
   "name": "python",
   "nbconvert_exporter": "python",
   "pygments_lexer": "ipython3",
   "version": "3.7.1"
  }
 },
 "nbformat": 4,
 "nbformat_minor": 5
}

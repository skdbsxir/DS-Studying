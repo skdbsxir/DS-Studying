{
 "cells": [
  {
   "cell_type": "markdown",
   "id": "43ea915f",
   "metadata": {},
   "source": [
    "**시계열 자료.**\n",
    "\n",
    "<br>\n",
    "\n",
    "## Todo List (큰 주제로 보면)\n",
    "\n",
    "<br>\n",
    "\n",
    "- 연도별 추세 확인? 시각화로. --> X001-2 에서 진행해봄.\n",
    "- 연도별 자살률 확인?\n",
    "    - 이 자살률을 나이/세대/성별 로 구분해서 시각화."
   ]
  },
  {
   "cell_type": "code",
   "execution_count": 44,
   "id": "1bb052c1",
   "metadata": {},
   "outputs": [],
   "source": [
    "import numpy as np\n",
    "import pandas as pd\n",
    "import warnings\n",
    "import matplotlib.pyplot as plt\n",
    "import seaborn as sns\n",
    "\n",
    "%matplotlib inline\n",
    "warnings.filterwarnings('ignore')\n",
    "\n",
    "plt.style.use('ggplot')"
   ]
  },
  {
   "cell_type": "code",
   "execution_count": 45,
   "id": "60346bd1",
   "metadata": {},
   "outputs": [],
   "source": [
    "# data loading\n",
    "df = pd.read_csv('C:\\\\Users\\\\user\\\\Desktop\\\\todoData\\\\fixed_suicide_3.csv')"
   ]
  },
  {
   "cell_type": "code",
   "execution_count": 46,
   "id": "117ee18b",
   "metadata": {},
   "outputs": [
    {
     "data": {
      "text/html": [
       "<div>\n",
       "<style scoped>\n",
       "    .dataframe tbody tr th:only-of-type {\n",
       "        vertical-align: middle;\n",
       "    }\n",
       "\n",
       "    .dataframe tbody tr th {\n",
       "        vertical-align: top;\n",
       "    }\n",
       "\n",
       "    .dataframe thead th {\n",
       "        text-align: right;\n",
       "    }\n",
       "</style>\n",
       "<table border=\"1\" class=\"dataframe\">\n",
       "  <thead>\n",
       "    <tr style=\"text-align: right;\">\n",
       "      <th></th>\n",
       "      <th>Unnamed: 0</th>\n",
       "      <th>country</th>\n",
       "      <th>year</th>\n",
       "      <th>sex</th>\n",
       "      <th>age</th>\n",
       "      <th>suicides_no</th>\n",
       "      <th>population</th>\n",
       "      <th>suicides/100k pop</th>\n",
       "      <th>country-year</th>\n",
       "      <th>HDI_for_year</th>\n",
       "      <th>gdp_for_year_($)</th>\n",
       "      <th>gdp_per_capita_($)</th>\n",
       "      <th>generation</th>\n",
       "    </tr>\n",
       "  </thead>\n",
       "  <tbody>\n",
       "    <tr>\n",
       "      <th>0</th>\n",
       "      <td>0</td>\n",
       "      <td>Germany</td>\n",
       "      <td>1990</td>\n",
       "      <td>male</td>\n",
       "      <td>75+ years</td>\n",
       "      <td>1516</td>\n",
       "      <td>1717700</td>\n",
       "      <td>88.26</td>\n",
       "      <td>Germany1990</td>\n",
       "      <td>0.801</td>\n",
       "      <td>1,764,967,948,917</td>\n",
       "      <td>23546</td>\n",
       "      <td>G.I. Generation</td>\n",
       "    </tr>\n",
       "    <tr>\n",
       "      <th>1</th>\n",
       "      <td>1</td>\n",
       "      <td>Germany</td>\n",
       "      <td>1990</td>\n",
       "      <td>male</td>\n",
       "      <td>55-74 years</td>\n",
       "      <td>2406</td>\n",
       "      <td>6593100</td>\n",
       "      <td>36.49</td>\n",
       "      <td>Germany1990</td>\n",
       "      <td>0.801</td>\n",
       "      <td>1,764,967,948,917</td>\n",
       "      <td>23546</td>\n",
       "      <td>G.I. Generation</td>\n",
       "    </tr>\n",
       "    <tr>\n",
       "      <th>2</th>\n",
       "      <td>2</td>\n",
       "      <td>Germany</td>\n",
       "      <td>1990</td>\n",
       "      <td>male</td>\n",
       "      <td>35-54 years</td>\n",
       "      <td>3302</td>\n",
       "      <td>11127100</td>\n",
       "      <td>29.68</td>\n",
       "      <td>Germany1990</td>\n",
       "      <td>0.801</td>\n",
       "      <td>1,764,967,948,917</td>\n",
       "      <td>23546</td>\n",
       "      <td>Silent</td>\n",
       "    </tr>\n",
       "    <tr>\n",
       "      <th>3</th>\n",
       "      <td>3</td>\n",
       "      <td>Germany</td>\n",
       "      <td>1990</td>\n",
       "      <td>female</td>\n",
       "      <td>75+ years</td>\n",
       "      <td>1174</td>\n",
       "      <td>3978800</td>\n",
       "      <td>29.51</td>\n",
       "      <td>Germany1990</td>\n",
       "      <td>0.801</td>\n",
       "      <td>1,764,967,948,917</td>\n",
       "      <td>23546</td>\n",
       "      <td>G.I. Generation</td>\n",
       "    </tr>\n",
       "    <tr>\n",
       "      <th>4</th>\n",
       "      <td>4</td>\n",
       "      <td>Germany</td>\n",
       "      <td>1990</td>\n",
       "      <td>male</td>\n",
       "      <td>25-34 years</td>\n",
       "      <td>1488</td>\n",
       "      <td>6721200</td>\n",
       "      <td>22.14</td>\n",
       "      <td>Germany1990</td>\n",
       "      <td>0.801</td>\n",
       "      <td>1,764,967,948,917</td>\n",
       "      <td>23546</td>\n",
       "      <td>Boomers</td>\n",
       "    </tr>\n",
       "  </tbody>\n",
       "</table>\n",
       "</div>"
      ],
      "text/plain": [
       "   Unnamed: 0  country  year     sex          age  suicides_no  population  \\\n",
       "0           0  Germany  1990    male    75+ years         1516     1717700   \n",
       "1           1  Germany  1990    male  55-74 years         2406     6593100   \n",
       "2           2  Germany  1990    male  35-54 years         3302    11127100   \n",
       "3           3  Germany  1990  female    75+ years         1174     3978800   \n",
       "4           4  Germany  1990    male  25-34 years         1488     6721200   \n",
       "\n",
       "   suicides/100k pop country-year  HDI_for_year   gdp_for_year_($)  \\\n",
       "0              88.26  Germany1990         0.801  1,764,967,948,917   \n",
       "1              36.49  Germany1990         0.801  1,764,967,948,917   \n",
       "2              29.68  Germany1990         0.801  1,764,967,948,917   \n",
       "3              29.51  Germany1990         0.801  1,764,967,948,917   \n",
       "4              22.14  Germany1990         0.801  1,764,967,948,917   \n",
       "\n",
       "   gdp_per_capita_($)       generation  \n",
       "0               23546  G.I. Generation  \n",
       "1               23546  G.I. Generation  \n",
       "2               23546           Silent  \n",
       "3               23546  G.I. Generation  \n",
       "4               23546          Boomers  "
      ]
     },
     "execution_count": 46,
     "metadata": {},
     "output_type": "execute_result"
    }
   ],
   "source": [
    "df.head()"
   ]
  },
  {
   "cell_type": "code",
   "execution_count": 47,
   "id": "afa03d52",
   "metadata": {},
   "outputs": [],
   "source": [
    "# 불필요한 컬럼 삭제\n",
    "dropList = ['Unnamed: 0', 'country-year']\n",
    "df = df.drop(columns=dropList)"
   ]
  },
  {
   "cell_type": "code",
   "execution_count": 48,
   "id": "48d60c1e",
   "metadata": {},
   "outputs": [
    {
     "data": {
      "text/plain": [
       "Index(['country', 'year', 'sex', 'age', 'suicides_no', 'population',\n",
       "       'suicides/100k pop', 'HDI_for_year', 'gdp_for_year_($)',\n",
       "       'gdp_per_capita_($)', 'generation'],\n",
       "      dtype='object')"
      ]
     },
     "execution_count": 48,
     "metadata": {},
     "output_type": "execute_result"
    }
   ],
   "source": [
    "df.columns"
   ]
  },
  {
   "cell_type": "code",
   "execution_count": 49,
   "id": "00479cbc",
   "metadata": {},
   "outputs": [],
   "source": [
    "# index 재설정 은 하면 안될거같다.\n",
    "# df.set_index('year', inplace=True)"
   ]
  },
  {
   "cell_type": "code",
   "execution_count": 50,
   "id": "0fc164d5",
   "metadata": {},
   "outputs": [
    {
     "data": {
      "text/html": [
       "<div>\n",
       "<style scoped>\n",
       "    .dataframe tbody tr th:only-of-type {\n",
       "        vertical-align: middle;\n",
       "    }\n",
       "\n",
       "    .dataframe tbody tr th {\n",
       "        vertical-align: top;\n",
       "    }\n",
       "\n",
       "    .dataframe thead th {\n",
       "        text-align: right;\n",
       "    }\n",
       "</style>\n",
       "<table border=\"1\" class=\"dataframe\">\n",
       "  <thead>\n",
       "    <tr style=\"text-align: right;\">\n",
       "      <th></th>\n",
       "      <th>country</th>\n",
       "      <th>year</th>\n",
       "      <th>sex</th>\n",
       "      <th>age</th>\n",
       "      <th>suicides_no</th>\n",
       "      <th>population</th>\n",
       "      <th>suicides/100k pop</th>\n",
       "      <th>HDI_for_year</th>\n",
       "      <th>gdp_for_year_($)</th>\n",
       "      <th>gdp_per_capita_($)</th>\n",
       "      <th>generation</th>\n",
       "    </tr>\n",
       "  </thead>\n",
       "  <tbody>\n",
       "    <tr>\n",
       "      <th>0</th>\n",
       "      <td>Germany</td>\n",
       "      <td>1990</td>\n",
       "      <td>male</td>\n",
       "      <td>75+ years</td>\n",
       "      <td>1516</td>\n",
       "      <td>1717700</td>\n",
       "      <td>88.26</td>\n",
       "      <td>0.801</td>\n",
       "      <td>1,764,967,948,917</td>\n",
       "      <td>23546</td>\n",
       "      <td>G.I. Generation</td>\n",
       "    </tr>\n",
       "    <tr>\n",
       "      <th>1</th>\n",
       "      <td>Germany</td>\n",
       "      <td>1990</td>\n",
       "      <td>male</td>\n",
       "      <td>55-74 years</td>\n",
       "      <td>2406</td>\n",
       "      <td>6593100</td>\n",
       "      <td>36.49</td>\n",
       "      <td>0.801</td>\n",
       "      <td>1,764,967,948,917</td>\n",
       "      <td>23546</td>\n",
       "      <td>G.I. Generation</td>\n",
       "    </tr>\n",
       "    <tr>\n",
       "      <th>2</th>\n",
       "      <td>Germany</td>\n",
       "      <td>1990</td>\n",
       "      <td>male</td>\n",
       "      <td>35-54 years</td>\n",
       "      <td>3302</td>\n",
       "      <td>11127100</td>\n",
       "      <td>29.68</td>\n",
       "      <td>0.801</td>\n",
       "      <td>1,764,967,948,917</td>\n",
       "      <td>23546</td>\n",
       "      <td>Silent</td>\n",
       "    </tr>\n",
       "    <tr>\n",
       "      <th>3</th>\n",
       "      <td>Germany</td>\n",
       "      <td>1990</td>\n",
       "      <td>female</td>\n",
       "      <td>75+ years</td>\n",
       "      <td>1174</td>\n",
       "      <td>3978800</td>\n",
       "      <td>29.51</td>\n",
       "      <td>0.801</td>\n",
       "      <td>1,764,967,948,917</td>\n",
       "      <td>23546</td>\n",
       "      <td>G.I. Generation</td>\n",
       "    </tr>\n",
       "    <tr>\n",
       "      <th>4</th>\n",
       "      <td>Germany</td>\n",
       "      <td>1990</td>\n",
       "      <td>male</td>\n",
       "      <td>25-34 years</td>\n",
       "      <td>1488</td>\n",
       "      <td>6721200</td>\n",
       "      <td>22.14</td>\n",
       "      <td>0.801</td>\n",
       "      <td>1,764,967,948,917</td>\n",
       "      <td>23546</td>\n",
       "      <td>Boomers</td>\n",
       "    </tr>\n",
       "  </tbody>\n",
       "</table>\n",
       "</div>"
      ],
      "text/plain": [
       "   country  year     sex          age  suicides_no  population  \\\n",
       "0  Germany  1990    male    75+ years         1516     1717700   \n",
       "1  Germany  1990    male  55-74 years         2406     6593100   \n",
       "2  Germany  1990    male  35-54 years         3302    11127100   \n",
       "3  Germany  1990  female    75+ years         1174     3978800   \n",
       "4  Germany  1990    male  25-34 years         1488     6721200   \n",
       "\n",
       "   suicides/100k pop  HDI_for_year   gdp_for_year_($)  gdp_per_capita_($)  \\\n",
       "0              88.26         0.801  1,764,967,948,917               23546   \n",
       "1              36.49         0.801  1,764,967,948,917               23546   \n",
       "2              29.68         0.801  1,764,967,948,917               23546   \n",
       "3              29.51         0.801  1,764,967,948,917               23546   \n",
       "4              22.14         0.801  1,764,967,948,917               23546   \n",
       "\n",
       "        generation  \n",
       "0  G.I. Generation  \n",
       "1  G.I. Generation  \n",
       "2           Silent  \n",
       "3  G.I. Generation  \n",
       "4          Boomers  "
      ]
     },
     "execution_count": 50,
     "metadata": {},
     "output_type": "execute_result"
    }
   ],
   "source": [
    "df.head()"
   ]
  },
  {
   "cell_type": "code",
   "execution_count": 51,
   "id": "5feff5fd",
   "metadata": {},
   "outputs": [],
   "source": [
    "# 나라별로 split\n",
    "GerDF = df[df['country'] == 'Germany']\n",
    "JapDF = df[df['country'] == 'Japan']\n",
    "KorDF = df[df['country'] == 'Republic of Korea']"
   ]
  },
  {
   "cell_type": "code",
   "execution_count": 52,
   "id": "4bbfc629",
   "metadata": {},
   "outputs": [
    {
     "data": {
      "text/html": [
       "<div>\n",
       "<style scoped>\n",
       "    .dataframe tbody tr th:only-of-type {\n",
       "        vertical-align: middle;\n",
       "    }\n",
       "\n",
       "    .dataframe tbody tr th {\n",
       "        vertical-align: top;\n",
       "    }\n",
       "\n",
       "    .dataframe thead th {\n",
       "        text-align: right;\n",
       "    }\n",
       "</style>\n",
       "<table border=\"1\" class=\"dataframe\">\n",
       "  <thead>\n",
       "    <tr style=\"text-align: right;\">\n",
       "      <th></th>\n",
       "      <th>country</th>\n",
       "      <th>year</th>\n",
       "      <th>sex</th>\n",
       "      <th>age</th>\n",
       "      <th>suicides_no</th>\n",
       "      <th>population</th>\n",
       "      <th>suicides/100k pop</th>\n",
       "      <th>HDI_for_year</th>\n",
       "      <th>gdp_for_year_($)</th>\n",
       "      <th>gdp_per_capita_($)</th>\n",
       "      <th>generation</th>\n",
       "    </tr>\n",
       "  </thead>\n",
       "  <tbody>\n",
       "    <tr>\n",
       "      <th>0</th>\n",
       "      <td>Germany</td>\n",
       "      <td>1990</td>\n",
       "      <td>male</td>\n",
       "      <td>75+ years</td>\n",
       "      <td>1516</td>\n",
       "      <td>1717700</td>\n",
       "      <td>88.26</td>\n",
       "      <td>0.801</td>\n",
       "      <td>1,764,967,948,917</td>\n",
       "      <td>23546</td>\n",
       "      <td>G.I. Generation</td>\n",
       "    </tr>\n",
       "    <tr>\n",
       "      <th>1</th>\n",
       "      <td>Germany</td>\n",
       "      <td>1990</td>\n",
       "      <td>male</td>\n",
       "      <td>55-74 years</td>\n",
       "      <td>2406</td>\n",
       "      <td>6593100</td>\n",
       "      <td>36.49</td>\n",
       "      <td>0.801</td>\n",
       "      <td>1,764,967,948,917</td>\n",
       "      <td>23546</td>\n",
       "      <td>G.I. Generation</td>\n",
       "    </tr>\n",
       "    <tr>\n",
       "      <th>2</th>\n",
       "      <td>Germany</td>\n",
       "      <td>1990</td>\n",
       "      <td>male</td>\n",
       "      <td>35-54 years</td>\n",
       "      <td>3302</td>\n",
       "      <td>11127100</td>\n",
       "      <td>29.68</td>\n",
       "      <td>0.801</td>\n",
       "      <td>1,764,967,948,917</td>\n",
       "      <td>23546</td>\n",
       "      <td>Silent</td>\n",
       "    </tr>\n",
       "    <tr>\n",
       "      <th>3</th>\n",
       "      <td>Germany</td>\n",
       "      <td>1990</td>\n",
       "      <td>female</td>\n",
       "      <td>75+ years</td>\n",
       "      <td>1174</td>\n",
       "      <td>3978800</td>\n",
       "      <td>29.51</td>\n",
       "      <td>0.801</td>\n",
       "      <td>1,764,967,948,917</td>\n",
       "      <td>23546</td>\n",
       "      <td>G.I. Generation</td>\n",
       "    </tr>\n",
       "    <tr>\n",
       "      <th>4</th>\n",
       "      <td>Germany</td>\n",
       "      <td>1990</td>\n",
       "      <td>male</td>\n",
       "      <td>25-34 years</td>\n",
       "      <td>1488</td>\n",
       "      <td>6721200</td>\n",
       "      <td>22.14</td>\n",
       "      <td>0.801</td>\n",
       "      <td>1,764,967,948,917</td>\n",
       "      <td>23546</td>\n",
       "      <td>Boomers</td>\n",
       "    </tr>\n",
       "  </tbody>\n",
       "</table>\n",
       "</div>"
      ],
      "text/plain": [
       "   country  year     sex          age  suicides_no  population  \\\n",
       "0  Germany  1990    male    75+ years         1516     1717700   \n",
       "1  Germany  1990    male  55-74 years         2406     6593100   \n",
       "2  Germany  1990    male  35-54 years         3302    11127100   \n",
       "3  Germany  1990  female    75+ years         1174     3978800   \n",
       "4  Germany  1990    male  25-34 years         1488     6721200   \n",
       "\n",
       "   suicides/100k pop  HDI_for_year   gdp_for_year_($)  gdp_per_capita_($)  \\\n",
       "0              88.26         0.801  1,764,967,948,917               23546   \n",
       "1              36.49         0.801  1,764,967,948,917               23546   \n",
       "2              29.68         0.801  1,764,967,948,917               23546   \n",
       "3              29.51         0.801  1,764,967,948,917               23546   \n",
       "4              22.14         0.801  1,764,967,948,917               23546   \n",
       "\n",
       "        generation  \n",
       "0  G.I. Generation  \n",
       "1  G.I. Generation  \n",
       "2           Silent  \n",
       "3  G.I. Generation  \n",
       "4          Boomers  "
      ]
     },
     "execution_count": 52,
     "metadata": {},
     "output_type": "execute_result"
    }
   ],
   "source": [
    "GerDF.head()"
   ]
  },
  {
   "cell_type": "markdown",
   "id": "b55e3eb7",
   "metadata": {},
   "source": [
    "split을 괜히했나 싶기도 하고"
   ]
  },
  {
   "cell_type": "code",
   "execution_count": 56,
   "id": "b0dcfde3",
   "metadata": {},
   "outputs": [
    {
     "data": {
      "text/html": [
       "<div>\n",
       "<style scoped>\n",
       "    .dataframe tbody tr th:only-of-type {\n",
       "        vertical-align: middle;\n",
       "    }\n",
       "\n",
       "    .dataframe tbody tr th {\n",
       "        vertical-align: top;\n",
       "    }\n",
       "\n",
       "    .dataframe thead th {\n",
       "        text-align: right;\n",
       "    }\n",
       "</style>\n",
       "<table border=\"1\" class=\"dataframe\">\n",
       "  <thead>\n",
       "    <tr style=\"text-align: right;\">\n",
       "      <th></th>\n",
       "      <th>suicides_no</th>\n",
       "      <th>population</th>\n",
       "      <th>suicides/100k pop</th>\n",
       "      <th>HDI_for_year</th>\n",
       "      <th>gdp_per_capita_($)</th>\n",
       "    </tr>\n",
       "  </thead>\n",
       "  <tbody>\n",
       "    <tr>\n",
       "      <th>suicides_no</th>\n",
       "      <td>1.000000</td>\n",
       "      <td>0.696447</td>\n",
       "      <td>0.387184</td>\n",
       "      <td>0.151740</td>\n",
       "      <td>0.268703</td>\n",
       "    </tr>\n",
       "    <tr>\n",
       "      <th>population</th>\n",
       "      <td>0.696447</td>\n",
       "      <td>1.000000</td>\n",
       "      <td>-0.111540</td>\n",
       "      <td>0.200411</td>\n",
       "      <td>0.430052</td>\n",
       "    </tr>\n",
       "    <tr>\n",
       "      <th>suicides/100k pop</th>\n",
       "      <td>0.387184</td>\n",
       "      <td>-0.111540</td>\n",
       "      <td>1.000000</td>\n",
       "      <td>0.072377</td>\n",
       "      <td>-0.035444</td>\n",
       "    </tr>\n",
       "    <tr>\n",
       "      <th>HDI_for_year</th>\n",
       "      <td>0.151740</td>\n",
       "      <td>0.200411</td>\n",
       "      <td>0.072377</td>\n",
       "      <td>1.000000</td>\n",
       "      <td>0.798088</td>\n",
       "    </tr>\n",
       "    <tr>\n",
       "      <th>gdp_per_capita_($)</th>\n",
       "      <td>0.268703</td>\n",
       "      <td>0.430052</td>\n",
       "      <td>-0.035444</td>\n",
       "      <td>0.798088</td>\n",
       "      <td>1.000000</td>\n",
       "    </tr>\n",
       "  </tbody>\n",
       "</table>\n",
       "</div>"
      ],
      "text/plain": [
       "                    suicides_no  population  suicides/100k pop  HDI_for_year  \\\n",
       "suicides_no            1.000000    0.696447           0.387184      0.151740   \n",
       "population             0.696447    1.000000          -0.111540      0.200411   \n",
       "suicides/100k pop      0.387184   -0.111540           1.000000      0.072377   \n",
       "HDI_for_year           0.151740    0.200411           0.072377      1.000000   \n",
       "gdp_per_capita_($)     0.268703    0.430052          -0.035444      0.798088   \n",
       "\n",
       "                    gdp_per_capita_($)  \n",
       "suicides_no                   0.268703  \n",
       "population                    0.430052  \n",
       "suicides/100k pop            -0.035444  \n",
       "HDI_for_year                  0.798088  \n",
       "gdp_per_capita_($)            1.000000  "
      ]
     },
     "execution_count": 56,
     "metadata": {},
     "output_type": "execute_result"
    }
   ],
   "source": [
    "corrList = ['suicides_no', 'population', 'suicides/100k pop', 'HDI_for_year', 'gdp_per_capita_($)']\n",
    "df[corrList].corr()"
   ]
  },
  {
   "cell_type": "code",
   "execution_count": 59,
   "id": "639eb0a1",
   "metadata": {},
   "outputs": [
    {
     "data": {
      "image/png": "[encoded data removed]",
      "text/plain": [
       "<Figure size 432x288 with 2 Axes>"
      ]
     },
     "metadata": {},
     "output_type": "display_data"
    }
   ],
   "source": [
    "fig = sns.heatmap(data = df[corrList].corr(), annot = True, fmt='.3f', cmap='Blues')\n",
    "fig.set_xticklabels(fig.get_xticklabels(), rotation=45)\n",
    "plt.title('<Correlation of variables>')\n",
    "plt.show()"
   ]
  },
  {
   "cell_type": "markdown",
   "id": "7d04aefb",
   "metadata": {},
   "source": [
    "***연도별 자살률 확인해야한다***"
   ]
  },
  {
   "cell_type": "code",
   "execution_count": 58,
   "id": "069c6c86",
   "metadata": {},
   "outputs": [
    {
     "data": {
      "text/plain": [
       "684     1985\n",
       "685     1985\n",
       "686     1985\n",
       "687     1985\n",
       "688     1985\n",
       "        ... \n",
       "1051    2015\n",
       "1052    2015\n",
       "1053    2015\n",
       "1054    2015\n",
       "1055    2015\n",
       "Name: year, Length: 372, dtype: int64"
      ]
     },
     "execution_count": 58,
     "metadata": {},
     "output_type": "execute_result"
    }
   ],
   "source": [
    "KorDF['year']"
   ]
  },
  {
   "cell_type": "code",
   "execution_count": 60,
   "id": "9adfee72",
   "metadata": {},
   "outputs": [
    {
     "data": {
      "text/plain": [
       "<AxesSubplot:xlabel='year', ylabel='suicides_no'>"
      ]
     },
     "execution_count": 60,
     "metadata": {},
     "output_type": "execute_result"
    },
    {
     "data": {
      "image/png": "[encoded data removed]",
      "text/plain": [
       "<Figure size 432x288 with 1 Axes>"
      ]
     },
     "metadata": {},
     "output_type": "display_data"
    }
   ],
   "source": [
    "sns.regplot(x=KorDF['year'], y=KorDF['suicides_no'], fit_reg=True)"
   ]
  },
  {
   "cell_type": "code",
   "execution_count": 61,
   "id": "2851ff8a",
   "metadata": {},
   "outputs": [
    {
     "data": {
      "text/plain": [
       "<AxesSubplot:xlabel='population', ylabel='suicides_no'>"
      ]
     },
     "execution_count": 61,
     "metadata": {},
     "output_type": "execute_result"
    },
    {
     "data": {
      "image/png": "[encoded data removed]",
      "text/plain": [
       "<Figure size 432x288 with 1 Axes>"
      ]
     },
     "metadata": {},
     "output_type": "display_data"
    }
   ],
   "source": [
    "sns.regplot(x=df['population'], y=df['suicides_no'], fit_reg=True)"
   ]
  },
  {
   "cell_type": "code",
   "execution_count": null,
   "id": "71e4ea2e",
   "metadata": {},
   "outputs": [],
   "source": []
  }
 ],
 "metadata": {
  "kernelspec": {
   "display_name": "Python 3",
   "language": "python",
   "name": "python3"
  },
  "language_info": {
   "codemirror_mode": {
    "name": "ipython",
    "version": 3
   },
   "file_extension": ".py",
   "mimetype": "text/x-python",
   "name": "python",
   "nbconvert_exporter": "python",
   "pygments_lexer": "ipython3",
   "version": "3.8.8"
  }
 },
 "nbformat": 4,
 "nbformat_minor": 5
}
